{
 "cells": [
  {
   "cell_type": "code",
   "execution_count": 9,
   "metadata": {
    "collapsed": false
   },
   "outputs": [],
   "source": [
    "from pyfaidx import Fasta\n",
    "import numpy as np\n",
    "import pandas as pd\n",
    "import os\n",
    "from random import choice, seed\n",
    "from itertools import izip\n",
    "\n",
    "meta_info = pd.read_table('./metadata_update/Simons_meta_accessionnb_update.txt')\n",
    "#print meta_info.columns.values\n",
    "\n",
    "cteam_id_list = meta_info.loc[meta_info['Gender'] == 'M']['CTeam_ID'].values\n",
    "\n",
    "path = '/home/kmt/simons/faststorage/cteam_lite_public3/FullyPublic/{}.fa'\n",
    "sample_id_list = [x for x in cteam_id_list if os.path.exists(path.format(x)) and x.startswith('S')]\n",
    "\n",
    "# index for all genomes:\n",
    "#samples = dict((x, Fasta(path.format(x))) for x in sample_id_list)\n",
    "\n",
    "chrX_samples = dict()\n",
    "for smpl in sample_id_list:\n",
    "    with open(path.format(x)) as f:\n",
    "        s = f.read()\n",
    "        for entry in s.split('>'):\n",
    "            if not entry: \n",
    "                continue            \n",
    "            header, seq = entry.split('\\n', 1)\n",
    "            chrom = header.split()[0]\n",
    "            if chrom == 'X':\n",
    "                chrX_samples[smpl] = seq.replace('\\n', '')\n",
    "                break\n"
   ]
  },
  {
   "cell_type": "code",
   "execution_count": 15,
   "metadata": {
    "collapsed": false
   },
   "outputs": [
    {
     "name": "stdout",
     "output_type": "stream",
     "text": [
      "155270560\n"
     ]
    }
   ],
   "source": []
  },
  {
   "cell_type": "code",
   "execution_count": 16,
   "metadata": {
    "collapsed": false
   },
   "outputs": [],
   "source": [
    "seed(7)\n",
    "\n",
    "iupac = {'A': 'A',\n",
    "'C': 'C',\n",
    "'G': 'G',\n",
    "'T': 'T',\n",
    "'R': 'AG',\n",
    "'Y': 'CT',\n",
    "'S': 'GC',\n",
    "'W': 'AT',\n",
    "'K': 'GT',\n",
    "'M': 'AC',\n",
    "'B': 'CGT',\n",
    "'D': 'AGT',\n",
    "'H': 'ACT',\n",
    "'V': 'ACG',\n",
    "'N': 'ATGC' }\n",
    "\n",
    "def dist(x, y):\n",
    "    uncalled, same, diff = 0, 0, 0\n",
    "    assert len(x) == len(y), (x, y)\n",
    "    for a, b in izip(x, y):\n",
    "        if a in '-N' or b in '-N':\n",
    "            uncalled += 1\n",
    "        elif a == b: # test explicitly to speed up\n",
    "            same += 1\n",
    "        elif choice(iupac[a]) != choice(iupac[b]):\n",
    "            diff += 1\n",
    "        else:\n",
    "            same += 1\n",
    "    assert uncalled + same + diff == len(x)\n",
    "    if len(x) == uncalled:\n",
    "        return float('nan')\n",
    "    else:\n",
    "        return diff / float(len(x) - uncalled)\n"
   ]
  },
  {
   "cell_type": "code",
   "execution_count": null,
   "metadata": {
    "collapsed": false
   },
   "outputs": [],
   "source": [
    "chrX_length = 155270560\n",
    "chrom = 'X'\n",
    "win_size = 100000\n",
    "\n",
    "with open('dist_matrix_in_windows.tsv', 'w') as outf:\n",
    "    for idx in range(0, chrX_length, win_size):\n",
    "#        seq_list = [str(samples[x][chrom][idx:idx+win_size]) for x in sample_id_list]\n",
    "        seq_list = [chrX_samples[x][idx:idx+win_size] for x in sample_id_list]\n",
    "        matrix = list()\n",
    "        cache = dict()\n",
    "        for i in range(len(seq_list)):\n",
    "            for j in range(len(seq_list)):\n",
    "                key = tuple(sorted([i, j]))\n",
    "                if key not in cache:\n",
    "                    cache[key] = dist(seq_list[i], seq_list[j])\n",
    "                matrix.append(cache[key])\n",
    "#                 matrix.append(dist(str(samples[s1][chrom][i:i+win_size]), \n",
    "#                                    str(samples[s2][chrom][i:i+win_size])))\n",
    "        print >>outf, '\\t'.join(map(str, [chrom, idx, idx+win_size] + matrix))\n",
    "\n"
   ]
  },
  {
   "cell_type": "code",
   "execution_count": null,
   "metadata": {
    "collapsed": true
   },
   "outputs": [],
   "source": []
  }
 ],
 "metadata": {
  "kernelspec": {
   "display_name": "Python [default]",
   "language": "python",
   "name": "python2"
  },
  "language_info": {
   "codemirror_mode": {
    "name": "ipython",
    "version": 2
   },
   "file_extension": ".py",
   "mimetype": "text/x-python",
   "name": "python",
   "nbconvert_exporter": "python",
   "pygments_lexer": "ipython2",
   "version": "2.7.12"
  }
 },
 "nbformat": 4,
 "nbformat_minor": 0
}
