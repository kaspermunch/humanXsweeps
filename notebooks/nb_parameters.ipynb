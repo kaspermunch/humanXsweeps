{
 "cells": [
  {
   "cell_type": "markdown",
   "metadata": {},
   "source": [
    "# Parameters for running separate notebooks with different criteria for ECH calling\n",
    "\n",
    "run like this:\n",
    "\n",
    "    slurm-jupyter-run --paramemters parameters.ipynb <notebooks>"
   ]
  },
  {
   "cell_type": "raw",
   "metadata": {},
   "source": [
    "5e-05_25%"
   ]
  },
  {
   "cell_type": "code",
   "execution_count": 2,
   "metadata": {},
   "outputs": [],
   "source": [
    "ech_calling_tag = '5e-05_25%'\n",
    "clique_data_file_name = '/home/kmt/simons/faststorage/people/kmt/steps/male_dist_admix_masked_stores/5e-05/clique_data_5e-05_25%.hdf'\n",
    "clique_data_with_ust_ishim_file_name = '/home/kmt/simons/faststorage/people/kmt/steps/male_dist_admix_masked_stores/5e-05/clique_data_with_ust_ishim_5e-05_20%.hdf'"
   ]
  },
  {
   "cell_type": "raw",
   "metadata": {},
   "source": [
    "5e-05_30%"
   ]
  },
  {
   "cell_type": "code",
   "execution_count": null,
   "metadata": {},
   "outputs": [],
   "source": [
    "ech_calling_tag = '5e-05_30%'\n",
    "clique_data_file_name = '/home/kmt/simons/faststorage/people/kmt/steps/male_dist_admix_masked_stores/5e-05/clique_data_5e-05_30%.hdf'"
   ]
  },
  {
   "cell_type": "raw",
   "metadata": {},
   "source": [
    "5e-05_40%"
   ]
  },
  {
   "cell_type": "code",
   "execution_count": null,
   "metadata": {},
   "outputs": [],
   "source": [
    "ech_calling_tag = '5e-05_40%'\n",
    "clique_data_file_name = '/home/kmt/simons/faststorage/people/kmt/steps/male_dist_admix_masked_stores/5e-05/clique_data_5e-05_40%.hdf'"
   ]
  }
 ],
 "metadata": {
  "kernelspec": {
   "display_name": "Python 3",
   "language": "python",
   "name": "python3"
  },
  "language_info": {
   "codemirror_mode": {
    "name": "ipython",
    "version": 3
   },
   "file_extension": ".py",
   "mimetype": "text/x-python",
   "name": "python",
   "nbconvert_exporter": "python",
   "pygments_lexer": "ipython3",
   "version": "3.6.9"
  }
 },
 "nbformat": 4,
 "nbformat_minor": 4
}
