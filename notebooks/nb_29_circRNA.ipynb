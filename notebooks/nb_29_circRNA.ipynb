{
 "cells": [
  {
   "cell_type": "markdown",
   "metadata": {},
   "source": [
    "# Title"
   ]
  },
  {
   "cell_type": "code",
   "execution_count": 1,
   "metadata": {
    "collapsed": true,
    "jupyter": {
     "outputs_hidden": true
    }
   },
   "outputs": [],
   "source": [
    "import re, os, sys, pickle, pickle\n",
    "from pathlib import Path\n",
    "import numpy\n",
    "import pandas\n",
    "from pandas import DataFrame, Series\n",
    "from sklearn.decomposition import PCA\n",
    "\n",
    "# my own libaries\n",
    "from GenomicWindows import window\n",
    "import GenomicIntervals\n",
    "\n",
    "numpy.random.seed(7)"
   ]
  },
  {
   "cell_type": "markdown",
   "metadata": {},
   "source": [
    "Parallel computing:"
   ]
  },
  {
   "cell_type": "code",
   "execution_count": 2,
   "metadata": {
    "collapsed": true,
    "jupyter": {
     "outputs_hidden": true
    }
   },
   "outputs": [],
   "source": [
    "# import ipyparallel\n",
    "# from ipyparallel import depend, require\n",
    "\n",
    "# # create client & view\n",
    "# rc = ipyparallel.Client()\n",
    "# dview = rc[:]\n",
    "# bview = rc.load_balanced_view() # you can set block=True to have this apply globally\n",
    "\n",
    "# # scatter 'id', so id=0,1,2 on engines 0,1,2\n",
    "# dview.scatter('node_id', rc.ids, flatten=True)\n",
    "# print(\"Engine IDs: \", dview['node_id'])\n",
    "# # create a Reference to `id`. This will be a different value on each engine\n",
    "# ref = ipyparallel.Reference('node_id')\n",
    "\n",
    "# with dview.sync_imports(): # imports libs across dview\n",
    "#     import re, os, sys, pickle\n",
    "#     from pathlib import Path\n",
    "#     import numpy\n",
    "#     import pandas\n",
    "#     from pandas import DataFrame\n",
    "    \n",
    "# dview.execute('numpy.random.seed(7)')\n",
    "\n",
    "# def scatter_func(f):\n",
    "#     dview.scatter(f.__name__, [f]*len(bview), flatten=True)    \n",
    "\n",
    "# def getmem():\n",
    "#     p = subprocess.Popen(\"echo $HOSTNAME\", shell=True, stdout=subprocess.PIPE, stderr=subprocess.PIPE)\n",
    "#     stdout, stderr = p.communicate()\n",
    "#     return node_id, stdout.decode().strip(), resource.getrusage(resource.RUSAGE_SELF).ru_maxrss / 1024\n",
    "\n",
    "# def print_mem():\n",
    "#     for node_id, host_name, mem in  dview.apply(getmem).get():\n",
    "#         print(\"{}{: >10}{: 10.2f} Mb\". format(node_id, host_name, mem))\n",
    "\n",
    "# def parallel_apply(grouped_df, fun):\n",
    "#     return pandas.concat(dview.map_sync(fun, (group for name, group in grouped_df)))"
   ]
  },
  {
   "cell_type": "markdown",
   "metadata": {},
   "source": [
    "Plotting setup:"
   ]
  },
  {
   "cell_type": "code",
   "execution_count": 3,
   "metadata": {
    "collapsed": true,
    "jupyter": {
     "outputs_hidden": true
    }
   },
   "outputs": [],
   "source": [
    "%matplotlib inline\n",
    "\n",
    "# Make inline plots vector graphics instead of raster graphics\n",
    "from IPython.display import set_matplotlib_formats\n",
    "set_matplotlib_formats('retina', 'png')\n",
    "\n",
    "import matplotlib\n",
    "import matplotlib.pyplot as plt\n",
    "from matplotlib.colors import ListedColormap\n",
    "from matplotlib.patches import Rectangle, Polygon\n",
    "# from mpl_toolkits.basemap import Basemap\n",
    "#matplotlib.rcParams['figure.figsize'] = (20.0, 10.0)\n",
    "\n",
    "import mpld3\n",
    "\n",
    "import seaborn as sns\n",
    "sns.set()\n",
    "sns.set_style(\"whitegrid\")\n",
    "sns.set_context(\"paper\")\n",
    "\n",
    "# lowess for plotting\n",
    "from statsmodels.nonparametric.smoothers_lowess import lowess\n",
    "\n",
    "# import random\n",
    "# df = DataFrame({'x': random.sample(range(1, 100), 5), \n",
    "#                 'y': random.sample(range(1, 100), 5),\n",
    "#                 'z': [1,0,0,1,0],\n",
    "#                 'k': ['male','male','male','female','female'] })\n",
    "\n",
    "# with sns.color_palette(\"Set1\"):\n",
    "#     with sns.axes_style('dark'): # whitegrid, ticks\n",
    "#         with sns.plotting_context('paper', font_scale=1): # paper, notebook, talk”, poster\n",
    "#             g = sns.lmplot('x', 'y', data=df, hue='z', col='k', fit_reg=False, size=3)\n",
    "\n",
    "# # mpld3.display(ax.fig) # if you want d3"
   ]
  },
  {
   "cell_type": "markdown",
   "metadata": {},
   "source": [
    "Ignore deprecation warnings from mainly seaborn:"
   ]
  },
  {
   "cell_type": "code",
   "execution_count": 4,
   "metadata": {
    "collapsed": true,
    "jupyter": {
     "outputs_hidden": true
    }
   },
   "outputs": [],
   "source": [
    "# silence deprecation warnings (lots from seaborn)\n",
    "import warnings\n",
    "warnings.filterwarnings(\"ignore\", category=DeprecationWarning) \n",
    "warnings.filterwarnings(\"ignore\", category=numpy.VisibleDeprecationWarning)"
   ]
  },
  {
   "cell_type": "markdown",
   "metadata": {},
   "source": [
    "### Analysis dirs"
   ]
  },
  {
   "cell_type": "code",
   "execution_count": 5,
   "metadata": {
    "collapsed": true,
    "jupyter": {
     "outputs_hidden": true
    }
   },
   "outputs": [],
   "source": [
    "root_dir = Path(os.environ['HOME'], 'simons/faststorage/people/kmt')\n",
    "meta_data_dir = Path(os.environ['HOME'], 'simons/faststorage/data/metadata')\n",
    "steps_dir = root_dir / 'steps'\n",
    "argweaver_dir = steps_dir / 'argweaver/output'\n",
    "results_dir = root_dir / 'results'\n",
    "figures_dir = root_dir / 'figures'\n",
    "data_dir = root_dir / 'data'\n",
    "pi_dir = steps_dir / 'pi_stores'\n",
    "dist_dir = steps_dir / 'dist_stores'\n",
    "#pi_dir = root_dir / 'old_pi_stores'\n",
    "male_x_haploid_dir = steps_dir / 'male_x_haploids'"
   ]
  },
  {
   "cell_type": "markdown",
   "metadata": {},
   "source": [
    "Import variables global to the entire analysis:"
   ]
  },
  {
   "cell_type": "code",
   "execution_count": 6,
   "metadata": {
    "collapsed": true,
    "jupyter": {
     "outputs_hidden": true
    }
   },
   "outputs": [],
   "source": [
    "import analysis_globals"
   ]
  },
  {
   "cell_type": "markdown",
   "metadata": {},
   "source": [
    "## Local code in the scripts dir on the cluster:"
   ]
  },
  {
   "cell_type": "code",
   "execution_count": 7,
   "metadata": {
    "collapsed": true,
    "jupyter": {
     "outputs_hidden": true
    }
   },
   "outputs": [],
   "source": [
    "scripts_dir = root_dir / 'scripts'\n",
    "if str(scripts_dir) not in sys.path:\n",
    "    sys.path.append(str(scripts_dir))\n",
    "\n",
    "import simons_meta_data\n",
    "import hg19_chrom_sizes\n",
    "\n",
    "from toggle_code_and_errors import toggle_code_html, toggle_errors_html"
   ]
  },
  {
   "cell_type": "markdown",
   "metadata": {},
   "source": [
    "## Convenience functions"
   ]
  },
  {
   "cell_type": "code",
   "execution_count": 8,
   "metadata": {
    "collapsed": true,
    "jupyter": {
     "outputs_hidden": true
    }
   },
   "outputs": [],
   "source": [
    "def silent_nanmean(x):\n",
    "    with warnings.catch_warnings():\n",
    "        warnings.simplefilter(\"ignore\")\n",
    "        return numpy.nanmean(x)\n",
    "    \n",
    "def ident_scalar(s):\n",
    "    x = s.unique()\n",
    "    assert(len(x)) == 1\n",
    "    return x[0]"
   ]
  },
  {
   "cell_type": "markdown",
   "metadata": {},
   "source": [
    "## Load meta data"
   ]
  },
  {
   "cell_type": "code",
   "execution_count": 9,
   "metadata": {
    "collapsed": true,
    "jupyter": {
     "outputs_hidden": true
    }
   },
   "outputs": [],
   "source": [
    "# easy loading of meta data in a consistent manner across code\n",
    "individuals, populations, regions = simons_meta_data.get_meta_data(meta_data_dir=meta_data_dir)\n",
    "\n",
    "pop_categories = pandas.read_hdf(str(results_dir / 'population_categories.store'), 'sr')\n",
    "region_categories = pandas.read_hdf(str(results_dir / 'region_categories.store'), 'sr')\n",
    "# region_colors = dict(zip(list(region_categories), \n",
    "#                          ['#e41a1c', '#377eb8', '#4daf4a', '#984ea3', \n",
    "#                           '#ff7f00', '#ffff33', '#a65628']))\n",
    "\n",
    "region_colors = dict(zip(list(region_categories), \n",
    "                         ['#e41a1c', '#377eb8',  '#984ea3', '#4daf4a',\n",
    "                          '#ff7f00', '#ffff33', '#a65628']))\n",
    "\n",
    "chromosome_lengths = dict((k.replace('chr', ''), v) for k, v in hg19_chrom_sizes.hg19_chrom_sizes.items())"
   ]
  },
  {
   "cell_type": "code",
   "execution_count": null,
   "metadata": {
    "collapsed": true,
    "jupyter": {
     "outputs_hidden": true
    }
   },
   "outputs": [],
   "source": []
  },
  {
   "cell_type": "code",
   "execution_count": 10,
   "metadata": {
    "collapsed": true,
    "jupyter": {
     "outputs_hidden": true
    }
   },
   "outputs": [],
   "source": [
    "import matplotlib.pyplot as plt\n",
    "import matplotlib.gridspec as gridspec\n",
    "\n",
    "chr_names = [str(x) for x in list(range(1, 23)) + [\"Y\", \"X\"]]\n",
    "chr_lens = [chromosome_lengths[str(x)] for x in chr_names]\n",
    "figwidth = max(chr_lens)"
   ]
  },
  {
   "cell_type": "markdown",
   "metadata": {},
   "source": [
    "## Load low-ILS regions"
   ]
  },
  {
   "cell_type": "code",
   "execution_count": 11,
   "metadata": {
    "collapsed": true,
    "jupyter": {
     "outputs_hidden": true
    }
   },
   "outputs": [],
   "source": [
    "great_ape_ils_analysis_dir = Path('/home/kmt/projects/great_ape_ils_maps/analyses')\n",
    "\n",
    "window_size = 100000\n",
    "col_names = [\"start\", \"end\", 'top1', 'top2', 'top3', 'top4']\n",
    "\n",
    "def call_low_ils_regions(df, max_ils, min_analyzed):\n",
    "    df = (df\n",
    "          .assign(prop_ils = lambda df: df.prop_ils.where(df.fraction_analyzed >= min_analyzed)) \n",
    "          .loc[:, ['chrom', 'start', 'end', 'prop_ils']]\n",
    "          .assign(run = 1, \n",
    "                  islow = lambda df: df.prop_ils <= max_ils) # turn masked into nan to break runs at missing data\n",
    "          .assign(test = lambda df: (df.islow != df.islow.shift()).cumsum())\n",
    "          .groupby(['chrom', 'test'])\n",
    "                  .aggregate({'start': 'min', 'end': 'max', 'run': 'sum', 'prop_ils': 'mean'})\n",
    "                  .reset_index()\n",
    "          .loc[lambda df: df.prop_ils <= max_ils, :]\n",
    "         )\n",
    "    return df\n",
    "\n",
    "max_ils_in_low_regions = 0.05\n",
    "minimal_fraction_analyzed_ils = 0.3\n",
    "\n",
    "lst = list()\n",
    "for chrom in chromosome_lengths:\n",
    "    if chrom == 'Y':\n",
    "        continue\n",
    "    path = great_ape_ils_analysis_dir / \"multiz_hg19_panTro3_gorGor3_ponAbe2/results/chr1-22_X.statesBin1000000chr{}.import.coalhmm.list_chrHASH4563609074768454572.hdfmerge.minmaf500_maxgap100_maxn02_junkNn.tbl\".format(chrom)\n",
    "\n",
    "    \n",
    "    df = (pandas.read_table(path, names=col_names)\n",
    "                            .assign(chrom = chrom,\n",
    "                                    prop_ils = lambda df: (df.top3 + df.top4) / (df.top1 + df.top2 + df.top3 + df.top4),\n",
    "                                    fraction_analyzed = lambda df: (df.top1 + df.top2 + df.top3 + df.top4) / window_size)\n",
    "                           )\n",
    "    df = call_low_ils_regions(df, \n",
    "                              max_ils_in_low_regions, \n",
    "                              minimal_fraction_analyzed_ils)\n",
    "    lst.append(df)\n",
    "\n",
    "human_chimp_ils = pandas.concat(lst)\n",
    "\n",
    "lst = list()\n",
    "for chrom in chromosome_lengths:\n",
    "    if chrom == 'Y':\n",
    "        continue\n",
    "    path = great_ape_ils_analysis_dir / \"multiz_hg19_ponAbe2_nomLeu1_rheMac2/results/chr1-22_X.statesBin1000000chr{}.import.coalhmm.list_chrHASH-5473120441099014340.hdfmerge.minmaf500_maxgap100_maxn02_junkNn.tbl\".format(chrom)\n",
    "\n",
    "    \n",
    "    df = (pandas.read_table(path, names=col_names)\n",
    "                            .assign(chrom = chrom,\n",
    "                                    prop_ils = lambda df: (df.top3 + df.top4) / (df.top1 + df.top2 + df.top3 + df.top4),\n",
    "                                    fraction_analyzed = lambda df: (df.top1 + df.top2 + df.top3 + df.top4) / window_size)\n",
    "                           )\n",
    "    df = call_low_ils_regions(df, \n",
    "                              max_ils_in_low_regions, \n",
    "                              minimal_fraction_analyzed_ils)\n",
    "    lst.append(df)\n",
    "\n",
    "human_orang_ils = pandas.concat(lst)"
   ]
  },
  {
   "cell_type": "markdown",
   "metadata": {},
   "source": [
    "## Circ RNA data"
   ]
  },
  {
   "cell_type": "code",
   "execution_count": 12,
   "metadata": {
    "collapsed": true,
    "jupyter": {
     "outputs_hidden": true
    }
   },
   "outputs": [],
   "source": [
    "df = pandas.read_table(data_dir / 'cytoBankhg19.txt', \n",
    "                       header=None, names=['chrom', 'start', 'end', 'name', 'type'])\n",
    "\n",
    "df = df.loc[df.type == 'acen'].groupby(['chrom']).agg({'start': 'min', 'end': 'max'}).reset_index()\n",
    "centromeres = dict()\n",
    "for tup in df.itertuples():\n",
    "    centromeres[tup.chrom.replace('chr', '')] = (tup.start, tup.end)"
   ]
  },
  {
   "cell_type": "code",
   "execution_count": 13,
   "metadata": {},
   "outputs": [
    {
     "data": {
      "image/png": "[encoded data removed]",
      "text/plain": [
       "<Figure size 432x288 with 1 Axes>"
      ]
     },
     "metadata": {
      "image/png": {
       "height": 252,
       "width": 375
      }
     },
     "output_type": "display_data"
    }
   ],
   "source": [
    "# circ_data = pandas.read_table(data_dir / 'circRNAgenes.txt').loc[lambda df: df.Pattern == '10']\n",
    "all_circ_data = pandas.read_csv(data_dir / 'trine_line_data/circAnno_ciri2.csv')\n",
    "g = plt.hist(all_circ_data.sumReads, bins=numpy.logspace(0,numpy.log10(1000), 100), log=True)\n",
    "ax = plt.gca()\n",
    "g = ax.set_xscale(\"log\", nonposx='clip')\n",
    "g = ax.axvline(10, color='black', linestyle='dashed')\n",
    "g = ax.axvline(20, color='black', linestyle='dashed')\n",
    "g = ax.axvline(100, color='black', linestyle='dashed')"
   ]
  },
  {
   "cell_type": "code",
   "execution_count": 14,
   "metadata": {},
   "outputs": [
    {
     "data": {
      "text/plain": [
       "25581     RPGR\n",
       "25582     RPGR\n",
       "25583     RPGR\n",
       "25616    TEX11\n",
       "25617    TEX11\n",
       "Name: gene_name, dtype: object"
      ]
     },
     "execution_count": 14,
     "metadata": {},
     "output_type": "execute_result"
    }
   ],
   "source": [
    "(pandas\n",
    " .read_csv(data_dir / 'trine_line_data/circAnno_ciri2.csv')\n",
    " .loc[lambda df: (df.Pattern == '10') & (df.chr == 'chrX')]\n",
    ")['gene_name']"
   ]
  },
  {
   "cell_type": "code",
   "execution_count": 15,
   "metadata": {
    "collapsed": true,
    "jupyter": {
     "outputs_hidden": true
    }
   },
   "outputs": [],
   "source": [
    "circ_data = (all_circ_data\n",
    "             .assign(chrom = lambda df: [x.replace('chr', '') for x in df.chr])\n",
    "             .loc[lambda df: df.sumReads >= 20]\n",
    "             .loc[lambda df: df.Pattern.isin(['9', '10', '11'])]\n",
    "             .loc[lambda df: ~df.chrom.isin(['X', 'Y'])]\n",
    "            )"
   ]
  },
  {
   "cell_type": "markdown",
   "metadata": {},
   "source": [
    "## Chromosome ideogram code"
   ]
  },
  {
   "cell_type": "code",
   "execution_count": 16,
   "metadata": {},
   "outputs": [
    {
     "data": {
      "image/png": "[encoded data removed]",
      "text/plain": [
       "<Figure size 1080x720 with 24 Axes>"
      ]
     },
     "metadata": {
      "image/png": {
       "height": 713,
       "width": 1071
      }
     },
     "output_type": "display_data"
    }
   ],
   "source": [
    "nr_rows, nr_cols = len(chr_names)-2, 2\n",
    "with sns.color_palette(\"Set1\"):\n",
    "    with sns.axes_style('white'): # whitegrid, ticks\n",
    "        with sns.plotting_context('paper', font_scale=1): # paper, notebook, talk”, poster\n",
    "            fig = plt.figure(figsize = (15,10))\n",
    "\n",
    "            \n",
    "            gs = gridspec.GridSpec(nr_rows, 25)\n",
    "            gs.update(wspace=0.0, hspace=0.0) # set the spacing between axes.             \n",
    "            ax_list = [plt.subplot(gs[i, :]) for i in range(nr_rows-2)]\n",
    "            ax_list.append(plt.subplot(gs[nr_rows-2, :9]))\n",
    "            ax_list.append(plt.subplot(gs[nr_rows-1, :9]))\n",
    "            ax_list.append(plt.subplot(gs[nr_rows-2, 9:]))\n",
    "            ax_list.append(plt.subplot(gs[nr_rows-1, 9:]))\n",
    "\n",
    "            chr_axes = dict(zip(chr_names, ax_list))\n",
    "            \n",
    "            for ax in ax_list[:-4]:\n",
    "                ax.set_xlim((-100000, figwidth+100000))\n",
    "            for ax in ax_list[-4:]:\n",
    "                ax.set_xlim((-100000, ((25-9)/25)*figwidth+100000))\n",
    "\n",
    "            for i in range(len(ax_list)):\n",
    "                chrom = chr_names[i]\n",
    "                ax = ax_list[i]\n",
    "                start, end = 0, chr_lens[i] \n",
    "                ax.spines['top'].set_visible(False)\n",
    "                ax.spines['right'].set_visible(False)\n",
    "                ax.spines['bottom'].set_visible(False)\n",
    "                ax.spines['left'].set_visible(False)\n",
    "                ax.set_ylim((0, 3))\n",
    "                h = ax.set_ylabel(chrom)\n",
    "                h.set_rotation(0)\n",
    "                ax.set_yticklabels([])\n",
    "\n",
    "                if i == 0:\n",
    "                    ax.spines['top'].set_visible(True)\n",
    "                    ax.xaxis.tick_top()\n",
    "                    ax.xaxis.set_label_position('top') \n",
    "                elif i == len(ax_list)-1:\n",
    "                    ax.xaxis.tick_bottom()\n",
    "                    ax.spines['bottom'].set_visible(True)                    \n",
    "                else:\n",
    "                    ax.set_xticklabels([])\n",
    "\n",
    "                \n",
    "                # draw chrom\n",
    "                g = ax.add_patch(Rectangle((start, 1), end-start, 1, \n",
    "                                           fill=False,\n",
    "                                           color='darkgrey',\n",
    "                                           edgecolor=None,\n",
    "                                           zorder=1, linewidth=1.5\n",
    "                                          ))\n",
    "                \n",
    "                # draw centromere\n",
    "                cent_start, cent_end = centromeres[chrom]\n",
    "                \n",
    "                ax.add_patch(Rectangle((cent_start, 0), cent_end-cent_start, 3, \n",
    "                                           fill=True, color='white',\n",
    "                                           zorder=2))\n",
    "                \n",
    "                xy = [[cent_start, 1], [cent_start, 2], [cent_end, 1], [cent_end, 2]]\n",
    "                g = ax.add_patch(Polygon(xy, closed=True, zorder=3, fill=True, color='grey'))\n",
    "\n",
    "                \n",
    "                \n",
    "#             for chrom, gr in circ_data.groupby('chr'):\n",
    "#                 chrom = chrom.replace('chr', '')\n",
    "#                 if chrom in chr_axes:\n",
    "#                     g = chr_axes[chrom.replace('chr', '')].scatter(gr.start+(gr.end-gr.start)/2, \n",
    "#                                                                    numpy.repeat(1, len(gr.start)),\n",
    "#                                                                    color='red', marker='x', zorder=2)\n",
    "\n",
    "            min_run_len = 1\n",
    "            for tup in human_chimp_ils.loc[lambda df: df.run >= min_run_len].itertuples():\n",
    "                g = chr_axes[tup.chrom].add_patch(Rectangle((tup.start, 2), tup.end-tup.start, 0.5, \n",
    "                                           fill=True, color='red',\n",
    "                                           zorder=4))\n",
    "            for tup in human_orang_ils.loc[lambda df: df.run >= min_run_len].itertuples():\n",
    "                g = chr_axes[tup.chrom].add_patch(Rectangle((tup.start, 0.5), tup.end-tup.start, 0.5, \n",
    "                                           fill=True, color='blue',\n",
    "                                           zorder=4))\n",
    "                \n",
    "\n",
    "            for tup in circ_data.itertuples():\n",
    "                g = chr_axes[tup.chrom].add_patch(Rectangle((tup.start, 1), tup.end-tup.start, 1, \n",
    "                                           fill=True, color='black',\n",
    "                                           zorder=5))\n",
    "                \n",
    "#                 g = chr_axes[name].plot(tup.start+(tup.end-tup.start)/2, 2, 'bo', markersize=5, zorder=2)\n",
    "#                 g = chr_axes[name].scatter(tup.start+(tup.end-tup.start)/2, 1, color='red', marker='x', zorder=2)\n",
    "\n",
    "#                 g = chr_axes[name].plot(tup.start+(tup.end-tup.start)/2, 1, 'rX', markersize=5, zorder=2)\n",
    "    \n",
    "plt.tight_layout()\n",
    "#mpld3.display(fig)"
   ]
  },
  {
   "cell_type": "code",
   "execution_count": 35,
   "metadata": {},
   "outputs": [
    {
     "data": {
      "text/plain": [
       "<matplotlib.axes._subplots.AxesSubplot at 0x2b97acc9da20>"
      ]
     },
     "execution_count": 35,
     "metadata": {},
     "output_type": "execute_result"
    },
    {
     "data": {
      "image/png": "[encoded data removed]",
      "text/plain": [
       "<Figure size 432x288 with 1 Axes>"
      ]
     },
     "metadata": {
      "image/png": {
       "height": 251,
       "width": 365
      }
     },
     "output_type": "display_data"
    }
   ],
   "source": [
    "sns.distplot(circ_data.sumReads / circ_data.linReads)"
   ]
  },
  {
   "cell_type": "code",
   "execution_count": 37,
   "metadata": {},
   "outputs": [
    {
     "data": {
      "text/html": [
       "<div>\n",
       "<style>\n",
       "    .dataframe thead tr:only-child th {\n",
       "        text-align: right;\n",
       "    }\n",
       "\n",
       "    .dataframe thead th {\n",
       "        text-align: left;\n",
       "    }\n",
       "\n",
       "    .dataframe tbody tr th {\n",
       "        vertical-align: top;\n",
       "    }\n",
       "</style>\n",
       "<table border=\"1\" class=\"dataframe\">\n",
       "  <thead>\n",
       "    <tr style=\"text-align: right;\">\n",
       "      <th></th>\n",
       "      <th>circRNA_ID</th>\n",
       "      <th>chr</th>\n",
       "      <th>start</th>\n",
       "      <th>end</th>\n",
       "      <th>strand</th>\n",
       "      <th>gene_id</th>\n",
       "      <th>circRNA_type</th>\n",
       "      <th>genomic_size</th>\n",
       "      <th>sumReads</th>\n",
       "      <th>mean</th>\n",
       "      <th>max</th>\n",
       "      <th>sumExp</th>\n",
       "      <th>median</th>\n",
       "      <th>gene_name</th>\n",
       "      <th>circBase_spliced_length</th>\n",
       "      <th>circBase_samples</th>\n",
       "      <th>linReads</th>\n",
       "      <th>Pattern</th>\n",
       "      <th>ratio</th>\n",
       "    </tr>\n",
       "  </thead>\n",
       "  <tbody>\n",
       "    <tr>\n",
       "      <th>17262</th>\n",
       "      <td>chr3:49249198-49282166</td>\n",
       "      <td>chr3</td>\n",
       "      <td>49249198</td>\n",
       "      <td>49282166</td>\n",
       "      <td>+</td>\n",
       "      <td>gencode::CCDC36::tc_ENSG00000173421.12,</td>\n",
       "      <td>exon</td>\n",
       "      <td>32968</td>\n",
       "      <td>48</td>\n",
       "      <td>4.000000</td>\n",
       "      <td>25</td>\n",
       "      <td>3</td>\n",
       "      <td>0.0</td>\n",
       "      <td>CCDC36</td>\n",
       "      <td>NaN</td>\n",
       "      <td>NaN</td>\n",
       "      <td>577</td>\n",
       "      <td>11</td>\n",
       "      <td>0.083189</td>\n",
       "    </tr>\n",
       "    <tr>\n",
       "      <th>17311</th>\n",
       "      <td>chr3:52446826-52448603</td>\n",
       "      <td>chr3</td>\n",
       "      <td>52446826</td>\n",
       "      <td>52448603</td>\n",
       "      <td>+</td>\n",
       "      <td>gencode::PHF7::tc_ENSG00000010318.15,</td>\n",
       "      <td>exon</td>\n",
       "      <td>1777</td>\n",
       "      <td>88</td>\n",
       "      <td>7.333333</td>\n",
       "      <td>21</td>\n",
       "      <td>7</td>\n",
       "      <td>5.0</td>\n",
       "      <td>PHF7</td>\n",
       "      <td>255.0</td>\n",
       "      <td>Hs68_RNase, Hs68_control, K562, Helas3, H1hesc...</td>\n",
       "      <td>61248</td>\n",
       "      <td>11</td>\n",
       "      <td>0.001437</td>\n",
       "    </tr>\n",
       "    <tr>\n",
       "      <th>17321</th>\n",
       "      <td>chr3:52771601-52773650</td>\n",
       "      <td>chr3</td>\n",
       "      <td>52771601</td>\n",
       "      <td>52773650</td>\n",
       "      <td>-</td>\n",
       "      <td>gencode::NEK4::tc_ENSG00000114904.8,</td>\n",
       "      <td>exon</td>\n",
       "      <td>2049</td>\n",
       "      <td>58</td>\n",
       "      <td>4.833333</td>\n",
       "      <td>24</td>\n",
       "      <td>4</td>\n",
       "      <td>0.0</td>\n",
       "      <td>NEK4</td>\n",
       "      <td>340.0</td>\n",
       "      <td>cd_19</td>\n",
       "      <td>2297</td>\n",
       "      <td>11</td>\n",
       "      <td>0.025250</td>\n",
       "    </tr>\n",
       "    <tr>\n",
       "      <th>17322</th>\n",
       "      <td>chr3:52771601-52775515</td>\n",
       "      <td>chr3</td>\n",
       "      <td>52771601</td>\n",
       "      <td>52775515</td>\n",
       "      <td>-</td>\n",
       "      <td>gencode::NEK4::tc_ENSG00000114904.8,</td>\n",
       "      <td>exon</td>\n",
       "      <td>3914</td>\n",
       "      <td>196</td>\n",
       "      <td>16.333333</td>\n",
       "      <td>57</td>\n",
       "      <td>6</td>\n",
       "      <td>8.5</td>\n",
       "      <td>NEK4</td>\n",
       "      <td>429.0</td>\n",
       "      <td>cd_19, Hs68_RNase, Hs68_control, K562, H1hesc,...</td>\n",
       "      <td>2003</td>\n",
       "      <td>11</td>\n",
       "      <td>0.097853</td>\n",
       "    </tr>\n",
       "  </tbody>\n",
       "</table>\n",
       "</div>"
      ],
      "text/plain": [
       "                   circRNA_ID   chr     start       end strand  \\\n",
       "17262  chr3:49249198-49282166  chr3  49249198  49282166      +   \n",
       "17311  chr3:52446826-52448603  chr3  52446826  52448603      +   \n",
       "17321  chr3:52771601-52773650  chr3  52771601  52773650      -   \n",
       "17322  chr3:52771601-52775515  chr3  52771601  52775515      -   \n",
       "\n",
       "                                       gene_id circRNA_type  genomic_size  \\\n",
       "17262  gencode::CCDC36::tc_ENSG00000173421.12,         exon         32968   \n",
       "17311    gencode::PHF7::tc_ENSG00000010318.15,         exon          1777   \n",
       "17321     gencode::NEK4::tc_ENSG00000114904.8,         exon          2049   \n",
       "17322     gencode::NEK4::tc_ENSG00000114904.8,         exon          3914   \n",
       "\n",
       "       sumReads       mean  max  sumExp  median gene_name  \\\n",
       "17262        48   4.000000   25       3     0.0    CCDC36   \n",
       "17311        88   7.333333   21       7     5.0      PHF7   \n",
       "17321        58   4.833333   24       4     0.0      NEK4   \n",
       "17322       196  16.333333   57       6     8.5      NEK4   \n",
       "\n",
       "       circBase_spliced_length  \\\n",
       "17262                      NaN   \n",
       "17311                    255.0   \n",
       "17321                    340.0   \n",
       "17322                    429.0   \n",
       "\n",
       "                                        circBase_samples  linReads Pattern  \\\n",
       "17262                                                NaN       577      11   \n",
       "17311  Hs68_RNase, Hs68_control, K562, Helas3, H1hesc...     61248      11   \n",
       "17321                                              cd_19      2297      11   \n",
       "17322  cd_19, Hs68_RNase, Hs68_control, K562, H1hesc,...      2003      11   \n",
       "\n",
       "          ratio  \n",
       "17262  0.083189  \n",
       "17311  0.001437  \n",
       "17321  0.025250  \n",
       "17322  0.097853  "
      ]
     },
     "execution_count": 37,
     "metadata": {},
     "output_type": "execute_result"
    }
   ],
   "source": [
    "circ_data.loc[(circ_data.chr == 'chr3') & (circ_data.start > 45000000) & (circ_data.end < 55000000), ['circRNA_ID', 'chr', 'start', 'end', 'strand', 'gene_id',\n",
    "       'circRNA_type', 'genomic_size', 'sumReads', 'mean', 'max', 'sumExp',\n",
    "       'median','gene_name', \n",
    "       'circBase_spliced_length', 'circBase_samples', 'linReads', 'Pattern']].assign(ratio=lambda df: df.sumReads/df.linReads)"
   ]
  },
  {
   "cell_type": "code",
   "execution_count": 18,
   "metadata": {},
   "outputs": [
    {
     "data": {
      "text/html": [
       "<div>\n",
       "<style>\n",
       "    .dataframe thead tr:only-child th {\n",
       "        text-align: right;\n",
       "    }\n",
       "\n",
       "    .dataframe thead th {\n",
       "        text-align: left;\n",
       "    }\n",
       "\n",
       "    .dataframe tbody tr th {\n",
       "        vertical-align: top;\n",
       "    }\n",
       "</style>\n",
       "<table border=\"1\" class=\"dataframe\">\n",
       "  <thead>\n",
       "    <tr style=\"text-align: right;\">\n",
       "      <th></th>\n",
       "      <th>Unnamed: 0</th>\n",
       "      <th>circRNA_ID</th>\n",
       "      <th>chr</th>\n",
       "      <th>start</th>\n",
       "      <th>end</th>\n",
       "      <th>strand</th>\n",
       "      <th>gene_id</th>\n",
       "      <th>circRNA_type</th>\n",
       "      <th>genomic_size</th>\n",
       "      <th>sumReads</th>\n",
       "      <th>...</th>\n",
       "      <th>SCE_exp_bp</th>\n",
       "      <th>SCE_obs_bp</th>\n",
       "      <th>SCE_fraction_overlap</th>\n",
       "      <th>miRNA_exp_nr</th>\n",
       "      <th>miRNA_obs_nr</th>\n",
       "      <th>size_exon</th>\n",
       "      <th>max_miRNA_freq</th>\n",
       "      <th>max_miRNA_family</th>\n",
       "      <th>max_miRNA_seeq_seq</th>\n",
       "      <th>chrom</th>\n",
       "    </tr>\n",
       "  </thead>\n",
       "  <tbody>\n",
       "    <tr>\n",
       "      <th>1937</th>\n",
       "      <td>chr1:47745912-47748131</td>\n",
       "      <td>chr1:47745912-47748131</td>\n",
       "      <td>chr1</td>\n",
       "      <td>47745912</td>\n",
       "      <td>47748131</td>\n",
       "      <td>-</td>\n",
       "      <td>gencode::STIL::tc_ENSG00000123473.11,</td>\n",
       "      <td>exon</td>\n",
       "      <td>2219</td>\n",
       "      <td>90</td>\n",
       "      <td>...</td>\n",
       "      <td>5.429526</td>\n",
       "      <td>0.0</td>\n",
       "      <td>0.000000</td>\n",
       "      <td>1.076607</td>\n",
       "      <td>0.0</td>\n",
       "      <td>1084.0</td>\n",
       "      <td>0</td>\n",
       "      <td>NaN</td>\n",
       "      <td>NaN</td>\n",
       "      <td>1</td>\n",
       "    </tr>\n",
       "    <tr>\n",
       "      <th>1941</th>\n",
       "      <td>chr1:47761436-47767420</td>\n",
       "      <td>chr1:47761436-47767420</td>\n",
       "      <td>chr1</td>\n",
       "      <td>47761436</td>\n",
       "      <td>47767420</td>\n",
       "      <td>-</td>\n",
       "      <td>gencode::STIL::tc_ENSG00000123473.11,</td>\n",
       "      <td>exon</td>\n",
       "      <td>5984</td>\n",
       "      <td>30</td>\n",
       "      <td>...</td>\n",
       "      <td>2.604570</td>\n",
       "      <td>0.0</td>\n",
       "      <td>0.000000</td>\n",
       "      <td>0.516453</td>\n",
       "      <td>0.0</td>\n",
       "      <td>520.0</td>\n",
       "      <td>0</td>\n",
       "      <td>NaN</td>\n",
       "      <td>NaN</td>\n",
       "      <td>1</td>\n",
       "    </tr>\n",
       "    <tr>\n",
       "      <th>1987</th>\n",
       "      <td>chr1:51032748-51061888</td>\n",
       "      <td>chr1:51032748-51061888</td>\n",
       "      <td>chr1</td>\n",
       "      <td>51032748</td>\n",
       "      <td>51061888</td>\n",
       "      <td>-</td>\n",
       "      <td>gencode::FAF1::tc_ENSG00000185104.15,</td>\n",
       "      <td>exon</td>\n",
       "      <td>29140</td>\n",
       "      <td>29</td>\n",
       "      <td>...</td>\n",
       "      <td>2.624605</td>\n",
       "      <td>60.0</td>\n",
       "      <td>0.114504</td>\n",
       "      <td>0.520426</td>\n",
       "      <td>1.0</td>\n",
       "      <td>524.0</td>\n",
       "      <td>1</td>\n",
       "      <td>miR-182</td>\n",
       "      <td>UUGGCAA</td>\n",
       "      <td>1</td>\n",
       "    </tr>\n",
       "    <tr>\n",
       "      <th>1994</th>\n",
       "      <td>chr1:51253671-51267349</td>\n",
       "      <td>chr1:51253671-51267349</td>\n",
       "      <td>chr1</td>\n",
       "      <td>51253671</td>\n",
       "      <td>51267349</td>\n",
       "      <td>-</td>\n",
       "      <td>gencode::FAF1::tc_ENSG00000185104.15,</td>\n",
       "      <td>exon</td>\n",
       "      <td>13678</td>\n",
       "      <td>20</td>\n",
       "      <td>...</td>\n",
       "      <td>1.267223</td>\n",
       "      <td>0.0</td>\n",
       "      <td>0.000000</td>\n",
       "      <td>0.251274</td>\n",
       "      <td>2.0</td>\n",
       "      <td>253.0</td>\n",
       "      <td>1</td>\n",
       "      <td>miR-296-3p</td>\n",
       "      <td>AGGGUUG</td>\n",
       "      <td>1</td>\n",
       "    </tr>\n",
       "  </tbody>\n",
       "</table>\n",
       "<p>4 rows × 40 columns</p>\n",
       "</div>"
      ],
      "text/plain": [
       "                  Unnamed: 0              circRNA_ID   chr     start  \\\n",
       "1937  chr1:47745912-47748131  chr1:47745912-47748131  chr1  47745912   \n",
       "1941  chr1:47761436-47767420  chr1:47761436-47767420  chr1  47761436   \n",
       "1987  chr1:51032748-51061888  chr1:51032748-51061888  chr1  51032748   \n",
       "1994  chr1:51253671-51267349  chr1:51253671-51267349  chr1  51253671   \n",
       "\n",
       "           end strand                                gene_id circRNA_type  \\\n",
       "1937  47748131      -  gencode::STIL::tc_ENSG00000123473.11,         exon   \n",
       "1941  47767420      -  gencode::STIL::tc_ENSG00000123473.11,         exon   \n",
       "1987  51061888      -  gencode::FAF1::tc_ENSG00000185104.15,         exon   \n",
       "1994  51267349      -  gencode::FAF1::tc_ENSG00000185104.15,         exon   \n",
       "\n",
       "      genomic_size  sumReads  ...    SCE_exp_bp  SCE_obs_bp  \\\n",
       "1937          2219        90  ...      5.429526         0.0   \n",
       "1941          5984        30  ...      2.604570         0.0   \n",
       "1987         29140        29  ...      2.624605        60.0   \n",
       "1994         13678        20  ...      1.267223         0.0   \n",
       "\n",
       "      SCE_fraction_overlap  miRNA_exp_nr miRNA_obs_nr size_exon  \\\n",
       "1937              0.000000      1.076607          0.0    1084.0   \n",
       "1941              0.000000      0.516453          0.0     520.0   \n",
       "1987              0.114504      0.520426          1.0     524.0   \n",
       "1994              0.000000      0.251274          2.0     253.0   \n",
       "\n",
       "     max_miRNA_freq  max_miRNA_family max_miRNA_seeq_seq  chrom  \n",
       "1937              0               NaN                NaN      1  \n",
       "1941              0               NaN                NaN      1  \n",
       "1987              1           miR-182            UUGGCAA      1  \n",
       "1994              1        miR-296-3p            AGGGUUG      1  \n",
       "\n",
       "[4 rows x 40 columns]"
      ]
     },
     "execution_count": 18,
     "metadata": {},
     "output_type": "execute_result"
    }
   ],
   "source": [
    "circ_data.loc[(circ_data.chr == 'chr1') & (circ_data.start > 45000000) & (circ_data.end < 55000000)]"
   ]
  },
  {
   "cell_type": "code",
   "execution_count": 19,
   "metadata": {},
   "outputs": [
    {
     "data": {
      "text/html": [
       "<div>\n",
       "<style>\n",
       "    .dataframe thead tr:only-child th {\n",
       "        text-align: right;\n",
       "    }\n",
       "\n",
       "    .dataframe thead th {\n",
       "        text-align: left;\n",
       "    }\n",
       "\n",
       "    .dataframe tbody tr th {\n",
       "        vertical-align: top;\n",
       "    }\n",
       "</style>\n",
       "<table border=\"1\" class=\"dataframe\">\n",
       "  <thead>\n",
       "    <tr style=\"text-align: right;\">\n",
       "      <th></th>\n",
       "      <th>Unnamed: 0</th>\n",
       "      <th>circRNA_ID</th>\n",
       "      <th>chr</th>\n",
       "      <th>start</th>\n",
       "      <th>end</th>\n",
       "      <th>strand</th>\n",
       "      <th>gene_id</th>\n",
       "      <th>circRNA_type</th>\n",
       "      <th>genomic_size</th>\n",
       "      <th>sumReads</th>\n",
       "      <th>...</th>\n",
       "      <th>SCE_exp_bp</th>\n",
       "      <th>SCE_obs_bp</th>\n",
       "      <th>SCE_fraction_overlap</th>\n",
       "      <th>miRNA_exp_nr</th>\n",
       "      <th>miRNA_obs_nr</th>\n",
       "      <th>size_exon</th>\n",
       "      <th>max_miRNA_freq</th>\n",
       "      <th>max_miRNA_family</th>\n",
       "      <th>max_miRNA_seeq_seq</th>\n",
       "      <th>chrom</th>\n",
       "    </tr>\n",
       "  </thead>\n",
       "  <tbody>\n",
       "    <tr>\n",
       "      <th>4441</th>\n",
       "      <td>chr11:47648631-47657123</td>\n",
       "      <td>chr11:47648631-47657123</td>\n",
       "      <td>chr11</td>\n",
       "      <td>47648631</td>\n",
       "      <td>47657123</td>\n",
       "      <td>-</td>\n",
       "      <td>gencode::MTCH2::tc_ENSG00000109919.5,</td>\n",
       "      <td>exon</td>\n",
       "      <td>8492</td>\n",
       "      <td>21</td>\n",
       "      <td>...</td>\n",
       "      <td>2.013533</td>\n",
       "      <td>0.0</td>\n",
       "      <td>0.000000</td>\n",
       "      <td>0.399258</td>\n",
       "      <td>1.0</td>\n",
       "      <td>402.0</td>\n",
       "      <td>1</td>\n",
       "      <td>miR-377</td>\n",
       "      <td>UCACACA</td>\n",
       "      <td>11</td>\n",
       "    </tr>\n",
       "    <tr>\n",
       "      <th>4442</th>\n",
       "      <td>chr11:47650504-47652639</td>\n",
       "      <td>chr11:47650504-47652639</td>\n",
       "      <td>chr11</td>\n",
       "      <td>47650504</td>\n",
       "      <td>47652639</td>\n",
       "      <td>-</td>\n",
       "      <td>gencode::MTCH2::tc_ENSG00000109919.5,</td>\n",
       "      <td>exon</td>\n",
       "      <td>2135</td>\n",
       "      <td>25</td>\n",
       "      <td>...</td>\n",
       "      <td>1.031810</td>\n",
       "      <td>0.0</td>\n",
       "      <td>0.000000</td>\n",
       "      <td>0.204595</td>\n",
       "      <td>0.0</td>\n",
       "      <td>206.0</td>\n",
       "      <td>0</td>\n",
       "      <td>NaN</td>\n",
       "      <td>NaN</td>\n",
       "      <td>11</td>\n",
       "    </tr>\n",
       "    <tr>\n",
       "      <th>4446</th>\n",
       "      <td>chr11:47684577-47701625</td>\n",
       "      <td>chr11:47684577-47701625</td>\n",
       "      <td>chr11</td>\n",
       "      <td>47684577</td>\n",
       "      <td>47701625</td>\n",
       "      <td>-</td>\n",
       "      <td>gencode::AGBL2::tc_ENSG00000165923.11,</td>\n",
       "      <td>exon</td>\n",
       "      <td>17048</td>\n",
       "      <td>24</td>\n",
       "      <td>...</td>\n",
       "      <td>3.105448</td>\n",
       "      <td>45.0</td>\n",
       "      <td>0.072581</td>\n",
       "      <td>0.615771</td>\n",
       "      <td>0.0</td>\n",
       "      <td>620.0</td>\n",
       "      <td>0</td>\n",
       "      <td>NaN</td>\n",
       "      <td>NaN</td>\n",
       "      <td>11</td>\n",
       "    </tr>\n",
       "  </tbody>\n",
       "</table>\n",
       "<p>3 rows × 40 columns</p>\n",
       "</div>"
      ],
      "text/plain": [
       "                   Unnamed: 0               circRNA_ID    chr     start  \\\n",
       "4441  chr11:47648631-47657123  chr11:47648631-47657123  chr11  47648631   \n",
       "4442  chr11:47650504-47652639  chr11:47650504-47652639  chr11  47650504   \n",
       "4446  chr11:47684577-47701625  chr11:47684577-47701625  chr11  47684577   \n",
       "\n",
       "           end strand                                 gene_id circRNA_type  \\\n",
       "4441  47657123      -   gencode::MTCH2::tc_ENSG00000109919.5,         exon   \n",
       "4442  47652639      -   gencode::MTCH2::tc_ENSG00000109919.5,         exon   \n",
       "4446  47701625      -  gencode::AGBL2::tc_ENSG00000165923.11,         exon   \n",
       "\n",
       "      genomic_size  sumReads  ...    SCE_exp_bp  SCE_obs_bp  \\\n",
       "4441          8492        21  ...      2.013533         0.0   \n",
       "4442          2135        25  ...      1.031810         0.0   \n",
       "4446         17048        24  ...      3.105448        45.0   \n",
       "\n",
       "      SCE_fraction_overlap  miRNA_exp_nr miRNA_obs_nr size_exon  \\\n",
       "4441              0.000000      0.399258          1.0     402.0   \n",
       "4442              0.000000      0.204595          0.0     206.0   \n",
       "4446              0.072581      0.615771          0.0     620.0   \n",
       "\n",
       "     max_miRNA_freq  max_miRNA_family max_miRNA_seeq_seq  chrom  \n",
       "4441              1           miR-377            UCACACA     11  \n",
       "4442              0               NaN                NaN     11  \n",
       "4446              0               NaN                NaN     11  \n",
       "\n",
       "[3 rows x 40 columns]"
      ]
     },
     "execution_count": 19,
     "metadata": {},
     "output_type": "execute_result"
    }
   ],
   "source": [
    "circ_data.loc[(circ_data.chr == 'chr11') & (circ_data.start > 45000000) & (circ_data.end < 55000000)]"
   ]
  },
  {
   "cell_type": "code",
   "execution_count": 20,
   "metadata": {
    "collapsed": true,
    "jupyter": {
     "outputs_hidden": true
    }
   },
   "outputs": [],
   "source": [
    "# def overlapping_intervals(genes, peaks):    \n",
    "#     lst = list()\n",
    "#     for tup in peaks.itertuples():\n",
    "#         df = genes.copy().loc[(genes.chrom == tup.chrom) & (genes.start < tup.end) & (genes.end > tup.start)]\n",
    "#         df['low_ils_start'] = tup.start\n",
    "#         df['low_ils_end'] = tup.end\n",
    "#         lst.append(df)\n",
    "#     return pandas.concat(lst)"
   ]
  },
  {
   "cell_type": "code",
   "execution_count": 21,
   "metadata": {
    "collapsed": true,
    "jupyter": {
     "outputs_hidden": true
    }
   },
   "outputs": [],
   "source": [
    "#overlapping_intervals(circ_data, human_chimp_ils)"
   ]
  },
  {
   "cell_type": "code",
   "execution_count": 22,
   "metadata": {
    "collapsed": true,
    "jupyter": {
     "outputs_hidden": true
    }
   },
   "outputs": [],
   "source": [
    "import GenomicIntervals\n",
    "from GenomicIntervals import bootstrap, by_chrom\n",
    "# import imp\n",
    "# imp.reload(GenomicIntervals)"
   ]
  },
  {
   "cell_type": "code",
   "execution_count": 23,
   "metadata": {},
   "outputs": [
    {
     "data": {
      "text/plain": [
       "(297, 24, 15719)"
      ]
     },
     "execution_count": 23,
     "metadata": {},
     "output_type": "execute_result"
    }
   ],
   "source": [
    "autosomes = list(map(str, range(23)))\n",
    "\n",
    "collapsed_circ_data = GenomicIntervals.interval_collapse(circ_data)\n",
    "del collapsed_circ_data['index'] # Hack: GenomicIntervals should do this...\n",
    "\n",
    "autosome_low_ils = (human_chimp_ils\n",
    "                    .loc[lambda df: df.chrom.isin(autosomes)]\n",
    "                   )\n",
    "\n",
    "# NB: instead of biomart genes I should use the set of genes used in the ciri2 pipeline\n",
    "autosome_genes = (pandas.read_hdf(results_dir / 'biomart_genes.hdf')\n",
    "                         .loc[lambda df: df.chrom.isin(autosomes) & (df['Gene type'] == 'protein_coding')]\n",
    "                         )\n",
    "collapsed_autosome_genes = GenomicIntervals.interval_collapse(autosome_genes)\n",
    "del collapsed_autosome_genes['index'] # Hack: GenomicIntervals should do this...\n",
    "\n",
    "len(collapsed_circ_data), len(autosome_low_ils), len(collapsed_autosome_genes)"
   ]
  },
  {
   "cell_type": "code",
   "execution_count": 24,
   "metadata": {
    "collapsed": true,
    "jupyter": {
     "outputs_hidden": true
    }
   },
   "outputs": [],
   "source": [
    "@by_chrom\n",
    "def genes_overlapping_intervals(ils, circ):    \n",
    "    lst = list()\n",
    "    for tup in circ.itertuples():\n",
    "        df = ils.loc[(ils.start < tup.end) & (ils.end > tup.start)]\n",
    "        lst.append(df)\n",
    "    return pandas.concat(lst)\n",
    "\n",
    "@bootstrap(chromosome_lengths, samples=1000)\n",
    "def count_ils_with_circ(ils, circ):\n",
    "    return len(genes_overlapping_intervals(ils, circ)) / len(ils)\n",
    "    \n"
   ]
  },
  {
   "cell_type": "markdown",
   "metadata": {},
   "source": [
    "Find low ILS regions overlapping a circRNA:"
   ]
  },
  {
   "cell_type": "code",
   "execution_count": 25,
   "metadata": {},
   "outputs": [
    {
     "data": {
      "text/html": [
       "<div>\n",
       "<style>\n",
       "    .dataframe thead tr:only-child th {\n",
       "        text-align: right;\n",
       "    }\n",
       "\n",
       "    .dataframe thead th {\n",
       "        text-align: left;\n",
       "    }\n",
       "\n",
       "    .dataframe tbody tr th {\n",
       "        vertical-align: top;\n",
       "    }\n",
       "</style>\n",
       "<table border=\"1\" class=\"dataframe\">\n",
       "  <thead>\n",
       "    <tr style=\"text-align: right;\">\n",
       "      <th></th>\n",
       "      <th>start</th>\n",
       "      <th>end</th>\n",
       "      <th>chrom</th>\n",
       "    </tr>\n",
       "  </thead>\n",
       "  <tbody>\n",
       "    <tr>\n",
       "      <th>0</th>\n",
       "      <td>9991948</td>\n",
       "      <td>9994918</td>\n",
       "      <td>1</td>\n",
       "    </tr>\n",
       "    <tr>\n",
       "      <th>1</th>\n",
       "      <td>33290913</td>\n",
       "      <td>33295668</td>\n",
       "      <td>1</td>\n",
       "    </tr>\n",
       "    <tr>\n",
       "      <th>2</th>\n",
       "      <td>42730785</td>\n",
       "      <td>42789498</td>\n",
       "      <td>1</td>\n",
       "    </tr>\n",
       "    <tr>\n",
       "      <th>3</th>\n",
       "      <td>47745912</td>\n",
       "      <td>47748131</td>\n",
       "      <td>1</td>\n",
       "    </tr>\n",
       "    <tr>\n",
       "      <th>4</th>\n",
       "      <td>47761436</td>\n",
       "      <td>47767420</td>\n",
       "      <td>1</td>\n",
       "    </tr>\n",
       "  </tbody>\n",
       "</table>\n",
       "</div>"
      ],
      "text/plain": [
       "      start       end chrom\n",
       "0   9991948   9994918     1\n",
       "1  33290913  33295668     1\n",
       "2  42730785  42789498     1\n",
       "3  47745912  47748131     1\n",
       "4  47761436  47767420     1"
      ]
     },
     "execution_count": 25,
     "metadata": {},
     "output_type": "execute_result"
    }
   ],
   "source": [
    "collapsed_circ_data.head()"
   ]
  },
  {
   "cell_type": "code",
   "execution_count": 26,
   "metadata": {},
   "outputs": [
    {
     "data": {
      "text/html": [
       "<div>\n",
       "<style>\n",
       "    .dataframe thead tr:only-child th {\n",
       "        text-align: right;\n",
       "    }\n",
       "\n",
       "    .dataframe thead th {\n",
       "        text-align: left;\n",
       "    }\n",
       "\n",
       "    .dataframe tbody tr th {\n",
       "        vertical-align: top;\n",
       "    }\n",
       "</style>\n",
       "<table border=\"1\" class=\"dataframe\">\n",
       "  <thead>\n",
       "    <tr style=\"text-align: right;\">\n",
       "      <th></th>\n",
       "      <th>chrom</th>\n",
       "      <th>test</th>\n",
       "      <th>end</th>\n",
       "      <th>start</th>\n",
       "      <th>prop_ils</th>\n",
       "      <th>run</th>\n",
       "    </tr>\n",
       "  </thead>\n",
       "  <tbody>\n",
       "    <tr>\n",
       "      <th>1</th>\n",
       "      <td>17</td>\n",
       "      <td>2</td>\n",
       "      <td>28000000</td>\n",
       "      <td>26000000</td>\n",
       "      <td>0.020825</td>\n",
       "      <td>2</td>\n",
       "    </tr>\n",
       "    <tr>\n",
       "      <th>1</th>\n",
       "      <td>2</td>\n",
       "      <td>2</td>\n",
       "      <td>92000000</td>\n",
       "      <td>91000000</td>\n",
       "      <td>0.045534</td>\n",
       "      <td>1</td>\n",
       "    </tr>\n",
       "    <tr>\n",
       "      <th>3</th>\n",
       "      <td>2</td>\n",
       "      <td>4</td>\n",
       "      <td>204000000</td>\n",
       "      <td>203000000</td>\n",
       "      <td>0.032888</td>\n",
       "      <td>1</td>\n",
       "    </tr>\n",
       "    <tr>\n",
       "      <th>1</th>\n",
       "      <td>10</td>\n",
       "      <td>2</td>\n",
       "      <td>39000000</td>\n",
       "      <td>38000000</td>\n",
       "      <td>0.034783</td>\n",
       "      <td>1</td>\n",
       "    </tr>\n",
       "    <tr>\n",
       "      <th>3</th>\n",
       "      <td>10</td>\n",
       "      <td>4</td>\n",
       "      <td>44000000</td>\n",
       "      <td>43000000</td>\n",
       "      <td>0.047739</td>\n",
       "      <td>1</td>\n",
       "    </tr>\n",
       "  </tbody>\n",
       "</table>\n",
       "</div>"
      ],
      "text/plain": [
       "  chrom  test        end      start  prop_ils  run\n",
       "1    17     2   28000000   26000000  0.020825    2\n",
       "1     2     2   92000000   91000000  0.045534    1\n",
       "3     2     4  204000000  203000000  0.032888    1\n",
       "1    10     2   39000000   38000000  0.034783    1\n",
       "3    10     4   44000000   43000000  0.047739    1"
      ]
     },
     "execution_count": 26,
     "metadata": {},
     "output_type": "execute_result"
    }
   ],
   "source": [
    "autosome_low_ils.head()"
   ]
  },
  {
   "cell_type": "code",
   "execution_count": 27,
   "metadata": {},
   "outputs": [
    {
     "data": {
      "text/html": [
       "<div>\n",
       "<style>\n",
       "    .dataframe thead tr:only-child th {\n",
       "        text-align: right;\n",
       "    }\n",
       "\n",
       "    .dataframe thead th {\n",
       "        text-align: left;\n",
       "    }\n",
       "\n",
       "    .dataframe tbody tr th {\n",
       "        vertical-align: top;\n",
       "    }\n",
       "</style>\n",
       "<table border=\"1\" class=\"dataframe\">\n",
       "  <thead>\n",
       "    <tr style=\"text-align: right;\">\n",
       "      <th></th>\n",
       "      <th>level_0</th>\n",
       "      <th>index</th>\n",
       "      <th>chrom</th>\n",
       "      <th>test</th>\n",
       "      <th>end</th>\n",
       "      <th>start</th>\n",
       "      <th>prop_ils</th>\n",
       "      <th>run</th>\n",
       "    </tr>\n",
       "  </thead>\n",
       "  <tbody>\n",
       "    <tr>\n",
       "      <th>0</th>\n",
       "      <td>5</td>\n",
       "      <td>5</td>\n",
       "      <td>10</td>\n",
       "      <td>6</td>\n",
       "      <td>77000000</td>\n",
       "      <td>74000000</td>\n",
       "      <td>0.033318</td>\n",
       "      <td>3</td>\n",
       "    </tr>\n",
       "    <tr>\n",
       "      <th>1</th>\n",
       "      <td>14</td>\n",
       "      <td>1</td>\n",
       "      <td>11</td>\n",
       "      <td>2</td>\n",
       "      <td>49000000</td>\n",
       "      <td>47000000</td>\n",
       "      <td>0.025925</td>\n",
       "      <td>2</td>\n",
       "    </tr>\n",
       "    <tr>\n",
       "      <th>3</th>\n",
       "      <td>20</td>\n",
       "      <td>1</td>\n",
       "      <td>16</td>\n",
       "      <td>2</td>\n",
       "      <td>68000000</td>\n",
       "      <td>67000000</td>\n",
       "      <td>0.037619</td>\n",
       "      <td>1</td>\n",
       "    </tr>\n",
       "    <tr>\n",
       "      <th>4</th>\n",
       "      <td>21</td>\n",
       "      <td>3</td>\n",
       "      <td>16</td>\n",
       "      <td>4</td>\n",
       "      <td>72000000</td>\n",
       "      <td>69000000</td>\n",
       "      <td>0.030979</td>\n",
       "      <td>3</td>\n",
       "    </tr>\n",
       "    <tr>\n",
       "      <th>5</th>\n",
       "      <td>0</td>\n",
       "      <td>1</td>\n",
       "      <td>17</td>\n",
       "      <td>2</td>\n",
       "      <td>28000000</td>\n",
       "      <td>26000000</td>\n",
       "      <td>0.020825</td>\n",
       "      <td>2</td>\n",
       "    </tr>\n",
       "    <tr>\n",
       "      <th>6</th>\n",
       "      <td>22</td>\n",
       "      <td>1</td>\n",
       "      <td>3</td>\n",
       "      <td>2</td>\n",
       "      <td>53000000</td>\n",
       "      <td>47000000</td>\n",
       "      <td>0.014290</td>\n",
       "      <td>6</td>\n",
       "    </tr>\n",
       "    <tr>\n",
       "      <th>9</th>\n",
       "      <td>10</td>\n",
       "      <td>3</td>\n",
       "      <td>5</td>\n",
       "      <td>4</td>\n",
       "      <td>138000000</td>\n",
       "      <td>137000000</td>\n",
       "      <td>0.037969</td>\n",
       "      <td>1</td>\n",
       "    </tr>\n",
       "  </tbody>\n",
       "</table>\n",
       "</div>"
      ],
      "text/plain": [
       "   level_0  index chrom  test        end      start  prop_ils  run\n",
       "0        5      5    10     6   77000000   74000000  0.033318    3\n",
       "1       14      1    11     2   49000000   47000000  0.025925    2\n",
       "3       20      1    16     2   68000000   67000000  0.037619    1\n",
       "4       21      3    16     4   72000000   69000000  0.030979    3\n",
       "5        0      1    17     2   28000000   26000000  0.020825    2\n",
       "6       22      1     3     2   53000000   47000000  0.014290    6\n",
       "9       10      3     5     4  138000000  137000000  0.037969    1"
      ]
     },
     "execution_count": 27,
     "metadata": {},
     "output_type": "execute_result"
    }
   ],
   "source": [
    "low_ils_with_circ = (genes_overlapping_intervals((autosome_low_ils\n",
    "                                                  .loc[lambda df: df.chrom.isin(collapsed_circ_data.chrom.unique())]\n",
    "                                                 ), \n",
    "                                                 (collapsed_circ_data\n",
    "                                                  .loc[lambda df: df.chrom.isin(autosome_low_ils.chrom.unique())]\n",
    "                                                 ))\n",
    "                     .drop_duplicates()\n",
    "                    )\n",
    "low_ils_with_circ"
   ]
  },
  {
   "cell_type": "markdown",
   "metadata": {},
   "source": [
    "Find circRNAs overlapping low ILS regions:"
   ]
  },
  {
   "cell_type": "code",
   "execution_count": 28,
   "metadata": {},
   "outputs": [
    {
     "data": {
      "text/html": [
       "<div>\n",
       "<style>\n",
       "    .dataframe thead tr:only-child th {\n",
       "        text-align: right;\n",
       "    }\n",
       "\n",
       "    .dataframe thead th {\n",
       "        text-align: left;\n",
       "    }\n",
       "\n",
       "    .dataframe tbody tr th {\n",
       "        vertical-align: top;\n",
       "    }\n",
       "</style>\n",
       "<table border=\"1\" class=\"dataframe\">\n",
       "  <thead>\n",
       "    <tr style=\"text-align: right;\">\n",
       "      <th></th>\n",
       "      <th>start</th>\n",
       "      <th>end</th>\n",
       "      <th>chrom</th>\n",
       "    </tr>\n",
       "  </thead>\n",
       "  <tbody>\n",
       "    <tr>\n",
       "      <th>0</th>\n",
       "      <td>9991948</td>\n",
       "      <td>9994918</td>\n",
       "      <td>1</td>\n",
       "    </tr>\n",
       "    <tr>\n",
       "      <th>1</th>\n",
       "      <td>33290913</td>\n",
       "      <td>33295668</td>\n",
       "      <td>1</td>\n",
       "    </tr>\n",
       "    <tr>\n",
       "      <th>2</th>\n",
       "      <td>42730785</td>\n",
       "      <td>42789498</td>\n",
       "      <td>1</td>\n",
       "    </tr>\n",
       "    <tr>\n",
       "      <th>3</th>\n",
       "      <td>47745912</td>\n",
       "      <td>47748131</td>\n",
       "      <td>1</td>\n",
       "    </tr>\n",
       "    <tr>\n",
       "      <th>4</th>\n",
       "      <td>47761436</td>\n",
       "      <td>47767420</td>\n",
       "      <td>1</td>\n",
       "    </tr>\n",
       "  </tbody>\n",
       "</table>\n",
       "</div>"
      ],
      "text/plain": [
       "      start       end chrom\n",
       "0   9991948   9994918     1\n",
       "1  33290913  33295668     1\n",
       "2  42730785  42789498     1\n",
       "3  47745912  47748131     1\n",
       "4  47761436  47767420     1"
      ]
     },
     "execution_count": 28,
     "metadata": {},
     "output_type": "execute_result"
    }
   ],
   "source": [
    "collapsed_circ_data.head()"
   ]
  },
  {
   "cell_type": "code",
   "execution_count": 29,
   "metadata": {},
   "outputs": [
    {
     "data": {
      "text/html": [
       "<div>\n",
       "<style>\n",
       "    .dataframe thead tr:only-child th {\n",
       "        text-align: right;\n",
       "    }\n",
       "\n",
       "    .dataframe thead th {\n",
       "        text-align: left;\n",
       "    }\n",
       "\n",
       "    .dataframe tbody tr th {\n",
       "        vertical-align: top;\n",
       "    }\n",
       "</style>\n",
       "<table border=\"1\" class=\"dataframe\">\n",
       "  <thead>\n",
       "    <tr style=\"text-align: right;\">\n",
       "      <th></th>\n",
       "      <th>level_0</th>\n",
       "      <th>index</th>\n",
       "      <th>start</th>\n",
       "      <th>end</th>\n",
       "      <th>chrom</th>\n",
       "    </tr>\n",
       "  </thead>\n",
       "  <tbody>\n",
       "    <tr>\n",
       "      <th>0</th>\n",
       "      <td>44</td>\n",
       "      <td>44</td>\n",
       "      <td>75029371</td>\n",
       "      <td>75038095</td>\n",
       "      <td>10</td>\n",
       "    </tr>\n",
       "    <tr>\n",
       "      <th>1</th>\n",
       "      <td>57</td>\n",
       "      <td>57</td>\n",
       "      <td>47648631</td>\n",
       "      <td>47652639</td>\n",
       "      <td>11</td>\n",
       "    </tr>\n",
       "    <tr>\n",
       "      <th>2</th>\n",
       "      <td>58</td>\n",
       "      <td>58</td>\n",
       "      <td>47684577</td>\n",
       "      <td>47701625</td>\n",
       "      <td>11</td>\n",
       "    </tr>\n",
       "    <tr>\n",
       "      <th>3</th>\n",
       "      <td>79</td>\n",
       "      <td>116</td>\n",
       "      <td>67397492</td>\n",
       "      <td>67405145</td>\n",
       "      <td>16</td>\n",
       "    </tr>\n",
       "    <tr>\n",
       "      <th>4</th>\n",
       "      <td>80</td>\n",
       "      <td>117</td>\n",
       "      <td>71186561</td>\n",
       "      <td>71220821</td>\n",
       "      <td>16</td>\n",
       "    </tr>\n",
       "    <tr>\n",
       "      <th>5</th>\n",
       "      <td>83</td>\n",
       "      <td>120</td>\n",
       "      <td>26918715</td>\n",
       "      <td>26920084</td>\n",
       "      <td>17</td>\n",
       "    </tr>\n",
       "    <tr>\n",
       "      <th>6</th>\n",
       "      <td>118</td>\n",
       "      <td>184</td>\n",
       "      <td>49249198</td>\n",
       "      <td>49282166</td>\n",
       "      <td>3</td>\n",
       "    </tr>\n",
       "    <tr>\n",
       "      <th>7</th>\n",
       "      <td>119</td>\n",
       "      <td>185</td>\n",
       "      <td>52446826</td>\n",
       "      <td>52448603</td>\n",
       "      <td>3</td>\n",
       "    </tr>\n",
       "    <tr>\n",
       "      <th>8</th>\n",
       "      <td>120</td>\n",
       "      <td>186</td>\n",
       "      <td>52771601</td>\n",
       "      <td>52775515</td>\n",
       "      <td>3</td>\n",
       "    </tr>\n",
       "    <tr>\n",
       "      <th>9</th>\n",
       "      <td>148</td>\n",
       "      <td>229</td>\n",
       "      <td>137654907</td>\n",
       "      <td>137665336</td>\n",
       "      <td>5</td>\n",
       "    </tr>\n",
       "  </tbody>\n",
       "</table>\n",
       "</div>"
      ],
      "text/plain": [
       "   level_0  index      start        end chrom\n",
       "0       44     44   75029371   75038095    10\n",
       "1       57     57   47648631   47652639    11\n",
       "2       58     58   47684577   47701625    11\n",
       "3       79    116   67397492   67405145    16\n",
       "4       80    117   71186561   71220821    16\n",
       "5       83    120   26918715   26920084    17\n",
       "6      118    184   49249198   49282166     3\n",
       "7      119    185   52446826   52448603     3\n",
       "8      120    186   52771601   52775515     3\n",
       "9      148    229  137654907  137665336     5"
      ]
     },
     "execution_count": 29,
     "metadata": {},
     "output_type": "execute_result"
    }
   ],
   "source": [
    "circ_in_low_ils = (genes_overlapping_intervals((collapsed_circ_data\n",
    "                                                  .loc[lambda df: df.chrom.isin(autosome_low_ils.chrom.unique())]\n",
    "                                                 ),\n",
    "                                                 (autosome_low_ils\n",
    "                                                  .loc[lambda df: df.chrom.isin(collapsed_circ_data.chrom.unique())]\n",
    "                                                 ))\n",
    "                     .drop_duplicates()\n",
    "                    )\n",
    "circ_in_low_ils"
   ]
  },
  {
   "cell_type": "code",
   "execution_count": 30,
   "metadata": {},
   "outputs": [
    {
     "data": {
      "text/html": [
       "<div>\n",
       "<style>\n",
       "    .dataframe thead tr:only-child th {\n",
       "        text-align: right;\n",
       "    }\n",
       "\n",
       "    .dataframe thead th {\n",
       "        text-align: left;\n",
       "    }\n",
       "\n",
       "    .dataframe tbody tr th {\n",
       "        vertical-align: top;\n",
       "    }\n",
       "</style>\n",
       "<table border=\"1\" class=\"dataframe\">\n",
       "  <thead>\n",
       "    <tr style=\"text-align: right;\">\n",
       "      <th></th>\n",
       "      <th>level_0</th>\n",
       "      <th>index</th>\n",
       "      <th>start</th>\n",
       "      <th>end</th>\n",
       "      <th>chrom</th>\n",
       "    </tr>\n",
       "  </thead>\n",
       "  <tbody>\n",
       "    <tr>\n",
       "      <th>0</th>\n",
       "      <td>573</td>\n",
       "      <td>573</td>\n",
       "      <td>48998527</td>\n",
       "      <td>49242641</td>\n",
       "      <td>1</td>\n",
       "    </tr>\n",
       "    <tr>\n",
       "      <th>1</th>\n",
       "      <td>1331</td>\n",
       "      <td>1331</td>\n",
       "      <td>174128548</td>\n",
       "      <td>174418683</td>\n",
       "      <td>1</td>\n",
       "    </tr>\n",
       "    <tr>\n",
       "      <th>2</th>\n",
       "      <td>1332</td>\n",
       "      <td>1332</td>\n",
       "      <td>174968300</td>\n",
       "      <td>174992561</td>\n",
       "      <td>1</td>\n",
       "    </tr>\n",
       "    <tr>\n",
       "      <th>3</th>\n",
       "      <td>1909</td>\n",
       "      <td>1909</td>\n",
       "      <td>38091751</td>\n",
       "      <td>38147034</td>\n",
       "      <td>10</td>\n",
       "    </tr>\n",
       "    <tr>\n",
       "      <th>4</th>\n",
       "      <td>1910</td>\n",
       "      <td>1910</td>\n",
       "      <td>38238500</td>\n",
       "      <td>38265561</td>\n",
       "      <td>10</td>\n",
       "    </tr>\n",
       "  </tbody>\n",
       "</table>\n",
       "</div>"
      ],
      "text/plain": [
       "   level_0  index      start        end chrom\n",
       "0      573    573   48998527   49242641     1\n",
       "1     1331   1331  174128548  174418683     1\n",
       "2     1332   1332  174968300  174992561     1\n",
       "3     1909   1909   38091751   38147034    10\n",
       "4     1910   1910   38238500   38265561    10"
      ]
     },
     "execution_count": 30,
     "metadata": {},
     "output_type": "execute_result"
    }
   ],
   "source": [
    "genes_in_low_ils = (genes_overlapping_intervals((collapsed_autosome_genes\n",
    "                                                  .loc[lambda df: df.chrom.isin(autosome_low_ils.chrom.unique())]\n",
    "                                                 ),\n",
    "                                                 (autosome_low_ils\n",
    "                                                  .loc[lambda df: df.chrom.isin(collapsed_circ_data.chrom.unique())]\n",
    "                                                 ))\n",
    "                     .drop_duplicates()\n",
    "                    )\n",
    "genes_in_low_ils.head()"
   ]
  },
  {
   "cell_type": "markdown",
   "metadata": {},
   "source": [
    "Enrichment of circRNA in low ILS regions:"
   ]
  },
  {
   "cell_type": "code",
   "execution_count": 31,
   "metadata": {},
   "outputs": [
    {
     "ename": "NameError",
     "evalue": "name 'ils' is not defined",
     "output_type": "error",
     "traceback": [
      "\u001b[0;31m---------------------------------------------------------------------------\u001b[0m",
      "\u001b[0;31mNameError\u001b[0m                                 Traceback (most recent call last)",
      "\u001b[0;32m<ipython-input-31-37f18d0e9826>\u001b[0m in \u001b[0;36m<module>\u001b[0;34m()\u001b[0m\n\u001b[0;32m----> 1\u001b[0;31m count_ils_with_circ(ils.loc[lambda df: df.chrom.isin(collapsed.chrom.unique())], \n\u001b[0m\u001b[1;32m      2\u001b[0m                     collapsed.loc[lambda df: df.chrom.isin(human_chimp_ils.chrom.unique())] )\n",
      "\u001b[0;31mNameError\u001b[0m: name 'ils' is not defined"
     ]
    }
   ],
   "source": [
    "count_ils_with_circ(ils.loc[lambda df: df.chrom.isin(collapsed.chrom.unique())], \n",
    "                    collapsed.loc[lambda df: df.chrom.isin(human_chimp_ils.chrom.unique())] )"
   ]
  },
  {
   "cell_type": "markdown",
   "metadata": {},
   "source": [
    "circRNA to gene count in low ILS and in all autosomes:"
   ]
  },
  {
   "cell_type": "code",
   "execution_count": null,
   "metadata": {},
   "outputs": [],
   "source": [
    "len(circ_in_low_ils) / len(genes_in_low_ils), len(collapsed_circ_data) / len(collapsed_autosome_genes)"
   ]
  },
  {
   "cell_type": "code",
   "execution_count": null,
   "metadata": {},
   "outputs": [],
   "source": [
    "len(circ_in_low_ils), len(genes_in_low_ils), len(collapsed_circ_data), len(collapsed_autosome_genes)"
   ]
  },
  {
   "cell_type": "code",
   "execution_count": null,
   "metadata": {},
   "outputs": [],
   "source": [
    "len(collapsed_circ_data.loc[lambda df: df.chrom.isin(autosome_low_ils.chrom.unique())])"
   ]
  },
  {
   "cell_type": "code",
   "execution_count": null,
   "metadata": {},
   "outputs": [],
   "source": [
    "len(collapsed_autosome_genes.loc[lambda df: df.chrom.isin(autosome_low_ils.chrom.unique())])"
   ]
  },
  {
   "cell_type": "code",
   "execution_count": null,
   "metadata": {},
   "outputs": [],
   "source": [
    "import scipy\n",
    "\n",
    "scipy.stats.binom_test(len(circ_in_low_ils), \n",
    "                       len(genes_in_low_ils),\n",
    "                       len(collapsed_circ_data) / len(collapsed_autosome_genes),\n",
    "                       alternative='greater')\n",
    "\n"
   ]
  },
  {
   "cell_type": "code",
   "execution_count": null,
   "metadata": {
    "collapsed": true,
    "jupyter": {
     "outputs_hidden": true
    }
   },
   "outputs": [],
   "source": []
  }
 ],
 "metadata": {
  "anaconda-cloud": {},
  "kernelspec": {
   "display_name": "Python 3",
   "language": "python",
   "name": "python3"
  },
  "language_info": {
   "codemirror_mode": {
    "name": "ipython",
    "version": 3
   },
   "file_extension": ".py",
   "mimetype": "text/x-python",
   "name": "python",
   "nbconvert_exporter": "python",
   "pygments_lexer": "ipython3",
   "version": "3.6.9"
  }
 },
 "nbformat": 4,
 "nbformat_minor": 4
}
