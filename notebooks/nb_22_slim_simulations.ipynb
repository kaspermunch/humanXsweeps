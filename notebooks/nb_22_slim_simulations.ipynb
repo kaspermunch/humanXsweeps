{
 "cells": [
  {
   "cell_type": "markdown",
   "metadata": {},
   "source": [
    "\n",
    "# Slim simulations\n",
    "\n"
   ]
  },
  {
   "cell_type": "markdown",
   "metadata": {},
   "source": [
    "Load global analysis variables:"
   ]
  },
  {
   "cell_type": "code",
   "execution_count": 1,
   "metadata": {},
   "outputs": [],
   "source": [
    "%run standard.py"
   ]
  },
  {
   "cell_type": "code",
   "execution_count": 2,
   "metadata": {},
   "outputs": [
    {
     "name": "stderr",
     "output_type": "stream",
     "text": [
      "/home/kmt/anaconda3/envs/simons/lib/python3.6/site-packages/statsmodels/tools/_testing.py:19: FutureWarning: pandas.util.testing is deprecated. Use the functions in the public API at pandas.testing instead.\n",
      "  import pandas.util.testing as tm\n"
     ]
    }
   ],
   "source": [
    "import re, os, sys, pickle, pickle, math\n",
    "from pathlib import Path\n",
    "import numpy as np\n",
    "import pandas as pd\n",
    "import scipy\n",
    "from pandas import DataFrame, Series\n",
    "from sklearn.decomposition import PCA\n",
    "\n",
    "# my own libaries\n",
    "from ChromosomeWindows import window\n",
    "import genominterv"
   ]
  },
  {
   "cell_type": "code",
   "execution_count": 3,
   "metadata": {},
   "outputs": [
    {
     "data": {
      "text/html": [
       "<style> table { font-variant-numeric: tabular-nums; } </style>\n"
      ],
      "text/plain": [
       "<IPython.core.display.HTML object>"
      ]
     },
     "metadata": {},
     "output_type": "display_data"
    }
   ],
   "source": [
    "%%html\n",
    "<style> table { font-variant-numeric: tabular-nums; } </style>"
   ]
  },
  {
   "cell_type": "markdown",
   "metadata": {},
   "source": [
    "Import variables global to the entire analysis:"
   ]
  },
  {
   "cell_type": "code",
   "execution_count": 4,
   "metadata": {},
   "outputs": [],
   "source": [
    "import analysis_globals as ag"
   ]
  },
  {
   "cell_type": "markdown",
   "metadata": {},
   "source": [
    "Local code in the scripts dir on the cluster:"
   ]
  },
  {
   "cell_type": "code",
   "execution_count": 5,
   "metadata": {},
   "outputs": [],
   "source": [
    "if str(ag.scripts_dir) not in sys.path:\n",
    "    sys.path.append(str(ag.scripts_dir))\n",
    "\n",
    "import simons_meta_data\n",
    "import hg19_chrom_sizes"
   ]
  },
  {
   "cell_type": "markdown",
   "metadata": {},
   "source": [
    "Plotting setup:"
   ]
  },
  {
   "cell_type": "code",
   "execution_count": 6,
   "metadata": {},
   "outputs": [
    {
     "name": "stderr",
     "output_type": "stream",
     "text": [
      "In /home/kmt/anaconda3/envs/simons/lib/python3.6/site-packages/matplotlib/mpl-data/stylelib/_classic_test.mplstyle: \n",
      "The text.latex.preview rcparam was deprecated in Matplotlib 3.3 and will be removed two minor releases later.\n",
      "In /home/kmt/anaconda3/envs/simons/lib/python3.6/site-packages/matplotlib/mpl-data/stylelib/_classic_test.mplstyle: \n",
      "The mathtext.fallback_to_cm rcparam was deprecated in Matplotlib 3.3 and will be removed two minor releases later.\n",
      "In /home/kmt/anaconda3/envs/simons/lib/python3.6/site-packages/matplotlib/mpl-data/stylelib/_classic_test.mplstyle: Support for setting the 'mathtext.fallback_to_cm' rcParam is deprecated since 3.3 and will be removed two minor releases later; use 'mathtext.fallback : 'cm' instead.\n",
      "In /home/kmt/anaconda3/envs/simons/lib/python3.6/site-packages/matplotlib/mpl-data/stylelib/_classic_test.mplstyle: \n",
      "The validate_bool_maybe_none function was deprecated in Matplotlib 3.3 and will be removed two minor releases later.\n",
      "In /home/kmt/anaconda3/envs/simons/lib/python3.6/site-packages/matplotlib/mpl-data/stylelib/_classic_test.mplstyle: \n",
      "The savefig.jpeg_quality rcparam was deprecated in Matplotlib 3.3 and will be removed two minor releases later.\n",
      "In /home/kmt/anaconda3/envs/simons/lib/python3.6/site-packages/matplotlib/mpl-data/stylelib/_classic_test.mplstyle: \n",
      "The keymap.all_axes rcparam was deprecated in Matplotlib 3.3 and will be removed two minor releases later.\n",
      "In /home/kmt/anaconda3/envs/simons/lib/python3.6/site-packages/matplotlib/mpl-data/stylelib/_classic_test.mplstyle: \n",
      "The animation.avconv_path rcparam was deprecated in Matplotlib 3.3 and will be removed two minor releases later.\n",
      "In /home/kmt/anaconda3/envs/simons/lib/python3.6/site-packages/matplotlib/mpl-data/stylelib/_classic_test.mplstyle: \n",
      "The animation.avconv_args rcparam was deprecated in Matplotlib 3.3 and will be removed two minor releases later.\n"
     ]
    }
   ],
   "source": [
    "%matplotlib inline\n",
    "\n",
    "# Make inline plots vector graphics instead of raster graphics\n",
    "from IPython.display import set_matplotlib_formats\n",
    "# set_matplotlib_formats('pdf', 'svg')\n",
    "set_matplotlib_formats('retina', 'png')\n",
    "\n",
    "import matplotlib\n",
    "import matplotlib.pyplot as plt\n",
    "from matplotlib.colors import ListedColormap\n",
    "from matplotlib.patches import Rectangle\n",
    "# from mpl_toolkits.basemap import Basemap\n",
    "#matplotlib.rcParams['figure.figsize'] = (20.0, 10.0)\n",
    "\n",
    "import mpld3\n",
    "\n",
    "import seaborn as sns\n",
    "sns.set() # seaborn niceness\n",
    "sns.set_style(\"whitegrid\")\n",
    "sns.set_context(\"notebook\")\n",
    "\n",
    "# lowess for plotting\n",
    "from statsmodels.nonparametric.smoothers_lowess import lowess\n",
    "\n",
    "def stairs(df, start='start', end='end', pos='pos', endtrim=0):\n",
    "    \"Turn a df with start, end into one with pos to plot as stairs\"\n",
    "    df1 = df.copy(deep=True)\n",
    "    df2 = df.copy(deep=True)\n",
    "    df1[pos] = df1[start]\n",
    "    df2[pos] = df2[end] - endtrim\n",
    "    return pd.concat([df1, df2]).sort_values([start, end])\n",
    "\n",
    "def abline(slope, intercept, ax=None):\n",
    "    \"Add a straight line through the plot\"\n",
    "    if ax is None:\n",
    "        ax = plt.gca()\n",
    "    x_vals = np.array(ax.get_xlim())\n",
    "    y_vals = intercept + slope * x_vals\n",
    "    ax.plot(x_vals, y_vals, '--', color='grey')"
   ]
  },
  {
   "cell_type": "markdown",
   "metadata": {},
   "source": [
    "Ignore warnings:"
   ]
  },
  {
   "cell_type": "code",
   "execution_count": 7,
   "metadata": {},
   "outputs": [],
   "source": [
    "# silence deprecation warnings (lots from seaborn)\n",
    "import warnings\n",
    "warnings.filterwarnings(\"ignore\", category=DeprecationWarning) \n",
    "warnings.filterwarnings(\"ignore\", category=np.VisibleDeprecationWarning)"
   ]
  },
  {
   "cell_type": "markdown",
   "metadata": {},
   "source": [
    "## Load meta data\n",
    "\n",
    "Easy loading of meta data in a consistent manner across code"
   ]
  },
  {
   "cell_type": "code",
   "execution_count": 8,
   "metadata": {},
   "outputs": [],
   "source": [
    "individuals, populations, regions = simons_meta_data.get_meta_data(meta_data_dir=ag.meta_data_dir)\n",
    "\n",
    "chromosome_lengths = dict((k.replace('chr', ''), v) for k, v in hg19_chrom_sizes.hg19_chrom_sizes.items())"
   ]
  },
  {
   "cell_type": "markdown",
   "metadata": {},
   "source": [
    "## Sanity check of simulated autosomal diversity\n",
    "\n",
    "Load simulation of autosome to check that diversity match expected diversity using the Pool-Nielsen coputation above."
   ]
  },
  {
   "cell_type": "code",
   "execution_count": 9,
   "metadata": {},
   "outputs": [
    {
     "name": "stdout",
     "output_type": "stream",
     "text": [
      "standard_100_11300_A_nosweep_0_0_0.hdf 0.0006706096711202471\n"
     ]
    }
   ],
   "source": [
    "dir_path = ag.root_dir / 'steps/slim/simulations/standard/100/11300/A/nosweep/0/0/'\n",
    "for path in dir_path.iterdir():\n",
    "    if path.name.endswith('0_0_0.hdf'):\n",
    "        df = pd.read_hdf(path)\n",
    "        print(path.name, df.dist.mean())"
   ]
  },
  {
   "cell_type": "markdown",
   "metadata": {},
   "source": [
    "Looks ok."
   ]
  },
  {
   "cell_type": "markdown",
   "metadata": {},
   "source": [
    "## Facet plotting function"
   ]
  },
  {
   "cell_type": "code",
   "execution_count": 10,
   "metadata": {},
   "outputs": [],
   "source": [
    "def facet_plot(start, end, prop_swept, **kwargs):\n",
    "    x = [j for i in zip(start, end) for j in i]\n",
    "    y = [j for i in zip(prop_swept, prop_swept) for j in i]      \n",
    "    plt.plot(x, y, color='black', linewidth=0.2)\n",
    "    plt.ylim((0, 1.1))\n",
    "    plt.fill_between(x, 0, y, color='black', alpha=0.01)\n",
    "    plt.axhline(y=0.29, linestyle='dashed')"
   ]
  },
  {
   "cell_type": "markdown",
   "metadata": {},
   "source": [
    "## Load summary data for sweeps called on X chromosome simulations"
   ]
  },
  {
   "cell_type": "code",
   "execution_count": 11,
   "metadata": {},
   "outputs": [
    {
     "data": {
      "text/html": [
       "<div>\n",
       "<style scoped>\n",
       "    .dataframe tbody tr th:only-of-type {\n",
       "        vertical-align: middle;\n",
       "    }\n",
       "\n",
       "    .dataframe tbody tr th {\n",
       "        vertical-align: top;\n",
       "    }\n",
       "\n",
       "    .dataframe thead th {\n",
       "        text-align: right;\n",
       "    }\n",
       "</style>\n",
       "<table border=\"1\" class=\"dataframe\">\n",
       "  <thead>\n",
       "    <tr style=\"text-align: right;\">\n",
       "      <th></th>\n",
       "      <th>start</th>\n",
       "      <th>end</th>\n",
       "      <th>nr_swept</th>\n",
       "      <th>total</th>\n",
       "      <th>demography</th>\n",
       "      <th>chrom</th>\n",
       "      <th>size_reduction</th>\n",
       "      <th>rec_rate_per_gen</th>\n",
       "      <th>sweep_start</th>\n",
       "      <th>sweep_type</th>\n",
       "      <th>selcoef</th>\n",
       "      <th>replication</th>\n",
       "      <th>min_clade_percent</th>\n",
       "      <th>prop_swept</th>\n",
       "      <th>x_auto_ratio</th>\n",
       "    </tr>\n",
       "  </thead>\n",
       "  <tbody>\n",
       "    <tr>\n",
       "      <th>0</th>\n",
       "      <td>0</td>\n",
       "      <td>100000</td>\n",
       "      <td>0</td>\n",
       "      <td>140</td>\n",
       "      <td>truncated</td>\n",
       "      <td>A</td>\n",
       "      <td>0.64</td>\n",
       "      <td>1.160000e-08</td>\n",
       "      <td>0</td>\n",
       "      <td>nosweep</td>\n",
       "      <td>0.0</td>\n",
       "      <td>2</td>\n",
       "      <td>29</td>\n",
       "      <td>0.0</td>\n",
       "      <td>0.48</td>\n",
       "    </tr>\n",
       "    <tr>\n",
       "      <th>1</th>\n",
       "      <td>100000</td>\n",
       "      <td>200000</td>\n",
       "      <td>0</td>\n",
       "      <td>140</td>\n",
       "      <td>truncated</td>\n",
       "      <td>A</td>\n",
       "      <td>0.64</td>\n",
       "      <td>1.160000e-08</td>\n",
       "      <td>0</td>\n",
       "      <td>nosweep</td>\n",
       "      <td>0.0</td>\n",
       "      <td>2</td>\n",
       "      <td>29</td>\n",
       "      <td>0.0</td>\n",
       "      <td>0.48</td>\n",
       "    </tr>\n",
       "    <tr>\n",
       "      <th>2</th>\n",
       "      <td>200000</td>\n",
       "      <td>300000</td>\n",
       "      <td>0</td>\n",
       "      <td>140</td>\n",
       "      <td>truncated</td>\n",
       "      <td>A</td>\n",
       "      <td>0.64</td>\n",
       "      <td>1.160000e-08</td>\n",
       "      <td>0</td>\n",
       "      <td>nosweep</td>\n",
       "      <td>0.0</td>\n",
       "      <td>2</td>\n",
       "      <td>29</td>\n",
       "      <td>0.0</td>\n",
       "      <td>0.48</td>\n",
       "    </tr>\n",
       "    <tr>\n",
       "      <th>3</th>\n",
       "      <td>300000</td>\n",
       "      <td>400000</td>\n",
       "      <td>0</td>\n",
       "      <td>140</td>\n",
       "      <td>truncated</td>\n",
       "      <td>A</td>\n",
       "      <td>0.64</td>\n",
       "      <td>1.160000e-08</td>\n",
       "      <td>0</td>\n",
       "      <td>nosweep</td>\n",
       "      <td>0.0</td>\n",
       "      <td>2</td>\n",
       "      <td>29</td>\n",
       "      <td>0.0</td>\n",
       "      <td>0.48</td>\n",
       "    </tr>\n",
       "    <tr>\n",
       "      <th>4</th>\n",
       "      <td>400000</td>\n",
       "      <td>500000</td>\n",
       "      <td>0</td>\n",
       "      <td>140</td>\n",
       "      <td>truncated</td>\n",
       "      <td>A</td>\n",
       "      <td>0.64</td>\n",
       "      <td>1.160000e-08</td>\n",
       "      <td>0</td>\n",
       "      <td>nosweep</td>\n",
       "      <td>0.0</td>\n",
       "      <td>2</td>\n",
       "      <td>29</td>\n",
       "      <td>0.0</td>\n",
       "      <td>0.48</td>\n",
       "    </tr>\n",
       "  </tbody>\n",
       "</table>\n",
       "</div>"
      ],
      "text/plain": [
       "    start     end  nr_swept  total demography chrom  size_reduction  \\\n",
       "0       0  100000         0    140  truncated     A            0.64   \n",
       "1  100000  200000         0    140  truncated     A            0.64   \n",
       "2  200000  300000         0    140  truncated     A            0.64   \n",
       "3  300000  400000         0    140  truncated     A            0.64   \n",
       "4  400000  500000         0    140  truncated     A            0.64   \n",
       "\n",
       "   rec_rate_per_gen  sweep_start sweep_type  selcoef  replication  \\\n",
       "0      1.160000e-08            0    nosweep      0.0            2   \n",
       "1      1.160000e-08            0    nosweep      0.0            2   \n",
       "2      1.160000e-08            0    nosweep      0.0            2   \n",
       "3      1.160000e-08            0    nosweep      0.0            2   \n",
       "4      1.160000e-08            0    nosweep      0.0            2   \n",
       "\n",
       "  min_clade_percent  prop_swept  x_auto_ratio  \n",
       "0                29         0.0          0.48  \n",
       "1                29         0.0          0.48  \n",
       "2                29         0.0          0.48  \n",
       "3                29         0.0          0.48  \n",
       "4                29         0.0          0.48  "
      ]
     },
     "execution_count": 11,
     "metadata": {},
     "output_type": "execute_result"
    }
   ],
   "source": [
    "prop_swept_data_auto = pd.read_hdf(str(ag.steps_dir / 'slim' / f'slim_summary.hdf')).loc[lambda df: df.chrom == 'A']\n",
    "prop_swept_data_auto['prop_swept'] = prop_swept_data_auto.nr_swept / prop_swept_data_auto.total\n",
    "prop_swept_data_auto['x_auto_ratio'] = prop_swept_data_auto['size_reduction'] * 3 / 4\n",
    "prop_swept_data_auto.head()"
   ]
  },
  {
   "cell_type": "code",
   "execution_count": 12,
   "metadata": {},
   "outputs": [
    {
     "ename": "KeyboardInterrupt",
     "evalue": "",
     "output_type": "error",
     "traceback": [
      "\u001b[0;31m---------------------------------------------------------------------------\u001b[0m",
      "\u001b[0;31mKeyboardInterrupt\u001b[0m                         Traceback (most recent call last)",
      "\u001b[0;32m<ipython-input-12-c13b4a087535>\u001b[0m in \u001b[0;36m<module>\u001b[0;34m\u001b[0m\n\u001b[1;32m      6\u001b[0m                       \u001b[0mhue\u001b[0m\u001b[0;34m=\u001b[0m\u001b[0;34m'replication'\u001b[0m\u001b[0;34m,\u001b[0m \u001b[0msharex\u001b[0m\u001b[0;34m=\u001b[0m\u001b[0;32mTrue\u001b[0m\u001b[0;34m,\u001b[0m \u001b[0msharey\u001b[0m\u001b[0;34m=\u001b[0m\u001b[0;32mTrue\u001b[0m\u001b[0;34m,\u001b[0m \u001b[0mmargin_titles\u001b[0m\u001b[0;34m=\u001b[0m\u001b[0;32mTrue\u001b[0m\u001b[0;34m,\u001b[0m\u001b[0;34m\u001b[0m\u001b[0;34m\u001b[0m\u001b[0m\n\u001b[1;32m      7\u001b[0m                      height=2, aspect=3)\n\u001b[0;32m----> 8\u001b[0;31m     \u001b[0mg\u001b[0m\u001b[0;34m.\u001b[0m\u001b[0mmap\u001b[0m\u001b[0;34m(\u001b[0m\u001b[0mfacet_plot\u001b[0m\u001b[0;34m,\u001b[0m \u001b[0;34m'start'\u001b[0m\u001b[0;34m,\u001b[0m \u001b[0;34m'end'\u001b[0m\u001b[0;34m,\u001b[0m \u001b[0;34m'prop_swept'\u001b[0m\u001b[0;34m)\u001b[0m\u001b[0;34m\u001b[0m\u001b[0;34m\u001b[0m\u001b[0m\n\u001b[0m\u001b[1;32m      9\u001b[0m \u001b[0;34m\u001b[0m\u001b[0m\n\u001b[1;32m     10\u001b[0m     \u001b[0;32mfor\u001b[0m \u001b[0max\u001b[0m \u001b[0;32min\u001b[0m \u001b[0mg\u001b[0m\u001b[0;34m.\u001b[0m\u001b[0maxes\u001b[0m\u001b[0;34m.\u001b[0m\u001b[0mflat\u001b[0m\u001b[0;34m:\u001b[0m\u001b[0;34m\u001b[0m\u001b[0;34m\u001b[0m\u001b[0m\n",
      "\u001b[0;32m~/anaconda3/envs/simons/lib/python3.6/site-packages/seaborn/axisgrid.py\u001b[0m in \u001b[0;36mmap\u001b[0;34m(self, func, *args, **kwargs)\u001b[0m\n\u001b[1;32m    755\u001b[0m \u001b[0;34m\u001b[0m\u001b[0m\n\u001b[1;32m    756\u001b[0m         \u001b[0;31m# Finalize the annotations and layout\u001b[0m\u001b[0;34m\u001b[0m\u001b[0;34m\u001b[0m\u001b[0;34m\u001b[0m\u001b[0m\n\u001b[0;32m--> 757\u001b[0;31m         \u001b[0mself\u001b[0m\u001b[0;34m.\u001b[0m\u001b[0m_finalize_grid\u001b[0m\u001b[0;34m(\u001b[0m\u001b[0margs\u001b[0m\u001b[0;34m[\u001b[0m\u001b[0;34m:\u001b[0m\u001b[0;36m2\u001b[0m\u001b[0;34m]\u001b[0m\u001b[0;34m)\u001b[0m\u001b[0;34m\u001b[0m\u001b[0;34m\u001b[0m\u001b[0m\n\u001b[0m\u001b[1;32m    758\u001b[0m \u001b[0;34m\u001b[0m\u001b[0m\n\u001b[1;32m    759\u001b[0m         \u001b[0;32mreturn\u001b[0m \u001b[0mself\u001b[0m\u001b[0;34m\u001b[0m\u001b[0;34m\u001b[0m\u001b[0m\n",
      "\u001b[0;32m~/anaconda3/envs/simons/lib/python3.6/site-packages/seaborn/axisgrid.py\u001b[0m in \u001b[0;36m_finalize_grid\u001b[0;34m(self, axlabels)\u001b[0m\n\u001b[1;32m    846\u001b[0m         \u001b[0mself\u001b[0m\u001b[0;34m.\u001b[0m\u001b[0mset_axis_labels\u001b[0m\u001b[0;34m(\u001b[0m\u001b[0;34m*\u001b[0m\u001b[0maxlabels\u001b[0m\u001b[0;34m)\u001b[0m\u001b[0;34m\u001b[0m\u001b[0;34m\u001b[0m\u001b[0m\n\u001b[1;32m    847\u001b[0m         \u001b[0mself\u001b[0m\u001b[0;34m.\u001b[0m\u001b[0mset_titles\u001b[0m\u001b[0;34m(\u001b[0m\u001b[0;34m)\u001b[0m\u001b[0;34m\u001b[0m\u001b[0;34m\u001b[0m\u001b[0m\n\u001b[0;32m--> 848\u001b[0;31m         \u001b[0mself\u001b[0m\u001b[0;34m.\u001b[0m\u001b[0mfig\u001b[0m\u001b[0;34m.\u001b[0m\u001b[0mtight_layout\u001b[0m\u001b[0;34m(\u001b[0m\u001b[0;34m)\u001b[0m\u001b[0;34m\u001b[0m\u001b[0;34m\u001b[0m\u001b[0m\n\u001b[0m\u001b[1;32m    849\u001b[0m \u001b[0;34m\u001b[0m\u001b[0m\n\u001b[1;32m    850\u001b[0m     \u001b[0;32mdef\u001b[0m \u001b[0mfacet_axis\u001b[0m\u001b[0;34m(\u001b[0m\u001b[0mself\u001b[0m\u001b[0;34m,\u001b[0m \u001b[0mrow_i\u001b[0m\u001b[0;34m,\u001b[0m \u001b[0mcol_j\u001b[0m\u001b[0;34m)\u001b[0m\u001b[0;34m:\u001b[0m\u001b[0;34m\u001b[0m\u001b[0;34m\u001b[0m\u001b[0m\n",
      "\u001b[0;32m~/anaconda3/envs/simons/lib/python3.6/site-packages/matplotlib/cbook/deprecation.py\u001b[0m in \u001b[0;36mwrapper\u001b[0;34m(*inner_args, **inner_kwargs)\u001b[0m\n\u001b[1;32m    409\u001b[0m                          \u001b[0;32melse\u001b[0m \u001b[0mdeprecation_addendum\u001b[0m\u001b[0;34m,\u001b[0m\u001b[0;34m\u001b[0m\u001b[0;34m\u001b[0m\u001b[0m\n\u001b[1;32m    410\u001b[0m                 **kwargs)\n\u001b[0;32m--> 411\u001b[0;31m         \u001b[0;32mreturn\u001b[0m \u001b[0mfunc\u001b[0m\u001b[0;34m(\u001b[0m\u001b[0;34m*\u001b[0m\u001b[0minner_args\u001b[0m\u001b[0;34m,\u001b[0m \u001b[0;34m**\u001b[0m\u001b[0minner_kwargs\u001b[0m\u001b[0;34m)\u001b[0m\u001b[0;34m\u001b[0m\u001b[0;34m\u001b[0m\u001b[0m\n\u001b[0m\u001b[1;32m    412\u001b[0m \u001b[0;34m\u001b[0m\u001b[0m\n\u001b[1;32m    413\u001b[0m     \u001b[0;32mreturn\u001b[0m \u001b[0mwrapper\u001b[0m\u001b[0;34m\u001b[0m\u001b[0;34m\u001b[0m\u001b[0m\n",
      "\u001b[0;32m~/anaconda3/envs/simons/lib/python3.6/site-packages/matplotlib/figure.py\u001b[0m in \u001b[0;36mtight_layout\u001b[0;34m(self, renderer, pad, h_pad, w_pad, rect)\u001b[0m\n\u001b[1;32m   2613\u001b[0m             kwargs = get_tight_layout_figure(\n\u001b[1;32m   2614\u001b[0m                 \u001b[0mself\u001b[0m\u001b[0;34m,\u001b[0m \u001b[0mself\u001b[0m\u001b[0;34m.\u001b[0m\u001b[0maxes\u001b[0m\u001b[0;34m,\u001b[0m \u001b[0msubplotspec_list\u001b[0m\u001b[0;34m,\u001b[0m \u001b[0mrenderer\u001b[0m\u001b[0;34m,\u001b[0m\u001b[0;34m\u001b[0m\u001b[0;34m\u001b[0m\u001b[0m\n\u001b[0;32m-> 2615\u001b[0;31m                 pad=pad, h_pad=h_pad, w_pad=w_pad, rect=rect)\n\u001b[0m\u001b[1;32m   2616\u001b[0m         \u001b[0;32mif\u001b[0m \u001b[0mkwargs\u001b[0m\u001b[0;34m:\u001b[0m\u001b[0;34m\u001b[0m\u001b[0;34m\u001b[0m\u001b[0m\n\u001b[1;32m   2617\u001b[0m             \u001b[0mself\u001b[0m\u001b[0;34m.\u001b[0m\u001b[0msubplots_adjust\u001b[0m\u001b[0;34m(\u001b[0m\u001b[0;34m**\u001b[0m\u001b[0mkwargs\u001b[0m\u001b[0;34m)\u001b[0m\u001b[0;34m\u001b[0m\u001b[0;34m\u001b[0m\u001b[0m\n",
      "\u001b[0;32m~/anaconda3/envs/simons/lib/python3.6/site-packages/matplotlib/tight_layout.py\u001b[0m in \u001b[0;36mget_tight_layout_figure\u001b[0;34m(fig, axes_list, subplotspec_list, renderer, pad, h_pad, w_pad, rect)\u001b[0m\n\u001b[1;32m    306\u001b[0m                                      \u001b[0msubplot_list\u001b[0m\u001b[0;34m=\u001b[0m\u001b[0msubplot_list\u001b[0m\u001b[0;34m,\u001b[0m\u001b[0;34m\u001b[0m\u001b[0;34m\u001b[0m\u001b[0m\n\u001b[1;32m    307\u001b[0m                                      \u001b[0max_bbox_list\u001b[0m\u001b[0;34m=\u001b[0m\u001b[0max_bbox_list\u001b[0m\u001b[0;34m,\u001b[0m\u001b[0;34m\u001b[0m\u001b[0;34m\u001b[0m\u001b[0m\n\u001b[0;32m--> 308\u001b[0;31m                                      pad=pad, h_pad=h_pad, w_pad=w_pad)\n\u001b[0m\u001b[1;32m    309\u001b[0m \u001b[0;34m\u001b[0m\u001b[0m\n\u001b[1;32m    310\u001b[0m     \u001b[0;31m# kwargs can be none if tight_layout fails...\u001b[0m\u001b[0;34m\u001b[0m\u001b[0;34m\u001b[0m\u001b[0;34m\u001b[0m\u001b[0m\n",
      "\u001b[0;32m~/anaconda3/envs/simons/lib/python3.6/site-packages/matplotlib/tight_layout.py\u001b[0m in \u001b[0;36mauto_adjust_subplotpars\u001b[0;34m(fig, renderer, nrows_ncols, num1num2_list, subplot_list, ax_bbox_list, pad, h_pad, w_pad, rect)\u001b[0m\n\u001b[1;32m     82\u001b[0m             \u001b[0;32mif\u001b[0m \u001b[0max\u001b[0m\u001b[0;34m.\u001b[0m\u001b[0mget_visible\u001b[0m\u001b[0;34m(\u001b[0m\u001b[0;34m)\u001b[0m\u001b[0;34m:\u001b[0m\u001b[0;34m\u001b[0m\u001b[0;34m\u001b[0m\u001b[0m\n\u001b[1;32m     83\u001b[0m                 \u001b[0;32mtry\u001b[0m\u001b[0;34m:\u001b[0m\u001b[0;34m\u001b[0m\u001b[0;34m\u001b[0m\u001b[0m\n\u001b[0;32m---> 84\u001b[0;31m                     \u001b[0mbb\u001b[0m \u001b[0;34m+=\u001b[0m \u001b[0;34m[\u001b[0m\u001b[0max\u001b[0m\u001b[0;34m.\u001b[0m\u001b[0mget_tightbbox\u001b[0m\u001b[0;34m(\u001b[0m\u001b[0mrenderer\u001b[0m\u001b[0;34m,\u001b[0m \u001b[0mfor_layout_only\u001b[0m\u001b[0;34m=\u001b[0m\u001b[0;32mTrue\u001b[0m\u001b[0;34m)\u001b[0m\u001b[0;34m]\u001b[0m\u001b[0;34m\u001b[0m\u001b[0;34m\u001b[0m\u001b[0m\n\u001b[0m\u001b[1;32m     85\u001b[0m                 \u001b[0;32mexcept\u001b[0m \u001b[0mTypeError\u001b[0m\u001b[0;34m:\u001b[0m\u001b[0;34m\u001b[0m\u001b[0;34m\u001b[0m\u001b[0m\n\u001b[1;32m     86\u001b[0m                     \u001b[0mbb\u001b[0m \u001b[0;34m+=\u001b[0m \u001b[0;34m[\u001b[0m\u001b[0max\u001b[0m\u001b[0;34m.\u001b[0m\u001b[0mget_tightbbox\u001b[0m\u001b[0;34m(\u001b[0m\u001b[0mrenderer\u001b[0m\u001b[0;34m)\u001b[0m\u001b[0;34m]\u001b[0m\u001b[0;34m\u001b[0m\u001b[0;34m\u001b[0m\u001b[0m\n",
      "\u001b[0;32m~/anaconda3/envs/simons/lib/python3.6/site-packages/matplotlib/axes/_base.py\u001b[0m in \u001b[0;36mget_tightbbox\u001b[0;34m(self, renderer, call_axes_locator, bbox_extra_artists, for_layout_only)\u001b[0m\n\u001b[1;32m   4193\u001b[0m             \u001b[0;32mif\u001b[0m \u001b[0mclip_extent\u001b[0m \u001b[0;32mis\u001b[0m \u001b[0;32mnot\u001b[0m \u001b[0;32mNone\u001b[0m\u001b[0;34m:\u001b[0m\u001b[0;34m\u001b[0m\u001b[0;34m\u001b[0m\u001b[0m\n\u001b[1;32m   4194\u001b[0m                 clip_extent = mtransforms.Bbox.intersection(\n\u001b[0;32m-> 4195\u001b[0;31m                     clip_extent, axbbox)\n\u001b[0m\u001b[1;32m   4196\u001b[0m                 \u001b[0;32mif\u001b[0m \u001b[0mnp\u001b[0m\u001b[0;34m.\u001b[0m\u001b[0mall\u001b[0m\u001b[0;34m(\u001b[0m\u001b[0mclip_extent\u001b[0m\u001b[0;34m.\u001b[0m\u001b[0mextents\u001b[0m \u001b[0;34m==\u001b[0m \u001b[0maxbbox\u001b[0m\u001b[0;34m.\u001b[0m\u001b[0mextents\u001b[0m\u001b[0;34m)\u001b[0m\u001b[0;34m:\u001b[0m\u001b[0;34m\u001b[0m\u001b[0;34m\u001b[0m\u001b[0m\n\u001b[1;32m   4197\u001b[0m                     \u001b[0;31m# clip extent is inside the axes bbox so don't check\u001b[0m\u001b[0;34m\u001b[0m\u001b[0;34m\u001b[0m\u001b[0;34m\u001b[0m\u001b[0m\n",
      "\u001b[0;32m~/anaconda3/envs/simons/lib/python3.6/site-packages/matplotlib/transforms.py\u001b[0m in \u001b[0;36mintersection\u001b[0;34m(bbox1, bbox2)\u001b[0m\n\u001b[1;32m    677\u001b[0m         \"\"\"\n\u001b[1;32m    678\u001b[0m         \u001b[0mx0\u001b[0m \u001b[0;34m=\u001b[0m \u001b[0mnp\u001b[0m\u001b[0;34m.\u001b[0m\u001b[0mmaximum\u001b[0m\u001b[0;34m(\u001b[0m\u001b[0mbbox1\u001b[0m\u001b[0;34m.\u001b[0m\u001b[0mxmin\u001b[0m\u001b[0;34m,\u001b[0m \u001b[0mbbox2\u001b[0m\u001b[0;34m.\u001b[0m\u001b[0mxmin\u001b[0m\u001b[0;34m)\u001b[0m\u001b[0;34m\u001b[0m\u001b[0;34m\u001b[0m\u001b[0m\n\u001b[0;32m--> 679\u001b[0;31m         \u001b[0mx1\u001b[0m \u001b[0;34m=\u001b[0m \u001b[0mnp\u001b[0m\u001b[0;34m.\u001b[0m\u001b[0mminimum\u001b[0m\u001b[0;34m(\u001b[0m\u001b[0mbbox1\u001b[0m\u001b[0;34m.\u001b[0m\u001b[0mxmax\u001b[0m\u001b[0;34m,\u001b[0m \u001b[0mbbox2\u001b[0m\u001b[0;34m.\u001b[0m\u001b[0mxmax\u001b[0m\u001b[0;34m)\u001b[0m\u001b[0;34m\u001b[0m\u001b[0;34m\u001b[0m\u001b[0m\n\u001b[0m\u001b[1;32m    680\u001b[0m         \u001b[0my0\u001b[0m \u001b[0;34m=\u001b[0m \u001b[0mnp\u001b[0m\u001b[0;34m.\u001b[0m\u001b[0mmaximum\u001b[0m\u001b[0;34m(\u001b[0m\u001b[0mbbox1\u001b[0m\u001b[0;34m.\u001b[0m\u001b[0mymin\u001b[0m\u001b[0;34m,\u001b[0m \u001b[0mbbox2\u001b[0m\u001b[0;34m.\u001b[0m\u001b[0mymin\u001b[0m\u001b[0;34m)\u001b[0m\u001b[0;34m\u001b[0m\u001b[0;34m\u001b[0m\u001b[0m\n\u001b[1;32m    681\u001b[0m         \u001b[0my1\u001b[0m \u001b[0;34m=\u001b[0m \u001b[0mnp\u001b[0m\u001b[0;34m.\u001b[0m\u001b[0mminimum\u001b[0m\u001b[0;34m(\u001b[0m\u001b[0mbbox1\u001b[0m\u001b[0;34m.\u001b[0m\u001b[0mymax\u001b[0m\u001b[0;34m,\u001b[0m \u001b[0mbbox2\u001b[0m\u001b[0;34m.\u001b[0m\u001b[0mymax\u001b[0m\u001b[0;34m)\u001b[0m\u001b[0;34m\u001b[0m\u001b[0;34m\u001b[0m\u001b[0m\n",
      "\u001b[0;32m~/anaconda3/envs/simons/lib/python3.6/site-packages/matplotlib/transforms.py\u001b[0m in \u001b[0;36mxmax\u001b[0;34m(self)\u001b[0m\n\u001b[1;32m    320\u001b[0m     \u001b[0;32mdef\u001b[0m \u001b[0mxmax\u001b[0m\u001b[0;34m(\u001b[0m\u001b[0mself\u001b[0m\u001b[0;34m)\u001b[0m\u001b[0;34m:\u001b[0m\u001b[0;34m\u001b[0m\u001b[0;34m\u001b[0m\u001b[0m\n\u001b[1;32m    321\u001b[0m         \u001b[0;34m\"\"\"The right edge of the bounding box.\"\"\"\u001b[0m\u001b[0;34m\u001b[0m\u001b[0;34m\u001b[0m\u001b[0m\n\u001b[0;32m--> 322\u001b[0;31m         \u001b[0;32mreturn\u001b[0m \u001b[0mnp\u001b[0m\u001b[0;34m.\u001b[0m\u001b[0mmax\u001b[0m\u001b[0;34m(\u001b[0m\u001b[0mself\u001b[0m\u001b[0;34m.\u001b[0m\u001b[0mget_points\u001b[0m\u001b[0;34m(\u001b[0m\u001b[0;34m)\u001b[0m\u001b[0;34m[\u001b[0m\u001b[0;34m:\u001b[0m\u001b[0;34m,\u001b[0m \u001b[0;36m0\u001b[0m\u001b[0;34m]\u001b[0m\u001b[0;34m)\u001b[0m\u001b[0;34m\u001b[0m\u001b[0;34m\u001b[0m\u001b[0m\n\u001b[0m\u001b[1;32m    323\u001b[0m \u001b[0;34m\u001b[0m\u001b[0m\n\u001b[1;32m    324\u001b[0m     \u001b[0;34m@\u001b[0m\u001b[0mproperty\u001b[0m\u001b[0;34m\u001b[0m\u001b[0;34m\u001b[0m\u001b[0m\n",
      "\u001b[0;32m<__array_function__ internals>\u001b[0m in \u001b[0;36mamax\u001b[0;34m(*args, **kwargs)\u001b[0m\n",
      "\u001b[0;32m~/anaconda3/envs/simons/lib/python3.6/site-packages/numpy/core/fromnumeric.py\u001b[0m in \u001b[0;36mamax\u001b[0;34m(a, axis, out, keepdims, initial, where)\u001b[0m\n\u001b[1;32m   2619\u001b[0m     \"\"\"\n\u001b[1;32m   2620\u001b[0m     return _wrapreduction(a, np.maximum, 'max', axis, None, out,\n\u001b[0;32m-> 2621\u001b[0;31m                           keepdims=keepdims, initial=initial, where=where)\n\u001b[0m\u001b[1;32m   2622\u001b[0m \u001b[0;34m\u001b[0m\u001b[0m\n\u001b[1;32m   2623\u001b[0m \u001b[0;34m\u001b[0m\u001b[0m\n",
      "\u001b[0;32m~/anaconda3/envs/simons/lib/python3.6/site-packages/numpy/core/fromnumeric.py\u001b[0m in \u001b[0;36m_wrapreduction\u001b[0;34m(obj, ufunc, method, axis, dtype, out, **kwargs)\u001b[0m\n\u001b[1;32m     72\u001b[0m \u001b[0;34m\u001b[0m\u001b[0m\n\u001b[1;32m     73\u001b[0m \u001b[0;32mdef\u001b[0m \u001b[0m_wrapreduction\u001b[0m\u001b[0;34m(\u001b[0m\u001b[0mobj\u001b[0m\u001b[0;34m,\u001b[0m \u001b[0mufunc\u001b[0m\u001b[0;34m,\u001b[0m \u001b[0mmethod\u001b[0m\u001b[0;34m,\u001b[0m \u001b[0maxis\u001b[0m\u001b[0;34m,\u001b[0m \u001b[0mdtype\u001b[0m\u001b[0;34m,\u001b[0m \u001b[0mout\u001b[0m\u001b[0;34m,\u001b[0m \u001b[0;34m**\u001b[0m\u001b[0mkwargs\u001b[0m\u001b[0;34m)\u001b[0m\u001b[0;34m:\u001b[0m\u001b[0;34m\u001b[0m\u001b[0;34m\u001b[0m\u001b[0m\n\u001b[0;32m---> 74\u001b[0;31m     passkwargs = {k: v for k, v in kwargs.items()\n\u001b[0m\u001b[1;32m     75\u001b[0m                   if v is not np._NoValue}\n\u001b[1;32m     76\u001b[0m \u001b[0;34m\u001b[0m\u001b[0m\n",
      "\u001b[0;31mKeyboardInterrupt\u001b[0m: "
     ]
    },
    {
     "name": "stdout",
     "output_type": "stream",
     "text": [
      "Error in callback <function flush_figures at 0x2b0990cf4158> (for post_execute):\n"
     ]
    },
    {
     "ename": "KeyboardInterrupt",
     "evalue": "",
     "output_type": "error",
     "traceback": [
      "\u001b[0;31m---------------------------------------------------------------------------\u001b[0m",
      "\u001b[0;31mKeyboardInterrupt\u001b[0m                         Traceback (most recent call last)",
      "\u001b[0;32m~/anaconda3/envs/simons/lib/python3.6/site-packages/ipykernel/pylab/backend_inline.py\u001b[0m in \u001b[0;36mflush_figures\u001b[0;34m()\u001b[0m\n\u001b[1;32m    119\u001b[0m         \u001b[0;31m# ignore the tracking, just draw and close all figures\u001b[0m\u001b[0;34m\u001b[0m\u001b[0;34m\u001b[0m\u001b[0;34m\u001b[0m\u001b[0m\n\u001b[1;32m    120\u001b[0m         \u001b[0;32mtry\u001b[0m\u001b[0;34m:\u001b[0m\u001b[0;34m\u001b[0m\u001b[0;34m\u001b[0m\u001b[0m\n\u001b[0;32m--> 121\u001b[0;31m             \u001b[0;32mreturn\u001b[0m \u001b[0mshow\u001b[0m\u001b[0;34m(\u001b[0m\u001b[0;32mTrue\u001b[0m\u001b[0;34m)\u001b[0m\u001b[0;34m\u001b[0m\u001b[0;34m\u001b[0m\u001b[0m\n\u001b[0m\u001b[1;32m    122\u001b[0m         \u001b[0;32mexcept\u001b[0m \u001b[0mException\u001b[0m \u001b[0;32mas\u001b[0m \u001b[0me\u001b[0m\u001b[0;34m:\u001b[0m\u001b[0;34m\u001b[0m\u001b[0;34m\u001b[0m\u001b[0m\n\u001b[1;32m    123\u001b[0m             \u001b[0;31m# safely show traceback if in IPython, else raise\u001b[0m\u001b[0;34m\u001b[0m\u001b[0;34m\u001b[0m\u001b[0;34m\u001b[0m\u001b[0m\n",
      "\u001b[0;32m~/anaconda3/envs/simons/lib/python3.6/site-packages/ipykernel/pylab/backend_inline.py\u001b[0m in \u001b[0;36mshow\u001b[0;34m(close, block)\u001b[0m\n\u001b[1;32m     41\u001b[0m             display(\n\u001b[1;32m     42\u001b[0m                 \u001b[0mfigure_manager\u001b[0m\u001b[0;34m.\u001b[0m\u001b[0mcanvas\u001b[0m\u001b[0;34m.\u001b[0m\u001b[0mfigure\u001b[0m\u001b[0;34m,\u001b[0m\u001b[0;34m\u001b[0m\u001b[0;34m\u001b[0m\u001b[0m\n\u001b[0;32m---> 43\u001b[0;31m                 \u001b[0mmetadata\u001b[0m\u001b[0;34m=\u001b[0m\u001b[0m_fetch_figure_metadata\u001b[0m\u001b[0;34m(\u001b[0m\u001b[0mfigure_manager\u001b[0m\u001b[0;34m.\u001b[0m\u001b[0mcanvas\u001b[0m\u001b[0;34m.\u001b[0m\u001b[0mfigure\u001b[0m\u001b[0;34m)\u001b[0m\u001b[0;34m\u001b[0m\u001b[0;34m\u001b[0m\u001b[0m\n\u001b[0m\u001b[1;32m     44\u001b[0m             )\n\u001b[1;32m     45\u001b[0m     \u001b[0;32mfinally\u001b[0m\u001b[0;34m:\u001b[0m\u001b[0;34m\u001b[0m\u001b[0;34m\u001b[0m\u001b[0m\n",
      "\u001b[0;32m~/anaconda3/envs/simons/lib/python3.6/site-packages/IPython/core/display.py\u001b[0m in \u001b[0;36mdisplay\u001b[0;34m(include, exclude, metadata, transient, display_id, *objs, **kwargs)\u001b[0m\n\u001b[1;32m    311\u001b[0m             \u001b[0mpublish_display_data\u001b[0m\u001b[0;34m(\u001b[0m\u001b[0mdata\u001b[0m\u001b[0;34m=\u001b[0m\u001b[0mobj\u001b[0m\u001b[0;34m,\u001b[0m \u001b[0mmetadata\u001b[0m\u001b[0;34m=\u001b[0m\u001b[0mmetadata\u001b[0m\u001b[0;34m,\u001b[0m \u001b[0;34m**\u001b[0m\u001b[0mkwargs\u001b[0m\u001b[0;34m)\u001b[0m\u001b[0;34m\u001b[0m\u001b[0;34m\u001b[0m\u001b[0m\n\u001b[1;32m    312\u001b[0m         \u001b[0;32melse\u001b[0m\u001b[0;34m:\u001b[0m\u001b[0;34m\u001b[0m\u001b[0;34m\u001b[0m\u001b[0m\n\u001b[0;32m--> 313\u001b[0;31m             \u001b[0mformat_dict\u001b[0m\u001b[0;34m,\u001b[0m \u001b[0mmd_dict\u001b[0m \u001b[0;34m=\u001b[0m \u001b[0mformat\u001b[0m\u001b[0;34m(\u001b[0m\u001b[0mobj\u001b[0m\u001b[0;34m,\u001b[0m \u001b[0minclude\u001b[0m\u001b[0;34m=\u001b[0m\u001b[0minclude\u001b[0m\u001b[0;34m,\u001b[0m \u001b[0mexclude\u001b[0m\u001b[0;34m=\u001b[0m\u001b[0mexclude\u001b[0m\u001b[0;34m)\u001b[0m\u001b[0;34m\u001b[0m\u001b[0;34m\u001b[0m\u001b[0m\n\u001b[0m\u001b[1;32m    314\u001b[0m             \u001b[0;32mif\u001b[0m \u001b[0;32mnot\u001b[0m \u001b[0mformat_dict\u001b[0m\u001b[0;34m:\u001b[0m\u001b[0;34m\u001b[0m\u001b[0;34m\u001b[0m\u001b[0m\n\u001b[1;32m    315\u001b[0m                 \u001b[0;31m# nothing to display (e.g. _ipython_display_ took over)\u001b[0m\u001b[0;34m\u001b[0m\u001b[0;34m\u001b[0m\u001b[0;34m\u001b[0m\u001b[0m\n",
      "\u001b[0;32m~/anaconda3/envs/simons/lib/python3.6/site-packages/IPython/core/formatters.py\u001b[0m in \u001b[0;36mformat\u001b[0;34m(self, obj, include, exclude)\u001b[0m\n\u001b[1;32m    178\u001b[0m             \u001b[0mmd\u001b[0m \u001b[0;34m=\u001b[0m \u001b[0;32mNone\u001b[0m\u001b[0;34m\u001b[0m\u001b[0;34m\u001b[0m\u001b[0m\n\u001b[1;32m    179\u001b[0m             \u001b[0;32mtry\u001b[0m\u001b[0;34m:\u001b[0m\u001b[0;34m\u001b[0m\u001b[0;34m\u001b[0m\u001b[0m\n\u001b[0;32m--> 180\u001b[0;31m                 \u001b[0mdata\u001b[0m \u001b[0;34m=\u001b[0m \u001b[0mformatter\u001b[0m\u001b[0;34m(\u001b[0m\u001b[0mobj\u001b[0m\u001b[0;34m)\u001b[0m\u001b[0;34m\u001b[0m\u001b[0;34m\u001b[0m\u001b[0m\n\u001b[0m\u001b[1;32m    181\u001b[0m             \u001b[0;32mexcept\u001b[0m\u001b[0;34m:\u001b[0m\u001b[0;34m\u001b[0m\u001b[0;34m\u001b[0m\u001b[0m\n\u001b[1;32m    182\u001b[0m                 \u001b[0;31m# FIXME: log the exception\u001b[0m\u001b[0;34m\u001b[0m\u001b[0;34m\u001b[0m\u001b[0;34m\u001b[0m\u001b[0m\n",
      "\u001b[0;32m<decorator-gen-9>\u001b[0m in \u001b[0;36m__call__\u001b[0;34m(self, obj)\u001b[0m\n",
      "\u001b[0;32m~/anaconda3/envs/simons/lib/python3.6/site-packages/IPython/core/formatters.py\u001b[0m in \u001b[0;36mcatch_format_error\u001b[0;34m(method, self, *args, **kwargs)\u001b[0m\n\u001b[1;32m    222\u001b[0m     \u001b[0;34m\"\"\"show traceback on failed format call\"\"\"\u001b[0m\u001b[0;34m\u001b[0m\u001b[0;34m\u001b[0m\u001b[0m\n\u001b[1;32m    223\u001b[0m     \u001b[0;32mtry\u001b[0m\u001b[0;34m:\u001b[0m\u001b[0;34m\u001b[0m\u001b[0;34m\u001b[0m\u001b[0m\n\u001b[0;32m--> 224\u001b[0;31m         \u001b[0mr\u001b[0m \u001b[0;34m=\u001b[0m \u001b[0mmethod\u001b[0m\u001b[0;34m(\u001b[0m\u001b[0mself\u001b[0m\u001b[0;34m,\u001b[0m \u001b[0;34m*\u001b[0m\u001b[0margs\u001b[0m\u001b[0;34m,\u001b[0m \u001b[0;34m**\u001b[0m\u001b[0mkwargs\u001b[0m\u001b[0;34m)\u001b[0m\u001b[0;34m\u001b[0m\u001b[0;34m\u001b[0m\u001b[0m\n\u001b[0m\u001b[1;32m    225\u001b[0m     \u001b[0;32mexcept\u001b[0m \u001b[0mNotImplementedError\u001b[0m\u001b[0;34m:\u001b[0m\u001b[0;34m\u001b[0m\u001b[0;34m\u001b[0m\u001b[0m\n\u001b[1;32m    226\u001b[0m         \u001b[0;31m# don't warn on NotImplementedErrors\u001b[0m\u001b[0;34m\u001b[0m\u001b[0;34m\u001b[0m\u001b[0;34m\u001b[0m\u001b[0m\n",
      "\u001b[0;32m~/anaconda3/envs/simons/lib/python3.6/site-packages/IPython/core/formatters.py\u001b[0m in \u001b[0;36m__call__\u001b[0;34m(self, obj)\u001b[0m\n\u001b[1;32m    339\u001b[0m                 \u001b[0;32mpass\u001b[0m\u001b[0;34m\u001b[0m\u001b[0;34m\u001b[0m\u001b[0m\n\u001b[1;32m    340\u001b[0m             \u001b[0;32melse\u001b[0m\u001b[0;34m:\u001b[0m\u001b[0;34m\u001b[0m\u001b[0;34m\u001b[0m\u001b[0m\n\u001b[0;32m--> 341\u001b[0;31m                 \u001b[0;32mreturn\u001b[0m \u001b[0mprinter\u001b[0m\u001b[0;34m(\u001b[0m\u001b[0mobj\u001b[0m\u001b[0;34m)\u001b[0m\u001b[0;34m\u001b[0m\u001b[0;34m\u001b[0m\u001b[0m\n\u001b[0m\u001b[1;32m    342\u001b[0m             \u001b[0;31m# Finally look for special method names\u001b[0m\u001b[0;34m\u001b[0m\u001b[0;34m\u001b[0m\u001b[0;34m\u001b[0m\u001b[0m\n\u001b[1;32m    343\u001b[0m             \u001b[0mmethod\u001b[0m \u001b[0;34m=\u001b[0m \u001b[0mget_real_method\u001b[0m\u001b[0;34m(\u001b[0m\u001b[0mobj\u001b[0m\u001b[0;34m,\u001b[0m \u001b[0mself\u001b[0m\u001b[0;34m.\u001b[0m\u001b[0mprint_method\u001b[0m\u001b[0;34m)\u001b[0m\u001b[0;34m\u001b[0m\u001b[0;34m\u001b[0m\u001b[0m\n",
      "\u001b[0;32m~/anaconda3/envs/simons/lib/python3.6/site-packages/IPython/core/pylabtools.py\u001b[0m in \u001b[0;36m<lambda>\u001b[0;34m(fig)\u001b[0m\n\u001b[1;32m    248\u001b[0m         \u001b[0mpng_formatter\u001b[0m\u001b[0;34m.\u001b[0m\u001b[0mfor_type\u001b[0m\u001b[0;34m(\u001b[0m\u001b[0mFigure\u001b[0m\u001b[0;34m,\u001b[0m \u001b[0;32mlambda\u001b[0m \u001b[0mfig\u001b[0m\u001b[0;34m:\u001b[0m \u001b[0mprint_figure\u001b[0m\u001b[0;34m(\u001b[0m\u001b[0mfig\u001b[0m\u001b[0;34m,\u001b[0m \u001b[0;34m'png'\u001b[0m\u001b[0;34m,\u001b[0m \u001b[0;34m**\u001b[0m\u001b[0mkwargs\u001b[0m\u001b[0;34m)\u001b[0m\u001b[0;34m)\u001b[0m\u001b[0;34m\u001b[0m\u001b[0;34m\u001b[0m\u001b[0m\n\u001b[1;32m    249\u001b[0m     \u001b[0;32mif\u001b[0m \u001b[0;34m'retina'\u001b[0m \u001b[0;32min\u001b[0m \u001b[0mformats\u001b[0m \u001b[0;32mor\u001b[0m \u001b[0;34m'png2x'\u001b[0m \u001b[0;32min\u001b[0m \u001b[0mformats\u001b[0m\u001b[0;34m:\u001b[0m\u001b[0;34m\u001b[0m\u001b[0;34m\u001b[0m\u001b[0m\n\u001b[0;32m--> 250\u001b[0;31m         \u001b[0mpng_formatter\u001b[0m\u001b[0;34m.\u001b[0m\u001b[0mfor_type\u001b[0m\u001b[0;34m(\u001b[0m\u001b[0mFigure\u001b[0m\u001b[0;34m,\u001b[0m \u001b[0;32mlambda\u001b[0m \u001b[0mfig\u001b[0m\u001b[0;34m:\u001b[0m \u001b[0mretina_figure\u001b[0m\u001b[0;34m(\u001b[0m\u001b[0mfig\u001b[0m\u001b[0;34m,\u001b[0m \u001b[0;34m**\u001b[0m\u001b[0mkwargs\u001b[0m\u001b[0;34m)\u001b[0m\u001b[0;34m)\u001b[0m\u001b[0;34m\u001b[0m\u001b[0;34m\u001b[0m\u001b[0m\n\u001b[0m\u001b[1;32m    251\u001b[0m     \u001b[0;32mif\u001b[0m \u001b[0;34m'jpg'\u001b[0m \u001b[0;32min\u001b[0m \u001b[0mformats\u001b[0m \u001b[0;32mor\u001b[0m \u001b[0;34m'jpeg'\u001b[0m \u001b[0;32min\u001b[0m \u001b[0mformats\u001b[0m\u001b[0;34m:\u001b[0m\u001b[0;34m\u001b[0m\u001b[0;34m\u001b[0m\u001b[0m\n\u001b[1;32m    252\u001b[0m         \u001b[0mjpg_formatter\u001b[0m\u001b[0;34m.\u001b[0m\u001b[0mfor_type\u001b[0m\u001b[0;34m(\u001b[0m\u001b[0mFigure\u001b[0m\u001b[0;34m,\u001b[0m \u001b[0;32mlambda\u001b[0m \u001b[0mfig\u001b[0m\u001b[0;34m:\u001b[0m \u001b[0mprint_figure\u001b[0m\u001b[0;34m(\u001b[0m\u001b[0mfig\u001b[0m\u001b[0;34m,\u001b[0m \u001b[0;34m'jpg'\u001b[0m\u001b[0;34m,\u001b[0m \u001b[0;34m**\u001b[0m\u001b[0mkwargs\u001b[0m\u001b[0;34m)\u001b[0m\u001b[0;34m)\u001b[0m\u001b[0;34m\u001b[0m\u001b[0;34m\u001b[0m\u001b[0m\n",
      "\u001b[0;32m~/anaconda3/envs/simons/lib/python3.6/site-packages/IPython/core/pylabtools.py\u001b[0m in \u001b[0;36mretina_figure\u001b[0;34m(fig, **kwargs)\u001b[0m\n\u001b[1;32m    138\u001b[0m \u001b[0;32mdef\u001b[0m \u001b[0mretina_figure\u001b[0m\u001b[0;34m(\u001b[0m\u001b[0mfig\u001b[0m\u001b[0;34m,\u001b[0m \u001b[0;34m**\u001b[0m\u001b[0mkwargs\u001b[0m\u001b[0;34m)\u001b[0m\u001b[0;34m:\u001b[0m\u001b[0;34m\u001b[0m\u001b[0;34m\u001b[0m\u001b[0m\n\u001b[1;32m    139\u001b[0m     \u001b[0;34m\"\"\"format a figure as a pixel-doubled (retina) PNG\"\"\"\u001b[0m\u001b[0;34m\u001b[0m\u001b[0;34m\u001b[0m\u001b[0m\n\u001b[0;32m--> 140\u001b[0;31m     \u001b[0mpngdata\u001b[0m \u001b[0;34m=\u001b[0m \u001b[0mprint_figure\u001b[0m\u001b[0;34m(\u001b[0m\u001b[0mfig\u001b[0m\u001b[0;34m,\u001b[0m \u001b[0mfmt\u001b[0m\u001b[0;34m=\u001b[0m\u001b[0;34m'retina'\u001b[0m\u001b[0;34m,\u001b[0m \u001b[0;34m**\u001b[0m\u001b[0mkwargs\u001b[0m\u001b[0;34m)\u001b[0m\u001b[0;34m\u001b[0m\u001b[0;34m\u001b[0m\u001b[0m\n\u001b[0m\u001b[1;32m    141\u001b[0m     \u001b[0;31m# Make sure that retina_figure acts just like print_figure and returns\u001b[0m\u001b[0;34m\u001b[0m\u001b[0;34m\u001b[0m\u001b[0;34m\u001b[0m\u001b[0m\n\u001b[1;32m    142\u001b[0m     \u001b[0;31m# None when the figure is empty.\u001b[0m\u001b[0;34m\u001b[0m\u001b[0;34m\u001b[0m\u001b[0;34m\u001b[0m\u001b[0m\n",
      "\u001b[0;32m~/anaconda3/envs/simons/lib/python3.6/site-packages/IPython/core/pylabtools.py\u001b[0m in \u001b[0;36mprint_figure\u001b[0;34m(fig, fmt, bbox_inches, **kwargs)\u001b[0m\n\u001b[1;32m    130\u001b[0m         \u001b[0mFigureCanvasBase\u001b[0m\u001b[0;34m(\u001b[0m\u001b[0mfig\u001b[0m\u001b[0;34m)\u001b[0m\u001b[0;34m\u001b[0m\u001b[0;34m\u001b[0m\u001b[0m\n\u001b[1;32m    131\u001b[0m \u001b[0;34m\u001b[0m\u001b[0m\n\u001b[0;32m--> 132\u001b[0;31m     \u001b[0mfig\u001b[0m\u001b[0;34m.\u001b[0m\u001b[0mcanvas\u001b[0m\u001b[0;34m.\u001b[0m\u001b[0mprint_figure\u001b[0m\u001b[0;34m(\u001b[0m\u001b[0mbytes_io\u001b[0m\u001b[0;34m,\u001b[0m \u001b[0;34m**\u001b[0m\u001b[0mkw\u001b[0m\u001b[0;34m)\u001b[0m\u001b[0;34m\u001b[0m\u001b[0;34m\u001b[0m\u001b[0m\n\u001b[0m\u001b[1;32m    133\u001b[0m     \u001b[0mdata\u001b[0m \u001b[0;34m=\u001b[0m \u001b[0mbytes_io\u001b[0m\u001b[0;34m.\u001b[0m\u001b[0mgetvalue\u001b[0m\u001b[0;34m(\u001b[0m\u001b[0;34m)\u001b[0m\u001b[0;34m\u001b[0m\u001b[0;34m\u001b[0m\u001b[0m\n\u001b[1;32m    134\u001b[0m     \u001b[0;32mif\u001b[0m \u001b[0mfmt\u001b[0m \u001b[0;34m==\u001b[0m \u001b[0;34m'svg'\u001b[0m\u001b[0;34m:\u001b[0m\u001b[0;34m\u001b[0m\u001b[0;34m\u001b[0m\u001b[0m\n",
      "\u001b[0;32m~/anaconda3/envs/simons/lib/python3.6/site-packages/matplotlib/backend_bases.py\u001b[0m in \u001b[0;36mprint_figure\u001b[0;34m(self, filename, dpi, facecolor, edgecolor, orientation, format, bbox_inches, pad_inches, bbox_extra_artists, backend, **kwargs)\u001b[0m\n\u001b[1;32m   2194\u001b[0m \u001b[0;34m\u001b[0m\u001b[0m\n\u001b[1;32m   2195\u001b[0m                     bbox_inches = self.figure.get_tightbbox(\n\u001b[0;32m-> 2196\u001b[0;31m                         renderer, bbox_extra_artists=bbox_extra_artists)\n\u001b[0m\u001b[1;32m   2197\u001b[0m                     \u001b[0;32mif\u001b[0m \u001b[0mpad_inches\u001b[0m \u001b[0;32mis\u001b[0m \u001b[0;32mNone\u001b[0m\u001b[0;34m:\u001b[0m\u001b[0;34m\u001b[0m\u001b[0;34m\u001b[0m\u001b[0m\n\u001b[1;32m   2198\u001b[0m                         \u001b[0mpad_inches\u001b[0m \u001b[0;34m=\u001b[0m \u001b[0mrcParams\u001b[0m\u001b[0;34m[\u001b[0m\u001b[0;34m'savefig.pad_inches'\u001b[0m\u001b[0;34m]\u001b[0m\u001b[0;34m\u001b[0m\u001b[0;34m\u001b[0m\u001b[0m\n",
      "\u001b[0;32m~/anaconda3/envs/simons/lib/python3.6/site-packages/matplotlib/figure.py\u001b[0m in \u001b[0;36mget_tightbbox\u001b[0;34m(self, renderer, bbox_extra_artists)\u001b[0m\n\u001b[1;32m   2514\u001b[0m                 \u001b[0;32mtry\u001b[0m\u001b[0;34m:\u001b[0m\u001b[0;34m\u001b[0m\u001b[0;34m\u001b[0m\u001b[0m\n\u001b[1;32m   2515\u001b[0m                     bbox = ax.get_tightbbox(\n\u001b[0;32m-> 2516\u001b[0;31m                         renderer, bbox_extra_artists=bbox_extra_artists)\n\u001b[0m\u001b[1;32m   2517\u001b[0m                 \u001b[0;32mexcept\u001b[0m \u001b[0mTypeError\u001b[0m\u001b[0;34m:\u001b[0m\u001b[0;34m\u001b[0m\u001b[0;34m\u001b[0m\u001b[0m\n\u001b[1;32m   2518\u001b[0m                     \u001b[0mbbox\u001b[0m \u001b[0;34m=\u001b[0m \u001b[0max\u001b[0m\u001b[0;34m.\u001b[0m\u001b[0mget_tightbbox\u001b[0m\u001b[0;34m(\u001b[0m\u001b[0mrenderer\u001b[0m\u001b[0;34m)\u001b[0m\u001b[0;34m\u001b[0m\u001b[0;34m\u001b[0m\u001b[0m\n",
      "\u001b[0;32m~/anaconda3/envs/simons/lib/python3.6/site-packages/matplotlib/axes/_base.py\u001b[0m in \u001b[0;36mget_tightbbox\u001b[0;34m(self, renderer, call_axes_locator, bbox_extra_artists, for_layout_only)\u001b[0m\n\u001b[1;32m   4161\u001b[0m                 \u001b[0;32mtry\u001b[0m\u001b[0;34m:\u001b[0m\u001b[0;34m\u001b[0m\u001b[0;34m\u001b[0m\u001b[0m\n\u001b[1;32m   4162\u001b[0m                     bb_yaxis = self.yaxis.get_tightbbox(\n\u001b[0;32m-> 4163\u001b[0;31m                         renderer, for_layout_only=for_layout_only)\n\u001b[0m\u001b[1;32m   4164\u001b[0m                 \u001b[0;32mexcept\u001b[0m \u001b[0mTypeError\u001b[0m\u001b[0;34m:\u001b[0m\u001b[0;34m\u001b[0m\u001b[0;34m\u001b[0m\u001b[0m\n\u001b[1;32m   4165\u001b[0m                     \u001b[0;31m# in case downstream library has redefined axis:\u001b[0m\u001b[0;34m\u001b[0m\u001b[0;34m\u001b[0m\u001b[0;34m\u001b[0m\u001b[0m\n",
      "\u001b[0;32m~/anaconda3/envs/simons/lib/python3.6/site-packages/matplotlib/axis.py\u001b[0m in \u001b[0;36mget_tightbbox\u001b[0;34m(self, renderer, for_layout_only)\u001b[0m\n\u001b[1;32m   1127\u001b[0m         \u001b[0;31m# take care of label\u001b[0m\u001b[0;34m\u001b[0m\u001b[0;34m\u001b[0m\u001b[0;34m\u001b[0m\u001b[0m\n\u001b[1;32m   1128\u001b[0m         \u001b[0;32mif\u001b[0m \u001b[0mself\u001b[0m\u001b[0;34m.\u001b[0m\u001b[0mlabel\u001b[0m\u001b[0;34m.\u001b[0m\u001b[0mget_visible\u001b[0m\u001b[0;34m(\u001b[0m\u001b[0;34m)\u001b[0m\u001b[0;34m:\u001b[0m\u001b[0;34m\u001b[0m\u001b[0;34m\u001b[0m\u001b[0m\n\u001b[0;32m-> 1129\u001b[0;31m             \u001b[0mbb\u001b[0m \u001b[0;34m=\u001b[0m \u001b[0mself\u001b[0m\u001b[0;34m.\u001b[0m\u001b[0mlabel\u001b[0m\u001b[0;34m.\u001b[0m\u001b[0mget_window_extent\u001b[0m\u001b[0;34m(\u001b[0m\u001b[0mrenderer\u001b[0m\u001b[0;34m)\u001b[0m\u001b[0;34m\u001b[0m\u001b[0;34m\u001b[0m\u001b[0m\n\u001b[0m\u001b[1;32m   1130\u001b[0m             \u001b[0;31m# for constrained/tight_layout, we want to ignore the label's\u001b[0m\u001b[0;34m\u001b[0m\u001b[0;34m\u001b[0m\u001b[0;34m\u001b[0m\u001b[0m\n\u001b[1;32m   1131\u001b[0m             \u001b[0;31m# width/height because the adjustments they make can't be improved.\u001b[0m\u001b[0;34m\u001b[0m\u001b[0;34m\u001b[0m\u001b[0;34m\u001b[0m\u001b[0m\n",
      "\u001b[0;32m~/anaconda3/envs/simons/lib/python3.6/site-packages/matplotlib/text.py\u001b[0m in \u001b[0;36mget_window_extent\u001b[0;34m(self, renderer, dpi)\u001b[0m\n\u001b[1;32m    889\u001b[0m         \u001b[0;32mif\u001b[0m \u001b[0mself\u001b[0m\u001b[0;34m.\u001b[0m\u001b[0mget_text\u001b[0m\u001b[0;34m(\u001b[0m\u001b[0;34m)\u001b[0m \u001b[0;34m==\u001b[0m \u001b[0;34m''\u001b[0m\u001b[0;34m:\u001b[0m\u001b[0;34m\u001b[0m\u001b[0;34m\u001b[0m\u001b[0m\n\u001b[1;32m    890\u001b[0m             \u001b[0;32mwith\u001b[0m \u001b[0mcbook\u001b[0m\u001b[0;34m.\u001b[0m\u001b[0m_setattr_cm\u001b[0m\u001b[0;34m(\u001b[0m\u001b[0mself\u001b[0m\u001b[0;34m.\u001b[0m\u001b[0mfigure\u001b[0m\u001b[0;34m,\u001b[0m \u001b[0mdpi\u001b[0m\u001b[0;34m=\u001b[0m\u001b[0mdpi\u001b[0m\u001b[0;34m)\u001b[0m\u001b[0;34m:\u001b[0m\u001b[0;34m\u001b[0m\u001b[0;34m\u001b[0m\u001b[0m\n\u001b[0;32m--> 891\u001b[0;31m                 \u001b[0mtx\u001b[0m\u001b[0;34m,\u001b[0m \u001b[0mty\u001b[0m \u001b[0;34m=\u001b[0m \u001b[0mself\u001b[0m\u001b[0;34m.\u001b[0m\u001b[0m_get_xy_display\u001b[0m\u001b[0;34m(\u001b[0m\u001b[0;34m)\u001b[0m\u001b[0;34m\u001b[0m\u001b[0;34m\u001b[0m\u001b[0m\n\u001b[0m\u001b[1;32m    892\u001b[0m                 \u001b[0;32mreturn\u001b[0m \u001b[0mBbox\u001b[0m\u001b[0;34m.\u001b[0m\u001b[0mfrom_bounds\u001b[0m\u001b[0;34m(\u001b[0m\u001b[0mtx\u001b[0m\u001b[0;34m,\u001b[0m \u001b[0mty\u001b[0m\u001b[0;34m,\u001b[0m \u001b[0;36m0\u001b[0m\u001b[0;34m,\u001b[0m \u001b[0;36m0\u001b[0m\u001b[0;34m)\u001b[0m\u001b[0;34m\u001b[0m\u001b[0;34m\u001b[0m\u001b[0m\n\u001b[1;32m    893\u001b[0m \u001b[0;34m\u001b[0m\u001b[0m\n",
      "\u001b[0;31mKeyboardInterrupt\u001b[0m: "
     ]
    }
   ],
   "source": [
    "plot_df = prop_swept_data_auto.loc[(prop_swept_data_auto.sweep_type == 'nosweep') & \\\n",
    "                                   (prop_swept_data_auto.demography == 'standard')]\n",
    "\n",
    "with sns.axes_style('whitegrid'):\n",
    "    g = sns.FacetGrid(plot_df, col='rec_rate_per_gen', row='x_auto_ratio', \n",
    "                      hue='replication', sharex=True, sharey=True, margin_titles=True,\n",
    "                     height=2, aspect=3)\n",
    "    g.map(facet_plot, 'start', 'end', 'prop_swept')\n",
    "\n",
    "    for ax in g.axes.flat:\n",
    "        plt.setp(ax.texts, text=\"\") # remove the original texts, important to do this before setting titles\n",
    "    g.set_titles(row_template = '{row_name}', col_template = '{col_name}')\n",
    "\n",
    "    for ax in g.axes.flat:\n",
    "        ax.set_xlabel('position') # need to set labels manually because the names of facet function are start and end.\n",
    "        ax.set_ylabel('prop ECH')\n",
    "        plt.setp(ax.texts, rotation=\"0\") # remove the original texts, important to do this before setting titles"
   ]
  },
  {
   "cell_type": "markdown",
   "metadata": {},
   "source": [
    "## Load summary data for sweeps called on X chromosome simulations"
   ]
  },
  {
   "cell_type": "code",
   "execution_count": null,
   "metadata": {},
   "outputs": [],
   "source": [
    "prop_swept_data = pd.read_hdf(str(ag.steps_dir / 'slim' / 'slim_summary.hdf')).loc[lambda df: df.chrom == 'X']\n",
    "prop_swept_data['prop_swept'] = prop_swept_data.nr_swept / prop_swept_data.total\n",
    "prop_swept_data['x_auto_ratio'] = prop_swept_data['size_reduction'] * 3 / 4\n",
    "prop_swept_data.head()"
   ]
  },
  {
   "cell_type": "markdown",
   "metadata": {},
   "source": [
    "## Neutral simulations"
   ]
  },
  {
   "cell_type": "markdown",
   "metadata": {},
   "source": [
    "Standard demography:"
   ]
  },
  {
   "cell_type": "code",
   "execution_count": null,
   "metadata": {},
   "outputs": [],
   "source": [
    "plot_df = prop_swept_data.loc[(prop_swept_data.sweep_type == 'nosweep') & \\\n",
    "                              (prop_swept_data.demography == 'standard')]\n",
    "\n",
    "with sns.axes_style('whitegrid'):\n",
    "    g = sns.FacetGrid(plot_df, col='rec_rate_per_gen', row='x_auto_ratio', \n",
    "                      hue='replication', sharex=True, sharey=True, margin_titles=True,\n",
    "                     height=2, aspect=3)\n",
    "    g.map(facet_plot, 'start', 'end', 'prop_swept')\n",
    "\n",
    "    for ax in g.axes.flat:\n",
    "        plt.setp(ax.texts, text=\"\") # remove the original texts, important to do this before setting titles\n",
    "    g.set_titles(row_template = '{row_name}', col_template = '{col_name}')\n",
    "\n",
    "    for ax in g.axes.flat:\n",
    "        ax.set_xlabel('position') # need to set labels manually because the names of facet function are start and end.\n",
    "        ax.set_ylabel('prop ECH')\n",
    "        plt.setp(ax.texts, rotation=\"0\") # remove the original texts, important to do this before setting titles"
   ]
  },
  {
   "cell_type": "markdown",
   "metadata": {},
   "source": [
    "Truncated demography:"
   ]
  },
  {
   "cell_type": "code",
   "execution_count": null,
   "metadata": {},
   "outputs": [],
   "source": [
    "plot_df = prop_swept_data.loc[(prop_swept_data.sweep_type == 'nosweep') & \\\n",
    "                              (prop_swept_data.demography == 'truncated')]\n",
    "\n",
    "with sns.axes_style('whitegrid'):\n",
    "    g = sns.FacetGrid(plot_df, col='rec_rate_per_gen', row='x_auto_ratio', \n",
    "                      hue='replication', sharex=True, sharey=True, margin_titles=True,\n",
    "                     height=2, aspect=3)\n",
    "    g.map(facet_plot, 'start', 'end', 'prop_swept')\n",
    "\n",
    "    for ax in g.axes.flat:\n",
    "        plt.setp(ax.texts, text=\"\") # remove the original texts, important to do this before setting titles\n",
    "    g.set_titles(row_template = '{row_name}', col_template = '{col_name}')\n",
    "\n",
    "    for ax in g.axes.flat:\n",
    "        ax.set_xlabel('position') # need to set labels manually because the names of facet function are start and end.\n",
    "        ax.set_ylabel('prop ECH')        \n",
    "        plt.setp(ax.texts, rotation=\"0\") # remove the original texts, important to do this before setting titles"
   ]
  },
  {
   "cell_type": "code",
   "execution_count": null,
   "metadata": {},
   "outputs": [],
   "source": [
    "plot_df = prop_swept_data.loc[(prop_swept_data.sweep_type == 'nosweep') & \\\n",
    "                              (prop_swept_data.demography == 'standard') & \\\n",
    "                              (prop_swept_data.rec_rate_per_gen == 4.6e-9) & \\\n",
    "                              (prop_swept_data.x_auto_ratio == 0.48)] \n",
    "\n",
    "with sns.axes_style('white'):\n",
    "    g = sns.FacetGrid(plot_df, col='replication', col_wrap=15,\n",
    "                      hue='replication', sharex=True, sharey=True, margin_titles=True,\n",
    "                     height=2, aspect=1)\n",
    "    g.map(facet_plot, 'start', 'end', 'prop_swept')\n",
    "\n",
    "    for ax in g.axes.flat:\n",
    "        plt.setp(ax.texts, text=\"\") # remove the original texts, important to do this before setting titles\n",
    "    g.set_titles(row_template = '{row_name}', col_template = '{col_name}')\n",
    "\n",
    "    for ax in g.axes.flat:\n",
    "        ax.set_xlabel('position') # need to set labels manually because the names of facet function are start and end.\n",
    "        ax.set_ylabel('prop ECH')        \n",
    "        plt.setp(ax.texts, rotation=\"0\") "
   ]
  },
  {
   "cell_type": "code",
   "execution_count": null,
   "metadata": {},
   "outputs": [],
   "source": [
    "plot_df = prop_swept_data.loc[(prop_swept_data.sweep_type == 'nosweep') & \\\n",
    "                              (prop_swept_data.demography == 'truncated') & \\\n",
    "                              (prop_swept_data.rec_rate_per_gen == 4.6e-9) & \\\n",
    "                              (prop_swept_data.x_auto_ratio == 0.48)] \n",
    "\n",
    "with sns.axes_style('white'):\n",
    "    g = sns.FacetGrid(plot_df, col='replication', col_wrap=15,\n",
    "                      hue='replication', sharex=True, sharey=True, margin_titles=True,\n",
    "                     height=2, aspect=1)\n",
    "    g.map(facet_plot, 'start', 'end', 'prop_swept')\n",
    "\n",
    "    for ax in g.axes.flat:\n",
    "        plt.setp(ax.texts, text=\"\") # remove the original texts, important to do this before setting titles\n",
    "    g.set_titles(row_template = '{row_name}', col_template = '{col_name}')\n",
    "\n",
    "    for ax in g.axes.flat:\n",
    "        ax.set_xlabel('position') # need to set labels manually because the names of facet function are start and end.\n",
    "        ax.set_ylabel('prop ECH')        \n",
    "        plt.setp(ax.texts, rotation=\"0\") "
   ]
  },
  {
   "cell_type": "markdown",
   "metadata": {},
   "source": [
    "Load 90% ECH regions"
   ]
  },
  {
   "cell_type": "code",
   "execution_count": null,
   "metadata": {},
   "outputs": [],
   "source": [
    "extended_peak_regions_90 = pd.read_hdf(ag.results_dir / f'extended_peak_regions_{ech_calling_tag}_90%.hdf')\n",
    "extended_peak_regions_90['chrom'] = 'chrX'"
   ]
  },
  {
   "cell_type": "markdown",
   "metadata": {},
   "source": [
    "### Plots to make for real data and simulations\n",
    "\n",
    "- Proportion of ECH in each individual\n",
    "- Number of peaks that each individual is part of (accounting for whole chrX vs. 10Mb)\n",
    "- Length distribution of ECHs\n",
    "- Proportion of individuals with ECH (where ECHs ca called)"
   ]
  },
  {
   "cell_type": "markdown",
   "metadata": {},
   "source": [
    "### Distribution of ECH peak heights and proportion of ECH across simulations"
   ]
  },
  {
   "cell_type": "code",
   "execution_count": null,
   "metadata": {},
   "outputs": [],
   "source": [
    "subset_df = prop_swept_data.loc[(prop_swept_data.sweep_type == 'nosweep') & \\\n",
    "                              (prop_swept_data.demography == 'standard')]"
   ]
  },
  {
   "cell_type": "markdown",
   "metadata": {},
   "source": [
    "Proportion of ECH across simulations:"
   ]
  },
  {
   "cell_type": "code",
   "execution_count": null,
   "metadata": {},
   "outputs": [],
   "source": [
    "subset_df.groupby(['rec_rate_per_gen', 'x_auto_ratio']).prop_swept.mean()"
   ]
  },
  {
   "cell_type": "markdown",
   "metadata": {},
   "source": [
    "Bootstrap batches of 15 simulations to reproduce ~150Mb X chromosome to get 95% percentile:"
   ]
  },
  {
   "cell_type": "code",
   "execution_count": null,
   "metadata": {},
   "outputs": [],
   "source": [
    "def bootstrap(df):\n",
    "    return pd.Series([df.iloc[np.random.randint(len(df), size=15)].prop_swept.mean() for _ in range(10000)])\n",
    "\n",
    "df = subset_df.groupby(['rec_rate_per_gen', 'x_auto_ratio']).apply(bootstrap).reset_index()\n",
    "df = df.melt(id_vars=['rec_rate_per_gen', 'x_auto_ratio'])"
   ]
  },
  {
   "cell_type": "code",
   "execution_count": null,
   "metadata": {},
   "outputs": [],
   "source": [
    "from scipy import stats\n"
   ]
  },
  {
   "cell_type": "code",
   "execution_count": null,
   "metadata": {},
   "outputs": [],
   "source": [
    "df.groupby(['rec_rate_per_gen', 'x_auto_ratio']).value.agg(mean_prop_swept=np.mean, \n",
    "                                                           quantile_5=lambda sr: np.quantile(sr, q=0.05),\n",
    "                                                           quantile_95=lambda sr: np.quantile(sr, q=0.95),\n",
    "                                                           prob=lambda sr: 1-stats.percentileofscore(sr, 0.14)/100\n",
    "                                                          )"
   ]
  },
  {
   "cell_type": "markdown",
   "metadata": {},
   "source": [
    "This is what compared to the 14% ECH in the actual data."
   ]
  },
  {
   "cell_type": "markdown",
   "metadata": {},
   "source": [
    "Distribution of peak prop_swept in simulations compared to our observations:"
   ]
  },
  {
   "cell_type": "code",
   "execution_count": null,
   "metadata": {},
   "outputs": [],
   "source": [
    "plot_df = subset_df.groupby(['rec_rate_per_gen', 'x_auto_ratio', 'replication']).prop_swept.max().reset_index().loc[lambda df: df.prop_swept > 0]\n",
    "plot_df.groupby(['rec_rate_per_gen', 'x_auto_ratio']).prop_swept.mean()"
   ]
  },
  {
   "cell_type": "code",
   "execution_count": null,
   "metadata": {},
   "outputs": [],
   "source": [
    "with sns.axes_style('white'):\n",
    "    g = sns.FacetGrid(plot_df, col='rec_rate_per_gen', row='x_auto_ratio',\n",
    "                      sharex=True, sharey=True, margin_titles=True, legend_out=True,\n",
    "                     # height=2, aspect=1\n",
    "                     )\n",
    "    bins = np.linspace(plot_df.prop_swept.min(), 1, 5)\n",
    "#     bins = None\n",
    "    norm_hist = True\n",
    "    kde = False\n",
    "    g.map(sns.distplot, 'prop_swept', kde=kde, norm_hist=norm_hist, bins=bins)\n",
    "    \n",
    "    for ax in g.axes.flat:\n",
    "        sns.distplot(extended_peak_regions_90.peak_prop_swept, ax=ax, color='orange', kde=kde, norm_hist=norm_hist, bins=bins)\n",
    "        ax.axvline(0.29, linestyle='dashed', color='black')\n",
    "    \n",
    "        plt.setp(ax.texts, text=\"\") # remove the original texts, important to do this before setting titles\n",
    "    g.set_titles(row_template = 'X/A ratio: {row_name}', col_template = '{col_name} mM/Mb')"
   ]
  },
  {
   "cell_type": "code",
   "execution_count": 83,
   "metadata": {},
   "outputs": [],
   "source": [
    "subset_df = prop_swept_data.loc[(prop_swept_data.sweep_type == 'nosweep') & \\\n",
    "                              (prop_swept_data.demography == 'truncated')]"
   ]
  },
  {
   "cell_type": "markdown",
   "metadata": {},
   "source": [
    "Proportion of ECH across simulations:"
   ]
  },
  {
   "cell_type": "code",
   "execution_count": 84,
   "metadata": {},
   "outputs": [
    {
     "data": {
      "text/plain": [
       "rec_rate_per_gen  x_auto_ratio\n",
       "4.600000e-09      0.48            0.055467\n",
       "                  0.66            0.005682\n",
       "1.160000e-08      0.48            0.004986\n",
       "                  0.66            0.000154\n",
       "Name: prop_swept, dtype: float64"
      ]
     },
     "execution_count": 84,
     "metadata": {},
     "output_type": "execute_result"
    }
   ],
   "source": [
    "subset_df.groupby(['rec_rate_per_gen', 'x_auto_ratio']).prop_swept.mean()"
   ]
  },
  {
   "cell_type": "markdown",
   "metadata": {},
   "source": [
    "This is what compared to the 14% ECH in the actual data. Given that only a part of the chromosme is as extreme as our regions, the expected prop_swept is between 1% and 5%:"
   ]
  },
  {
   "cell_type": "markdown",
   "metadata": {},
   "source": [
    "Distribution of peak prop_swept in simulations compared to our observations:"
   ]
  },
  {
   "cell_type": "code",
   "execution_count": 85,
   "metadata": {},
   "outputs": [
    {
     "data": {
      "text/plain": [
       "rec_rate_per_gen  x_auto_ratio\n",
       "4.600000e-09      0.48            0.458992\n",
       "                  0.66            0.369048\n",
       "1.160000e-08      0.48            0.374436\n",
       "                  0.66            0.307143\n",
       "Name: prop_swept, dtype: float64"
      ]
     },
     "execution_count": 85,
     "metadata": {},
     "output_type": "execute_result"
    }
   ],
   "source": [
    "plot_df = subset_df.groupby(['rec_rate_per_gen', 'x_auto_ratio', 'replication']).prop_swept.max().reset_index().loc[lambda df: df.prop_swept > 0]\n",
    "plot_df.groupby(['rec_rate_per_gen', 'x_auto_ratio']).prop_swept.mean()"
   ]
  },
  {
   "cell_type": "code",
   "execution_count": 86,
   "metadata": {},
   "outputs": [
    {
     "data": {
      "image/png": "[encoded data removed]",
      "text/plain": [
       "<Figure size 432x432 with 4 Axes>"
      ]
     },
     "metadata": {
      "image/png": {
       "height": 419,
       "width": 419
      }
     },
     "output_type": "display_data"
    }
   ],
   "source": [
    "with sns.axes_style('white'):\n",
    "    g = sns.FacetGrid(plot_df, col='rec_rate_per_gen', row='x_auto_ratio',\n",
    "                      sharex=True, sharey=True, margin_titles=True,\n",
    "                     # height=2, aspect=1\n",
    "                     )\n",
    "    bins = np.linspace(plot_df.prop_swept.min(), 1, 5)\n",
    "#     bins = None\n",
    "    norm_hist = True\n",
    "    kde = False\n",
    "    g.map(sns.distplot, 'prop_swept', kde=kde, norm_hist=norm_hist, bins=bins)\n",
    "    \n",
    "    for ax in g.axes.flat:\n",
    "        sns.distplot(extended_peak_regions_90.peak_prop_swept, ax=ax, color='orange', kde=kde, norm_hist=norm_hist, bins=bins)\n",
    "        ax.axvline(0.29, linestyle='dashed', color='black')\n",
    "    \n",
    "        plt.setp(ax.texts, text=\"\") # remove the original texts, important to do this before setting titles\n",
    "    g.set_titles(row_template = 'X/A ratio: {row_name}', col_template = '{col_name} mM/Mb')"
   ]
  },
  {
   "cell_type": "markdown",
   "metadata": {},
   "source": [
    "## Complete sweeps\n",
    "\n",
    "s = 0.1"
   ]
  },
  {
   "cell_type": "code",
   "execution_count": null,
   "metadata": {},
   "outputs": [],
   "source": [
    "plot_df = prop_swept_data.loc[(prop_swept_data.sweep_type == 'complete') & \\\n",
    "                              (prop_swept_data.demography == 'standard') & \\\n",
    "                              (prop_swept_data.selcoef == 0.1) ]\n",
    "\n",
    "with sns.axes_style('whitegrid'):\n",
    "    g = sns.FacetGrid(plot_df, col='rec_rate_per_gen', row='x_auto_ratio', \n",
    "                      hue='replication', sharex=True, sharey=True, margin_titles=True,\n",
    "                     height=2, aspect=3)\n",
    "    g.map(facet_plot, 'start', 'end', 'prop_swept')\n",
    "\n",
    "    for ax in g.axes.flat:\n",
    "        plt.setp(ax.texts, text=\"\") # remove the original texts, important to do this before setting titles\n",
    "    g.set_titles(row_template = '{row_name}', col_template = '{col_name}')\n",
    "\n",
    "    for ax in g.axes.flat:\n",
    "        ax.set_xlabel('position') # need to set labels manually because the names of facet function are start and end.\n",
    "        ax.set_ylabel('prop ECH')        \n",
    "        plt.setp(ax.texts, rotation=\"0\") # remove the original texts, important to do this before setting titles"
   ]
  },
  {
   "cell_type": "markdown",
   "metadata": {},
   "source": [
    "s = 0.01"
   ]
  },
  {
   "cell_type": "code",
   "execution_count": null,
   "metadata": {},
   "outputs": [],
   "source": [
    "plot_df = prop_swept_data.loc[(prop_swept_data.sweep_type == 'complete') & \\\n",
    "                              (prop_swept_data.demography == 'standard') & \\\n",
    "                              (prop_swept_data.selcoef == 0.01) ]\n",
    "\n",
    "with sns.axes_style('whitegrid'):\n",
    "    g = sns.FacetGrid(plot_df, col='rec_rate_per_gen', row='x_auto_ratio', \n",
    "                      hue='replication', sharex=True, sharey=True, margin_titles=True,\n",
    "                     height=2, aspect=3)\n",
    "    g.map(facet_plot, 'start', 'end', 'prop_swept')\n",
    "\n",
    "    for ax in g.axes.flat:\n",
    "        plt.setp(ax.texts, text=\"\") # remove the original texts, important to do this before setting titles\n",
    "    g.set_titles(row_template = '{row_name}', col_template = '{col_name}')\n",
    "\n",
    "    for ax in g.axes.flat:\n",
    "        ax.set_xlabel('position') # need to set labels manually because the names of facet function are start and end.\n",
    "        ax.set_ylabel('prop ECH')        \n",
    "        plt.setp(ax.texts, rotation=\"0\") # remove the original texts, important to do this before setting titles"
   ]
  },
  {
   "cell_type": "markdown",
   "metadata": {},
   "source": [
    "## Partial sweeps\n",
    "\n",
    "s = 0.1"
   ]
  },
  {
   "cell_type": "code",
   "execution_count": null,
   "metadata": {},
   "outputs": [],
   "source": [
    "plot_df = prop_swept_data.loc[(prop_swept_data.sweep_type == 'partial') & \\\n",
    "                              (prop_swept_data.demography == 'standard') & \\\n",
    "                              (prop_swept_data.selcoef == 0.1) ]\n",
    "\n",
    "with sns.axes_style('whitegrid'):\n",
    "    g = sns.FacetGrid(plot_df, col='rec_rate_per_gen', row='x_auto_ratio', \n",
    "                      hue='replication', sharex=True, sharey=True, margin_titles=True,\n",
    "                     height=2, aspect=3)\n",
    "    g.map(facet_plot, 'start', 'end', 'prop_swept')\n",
    "\n",
    "    for ax in g.axes.flat:\n",
    "        plt.setp(ax.texts, text=\"\") # remove the original texts, important to do this before setting titles\n",
    "    g.set_titles(row_template = '{row_name}', col_template = '{col_name}')\n",
    "\n",
    "    for ax in g.axes.flat:\n",
    "        ax.set_xlabel('position') # need to set labels manually because the names of facet function are start and end.\n",
    "        ax.set_ylabel('prop ECH')        \n",
    "        plt.setp(ax.texts, rotation=\"0\") # remove the original texts, important to do this before setting titles"
   ]
  },
  {
   "cell_type": "markdown",
   "metadata": {},
   "source": [
    "s = 0.01"
   ]
  },
  {
   "cell_type": "code",
   "execution_count": null,
   "metadata": {},
   "outputs": [],
   "source": [
    "plot_df = prop_swept_data.loc[(prop_swept_data.sweep_type == 'partial') & \\\n",
    "                              (prop_swept_data.demography == 'standard') & \\\n",
    "                              (prop_swept_data.selcoef == 0.01) ]\n",
    "\n",
    "with sns.axes_style('whitegrid'):\n",
    "    g = sns.FacetGrid(plot_df, col='rec_rate_per_gen', row='x_auto_ratio', \n",
    "                      hue='replication', sharex=True, sharey=True, margin_titles=True,\n",
    "                     height=2, aspect=3)\n",
    "    g.map(facet_plot, 'start', 'end', 'prop_swept')\n",
    "\n",
    "    for ax in g.axes.flat:\n",
    "        plt.setp(ax.texts, text=\"\") # remove the original texts, important to do this before setting titles\n",
    "    g.set_titles(row_template = '{row_name}', col_template = '{col_name}')\n",
    "\n",
    "    for ax in g.axes.flat:\n",
    "        ax.set_xlabel('position') # need to set labels manually because the names of facet function are start and end.\n",
    "        ax.set_ylabel('prop ECH')        \n",
    "        plt.setp(ax.texts, rotation=\"0\") # remove the original texts, important to do this before setting titles"
   ]
  },
  {
   "cell_type": "markdown",
   "metadata": {},
   "source": [
    "-----"
   ]
  },
  {
   "cell_type": "code",
   "execution_count": null,
   "metadata": {},
   "outputs": [],
   "source": [
    "with sns.axes_style('whitegrid'):\n",
    "#     g = sns.FacetGrid(prop_swept_data, col='simulation', row='selection_coef', \n",
    "    g = sns.FacetGrid(prop_swept_data.loc[prop_swept_data.simulation.str.startswith('standard_40_4650')],\n",
    "                      col='selection_coef', row='simulation', \n",
    "                      hue='replication', sharex=True, sharey=True, margin_titles=True,\n",
    "                     height=3, aspect=5)\n",
    "    g.map(facet_plot, 'start', 'end', 'prop_swept')\n",
    "\n",
    "    for ax in g.axes.flat:\n",
    "        plt.setp(ax.texts, text=\"\") # remove the original texts, important to do this before setting titles\n",
    "    g.set_titles(row_template = '{row_name}', col_template = '{col_name}')\n",
    "\n",
    "    for ax in g.axes.flat:\n",
    "        plt.setp(ax.texts, rotation=\"0\") # remove the original texts, important to do this before setting titles\n",
    "\n"
   ]
  },
  {
   "cell_type": "code",
   "execution_count": null,
   "metadata": {},
   "outputs": [],
   "source": [
    "prop_swept_data.simulation.unique()"
   ]
  },
  {
   "cell_type": "code",
   "execution_count": null,
   "metadata": {},
   "outputs": [],
   "source": [
    "def facet_plot(start, end, prop_swept, **kwargs):\n",
    "    x = [j for i in zip(start, end) for j in i]\n",
    "    y = [j for i in zip(prop_swept, prop_swept) for j in i]      \n",
    "    plt.plot(x, y, color='black', linewidth=0.2)\n",
    "#    plt.plot(x, y, linewidth=0.2, **kwargs)\n",
    "    plt.ylim((0, 1))\n",
    "    plt.fill_between(x, 0, y, color='gray', alpha=0.5)\n",
    "\n",
    "with sns.axes_style('whitegrid'):\n",
    "#     g = sns.FacetGrid(prop_swept_data, col='simulation', row='selection_coef', \n",
    "    g = sns.FacetGrid(prop_swept_data.loc[prop_swept_data.simulation.isin(['standard_55_4650_X_nosweep_98275',\n",
    "                                                                          'standard_40_4650_X_nosweep_98275',\n",
    "                                                                          'standard_48_4650_X_nosweep_98275',\n",
    "                                                                          'standard_66_4650_X_nosweep_98275'])],\n",
    "                      col='replication', row='simulation', sharex=True, sharey=True, margin_titles=True,\n",
    "                     height=4, aspect=0.5)\n",
    "    g.map(facet_plot, 'start', 'end', 'prop_swept')\n",
    "\n",
    "    for ax in g.axes.flat:\n",
    "        plt.setp(ax.texts, text=\"\") # remove the original texts, important to do this before setting titles\n",
    "    g.set_titles(row_template = '{row_name}', col_template = '{col_name}')\n",
    "\n",
    "    for ax in g.axes.flat:\n",
    "        plt.setp(ax.texts, rotation=\"0\") # remove the original texts, important to do this before setting titles\n",
    "\n"
   ]
  },
  {
   "cell_type": "markdown",
   "metadata": {},
   "source": [
    "## TMRCA computations"
   ]
  },
  {
   "cell_type": "code",
   "execution_count": null,
   "metadata": {},
   "outputs": [],
   "source": [
    "# from math import exp\n",
    "\n",
    "# def lamb(i):\n",
    "#     # lamb(i) rate of coalescence from i-1 to i\n",
    "#     i += 1\n",
    "#     return i*(i-1)/2\n",
    "\n",
    "# samples = 5 # total samples\n",
    "# setsize = 3 # size of clade (we want to see at least one such clade coalesce before time t)\n",
    "# t = 1\n",
    "\n",
    "# for n in range(setsize, samples+1):\n",
    "#     # loop from setsize to samples (3 to 5):\n",
    "#     p = 0\n",
    "#     for i in range(1, n):\n",
    "#         # loop from 1 to n-1:\n",
    "#         p += np.prod([lamb(j)/(lamb(j)-lamb(i)) for j in range(1, n) if i != j]) \\\n",
    "#         * exp(-lamb(n)*t) \\\n",
    "#         * (lamb(i)/(lamb(i)-lamb(n))) \\\n",
    "#         * (-exp(-(lamb(i)-lamb(n))*t) + 1)\n",
    "#     # combinatorial expression:\n",
    "#     p *= scipy.misc.comb(n, setsize) / scipy.misc.comb(samples, setsize)\n",
    "# p\n",
    "    \n"
   ]
  },
  {
   "cell_type": "code",
   "execution_count": null,
   "metadata": {},
   "outputs": [],
   "source": [
    "# def lamb(x):\n",
    "#     x += 1\n",
    "#     return x*(x-1)/2\n",
    "\n",
    "\n",
    "# N = 3000\n",
    "# n = 42\n",
    "# t = 1\n",
    "\n",
    "# prob = 0\n",
    "# for i in range(1, n):\n",
    "#     prob += (1 - math.exp(-lamb(i)*t)) * np.prod([lamb(j)/(lamb(j)-lamb(i)) for j in range(1, n) if i != j])\n",
    "# prob * scipy.misc.comb(140, 42)"
   ]
  },
  {
   "cell_type": "code",
   "execution_count": null,
   "metadata": {},
   "outputs": [],
   "source": [
    "#scipy.misc.comb(140, 42)"
   ]
  },
  {
   "cell_type": "code",
   "execution_count": null,
   "metadata": {},
   "outputs": [],
   "source": [
    "#1- math.exp(-lamb(1))"
   ]
  },
  {
   "cell_type": "code",
   "execution_count": null,
   "metadata": {},
   "outputs": [],
   "source": [
    "# def lamb(x):\n",
    "#     return x*(x-1)/2\n",
    "\n",
    "# t = 10\n",
    "# n = 20\n",
    "\n",
    "# prob = 0\n",
    "# for i in range(1, n+1):\n",
    "# #     print([lamb(j)/(lamb(j)-lamb(i)) for j in range(1, n+1) if i != j])\n",
    "#     prob += lamb(i) * math.exp(-lamb(i)*t) * np.prod([lamb(j)/(lamb(j)-lamb(i)) for j in range(1, n+1) if i != j])\n",
    "# prob #* scipy.misc.comb(n, i)"
   ]
  },
  {
   "cell_type": "code",
   "execution_count": null,
   "metadata": {},
   "outputs": [],
   "source": [
    "#lamb(3)"
   ]
  },
  {
   "cell_type": "code",
   "execution_count": null,
   "metadata": {},
   "outputs": [],
   "source": [
    "# import scipy\n",
    "\n",
    "# def coal_n_to_l(n, l, t):\n",
    "#     \"\"\"Prob of reducing n lineages to l in time t\"\"\"\n",
    "#     Q = np.zeros(shape=(n-l+1, n-l+1))\n",
    "#     for x in range(n-l):\n",
    "#         rate = scipy.misc.comb(n-x, 2) / (2 * pop_size)\n",
    "#         Q[x][x] = -rate\n",
    "#         Q[x][x+1] = rate\n",
    "#     return scipy.linalg.expm(Q*t)[0][-1]\n",
    "\n",
    "# def clade_prob(n, l, t, i):\n",
    "#     \"\"\"Prob of one among l lineages being ancestor to i among n\"\"\"\n",
    "# #     if i == 1 or l == 1:\n",
    "# #         return 1\n",
    "# #     else:\n",
    "#     return scipy.misc.comb(n-i-1, l-2) / scipy.misc.comb(n-1, l-1)\n",
    "        \n",
    "# n = 5\n",
    "# t = 36\n",
    "# pop_size = 300\n",
    "# i = 2\n",
    "\n",
    "# total_prop = 0\n",
    "# for l in range(1, n):\n",
    "#     total_prop += coal_n_to_l(n, l, t) * clade_prob(n, l, t, i)\n",
    "# total_prop"
   ]
  },
  {
   "cell_type": "code",
   "execution_count": null,
   "metadata": {},
   "outputs": [],
   "source": [
    "# n = 5\n",
    "# t = 360\n",
    "# pop_size = 30\n",
    "\n",
    "# i = 2\n",
    "\n",
    "# #l = 3\n",
    "\n",
    "# total_prop = 0\n",
    "\n",
    "# for l in [3]:#range(1, n):\n",
    "    \n",
    "#     # probability of having l out of n left at time t\n",
    "#     Q = np.zeros(shape=(n-l+1, n-l+1))\n",
    "#     for x in range(n-l):\n",
    "#         rate = scipy.misc.comb(n-x, 2) / (2 * pop_size)\n",
    "#         Q[x][x] = -rate\n",
    "#         Q[x][x+1] = rate\n",
    "#     prop_coalescences_n_to_l = scipy.linalg.expm(Q*t)[0][-1]\n",
    "#     prop_coalescences_n_to_l\n",
    "\n",
    "    \n",
    "#     if i == 1 or l == 1:\n",
    "#         prop_ancestor_to_i = 1 # CHECK THAT THIS IS OK\n",
    "#     else:\n",
    "#         prop_ancestor_to_i = scipy.misc.comb(n-i-1, l-2) / scipy.misc.comb(n-1, l-1)\n",
    "\n",
    "#     assert prop_ancestor_to_i <= 1, prop_ancestor_to_i\n",
    "\n",
    "#     prob = prop_coalescences_n_to_l * prop_ancestor_to_i\n",
    "\n",
    "#     print(prop_coalescences_n_to_l, prop_ancestor_to_i)\n",
    "\n",
    "#     total_prop += prob\n",
    "# total_prop"
   ]
  },
  {
   "cell_type": "raw",
   "metadata": {},
   "source": [
    "## Not sure what the stuff below is"
   ]
  },
  {
   "cell_type": "raw",
   "metadata": {},
   "source": [
    "df = pd.read_hdf(str(ag.steps_dir / 'slim/simulations/standard/66/4650/X/nosweep/98275/10/standard_66_4650_X_nosweep_98275_10_0.hdf'))\n",
    "\n",
    "plt.hist(df.dist, bins=100, alpha=0.5) ;\n",
    "plt.axvline(5e-5, color='orange', linestyle='dashed') ;\n"
   ]
  },
  {
   "cell_type": "raw",
   "metadata": {},
   "source": [
    "df = pd.read_hdf(str(ag.steps_dir / 'slim/simulations/standard/48/4650/X/nosweep/98275/10/standard_48_4650_X_nosweep_98275_10_0.hdf'))\n",
    "\n",
    "plt.hist(df.dist, bins=100, alpha=0.5) ;\n",
    "plt.axvline(5e-5, color='orange', linestyle='dashed');\n"
   ]
  },
  {
   "cell_type": "raw",
   "metadata": {},
   "source": [
    "# s = 'standard_40_4650_X_nosweep_98275_{}'.format(20)\n",
    "# f_name_tmpl = '/home/kmt/simons/faststorage/people/kmt/steps/slim/simulations/' + s.replace('_', '/') + '/{}_{{}}.hdf'.format(s)\n",
    "# df = pd.read_hdf(f_name_tmpl.format(0))\n",
    "# plt.hist(df.dist, bins=200, alpha=0.5) ;\n",
    "\n",
    "# s = 'standard_40_4650_X_nosweep_98275_{}'.format(20)\n",
    "# f_name_tmpl = '/home/kmt/simons/faststorage/people/kmt/steps/slim/simulations/' + s.replace('_', '/') + '/{}_{{}}.hdf'.format(s)\n",
    "# df = pd.read_hdf(f_name_tmpl.format(0))\n",
    "# plt.hist(df.dist, bins=200, alpha=0.5) ;"
   ]
  },
  {
   "cell_type": "raw",
   "metadata": {},
   "source": [
    "# s = 'nosweep_10000_96551_98965_10000_96206_{}'.format(20)\n",
    "# f_name_tmpl = '/home/kmt/simons/faststorage/people/kmt/steps/slim/simulations/' + s.replace('_', '/') + '/{}_{{}}.hdf'.format(s)\n",
    "# df = pd.read_hdf(f_name_tmpl.format(0))\n",
    "# plt.hist(df.dist, bins=200, alpha=0.5) ;\n",
    "\n",
    "# s = 'nosweep_10000_96551_98965_1000_96206_{}'.format(20)\n",
    "# f_name_tmpl = '/home/kmt/simons/faststorage/people/kmt/steps/slim/simulations/' + s.replace('_', '/') + '/{}_{{}}.hdf'.format(s)\n",
    "# df = pd.read_hdf(f_name_tmpl.format(0))\n",
    "# plt.hist(df.dist, bins=200, alpha=0.5) ;\n",
    "\n",
    "# s = 'nosweep_10000_96954_98563_690_98275_{}'.format(20)\n",
    "# f_name_tmpl = '/home/kmt/simons/faststorage/people/kmt/steps/slim/simulations/' + s.replace('_', '/') + '/{}_{{}}.hdf'.format(s)\n",
    "# df = pd.read_hdf(f_name_tmpl.format(0))\n",
    "# plt.hist(df.dist, bins=200, alpha=0.5) ;\n",
    "\n",
    "# s = 'nosweep_10000_97356_98160_357_99310_{}'.format(20)\n",
    "# f_name_tmpl = '/home/kmt/simons/faststorage/people/kmt/steps/slim/simulations/' + s.replace('_', '/') + '/{}_{{}}.hdf'.format(s)\n",
    "# df = pd.read_hdf(f_name_tmpl.format(0))\n",
    "# plt.hist(df.dist, bins=100, alpha=0.5) ;\n"
   ]
  },
  {
   "cell_type": "raw",
   "metadata": {},
   "source": [
    "\n",
    "\n",
    "s = 'nosweep_10000_3448_5861_10000_5171_{}'.format(20)\n",
    "f_name_tmpl = '/home/kmt/simons/faststorage/people/kmt/steps/slim/simulations/' + s.replace('_', '/') + '/{}_{{}}.hdf'.format(s)\n",
    "df = pd.read_hdf(f_name_tmpl.format(0))\n",
    "plt.hist(df.dist, bins=100, alpha=0.5) ;\n"
   ]
  },
  {
   "cell_type": "raw",
   "metadata": {},
   "source": [
    "s = 'nosweep_10000_3447_5861_1000_3102_{}'.format(20)\n",
    "f_name_tmpl = '/home/kmt/simons/faststorage/people/kmt/steps/slim/simulations/' + s.replace('_', '/') + '/{}_{{}}.hdf'.format(s)\n",
    "df = pd.read_hdf(f_name_tmpl.format(0))\n",
    "plt.hist(df.dist, bins=200, alpha=0.5) ;\n",
    "\n",
    "s = 'nosweep_10000_3448_5861_10000_3102_{}'.format(20)\n",
    "f_name_tmpl = '/home/kmt/simons/faststorage/people/kmt/steps/slim/simulations/' + s.replace('_', '/') + '/{}_{{}}.hdf'.format(s)\n",
    "df = pd.read_hdf(f_name_tmpl.format(0))\n",
    "plt.hist(df.dist, bins=200, alpha=0.5) ;\n"
   ]
  },
  {
   "cell_type": "raw",
   "metadata": {},
   "source": [
    "s = 'nosweep_10000_3447_5861_1000_3102_{}'.format(20)\n",
    "f_name_tmpl = '/home/kmt/simons/faststorage/people/kmt/steps/slim/simulations/' + s.replace('_', '/') + '/{}_{{}}.hdf'.format(s)\n",
    "df = pd.read_hdf(f_name_tmpl.format(0))\n",
    "plt.hist(df.dist, bins=100) ;"
   ]
  },
  {
   "cell_type": "raw",
   "metadata": {},
   "source": [
    "plt.figure(figsize=(10,6))\n",
    "for i in range(10):\n",
    "    plt.subplot(2, 5, i+1)\n",
    "    df = pd.read_hdf(f_name_tmpl.format(i))\n",
    "    plt.hist(df.dist, bins=100)\n",
    "    plt.axvline(5e-5, color='orange', zorder=0)"
   ]
  },
  {
   "cell_type": "raw",
   "metadata": {},
   "source": [
    "import pyslim, msprime, random\n",
    "seed = 7\n",
    "mutation_rate = 1.25e-8\n",
    "sample_size = 100\n",
    "\n",
    "trees = pyslim.load(f_name_tmpl.format(0).replace('.hdf', '.trees'))\n",
    "\n",
    "# Overlay neutral mutations and make bit arrays for each SNP:\n",
    "sample_ids = sorted(random.sample(list(trees.samples()), sample_size))\n",
    "\n",
    "trees_sample = trees.simplify(samples=sample_ids, filter_zero_mutation_sites=True, filter_individuals=True)\n",
    "mutated_trees = msprime.mutate(trees_sample, rate=mutation_rate, random_seed=seed)\n",
    "# mutated.dump(\"./sweep_overlaid.trees\") \n",
    "print(mutated_trees.pairwise_diversity() / mutated_trees.sequence_length)\n",
    "\n",
    "\n",
    "ts = mutated_trees\n",
    "# Measure the tree height at each base position\n",
    "height_for_pos = np.zeros(int(ts.sequence_length))\n",
    "for tree in ts.trees():\n",
    "    mean_height = np.mean([tree.time(root) for root in tree.roots])\n",
    "    left, right = map(int, tree.interval)\n",
    "    height_for_pos[left: right] = mean_height\n",
    "height_for_pos\n",
    "plt.figure(figsize=(10,3))\n",
    "plt.plot(height_for_pos, linewidth=0.5, color='black') ;\n",
    "\n",
    "\n",
    "trees = pyslim.load(f_name_tmpl.format(1).replace('.hdf', '.trees'))\n",
    "\n",
    "# Overlay neutral mutations and make bit arrays for each SNP:\n",
    "sample_ids = sorted(random.sample(list(trees.samples()), sample_size))\n",
    "\n",
    "trees_sample = trees.simplify(samples=sample_ids, filter_zero_mutation_sites=True, filter_individuals=True)\n",
    "mutated_trees = msprime.mutate(trees_sample, rate=mutation_rate, random_seed=seed)\n",
    "# mutated.dump(\"./sweep_overlaid.trees\") \n",
    "print(mutated_trees.pairwise_diversity() / mutated_trees.sequence_length)\n",
    "\n",
    "\n",
    "ts = mutated_trees\n",
    "# Measure the tree height at each base position\n",
    "height_for_pos = np.zeros(int(ts.sequence_length))\n",
    "for tree in ts.trees():\n",
    "    mean_height = np.mean([tree.time(root) for root in tree.roots])\n",
    "    left, right = map(int, tree.interval)\n",
    "    height_for_pos[left: right] = mean_height\n",
    "height_for_pos\n",
    "\n",
    "plt.plot(height_for_pos, linewidth=0.5, color='red') ;\n",
    "\n",
    "\n",
    "\n",
    "\n",
    "\n"
   ]
  },
  {
   "cell_type": "raw",
   "metadata": {},
   "source": []
  },
  {
   "cell_type": "raw",
   "metadata": {},
   "source": []
  },
  {
   "cell_type": "raw",
   "metadata": {},
   "source": []
  },
  {
   "cell_type": "raw",
   "metadata": {},
   "source": [
    "## Run slim testing to get pairwise distances for testing purposes"
   ]
  },
  {
   "cell_type": "raw",
   "metadata": {},
   "source": [
    "from itertools import combinations\n",
    "import argparse\n",
    "import random\n",
    "import subprocess\n",
    "import re, os, sys\n",
    "import tempfile\n",
    "import numpy as np\n",
    "import pandas as pd\n",
    "from pandas import DataFrame\n",
    "import msprime, pyslim\n",
    "\n",
    "trees_file = \"/home/kmt/simons/faststorage/people/kmt/test_slim.trees\"\n",
    "\n",
    "slurm_script = r'''\n",
    "initialize() {\n",
    "\tinitializeTreeSeq();\n",
    "\tinitializeMutationRate(0);\n",
    "\tinitializeMutationType(\"m1\", 0.5, \"f\", 0.0);\n",
    "\tinitializeGenomicElementType(\"g1\", m1, 1.0);\n",
    "\tinitializeGenomicElement(g1, 0, 10e6-1);\n",
    "\tinitializeRecombinationRate(1e-8);\n",
    "}\n",
    "1 {\n",
    "\tdefineConstant(\"simID\", getSeed());\n",
    "\tsim.addSubpop(\"p1\", 10000);\n",
    "}\n",
    "50000 {\n",
    "    sim.treeSeqOutput(\"OUTFILE\");\n",
    "\tsim.simulationFinished();\n",
    "}\n",
    "'''.replace('OUTFILE', trees_file)\n",
    "\n",
    "print(slurm_script)\n",
    "random.seed(7)\n",
    "\n",
    "window_size = 100000\n",
    "\n",
    "# write slim script file with the right output name\n",
    "slurm_script_file = tempfile.NamedTemporaryFile(mode='w', delete=False)\n",
    "slurm_script_file.write(slurm_script)\n",
    "slurm_script_file.close()\n",
    "\n",
    "# run slim\n",
    "cmd = '/home/kmt/simons/faststorage/people/kmt/slim {}'.format(slurm_script_file.name)\n",
    "p = subprocess.Popen(cmd.split(), \n",
    "    stdout=subprocess.PIPE, stderr=subprocess.PIPE)\n",
    "stdout, stderr = p.communicate()\n",
    "print(stdout.decode())\n",
    "print(stderr.decode())"
   ]
  },
  {
   "cell_type": "raw",
   "metadata": {},
   "source": [
    "mutationrate = 4.3e-10\n",
    "generationtime = 29\n",
    "\n",
    "# load trees from slim\n",
    "ts = pyslim.load(trees_file)\n",
    "\n",
    "# overlay mutations\n",
    "mutated_ts = msprime.mutate(ts, rate=mutationrate*generationtime, random_seed=2, keep=True)"
   ]
  },
  {
   "cell_type": "raw",
   "metadata": {},
   "source": [
    "ts = mutated_trees\n",
    "# Measure the tree height at each base position\n",
    "height_for_pos = np.zeros(int(ts.sequence_length))\n",
    "for tree in ts.trees():\n",
    "    mean_height = np.mean([tree.time(root) for root in tree.roots])\n",
    "    left, right = map(int, tree.interval)\n",
    "    height_for_pos[left: right] = mean_height\n",
    "height_for_pos\n",
    "plt.figure(figsize=(10,3))\n",
    "plt.plot(height_for_pos, linewidth=0.5, color='black') ;\n",
    "\n",
    "height_for_pos.mean()"
   ]
  },
  {
   "cell_type": "raw",
   "metadata": {},
   "source": [
    "samples = 10\n",
    "\n",
    "# random indexes for samples\n",
    "sample_idx = set(random.sample(range(ts.num_individuals), samples))\n",
    "assert len(sample_idx) == samples"
   ]
  },
  {
   "cell_type": "raw",
   "metadata": {},
   "source": [
    "# get the corresponding sample haplotypes\n",
    "sample = list()\n",
    "for i, hap in enumerate(mutated_ts.haplotypes()):\n",
    "    if i in sample_idx:\n",
    "        sample.append(hap)        "
   ]
  },
  {
   "cell_type": "raw",
   "metadata": {},
   "source": [
    "        \n",
    "# get the positions of each segregating site\n",
    "positions = [site.position for site in mutated_ts.sites()]  \n",
    "\n",
    "# make table with sampled haplotypes\n",
    "table = np.array([list(map(np.int8, hap)) for hap in sample]).transpose()"
   ]
  },
  {
   "cell_type": "raw",
   "metadata": {},
   "source": [
    "# turn table into dataframe with positions\n",
    "df = DataFrame(table, dtype='int8')\n",
    "df['pos'] = positions"
   ]
  },
  {
   "cell_type": "raw",
   "metadata": {},
   "source": [
    "# add a row with zeros for the start of each window so there is at least\n",
    "# one row in each window\n",
    "zeros = dict((x, 0) for x in range(samples))\n",
    "extra_df = pd.DataFrame({'pos': range(0, int(mutated_ts.sequence_length), window_size), **zeros})\n",
    "df = df.append(extra_df)"
   ]
  },
  {
   "cell_type": "raw",
   "metadata": {},
   "source": [
    "# make a start column grouping all rows in same window\n",
    "df['start'] = ((df.pos // window_size) * window_size).astype('uint32')\n",
    "df.drop('pos', axis=1, inplace=True)\n",
    "df.set_index('start', inplace=True)\n",
    "\n",
    "def pw_dist(df):\n",
    "    \"computes differences bewteen all pairs in a window\"\n",
    "    pairs = list(combinations(df.columns, 2))\n",
    "    site_diffs = [np.bitwise_xor(df[p[0]], df[p[1]]) for p in pairs]\n",
    "    return pd.concat(site_diffs, axis=1, keys=pairs).sum()\n",
    "\n",
    "# make a dataframe with distance for each pair\n",
    "pw_dist_df = (\n",
    "    df\n",
    "    .groupby('start')\n",
    "    .apply(pw_dist)\n",
    "    .reset_index()\n",
    "    .melt(id_vars=['start'], var_name=['indiv_1', 'indiv_2'], value_name='dist')\n",
    "    )"
   ]
  },
  {
   "cell_type": "raw",
   "metadata": {},
   "source": [
    "# compute proper distance as number of diffs divided by window size\n",
    "pw_dist_df['dist'] /= window_size\n",
    "\n",
    "# add end column\n",
    "pw_dist_df.insert(loc=1, column='end', value=pw_dist_df.start + window_size)\n",
    "\n",
    "# convert indiv labels from object to int and and write hdf\n",
    "pw_dist_df['indiv_1'] = pw_dist_df['indiv_1'].astype('uint16')\n",
    "pw_dist_df['indiv_2'] = pw_dist_df['indiv_2'].astype('uint16')\n",
    "#pw_dist_df.to_hdf(args.hdf_file, 'df', format='table', mode='w')"
   ]
  },
  {
   "cell_type": "raw",
   "metadata": {},
   "source": [
    "plt.hist(pw_dist_df.dist) \n",
    "plt.axvline(5e-5, color='orange') ;"
   ]
  },
  {
   "cell_type": "raw",
   "metadata": {},
   "source": []
  }
 ],
 "metadata": {
  "anaconda-cloud": {},
  "kernelspec": {
   "display_name": "Python 3",
   "language": "python",
   "name": "python3"
  },
  "language_info": {
   "codemirror_mode": {
    "name": "ipython",
    "version": 3
   },
   "file_extension": ".py",
   "mimetype": "text/x-python",
   "name": "python",
   "nbconvert_exporter": "python",
   "pygments_lexer": "ipython3",
   "version": "3.6.10"
  }
 },
 "nbformat": 4,
 "nbformat_minor": 4
}
