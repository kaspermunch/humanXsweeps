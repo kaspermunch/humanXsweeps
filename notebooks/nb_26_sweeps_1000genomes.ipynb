{
 "cells": [
  {
   "cell_type": "markdown",
   "metadata": {},
   "source": [
    "# Sweeps in 1000 genomes male X haplotypes"
   ]
  },
  {
   "cell_type": "code",
   "execution_count": 1,
   "metadata": {},
   "outputs": [
    {
     "name": "stderr",
     "output_type": "stream",
     "text": [
      "/home/kmt/anaconda2/envs/simons/lib/python3.5/site-packages/sklearn/utils/fixes.py:313: FutureWarning: numpy not_equal will not check object identity in the future. The comparison did not return the same result as suggested by the identity (`is`)) and will change.\n",
      "  _nan_object_mask = _nan_object_array != _nan_object_array\n"
     ]
    }
   ],
   "source": [
    "import os, sys, math, re\n",
    "from pathlib import Path\n",
    "import numpy\n",
    "import pandas as pd\n",
    "import numpy as np\n",
    "from pandas import DataFrame, Series\n",
    "from sklearn.decomposition import PCA\n",
    "\n",
    "numpy.random.seed(7)"
   ]
  },
  {
   "cell_type": "markdown",
   "metadata": {},
   "source": [
    "Import variables global to the entire analysis:"
   ]
  },
  {
   "cell_type": "code",
   "execution_count": 2,
   "metadata": {},
   "outputs": [],
   "source": [
    "import analysis_globals as ag"
   ]
  },
  {
   "cell_type": "markdown",
   "metadata": {},
   "source": [
    "Local code in the scripts dir on the cluster:"
   ]
  },
  {
   "cell_type": "code",
   "execution_count": 3,
   "metadata": {},
   "outputs": [],
   "source": [
    "if str(ag.scripts_dir) not in sys.path:\n",
    "    sys.path.append(str(ag.scripts_dir))\n",
    "\n",
    "from hg19_chrom_sizes import hg19_chrom_sizes"
   ]
  },
  {
   "cell_type": "markdown",
   "metadata": {},
   "source": [
    "Plotting setup:"
   ]
  },
  {
   "cell_type": "code",
   "execution_count": 4,
   "metadata": {},
   "outputs": [],
   "source": [
    "%matplotlib inline\n",
    "\n",
    "# Make inline plots vector graphics instead of raster graphics\n",
    "from IPython.display import set_matplotlib_formats\n",
    "set_matplotlib_formats('retina', 'png')\n",
    "\n",
    "import matplotlib\n",
    "import matplotlib.pyplot as plt\n",
    "from matplotlib.colors import ListedColormap\n",
    "from matplotlib.patches import Rectangle\n",
    "from mpl_toolkits.basemap import Basemap\n",
    "#matplotlib.rcParams['figure.figsize'] = (20.0, 10.0)\n",
    "\n",
    "import mpld3\n",
    "\n",
    "import seaborn as sns\n",
    "sns.set() # seaborn niceness\n",
    "sns.set_style(\"whitegrid\")\n",
    "sns.set_context(\"paper\")\n",
    "\n",
    "# lowess for plotting\n",
    "from statsmodels.nonparametric.smoothers_lowess import lowess\n",
    "\n",
    "def stairs(df, start='start', end='end', pos='pos', endtrim=0):\n",
    "    \"Turn a df with start, end into one with pos to plot as stairs\"\n",
    "    df1 = df.copy(deep=True)\n",
    "    df2 = df.copy(deep=True)\n",
    "    df1[pos] = df1[start]\n",
    "    df2[pos] = df2[end] - endtrim\n",
    "    return pd.concat([df1, df2]).sort_values([start, end])"
   ]
  },
  {
   "cell_type": "markdown",
   "metadata": {},
   "source": [
    "Ignore warnings:"
   ]
  },
  {
   "cell_type": "code",
   "execution_count": 5,
   "metadata": {},
   "outputs": [],
   "source": [
    "# silence deprecation warnings (lots from seaborn)\n",
    "import warnings\n",
    "warnings.filterwarnings(\"ignore\", category=DeprecationWarning) \n",
    "warnings.filterwarnings(\"ignore\", category=numpy.VisibleDeprecationWarning)"
   ]
  },
  {
   "cell_type": "markdown",
   "metadata": {},
   "source": [
    "### Load data"
   ]
  },
  {
   "cell_type": "code",
   "execution_count": 13,
   "metadata": {},
   "outputs": [
    {
     "ename": "ValueError",
     "evalue": "No objects to concatenate",
     "output_type": "error",
     "traceback": [
      "\u001b[0;31m---------------------------------------------------------------------------\u001b[0m",
      "\u001b[0;31mValueError\u001b[0m                                Traceback (most recent call last)",
      "\u001b[0;32m<ipython-input-13-f2b5d4cd7810>\u001b[0m in \u001b[0;36m<module>\u001b[0;34m\u001b[0m\n\u001b[1;32m     26\u001b[0m             \u001b[0mdf_list\u001b[0m\u001b[0;34m.\u001b[0m\u001b[0mappend\u001b[0m\u001b[0;34m(\u001b[0m\u001b[0mdf\u001b[0m\u001b[0;34m)\u001b[0m\u001b[0;34m\u001b[0m\u001b[0m\n\u001b[1;32m     27\u001b[0m \u001b[0;34m\u001b[0m\u001b[0m\n\u001b[0;32m---> 28\u001b[0;31m \u001b[0msweep_data\u001b[0m \u001b[0;34m=\u001b[0m \u001b[0mpd\u001b[0m\u001b[0;34m.\u001b[0m\u001b[0mconcat\u001b[0m\u001b[0;34m(\u001b[0m\u001b[0mdf_list\u001b[0m\u001b[0;34m)\u001b[0m\u001b[0;34m\u001b[0m\u001b[0m\n\u001b[0m\u001b[1;32m     29\u001b[0m \u001b[0;34m\u001b[0m\u001b[0m\n\u001b[1;32m     30\u001b[0m sweep_data['superpop'] = pd.Categorical(sweep_data.superpop, \n",
      "\u001b[0;32m~/anaconda2/envs/simons/lib/python3.5/site-packages/pandas/core/reshape/concat.py\u001b[0m in \u001b[0;36mconcat\u001b[0;34m(objs, axis, join, join_axes, ignore_index, keys, levels, names, verify_integrity, sort, copy)\u001b[0m\n\u001b[1;32m    223\u001b[0m                        \u001b[0mkeys\u001b[0m\u001b[0;34m=\u001b[0m\u001b[0mkeys\u001b[0m\u001b[0;34m,\u001b[0m \u001b[0mlevels\u001b[0m\u001b[0;34m=\u001b[0m\u001b[0mlevels\u001b[0m\u001b[0;34m,\u001b[0m \u001b[0mnames\u001b[0m\u001b[0;34m=\u001b[0m\u001b[0mnames\u001b[0m\u001b[0;34m,\u001b[0m\u001b[0;34m\u001b[0m\u001b[0m\n\u001b[1;32m    224\u001b[0m                        \u001b[0mverify_integrity\u001b[0m\u001b[0;34m=\u001b[0m\u001b[0mverify_integrity\u001b[0m\u001b[0;34m,\u001b[0m\u001b[0;34m\u001b[0m\u001b[0m\n\u001b[0;32m--> 225\u001b[0;31m                        copy=copy, sort=sort)\n\u001b[0m\u001b[1;32m    226\u001b[0m     \u001b[0;32mreturn\u001b[0m \u001b[0mop\u001b[0m\u001b[0;34m.\u001b[0m\u001b[0mget_result\u001b[0m\u001b[0;34m(\u001b[0m\u001b[0;34m)\u001b[0m\u001b[0;34m\u001b[0m\u001b[0m\n\u001b[1;32m    227\u001b[0m \u001b[0;34m\u001b[0m\u001b[0m\n",
      "\u001b[0;32m~/anaconda2/envs/simons/lib/python3.5/site-packages/pandas/core/reshape/concat.py\u001b[0m in \u001b[0;36m__init__\u001b[0;34m(self, objs, axis, join, join_axes, keys, levels, names, ignore_index, verify_integrity, copy, sort)\u001b[0m\n\u001b[1;32m    257\u001b[0m \u001b[0;34m\u001b[0m\u001b[0m\n\u001b[1;32m    258\u001b[0m         \u001b[0;32mif\u001b[0m \u001b[0mlen\u001b[0m\u001b[0;34m(\u001b[0m\u001b[0mobjs\u001b[0m\u001b[0;34m)\u001b[0m \u001b[0;34m==\u001b[0m \u001b[0;36m0\u001b[0m\u001b[0;34m:\u001b[0m\u001b[0;34m\u001b[0m\u001b[0m\n\u001b[0;32m--> 259\u001b[0;31m             \u001b[0;32mraise\u001b[0m \u001b[0mValueError\u001b[0m\u001b[0;34m(\u001b[0m\u001b[0;34m'No objects to concatenate'\u001b[0m\u001b[0;34m)\u001b[0m\u001b[0;34m\u001b[0m\u001b[0m\n\u001b[0m\u001b[1;32m    260\u001b[0m \u001b[0;34m\u001b[0m\u001b[0m\n\u001b[1;32m    261\u001b[0m         \u001b[0;32mif\u001b[0m \u001b[0mkeys\u001b[0m \u001b[0;32mis\u001b[0m \u001b[0;32mNone\u001b[0m\u001b[0;34m:\u001b[0m\u001b[0;34m\u001b[0m\u001b[0m\n",
      "\u001b[0;31mValueError\u001b[0m: No objects to concatenate"
     ]
    }
   ],
   "source": [
    "\n",
    "df_list = list()\n",
    "\n",
    "for chrom in ['X', '2']:\n",
    "\n",
    "    for tup in ag.g1000_pop_info.itertuples():\n",
    "    \n",
    "    \n",
    "    \n",
    "        #####################################\n",
    "        if not tup.population == 'CHB':\n",
    "            continue\n",
    "        #####################################\n",
    "        \n",
    "        dir_path = ag.steps_dir / '1000genomes' / 'male_dist_admix_masked_stores' / chrom / tup.population / '5-e05'\n",
    "        print(dir_path)\n",
    "        for path in dir_path.glob('sweep_data_*.hdf'):\n",
    "            dist_cut, clade_cut = map(float, re.search(r'sweep_data_([^_]+)_([^_]+)%.hdf', path.name).groups())\n",
    "            clade_cut /= 100\n",
    "            df = pd.read_hdf(path)\n",
    "            df['dist_cut'] = dist_cut\n",
    "            df['clade_cut'] = clade_cut\n",
    "            df['chrom'] = chrom\n",
    "            df['population'] = tup.population\n",
    "            df['superpop'] = tup.superpop\n",
    "            df_list.append(df)\n",
    "    \n",
    "sweep_data = pd.concat(df_list)\n",
    "\n",
    "sweep_data['superpop'] = pd.Categorical(sweep_data.superpop, \n",
    "                                        categories=['AFR', 'EUR', 'SAS', 'EAS', 'AMR'], \n",
    "                                        ordered=True)\n",
    "sweep_data.head()\n"
   ]
  },
  {
   "cell_type": "code",
   "execution_count": 9,
   "metadata": {},
   "outputs": [],
   "source": [
    "subset_df = sweep_data.loc[(sweep_data.dist_cut == 5e-5) & (sweep_data.chrom == 'X') & (sweep_data.population == 'CHB')]"
   ]
  },
  {
   "cell_type": "code",
   "execution_count": 12,
   "metadata": {},
   "outputs": [
    {
     "data": {
      "text/html": [
       "<div>\n",
       "<style>\n",
       "    .dataframe thead tr:only-child th {\n",
       "        text-align: right;\n",
       "    }\n",
       "\n",
       "    .dataframe thead th {\n",
       "        text-align: left;\n",
       "    }\n",
       "\n",
       "    .dataframe tbody tr th {\n",
       "        vertical-align: top;\n",
       "    }\n",
       "</style>\n",
       "<table border=\"1\" class=\"dataframe\">\n",
       "  <thead>\n",
       "    <tr style=\"text-align: right;\">\n",
       "      <th></th>\n",
       "      <th>indiv_1</th>\n",
       "      <th>start</th>\n",
       "      <th>end</th>\n",
       "      <th>mean_dist</th>\n",
       "      <th>mean_dist_af</th>\n",
       "      <th>prop_indivs_missing</th>\n",
       "      <th>win_swept</th>\n",
       "      <th>win_swept_af</th>\n",
       "      <th>called</th>\n",
       "      <th>called_af</th>\n",
       "      <th>...</th>\n",
       "      <th>run_length</th>\n",
       "      <th>swept</th>\n",
       "      <th>run_id_af</th>\n",
       "      <th>run_length_af</th>\n",
       "      <th>swept_af</th>\n",
       "      <th>dist_cut</th>\n",
       "      <th>clade_cut</th>\n",
       "      <th>chrom</th>\n",
       "      <th>population</th>\n",
       "      <th>superpop</th>\n",
       "    </tr>\n",
       "  </thead>\n",
       "  <tbody>\n",
       "    <tr>\n",
       "      <th>0</th>\n",
       "      <td>NA18530</td>\n",
       "      <td>0</td>\n",
       "      <td>100000</td>\n",
       "      <td>NaN</td>\n",
       "      <td>NaN</td>\n",
       "      <td>1.0</td>\n",
       "      <td>True</td>\n",
       "      <td>True</td>\n",
       "      <td>False</td>\n",
       "      <td>False</td>\n",
       "      <td>...</td>\n",
       "      <td>22</td>\n",
       "      <td>False</td>\n",
       "      <td>1</td>\n",
       "      <td>22</td>\n",
       "      <td>False</td>\n",
       "      <td>0.00005</td>\n",
       "      <td>0.0</td>\n",
       "      <td>X</td>\n",
       "      <td>CHB</td>\n",
       "      <td>EAS</td>\n",
       "    </tr>\n",
       "    <tr>\n",
       "      <th>1</th>\n",
       "      <td>NA18534</td>\n",
       "      <td>0</td>\n",
       "      <td>100000</td>\n",
       "      <td>NaN</td>\n",
       "      <td>NaN</td>\n",
       "      <td>1.0</td>\n",
       "      <td>True</td>\n",
       "      <td>True</td>\n",
       "      <td>False</td>\n",
       "      <td>False</td>\n",
       "      <td>...</td>\n",
       "      <td>22</td>\n",
       "      <td>False</td>\n",
       "      <td>1</td>\n",
       "      <td>22</td>\n",
       "      <td>False</td>\n",
       "      <td>0.00005</td>\n",
       "      <td>0.0</td>\n",
       "      <td>X</td>\n",
       "      <td>CHB</td>\n",
       "      <td>EAS</td>\n",
       "    </tr>\n",
       "    <tr>\n",
       "      <th>2</th>\n",
       "      <td>NA18536</td>\n",
       "      <td>0</td>\n",
       "      <td>100000</td>\n",
       "      <td>NaN</td>\n",
       "      <td>NaN</td>\n",
       "      <td>1.0</td>\n",
       "      <td>True</td>\n",
       "      <td>True</td>\n",
       "      <td>False</td>\n",
       "      <td>False</td>\n",
       "      <td>...</td>\n",
       "      <td>22</td>\n",
       "      <td>False</td>\n",
       "      <td>1</td>\n",
       "      <td>22</td>\n",
       "      <td>False</td>\n",
       "      <td>0.00005</td>\n",
       "      <td>0.0</td>\n",
       "      <td>X</td>\n",
       "      <td>CHB</td>\n",
       "      <td>EAS</td>\n",
       "    </tr>\n",
       "    <tr>\n",
       "      <th>3</th>\n",
       "      <td>NA18543</td>\n",
       "      <td>0</td>\n",
       "      <td>100000</td>\n",
       "      <td>NaN</td>\n",
       "      <td>NaN</td>\n",
       "      <td>1.0</td>\n",
       "      <td>True</td>\n",
       "      <td>True</td>\n",
       "      <td>False</td>\n",
       "      <td>False</td>\n",
       "      <td>...</td>\n",
       "      <td>22</td>\n",
       "      <td>False</td>\n",
       "      <td>1</td>\n",
       "      <td>22</td>\n",
       "      <td>False</td>\n",
       "      <td>0.00005</td>\n",
       "      <td>0.0</td>\n",
       "      <td>X</td>\n",
       "      <td>CHB</td>\n",
       "      <td>EAS</td>\n",
       "    </tr>\n",
       "    <tr>\n",
       "      <th>4</th>\n",
       "      <td>NA18544</td>\n",
       "      <td>0</td>\n",
       "      <td>100000</td>\n",
       "      <td>NaN</td>\n",
       "      <td>NaN</td>\n",
       "      <td>1.0</td>\n",
       "      <td>True</td>\n",
       "      <td>True</td>\n",
       "      <td>False</td>\n",
       "      <td>False</td>\n",
       "      <td>...</td>\n",
       "      <td>22</td>\n",
       "      <td>False</td>\n",
       "      <td>1</td>\n",
       "      <td>22</td>\n",
       "      <td>False</td>\n",
       "      <td>0.00005</td>\n",
       "      <td>0.0</td>\n",
       "      <td>X</td>\n",
       "      <td>CHB</td>\n",
       "      <td>EAS</td>\n",
       "    </tr>\n",
       "  </tbody>\n",
       "</table>\n",
       "<p>5 rows × 25 columns</p>\n",
       "</div>"
      ],
      "text/plain": [
       "   indiv_1  start     end  mean_dist  mean_dist_af  prop_indivs_missing  \\\n",
       "0  NA18530      0  100000        NaN           NaN                  1.0   \n",
       "1  NA18534      0  100000        NaN           NaN                  1.0   \n",
       "2  NA18536      0  100000        NaN           NaN                  1.0   \n",
       "3  NA18543      0  100000        NaN           NaN                  1.0   \n",
       "4  NA18544      0  100000        NaN           NaN                  1.0   \n",
       "\n",
       "   win_swept  win_swept_af  called  called_af    ...     run_length  swept  \\\n",
       "0       True          True   False      False    ...             22  False   \n",
       "1       True          True   False      False    ...             22  False   \n",
       "2       True          True   False      False    ...             22  False   \n",
       "3       True          True   False      False    ...             22  False   \n",
       "4       True          True   False      False    ...             22  False   \n",
       "\n",
       "   run_id_af  run_length_af  swept_af  dist_cut  clade_cut  chrom  population  \\\n",
       "0          1             22     False   0.00005        0.0      X         CHB   \n",
       "1          1             22     False   0.00005        0.0      X         CHB   \n",
       "2          1             22     False   0.00005        0.0      X         CHB   \n",
       "3          1             22     False   0.00005        0.0      X         CHB   \n",
       "4          1             22     False   0.00005        0.0      X         CHB   \n",
       "\n",
       "   superpop  \n",
       "0       EAS  \n",
       "1       EAS  \n",
       "2       EAS  \n",
       "3       EAS  \n",
       "4       EAS  \n",
       "\n",
       "[5 rows x 25 columns]"
      ]
     },
     "execution_count": 12,
     "metadata": {},
     "output_type": "execute_result"
    }
   ],
   "source": [
    "def get_best_sweep_call(grp):\n",
    "\n",
    "    if grp.swept.sum():\n",
    "        return grp.loc[(grp.swept == True) & (grp.clade_cut == grp.clade_cut.max())]\n",
    "    else:\n",
    "        return grp.loc[grp.clade_cut == grp.clade_cut.min()]\n",
    "\n",
    "df = subset_df.groupby(['chrom', 'population', 'start']).apply(get_best_sweep_call).reset_index(drop=True)\n",
    "df.head()\n"
   ]
  },
  {
   "cell_type": "code",
   "execution_count": 10,
   "metadata": {},
   "outputs": [
    {
     "data": {
      "image/png": "[encoded data removed]",
      "text/plain": [
       "<Figure size 1080x360 with 1 Axes>"
      ]
     },
     "metadata": {
      "image/png": {
       "height": 319,
       "width": 876
      }
     },
     "output_type": "display_data"
    }
   ],
   "source": [
    "def filter_func(grp):\n",
    "\n",
    "    cols = ['chrom', 'population', 'start', 'end', 'clade_cut']\n",
    "    \n",
    "    df = grp.loc[grp.swept == True]\n",
    "    if not len(df):\n",
    "        return grp.loc[grp.clade_cut == grp.clade_cut.min(), cols].iloc[0]\n",
    "    return df.loc[df.clade_cut == df.clade_cut.max(), cols].iloc[0]\n",
    "\n",
    "test_df = subset_df.groupby(['chrom', 'population', 'start']).apply(filter_func).reset_index(drop=True)\n",
    "\n",
    "\n",
    "with sns.axes_style(\"whitegrid\", {'axes.grid' : False}):\n",
    "\n",
    "    fig, ax = plt.subplots(1, 1, figsize=(15, 5),                      \n",
    "                             subplot_kw={'xlim':(0, hg19_chrom_sizes['chrX']),\n",
    "                                         'ylim':(0, 1)})\n",
    "    \n",
    "    df = stairs(test_df)\n",
    "    ax.plot(df.pos, df.clade_cut)\n",
    "    ax.fill_between(df.pos, df.clade_cut, alpha=0.5)\n",
    "\n"
   ]
  },
  {
   "cell_type": "markdown",
   "metadata": {},
   "source": [
    "... shows the proportion of individuals that across 500kb has a mutual distance below cutoff."
   ]
  },
  {
   "cell_type": "code",
   "execution_count": null,
   "metadata": {},
   "outputs": [],
   "source": [
    "plot_df = (subset_df\n",
    "           .groupby(['chrom', 'clade_cut', 'start', 'end', 'superpop', 'population'])['swept']\n",
    "           .aggregate(['sum', 'size'])\n",
    "           .rename(columns={'sum': 'nr_swept', 'size': 'total'})\n",
    "           .reset_index()\n",
    "           .assign(prop_swept=lambda df: df.nr_swept / df.total)\n",
    "          )\n",
    "plot_df.head()"
   ]
  },
  {
   "cell_type": "code",
   "execution_count": null,
   "metadata": {},
   "outputs": [],
   "source": [
    "colormap = matplotlib.cm.get_cmap('PuRd', 100)\n",
    "\n",
    "n_subplots = sweep_data.clade_cut.unique().size\n",
    "\n",
    "from mpl_toolkits.axes_grid1 import make_axes_locatable\n",
    "\n",
    "\n",
    "with sns.axes_style(\"whitegrid\", {'axes.grid' : False}):\n",
    "\n",
    "    fig, ax = plt.subplots(1, 1, figsize=(15, 5),                      \n",
    "                             subplot_kw={'xlim':(0, hg19_chrom_sizes['chrX']),\n",
    "                                         'ylim':(0, 1)})\n",
    "#     ax.set_facecolor('black')\n",
    "    \n",
    "    for clade_cut, call_df in plot_df.groupby('clade_cut'):\n",
    "        \n",
    "#         if clade_cut < 0.5:\n",
    "#             continue\n",
    "\n",
    "        df = stairs(call_df)\n",
    "        ax.fill_between(df.pos, df.prop_swept, color=colormap(clade_cut), linewidth=0.0)\n",
    "\n",
    "    divider = make_axes_locatable(plt.gca())\n",
    "    ax_cb = divider.new_horizontal(size=\"2%\", pad=0.25)    \n",
    "    cb1 = matplotlib.colorbar.ColorbarBase(ax_cb, cmap=colormap, orientation='vertical')\n",
    "    plt.gcf().add_axes(ax_cb)\n",
    "\n",
    "    plt.tight_layout()\n",
    "\n"
   ]
  },
  {
   "cell_type": "code",
   "execution_count": null,
   "metadata": {},
   "outputs": [],
   "source": [
    "n_subplots = sweep_data.clade_cut.unique().size\n",
    "\n",
    "with sns.axes_style(\"whitegrid\", {'axes.grid' : False}):\n",
    "\n",
    "    fig, axes = plt.subplots(n_subplots, 1, sharey=True, sharex=True, figsize=(15, 100),                      \n",
    "                             subplot_kw={'xlim':(0, hg19_chrom_sizes['chrX']),\n",
    "                                         'ylim':(0, 1)})\n",
    "\n",
    "    for ax, (clade_cut, call_df) in zip(axes, plot_df.groupby('clade_cut')):\n",
    "        \n",
    "        ax.set_title(\"{:.0f}%\".format(clade_cut*100), loc='left', fontsize=10)\n",
    "\n",
    "        df = call_df.copy()\n",
    "        df.loc[df.prop_swept < clade_cut, 'prop_swept'] = 0\n",
    "\n",
    "        df = stairs(df)\n",
    "        ax.plot(df.pos, df.prop_swept, label='population')\n",
    "        ax.legend(loc='upper right')\n",
    "\n",
    "        ax.axhline(clade_cut, color='black', linestyle='dashed')\n",
    "        \n",
    "    plt.tight_layout()\n"
   ]
  },
  {
   "cell_type": "code",
   "execution_count": null,
   "metadata": {},
   "outputs": [],
   "source": [
    "\n",
    "\n"
   ]
  },
  {
   "cell_type": "code",
   "execution_count": null,
   "metadata": {},
   "outputs": [],
   "source": []
  },
  {
   "cell_type": "code",
   "execution_count": null,
   "metadata": {},
   "outputs": [],
   "source": []
  },
  {
   "cell_type": "code",
   "execution_count": null,
   "metadata": {},
   "outputs": [],
   "source": []
  },
  {
   "cell_type": "code",
   "execution_count": null,
   "metadata": {},
   "outputs": [],
   "source": [
    "df_list = list()\n",
    "for chrom in ['X']:\n",
    "    for tup in ag.g1000_pop_info.itertuples():\n",
    "        df = pd.read_hdf(ag.steps_dir / '1000genomes' / \\\n",
    "                'male_dist_admix_masked_stores' / chrom / tup.population / 'sweep_data_5e-05_30%.hdf')\n",
    "        df['chrom'] = chrom\n",
    "        df['population'] = tup.population\n",
    "        df['superpop'] = tup.superpop\n",
    "        df_list.append(df)\n",
    "    \n",
    "sweep_data = pd.concat(df_list)\n",
    "\n",
    "sweep_data['superpop'] = pd.Categorical(sweep_data.superpop, \n",
    "                                        categories=['AFR', 'EUR', 'SAS', 'EAS', 'AMR'], \n",
    "                                        ordered=True)\n",
    "sweep_data.head()"
   ]
  },
  {
   "cell_type": "markdown",
   "metadata": {},
   "source": [
    "# Mask for missing data and PARs and add columns such as never_swept..."
   ]
  },
  {
   "cell_type": "code",
   "execution_count": null,
   "metadata": {},
   "outputs": [],
   "source": [
    "ag.g1000_pop_info.style.set_properties(**{'text-align': 'left'})"
   ]
  },
  {
   "cell_type": "markdown",
   "metadata": {},
   "source": [
    "## Missing regions"
   ]
  },
  {
   "cell_type": "markdown",
   "metadata": {},
   "source": [
    "## Stats on sweeps"
   ]
  },
  {
   "cell_type": "code",
   "execution_count": null,
   "metadata": {},
   "outputs": [],
   "source": [
    "sr = sweep_data.groupby('population').apply(lambda df: df.indiv_1.unique().size)\n",
    "sns.barplot(sr, sr.index)\n"
   ]
  },
  {
   "cell_type": "markdown",
   "metadata": {},
   "source": [
    "## Proportion swept"
   ]
  },
  {
   "cell_type": "code",
   "execution_count": null,
   "metadata": {},
   "outputs": [],
   "source": [
    "# group by start, end, region and compute size\n",
    "plot_df = (sweep_data\n",
    "           .groupby(['start', 'end', 'superpop', 'population'])['swept']\n",
    "           .aggregate(['sum', 'size'])\n",
    "           .rename(columns={'sum': 'nr_swept', 'size': 'total'})\n",
    "           .reset_index()\n",
    "           .assign(prop_swept=lambda df: df.nr_swept / df.total)\n",
    "          )\n",
    "plot_df.head()"
   ]
  },
  {
   "cell_type": "code",
   "execution_count": null,
   "metadata": {},
   "outputs": [],
   "source": [
    "with sns.axes_style(\"whitegrid\", {'axes.grid' : False}):\n",
    "    fig, axes = plt.subplots(5, 1, sharey=True, figsize=(15, 15),                      \n",
    "                             subplot_kw={'xlim':(0, hg19_chrom_sizes['chrX']),\n",
    "                                         'ylim':(0, 1)})\n",
    "\n",
    "    for ax, (superpop, super_df) in zip(axes, plot_df.groupby('superpop')):\n",
    "        ax.set_title(superpop, loc='left', fontsize=8)\n",
    "\n",
    "        for (population, pop_df) in super_df.groupby('population'):\n",
    "            df = stairs(pop_df)\n",
    "            ax.plot(df.pos, df.prop_swept, label=population)\n",
    "        ax.legend(loc='upper right')\n",
    "\n",
    "    plt.tight_layout()\n",
    "plt.savefig(str(ag.figures_dir / \"g1000_ech.pdf\"))"
   ]
  },
  {
   "cell_type": "code",
   "execution_count": null,
   "metadata": {},
   "outputs": [],
   "source": [
    "with sns.axes_style(\"whitegrid\", {'axes.grid' : False}):\n",
    "    fig, axes = plt.subplots(26, 1, sharey=True, figsize=(13, 50),                      \n",
    "                             subplot_kw={'xlim':(0, hg19_chrom_sizes['chrX']),\n",
    "                                         'ylim':(0, 1)})\n",
    "    for ax, population in zip(axes, ag.g1000_pop_info.population):\n",
    "        df = stairs(plot_df.loc[plot_df.population == population])\n",
    "        ax.plot(df.pos, df.prop_swept)\n",
    "        ax.set_title(population, loc='left', fontsize=8)\n",
    "    plt.tight_layout()\n",
    "\n",
    "    "
   ]
  },
  {
   "cell_type": "code",
   "execution_count": null,
   "metadata": {},
   "outputs": [],
   "source": [
    "with sns.axes_style(\"whitegrid\", {'axes.grid' : False}):\n",
    "    fig, axes = plt.subplots(26, 1, sharex=True, sharey=True, figsize=(10, 10),                         \n",
    "                             subplot_kw={'xlim':(0, chromosome_lengths['X']),\n",
    "                                         'ylim':(0, 1)})\n",
    "\n",
    "    for ax, population in zip(axes, g1000_populations):\n",
    "        df = plot_df.loc[plot_df.population == population]    \n",
    "        \n",
    "        for tup in df.itertuples():\n",
    "            if tup.nr_swept:\n",
    "                g = ax.add_patch(Rectangle((tup.start, 0), tup.end-tup.start, tup.nr_swept/tup.total, \n",
    "#                                  facecolor=region_colors[reg], \n",
    "                                 linewidth=0,\n",
    "                                 #edgecolor=None,#region_colors[reg], \n",
    "                                 zorder=2))\n",
    "        ax.set_title(reg, loc='left')\n",
    "                \n",
    "        for tup in missing_regions.loc[missing_regions.is_missing == True].itertuples():\n",
    "            g = ax.add_patch(Rectangle((tup.start, 0), tup.end-tup.start, 1, \n",
    "                     facecolor='lightgray', \n",
    "                     linewidth=0,\n",
    "#                     edgecolor=None,\n",
    "                     alpha=0.5,\n",
    "                     zorder=1))\n",
    "    #     ax.set_ylim(0, df.nr_swept.max())\n",
    "\n",
    "    plt.tight_layout()\n",
    "    \n",
    "    plt.savefig(str(figures_dir / \"tot_swept_by_region.pdf\"))\n",
    "    #plt.close() # closing teh plot suppres automatic plotting without plt.show()"
   ]
  },
  {
   "cell_type": "code",
   "execution_count": null,
   "metadata": {},
   "outputs": [],
   "source": []
  }
 ],
 "metadata": {
  "anaconda-cloud": {},
  "kernelspec": {
   "display_name": "Python 3",
   "language": "python",
   "name": "python3"
  },
  "language_info": {
   "codemirror_mode": {
    "name": "ipython",
    "version": 3
   },
   "file_extension": ".py",
   "mimetype": "text/x-python",
   "name": "python",
   "nbconvert_exporter": "python",
   "pygments_lexer": "ipython3",
   "version": "3.6.7"
  }
 },
 "nbformat": 4,
 "nbformat_minor": 4
}
