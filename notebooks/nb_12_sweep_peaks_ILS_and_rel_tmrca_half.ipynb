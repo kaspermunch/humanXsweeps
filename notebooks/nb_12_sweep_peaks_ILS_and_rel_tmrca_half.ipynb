{
 "cells": [
  {
   "cell_type": "markdown",
   "metadata": {},
   "source": [
    "# Sweep peaks and enrichments"
   ]
  },
  {
   "cell_type": "code",
   "execution_count": 1,
   "metadata": {
    "scrolled": true
   },
   "outputs": [
    {
     "name": "stderr",
     "output_type": "stream",
     "text": [
      "/home/kmt/anaconda3/envs/simons/lib/python3.6/site-packages/statsmodels/tools/_testing.py:19: FutureWarning: pandas.util.testing is deprecated. Use the functions in the public API at pandas.testing instead.\n",
      "  import pandas.util.testing as tm\n"
     ]
    }
   ],
   "source": [
    "import re, os, sys, pickle, pickle\n",
    "from pathlib import Path\n",
    "import numpy\n",
    "import pandas\n",
    "from pandas import DataFrame, Series\n",
    "from sklearn.decomposition import PCA\n",
    "from collections import Counter, defaultdict\n",
    "import random, bisect\n",
    "\n",
    "random.seed(7)\n",
    "\n",
    "import pyfaidx\n",
    "\n",
    "# my own libaries\n",
    "from ChromosomeWindows import window\n",
    "import genominterv\n",
    "\n",
    "numpy.random.seed(7)"
   ]
  },
  {
   "cell_type": "markdown",
   "metadata": {},
   "source": [
    "Plotting setup:"
   ]
  },
  {
   "cell_type": "code",
   "execution_count": 2,
   "metadata": {
    "scrolled": true
   },
   "outputs": [],
   "source": [
    "%matplotlib inline\n",
    "\n",
    "# Make inline plots vector graphics instead of raster graphics\n",
    "from IPython.display import set_matplotlib_formats\n",
    "set_matplotlib_formats('retina', 'png')\n",
    "\n",
    "import matplotlib\n",
    "import matplotlib.pyplot as plt\n",
    "from matplotlib.colors import ListedColormap\n",
    "from matplotlib.patches import Rectangle\n",
    "from matplotlib.lines import Line2D \n",
    "from mpl_toolkits.basemap import Basemap\n",
    "#matplotlib.rcParams['figure.figsize'] = (20.0, 10.0)\n",
    "\n",
    "import mpld3\n",
    "\n",
    "import seaborn as sns\n",
    "sns.set() # sets seaborn default \"prettyness:\n",
    "sns.set_style(\"whitegrid\")\n",
    "sns.set_context(\"paper\")\n",
    "\n",
    "# lowess for plotting\n",
    "from statsmodels.nonparametric.smoothers_lowess import lowess\n",
    "\n",
    "set1 = {'red': '#e41a1c', 'blue': '#377eb8', 'green': '#4daf4a',\n",
    "        'purple': '#984ea3', 'orange': '#ff7f00', \n",
    "        'yellow': '#ffff33', 'brown': '#a65628'}"
   ]
  },
  {
   "cell_type": "markdown",
   "metadata": {},
   "source": [
    "Ignore deprecation warnings from mainly seaborn:"
   ]
  },
  {
   "cell_type": "code",
   "execution_count": 3,
   "metadata": {
    "scrolled": true
   },
   "outputs": [],
   "source": [
    "# silence deprecation warnings (lots from seaborn)\n",
    "import warnings\n",
    "warnings.filterwarnings(\"ignore\", category=DeprecationWarning) \n",
    "warnings.filterwarnings(\"ignore\", category=numpy.VisibleDeprecationWarning)"
   ]
  },
  {
   "cell_type": "markdown",
   "metadata": {},
   "source": [
    "Analysis dirs:"
   ]
  },
  {
   "cell_type": "code",
   "execution_count": 4,
   "metadata": {
    "scrolled": true
   },
   "outputs": [],
   "source": [
    "root_dir = Path(os.environ['HOME'], 'simons/faststorage/people/kmt')\n",
    "meta_data_dir = Path(os.environ['HOME'], 'simons/faststorage/data/metadata')\n",
    "steps_dir = root_dir / 'steps'\n",
    "argweaver_dir = steps_dir / 'argweaver/output'\n",
    "results_dir = root_dir / 'results'\n",
    "figures_dir = root_dir / 'figures'\n",
    "data_dir = root_dir / 'data'\n",
    "pi_dir = steps_dir / 'pi_stores'\n",
    "dist_dir = steps_dir / 'dist_stores'\n",
    "#pi_dir = root_dir / 'old_pi_stores'\n",
    "male_x_haploid_dir = steps_dir / 'male_x_haploids'"
   ]
  },
  {
   "cell_type": "markdown",
   "metadata": {},
   "source": [
    "Local code in the scripts dir on the cluster:"
   ]
  },
  {
   "cell_type": "code",
   "execution_count": 5,
   "metadata": {
    "scrolled": true
   },
   "outputs": [],
   "source": [
    "scripts_dir = root_dir / 'scripts'\n",
    "if str(scripts_dir) not in sys.path:\n",
    "    sys.path.append(str(scripts_dir))\n",
    "\n",
    "import simons_meta_data\n",
    "import hg19_chrom_sizes\n",
    "\n",
    "from toggle_code_and_errors import toggle_code_html, toggle_errors_html"
   ]
  },
  {
   "cell_type": "markdown",
   "metadata": {},
   "source": [
    "Import variables global to the entire analysis:"
   ]
  },
  {
   "cell_type": "code",
   "execution_count": 6,
   "metadata": {
    "scrolled": true
   },
   "outputs": [],
   "source": [
    "import analysis_globals"
   ]
  },
  {
   "cell_type": "markdown",
   "metadata": {},
   "source": [
    "## Convenience functions"
   ]
  },
  {
   "cell_type": "code",
   "execution_count": 7,
   "metadata": {
    "scrolled": true
   },
   "outputs": [],
   "source": [
    "def silent_nanmean(x):\n",
    "    with warnings.catch_warnings():\n",
    "        warnings.simplefilter(\"ignore\")\n",
    "        return numpy.nanmean(x)\n",
    "    \n",
    "def ident_scalar(s):\n",
    "    x = s.unique()\n",
    "    assert(len(x)) == 1, x\n",
    "    return x[0]"
   ]
  },
  {
   "cell_type": "markdown",
   "metadata": {},
   "source": [
    "## Load meta data"
   ]
  },
  {
   "cell_type": "code",
   "execution_count": 8,
   "metadata": {
    "scrolled": true
   },
   "outputs": [],
   "source": [
    "# easy loading of meta data in a consistent manner across code\n",
    "individuals, populations, regions = simons_meta_data.get_meta_data(meta_data_dir=meta_data_dir)\n",
    "\n",
    "pop_categories = pandas.read_hdf(str(results_dir / 'population_categories.store'), 'sr')\n",
    "region_categories = pandas.read_hdf(str(results_dir / 'region_categories.store'), 'sr')\n",
    "\n",
    "region_colors = dict(zip(list(region_categories), \n",
    "                         ['#e41a1c', '#377eb8',  '#984ea3', '#4daf4a',\n",
    "                          '#ff7f00', '#ffff33', '#a65628']))\n",
    "\n",
    "chromosome_lengths = dict((k.replace('chr', ''), v) for k, v in hg19_chrom_sizes.hg19_chrom_sizes.items())\n",
    "\n",
    "reference_genome_file = Path('/home', 'kmt', 'simons', \n",
    "                        'faststorage', 'cteam_lite_public3', 'FullyPublic', 'Href.fa')"
   ]
  },
  {
   "cell_type": "markdown",
   "metadata": {},
   "source": [
    "## Distribution of number of swept individuals across the chromosome"
   ]
  },
  {
   "cell_type": "code",
   "execution_count": 9,
   "metadata": {
    "scrolled": true
   },
   "outputs": [],
   "source": [
    "sweep_data = pandas.read_hdf(results_dir / 'sweep_data.hdf')\n",
    "missing_regions = pandas.read_hdf(results_dir / 'missing_regions.hdf')"
   ]
  },
  {
   "cell_type": "markdown",
   "metadata": {},
   "source": [
    "Bar plot for each region:"
   ]
  },
  {
   "cell_type": "code",
   "execution_count": null,
   "metadata": {},
   "outputs": [],
   "source": [
    "# group by start, end, region and compute size\n",
    "plot_df = (sweep_data.loc[sweep_data.not_missing]\n",
    "           .groupby(['start', 'end', 'region_1', 'region_label_1'])['swept']\n",
    "           .aggregate(['sum', 'size'])\n",
    "           .rename(columns={'sum': 'nr_swept', 'size': 'total'})\n",
    "           .reset_index(level=['start', 'end', 'region_1', 'region_label_1'])\n",
    "          )\n",
    "plot_df.head()"
   ]
  },
  {
   "cell_type": "code",
   "execution_count": null,
   "metadata": {},
   "outputs": [],
   "source": [
    "with sns.axes_style(\"whitegrid\", {'axes.grid' : False}):\n",
    "    fig, axes = plt.subplots(7, 1, sharex=True, sharey=True, figsize=(10, 10),                         \n",
    "                             subplot_kw={'xlim':(0, chromosome_lengths['X']),\n",
    "                                         'ylim':(0, 1)})\n",
    "\n",
    "    for ax, reg in zip(axes, regions):\n",
    "        df = plot_df.loc[plot_df.region_label_1 == reg]    \n",
    "        for tup in df.itertuples():\n",
    "            if tup.nr_swept:\n",
    "                g = ax.add_patch(Rectangle((tup.start, 0), tup.end-tup.start, tup.nr_swept/tup.total, \n",
    "                                 facecolor=region_colors[reg], \n",
    "                                 linewidth=0,\n",
    "                                 #edgecolor=None,#region_colors[reg], \n",
    "                                 zorder=2))\n",
    "        ax.set_title(reg, loc='left')\n",
    "                \n",
    "        for tup in missing_regions.loc[missing_regions.is_missing == True].itertuples():\n",
    "            g = ax.add_patch(Rectangle((tup.start, 0), tup.end-tup.start, 1, \n",
    "                     facecolor='lightgray', \n",
    "                     linewidth=0,\n",
    "#                     edgecolor=None,\n",
    "                     alpha=0.5,\n",
    "                     zorder=1))\n",
    "    #     ax.set_ylim(0, df.nr_swept.max())\n",
    "\n",
    "    plt.tight_layout()\n",
    "    \n",
    "    plt.savefig(str(figures_dir / \"tot_swept_by_region.pdf\"))\n",
    "    #plt.close() # closing teh plot suppres automatic plotting without plt.show()\n"
   ]
  },
  {
   "cell_type": "markdown",
   "metadata": {},
   "source": [
    "## Stacked bar plot for windows called as sweeps"
   ]
  },
  {
   "cell_type": "code",
   "execution_count": null,
   "metadata": {},
   "outputs": [],
   "source": [
    "plot_df.sort_values(by=['start', 'region_1'], inplace=True)\n",
    "\n",
    "plot_df['cum_nr_swept'] = (plot_df\n",
    "                           .loc[plot_df.region_label_1 != 'Africa']\n",
    "                           .groupby(['start', 'end'])['nr_swept']\n",
    "                           .transform('cumsum')    \n",
    "                           )\n",
    "plot_df['cum_total'] = (plot_df\n",
    "                        .loc[plot_df.region_label_1 != 'Africa']\n",
    "                        .groupby(['start', 'end'])['total']\n",
    "                        .transform('sum')    \n",
    "                        )\n",
    "plot_df.head(7)"
   ]
  },
  {
   "cell_type": "code",
   "execution_count": null,
   "metadata": {},
   "outputs": [],
   "source": [
    "with sns.axes_style(\"whitegrid\", {'axes.grid' : False}):\n",
    "\n",
    "    fig, ax1 = plt.subplots(1, 1, sharex=True, sharey=True, figsize=(13, 9),                         \n",
    "                                   subplot_kw={'xlim':(0, chromosome_lengths['X']), 'ylim':(0, 1)})\n",
    "\n",
    "    zorder = 1\n",
    "    regs = [x for x in plot_df.region_1.cat.categories if x != 'Africa'][::-1]\n",
    "    for reg in regs:\n",
    "        df = plot_df.loc[plot_df.region_label_1 == reg]\n",
    "        zorder += 1        \n",
    "        for tup in df.itertuples():\n",
    "            if tup.nr_swept:\n",
    "                g = ax1.add_patch(Rectangle((tup.start, 0), tup.end-tup.start, tup.cum_nr_swept/tup.cum_total, \n",
    "                                  facecolor=region_colors[reg], \n",
    "                                  linewidth=0,\n",
    "                                  edgecolor=None,#region_colors[reg], \n",
    "                                  zorder=zorder))\n",
    "\n",
    "    zorder += 1        \n",
    "    for tup in missing_regions.loc[missing_regions.is_missing == True].itertuples():\n",
    "        g = ax1.add_patch(Rectangle((tup.start, 0), tup.end-tup.start, 1, \n",
    "                 facecolor='lightgray', \n",
    "                 linewidth=0,\n",
    "                 alpha=0.5,\n",
    "                 zorder=zorder))\n",
    "\n",
    "#mpld3.display(fig)"
   ]
  },
  {
   "cell_type": "markdown",
   "metadata": {},
   "source": [
    "## Finding the sweep centers"
   ]
  },
  {
   "cell_type": "markdown",
   "metadata": {},
   "source": [
    "Pile up swept windows to find sweep centers. This should work even if sweeps are form standing variation (soft sweep) with multiple haplotypes sweeping.\n",
    "\n",
    "Make a data set with total swept windows:"
   ]
  },
  {
   "cell_type": "code",
   "execution_count": null,
   "metadata": {},
   "outputs": [],
   "source": [
    "total_swept = (sweep_data.loc[sweep_data.not_missing]\n",
    "           .assign(is_non_african = lambda df: df.region_1 != 'Africa')\n",
    "           .groupby(['start', 'end', 'is_non_african'])['swept']\n",
    "#           .groupby(['start', 'end'])['swept']\n",
    "           .aggregate(['sum', 'size'])\n",
    "           .rename(columns={'sum': 'nr_swept', 'size': 'total'})\n",
    "           .reset_index()\n",
    "           .assign(pos = lambda df: df.start + (df.end - df.start) / 2,\n",
    "                   prop_swept = lambda df: df.nr_swept / df.total)\n",
    "          )\n",
    "total_swept.head() "
   ]
  },
  {
   "cell_type": "markdown",
   "metadata": {},
   "source": [
    "Split into Africans and non-Africans:"
   ]
  },
  {
   "cell_type": "code",
   "execution_count": null,
   "metadata": {},
   "outputs": [],
   "source": [
    "non_afr_total_swept = total_swept.loc[total_swept.is_non_african].reset_index()\n",
    "afr_total_swept = total_swept.loc[~total_swept.is_non_african].reset_index()\n",
    "non_afr_total_swept.head()"
   ]
  },
  {
   "cell_type": "markdown",
   "metadata": {},
   "source": [
    "Mean proportion of swept windows across the chromosome:"
   ]
  },
  {
   "cell_type": "code",
   "execution_count": null,
   "metadata": {},
   "outputs": [],
   "source": [
    "non_afr_total_swept.prop_swept.mean()"
   ]
  },
  {
   "cell_type": "markdown",
   "metadata": {},
   "source": [
    "Proportion of windows along the chromosome, where at least some windows are swept:"
   ]
  },
  {
   "cell_type": "code",
   "execution_count": null,
   "metadata": {},
   "outputs": [],
   "source": [
    "(non_afr_total_swept.nr_swept > 0).sum() / (non_afr_total_swept.nr_swept >= 0).sum()"
   ]
  },
  {
   "cell_type": "code",
   "execution_count": null,
   "metadata": {
    "scrolled": true
   },
   "outputs": [],
   "source": [
    "non_afr_total_swept.to_hdf(results_dir / 'non_afr_total_swept.hdf', 'df', \n",
    "                           format=\"table\", mode='w')\n",
    "afr_total_swept.to_hdf(results_dir / 'afr_total_swept.hdf', 'df', \n",
    "                           format=\"table\", mode='w')"
   ]
  },
  {
   "cell_type": "markdown",
   "metadata": {},
   "source": [
    "Find peaks in the proportion of total swept windows among non africans:"
   ]
  },
  {
   "cell_type": "code",
   "execution_count": null,
   "metadata": {},
   "outputs": [],
   "source": [
    "#analysis_globals.min_prop_indivs_swept = 0.25"
   ]
  },
  {
   "cell_type": "code",
   "execution_count": null,
   "metadata": {},
   "outputs": [],
   "source": [
    "from scipy import signal\n",
    "\n",
    "peakind = signal.find_peaks_cwt(non_afr_total_swept.prop_swept, numpy.arange(1,7), min_length=2, min_snr=0.01)\n",
    "\n",
    "def refine_peaks(idxs, vals):\n",
    "    new_idxs = set()\n",
    "    for i in idxs:\n",
    "\n",
    "        while i-3 >= 0 and vals[i-3] > vals[i]:\n",
    "            i -= 3\n",
    "        while i+3 < len(vals) and vals[i+3] > vals[i]:\n",
    "            i += 3\n",
    "        while i-2 >= 0 and vals[i-2] > vals[i]:\n",
    "            i -= 2\n",
    "        while i+2 < len(vals) and vals[i+2] > vals[i]:\n",
    "            i += 2\n",
    "        while i-1 >= 0 and vals[i-1] > vals[i]:\n",
    "            i -= 1\n",
    "        while i+1 < len(vals) and vals[i+1] > vals[i]:\n",
    "            i += 1\n",
    "            \n",
    "        new_idxs.add(i)\n",
    "\n",
    "        j = i + 1\n",
    "        while j < len(vals) and vals[j] == vals[i]:\n",
    "            assert i != j\n",
    "            new_idxs.add(j)\n",
    "            j += 1\n",
    "        \n",
    "        j = i - 1\n",
    "        while j >= 0 and vals[j] == vals[i]:\n",
    "            assert i != j\n",
    "            new_idxs.add(j)\n",
    "            j -= 1\n",
    "        \n",
    "    return sorted(new_idxs)\n",
    "\n",
    "peakind = refine_peaks(peakind, non_afr_total_swept.prop_swept)\n",
    "    \n",
    "\n",
    "df = (DataFrame({'pos': non_afr_total_swept.pos[peakind], \n",
    "                 'start': non_afr_total_swept.start[peakind],\n",
    "                 'end': non_afr_total_swept.end[peakind],                    \n",
    "                 'prop_swept': non_afr_total_swept.prop_swept[peakind]})\n",
    "        )\n",
    "\n",
    "sweep_peaks = (df\n",
    "         .assign(run_id = (df.start != df.end.shift()).cumsum())\n",
    "         .groupby(['run_id'])\n",
    "         .aggregate({'start': 'min', 'end': 'max', 'prop_swept': 'mean'})\n",
    "         .assign(pos = lambda df: df.start+(df.end-df.start)/2#,\n",
    "                   )\n",
    "         .loc[lambda df: df.prop_swept >= analysis_globals.peak_min_prop_swept]\n",
    "        )\n",
    "\n",
    "len(sweep_peaks)"
   ]
  },
  {
   "cell_type": "code",
   "execution_count": null,
   "metadata": {},
   "outputs": [],
   "source": [
    "with sns.color_palette([set1['blue'], set1['red']]):\n",
    "    with sns.axes_style(\"whitegrid\", {'axes.grid' : False}):\n",
    "        fig, ax = plt.subplots(figsize=(10, 4))\n",
    "\n",
    "        x = [j for i in zip(non_afr_total_swept.start, non_afr_total_swept.end) for j in i]\n",
    "        y = [j for i in zip(non_afr_total_swept.prop_swept, non_afr_total_swept.prop_swept) for j in i]      \n",
    "        g = ax.plot(x, y)\n",
    "        g = ax.scatter(sweep_peaks.pos, sweep_peaks.prop_swept, c='red')\n",
    "\n",
    "        x = [j for i in zip(afr_total_swept.start, afr_total_swept.end) for j in i]\n",
    "        y = [j for i in zip(afr_total_swept.prop_swept, afr_total_swept.prop_swept) for j in i]      \n",
    "        g = ax.plot(x, y)\n",
    "\n",
    "        for tup in sweep_peaks.itertuples():\n",
    "            g = ax.add_patch(Rectangle((tup.start, 0), tup.end-tup.start, 1, \n",
    "                         facecolor='gray',\n",
    "                         linewidth=0,\n",
    "                         alpha=0.5,\n",
    "                         zorder=1))\n",
    "        ax.set_ylim(0,1)\n",
    "        ax.set_xlim(0,160e6)\n",
    "\n",
    "        plt.savefig(str(figures_dir / 'tot_swept_peaks.pdf')) \n",
    "        plt.savefig(str(figures_dir / 'tot_swept_peaks.png'))\n",
    "        \n",
    "\n",
    "#mpld3.display(fig)"
   ]
  },
  {
   "cell_type": "code",
   "execution_count": null,
   "metadata": {
    "scrolled": true
   },
   "outputs": [],
   "source": [
    "sweep_peaks.to_hdf(results_dir / 'sweep_peaks.hdf', 'df', format='table', mode='w')\n",
    "sweep_peaks.to_csv(results_dir / 'sweep_peaks.csv')"
   ]
  },
  {
   "cell_type": "markdown",
   "metadata": {},
   "source": [
    "## Sizes and numbers of clades in each window (including Africans)"
   ]
  },
  {
   "cell_type": "code",
   "execution_count": null,
   "metadata": {},
   "outputs": [],
   "source": [
    "def stairs(df, start='start', end='end', pos='pos', endtrim=0):\n",
    "    \"Turn a df with start, end into one with pos to plot as stairs\"\n",
    "    df1 = df.copy(deep=True)\n",
    "    df2 = df.copy(deep=True)\n",
    "    df1[pos] = df1[start]\n",
    "    df2[pos] = df2[end] - endtrim\n",
    "    return pandas.concat([df1, df2]).sort_values([start, end])"
   ]
  },
  {
   "cell_type": "markdown",
   "metadata": {},
   "source": [
    "Each swept individual may be part of a different clade. All we require is that such a clade spans at least some number of individuals. Get the  number of different clade sizes in each window:"
   ]
  },
  {
   "cell_type": "code",
   "execution_count": null,
   "metadata": {},
   "outputs": [],
   "source": [
    "plt.figure(figsize=(10, 4))\n",
    "plt.xlim(0,160e6)\n",
    "\n",
    "nr_clade_sizes = sweep_data.groupby(['start', 'end']).clade_size.agg(lambda sr: sr.unique().size).reset_index()\n",
    "nr_clade_sizes.loc[nr_clade_sizes.clade_size.isnull(), 'clade_size'] = 0\n",
    "plot_df = stairs(nr_clade_sizes)\n",
    "plt.plot(plot_df.pos, plot_df.clade_size) ;\n"
   ]
  },
  {
   "cell_type": "markdown",
   "metadata": {},
   "source": [
    "Largest and smallest clade in each window:"
   ]
  },
  {
   "cell_type": "code",
   "execution_count": null,
   "metadata": {},
   "outputs": [],
   "source": [
    "plt.figure(figsize=(10, 4))\n",
    "plt.ylim(0,162)\n",
    "plt.xlim(0,160e6)\n",
    "\n",
    "max_clade_sizes = sweep_data.groupby(['start', 'end']).clade_size.max().reset_index()\n",
    "max_clade_sizes.loc[max_clade_sizes.clade_size.isnull(), 'clade_size'] = 0\n",
    "plot_df = stairs(max_clade_sizes)\n",
    "plt.plot(plot_df.pos, plot_df.clade_size)\n",
    "\n",
    "min_clade_sizes = sweep_data.groupby(['start', 'end']).clade_size.min().reset_index()\n",
    "min_clade_sizes.loc[min_clade_sizes.clade_size.isnull(), 'clade_size'] = 0\n",
    "plot_df = stairs(min_clade_sizes)\n",
    "plt.plot(plot_df.pos, plot_df.clade_size) \n",
    "\n",
    "plt.axhline(162 * 0.25) ;"
   ]
  },
  {
   "cell_type": "markdown",
   "metadata": {},
   "source": [
    "It seems the clade each sequence is part of is generally not much larger than the cutoff."
   ]
  },
  {
   "cell_type": "markdown",
   "metadata": {},
   "source": [
    "## Plot for paper:"
   ]
  },
  {
   "cell_type": "code",
   "execution_count": null,
   "metadata": {},
   "outputs": [],
   "source": [
    "with sns.plotting_context('paper', font_scale=1.2):\n",
    "    with sns.axes_style(\"whitegrid\", {'axes.grid' : False}):\n",
    "        fig, ax = plt.subplots(figsize=(10, 4))\n",
    "\n",
    "        ax.set_ylim(0,1)\n",
    "        ax.set_xlim(0,160e6)\n",
    "\n",
    "        ax.set_ylabel('Proportion of non-Africans called as ECH')\n",
    "        ax.set_xlabel('Chromosomal position')\n",
    "        \n",
    "        plt.savefig(str(figures_dir / 'tot_swept_blank.pdf')) "
   ]
  },
  {
   "cell_type": "code",
   "execution_count": null,
   "metadata": {},
   "outputs": [],
   "source": [
    "with sns.plotting_context('paper', font_scale=1.2):\n",
    "    with sns.axes_style(\"whitegrid\", {'axes.grid' : False}):\n",
    "        fig, ax = plt.subplots(figsize=(10, 4))\n",
    "\n",
    "        x = [j for i in zip(afr_total_swept.start, afr_total_swept.end) for j in i]\n",
    "        y = [j for i in zip(afr_total_swept.prop_swept, afr_total_swept.prop_swept) for j in i]      \n",
    "        g = ax.plot(x, y, color=set1['red'], zorder=2)\n",
    "        ax.fill_between(x, 0, y, color=set1['red'], alpha=0.4, zorder=2)\n",
    "\n",
    "        ax.set_ylim(0,1)\n",
    "        ax.set_xlim(0,160e6)\n",
    "\n",
    "        ax.set_ylabel('Proportion of non-Africans called as ECH')\n",
    "        ax.set_xlabel('Chromosomal position')\n",
    "        \n",
    "        plt.savefig(str(figures_dir / 'tot_swept_afr_only.pdf')) "
   ]
  },
  {
   "cell_type": "code",
   "execution_count": null,
   "metadata": {},
   "outputs": [],
   "source": [
    "with sns.plotting_context('paper', font_scale=1.2):\n",
    "    with sns.axes_style(\"whitegrid\", {'axes.grid' : False}):\n",
    "        fig, ax = plt.subplots(figsize=(10, 4))\n",
    "\n",
    "        x = [j for i in zip(non_afr_total_swept.start, non_afr_total_swept.end) for j in i]\n",
    "        y = [j for i in zip(non_afr_total_swept.prop_swept, non_afr_total_swept.prop_swept) for j in i]      \n",
    "        g = ax.plot(x, y, color=set1['blue'], zorder=1)        \n",
    "        ax.fill_between(x, 0, y, color=set1['blue'], alpha=0.4, zorder=1)\n",
    "\n",
    "        x = [j for i in zip(afr_total_swept.start, afr_total_swept.end) for j in i]\n",
    "        y = [j for i in zip(afr_total_swept.prop_swept, afr_total_swept.prop_swept) for j in i]      \n",
    "        g = ax.plot(x, y, color=set1['red'], zorder=2)\n",
    "        ax.fill_between(x, 0, y, color=set1['red'], alpha=0.4, zorder=2)\n",
    "\n",
    "        ax.set_ylim(0,1)\n",
    "        ax.set_xlim(0,160e6)\n",
    "\n",
    "        ax.set_ylabel('Proportion of non-Africans called as ECH')\n",
    "        ax.set_xlabel('Chromosomal position')\n",
    "        \n",
    "        plt.savefig(str(figures_dir / 'tot_swept.pdf')) \n",
    "        plt.savefig(str(figures_dir / 'tot_swept.png'))"
   ]
  },
  {
   "cell_type": "code",
   "execution_count": null,
   "metadata": {},
   "outputs": [],
   "source": [
    "human_chimp_low_ils_regions_chrX = pandas.read_hdf(results_dir / 'human_chimp_low_ils_regions_chrX.hdf')\n",
    "\n",
    "#with sns.color_palette([set1['blue'], set1['red']]):\n",
    "with sns.plotting_context('paper', font_scale=1.2):\n",
    "    with sns.axes_style(\"whitegrid\", {'axes.grid' : False}):\n",
    "        fig, ax = plt.subplots(figsize=(10, 4))\n",
    "\n",
    "        x = [j for i in zip(non_afr_total_swept.start, non_afr_total_swept.end) for j in i]\n",
    "        y = [j for i in zip(non_afr_total_swept.prop_swept, non_afr_total_swept.prop_swept) for j in i]      \n",
    "        g = ax.plot(x, y, color=set1['blue'], zorder=1)        \n",
    "        ax.fill_between(x, 0, y, color=set1['blue'], alpha=0.4, zorder=1)\n",
    "\n",
    "        x = [j for i in zip(afr_total_swept.start, afr_total_swept.end) for j in i]\n",
    "        y = [j for i in zip(afr_total_swept.prop_swept, afr_total_swept.prop_swept) for j in i]      \n",
    "        g = ax.plot(x, y, color=set1['red'], zorder=2)\n",
    "        ax.fill_between(x, 0, y, color=set1['red'], alpha=0.4, zorder=2)\n",
    "\n",
    "        for tup in human_chimp_low_ils_regions_chrX.itertuples():\n",
    "            g = ax.add_patch(Rectangle((tup.start, 0), tup.end-tup.start, 1, \n",
    "                         facecolor='gray',\n",
    "                         linewidth=0,\n",
    "                         alpha=0.3,\n",
    "                         zorder=0))\n",
    "        ax.set_ylim(0,1)\n",
    "        ax.set_xlim(0,160e6)\n",
    "\n",
    "        ax.set_ylabel('Proportion of non-Africans called as ECH')\n",
    "        ax.set_xlabel('Chromosomal position')\n",
    "        \n",
    "        plt.savefig(str(figures_dir / 'tot_swept_ils.pdf')) \n",
    "        plt.savefig(str(figures_dir / 'tot_swept_ils.png'))"
   ]
  },
  {
   "cell_type": "code",
   "execution_count": null,
   "metadata": {},
   "outputs": [],
   "source": [
    "human_chimp_low_ils_regions_chrX = pandas.read_hdf(results_dir / 'human_chimp_low_ils_regions_chrX.hdf')\n",
    "\n",
    "with sns.plotting_context('paper', font_scale=1.2):\n",
    "    with sns.axes_style(\"whitegrid\", {'axes.grid' : False}):\n",
    "        fig, ax = plt.subplots(figsize=(10, 4))\n",
    "\n",
    "        x = [j for i in zip(non_afr_total_swept.start, non_afr_total_swept.end) for j in i]\n",
    "        y = [j for i in zip(non_afr_total_swept.prop_swept, non_afr_total_swept.prop_swept) for j in i]      \n",
    "        g = ax.plot(x, y, color=set1['blue'], zorder=1)        \n",
    "        ax.fill_between(x, 0, y, color=set1['blue'], alpha=0.4, zorder=1)\n",
    "\n",
    "        for tup in human_chimp_low_ils_regions_chrX.itertuples():\n",
    "            g = ax.add_patch(Rectangle((tup.start, 0), tup.end-tup.start, 1, \n",
    "                         facecolor='gray',\n",
    "                         linewidth=0,\n",
    "                         alpha=0.3,\n",
    "                         zorder=0))\n",
    "        ax.set_ylim(0,1)\n",
    "        ax.set_xlim(0,160e6)\n",
    "\n",
    "        ax.set_ylabel('Proportion of non-Africans called as ECH')\n",
    "        ax.set_xlabel('Chromosomal position')\n",
    "        \n",
    "        plt.tight_layout()\n",
    "        \n",
    "        plt.savefig(str(figures_dir / 'tot_swept_ils_only_nonafr.pdf')) "
   ]
  },
  {
   "cell_type": "code",
   "execution_count": null,
   "metadata": {},
   "outputs": [],
   "source": [
    "human_chimp_low_ils_regions_chrX = pandas.read_hdf(results_dir / 'human_chimp_low_ils_regions_chrX.hdf')\n",
    "\n",
    "import matplotlib.ticker as ticker\n",
    "\n",
    "with sns.plotting_context('paper', font_scale=1.2):\n",
    "    with sns.axes_style(\"whitegrid\"):#, {'axes.grid' : False}):\n",
    "        fig, ax = plt.subplots(figsize=(10, 4))\n",
    "\n",
    "        x = [j for i in zip(non_afr_total_swept.start, non_afr_total_swept.end) for j in i]\n",
    "        y = [j for i in zip(non_afr_total_swept.prop_swept, non_afr_total_swept.prop_swept) for j in i]      \n",
    "        g = ax.plot(x, y, color=set1['blue'], zorder=1)        \n",
    "#         ax.fill_between(x, 0, y, color=set1['blue'], alpha=0.4, zorder=1)\n",
    "        ax.fill_between(x, 0, y, color='#b6cbe1', zorder=1)\n",
    "\n",
    "        for tup in human_chimp_low_ils_regions_chrX.itertuples():\n",
    "            g = ax.add_patch(Rectangle((tup.start, 0), tup.end-tup.start, 1, \n",
    "                        linewidth=0,\n",
    "                        facecolor='#d8d8d8',\n",
    "                        #facecolor='gray',\n",
    "                        #alpha=0.3,\n",
    "                        zorder=0))\n",
    "        ax.set_ylim(0,1)\n",
    "        ax.set_xlim(0,160e6)\n",
    "\n",
    "        ax.scatter(sweep_peaks.loc[sweep_peaks.prop_swept>=0.5].pos + 1000000, \n",
    "                   sweep_peaks.loc[sweep_peaks.prop_swept>=0.5].prop_swept,\n",
    "                   c='darkgray', marker='*', zorder=5)\n",
    "\n",
    "        \n",
    "        ax.set_ylabel('Proportion of non-Africans called as ECH')\n",
    "        ax.set_xlabel('Chromosomal position')\n",
    "        \n",
    "        ax.yaxis.set_major_locator(ticker.MultipleLocator(0.25))\n",
    "        ax.yaxis.grid(linestyle='--')\n",
    "        ax.xaxis.grid(False)\n",
    "        \n",
    "        plt.tight_layout()\n",
    "        \n",
    "        plt.savefig(str(figures_dir / 'tot_swept_ils_only_nonafr_alternative.pdf')) "
   ]
  },
  {
   "cell_type": "code",
   "execution_count": null,
   "metadata": {},
   "outputs": [],
   "source": [
    "human_chimp_low_ils_regions_chrX = pandas.read_hdf(results_dir / 'human_chimp_low_ils_regions_chrX.hdf')\n",
    "ampliconic_regions = pandas.read_hdf(results_dir / 'ampliconic_regions.hdf')\n",
    "\n",
    "with sns.plotting_context('paper', font_scale=1.2):\n",
    "    with sns.axes_style(\"whitegrid\", {'axes.grid' : False}):\n",
    "        fig, ax = plt.subplots(figsize=(10, 4))\n",
    "\n",
    "        x = [j for i in zip(non_afr_total_swept.start, non_afr_total_swept.end) for j in i]\n",
    "        y = [j for i in zip(non_afr_total_swept.prop_swept, non_afr_total_swept.prop_swept) for j in i]      \n",
    "        g = ax.plot(x, y, color=set1['blue'], zorder=1)        \n",
    "        ax.fill_between(x, 0, y, color=set1['blue'], alpha=0.4, zorder=1)\n",
    "\n",
    "        for tup in human_chimp_low_ils_regions_chrX.itertuples():\n",
    "            g = ax.add_patch(Rectangle((tup.start, 0), tup.end-tup.start, 1, \n",
    "                         facecolor='gray',\n",
    "                         linewidth=0,\n",
    "                         alpha=0.3,\n",
    "                         zorder=0))\n",
    "            \n",
    "        for tup in ampliconic_regions.itertuples():\n",
    "            g = ax.add_patch(Rectangle((tup.start, 0), tup.end-tup.start, 1, \n",
    "                         facecolor='orange',\n",
    "                         linewidth=0,\n",
    "                         alpha=1,\n",
    "                         zorder=0))\n",
    "            \n",
    "        ax.set_ylim(0,1)\n",
    "        ax.set_xlim(0,160e6)\n",
    "\n",
    "        ax.set_ylabel('Proportion of non-Africans called as ECH')\n",
    "        ax.set_xlabel('Chromosomal position')\n",
    "        \n",
    "        plt.tight_layout()\n",
    "        \n",
    "        plt.savefig(str(figures_dir / 'tot_swept_ils_ampl.pdf')) \n",
    "        plt.savefig(str(figures_dir / 'tot_swept_ils_ampl.png'))"
   ]
  },
  {
   "cell_type": "markdown",
   "metadata": {},
   "source": [
    "## Relative TMRCA_half"
   ]
  },
  {
   "cell_type": "code",
   "execution_count": null,
   "metadata": {},
   "outputs": [],
   "source": [
    "tmrca_stats_world = pandas.read_hdf(results_dir / 'pruned_tmrca_stats.hdf')#.loc[lambda df: df.region=='World']\n",
    "tmrca_stats_world.head()"
   ]
  },
  {
   "cell_type": "code",
   "execution_count": null,
   "metadata": {},
   "outputs": [],
   "source": [
    "with sns.plotting_context('paper', font_scale=1.4):\n",
    "    with sns.axes_style(\"whitegrid\", {'axes.grid' : False}):\n",
    "        fig, ax = plt.subplots(figsize=(10, 4))\n",
    "\n",
    "        x = [j for i in zip(non_afr_total_swept.start, non_afr_total_swept.end) for j in i]\n",
    "        y = [j for i in zip(non_afr_total_swept.prop_swept, non_afr_total_swept.prop_swept) for j in i]      \n",
    "        g = ax.plot(x, y, color=set1['blue'], zorder=1)        \n",
    "        ax.fill_between(x, 0, y, color=set1['blue'], alpha=0.4, zorder=1)\n",
    "\n",
    "        x = [j for i in zip(afr_total_swept.start, afr_total_swept.end) for j in i]\n",
    "        y = [j for i in zip(afr_total_swept.prop_swept, afr_total_swept.prop_swept) for j in i]      \n",
    "        g = ax.plot(x, y, color=set1['red'], zorder=2)\n",
    "        ax.fill_between(x, 0, y, color=set1['red'], alpha=0.4, zorder=2)\n",
    "\n",
    "        extra_ax = ax.twinx()\n",
    "        extra_ax.fill_between(tmrca_stats_world.start, tmrca_stats_world.rel_tmrca_half, color='grey', alpha=0.4, zorder=0)\n",
    "        extra_ax.grid(False)        \n",
    "\n",
    "        ax.set_ylim(0,1)\n",
    "        extra_ax.set_ylim(0)\n",
    "\n",
    "        ax.set_xlim(0,160e6)\n",
    "        \n",
    "        ax.set_ylabel('Proportion of non-Africans called as ECH')\n",
    "        ax.set_xlabel('Chromosomal position')\n",
    "        extra_ax.set_ylabel('relative TMRCA_half')\n",
    "        plt.tight_layout()\n",
    "                \n",
    "        plt.savefig(str(figures_dir / 'tot_swept_rel_tmrca_half.pdf')) \n",
    "        plt.savefig(str(figures_dir / 'tot_swept_rel_tmrca_half.png'))\n",
    "        \n",
    "#mpld3.display(fig)"
   ]
  },
  {
   "cell_type": "code",
   "execution_count": null,
   "metadata": {},
   "outputs": [],
   "source": [
    "with sns.plotting_context('paper', font_scale=1.4):\n",
    "    with sns.axes_style(\"whitegrid\", {'axes.grid' : False}):\n",
    "        fig, ax = plt.subplots(figsize=(10, 4))\n",
    "\n",
    "        x = [j for i in zip(non_afr_total_swept.start, non_afr_total_swept.end) for j in i]\n",
    "        y = [j for i in zip(non_afr_total_swept.prop_swept, non_afr_total_swept.prop_swept) for j in i]      \n",
    "        g = ax.plot(x, y, color=set1['blue'], zorder=1)        \n",
    "        ax.fill_between(x, 0, y, color=set1['blue'], alpha=0.4, zorder=1)\n",
    "\n",
    "        extra_ax = ax.twinx()\n",
    "        extra_ax.fill_between(tmrca_stats_world.start, tmrca_stats_world.rel_tmrca_half, color='grey', alpha=0.4, zorder=0)\n",
    "        extra_ax.grid(False)        \n",
    "\n",
    "        ax.set_ylim(0,1)\n",
    "        extra_ax.set_ylim(0)\n",
    "\n",
    "        ax.set_xlim(0,160e6)\n",
    "        \n",
    "        ax.set_ylabel('Proportion of non-Africans called as ECH')\n",
    "        ax.set_xlabel('Chromosomal position')\n",
    "        extra_ax.set_ylabel('relative TMRCA_half')\n",
    "        plt.tight_layout()\n",
    "                \n",
    "        plt.savefig(str(figures_dir / 'tot_swept_rel_tmrca_half_only_nonafr.pdf')) \n",
    "        plt.savefig(str(figures_dir / 'tot_swept_rel_tmrca_half_only_nonafr.png'))\n",
    "        \n",
    "#mpld3.display(fig)"
   ]
  },
  {
   "cell_type": "code",
   "execution_count": null,
   "metadata": {},
   "outputs": [],
   "source": [
    "fig, ax = plt.subplots(figsize=(12, 5))\n",
    "\n",
    "ax.plot(tmrca_stats_world.start, tmrca_stats_world.rel_tmrca_half, c='lightgrey')\n",
    "filtered = lowess(tmrca_stats_world.rel_tmrca_half, tmrca_stats_world.start, \n",
    "                  is_sorted=True, frac=0.01, it=0)\n",
    "g = ax.plot(filtered[:,0], filtered[:,1])"
   ]
  },
  {
   "cell_type": "code",
   "execution_count": null,
   "metadata": {},
   "outputs": [],
   "source": [
    "with sns.plotting_context('paper', font_scale=1.2):\n",
    "    with sns.axes_style(\"whitegrid\", {'axes.grid' : False}):\n",
    "        fig, ax = plt.subplots(figsize=(10, 4))\n",
    "\n",
    "        x = [j for i in zip(non_afr_total_swept.start, non_afr_total_swept.end) for j in i]\n",
    "        y = [j for i in zip(non_afr_total_swept.prop_swept, non_afr_total_swept.prop_swept) for j in i]      \n",
    "        g = ax.plot(x, y, color=set1['blue'], zorder=1)        \n",
    "        ax.fill_between(x, 0, y, color=set1['blue'], alpha=0.4, zorder=1)\n",
    "\n",
    "        x = [j for i in zip(afr_total_swept.start, afr_total_swept.end) for j in i]\n",
    "        y = [j for i in zip(afr_total_swept.prop_swept, afr_total_swept.prop_swept) for j in i]      \n",
    "        g = ax.plot(x, y, color=set1['red'], zorder=2)\n",
    "        ax.fill_between(x, 0, y, color=set1['red'], alpha=0.4, zorder=2)\n",
    "\n",
    "        extra_ax = ax.twinx()\n",
    "        extra_ax.fill_between(filtered[:,0], 0, filtered[:,1], color='grey', alpha=0.5, zorder=0)\n",
    "        extra_ax.grid(False)\n",
    "        \n",
    "        ax.set_ylim(0,1)\n",
    "        extra_ax.set_ylim(0)\n",
    "        \n",
    "        ax.set_xlim(0,160e6)\n",
    "\n",
    "        ax.set_ylabel('Proportion of non-Africans called as ECH')\n",
    "        ax.set_xlabel('Chromosomal position')\n",
    "        extra_ax.set_ylabel('relative TMRCA_half')\n",
    "        plt.tight_layout()\n",
    "        \n",
    "        plt.savefig(str(figures_dir / 'tot_swept_smoothed_rel_tmrca_half.pdf')) \n",
    "        plt.savefig(str(figures_dir / 'tot_swept_smoothed_rel_tmrca_half.png'))"
   ]
  },
  {
   "cell_type": "code",
   "execution_count": null,
   "metadata": {},
   "outputs": [],
   "source": [
    "with sns.plotting_context('paper', font_scale=1.0):\n",
    "    with sns.axes_style(\"whitegrid\", {'axes.grid' : False}):\n",
    "        fig, ax = plt.subplots(figsize=(10, 4))\n",
    "\n",
    "        x = [j for i in zip(non_afr_total_swept.start, non_afr_total_swept.end) for j in i]\n",
    "        y = [j for i in zip(non_afr_total_swept.prop_swept, non_afr_total_swept.prop_swept) for j in i]      \n",
    "        g = ax.plot(x, y, color=set1['blue'], zorder=1)        \n",
    "        ax.fill_between(x, 0, y, color=set1['blue'], alpha=0.4, zorder=1)\n",
    "\n",
    "        x = [j for i in zip(afr_total_swept.start, afr_total_swept.end) for j in i]\n",
    "        y = [j for i in zip(afr_total_swept.prop_swept, afr_total_swept.prop_swept) for j in i]      \n",
    "        g = ax.plot(x, y, color=set1['red'], zorder=2)\n",
    "        ax.fill_between(x, 0, y, color=set1['red'], alpha=0.4, zorder=2)\n",
    "\n",
    "        extra_ax = ax.twinx()\n",
    "        extra_ax.plot(filtered[:,0], filtered[:,1], c='grey', alpha=0.5, zorder=0)\n",
    "        extra_ax.fill_between(filtered[:,0], 0, filtered[:,1], color='grey', alpha=0.2, zorder=0)\n",
    "        extra_ax.grid(False)\n",
    "        \n",
    "        ax.set_ylim(0,1)\n",
    "        extra_ax.set_ylim(0)\n",
    "        \n",
    "        ax.set_xlim(0,160e6)\n",
    "\n",
    "        ax.set_ylabel('Proportion of non-Africans called as ECH')\n",
    "        ax.set_xlabel('Chromosomal position')\n",
    "        extra_ax.set_ylabel('relative TMRCA_half')\n",
    "        plt.tight_layout()"
   ]
  },
  {
   "cell_type": "code",
   "execution_count": null,
   "metadata": {},
   "outputs": [],
   "source": []
  }
 ],
 "metadata": {
  "anaconda-cloud": {},
  "kernelspec": {
   "display_name": "Python 3",
   "language": "python",
   "name": "python3"
  },
  "language_info": {
   "codemirror_mode": {
    "name": "ipython",
    "version": 3
   },
   "file_extension": ".py",
   "mimetype": "text/x-python",
   "name": "python",
   "nbconvert_exporter": "python",
   "pygments_lexer": "ipython3",
   "version": "3.6.9"
  }
 },
 "nbformat": 4,
 "nbformat_minor": 4
}
