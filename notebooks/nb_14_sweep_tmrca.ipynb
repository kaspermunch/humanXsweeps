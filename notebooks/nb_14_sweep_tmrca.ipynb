{
 "cells": [
  {
   "cell_type": "markdown",
   "metadata": {},
   "source": [
    "# Sweep TMRCA"
   ]
  },
  {
   "cell_type": "markdown",
   "metadata": {},
   "source": [
    "\n",
    "Extract TMRCA for swept individuals and for full sample. This serve as a sanity check. We expect sweep clade TMRCA to reflect the criteria by which swept windows are selected. So we want to retrieve that and we want to show that this applies to the entire extended peak region, suggesting that it can be considered one and not multiple sweeps."
   ]
  },
  {
   "cell_type": "code",
   "execution_count": 1,
   "metadata": {},
   "outputs": [],
   "source": [
    "import re, os, sys, pickle, pickle, subprocess, bisect, random\n",
    "from pathlib import Path\n",
    "import numpy\n",
    "import pandas\n",
    "import scipy\n",
    "\n",
    "from pandas import DataFrame, Series\n",
    "from sklearn.decomposition import PCA\n",
    "\n",
    "from ete3 import Tree\n",
    "from scipy.cluster.hierarchy import dendrogram, linkage\n",
    "\n",
    "import pyfaidx\n",
    "\n",
    "# my own libaries\n",
    "from ChromosomeWindows import window\n",
    "import genominterv\n",
    "\n",
    "numpy.random.seed(7)\n",
    "random.seed(7)"
   ]
  },
  {
   "cell_type": "code",
   "execution_count": 2,
   "metadata": {},
   "outputs": [],
   "source": [
    "import re, os, sys, pickle, math, collections, random\n",
    "from pathlib import Path\n",
    "import numpy\n",
    "import pandas\n",
    "from pandas import DataFrame\n",
    "from ete3 import Tree\n",
    "from scipy.cluster.hierarchy import dendrogram, linkage\n",
    "import subprocess\n",
    "import bisect\n",
    "import pyfaidx"
   ]
  },
  {
   "cell_type": "markdown",
   "metadata": {},
   "source": [
    "Plotting setup:"
   ]
  },
  {
   "cell_type": "code",
   "execution_count": 3,
   "metadata": {},
   "outputs": [],
   "source": [
    "%matplotlib inline\n",
    "\n",
    "# Make inline plots vector graphics instead of raster graphics\n",
    "from IPython.display import set_matplotlib_formats\n",
    "set_matplotlib_formats('retina', 'png')\n",
    "\n",
    "import matplotlib\n",
    "import matplotlib.pyplot as plt\n",
    "from matplotlib.colors import ListedColormap\n",
    "from matplotlib.patches import Rectangle\n",
    "from matplotlib.lines import Line2D\n",
    "\n",
    "from mpl_toolkits.basemap import Basemap\n",
    "#matplotlib.rcParams['figure.figsize'] = (20.0, 10.0)\n",
    "\n",
    "import mpld3\n",
    "\n",
    "import seaborn as sns\n",
    "sns.set() # sets seaborn default \"prettyness:\n",
    "sns.set_style(\"whitegrid\")\n",
    "sns.set_context(\"paper\")\n",
    "\n",
    "# lowess for plotting\n",
    "from statsmodels.nonparametric.smoothers_lowess import lowess\n",
    "\n",
    "set1 = {'red': '#e41a1c', 'blue': '#377eb8', 'green': '#4daf4a',\n",
    "        'purple': '#984ea3', 'orange': '#ff7f00', \n",
    "        'yellow': '#ffff33', 'brown': '#a65628'}"
   ]
  },
  {
   "cell_type": "markdown",
   "metadata": {},
   "source": [
    "Ignore deprecation warnings from mainly seaborn:"
   ]
  },
  {
   "cell_type": "code",
   "execution_count": 4,
   "metadata": {},
   "outputs": [],
   "source": [
    "# silence deprecation warnings (lots from seaborn)\n",
    "import warnings\n",
    "warnings.filterwarnings(\"ignore\", category=DeprecationWarning) \n",
    "warnings.filterwarnings(\"ignore\", category=numpy.VisibleDeprecationWarning)\n",
    "warnings.filterwarnings(\"ignore\",category=matplotlib.cbook.mplDeprecation)"
   ]
  },
  {
   "cell_type": "markdown",
   "metadata": {},
   "source": [
    "### Analysis dirs"
   ]
  },
  {
   "cell_type": "code",
   "execution_count": 5,
   "metadata": {},
   "outputs": [],
   "source": [
    "root_dir = Path(os.environ['HOME'], 'simons/faststorage/people/kmt')\n",
    "meta_data_dir = Path(os.environ['HOME'], 'simons/faststorage/data/metadata')\n",
    "steps_dir = root_dir / 'steps'\n",
    "argweaver_dir = steps_dir / 'argweaver/output'\n",
    "results_dir = root_dir / 'results'\n",
    "figures_dir = root_dir / 'figures'\n",
    "data_dir = root_dir / 'data'\n",
    "pi_dir = steps_dir / 'pi_stores'\n",
    "dist_dir = steps_dir / 'dist_stores'\n",
    "#pi_dir = root_dir / 'old_pi_stores'\n",
    "male_x_haploid_dir = steps_dir / 'male_x_haploids'\n",
    "\n",
    "reference_genome_file = Path('/home', 'kmt', 'simons', \n",
    "                        'faststorage', 'cteam_lite_public3', 'FullyPublic', 'Href.fa')"
   ]
  },
  {
   "cell_type": "markdown",
   "metadata": {},
   "source": [
    "Import variables global to the entire analysis:"
   ]
  },
  {
   "cell_type": "code",
   "execution_count": 6,
   "metadata": {},
   "outputs": [],
   "source": [
    "import analysis_globals"
   ]
  },
  {
   "cell_type": "markdown",
   "metadata": {},
   "source": [
    "Local code in the scripts dir on the cluster:"
   ]
  },
  {
   "cell_type": "code",
   "execution_count": 7,
   "metadata": {},
   "outputs": [],
   "source": [
    "scripts_dir = root_dir / 'scripts'\n",
    "if str(scripts_dir) not in sys.path:\n",
    "    sys.path.append(str(scripts_dir))\n",
    "\n",
    "import simons_meta_data\n",
    "import hg19_chrom_sizes\n",
    "\n",
    "from toggle_code_and_errors import toggle_code_html, toggle_errors_html"
   ]
  },
  {
   "cell_type": "markdown",
   "metadata": {},
   "source": [
    "## Convenience functions"
   ]
  },
  {
   "cell_type": "code",
   "execution_count": 8,
   "metadata": {},
   "outputs": [],
   "source": [
    "def silent_nanmean(x):\n",
    "    with warnings.catch_warnings():\n",
    "        warnings.simplefilter(\"ignore\")\n",
    "        return numpy.nanmean(x)\n",
    "    \n",
    "def ident_scalar(s):\n",
    "    x = s.unique()\n",
    "    assert(len(x)) == 1\n",
    "    return x[0]\n",
    "\n",
    "def flatten_column_index(df):\n",
    "    df.columns = ['_'.join(col).strip() for col in df.columns.values]\n"
   ]
  },
  {
   "cell_type": "code",
   "execution_count": 9,
   "metadata": {},
   "outputs": [],
   "source": [
    "import time\n",
    "class Timer:    \n",
    "    def __enter__(self):\n",
    "        self.start = time.clock()\n",
    "        return self\n",
    "\n",
    "    def __exit__(self, *args):\n",
    "        self.end = time.clock()\n",
    "        self.interval = self.end - self.start\n",
    "        print(\"{:.0f} min {:.1f} sec\".format(self.interval//60, self.interval % 60))"
   ]
  },
  {
   "cell_type": "markdown",
   "metadata": {},
   "source": [
    "## Load meta data"
   ]
  },
  {
   "cell_type": "code",
   "execution_count": 10,
   "metadata": {},
   "outputs": [],
   "source": [
    "# easy loading of meta data in a consistent manner across code\n",
    "individuals, populations, regions = simons_meta_data.get_meta_data(meta_data_dir=meta_data_dir)\n",
    "\n",
    "pop_categories = pandas.read_hdf(str(results_dir / 'population_categories.store'), 'sr')\n",
    "region_categories = pandas.read_hdf(str(results_dir / 'region_categories.store'), 'sr')\n",
    "# region_colors = dict(zip(list(region_categories), \n",
    "#                          ['#e41a1c', '#377eb8', '#4daf4a', '#984ea3', \n",
    "#                           '#ff7f00', '#ffff33', '#a65628']))\n",
    "\n",
    "region_colors = dict(zip(list(region_categories), \n",
    "                         ['#e41a1c', '#377eb8',  '#984ea3', '#4daf4a',\n",
    "                          '#ff7f00', '#ffff33', '#a65628']))\n",
    "\n",
    "chromosome_lengths = dict((k.replace('chr', ''), v) for k, v in hg19_chrom_sizes.hg19_chrom_sizes.items())"
   ]
  },
  {
   "cell_type": "markdown",
   "metadata": {},
   "source": [
    "## Load sweep data"
   ]
  },
  {
   "cell_type": "code",
   "execution_count": 11,
   "metadata": {},
   "outputs": [],
   "source": [
    "non_afr_total_swept = pandas.read_hdf(results_dir / 'non_afr_total_swept.hdf')\n",
    "afr_total_swept = pandas.read_hdf(results_dir / 'afr_total_swept.hdf')"
   ]
  },
  {
   "cell_type": "code",
   "execution_count": 12,
   "metadata": {},
   "outputs": [
    {
     "data": {
      "text/html": [
       "<div>\n",
       "<style scoped>\n",
       "    .dataframe tbody tr th:only-of-type {\n",
       "        vertical-align: middle;\n",
       "    }\n",
       "\n",
       "    .dataframe tbody tr th {\n",
       "        vertical-align: top;\n",
       "    }\n",
       "\n",
       "    .dataframe thead th {\n",
       "        text-align: right;\n",
       "    }\n",
       "</style>\n",
       "<table border=\"1\" class=\"dataframe\">\n",
       "  <thead>\n",
       "    <tr style=\"text-align: right;\">\n",
       "      <th></th>\n",
       "      <th>index</th>\n",
       "      <th>start</th>\n",
       "      <th>end</th>\n",
       "      <th>is_non_african</th>\n",
       "      <th>nr_swept</th>\n",
       "      <th>total</th>\n",
       "      <th>pos</th>\n",
       "      <th>prop_swept</th>\n",
       "    </tr>\n",
       "  </thead>\n",
       "  <tbody>\n",
       "    <tr>\n",
       "      <th>0</th>\n",
       "      <td>1</td>\n",
       "      <td>2700000</td>\n",
       "      <td>2800000</td>\n",
       "      <td>True</td>\n",
       "      <td>0.0</td>\n",
       "      <td>139</td>\n",
       "      <td>2750000.0</td>\n",
       "      <td>0.0</td>\n",
       "    </tr>\n",
       "    <tr>\n",
       "      <th>1</th>\n",
       "      <td>3</td>\n",
       "      <td>2800000</td>\n",
       "      <td>2900000</td>\n",
       "      <td>True</td>\n",
       "      <td>0.0</td>\n",
       "      <td>140</td>\n",
       "      <td>2850000.0</td>\n",
       "      <td>0.0</td>\n",
       "    </tr>\n",
       "    <tr>\n",
       "      <th>2</th>\n",
       "      <td>5</td>\n",
       "      <td>2900000</td>\n",
       "      <td>3000000</td>\n",
       "      <td>True</td>\n",
       "      <td>0.0</td>\n",
       "      <td>140</td>\n",
       "      <td>2950000.0</td>\n",
       "      <td>0.0</td>\n",
       "    </tr>\n",
       "    <tr>\n",
       "      <th>3</th>\n",
       "      <td>7</td>\n",
       "      <td>3000000</td>\n",
       "      <td>3100000</td>\n",
       "      <td>True</td>\n",
       "      <td>0.0</td>\n",
       "      <td>140</td>\n",
       "      <td>3050000.0</td>\n",
       "      <td>0.0</td>\n",
       "    </tr>\n",
       "    <tr>\n",
       "      <th>4</th>\n",
       "      <td>9</td>\n",
       "      <td>3100000</td>\n",
       "      <td>3200000</td>\n",
       "      <td>True</td>\n",
       "      <td>0.0</td>\n",
       "      <td>140</td>\n",
       "      <td>3150000.0</td>\n",
       "      <td>0.0</td>\n",
       "    </tr>\n",
       "  </tbody>\n",
       "</table>\n",
       "</div>"
      ],
      "text/plain": [
       "   index    start      end  is_non_african  nr_swept  total        pos  \\\n",
       "0      1  2700000  2800000            True       0.0    139  2750000.0   \n",
       "1      3  2800000  2900000            True       0.0    140  2850000.0   \n",
       "2      5  2900000  3000000            True       0.0    140  2950000.0   \n",
       "3      7  3000000  3100000            True       0.0    140  3050000.0   \n",
       "4      9  3100000  3200000            True       0.0    140  3150000.0   \n",
       "\n",
       "   prop_swept  \n",
       "0         0.0  \n",
       "1         0.0  \n",
       "2         0.0  \n",
       "3         0.0  \n",
       "4         0.0  "
      ]
     },
     "execution_count": 12,
     "metadata": {},
     "output_type": "execute_result"
    }
   ],
   "source": [
    "non_afr_total_swept.head()"
   ]
  },
  {
   "cell_type": "markdown",
   "metadata": {},
   "source": [
    "Make sure the index is 0, 1, 2 ..."
   ]
  },
  {
   "cell_type": "code",
   "execution_count": 13,
   "metadata": {},
   "outputs": [
    {
     "name": "stdout",
     "output_type": "stream",
     "text": [
      "1385\n"
     ]
    },
    {
     "data": {
      "text/html": [
       "<div>\n",
       "<style scoped>\n",
       "    .dataframe tbody tr th:only-of-type {\n",
       "        vertical-align: middle;\n",
       "    }\n",
       "\n",
       "    .dataframe tbody tr th {\n",
       "        vertical-align: top;\n",
       "    }\n",
       "\n",
       "    .dataframe thead th {\n",
       "        text-align: right;\n",
       "    }\n",
       "</style>\n",
       "<table border=\"1\" class=\"dataframe\">\n",
       "  <thead>\n",
       "    <tr style=\"text-align: right;\">\n",
       "      <th></th>\n",
       "      <th>index</th>\n",
       "      <th>start</th>\n",
       "      <th>end</th>\n",
       "      <th>is_non_african</th>\n",
       "      <th>nr_swept</th>\n",
       "      <th>total</th>\n",
       "      <th>pos</th>\n",
       "      <th>prop_swept</th>\n",
       "    </tr>\n",
       "  </thead>\n",
       "  <tbody>\n",
       "    <tr>\n",
       "      <th>1380</th>\n",
       "      <td>2760</td>\n",
       "      <td>154100000</td>\n",
       "      <td>154200000</td>\n",
       "      <td>True</td>\n",
       "      <td>45.0</td>\n",
       "      <td>140</td>\n",
       "      <td>154150000.0</td>\n",
       "      <td>0.321429</td>\n",
       "    </tr>\n",
       "    <tr>\n",
       "      <th>1381</th>\n",
       "      <td>2762</td>\n",
       "      <td>154200000</td>\n",
       "      <td>154300000</td>\n",
       "      <td>True</td>\n",
       "      <td>45.0</td>\n",
       "      <td>140</td>\n",
       "      <td>154250000.0</td>\n",
       "      <td>0.321429</td>\n",
       "    </tr>\n",
       "    <tr>\n",
       "      <th>1382</th>\n",
       "      <td>2764</td>\n",
       "      <td>154300000</td>\n",
       "      <td>154400000</td>\n",
       "      <td>True</td>\n",
       "      <td>45.0</td>\n",
       "      <td>140</td>\n",
       "      <td>154350000.0</td>\n",
       "      <td>0.321429</td>\n",
       "    </tr>\n",
       "    <tr>\n",
       "      <th>1383</th>\n",
       "      <td>2766</td>\n",
       "      <td>154400000</td>\n",
       "      <td>154500000</td>\n",
       "      <td>True</td>\n",
       "      <td>38.0</td>\n",
       "      <td>140</td>\n",
       "      <td>154450000.0</td>\n",
       "      <td>0.271429</td>\n",
       "    </tr>\n",
       "    <tr>\n",
       "      <th>1384</th>\n",
       "      <td>2768</td>\n",
       "      <td>154800000</td>\n",
       "      <td>154900000</td>\n",
       "      <td>True</td>\n",
       "      <td>0.0</td>\n",
       "      <td>140</td>\n",
       "      <td>154850000.0</td>\n",
       "      <td>0.000000</td>\n",
       "    </tr>\n",
       "  </tbody>\n",
       "</table>\n",
       "</div>"
      ],
      "text/plain": [
       "      index      start        end  is_non_african  nr_swept  total  \\\n",
       "1380   2760  154100000  154200000            True      45.0    140   \n",
       "1381   2762  154200000  154300000            True      45.0    140   \n",
       "1382   2764  154300000  154400000            True      45.0    140   \n",
       "1383   2766  154400000  154500000            True      38.0    140   \n",
       "1384   2768  154800000  154900000            True       0.0    140   \n",
       "\n",
       "              pos  prop_swept  \n",
       "1380  154150000.0    0.321429  \n",
       "1381  154250000.0    0.321429  \n",
       "1382  154350000.0    0.321429  \n",
       "1383  154450000.0    0.271429  \n",
       "1384  154850000.0    0.000000  "
      ]
     },
     "execution_count": 13,
     "metadata": {},
     "output_type": "execute_result"
    }
   ],
   "source": [
    "non_afr_total_swept.reset_index(drop=True, inplace=True)\n",
    "print(len(non_afr_total_swept))\n",
    "non_afr_total_swept.tail()"
   ]
  },
  {
   "cell_type": "markdown",
   "metadata": {},
   "source": [
    "## Compute TMRCA stats using ARGweaver\n",
    "\n",
    "We use the 90% set for this"
   ]
  },
  {
   "cell_type": "markdown",
   "metadata": {},
   "source": [
    "Load sweep regions:"
   ]
  },
  {
   "cell_type": "code",
   "execution_count": 14,
   "metadata": {},
   "outputs": [
    {
     "data": {
      "text/html": [
       "<div>\n",
       "<style scoped>\n",
       "    .dataframe tbody tr th:only-of-type {\n",
       "        vertical-align: middle;\n",
       "    }\n",
       "\n",
       "    .dataframe tbody tr th {\n",
       "        vertical-align: top;\n",
       "    }\n",
       "\n",
       "    .dataframe thead th {\n",
       "        text-align: right;\n",
       "    }\n",
       "</style>\n",
       "<table border=\"1\" class=\"dataframe\">\n",
       "  <thead>\n",
       "    <tr style=\"text-align: right;\">\n",
       "      <th></th>\n",
       "      <th>pos</th>\n",
       "      <th>peak_start</th>\n",
       "      <th>peak_end</th>\n",
       "      <th>peak_prop_swept</th>\n",
       "      <th>start_pos</th>\n",
       "      <th>end_pos</th>\n",
       "      <th>prop_swept</th>\n",
       "      <th>swept_indivs</th>\n",
       "    </tr>\n",
       "  </thead>\n",
       "  <tbody>\n",
       "    <tr>\n",
       "      <th>0</th>\n",
       "      <td>11300000.0</td>\n",
       "      <td>11200000</td>\n",
       "      <td>11400000</td>\n",
       "      <td>0.357143</td>\n",
       "      <td>11100000</td>\n",
       "      <td>11500000</td>\n",
       "      <td>0.328571</td>\n",
       "      <td>['B_Australian-4', 'S_Adygei-1', 'S_Aleut-1', ...</td>\n",
       "    </tr>\n",
       "    <tr>\n",
       "      <th>1</th>\n",
       "      <td>14750000.0</td>\n",
       "      <td>14700000</td>\n",
       "      <td>14800000</td>\n",
       "      <td>0.421429</td>\n",
       "      <td>14700000</td>\n",
       "      <td>14900000</td>\n",
       "      <td>0.407143</td>\n",
       "      <td>['B_Australian-4', 'B_Dai-4', 'B_Papuan-15', '...</td>\n",
       "    </tr>\n",
       "    <tr>\n",
       "      <th>2</th>\n",
       "      <td>19850000.0</td>\n",
       "      <td>19800000</td>\n",
       "      <td>19900000</td>\n",
       "      <td>0.828571</td>\n",
       "      <td>19600000</td>\n",
       "      <td>20200000</td>\n",
       "      <td>0.757143</td>\n",
       "      <td>['B_Australian-4', 'B_Crete-2', 'B_Dai-4', 'B_...</td>\n",
       "    </tr>\n",
       "    <tr>\n",
       "      <th>3</th>\n",
       "      <td>21250000.0</td>\n",
       "      <td>21200000</td>\n",
       "      <td>21300000</td>\n",
       "      <td>0.821429</td>\n",
       "      <td>21100000</td>\n",
       "      <td>21600000</td>\n",
       "      <td>0.778571</td>\n",
       "      <td>['B_Australian-4', 'B_Crete-2', 'B_French-3', ...</td>\n",
       "    </tr>\n",
       "    <tr>\n",
       "      <th>4</th>\n",
       "      <td>36250000.0</td>\n",
       "      <td>36200000</td>\n",
       "      <td>36300000</td>\n",
       "      <td>0.671429</td>\n",
       "      <td>36000000</td>\n",
       "      <td>36400000</td>\n",
       "      <td>0.642857</td>\n",
       "      <td>['B_Crete-2', 'B_Dai-4', 'B_French-3', 'B_Han-...</td>\n",
       "    </tr>\n",
       "  </tbody>\n",
       "</table>\n",
       "</div>"
      ],
      "text/plain": [
       "          pos  peak_start  peak_end  peak_prop_swept  start_pos   end_pos  \\\n",
       "0  11300000.0    11200000  11400000         0.357143   11100000  11500000   \n",
       "1  14750000.0    14700000  14800000         0.421429   14700000  14900000   \n",
       "2  19850000.0    19800000  19900000         0.828571   19600000  20200000   \n",
       "3  21250000.0    21200000  21300000         0.821429   21100000  21600000   \n",
       "4  36250000.0    36200000  36300000         0.671429   36000000  36400000   \n",
       "\n",
       "   prop_swept                                       swept_indivs  \n",
       "0    0.328571  ['B_Australian-4', 'S_Adygei-1', 'S_Aleut-1', ...  \n",
       "1    0.407143  ['B_Australian-4', 'B_Dai-4', 'B_Papuan-15', '...  \n",
       "2    0.757143  ['B_Australian-4', 'B_Crete-2', 'B_Dai-4', 'B_...  \n",
       "3    0.778571  ['B_Australian-4', 'B_Crete-2', 'B_French-3', ...  \n",
       "4    0.642857  ['B_Crete-2', 'B_Dai-4', 'B_French-3', 'B_Han-...  "
      ]
     },
     "execution_count": 14,
     "metadata": {},
     "output_type": "execute_result"
    }
   ],
   "source": [
    "df = pandas.read_hdf(analysis_globals.results_dir / 'extended_peak_regions_90%.hdf')\n",
    "df.head()"
   ]
  },
  {
   "cell_type": "code",
   "execution_count": 15,
   "metadata": {},
   "outputs": [],
   "source": [
    "sweeps_for_dating = [list(x) for x in df.values]  \n",
    "for i in range(len(sweeps_for_dating)):\n",
    "    sweeps_for_dating[i][7] = eval(sweeps_for_dating[i][7])"
   ]
  },
  {
   "cell_type": "code",
   "execution_count": 16,
   "metadata": {},
   "outputs": [],
   "source": [
    "def clade_tmrca(tree, clade_leaves, discrete_time_intervals=None):\n",
    "    \"\"\"\n",
    "    Compute the TMRCA of a a set of leaves relative to the TMRCA \n",
    "    of all leaves. Used to compute the relative TMRCA of non-Africans.\n",
    "    \"\"\"\n",
    "    add_node_heights(tree, discrete_time_intervals=discrete_time_intervals)\n",
    "    clade_root = tree.get_common_ancestor(*clade_leaves)\n",
    "    root = tree.get_tree_root()\n",
    "    return clade_root.height, root.height\n",
    "\n",
    "def add_node_heights(tree, discrete_time_intervals):\n",
    "    \"\"\"\n",
    "    Add height of each internal node as node attribute.\n",
    "    Assumes an (ultrametric) tree.\n",
    "    \"\"\"\n",
    "    if tree.is_leaf():\n",
    "        tree.height = 0\n",
    "        return tree.dist, []\n",
    "    else:\n",
    "        child_node_heights = list()\n",
    "        this_node_heights = list()\n",
    "        for c in tree.children:\n",
    "            this_height, child_node_hts = add_node_heights(c, discrete_time_intervals)\n",
    "            this_node_heights.append(this_height)\n",
    "            child_node_heights.extend(child_node_hts)\n",
    "\n",
    "        # take care of round off errors:\n",
    "        this_node_height = numpy.mean(this_node_heights)\n",
    "        # and check they are no larger than 0.5\n",
    "        assert max(this_node_heights) - min(this_node_heights) <= 0.5, this_node_heights\n",
    "\n",
    "        # take care of round off errors to coalescences in same interval get same height\n",
    "        if discrete_time_intervals:\n",
    "            this_node_height = round_to_closest(this_node_height, discrete_time_intervals)\n",
    "\n",
    "        tree.height = this_node_height\n",
    "\n",
    "        parent_node_height = this_node_height + tree.dist\n",
    "        return parent_node_height, [this_node_height] + child_node_heights\n",
    "\n",
    "    \n",
    "# def node_descendant_counts(tree):\n",
    "#     \"\"\"\n",
    "#     Get number of leaves below each internal node in an \n",
    "#     ultramemtric tree from a postorder traversal. The order of \n",
    "#     nodes returned is the same as for node_heights. This \n",
    "#     traversal uses the order of children as in the t.children \n",
    "#     attribute (not the same order as t.traverse('postorder') ).\n",
    "#     \"\"\"\n",
    "#     if tree.is_leaf():\n",
    "#         return 1, []\n",
    "#     else:\n",
    "#         child_leaf_counts = list()\n",
    "#         total_leaves = 0\n",
    "#         for c in tree.children:\n",
    "#             child_leaf_count, child_leaf_list = node_descendant_counts(c)\n",
    "#             child_leaf_counts.extend(child_leaf_list)\n",
    "#             total_leaves += child_leaf_count\n",
    "#         return total_leaves, [total_leaves] + child_leaf_counts\n",
    "\n",
    "# def node_heights(tree):\n",
    "#     \"\"\"\n",
    "#     Get height of each internal node in an ultramemtric \n",
    "#     tree from a postorder traversal. This traversal uses\n",
    "#     the order of children as in the t.children attribute \n",
    "#     (not the same order as t.traverse('postorder') ).\n",
    "#     \"\"\"\n",
    "#     if tree.is_leaf():\n",
    "#         return tree.dist, []\n",
    "#     else:\n",
    "#         child_node_heights = list()\n",
    "#         this_node_heights = list()\n",
    "#         for c in tree.children:\n",
    "#             this_height, child_node_hts = node_heights(c)\n",
    "#             this_node_heights.append(this_height)\n",
    "#             child_node_heights.extend(child_node_hts)\n",
    "\n",
    "#         # take care of round off errors:\n",
    "#         this_node_height = numpy.mean(this_node_heights)\n",
    "#         # and check they are no larger than 0.5\n",
    "#         assert max(this_node_heights) - min(this_node_heights) <= 0.5, this_node_heights\n",
    "\n",
    "#         parent_node_height = this_node_height + tree.dist\n",
    "#         return parent_node_height, [this_node_height] + child_node_heights\n",
    "\n",
    "\n",
    "# def tmrca_stats(tree):\n",
    "#     \"\"\"\n",
    "#     Compute:\n",
    "#     TMRCA: time to TMRCA of tree.\n",
    "#     TMRCA_half: time until at a clade consist of at least 50% of sample.\n",
    "#     Coal_half: time until at least half the sample is part of any subtree (have coalesced).\n",
    "#                Same as TMRCA_half but not requireing that they are in a single subtree.\n",
    "#     \"\"\"\n",
    "#     total_height, heights = node_heights(tree)\n",
    "#     total_leaves, leaf_counts = node_descendant_counts(tree)\n",
    "#     min_half = math.ceil(len(tree)/2)\n",
    "    \n",
    "#     coal_half = sorted(heights)[min_half - 2] # -2 because index 0 is the height where two has coalesced\n",
    "#     tmrca = max(heights)\n",
    "#     for lc, h in sorted(zip(leaf_counts, heights)):\n",
    "#         if lc >= min_half:\n",
    "#             tmrca_half = h\n",
    "#             break\n",
    "            \n",
    "#     return tmrca, tmrca_half, coal_half\n",
    "\n",
    "\n",
    "non_afr_leaves = list()\n",
    "for indiv, d in individuals.items():\n",
    "    if d['Region'] != 'Africa' and d['Genetic sex assignment'] == 'XY':\n",
    "#         non_afr_leaves.append(indiv + '-A')\n",
    "        non_afr_leaves.append(indiv)\n",
    "        \n",
    "def tree_stats(df, clade_indivs):\n",
    "    \n",
    "    clade_indivs = [x + '-A' for x in clade_indivs]\n",
    "    stats_list = list()\n",
    "    for row in df.itertuples():\n",
    "        tree_start, tree_end = int(row.start), int(row.end)\n",
    "        tree = Tree(row.tree)  \n",
    "        stats_list.append((tree_start, tree_end, *clade_tmrca(tree, clade_indivs)))\n",
    "    return DataFrame.from_records(stats_list, \n",
    "                                  columns=['tree_start', 'tree_end', \n",
    "#                                            'tmrca', 'tmrca_half', 'coal_half', 'non_afr_tmrca']\n",
    "                                           'sweep_tmrca', 'tmrca']\n",
    "                                 )"
   ]
  },
  {
   "cell_type": "code",
   "execution_count": 17,
   "metadata": {},
   "outputs": [],
   "source": [
    "def extract_region_tmrca_stats(peak_pos, win_start, win_end, prop_swept,swept_indivs):\n",
    "    tmpl = '/home/kmt/simons/faststorage/people/kmt/steps/argweaver/output/World/X-{:09d}-{:09d}.tsv.gz'\n",
    "    df_list = list()\n",
    "    for offset in range(0, win_end-win_start, 100000):\n",
    "        file_start, file_end = win_start + offset, win_start + offset + 100000\n",
    "        print('   ', file_start, file_end)\n",
    "        input_table_df = pandas.read_table(tmpl.format(file_start, file_end))\n",
    "        df = (input_table_df\n",
    "              .groupby(['chain', 'sample'])\n",
    "              .apply(tree_stats, clade_indivs=swept_indivs)\n",
    "              .reset_index()\n",
    "             )\n",
    "        df['peak_pos'] = peak_pos\n",
    "        df['prop_swept'] = prop_swept\n",
    "        df['win_start'] = win_start\n",
    "        df['win_end'] = win_end\n",
    "        df['file_start'] = file_start\n",
    "        df['file_end'] = file_end                                           \n",
    "        df_list.append(df)\n",
    "    return pandas.concat(df_list)"
   ]
  },
  {
   "cell_type": "code",
   "execution_count": null,
   "metadata": {},
   "outputs": [
    {
     "name": "stdout",
     "output_type": "stream",
     "text": [
      "    11100000 11200000\n"
     ]
    }
   ],
   "source": [
    "peak_pos_list, peak_start_list, peak_end_list, peak_prop_swept, \\\n",
    "        win_start_list, win_end_list, prop_swept_list, swept_indiv_lists = zip(*sweeps_for_dating)\n",
    "\n",
    "\n",
    "args_iter = zip(peak_pos_list, win_start_list, win_end_list, prop_swept_list, swept_indiv_lists)\n",
    "\n",
    "from multiprocessing import Pool, cpu_count\n",
    "with Pool(int(os.environ['SLURM_CPUS_PER_TASK'])) as p:\n",
    "    argweaver_sweep_tmrca = pandas.concat(p.starmap(extract_region_tmrca_stats, args_iter))"
   ]
  },
  {
   "cell_type": "code",
   "execution_count": null,
   "metadata": {},
   "outputs": [],
   "source": [
    "argweaver_sweep_tmrca.head()"
   ]
  },
  {
   "cell_type": "code",
   "execution_count": null,
   "metadata": {},
   "outputs": [],
   "source": [
    "argweaver_sweep_tmrca.to_hdf(results_dir / 'argweaver_sweep_tmrca.hdf', 'df', format=\"table\", mode='w') "
   ]
  },
  {
   "cell_type": "code",
   "execution_count": null,
   "metadata": {},
   "outputs": [],
   "source": [
    "#argweaver_sweep_tmrca = pandas.read_hdf(results_dir / 'argweaver_sweep_tmrca.hdf') "
   ]
  },
  {
   "cell_type": "markdown",
   "metadata": {},
   "source": [
    "We dicard the first 1000 steps of the Markov chain. As shown below, the two independent runs for each window produces very similar summary statistics."
   ]
  },
  {
   "cell_type": "code",
   "execution_count": null,
   "metadata": {},
   "outputs": [],
   "source": [
    "argweaver_tmrca_100kb = (argweaver_sweep_tmrca\n",
    "      .loc[lambda df: df['sample'] > 1000]\n",
    "      .groupby(['peak_pos', 'prop_swept', 'win_start', 'win_end', 'file_start', 'file_end', 'chain'])\n",
    "      .apply(lambda df: DataFrame({'tmrca': [numpy.average(df.tmrca, weights=df.tree_end-df.tree_start)],\n",
    "                                   'sweep_tmrca': [numpy.average(df.sweep_tmrca, weights=df.tree_end-df.tree_start)]}))      \n",
    "      .reset_index(level=['peak_pos', 'prop_swept', 'win_start', 'win_end', 'file_start', 'file_end', 'chain'])\n",
    "     )\n",
    "argweaver_tmrca_100kb.to_hdf(results_dir / 'argweaver_tmrca_100kb.hdf', 'df', format='table', mode='w')"
   ]
  },
  {
   "cell_type": "code",
   "execution_count": null,
   "metadata": {},
   "outputs": [],
   "source": [
    "argweaver_tmrca_100kb.head()"
   ]
  },
  {
   "cell_type": "markdown",
   "metadata": {},
   "source": [
    "The ARGweaver analysis uses a per generation mutation rate of 1.8e-8, wich assuming a generation time of 29 years, corresponds to a mutation rate per year of ~6e-10.\n",
    "\n",
    "Alternatively we could have assumed a generation time of 25 years and a mutation rate of 1.5e-8 producing the same per year mutation rate."
   ]
  },
  {
   "cell_type": "code",
   "execution_count": null,
   "metadata": {},
   "outputs": [],
   "source": [
    "def argweaver_gen_to_years(sr):\n",
    "    return sr * 29 # argweaver uses a per generation mutation rate of 1.8e-8\n",
    "#    return sr * 25 * 1.8e-8/1.5e-8"
   ]
  },
  {
   "cell_type": "code",
   "execution_count": null,
   "metadata": {},
   "outputs": [],
   "source": [
    "argweaver_tmrca_100kb[['sweep_tmrca', 'tmrca']].median().transform(argweaver_gen_to_years)"
   ]
  },
  {
   "cell_type": "code",
   "execution_count": null,
   "metadata": {},
   "outputs": [],
   "source": [
    "plot_df = (pandas\n",
    "           .melt(argweaver_tmrca_100kb, id_vars=['peak_pos', 'prop_swept', 'win_start', 'win_end', \n",
    "                                                 'file_start', 'file_end', 'chain'], \n",
    "                 value_vars=['sweep_tmrca', 'tmrca'])\n",
    "           .assign(years = lambda df: argweaver_gen_to_years(df.value))\n",
    "          )"
   ]
  },
  {
   "cell_type": "code",
   "execution_count": null,
   "metadata": {},
   "outputs": [],
   "source": [
    "g = sns.FacetGrid(data=plot_df, col='variable', hue='chain', sharex=False)\n",
    "g.map(sns.distplot, 'years').set_axis_labels(\"years\", \"\") ;"
   ]
  },
  {
   "cell_type": "markdown",
   "metadata": {},
   "source": [
    "Shows good correspondence between results from the two independends runs for each window."
   ]
  },
  {
   "cell_type": "code",
   "execution_count": null,
   "metadata": {},
   "outputs": [],
   "source": [
    "g = sns.distplot(plot_df.loc[lambda df: df.variable == 'sweep_tmrca'].years)\n",
    "g.set_xlim(0, 200000) ; "
   ]
  },
  {
   "cell_type": "markdown",
   "metadata": {},
   "source": [
    "It seems that the TMRCA of most 100kb windows in extended peaks are lower than our cutoff. That is expected and is probably mostly a direct result of how the windows are selected. You can compare to the distribution of pwdist of swept regions and see that they look quite similar."
   ]
  },
  {
   "cell_type": "code",
   "execution_count": null,
   "metadata": {},
   "outputs": [],
   "source": [
    "with sns.axes_style('whitegrid'):\n",
    "    g = sns.catplot(data=plot_df, x=\"win_start\", y=\"years\", \n",
    "                       row=\"variable\", hue='chain', kind='strip', height=3, aspect=3)\n",
    "    g.set_xticklabels(rotation=90)\n",
    "for ax in g.axes.flatten():\n",
    "    ax.grid()    \n",
    "#    ax.set_ylim(0, 120000)"
   ]
  },
  {
   "cell_type": "markdown",
   "metadata": {},
   "source": [
    "Looking at TMRCA for the individual 100kb windows there seem to be a good consistency across the swept regions. It also shows that some regions have windows with more than one sweep. For some regions this applies to the entire region."
   ]
  },
  {
   "cell_type": "code",
   "execution_count": null,
   "metadata": {},
   "outputs": [],
   "source": [
    "with sns.axes_style('whitegrid'):\n",
    "    g = sns.catplot(data=plot_df, x=\"win_start\", y=\"years\", \n",
    "                       hue=\"variable\", kind='strip', height=3, aspect=3)\n",
    "    g.set_xticklabels(rotation=90)\n",
    "for ax in g.axes.flatten():\n",
    "    ax.grid()    \n",
    "#    ax.set_ylim(0, 120000)"
   ]
  },
  {
   "cell_type": "markdown",
   "metadata": {},
   "source": [
    "If we assume that each region is one haplotype (except for the outliers), the TMRCA for the extended peak regions are distributed like this:"
   ]
  },
  {
   "cell_type": "code",
   "execution_count": null,
   "metadata": {},
   "outputs": [],
   "source": [
    "with sns.axes_style('whitegrid'):\n",
    "    g = sns.catplot(data=plot_df, x=\"win_start\", y=\"years\", \n",
    "                       row=\"variable\", hue='chain', kind='point', join=False, height=3, aspect=3, scale = 0.5)\n",
    "    g.set_xticklabels(rotation=90)\n",
    "for ax in g.axes.flatten():\n",
    "    ax.grid()    \n",
    "#    ax.set_ylim(0, 120000)"
   ]
  },
  {
   "cell_type": "markdown",
   "metadata": {},
   "source": [
    "Mean TMRCA for windows in each region:\n",
    "\n",
    "Grouping chains too:"
   ]
  },
  {
   "cell_type": "code",
   "execution_count": null,
   "metadata": {},
   "outputs": [],
   "source": [
    "with sns.axes_style('whitegrid'):\n",
    "    g = sns.catplot(data=plot_df, x=\"win_start\", y=\"years\", \n",
    "                        hue=\"variable\", kind='point', join=False, height=3, aspect=3, scale = 0.5)\n",
    "    g.set_xticklabels(rotation=90)\n",
    "    plt.ylim(0,)\n",
    "for ax in g.axes.flatten():\n",
    "    ax.grid()\n",
    "\n",
    "    # Punctuated bursts in human male demography inferred from 1,244 worldwide Y-chromosome sequences:\n",
    "    OoA = (76000 * 0.76) / 0.6 # 76000 years assuming 0.76e-9 mut rate (we use 0.6)\n",
    "    print(OoA)    \n",
    "    ax.axhline(OoA, color='red', linestyle='dotted', linewidth=1, zorder=1)\n",
    "\n",
    "    ax.axhline(45000, color='blue', linestyle='dotted', linewidth=1, zorder=1)\n",
    "    ax.axhline(55000, color='blue', linestyle='dotted', linewidth=1, zorder=1)\n",
    "\n",
    "    \n",
    "#    ax.set_ylim(0, 120000)\n",
    "\n",
    "plt.savefig(str(figures_dir / 'sweep_tmrca.pdf'))"
   ]
  },
  {
   "cell_type": "markdown",
   "metadata": {},
   "source": [
    "This tells us that for most sweeps the swept individuals in the extended peak regions do correspond to one clade with a TMRCA capped by the way we call sweeps. Some sweeps are higher, showing that these are either more than one sweep or that the `swept_indivs` include individuals that are not swept.\n",
    "\n",
    "This does not tells us anything useful about the dates other than they are as expected from the way we call sweeps.\n",
    "\n",
    "It *does* tell us that some very wide regions have an early TMRCA. It does *not* tell us that this can not be a the outcome of selecting low dist regions from a neutral system."
   ]
  },
  {
   "cell_type": "code",
   "execution_count": null,
   "metadata": {},
   "outputs": [],
   "source": [
    "plot_df2 = (plot_df[['win_start', 'win_end', 'variable', 'peak_pos', 'prop_swept', 'years']]\n",
    "            .groupby(['win_start', 'win_end', 'variable'])\n",
    "            .mean().reset_index()\n",
    "            \n",
    "           )\n",
    "plot_df2.head()"
   ]
  },
  {
   "cell_type": "code",
   "execution_count": null,
   "metadata": {},
   "outputs": [],
   "source": [
    "plot_df.head()"
   ]
  },
  {
   "cell_type": "markdown",
   "metadata": {},
   "source": [
    "## Table for SOM with TMRCA stats for each sweep"
   ]
  },
  {
   "cell_type": "code",
   "execution_count": null,
   "metadata": {},
   "outputs": [],
   "source": [
    "sweep_tmrca_stats = (plot_df2\n",
    " .set_index(['win_start', 'win_end', 'peak_pos', 'prop_swept', 'variable', ])\n",
    " .unstack()\n",
    " .reset_index(col_level=1)\n",
    " .reset_index(drop=True)\n",
    ")\n",
    "sweep_tmrca_stats.columns = sweep_tmrca_stats.columns.get_level_values(1)\n",
    "\n",
    "sweep_tmrca_stats.to_csv(results_dir / 'sweep_tmrca_stats.csv', index=False)\n"
   ]
  },
  {
   "cell_type": "code",
   "execution_count": null,
   "metadata": {},
   "outputs": [],
   "source": [
    "sweep_tmrca_stats"
   ]
  }
 ],
 "metadata": {
  "anaconda-cloud": {},
  "kernelspec": {
   "display_name": "Python 3",
   "language": "python",
   "name": "python3"
  },
  "language_info": {
   "codemirror_mode": {
    "name": "ipython",
    "version": 3
   },
   "file_extension": ".py",
   "mimetype": "text/x-python",
   "name": "python",
   "nbconvert_exporter": "python",
   "pygments_lexer": "ipython3",
   "version": "3.6.9"
  }
 },
 "nbformat": 4,
 "nbformat_minor": 4
}
