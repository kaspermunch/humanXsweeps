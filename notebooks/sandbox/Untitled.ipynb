{
 "cells": [
  {
   "cell_type": "code",
   "execution_count": 1,
   "metadata": {
    "collapsed": true
   },
   "outputs": [],
   "source": [
    "from ete3 import Tree, NodeStyle, TreeStyle, TextFace"
   ]
  },
  {
   "cell_type": "code",
   "execution_count": 2,
   "metadata": {
    "collapsed": true
   },
   "outputs": [],
   "source": [
    "%matplotlib inline\n",
    "\n",
    "# Make inline plots vector graphics instead of raster graphics\n",
    "from IPython.display import set_matplotlib_formats\n",
    "set_matplotlib_formats('pdf', 'svg')\n",
    "\n",
    "import matplotlib\n",
    "import matplotlib.pyplot as plt\n",
    "from matplotlib.colors import ListedColormap\n",
    "\n",
    "import mpld3\n",
    "\n",
    "#matplotlib.rcParams['figure.figsize'] = (20.0, 10.0)\n",
    "\n",
    "import seaborn as sns\n",
    "sns.set_style(\"whitegrid\")\n",
    "sns.set_context(\"paper\")\n",
    "\n",
    "# lowess for plotting\n",
    "from statsmodels.nonparametric.smoothers_lowess import lowess"
   ]
  },
  {
   "cell_type": "code",
   "execution_count": 38,
   "metadata": {},
   "outputs": [
    {
     "name": "stdout",
     "output_type": "stream",
     "text": [
      "\n",
      "      /-A\n",
      "   /Q|\n",
      "  |   \\-W\n",
      "-Z|\n",
      "  |   /-B\n",
      "   \\Y|\n",
      "     |   /-E\n",
      "      \\X|\n",
      "         \\-D\n",
      "\n",
      "      /-A\n",
      "   /Q|\n",
      "-Z|   \\-W\n",
      "  |\n",
      "   \\-B\n"
     ]
    }
   ],
   "source": [
    "\n",
    "\n",
    "t = Tree(\"((A:2, W:2)Q:4,(B:3,(E:1,D:1)X:2)Y:3)Z;\", format=1)\n",
    "\n",
    "print(t.get_ascii(show_internal=True))\n",
    "t.prune(['A','W', 'B'])\n",
    "print(t.get_ascii(show_internal=True))\n",
    "\n",
    "\n",
    "#t.render(\"%%inline\")"
   ]
  },
  {
   "cell_type": "code",
   "execution_count": null,
   "metadata": {
    "collapsed": true
   },
   "outputs": [],
   "source": [
    "delete(prevent_nondicotomic=True, preserve_branch_length=False)"
   ]
  },
  {
   "cell_type": "code",
   "execution_count": 81,
   "metadata": {},
   "outputs": [],
   "source": [
    "s = '(((((((((((S_Jordanian-3-A:232.1,S_Oroqen-1-A:232.1):163.4,((S_Altaian-1-A:232.1,S_Luhya-2-A:232.1):0.0,S_Quechua-2-A:232.1):163.4):607.4,(((S_Brahmin-2-A:49.2,S_Czech-2-A:49.2):0.0,S_Jordanian-2-A:49.2):346.3,S_Finnish-2-A:395.4):607.4):0.0,((((S_Bulgarian-1-A:49.2,S_Papuan-5-A:49.2):182.9,(S_Georgian-2-A:0.0,S_Saharawi-2-A:0.0):232.1):0.0,S_BantuTswana-2-A:232.1):770.7,((((S_Dai-2-A:232.1,S_Naxi-1-A:232.1):0.0,S_Papuan-6-A:232.1):407.1,(((((((S_Papuan-12-A:49.2,S_Xibo-1-A:49.2):73.4,S_Papuan-2-A:122.6):0.0,S_Papuan-7-A:122.6):0.0,S_Bergamo-1-A:122.6):0.0,S_Papuan-11-A:122.6):0.0,((S_Armenian-2-A:49.2,S_Papuan-8-A:49.2):73.4,S_Brahmin-1-A:122.6):0.0):272.9,((S_Brahui-1-A:49.2,S_Madiga-1-A:49.2):182.9,S_BedouinB-1-A:232.1):163.4):243.7):363.6,((S_Estonian-1-A:639.2,S_Yemenite_Jew-2-A:639.2):0.0,S_Esan-1-A:639.2):363.6):0.0):0.0):1351.9,S_Zapotec-1-A:2354.7):0.0,(((((S_Ju_hoan_North-3-A:49.2,S_Russian-1-A:49.2):182.9,S_Iraqi_Jew-2-A:232.1):0.0,(B_Crete-2-A:49.2,S_Chechen-1-A:49.2):182.9):0.0,S_Greek-1-A:232.1):1313.2,(((((S_Japanese-3-A:0.0,S_Kyrgyz-1-A:0.0):49.2,S_Kapu-1-A:49.2):73.4,S_Adygei-1-A:122.6):516.6,(S_Mbuti-1-A:49.2,S_Tujia-1-A:49.2):590.0):906.1,(((((S_Kalash-1-A:122.6,S_Punjabi-2-A:122.6):0.0,S_Sardinian-1-A:122.6):272.9,S_Saharawi-1-A:395.4):1149.9,S_Ju_hoan_North-2-A:1545.3):0.0,S_Punjabi-1-A:1545.3):0.0):0.0):809.4):1207.6,(((((((S_Mansi-1-A:0.0,S_Mozabite-1-A:0.0):49.2,S_Hawaiian-1-A:49.2):0.0,S_Lahu-2-A:49.2):73.4,(S_Korean-1-A:122.6,S_Yadava-2-A:122.6):0.0):516.6,(S_Masai-2-A:395.4,S_Mende-1-A:395.4):243.7):906.1,(((S_Aleut-1-A:122.6,S_Kusunda-2-A:122.6):0.0,S_Burmese-1-A:122.6):109.5,S_Chane-1-A:232.1):1313.2):809.4,((S_Dinka-2-A:1002.8,S_Masai-1-A:1002.8):542.5,((B_French-3-A:122.6,S_Tlingit-1-A:122.6):272.9,(((S_Abkhasian-1-A:49.2,S_Khonda_Dora-1-A:49.2):346.3,S_Pima-1-A:395.4):0.0,((((S_Hazara-2-A:0.0,S_Madiga-2-A:0.0):49.2,S_Makrani-1-A:49.2):182.9,S_Tu-1-A:232.1):0.0,((S_Ami-2-A:49.2,S_Papuan-4-A:49.2):182.9,B_Han-3-A:232.1):0.0):163.4):0.0):1149.9):809.4):1207.6):0.0,(S_Bengali-1-A:49.2,S_Burmese-2-A:49.2):3513.1):1801.6,((((((S_Igorot-2-A:232.1,S_Maori-1-A:232.1):163.4,S_Yi-1-A:395.4):0.0,((((S_Balochi-2-A:49.2,S_Orcadian-1-A:49.2):182.9,(((S_Irula-2-A:0.0,S_Tuscan-2-A:0.0):49.2,(B_Papuan-15-A:0.0,S_Atayal-1-A:0.0):49.2):0.0,S_Papuan-10-A:49.2):182.9):163.4,S_BantuHerero-2-A:395.4):0.0,((B_Dai-4-A:232.1,S_Tajik-2-A:232.1):163.4,S_Jordanian-1-A:395.4):0.0):0.0):0.0,S_Basque-1-A:395.4):1149.9,((B_Sardinian-3-A:49.2,S_Bulgarian-2-A:49.2):346.3,S_Yadava-1-A:395.4):1149.9):809.4,(((((((S_Estonian-2-A:122.6,S_North_Ossetian-2-A:122.6):272.9,(B_Australian-4-A:49.2,S_Tajik-1-A:49.2):346.3):607.4,(S_Finnish-3-A:232.1,S_Luo-1-A:232.1):770.7):0.0,S_Armenian-1-A:1002.8):542.5,S_Druze-2-A:1545.3):0.0,(((((B_Karitiana-3-A:49.2,S_Mongola-1-A:49.2):0.0,S_Papuan-3-A:49.2):590.0,((S_Mixtec-1-A:49.2,S_Zapotec-2-A:49.2):73.4,(S_BantuHerero-1-A:49.2,S_Spanish-1-A:49.2):73.4):516.6):363.6,S_Kapu-2-A:1002.8):542.5,((((S_Pathan-1-A:232.1,S_Yoruba-2-A:232.1):0.0,S_Kusunda-1-A:232.1):407.1,(B_Yoruba-3-A:122.6,S_Hungarian-2-A:122.6):516.6):906.1,((S_Relli-2-A:49.2,S_Samaritan-1-A:49.2):73.4,S_Biaka-2-A:122.6):1422.7):0.0):0.0):809.4,S_Georgian-1-A:2354.7):0.0):3009.1):6698.0,((((S_Balochi-1-A:122.6,S_Xibo-2-A:122.6):1422.7,(S_Abkhasian-2-A:122.6,S_Turkish-1-A:122.6):1422.7):809.4,(((B_Ju_hoan_North-4-A:122.6,S_Thai-1-A:122.6):880.2,((S_Hazara-1-A:639.2,S_Karitiana-1-A:639.2):0.0,(((S_Eskimo_Chaplin-1-A:232.1,S_Uygur-2-A:232.1):407.1,(B_Mbuti-4-A:232.1,S_Eskimo_Sireniki-1-A:232.1):407.1):0.0,S_Miao-1-A:639.2):0.0):363.6):542.5,S_Irula-1-A:1545.3):809.4):1207.6,((((S_Burusho-1-A:122.6,S_Even-2-A:122.6):516.6,(((B_Mandenka-3-A:232.1,S_English-1-A:232.1):0.0,(S_Ju_hoan_North-1-A:49.2,S_Relli-1-A:49.2):182.9):163.4,(S_Biaka-1-A:232.1,S_Dinka-1-A:232.1):163.4):243.7):0.0,((S_Ami-1-A:49.2,S_Iranian-1-A:49.2):73.4,S_Mala-3-A:122.6):516.6):906.1,(((S_Lezgin-2-A:122.6,S_Yakut-2-A:122.6):0.0,S_Mbuti-3-A:122.6):880.2,B_Dinka-3-A:1002.8):542.5):2016.9):8499.6[&&NHX:recomb_time=8051.7]):5982.8,((((S_Gambian-1-A:0.0,S_Iranian-2-A:0.0):49.2,S_Greek-2-A:49.2):590.0,((S_Kinh-2-A:49.2,S_Palestinian-1-A:49.2):0.0,S_Polish-1-A:49.2):590.0):1715.5,((((S_Saami-2-A:49.2,S_She-2-A:49.2):0.0,(((S_Cambodian-1-A:0.0,S_Chukchi-1-A:0.0):49.2,S_Mala-2-A:49.2):0.0,S_Papuan-9-A:49.2):0.0):182.9,(S_BantuKenya-1-A:232.1,S_Mandenka-1-A:232.1):0.0):163.4,((((((S_Brahui-2-A:49.2,S_Han-2-A:49.2):0.0,S_Hezhen-1-A:49.2):0.0,S_Sindhi-1-A:49.2):0.0,(S_Japanese-1-A:49.2,S_North_Ossetian-1-A:49.2):0.0):0.0,S_French-1-A:49.2):73.4,S_BantuTswana-1-A:122.6):272.9):1959.3):15689.9)[&&NHX:coal_time=40287.6];'\n",
    "included = ['S_Jordanian-3-A', 'S_Oroqen-1-A', 'S_Altaian-1-A', 'S_Quechua-2-A', 'S_Brahmin-2-A', 'S_Czech-2-A', 'S_Jordanian-2-A', 'S_Finnish-2-A', 'S_Bulgarian-1-A', 'S_Papuan-5-A', 'S_Georgian-2-A', 'S_BantuTswana-2-A', 'S_Dai-2-A', 'S_Naxi-1-A', 'S_Papuan-6-A', 'S_Papuan-12-A', 'S_Xibo-1-A', 'S_Papuan-2-A', 'S_Papuan-7-A', 'S_Bergamo-1-A', 'S_Papuan-11-A', 'S_Armenian-2-A', 'S_Papuan-8-A', 'S_Brahmin-1-A', 'S_Brahui-1-A', 'S_Madiga-1-A', 'S_BedouinB-1-A', 'S_Estonian-1-A', 'S_Yemenite_Jew-2-A', 'S_Esan-1-A', 'S_Zapotec-1-A', 'S_Ju_hoan_North-3-A', 'S_Russian-1-A', 'S_Iraqi_Jew-2-A', 'B_Crete-2-A', 'S_Chechen-1-A', 'S_Greek-1-A', 'S_Japanese-3-A', 'S_Kyrgyz-1-A', 'S_Kapu-1-A', 'S_Adygei-1-A', 'S_Mbuti-1-A', 'S_Tujia-1-A', 'S_Kalash-1-A', 'S_Punjabi-2-A', 'S_Sardinian-1-A', 'S_Ju_hoan_North-2-A', 'S_Punjabi-1-A', 'S_Mansi-1-A', 'S_Hawaiian-1-A', 'S_Lahu-2-A', 'S_Korean-1-A', 'S_Yadava-2-A', 'S_Mende-1-A', 'S_Aleut-1-A', 'S_Kusunda-2-A', 'S_Burmese-1-A', 'S_Chane-1-A', 'S_Dinka-2-A', 'B_French-3-A', 'S_Tlingit-1-A', 'S_Abkhasian-1-A', 'S_Khonda_Dora-1-A', 'S_Pima-1-A', 'S_Hazara-2-A', 'S_Madiga-2-A', 'S_Makrani-1-A', 'S_Tu-1-A', 'S_Ami-2-A', 'S_Papuan-4-A', 'B_Han-3-A', 'S_Bengali-1-A', 'S_Burmese-2-A', 'S_Igorot-2-A', 'S_Maori-1-A', 'S_Yi-1-A', 'S_Balochi-2-A', 'S_Orcadian-1-A', 'S_Irula-2-A', 'S_Tuscan-2-A', 'B_Papuan-15-A', 'S_Atayal-1-A', 'S_Papuan-10-A', 'S_BantuHerero-2-A', 'B_Dai-4-A', 'S_Tajik-2-A', 'S_Jordanian-1-A', 'S_Basque-1-A', 'B_Sardinian-3-A', 'S_Bulgarian-2-A', 'S_Yadava-1-A', 'S_Estonian-2-A', 'S_North_Ossetian-2-A', 'B_Australian-4-A', 'S_Tajik-1-A', 'S_Finnish-3-A', 'S_Armenian-1-A', 'S_Druze-2-A', 'B_Karitiana-3-A', 'S_Mongola-1-A', 'S_Papuan-3-A', 'S_Mixtec-1-A', 'S_Zapotec-2-A', 'S_BantuHerero-1-A', 'S_Spanish-1-A', 'S_Kapu-2-A', 'S_Pathan-1-A', 'S_Yoruba-2-A', 'S_Kusunda-1-A', 'B_Yoruba-3-A', 'S_Hungarian-2-A', 'S_Relli-2-A', 'S_Samaritan-1-A', 'S_Biaka-2-A', 'S_Georgian-1-A', 'S_Balochi-1-A', 'S_Xibo-2-A', 'S_Abkhasian-2-A', 'S_Turkish-1-A', 'B_Ju_hoan_North-4-A', 'S_Thai-1-A', 'S_Hazara-1-A', 'S_Karitiana-1-A', 'S_Eskimo_Chaplin-1-A', 'S_Uygur-2-A', 'B_Mbuti-4-A', 'S_Eskimo_Sireniki-1-A', 'S_Miao-1-A', 'S_Irula-1-A', 'S_Burusho-1-A', 'S_Even-2-A', 'B_Mandenka-3-A', 'S_English-1-A', 'S_Ju_hoan_North-1-A', 'S_Relli-1-A', 'S_Biaka-1-A', 'S_Dinka-1-A', 'S_Ami-1-A', 'S_Iranian-1-A', 'S_Mala-3-A', 'S_Lezgin-2-A', 'S_Yakut-2-A', 'S_Mbuti-3-A', 'B_Dinka-3-A', 'S_Gambian-1-A', 'S_Iranian-2-A', 'S_Greek-2-A', 'S_Kinh-2-A', 'S_Palestinian-1-A', 'S_Polish-1-A', 'S_Saami-2-A', 'S_She-2-A', 'S_Cambodian-1-A', 'S_Chukchi-1-A', 'S_Mala-2-A', 'S_Papuan-9-A', 'S_Mandenka-1-A', 'S_Brahui-2-A', 'S_Han-2-A', 'S_Hezhen-1-A', 'S_Sindhi-1-A', 'S_Japanese-1-A', 'S_North_Ossetian-1-A', 'S_French-1-A', 'S_BantuTswana-1-A']\n"
   ]
  },
  {
   "cell_type": "code",
   "execution_count": null,
   "metadata": {
    "collapsed": true
   },
   "outputs": [],
   "source": [
    "(((((((((((S_Jordanian-3-A:232.1,S_Oroqen-1-A:232.1)1:163.4,(S_Quechua-2-A:232.1,S_Altaian-1-A:232.1)1:163.4)1:607.4,(((S_Brahmin-2-A:49.2,S_Czech-2-A:49.2)1:0,S_Jordanian-2-A:49.2)1:346.3,S_Finnish-2-A:395.4)1:607.4)1:0,((((S_Bulgarian-1-A:49.2,S_Papuan-5-A:49.2)1:182.9,S_Georgian-2-A:0    )1:0,S_BantuTswana-2-A:232.1)1:770.7,((((S_Dai-2-A:232.1,S_Naxi-1-A:232.1)1:0,S_Papuan-6-A:232.1)1:407.1,(((((((S_Papuan-12-A:49.2,S_Xibo-1-A:49.2)1:73.4,S_Papuan-2-A:122.6)1:0,S_Papuan-7-A:122.6)1:0,S_Bergamo-1-A:122.6)1:0,S_Papuan-11-A:122.6)1:0,((S_Armenian-2-A:49.2,S_Papuan-8-A:49.2)1:73.4,S_Brahmin-1-A:122.6)1:0)1:272.9,((S_Brahui-1-A:49.2,S_Madiga-1-A:49.2)1:182.9,S_BedouinB-1-A:232.1)1:163.4)1:243.7)1:363.6,((S_Estonian-1-A:639.2,S_Yemenite_Jew-2-A:639.2)1:0,S_Esan-1-A:639.2)1:363.6)1:0)1:0)1:1351.9,S_Zapotec-1-A:2354.7)1:0,(((((S_Ju_hoan_North-3-A:49.2,S_Russian-1-A:49.2)1:182.9,S_Iraqi_Jew-2-A:232.1)1:0,(B_Crete-2-A:49.2,S_Chechen-1-A:49.2)1:182.9)1:0,S_Greek-1-A:232.1)1:1313.2,(((((S_Japanese-3-A:0,S_Kyrgyz-1-A:0)1:49.2,S_Kapu-1-A:49.2)1:73.4,S_Adygei-1-A:122.6)1:516.6,(S_Mbuti-1-A:49.2,S_Tujia-1-A:49.2)1:590)1:906.1,((S_Ju_hoan_North-2-A:1545.3,((S_Kalash-1-A:122.6,S_Punjabi-2-A:122.6)1:0,S_Sardinian-1-A:122.6)1:272.9)1:0,S_Punjabi-1-A:1545.3)1:0)1:0)1:809.4)1:1207.6,((((((S_Hawaiian-1-A:49.2,S_Mansi-1-A:0   )1:0,S_Lahu-2-A:49.2)1:73.4,(S_Korean-1-A:122.6,S_Yadava-2-A:122.6)1:0)1:516.6,S_Mende-1-A:395.4)1:906.1,(((S_Aleut-1-A:122.6,S_Kusunda-2-A:122.6)1:0,S_Burmese-1-A:122.6)1:109.5,S_Chane-1-A:232.1)1:1313.2)1:809.4,(((B_French-3-A:122.6,S_Tlingit-1-A:122.6)1:272.9,(((S_Abkhasian-1-A:49.2,S_Khonda_Dora-1-A:49.2)1:346.3,S_Pima-1-A:395.4)1:0,((((S_Hazara-2-A:0,S_Madiga-2-A:0)1:49.2,S_Makrani-1-A:49.2)1:182.9,S_Tu-1-A:232.1)1:0,((S_Ami-2-A:49.2,S_Papuan-4-A:49.2)1:182.9,B_Han-3-A:232.1)1:0)1:163.4)1:0)1:1149.9,S_Dinka-2-A:1002.8)1:809.4)1:1207.6)1:0,(S_Bengali-1-A:49.2,S_Burmese-2-A:49.2)1:3513.1)1:1801.6,((((((S_Igorot-2-A:232.1,S_Maori-1-A:232.1)1:163.4,S_Yi-1-A:395.4)1:0,((((S_Balochi-2-A:49.2,S_Orcadian-1-A:49.2)1:182.9,(((S_Irula-2-A:0,S_Tuscan-2-A:0)1:49.2,(B_Papuan-15-A:0,S_Atayal-1-A:0)1:49.2)1:0,S_Papuan-10-A:49.2)1:182.9)1:163.4,S_BantuHerero-2-A:395.4)1:0,((B_Dai-4-A:232.1,S_Tajik-2-A:232.1)1:163.4,S_Jordanian-1-A:395.4)1:0)1:0)1:0,S_Basque-1-A:395.4)1:1149.9,((B_Sardinian-3-A:49.2,S_Bulgarian-2-A:49.2)1:346.3,S_Yadava-1-A:395.4)1:1149.9)1:809.4,(((((((S_Estonian-2-A:122.6,S_North_Ossetian-2-A:122.6)1:272.9,(B_Australian-4-A:49.2,S_Tajik-1-A:49.2)1:346.3)1:607.4,S_Finnish-3-A:232.1)1:0,S_Armenian-1-A:1002.8)1:542.5,S_Druze-2-A:1545.3)1:0,(((((B_Karitiana-3-A:49.2,S_Mongola-1-A:49.2)1:0,S_Papuan-3-A:49.2)1:590, ((S_Mixtec-1-A:49.2,S_Zapotec-2-A:49.2)1:73.4,(S_BantuHerero-1-A:49.2,S_Spanish-1-A:49.2)1:73.4)1:516.6)1:363.6,S_Kapu-2-A:1002.8)1:542.5,((((S_Pathan-1-A:232.1,S_Yoruba-2-A:232.1)1:0,S_Kusunda-1-A:232.1)1:407.1,(B_Yoruba-3-A:122.6,S_Hungarian-2-A:122.6)1:516.6)1:906.1,((S_Relli-2-A:49.2,S_Samaritan-1-A:49.2)1:73.4,S_Biaka-2-A:122.6)1:1422.7)1:0)1:0)1:809.4,S_Georgian-1-A:2354.7)1:0)1:3009.1)1:6698,((((S_Balochi-1-A:122.6,S_Xibo-2-A:122.6)1:1422.7,(S_Abkhasian-2-A:122.6,S_Turkish-1-A:122.6)1:1422.7)1:809.4,(((B_Ju_hoan_North-4-A:122.6,S_Thai-1-A:122.6)1:880.2,((S_Hazara-1-A:639.2,S_Karitiana-1-A:639.2)1:0,(((S_Eskimo_Chaplin-1-A:232.1,S_Uygur-2-A:232.1)1:407.1,(B_Mbuti-4-A:232.1,S_Eskimo_Sireniki-1-A:232.1)1:407.1)1:0,S_Miao-1-A:639.2)1:0)1:363.6)1:542.5,S_Irula-1-A:1545.3)1:809.4)1:1207.6,((((S_Burusho-1-A:122.6,S_Even-2-A:122.6)1:516.6,(((B_Mandenka-3-A:232.1,S_English-1-A:232.1)1:0,(S_Ju_hoan_North-1-A:49.2,S_Relli-1-A:49.2)1:182.9)1:163.4,(S_Biaka-1-A:232.1,S_Dinka-1-A:232.1)1:163.4)1:243.7)1:0,((S_Ami-1-A:49.2,S_Iranian-1-A:49.2)1:73.4,S_Mala-3-A:122.6)1:516.6)1:906.1,(((S_Lezgin-2-A:122.6,S_Yakut-2-A:122.6)1:0,S_Mbuti-3-A:122.6)1:880.2,B_Dinka-3-A:1002.8)1:542.5)1:2016.9)1:8499.6)1:5982.8,((((S_Gambian-1-A:0,S_Iranian-2-A:0)1:49.2,S_Greek-2-A:49.2)1:590,((S_Kinh-2-A:49.2,S_Palestinian-1-A:49.2)1:0,S_Polish-1-A:49.2)1:590)1:1715.5,((((S_Saami-2-A:49.2,S_She-2-A:49.2)1:0,(((S_Cambodian-1-A:0,S_Chukchi-1-A:0)1:49.2,S_Mala-2-A:49.2)1:0,S_Papuan-9-A:49.2)1:0)1:182.9,S_Mandenka-1-A:232.1)1:163.4,((((((S_Brahui-2-A:49.2,S_Han-2-A:49.2)1:0,S_Hezhen-1-A:49.2)1:0,S_Sindhi-1-A:49.2)1:0,(S_Japanese-1-A:49.2,S_North_Ossetian-1-A:49.2)1:0)1:0,S_French-1-A:49.2)1:73.4,S_BantuTswana-1-A:122.6)1:272.9)1:1959.3)1:15689.9);\n",
    "(((((((((((S_Jordanian-3-A:232.1,S_Oroqen-1-A:232.1)1:163.4,(S_Quechua-2-A:232.1,S_Altaian-1-A:232.1)1:163.4)1:607.4,(((S_Brahmin-2-A:49.2,S_Czech-2-A:49.2)1:0,S_Jordanian-2-A:49.2)1:346.3,S_Finnish-2-A:395.4)1:607.4)1:0,((((S_Bulgarian-1-A:49.2,S_Papuan-5-A:49.2)1:182.9,S_Georgian-2-A:232.1)1:0,S_BantuTswana-2-A:232.1)1:770.7,((((S_Dai-2-A:232.1,S_Naxi-1-A:232.1)1:0,S_Papuan-6-A:232.1)1:407.1,(((((((S_Papuan-12-A:49.2,S_Xibo-1-A:49.2)1:73.4,S_Papuan-2-A:122.6)1:0,S_Papuan-7-A:122.6)1:0,S_Bergamo-1-A:122.6)1:0,S_Papuan-11-A:122.6)1:0,((S_Armenian-2-A:49.2,S_Papuan-8-A:49.2)1:73.4,S_Brahmin-1-A:122.6)1:0)1:272.9,((S_Brahui-1-A:49.2,S_Madiga-1-A:49.2)1:182.9,S_BedouinB-1-A:232.1)1:163.4)1:243.7)1:363.6,((S_Estonian-1-A:639.2,S_Yemenite_Jew-2-A:639.2)1:0,S_Esan-1-A:639.2)1:363.6)1:0)1:0)1:1351.9,S_Zapotec-1-A:2354.7)1:0,(((((S_Ju_hoan_North-3-A:49.2,S_Russian-1-A:49.2)1:182.9,S_Iraqi_Jew-2-A:232.1)1:0,(B_Crete-2-A:49.2,S_Chechen-1-A:49.2)1:182.9)1:0,S_Greek-1-A:232.1)1:1313.2,(((((S_Japanese-3-A:0,S_Kyrgyz-1-A:0)1:49.2,S_Kapu-1-A:49.2)1:73.4,S_Adygei-1-A:122.6)1:516.6,(S_Mbuti-1-A:49.2,S_Tujia-1-A:49.2)1:590)1:906.1,((S_Ju_hoan_North-2-A:1545.3, (S_Kalash-1-A:122.6,S_Punjabi-2-A:122.6)1:0,S_Sardinian-1-A:122.6)1:1422.8,   S_Punjabi-1-A:1545.3)1:0)1:0)1:809.4)1:1207.6,((((((S_Hawaiian-1-A:49.2,S_Mansi-1-A:49.2)1:0,S_Lahu-2-A:49.2)1:73.4,(S_Korean-1-A:122.6,S_Yadava-2-A:122.6)1:0)1:516.6,S_Mende-1-A:639.1)1:906.1,(((S_Aleut-1-A:122.6,S_Kusunda-2-A:122.6)1:0,S_Burmese-1-A:122.6)1:109.5,S_Chane-1-A:232.1)1:1313.2)1:809.4,(((B_French-3-A:122.6,S_Tlingit-1-A:122.6)1:272.9,(((S_Abkhasian-1-A:49.2,S_Khonda_Dora-1-A:49.2)1:346.3,S_Pima-1-A:395.4)1:0,((((S_Hazara-2-A:0,S_Madiga-2-A:0)1:49.2,S_Makrani-1-A:49.2)1:182.9,S_Tu-1-A:232.1)1:0,((S_Ami-2-A:49.2,S_Papuan-4-A:49.2)1:182.9,B_Han-3-A:232.1)1:0)1:163.4)1:0)1:1149.9,S_Dinka-2-A:1545.3)1:809.4)1:1207.6)1:0,(S_Bengali-1-A:49.2,S_Burmese-2-A:49.2)1:3513.1)1:1801.6,((((((S_Igorot-2-A:232.1,S_Maori-1-A:232.1)1:163.4,S_Yi-1-A:395.4)1:0,((((S_Balochi-2-A:49.2,S_Orcadian-1-A:49.2)1:182.9,(((S_Irula-2-A:0,S_Tuscan-2-A:0)1:49.2,(B_Papuan-15-A:0,S_Atayal-1-A:0)1:49.2)1:0,S_Papuan-10-A:49.2)1:182.9)1:163.4,S_BantuHerero-2-A:395.4)1:0,((B_Dai-4-A:232.1,S_Tajik-2-A:232.1)1:163.4,S_Jordanian-1-A:395.4)1:0)1:0)1:0,S_Basque-1-A:395.4)1:1149.9,((B_Sardinian-3-A:49.2,S_Bulgarian-2-A:49.2)1:346.3,S_Yadava-1-A:395.4)1:1149.9)1:809.4,(((((((S_Estonian-2-A:122.6,S_North_Ossetian-2-A:122.6)1:272.9,(B_Australian-4-A:49.2,S_Tajik-1-A:49.2)1:346.3)1:607.4,S_Finnish-3-A:1002.8)1:0,S_Armenian-1-A:1002.8)1:542.5,S_Druze-2-A:1545.3)1:0,(((((B_Karitiana-3-A:49.2,S_Mongola-1-A:49.2)1:0,S_Papuan-3-A:49.2)1:590,((S_Mixtec-1-A:49.2,S_Zapotec-2-A:49.2)1:73.4,(S_BantuHerero-1-A:49.2,S_Spanish-1-A:49.2)1:73.4)1:516.6)1:363.6,S_Kapu-2-A:1002.8)1:542.5,((((S_Pathan-1-A:232.1,S_Yoruba-2-A:232.1)1:0,S_Kusunda-1-A:232.1)1:407.1,(B_Yoruba-3-A:122.6,S_Hungarian-2-A:122.6)1:516.6)1:906.1,((S_Relli-2-A:49.2,S_Samaritan-1-A:49.2)1:73.4,S_Biaka-2-A:122.6)1:1422.7)1:0)1:0)1:809.4,S_Georgian-1-A:2354.7)1:0)1:3009.1)1:6698,((((S_Balochi-1-A:122.6,S_Xibo-2-A:122.6)1:1422.7,(S_Abkhasian-2-A:122.6,S_Turkish-1-A:122.6)1:1422.7)1:809.4,(((B_Ju_hoan_North-4-A:122.6,S_Thai-1-A:122.6)1:880.2,((S_Hazara-1-A:639.2,S_Karitiana-1-A:639.2)1:0,(((S_Eskimo_Chaplin-1-A:232.1,S_Uygur-2-A:232.1)1:407.1,(B_Mbuti-4-A:232.1,S_Eskimo_Sireniki-1-A:232.1)1:407.1)1:0,S_Miao-1-A:639.2)1:0)1:363.6)1:542.5,S_Irula-1-A:1545.3)1:809.4)1:1207.6,((((S_Burusho-1-A:122.6,S_Even-2-A:122.6)1:516.6,(((B_Mandenka-3-A:232.1,S_English-1-A:232.1)1:0,(S_Ju_hoan_North-1-A:49.2,S_Relli-1-A:49.2)1:182.9)1:163.4,(S_Biaka-1-A:232.1,S_Dinka-1-A:232.1)1:163.4)1:243.7)1:0,((S_Ami-1-A:49.2,S_Iranian-1-A:49.2)1:73.4,S_Mala-3-A:122.6)1:516.6)1:906.1,(((S_Lezgin-2-A:122.6,S_Yakut-2-A:122.6)1:0,S_Mbuti-3-A:122.6)1:880.2,B_Dinka-3-A:1002.8)1:542.5)1:2016.9)1:8499.6)1:5982.8,((((S_Gambian-1-A:0,S_Iranian-2-A:0)1:49.2,S_Greek-2-A:49.2)1:590,((S_Kinh-2-A:49.2,S_Palestinian-1-A:49.2)1:0,S_Polish-1-A:49.2)1:590)1:1715.5,((((S_Saami-2-A:49.2,S_She-2-A:49.2)1:0,(((S_Cambodian-1-A:0,S_Chukchi-1-A:0)1:49.2,S_Mala-2-A:49.2)1:0,S_Papuan-9-A:49.2)1:0)1:182.9,S_Mandenka-1-A:232.1)1:163.4,((((((S_Brahui-2-A:49.2,S_Han-2-A:49.2)1:0,S_Hezhen-1-A:49.2)1:0,S_Sindhi-1-A:49.2)1:0,(S_Japanese-1-A:49.2,S_North_Ossetian-1-A:49.2)1:0)1:0,S_French-1-A:49.2)1:73.4,S_BantuTswana-1-A:122.6)1:272.9)1:1959.3)1:15689.9);\n",
    "\n",
    "\n"
   ]
  },
  {
   "cell_type": "code",
   "execution_count": 95,
   "metadata": {
    "scrolled": false
   },
   "outputs": [
    {
     "name": "stdout",
     "output_type": "stream",
     "text": [
      "(((((((((((S_Jordanian-3-A:232.1,S_Oroqen-1-A:232.1)1:163.4,(S_Quechua-2-A:232.1,S_Altaian-1-A:232.1)1:163.4)1:607.4,(((S_Brahmin-2-A:49.2,S_Czech-2-A:49.2)1:0,S_Jordanian-2-A:49.2)1:346.3,S_Finnish-2-A:395.4)1:607.4)1:0,((((S_Bulgarian-1-A:49.2,S_Papuan-5-A:49.2)1:182.9,S_Georgian-2-A:232.1)1:0,S_BantuTswana-2-A:232.1)1:770.7,((((S_Dai-2-A:232.1,S_Naxi-1-A:232.1)1:0,S_Papuan-6-A:232.1)1:407.1,(((((((S_Papuan-12-A:49.2,S_Xibo-1-A:49.2)1:73.4,S_Papuan-2-A:122.6)1:0,S_Papuan-7-A:122.6)1:0,S_Bergamo-1-A:122.6)1:0,S_Papuan-11-A:122.6)1:0,((S_Armenian-2-A:49.2,S_Papuan-8-A:49.2)1:73.4,S_Brahmin-1-A:122.6)1:0)1:272.9,((S_Brahui-1-A:49.2,S_Madiga-1-A:49.2)1:182.9,S_BedouinB-1-A:232.1)1:163.4)1:243.7)1:363.6,((S_Estonian-1-A:639.2,S_Yemenite_Jew-2-A:639.2)1:0,S_Esan-1-A:639.2)1:363.6)1:0)1:0)1:1351.9,S_Zapotec-1-A:2354.7)1:0,(((((S_Ju_hoan_North-3-A:49.2,S_Russian-1-A:49.2)1:182.9,S_Iraqi_Jew-2-A:232.1)1:0,(B_Crete-2-A:49.2,S_Chechen-1-A:49.2)1:182.9)1:0,S_Greek-1-A:232.1)1:1313.2,(((((S_Japanese-3-A:0,S_Kyrgyz-1-A:0)1:49.2,S_Kapu-1-A:49.2)1:73.4,S_Adygei-1-A:122.6)1:516.6,(S_Mbuti-1-A:49.2,S_Tujia-1-A:49.2)1:590)1:906.1,((S_Ju_hoan_North-2-A:1545.3,(S_Kalash-1-A:122.6,S_Punjabi-2-A:122.6)1:0,S_Sardinian-1-A:122.6)1:1422.8,S_Punjabi-1-A:1545.3)1:0)1:0)1:809.4)1:1207.6,((((((S_Hawaiian-1-A:49.2,S_Mansi-1-A:49.2)1:0,S_Lahu-2-A:49.2)1:73.4,(S_Korean-1-A:122.6,S_Yadava-2-A:122.6)1:0)1:516.6,S_Mende-1-A:639.1)1:906.1,(((S_Aleut-1-A:122.6,S_Kusunda-2-A:122.6)1:0,S_Burmese-1-A:122.6)1:109.5,S_Chane-1-A:232.1)1:1313.2)1:809.4,(((B_French-3-A:122.6,S_Tlingit-1-A:122.6)1:272.9,(((S_Abkhasian-1-A:49.2,S_Khonda_Dora-1-A:49.2)1:346.3,S_Pima-1-A:395.4)1:0,((((S_Hazara-2-A:0,S_Madiga-2-A:0)1:49.2,S_Makrani-1-A:49.2)1:182.9,S_Tu-1-A:232.1)1:0,((S_Ami-2-A:49.2,S_Papuan-4-A:49.2)1:182.9,B_Han-3-A:232.1)1:0)1:163.4)1:0)1:1149.9,S_Dinka-2-A:1545.3)1:809.4)1:1207.6)1:0,(S_Bengali-1-A:49.2,S_Burmese-2-A:49.2)1:3513.1)1:1801.6,((((((S_Igorot-2-A:232.1,S_Maori-1-A:232.1)1:163.4,S_Yi-1-A:395.4)1:0,((((S_Balochi-2-A:49.2,S_Orcadian-1-A:49.2)1:182.9,(((S_Irula-2-A:0,S_Tuscan-2-A:0)1:49.2,(B_Papuan-15-A:0,S_Atayal-1-A:0)1:49.2)1:0,S_Papuan-10-A:49.2)1:182.9)1:163.4,S_BantuHerero-2-A:395.4)1:0,((B_Dai-4-A:232.1,S_Tajik-2-A:232.1)1:163.4,S_Jordanian-1-A:395.4)1:0)1:0)1:0,S_Basque-1-A:395.4)1:1149.9,((B_Sardinian-3-A:49.2,S_Bulgarian-2-A:49.2)1:346.3,S_Yadava-1-A:395.4)1:1149.9)1:809.4,(((((((S_Estonian-2-A:122.6,S_North_Ossetian-2-A:122.6)1:272.9,(B_Australian-4-A:49.2,S_Tajik-1-A:49.2)1:346.3)1:607.4,S_Finnish-3-A:1002.8)1:0,S_Armenian-1-A:1002.8)1:542.5,S_Druze-2-A:1545.3)1:0,(((((B_Karitiana-3-A:49.2,S_Mongola-1-A:49.2)1:0,S_Papuan-3-A:49.2)1:590,((S_Mixtec-1-A:49.2,S_Zapotec-2-A:49.2)1:73.4,(S_BantuHerero-1-A:49.2,S_Spanish-1-A:49.2)1:73.4)1:516.6)1:363.6,S_Kapu-2-A:1002.8)1:542.5,((((S_Pathan-1-A:232.1,S_Yoruba-2-A:232.1)1:0,S_Kusunda-1-A:232.1)1:407.1,(B_Yoruba-3-A:122.6,S_Hungarian-2-A:122.6)1:516.6)1:906.1,((S_Relli-2-A:49.2,S_Samaritan-1-A:49.2)1:73.4,S_Biaka-2-A:122.6)1:1422.7)1:0)1:0)1:809.4,S_Georgian-1-A:2354.7)1:0)1:3009.1)1:6698,((((S_Balochi-1-A:122.6,S_Xibo-2-A:122.6)1:1422.7,(S_Abkhasian-2-A:122.6,S_Turkish-1-A:122.6)1:1422.7)1:809.4,(((B_Ju_hoan_North-4-A:122.6,S_Thai-1-A:122.6)1:880.2,((S_Hazara-1-A:639.2,S_Karitiana-1-A:639.2)1:0,(((S_Eskimo_Chaplin-1-A:232.1,S_Uygur-2-A:232.1)1:407.1,(B_Mbuti-4-A:232.1,S_Eskimo_Sireniki-1-A:232.1)1:407.1)1:0,S_Miao-1-A:639.2)1:0)1:363.6)1:542.5,S_Irula-1-A:1545.3)1:809.4)1:1207.6,((((S_Burusho-1-A:122.6,S_Even-2-A:122.6)1:516.6,(((B_Mandenka-3-A:232.1,S_English-1-A:232.1)1:0,(S_Ju_hoan_North-1-A:49.2,S_Relli-1-A:49.2)1:182.9)1:163.4,(S_Biaka-1-A:232.1,S_Dinka-1-A:232.1)1:163.4)1:243.7)1:0,((S_Ami-1-A:49.2,S_Iranian-1-A:49.2)1:73.4,S_Mala-3-A:122.6)1:516.6)1:906.1,(((S_Lezgin-2-A:122.6,S_Yakut-2-A:122.6)1:0,S_Mbuti-3-A:122.6)1:880.2,B_Dinka-3-A:1002.8)1:542.5)1:2016.9)1:8499.6)1:5982.8,((((S_Gambian-1-A:0,S_Iranian-2-A:0)1:49.2,S_Greek-2-A:49.2)1:590,((S_Kinh-2-A:49.2,S_Palestinian-1-A:49.2)1:0,S_Polish-1-A:49.2)1:590)1:1715.5,((((S_Saami-2-A:49.2,S_She-2-A:49.2)1:0,(((S_Cambodian-1-A:0,S_Chukchi-1-A:0)1:49.2,S_Mala-2-A:49.2)1:0,S_Papuan-9-A:49.2)1:0)1:182.9,S_Mandenka-1-A:232.1)1:163.4,((((((S_Brahui-2-A:49.2,S_Han-2-A:49.2)1:0,S_Hezhen-1-A:49.2)1:0,S_Sindhi-1-A:49.2)1:0,(S_Japanese-1-A:49.2,S_North_Ossetian-1-A:49.2)1:0)1:0,S_French-1-A:49.2)1:73.4,S_BantuTswana-1-A:122.6)1:272.9)1:1959.3)1:15689.9);\n",
      "True\n",
      "False\n"
     ]
    }
   ],
   "source": [
    "def prune(node, included):\n",
    "    if node.is_leaf():\n",
    "        if node.name not in included:\n",
    "            node.delete(preserve_branch_length=True)\n",
    "    else:\n",
    "        for child in list(node.children):\n",
    "            prune(child , included)\n",
    "    if not node.is_leaf() and len(node.children) == 1 and not node.children[0].is_leaf():\n",
    "        node.children[0].delete(preserve_branch_length=True)\n",
    "\n",
    "        \n",
    "#included = ['D','E', 'B']\n",
    "#included = ['A','W']\n",
    "#t = Tree(\"((A:2, W:2)Q:4,(B:3,(E:1,D:1)X:2)Y:3)Z;\", format=1)\n",
    "t = Tree(s)\n",
    "#print(t.get_ascii(show_internal=True))\n",
    "t.prune(included)\n",
    "t2 = t.copy(method=\"deepcopy\")\n",
    "#print(t.get_ascii(show_internal=True))\n",
    "#print(t.write())\n",
    "\n",
    "#t = Tree(\"((A:2, W:2)Q:4,(B:3,(E:1,D:1)X:2)Y:3)Z;\", format=1)\n",
    "t = Tree(s)\n",
    "prune(t, included)\n",
    "#print(t.get_ascii(show_internal=True))\n",
    "\n",
    "print(t.write())\n",
    "\n",
    "print(set(t.get_leaf_names()) == set(t2.get_leaf_names()))\n",
    "print(t.write() == t2.write())\n"
   ]
  },
  {
   "cell_type": "code",
   "execution_count": 33,
   "metadata": {},
   "outputs": [
    {
     "name": "stdout",
     "output_type": "stream",
     "text": [
      "\n",
      "   /-A\n",
      "-Z|\n",
      "   \\-W\n"
     ]
    }
   ],
   "source": [
    "n = t.search_nodes(name=\"Q\")[0]\n",
    "n.delete()\n",
    "print(t.get_ascii(show_internal=True))"
   ]
  }
 ],
 "metadata": {
  "kernelspec": {
   "display_name": "Python 3",
   "language": "python",
   "name": "python3"
  },
  "language_info": {
   "codemirror_mode": {
    "name": "ipython",
    "version": 3
   },
   "file_extension": ".py",
   "mimetype": "text/x-python",
   "name": "python",
   "nbconvert_exporter": "python",
   "pygments_lexer": "ipython3",
   "version": "3.5.4"
  }
 },
 "nbformat": 4,
 "nbformat_minor": 2
}
