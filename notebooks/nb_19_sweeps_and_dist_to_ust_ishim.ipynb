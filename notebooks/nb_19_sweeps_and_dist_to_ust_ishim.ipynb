{
 "cells": [
  {
   "cell_type": "markdown",
   "metadata": {},
   "source": [
    "# Distance to Ust Ishim individual"
   ]
  },
  {
   "cell_type": "markdown",
   "metadata": {},
   "source": [
    "---"
   ]
  },
  {
   "cell_type": "markdown",
   "metadata": {},
   "source": [
    "Variables to allow differentation of file names for analyses based on different calling criteria. Should be commented out when run in batch with `slurm-jupyter-run.py`\n",
    "\n",
    "**NB:** comment out the cell below if you want to run using `slurm-jupyter-run.py`. Otherwise it will overwrite variables set by `slurm-jupyter-run.py`."
   ]
  },
  {
   "cell_type": "code",
   "execution_count": 2,
   "metadata": {},
   "outputs": [],
   "source": [
    "from nb_parameters import extract_parameter_code\n",
    "exec(extract_parameter_code('nb_parameters.ipynb', '5e-05_25%'))"
   ]
  },
  {
   "cell_type": "markdown",
   "metadata": {},
   "source": [
    "----"
   ]
  },
  {
   "cell_type": "markdown",
   "metadata": {},
   "source": [
    "\n",
    "Figure out if swept and non-swept haplotypes have a different relation to Ust Ishim individual\n"
   ]
  },
  {
   "cell_type": "code",
   "execution_count": 3,
   "metadata": {},
   "outputs": [],
   "source": [
    "import re, os, sys, pickle, pickle, math\n",
    "from pathlib import Path\n",
    "import numpy\n",
    "import numpy as np\n",
    "import pandas\n",
    "import scipy\n",
    "from pandas import DataFrame, Series\n",
    "\n",
    "numpy.random.seed(7)"
   ]
  },
  {
   "cell_type": "markdown",
   "metadata": {},
   "source": [
    "Plotting setup:"
   ]
  },
  {
   "cell_type": "code",
   "execution_count": 4,
   "metadata": {},
   "outputs": [
    {
     "name": "stderr",
     "output_type": "stream",
     "text": [
      "In /home/kmt/anaconda3/envs/simons/lib/python3.6/site-packages/matplotlib/mpl-data/stylelib/_classic_test.mplstyle: \n",
      "The text.latex.preview rcparam was deprecated in Matplotlib 3.3 and will be removed two minor releases later.\n",
      "In /home/kmt/anaconda3/envs/simons/lib/python3.6/site-packages/matplotlib/mpl-data/stylelib/_classic_test.mplstyle: \n",
      "The mathtext.fallback_to_cm rcparam was deprecated in Matplotlib 3.3 and will be removed two minor releases later.\n",
      "In /home/kmt/anaconda3/envs/simons/lib/python3.6/site-packages/matplotlib/mpl-data/stylelib/_classic_test.mplstyle: Support for setting the 'mathtext.fallback_to_cm' rcParam is deprecated since 3.3 and will be removed two minor releases later; use 'mathtext.fallback : 'cm' instead.\n",
      "In /home/kmt/anaconda3/envs/simons/lib/python3.6/site-packages/matplotlib/mpl-data/stylelib/_classic_test.mplstyle: \n",
      "The validate_bool_maybe_none function was deprecated in Matplotlib 3.3 and will be removed two minor releases later.\n",
      "In /home/kmt/anaconda3/envs/simons/lib/python3.6/site-packages/matplotlib/mpl-data/stylelib/_classic_test.mplstyle: \n",
      "The savefig.jpeg_quality rcparam was deprecated in Matplotlib 3.3 and will be removed two minor releases later.\n",
      "In /home/kmt/anaconda3/envs/simons/lib/python3.6/site-packages/matplotlib/mpl-data/stylelib/_classic_test.mplstyle: \n",
      "The keymap.all_axes rcparam was deprecated in Matplotlib 3.3 and will be removed two minor releases later.\n",
      "In /home/kmt/anaconda3/envs/simons/lib/python3.6/site-packages/matplotlib/mpl-data/stylelib/_classic_test.mplstyle: \n",
      "The animation.avconv_path rcparam was deprecated in Matplotlib 3.3 and will be removed two minor releases later.\n",
      "In /home/kmt/anaconda3/envs/simons/lib/python3.6/site-packages/matplotlib/mpl-data/stylelib/_classic_test.mplstyle: \n",
      "The animation.avconv_args rcparam was deprecated in Matplotlib 3.3 and will be removed two minor releases later.\n",
      "/home/kmt/anaconda3/envs/simons/lib/python3.6/site-packages/statsmodels/tools/_testing.py:19: FutureWarning: pandas.util.testing is deprecated. Use the functions in the public API at pandas.testing instead.\n",
      "  import pandas.util.testing as tm\n"
     ]
    }
   ],
   "source": [
    "%matplotlib inline\n",
    "\n",
    "# Make inline plots vector graphics instead of raster graphics\n",
    "from IPython.display import set_matplotlib_formats\n",
    "set_matplotlib_formats('retina', 'png')\n",
    "\n",
    "import matplotlib\n",
    "import matplotlib.pyplot as plt\n",
    "from matplotlib.colors import ListedColormap\n",
    "from matplotlib.patches import Rectangle\n",
    "from matplotlib.lines import Line2D \n",
    "# from mpl_toolkits.basemap import Basemap\n",
    "#matplotlib.rcParams['figure.figsize'] = (20.0, 10.0)\n",
    "\n",
    "import mpld3\n",
    "\n",
    "import seaborn as sns\n",
    "sns.set()\n",
    "sns.set_style(\"whitegrid\")\n",
    "sns.set_context(\"paper\")\n",
    "\n",
    "# lowess for plotting\n",
    "from statsmodels.nonparametric.smoothers_lowess import lowess\n",
    "\n",
    "set1 = {'red': '#e41a1c', 'blue': '#377eb8', 'green': '#4daf4a',\n",
    "        'purple': '#984ea3', 'orange': '#ff7f00', \n",
    "        'yellow': '#ffff33', 'brown': '#a65628'}"
   ]
  },
  {
   "cell_type": "markdown",
   "metadata": {},
   "source": [
    "Ignore deprecation warnings from mainly seaborn:"
   ]
  },
  {
   "cell_type": "code",
   "execution_count": 5,
   "metadata": {},
   "outputs": [],
   "source": [
    "# silence deprecation warnings (lots from seaborn)\n",
    "import warnings\n",
    "warnings.filterwarnings(\"ignore\", category=DeprecationWarning) \n",
    "warnings.filterwarnings(\"ignore\", category=numpy.VisibleDeprecationWarning)"
   ]
  },
  {
   "cell_type": "markdown",
   "metadata": {},
   "source": [
    "Analysis dirs:"
   ]
  },
  {
   "cell_type": "code",
   "execution_count": 6,
   "metadata": {},
   "outputs": [],
   "source": [
    "root_dir = Path(os.environ['HOME'], 'simons/faststorage/people/kmt')\n",
    "meta_data_dir = Path(os.environ['HOME'], 'simons/faststorage/data/metadata')\n",
    "steps_dir = root_dir / 'steps'\n",
    "argweaver_dir = steps_dir / 'argweaver/output'\n",
    "results_dir = root_dir / 'results'\n",
    "figures_dir = root_dir / 'figures'\n",
    "data_dir = root_dir / 'data'\n",
    "pi_dir = steps_dir / 'pi_stores'\n",
    "dist_dir = steps_dir / 'dist_stores'\n",
    "#pi_dir = root_dir / 'old_pi_stores'\n",
    "male_x_haploid_dir = steps_dir / 'male_x_haploids'"
   ]
  },
  {
   "cell_type": "markdown",
   "metadata": {},
   "source": [
    "Import variables global to the entire analysis:"
   ]
  },
  {
   "cell_type": "code",
   "execution_count": 7,
   "metadata": {},
   "outputs": [],
   "source": [
    "import analysis_globals"
   ]
  },
  {
   "cell_type": "markdown",
   "metadata": {},
   "source": [
    "Local code in the scripts dir on the cluster:"
   ]
  },
  {
   "cell_type": "code",
   "execution_count": 8,
   "metadata": {},
   "outputs": [],
   "source": [
    "scripts_dir = root_dir / 'scripts'\n",
    "if str(scripts_dir) not in sys.path:\n",
    "    sys.path.append(str(scripts_dir))\n",
    "\n",
    "import simons_meta_data\n",
    "import hg19_chrom_sizes\n",
    "\n",
    "from toggle_code_and_errors import toggle_code_html, toggle_errors_html"
   ]
  },
  {
   "cell_type": "markdown",
   "metadata": {},
   "source": [
    "## Convenience functions"
   ]
  },
  {
   "cell_type": "code",
   "execution_count": 9,
   "metadata": {},
   "outputs": [],
   "source": [
    "def silent_nanmean(x):\n",
    "    with warnings.catch_warnings():\n",
    "        warnings.simplefilter(\"ignore\")\n",
    "        return numpy.nanmean(x)\n",
    "    \n",
    "def ident_scalar(s):\n",
    "    x = s.unique()\n",
    "    assert(len(x)) == 1\n",
    "    return x[0]\n",
    "\n",
    "def bootstrap_se(sr, n=10000):\n",
    "    means = list()\n",
    "    for i in range(n):\n",
    "        means.append(numpy.mean(sr.sample(frac=1, replace=True)))\n",
    "    return numpy.std(means)"
   ]
  },
  {
   "cell_type": "code",
   "execution_count": 10,
   "metadata": {},
   "outputs": [],
   "source": [
    "import time\n",
    "class Timer:    \n",
    "    def __enter__(self):\n",
    "        self.start = time.clock()\n",
    "        return self\n",
    "\n",
    "    def __exit__(self, *args):\n",
    "        self.end = time.clock()\n",
    "        self.interval = self.end - self.start\n",
    "        print(\"{:.0f} min {:.1f} sec\".format(self.interval//60, self.interval % 60))"
   ]
  },
  {
   "cell_type": "markdown",
   "metadata": {},
   "source": [
    "## Load meta data"
   ]
  },
  {
   "cell_type": "code",
   "execution_count": 11,
   "metadata": {},
   "outputs": [],
   "source": [
    "# easy loading of meta data in a consistent manner across code\n",
    "individuals, populations, regions = simons_meta_data.get_meta_data(meta_data_dir=meta_data_dir, include_ust_ishim=True)\n",
    "\n",
    "chromosome_lengths = dict((k.replace('chr', ''), v) for k, v in hg19_chrom_sizes.hg19_chrom_sizes.items())"
   ]
  },
  {
   "cell_type": "markdown",
   "metadata": {},
   "source": [
    "## Load data for each individual"
   ]
  },
  {
   "cell_type": "code",
   "execution_count": 12,
   "metadata": {},
   "outputs": [],
   "source": [
    "# #all_male_indiv_dist = pandas.read_hdf(results_dir / 'all_male_indiv_dist.hdf')\n",
    "# sweep_data = (pandas.read_hdf(results_dir / 'sweep_data.hdf')\n",
    "#               .loc[lambda df: df.not_missing == True] # only include windows where enough individuals are called\n",
    "#              )\n",
    "# sweep_data.head()"
   ]
  },
  {
   "cell_type": "markdown",
   "metadata": {},
   "source": [
    "## Called sweeps in Ust ishim using cliques"
   ]
  },
  {
   "cell_type": "markdown",
   "metadata": {},
   "source": [
    "Load the clique data that includes Ust ishim and see how often Ust ishim is called and how it overlaps the extended regions.\n",
    "\n",
    "**Note that we demand the same same number of called bases for Ust ishim as for the remaining individuals. That filters away windows that can then not be called in Ust ishim**\n",
    "\n",
    "So we start by loading all dist data to see how many Ust ishim windows are missing in the extended regions compared to other individuals:"
   ]
  },
  {
   "cell_type": "code",
   "execution_count": 13,
   "metadata": {},
   "outputs": [],
   "source": [
    "ust_ishim_dist_twice = pandas.read_hdf(steps_dir / 'male_dist_admix_masked_stores/male_dist_data_with_ust_ishim_chrX_100kb_twice.hdf')\n"
   ]
  },
  {
   "cell_type": "markdown",
   "metadata": {},
   "source": [
    "## Missing windows in Ust ishim compared to other individuals\n",
    "\n",
    "Mean uncalled over pairs including each individual. A window is considered missing if this mean falls below cutoff:"
   ]
  },
  {
   "cell_type": "code",
   "execution_count": 14,
   "metadata": {},
   "outputs": [
    {
     "data": {
      "text/plain": [
       "region_1\n",
       "Africa                31268.681853\n",
       "WestEurasia           31009.992394\n",
       "SouthAsia             30749.751693\n",
       "CentralAsiaSiberia    30800.258545\n",
       "Oceania               31755.964955\n",
       "EastAsia              31169.435355\n",
       "America               30817.761191\n",
       "Ust_Ishim             51520.739750\n",
       "Name: uncalled, dtype: float64"
      ]
     },
     "execution_count": 14,
     "metadata": {},
     "output_type": "execute_result"
    }
   ],
   "source": [
    "ust_ishim_dist_twice.groupby('region_1').uncalled.mean()"
   ]
  },
  {
   "cell_type": "markdown",
   "metadata": {},
   "source": [
    "Plot distribution of uncalled bases in windows for Ust ishim and for all others:"
   ]
  },
  {
   "cell_type": "code",
   "execution_count": 15,
   "metadata": {},
   "outputs": [],
   "source": [
    "ust_ishim_uncalled = ust_ishim_dist_twice.loc[ust_ishim_dist_twice.indiv_1 == 'Ust_Ishim'].uncalled\n",
    "other_indiv_uncalled = ust_ishim_dist_twice.loc[ust_ishim_dist_twice.indiv_1 != 'Ust_Ishim'].uncalled"
   ]
  },
  {
   "cell_type": "code",
   "execution_count": 16,
   "metadata": {},
   "outputs": [
    {
     "data": {
      "image/png": "[encoded data removed]",
      "text/plain": [
       "<Figure size 720x288 with 2 Axes>"
      ]
     },
     "metadata": {
      "image/png": {
       "height": 276,
       "width": 598
      }
     },
     "output_type": "display_data"
    }
   ],
   "source": [
    "fig, (ax1, ax2) = plt.subplots(1, 2, figsize=(10, 4))\n",
    "sns.distplot(ust_ishim_uncalled, ax=ax1)\n",
    "ax1.axvline(analysis_globals.max_uncalled_bases, linestyle='dashed', color='black')\n",
    "ax1.set_title(\"Ust ishim\")\n",
    "sns.distplot(other_indiv_uncalled, ax=ax2)\n",
    "ax2.axvline(analysis_globals.max_uncalled_bases, linestyle='dashed', color='black')\n",
    "ax2.set_title(\"All others\") ;"
   ]
  },
  {
   "cell_type": "markdown",
   "metadata": {},
   "source": [
    "In the workflow script `build_male_dist_admix_masked_data.py`, we find cutoff that gives Ust ishim the same number of called windows as the average other individual. Code in the cell below is copied from that script to show how:"
   ]
  },
  {
   "cell_type": "code",
   "execution_count": 17,
   "metadata": {},
   "outputs": [
    {
     "data": {
      "text/plain": [
       "72783"
      ]
     },
     "execution_count": 17,
     "metadata": {},
     "output_type": "execute_result"
    }
   ],
   "source": [
    "ust_ishim_uncalled = ust_ishim_dist_twice.loc[ust_ishim_dist_twice.indiv_1 == 'Ust_Ishim'].uncalled\n",
    "other_indiv_uncalled = ust_ishim_dist_twice.loc[ust_ishim_dist_twice.indiv_1 != 'Ust_Ishim'].uncalled\n",
    "quant = (other_indiv_uncalled <= analysis_globals.max_uncalled_bases).sum() / other_indiv_uncalled.size\n",
    "ust_ishim_max_uncalled_bases = int(np.quantile(ust_ishim_uncalled, quant))\n",
    "ust_ishim_max_uncalled_bases"
   ]
  },
  {
   "cell_type": "markdown",
   "metadata": {},
   "source": [
    "Adjusted cutoff retaining the same proportion of windows:"
   ]
  },
  {
   "cell_type": "code",
   "execution_count": 18,
   "metadata": {},
   "outputs": [
    {
     "data": {
      "image/png": "[encoded data removed]",
      "text/plain": [
       "<Figure size 720x288 with 2 Axes>"
      ]
     },
     "metadata": {
      "image/png": {
       "height": 276,
       "width": 598
      }
     },
     "output_type": "display_data"
    }
   ],
   "source": [
    "fig, (ax1, ax2) = plt.subplots(1, 2, figsize=(10, 4))\n",
    "sns.distplot(ust_ishim_uncalled, ax=ax1)\n",
    "ax1.axvline(ust_ishim_max_uncalled_bases, linestyle='dashed', color='black')\n",
    "ax1.set_title(\"Ust ishim\")\n",
    "sns.distplot(other_indiv_uncalled, ax=ax2)\n",
    "ax2.axvline(analysis_globals.max_uncalled_bases, linestyle='dashed', color='black')\n",
    "ax2.set_title(\"All others\") ;"
   ]
  },
  {
   "cell_type": "code",
   "execution_count": 19,
   "metadata": {},
   "outputs": [],
   "source": [
    "indiv_mask = ust_ishim_dist_twice.groupby(['indiv_1', 'start']).uncalled.agg('mean').to_frame('mean_uncalled').reset_index()"
   ]
  },
  {
   "cell_type": "code",
   "execution_count": 20,
   "metadata": {},
   "outputs": [],
   "source": [
    "# indiv_mask['missing'] = indiv_mask.mean_uncalled >= analysis_globals.max_uncalled_bases\n",
    "# indiv_mask['missing_ust_ishim_cut'] = indiv_mask.mean_uncalled >= ust_ishim_max_uncalled_bases\n",
    "# missing_counts = indiv_mask.groupby('indiv_1').missing.sum()\n",
    "\n",
    "# print(missing_counts['Ust_Ishim'])\n",
    "# plt.hist(missing_counts, bins=np.linspace(0, 1000, 100))\n",
    "# plt.axvline(missing_counts['Ust_Ishim'], color='orange') ;"
   ]
  },
  {
   "cell_type": "markdown",
   "metadata": {},
   "source": [
    "## Load extended peak regions"
   ]
  },
  {
   "cell_type": "code",
   "execution_count": 21,
   "metadata": {},
   "outputs": [
    {
     "data": {
      "text/html": [
       "<div>\n",
       "<style scoped>\n",
       "    .dataframe tbody tr th:only-of-type {\n",
       "        vertical-align: middle;\n",
       "    }\n",
       "\n",
       "    .dataframe tbody tr th {\n",
       "        vertical-align: top;\n",
       "    }\n",
       "\n",
       "    .dataframe thead th {\n",
       "        text-align: right;\n",
       "    }\n",
       "</style>\n",
       "<table border=\"1\" class=\"dataframe\">\n",
       "  <thead>\n",
       "    <tr style=\"text-align: right;\">\n",
       "      <th></th>\n",
       "      <th>pos</th>\n",
       "      <th>peak_start</th>\n",
       "      <th>peak_end</th>\n",
       "      <th>peak_prop_swept</th>\n",
       "      <th>start_pos</th>\n",
       "      <th>end_pos</th>\n",
       "      <th>prop_swept</th>\n",
       "      <th>swept_indivs</th>\n",
       "    </tr>\n",
       "  </thead>\n",
       "  <tbody>\n",
       "    <tr>\n",
       "      <th>0</th>\n",
       "      <td>19850000.0</td>\n",
       "      <td>19800000</td>\n",
       "      <td>19900000</td>\n",
       "      <td>0.828571</td>\n",
       "      <td>19600000</td>\n",
       "      <td>20100000</td>\n",
       "      <td>0.771429</td>\n",
       "      <td>['B_Australian-4', 'B_Crete-2', 'B_Dai-4', 'B_...</td>\n",
       "    </tr>\n",
       "    <tr>\n",
       "      <th>1</th>\n",
       "      <td>21250000.0</td>\n",
       "      <td>21200000</td>\n",
       "      <td>21300000</td>\n",
       "      <td>0.814286</td>\n",
       "      <td>21100000</td>\n",
       "      <td>21600000</td>\n",
       "      <td>0.785714</td>\n",
       "      <td>['B_Australian-4', 'B_Crete-2', 'B_French-3', ...</td>\n",
       "    </tr>\n",
       "    <tr>\n",
       "      <th>2</th>\n",
       "      <td>36300000.0</td>\n",
       "      <td>36200000</td>\n",
       "      <td>36400000</td>\n",
       "      <td>0.664286</td>\n",
       "      <td>36000000</td>\n",
       "      <td>36400000</td>\n",
       "      <td>0.635714</td>\n",
       "      <td>['B_Crete-2', 'B_Dai-4', 'B_French-3', 'B_Han-...</td>\n",
       "    </tr>\n",
       "    <tr>\n",
       "      <th>3</th>\n",
       "      <td>37500000.0</td>\n",
       "      <td>37300000</td>\n",
       "      <td>37700000</td>\n",
       "      <td>0.507143</td>\n",
       "      <td>37200000</td>\n",
       "      <td>37700000</td>\n",
       "      <td>0.500000</td>\n",
       "      <td>['B_Crete-2', 'B_Dai-4', 'B_Han-3', 'B_Karitia...</td>\n",
       "    </tr>\n",
       "    <tr>\n",
       "      <th>4</th>\n",
       "      <td>49750000.0</td>\n",
       "      <td>49500000</td>\n",
       "      <td>50000000</td>\n",
       "      <td>0.528571</td>\n",
       "      <td>49500000</td>\n",
       "      <td>50000000</td>\n",
       "      <td>0.528571</td>\n",
       "      <td>['B_Australian-4', 'B_French-3', 'B_Papuan-15'...</td>\n",
       "    </tr>\n",
       "    <tr>\n",
       "      <th>6</th>\n",
       "      <td>54300000.0</td>\n",
       "      <td>54200000</td>\n",
       "      <td>54400000</td>\n",
       "      <td>0.757143</td>\n",
       "      <td>54000000</td>\n",
       "      <td>54400000</td>\n",
       "      <td>0.735714</td>\n",
       "      <td>['B_Australian-4', 'B_Crete-2', 'B_Dai-4', 'B_...</td>\n",
       "    </tr>\n",
       "    <tr>\n",
       "      <th>7</th>\n",
       "      <td>64800000.0</td>\n",
       "      <td>64700000</td>\n",
       "      <td>64900000</td>\n",
       "      <td>0.778571</td>\n",
       "      <td>64600000</td>\n",
       "      <td>65100000</td>\n",
       "      <td>0.714286</td>\n",
       "      <td>['B_Crete-2', 'B_Dai-4', 'B_French-3', 'B_Han-...</td>\n",
       "    </tr>\n",
       "    <tr>\n",
       "      <th>10</th>\n",
       "      <td>77050000.0</td>\n",
       "      <td>76900000</td>\n",
       "      <td>77200000</td>\n",
       "      <td>0.564286</td>\n",
       "      <td>76700000</td>\n",
       "      <td>77300000</td>\n",
       "      <td>0.550000</td>\n",
       "      <td>['B_Australian-4', 'B_French-3', 'B_Sardinian-...</td>\n",
       "    </tr>\n",
       "    <tr>\n",
       "      <th>11</th>\n",
       "      <td>98750000.0</td>\n",
       "      <td>98700000</td>\n",
       "      <td>98800000</td>\n",
       "      <td>0.750000</td>\n",
       "      <td>98500000</td>\n",
       "      <td>98900000</td>\n",
       "      <td>0.714286</td>\n",
       "      <td>['B_Dai-4', 'B_French-3', 'B_Han-3', 'B_Kariti...</td>\n",
       "    </tr>\n",
       "    <tr>\n",
       "      <th>12</th>\n",
       "      <td>110900000.0</td>\n",
       "      <td>110700000</td>\n",
       "      <td>111100000</td>\n",
       "      <td>0.992857</td>\n",
       "      <td>110200000</td>\n",
       "      <td>111100000</td>\n",
       "      <td>0.950000</td>\n",
       "      <td>['B_Australian-4', 'B_Crete-2', 'B_Dai-4', 'B_...</td>\n",
       "    </tr>\n",
       "    <tr>\n",
       "      <th>13</th>\n",
       "      <td>114150000.0</td>\n",
       "      <td>114000000</td>\n",
       "      <td>114300000</td>\n",
       "      <td>0.507143</td>\n",
       "      <td>114000000</td>\n",
       "      <td>114400000</td>\n",
       "      <td>0.485714</td>\n",
       "      <td>['B_Australian-4', 'B_Crete-2', 'B_Dai-4', 'B_...</td>\n",
       "    </tr>\n",
       "    <tr>\n",
       "      <th>14</th>\n",
       "      <td>127050000.0</td>\n",
       "      <td>127000000</td>\n",
       "      <td>127100000</td>\n",
       "      <td>0.714286</td>\n",
       "      <td>126800000</td>\n",
       "      <td>127400000</td>\n",
       "      <td>0.650000</td>\n",
       "      <td>['B_Australian-4', 'B_Crete-2', 'B_Dai-4', 'B_...</td>\n",
       "    </tr>\n",
       "    <tr>\n",
       "      <th>15</th>\n",
       "      <td>129900000.0</td>\n",
       "      <td>129700000</td>\n",
       "      <td>130100000</td>\n",
       "      <td>0.650000</td>\n",
       "      <td>129700000</td>\n",
       "      <td>130200000</td>\n",
       "      <td>0.635714</td>\n",
       "      <td>['B_Australian-4', 'B_Crete-2', 'B_Dai-4', 'B_...</td>\n",
       "    </tr>\n",
       "    <tr>\n",
       "      <th>16</th>\n",
       "      <td>131450000.0</td>\n",
       "      <td>131300000</td>\n",
       "      <td>131600000</td>\n",
       "      <td>0.578571</td>\n",
       "      <td>131200000</td>\n",
       "      <td>131600000</td>\n",
       "      <td>0.564286</td>\n",
       "      <td>['B_Crete-2', 'B_French-3', 'B_Han-3', 'S_Abkh...</td>\n",
       "    </tr>\n",
       "  </tbody>\n",
       "</table>\n",
       "</div>"
      ],
      "text/plain": [
       "            pos  peak_start   peak_end  peak_prop_swept  start_pos    end_pos  \\\n",
       "0    19850000.0    19800000   19900000         0.828571   19600000   20100000   \n",
       "1    21250000.0    21200000   21300000         0.814286   21100000   21600000   \n",
       "2    36300000.0    36200000   36400000         0.664286   36000000   36400000   \n",
       "3    37500000.0    37300000   37700000         0.507143   37200000   37700000   \n",
       "4    49750000.0    49500000   50000000         0.528571   49500000   50000000   \n",
       "6    54300000.0    54200000   54400000         0.757143   54000000   54400000   \n",
       "7    64800000.0    64700000   64900000         0.778571   64600000   65100000   \n",
       "10   77050000.0    76900000   77200000         0.564286   76700000   77300000   \n",
       "11   98750000.0    98700000   98800000         0.750000   98500000   98900000   \n",
       "12  110900000.0   110700000  111100000         0.992857  110200000  111100000   \n",
       "13  114150000.0   114000000  114300000         0.507143  114000000  114400000   \n",
       "14  127050000.0   127000000  127100000         0.714286  126800000  127400000   \n",
       "15  129900000.0   129700000  130100000         0.650000  129700000  130200000   \n",
       "16  131450000.0   131300000  131600000         0.578571  131200000  131600000   \n",
       "\n",
       "    prop_swept                                       swept_indivs  \n",
       "0     0.771429  ['B_Australian-4', 'B_Crete-2', 'B_Dai-4', 'B_...  \n",
       "1     0.785714  ['B_Australian-4', 'B_Crete-2', 'B_French-3', ...  \n",
       "2     0.635714  ['B_Crete-2', 'B_Dai-4', 'B_French-3', 'B_Han-...  \n",
       "3     0.500000  ['B_Crete-2', 'B_Dai-4', 'B_Han-3', 'B_Karitia...  \n",
       "4     0.528571  ['B_Australian-4', 'B_French-3', 'B_Papuan-15'...  \n",
       "6     0.735714  ['B_Australian-4', 'B_Crete-2', 'B_Dai-4', 'B_...  \n",
       "7     0.714286  ['B_Crete-2', 'B_Dai-4', 'B_French-3', 'B_Han-...  \n",
       "10    0.550000  ['B_Australian-4', 'B_French-3', 'B_Sardinian-...  \n",
       "11    0.714286  ['B_Dai-4', 'B_French-3', 'B_Han-3', 'B_Kariti...  \n",
       "12    0.950000  ['B_Australian-4', 'B_Crete-2', 'B_Dai-4', 'B_...  \n",
       "13    0.485714  ['B_Australian-4', 'B_Crete-2', 'B_Dai-4', 'B_...  \n",
       "14    0.650000  ['B_Australian-4', 'B_Crete-2', 'B_Dai-4', 'B_...  \n",
       "15    0.635714  ['B_Australian-4', 'B_Crete-2', 'B_Dai-4', 'B_...  \n",
       "16    0.564286  ['B_Crete-2', 'B_French-3', 'B_Han-3', 'S_Abkh...  "
      ]
     },
     "execution_count": 21,
     "metadata": {},
     "output_type": "execute_result"
    }
   ],
   "source": [
    "extended_peak_regions = (pandas.read_hdf(results_dir / f'extended_peak_regions_{ech_calling_tag}_90%.hdf')\n",
    "                         .loc[lambda df: df.peak_prop_swept >= analysis_globals.min_prop_swept]\n",
    "                        )\n",
    "extended_peak_regions"
   ]
  },
  {
   "cell_type": "markdown",
   "metadata": {},
   "source": [
    "## Load sweep data\n",
    "\n",
    "Load clique data including Ust ishim, produced with an adjusted cutoff:"
   ]
  },
  {
   "cell_type": "code",
   "execution_count": 22,
   "metadata": {},
   "outputs": [],
   "source": [
    "ust_ishim_sweep_data = pandas.read_hdf(clique_data_with_ust_ishim_file_name)"
   ]
  },
  {
   "cell_type": "markdown",
   "metadata": {},
   "source": [
    "See how many windows are swept in each individual compared to Ust ishim:"
   ]
  },
  {
   "cell_type": "code",
   "execution_count": 23,
   "metadata": {},
   "outputs": [
    {
     "name": "stdout",
     "output_type": "stream",
     "text": [
      "131.81560283687944 73\n"
     ]
    },
    {
     "data": {
      "image/png": "[encoded data removed]",
      "text/plain": [
       "<Figure size 432x288 with 1 Axes>"
      ]
     },
     "metadata": {
      "image/png": {
       "height": 249,
       "width": 368
      }
     },
     "output_type": "display_data"
    }
   ],
   "source": [
    "nr_win_swept = ust_ishim_sweep_data.loc[(ust_ishim_sweep_data.region_1 != 'Africa') & \\\n",
    "                                        (ust_ishim_sweep_data.swept == True)].groupby('indiv_1').size()\n",
    "print(nr_win_swept.mean(), nr_win_swept['Ust_Ishim'])\n",
    "plt.hist(nr_win_swept)\n",
    "plt.axvline(nr_win_swept['Ust_Ishim']) ;"
   ]
  },
  {
   "cell_type": "markdown",
   "metadata": {},
   "source": [
    "So we can see that Ust ishim has about half as many windows swept."
   ]
  },
  {
   "cell_type": "markdown",
   "metadata": {},
   "source": [
    "Check the mean uncalled positions for piars including Ust ishim in extended regions:"
   ]
  },
  {
   "cell_type": "code",
   "execution_count": 24,
   "metadata": {},
   "outputs": [
    {
     "name": "stdout",
     "output_type": "stream",
     "text": [
      ">>> 19600000 20100000 39256.38148148148 22510.94329743455 1.7438798971145433\n",
      ">>> 21100000 21600000 43352.450617283954 21626.9487785658 2.004556956284561\n",
      ">>> 36000000 36400000 39480.390432098764 20987.66000131337 1.8811239761663832\n",
      ">>> 37200000 37700000 47471.38518518519 27896.833482181944 1.701676472188349\n",
      ">>> 49500000 50000000 41635.427160493826 26299.761614569652 1.583110439199892\n",
      ">>> 54000000 54400000 52916.385802469136 29987.158118816216 1.764634901140078\n",
      ">>> 64600000 65100000 54993.92469135803 29143.360984152 1.8870138115251505\n",
      ">>> 76700000 77300000 56676.24794238683 28701.009952426815 1.9747126681719633\n",
      ">>> 98500000 98900000 47191.18981481482 20717.488114000524 2.2778432189819298\n",
      ">>> 110200000 111100000 36483.92798353909 19830.413035441536 1.8397966758601483\n",
      ">>> 114000000 114400000 44441.70216049383 24231.773870501707 1.8340259527840206\n",
      ">>> 126800000 127400000 48837.05144032922 20737.18454309313 2.3550473468972055\n",
      ">>> 129700000 130200000 32733.97037037037 19580.682628491377 1.671748170962128\n",
      ">>> 131200000 131600000 39372.0 23365.666546274406 1.6850364581736172\n"
     ]
    }
   ],
   "source": [
    "\n",
    "lst = list()\n",
    "for tup in extended_peak_regions.itertuples():\n",
    "    start = tup.start_pos\n",
    "    end = tup.end_pos\n",
    "    \n",
    "    # get distances between swept haplotypes and ust ishim\n",
    "    df = ust_ishim_dist_twice.loc[lambda df: (df.region_1 != 'Africa') & (df.start >= tup.start_pos) & (df.end <= tup.end_pos)]\n",
    "    \n",
    "    print(\">>>\", start, end, df.loc[df.indiv_1 == 'Ust_Ishim'].uncalled.mean(),\n",
    "         df.uncalled.mean(), df.loc[df.indiv_1 == 'Ust_Ishim'].uncalled.mean() / df.uncalled.mean())"
   ]
  },
  {
   "cell_type": "markdown",
   "metadata": {},
   "source": [
    "It seems the proportion of uncalled positions for piars including Ust ishim is about twice that for other pairs."
   ]
  },
  {
   "cell_type": "markdown",
   "metadata": {},
   "source": [
    "### See how many extended regions contain sweeps in Ust ishim:"
   ]
  },
  {
   "cell_type": "code",
   "execution_count": 25,
   "metadata": {},
   "outputs": [
    {
     "name": "stdout",
     "output_type": "stream",
     "text": [
      ">>> 19600000 20100000 0 nan\n",
      ">>> 21100000 21600000 5 53.0\n",
      ">>> 36000000 36400000 4 54.0\n",
      ">>> 37200000 37700000 0 nan\n",
      ">>> 49500000 50000000 0 nan\n",
      ">>> 54000000 54400000 0 nan\n",
      ">>> 64600000 65100000 0 nan\n",
      ">>> 76700000 77300000 0 nan\n",
      ">>> 98500000 98900000 4 57.0\n",
      ">>> 110200000 111100000 7 77.0\n",
      ">>> 114000000 114400000 4 47.0\n",
      ">>> 126800000 127400000 6 52.0\n",
      ">>> 129700000 130200000 4 39.0\n",
      ">>> 131200000 131600000 0 nan\n"
     ]
    }
   ],
   "source": [
    "\n",
    "lst = list()\n",
    "for tup in extended_peak_regions.itertuples():\n",
    "    start = tup.start_pos\n",
    "    end = tup.end_pos\n",
    "    \n",
    "    # get distances between swept haplotypes and ust ishim\n",
    "    df = (ust_ishim_sweep_data\n",
    "          .copy()\n",
    "          .loc[lambda df: (df.region_1 != 'Africa') & (df.start >= tup.start_pos) & (df.end <= tup.end_pos)]\n",
    "         )\n",
    "    df['peak_pos'] = tup.pos\n",
    "    lst.append(df)\n",
    "\n",
    "#    df.loc[(df.indiv_1 == 'Ust_Ishim') & (df.uncalled >= ust_ishim_max_uncalled_bases)].uncalled.size\n",
    "    \n",
    "    print(\">>>\", start, end, df.loc[df.indiv_1 == 'Ust_Ishim'].swept.sum(), \n",
    "                      df.loc[df.indiv_1 == 'Ust_Ishim'].clade_size.max())\n",
    "    \n",
    "windows_in_extended_regions = pandas.concat(lst)"
   ]
  },
  {
   "cell_type": "code",
   "execution_count": 26,
   "metadata": {},
   "outputs": [
    {
     "data": {
      "text/html": [
       "<div>\n",
       "<style scoped>\n",
       "    .dataframe tbody tr th:only-of-type {\n",
       "        vertical-align: middle;\n",
       "    }\n",
       "\n",
       "    .dataframe tbody tr th {\n",
       "        vertical-align: top;\n",
       "    }\n",
       "\n",
       "    .dataframe thead th {\n",
       "        text-align: right;\n",
       "    }\n",
       "</style>\n",
       "<table border=\"1\" class=\"dataframe\">\n",
       "  <thead>\n",
       "    <tr style=\"text-align: right;\">\n",
       "      <th></th>\n",
       "      <th>indiv_1</th>\n",
       "      <th>start</th>\n",
       "      <th>end</th>\n",
       "      <th>pop_1</th>\n",
       "      <th>region_label_1</th>\n",
       "      <th>region_id_1</th>\n",
       "      <th>region_1</th>\n",
       "      <th>mean_dist</th>\n",
       "      <th>mean_dist_af</th>\n",
       "      <th>mean_dist_to_africans</th>\n",
       "      <th>...</th>\n",
       "      <th>clade_mean_dist_af</th>\n",
       "      <th>clade_size</th>\n",
       "      <th>clade_size_af</th>\n",
       "      <th>run_id</th>\n",
       "      <th>run_length</th>\n",
       "      <th>swept</th>\n",
       "      <th>run_id_af</th>\n",
       "      <th>run_length_af</th>\n",
       "      <th>swept_af</th>\n",
       "      <th>peak_pos</th>\n",
       "    </tr>\n",
       "  </thead>\n",
       "  <tbody>\n",
       "    <tr>\n",
       "      <th>252736</th>\n",
       "      <td>Ust_Ishim</td>\n",
       "      <td>131200000</td>\n",
       "      <td>131300000</td>\n",
       "      <td>Ust_Ishim</td>\n",
       "      <td>Ust_Ishim</td>\n",
       "      <td>7</td>\n",
       "      <td>Ust_Ishim</td>\n",
       "      <td>0.000208</td>\n",
       "      <td>0.000189</td>\n",
       "      <td>0.000398</td>\n",
       "      <td>...</td>\n",
       "      <td>0.000034</td>\n",
       "      <td>NaN</td>\n",
       "      <td>50.0</td>\n",
       "      <td>19</td>\n",
       "      <td>251</td>\n",
       "      <td>False</td>\n",
       "      <td>28</td>\n",
       "      <td>8</td>\n",
       "      <td>True</td>\n",
       "      <td>131450000.0</td>\n",
       "    </tr>\n",
       "    <tr>\n",
       "      <th>252737</th>\n",
       "      <td>Ust_Ishim</td>\n",
       "      <td>131300000</td>\n",
       "      <td>131400000</td>\n",
       "      <td>Ust_Ishim</td>\n",
       "      <td>Ust_Ishim</td>\n",
       "      <td>7</td>\n",
       "      <td>Ust_Ishim</td>\n",
       "      <td>0.000146</td>\n",
       "      <td>0.000127</td>\n",
       "      <td>0.000392</td>\n",
       "      <td>...</td>\n",
       "      <td>0.000034</td>\n",
       "      <td>NaN</td>\n",
       "      <td>50.0</td>\n",
       "      <td>19</td>\n",
       "      <td>251</td>\n",
       "      <td>False</td>\n",
       "      <td>28</td>\n",
       "      <td>8</td>\n",
       "      <td>True</td>\n",
       "      <td>131450000.0</td>\n",
       "    </tr>\n",
       "    <tr>\n",
       "      <th>252738</th>\n",
       "      <td>Ust_Ishim</td>\n",
       "      <td>131400000</td>\n",
       "      <td>131500000</td>\n",
       "      <td>Ust_Ishim</td>\n",
       "      <td>Ust_Ishim</td>\n",
       "      <td>7</td>\n",
       "      <td>Ust_Ishim</td>\n",
       "      <td>0.000151</td>\n",
       "      <td>0.000131</td>\n",
       "      <td>0.000290</td>\n",
       "      <td>...</td>\n",
       "      <td>0.000034</td>\n",
       "      <td>NaN</td>\n",
       "      <td>50.0</td>\n",
       "      <td>19</td>\n",
       "      <td>251</td>\n",
       "      <td>False</td>\n",
       "      <td>28</td>\n",
       "      <td>8</td>\n",
       "      <td>True</td>\n",
       "      <td>131450000.0</td>\n",
       "    </tr>\n",
       "    <tr>\n",
       "      <th>252739</th>\n",
       "      <td>Ust_Ishim</td>\n",
       "      <td>131500000</td>\n",
       "      <td>131600000</td>\n",
       "      <td>Ust_Ishim</td>\n",
       "      <td>Ust_Ishim</td>\n",
       "      <td>7</td>\n",
       "      <td>Ust_Ishim</td>\n",
       "      <td>0.000088</td>\n",
       "      <td>0.000069</td>\n",
       "      <td>0.000202</td>\n",
       "      <td>...</td>\n",
       "      <td>0.000033</td>\n",
       "      <td>NaN</td>\n",
       "      <td>50.0</td>\n",
       "      <td>19</td>\n",
       "      <td>251</td>\n",
       "      <td>False</td>\n",
       "      <td>28</td>\n",
       "      <td>8</td>\n",
       "      <td>True</td>\n",
       "      <td>131450000.0</td>\n",
       "    </tr>\n",
       "  </tbody>\n",
       "</table>\n",
       "<p>4 rows × 27 columns</p>\n",
       "</div>"
      ],
      "text/plain": [
       "          indiv_1      start        end      pop_1 region_label_1  \\\n",
       "252736  Ust_Ishim  131200000  131300000  Ust_Ishim      Ust_Ishim   \n",
       "252737  Ust_Ishim  131300000  131400000  Ust_Ishim      Ust_Ishim   \n",
       "252738  Ust_Ishim  131400000  131500000  Ust_Ishim      Ust_Ishim   \n",
       "252739  Ust_Ishim  131500000  131600000  Ust_Ishim      Ust_Ishim   \n",
       "\n",
       "        region_id_1   region_1  mean_dist  mean_dist_af  \\\n",
       "252736            7  Ust_Ishim   0.000208      0.000189   \n",
       "252737            7  Ust_Ishim   0.000146      0.000127   \n",
       "252738            7  Ust_Ishim   0.000151      0.000131   \n",
       "252739            7  Ust_Ishim   0.000088      0.000069   \n",
       "\n",
       "        mean_dist_to_africans  ...  clade_mean_dist_af  clade_size  \\\n",
       "252736               0.000398  ...            0.000034         NaN   \n",
       "252737               0.000392  ...            0.000034         NaN   \n",
       "252738               0.000290  ...            0.000034         NaN   \n",
       "252739               0.000202  ...            0.000033         NaN   \n",
       "\n",
       "        clade_size_af  run_id  run_length  swept  run_id_af  run_length_af  \\\n",
       "252736           50.0      19         251  False         28              8   \n",
       "252737           50.0      19         251  False         28              8   \n",
       "252738           50.0      19         251  False         28              8   \n",
       "252739           50.0      19         251  False         28              8   \n",
       "\n",
       "        swept_af     peak_pos  \n",
       "252736      True  131450000.0  \n",
       "252737      True  131450000.0  \n",
       "252738      True  131450000.0  \n",
       "252739      True  131450000.0  \n",
       "\n",
       "[4 rows x 27 columns]"
      ]
     },
     "execution_count": 26,
     "metadata": {},
     "output_type": "execute_result"
    }
   ],
   "source": [
    "df.loc[df.indiv_1 == 'Ust_Ishim']"
   ]
  },
  {
   "cell_type": "markdown",
   "metadata": {},
   "source": [
    "### How many sweeps (extended regions) are each indiviudal part of"
   ]
  },
  {
   "cell_type": "code",
   "execution_count": 28,
   "metadata": {},
   "outputs": [],
   "source": [
    "indiv_mask = ust_ishim_dist_twice.groupby(['indiv_1', 'start']).uncalled.agg('mean').to_frame('mean_uncalled').reset_index()\n",
    "\n",
    "\n",
    "indiv_mask['missing'] = indiv_mask.mean_uncalled >= analysis_globals.max_uncalled_bases\n",
    "indiv_mask['missing_ust_ishim_cut'] = indiv_mask.mean_uncalled >= ust_ishim_max_uncalled_bases\n",
    "\n",
    "\n",
    "missing_counts = indiv_mask.groupby('indiv_1').missing.sum()\n",
    "# print(missing_counts['Ust_Ishim'])\n",
    "# plt.hist(missing_counts, bins=np.linspace(0, 1000, 100))\n",
    "# plt.axvline(missing_counts['Ust_Ishim'], color='orange') ;"
   ]
  },
  {
   "cell_type": "code",
   "execution_count": 29,
   "metadata": {},
   "outputs": [],
   "source": [
    "sweep_inclusion = (windows_in_extended_regions\n",
    "                   .merge(indiv_mask)\n",
    "                   .groupby(['indiv_1', 'peak_pos'])\n",
    "                   .agg('sum')[['swept', 'missing', 'missing_ust_ishim_cut']]\n",
    "                   .reset_index()\n",
    "                  )"
   ]
  },
  {
   "cell_type": "markdown",
   "metadata": {},
   "source": [
    "How many are Ust ishim part of:"
   ]
  },
  {
   "cell_type": "code",
   "execution_count": 30,
   "metadata": {},
   "outputs": [
    {
     "data": {
      "text/html": [
       "<div>\n",
       "<style scoped>\n",
       "    .dataframe tbody tr th:only-of-type {\n",
       "        vertical-align: middle;\n",
       "    }\n",
       "\n",
       "    .dataframe tbody tr th {\n",
       "        vertical-align: top;\n",
       "    }\n",
       "\n",
       "    .dataframe thead th {\n",
       "        text-align: right;\n",
       "    }\n",
       "</style>\n",
       "<table border=\"1\" class=\"dataframe\">\n",
       "  <thead>\n",
       "    <tr style=\"text-align: right;\">\n",
       "      <th></th>\n",
       "      <th>indiv_1</th>\n",
       "      <th>peak_pos</th>\n",
       "      <th>swept</th>\n",
       "      <th>missing</th>\n",
       "      <th>missing_ust_ishim_cut</th>\n",
       "    </tr>\n",
       "  </thead>\n",
       "  <tbody>\n",
       "    <tr>\n",
       "      <th>1960</th>\n",
       "      <td>Ust_Ishim</td>\n",
       "      <td>19850000.0</td>\n",
       "      <td>0</td>\n",
       "      <td>0</td>\n",
       "      <td>0</td>\n",
       "    </tr>\n",
       "    <tr>\n",
       "      <th>1973</th>\n",
       "      <td>Ust_Ishim</td>\n",
       "      <td>131450000.0</td>\n",
       "      <td>0</td>\n",
       "      <td>0</td>\n",
       "      <td>0</td>\n",
       "    </tr>\n",
       "    <tr>\n",
       "      <th>1964</th>\n",
       "      <td>Ust_Ishim</td>\n",
       "      <td>49750000.0</td>\n",
       "      <td>0</td>\n",
       "      <td>1</td>\n",
       "      <td>0</td>\n",
       "    </tr>\n",
       "    <tr>\n",
       "      <th>1963</th>\n",
       "      <td>Ust_Ishim</td>\n",
       "      <td>37500000.0</td>\n",
       "      <td>0</td>\n",
       "      <td>2</td>\n",
       "      <td>0</td>\n",
       "    </tr>\n",
       "    <tr>\n",
       "      <th>1965</th>\n",
       "      <td>Ust_Ishim</td>\n",
       "      <td>54300000.0</td>\n",
       "      <td>0</td>\n",
       "      <td>2</td>\n",
       "      <td>0</td>\n",
       "    </tr>\n",
       "    <tr>\n",
       "      <th>1966</th>\n",
       "      <td>Ust_Ishim</td>\n",
       "      <td>64800000.0</td>\n",
       "      <td>0</td>\n",
       "      <td>3</td>\n",
       "      <td>1</td>\n",
       "    </tr>\n",
       "    <tr>\n",
       "      <th>1967</th>\n",
       "      <td>Ust_Ishim</td>\n",
       "      <td>77050000.0</td>\n",
       "      <td>0</td>\n",
       "      <td>4</td>\n",
       "      <td>0</td>\n",
       "    </tr>\n",
       "    <tr>\n",
       "      <th>1962</th>\n",
       "      <td>Ust_Ishim</td>\n",
       "      <td>36300000.0</td>\n",
       "      <td>4</td>\n",
       "      <td>0</td>\n",
       "      <td>0</td>\n",
       "    </tr>\n",
       "    <tr>\n",
       "      <th>1972</th>\n",
       "      <td>Ust_Ishim</td>\n",
       "      <td>129900000.0</td>\n",
       "      <td>4</td>\n",
       "      <td>0</td>\n",
       "      <td>0</td>\n",
       "    </tr>\n",
       "    <tr>\n",
       "      <th>1970</th>\n",
       "      <td>Ust_Ishim</td>\n",
       "      <td>114150000.0</td>\n",
       "      <td>4</td>\n",
       "      <td>1</td>\n",
       "      <td>0</td>\n",
       "    </tr>\n",
       "    <tr>\n",
       "      <th>1968</th>\n",
       "      <td>Ust_Ishim</td>\n",
       "      <td>98750000.0</td>\n",
       "      <td>4</td>\n",
       "      <td>2</td>\n",
       "      <td>0</td>\n",
       "    </tr>\n",
       "    <tr>\n",
       "      <th>1961</th>\n",
       "      <td>Ust_Ishim</td>\n",
       "      <td>21250000.0</td>\n",
       "      <td>5</td>\n",
       "      <td>2</td>\n",
       "      <td>0</td>\n",
       "    </tr>\n",
       "    <tr>\n",
       "      <th>1971</th>\n",
       "      <td>Ust_Ishim</td>\n",
       "      <td>127050000.0</td>\n",
       "      <td>6</td>\n",
       "      <td>3</td>\n",
       "      <td>0</td>\n",
       "    </tr>\n",
       "    <tr>\n",
       "      <th>1969</th>\n",
       "      <td>Ust_Ishim</td>\n",
       "      <td>110900000.0</td>\n",
       "      <td>7</td>\n",
       "      <td>1</td>\n",
       "      <td>0</td>\n",
       "    </tr>\n",
       "  </tbody>\n",
       "</table>\n",
       "</div>"
      ],
      "text/plain": [
       "        indiv_1     peak_pos  swept  missing  missing_ust_ishim_cut\n",
       "1960  Ust_Ishim   19850000.0      0        0                      0\n",
       "1973  Ust_Ishim  131450000.0      0        0                      0\n",
       "1964  Ust_Ishim   49750000.0      0        1                      0\n",
       "1963  Ust_Ishim   37500000.0      0        2                      0\n",
       "1965  Ust_Ishim   54300000.0      0        2                      0\n",
       "1966  Ust_Ishim   64800000.0      0        3                      1\n",
       "1967  Ust_Ishim   77050000.0      0        4                      0\n",
       "1962  Ust_Ishim   36300000.0      4        0                      0\n",
       "1972  Ust_Ishim  129900000.0      4        0                      0\n",
       "1970  Ust_Ishim  114150000.0      4        1                      0\n",
       "1968  Ust_Ishim   98750000.0      4        2                      0\n",
       "1961  Ust_Ishim   21250000.0      5        2                      0\n",
       "1971  Ust_Ishim  127050000.0      6        3                      0\n",
       "1969  Ust_Ishim  110900000.0      7        1                      0"
      ]
     },
     "execution_count": 30,
     "metadata": {},
     "output_type": "execute_result"
    }
   ],
   "source": [
    "(sweep_inclusion[sweep_inclusion.indiv_1 == 'Ust_Ishim']\n",
    " .sort_values(['swept', 'missing', 'missing_ust_ishim_cut'])\n",
    ")"
   ]
  },
  {
   "cell_type": "code",
   "execution_count": 34,
   "metadata": {},
   "outputs": [
    {
     "data": {
      "text/plain": [
       "array([2.1250e+07, 3.6300e+07, 9.8750e+07, 1.1090e+08, 1.1415e+08,\n",
       "       1.2705e+08, 1.2990e+08])"
      ]
     },
     "execution_count": 34,
     "metadata": {},
     "output_type": "execute_result"
    }
   ],
   "source": [
    "sweep_inclusion.loc[(sweep_inclusion.indiv_1 == 'Ust_Ishim') & (sweep_inclusion.swept > 0), 'peak_pos'].values\n"
   ]
  },
  {
   "cell_type": "code",
   "execution_count": null,
   "metadata": {},
   "outputs": [],
   "source": [
    "df.loc[df.swept == True]"
   ]
  },
  {
   "cell_type": "markdown",
   "metadata": {},
   "source": [
    "What is the distribution of sweep inclusion for all individuals:"
   ]
  },
  {
   "cell_type": "code",
   "execution_count": 51,
   "metadata": {},
   "outputs": [
    {
     "data": {
      "image/png": "[encoded data removed]",
      "text/plain": [
       "<Figure size 432x288 with 1 Axes>"
      ]
     },
     "metadata": {
      "image/png": {
       "height": 262,
       "width": 368
      }
     },
     "output_type": "display_data"
    }
   ],
   "source": [
    "#sweep_inclusion_count = sweep_inclusion\n",
    "\n",
    "sweep_inclusion_count = (windows_in_extended_regions\n",
    "                   .merge(indiv_mask)\n",
    "                   .groupby(['indiv_1', 'peak_pos'])\n",
    "                   .agg('any')[['swept', 'missing']]\n",
    "                   .reset_index()\n",
    "                  ).groupby('indiv_1').agg('sum').swept.to_frame('included').reset_index()\n",
    "\n",
    "plt.hist(sweep_inclusion_count.included, bins=numpy.linspace(0,20,101)) \n",
    "plt.xlabel('Nr of sweeps including an individual')\n",
    "plt.axvline(x=sweep_inclusion_count.included.mean(), label='Mean inclusion', color='black')\n",
    "plt.axvline(x=7, color='orange', label=\"Ust'ishim inclusion\") ;"
   ]
  },
  {
   "cell_type": "code",
   "execution_count": 52,
   "metadata": {},
   "outputs": [
    {
     "data": {
      "text/plain": [
       "10.02836879432624"
      ]
     },
     "execution_count": 52,
     "metadata": {},
     "output_type": "execute_result"
    }
   ],
   "source": [
    "sweep_inclusion_count.included.mean()"
   ]
  },
  {
   "cell_type": "code",
   "execution_count": 53,
   "metadata": {},
   "outputs": [
    {
     "data": {
      "text/plain": [
       "(0.025     6.5\n",
       " 0.975    13.0\n",
       " Name: included, dtype: float64,)"
      ]
     },
     "execution_count": 53,
     "metadata": {},
     "output_type": "execute_result"
    }
   ],
   "source": [
    "sweep_inclusion_count.included.quantile([0.025, 0.975]),"
   ]
  },
  {
   "cell_type": "code",
   "execution_count": 36,
   "metadata": {},
   "outputs": [
    {
     "data": {
      "text/plain": [
       "(0.028368794326241134, 141)"
      ]
     },
     "execution_count": 36,
     "metadata": {},
     "output_type": "execute_result"
    }
   ],
   "source": [
    "sum(sweep_inclusion_count.included < 7) / len(sweep_inclusion_count.included), len(sweep_inclusion_count.included)"
   ]
  },
  {
   "cell_type": "code",
   "execution_count": 37,
   "metadata": {},
   "outputs": [
    {
     "data": {
      "image/png": "[encoded data removed]",
      "text/plain": [
       "<Figure size 432x288 with 1 Axes>"
      ]
     },
     "metadata": {
      "image/png": {
       "height": 262,
       "width": 377
      }
     },
     "output_type": "display_data"
    }
   ],
   "source": [
    "sns.kdeplot(sweep_inclusion_count.included, shade=True, label='Distribution')\n",
    "plt.axvline(x=sweep_inclusion_count.included.mean(), label='Mean inclusion', color='black')\n",
    "plt.axvline(x=7, color='orange', label=\"Ust'ishim inclusion\")\n",
    "plt.xlabel('Nr of sweeps including an individual')\n",
    "plt.xlim(left=0)\n",
    "plt.legend() ;"
   ]
  },
  {
   "cell_type": "markdown",
   "metadata": {},
   "source": [
    "## Conclusion\n",
    "\n",
    "Ust ishim is part of ~7/14 half of the sweeps, compared to other individuals which this is ~10/14. We adjust the cutoff so that the same number of windows are included in the analysis. The larger number of allowed uncalled positons in pairwise distances including Ust ishim means that the uncalled bases for pairs with ust ishim is about twice that for other pairs. This means that Ust ishim distances are based on fewer posisitons, increasing the variance, thus increasig the propotion that falls about the min dist cutoff.\n",
    "\n",
    "To take this into account we also inspect the Tishkoff plots to see how many extended regions Ust ishim falls in the same clade as the swept ones."
   ]
  },
  {
   "cell_type": "markdown",
   "metadata": {},
   "source": [
    "**Idea:**\n",
    "\n",
    "We could try to downsample an individual that is included in 14 sweeps so that is has as the same number of uncalled bases as Ust ishim - and then call sweeps to see how many that individual is then part of."
   ]
  },
  {
   "cell_type": "code",
   "execution_count": null,
   "metadata": {},
   "outputs": [],
   "source": []
  }
 ],
 "metadata": {
  "anaconda-cloud": {},
  "kernelspec": {
   "display_name": "Python 3",
   "language": "python",
   "name": "python3"
  },
  "language_info": {
   "codemirror_mode": {
    "name": "ipython",
    "version": 3
   },
   "file_extension": ".py",
   "mimetype": "text/x-python",
   "name": "python",
   "nbconvert_exporter": "python",
   "pygments_lexer": "ipython3",
   "version": "3.6.9"
  }
 },
 "nbformat": 4,
 "nbformat_minor": 4
}
