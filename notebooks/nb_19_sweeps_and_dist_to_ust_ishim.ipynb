{
 "cells": [
  {
   "cell_type": "markdown",
   "metadata": {},
   "source": [
    "# Distance to Ust Ishim individual"
   ]
  },
  {
   "cell_type": "markdown",
   "metadata": {},
   "source": [
    "\n",
    "Figure out if swept and non-swept haplotypes have a different relation to Ust Ishim individual\n"
   ]
  },
  {
   "cell_type": "code",
   "execution_count": 2,
   "metadata": {},
   "outputs": [],
   "source": [
    "import re, os, sys, pickle, pickle, math\n",
    "from pathlib import Path\n",
    "import numpy\n",
    "import pandas\n",
    "import scipy\n",
    "from pandas import DataFrame, Series\n",
    "\n",
    "numpy.random.seed(7)"
   ]
  },
  {
   "cell_type": "markdown",
   "metadata": {},
   "source": [
    "Plotting setup:"
   ]
  },
  {
   "cell_type": "code",
   "execution_count": 3,
   "metadata": {},
   "outputs": [],
   "source": [
    "%matplotlib inline\n",
    "\n",
    "# Make inline plots vector graphics instead of raster graphics\n",
    "from IPython.display import set_matplotlib_formats\n",
    "set_matplotlib_formats('retina', 'png')\n",
    "\n",
    "import matplotlib\n",
    "import matplotlib.pyplot as plt\n",
    "from matplotlib.colors import ListedColormap\n",
    "from matplotlib.patches import Rectangle\n",
    "from matplotlib.lines import Line2D \n",
    "from mpl_toolkits.basemap import Basemap\n",
    "#matplotlib.rcParams['figure.figsize'] = (20.0, 10.0)\n",
    "\n",
    "import mpld3\n",
    "\n",
    "import seaborn as sns\n",
    "sns.set()\n",
    "sns.set_style(\"whitegrid\")\n",
    "sns.set_context(\"paper\")\n",
    "\n",
    "# lowess for plotting\n",
    "from statsmodels.nonparametric.smoothers_lowess import lowess\n",
    "\n",
    "set1 = {'red': '#e41a1c', 'blue': '#377eb8', 'green': '#4daf4a',\n",
    "        'purple': '#984ea3', 'orange': '#ff7f00', \n",
    "        'yellow': '#ffff33', 'brown': '#a65628'}"
   ]
  },
  {
   "cell_type": "markdown",
   "metadata": {},
   "source": [
    "Ignore deprecation warnings from mainly seaborn:"
   ]
  },
  {
   "cell_type": "code",
   "execution_count": 4,
   "metadata": {},
   "outputs": [],
   "source": [
    "# silence deprecation warnings (lots from seaborn)\n",
    "import warnings\n",
    "warnings.filterwarnings(\"ignore\", category=DeprecationWarning) \n",
    "warnings.filterwarnings(\"ignore\", category=numpy.VisibleDeprecationWarning)"
   ]
  },
  {
   "cell_type": "markdown",
   "metadata": {},
   "source": [
    "Analysis dirs:"
   ]
  },
  {
   "cell_type": "code",
   "execution_count": 5,
   "metadata": {},
   "outputs": [],
   "source": [
    "root_dir = Path(os.environ['HOME'], 'simons/faststorage/people/kmt')\n",
    "meta_data_dir = Path(os.environ['HOME'], 'simons/faststorage/data/metadata')\n",
    "steps_dir = root_dir / 'steps'\n",
    "argweaver_dir = steps_dir / 'argweaver/output'\n",
    "results_dir = root_dir / 'results'\n",
    "figures_dir = root_dir / 'figures'\n",
    "data_dir = root_dir / 'data'\n",
    "pi_dir = steps_dir / 'pi_stores'\n",
    "dist_dir = steps_dir / 'dist_stores'\n",
    "#pi_dir = root_dir / 'old_pi_stores'\n",
    "male_x_haploid_dir = steps_dir / 'male_x_haploids'"
   ]
  },
  {
   "cell_type": "markdown",
   "metadata": {},
   "source": [
    "Import variables global to the entire analysis:"
   ]
  },
  {
   "cell_type": "code",
   "execution_count": 6,
   "metadata": {},
   "outputs": [],
   "source": [
    "import analysis_globals"
   ]
  },
  {
   "cell_type": "markdown",
   "metadata": {},
   "source": [
    "Local code in the scripts dir on the cluster:"
   ]
  },
  {
   "cell_type": "code",
   "execution_count": 6,
   "metadata": {},
   "outputs": [],
   "source": [
    "scripts_dir = root_dir / 'scripts'\n",
    "if str(scripts_dir) not in sys.path:\n",
    "    sys.path.append(str(scripts_dir))\n",
    "\n",
    "import simons_meta_data\n",
    "import hg19_chrom_sizes\n",
    "\n",
    "from toggle_code_and_errors import toggle_code_html, toggle_errors_html"
   ]
  },
  {
   "cell_type": "markdown",
   "metadata": {},
   "source": [
    "## Convenience functions"
   ]
  },
  {
   "cell_type": "code",
   "execution_count": 7,
   "metadata": {},
   "outputs": [],
   "source": [
    "def silent_nanmean(x):\n",
    "    with warnings.catch_warnings():\n",
    "        warnings.simplefilter(\"ignore\")\n",
    "        return numpy.nanmean(x)\n",
    "    \n",
    "def ident_scalar(s):\n",
    "    x = s.unique()\n",
    "    assert(len(x)) == 1\n",
    "    return x[0]\n",
    "\n",
    "def bootstrap_se(sr, n=10000):\n",
    "    means = list()\n",
    "    for i in range(n):\n",
    "        means.append(numpy.mean(sr.sample(frac=1, replace=True)))\n",
    "    return numpy.std(means)"
   ]
  },
  {
   "cell_type": "code",
   "execution_count": 8,
   "metadata": {},
   "outputs": [],
   "source": [
    "import time\n",
    "class Timer:    \n",
    "    def __enter__(self):\n",
    "        self.start = time.clock()\n",
    "        return self\n",
    "\n",
    "    def __exit__(self, *args):\n",
    "        self.end = time.clock()\n",
    "        self.interval = self.end - self.start\n",
    "        print(\"{:.0f} min {:.1f} sec\".format(self.interval//60, self.interval % 60))"
   ]
  },
  {
   "cell_type": "markdown",
   "metadata": {},
   "source": [
    "## Load meta data"
   ]
  },
  {
   "cell_type": "code",
   "execution_count": 9,
   "metadata": {},
   "outputs": [],
   "source": [
    "# easy loading of meta data in a consistent manner across code\n",
    "individuals, populations, regions = simons_meta_data.get_meta_data(meta_data_dir=meta_data_dir)\n",
    "\n",
    "chromosome_lengths = dict((k.replace('chr', ''), v) for k, v in hg19_chrom_sizes.hg19_chrom_sizes.items())"
   ]
  },
  {
   "cell_type": "markdown",
   "metadata": {},
   "source": [
    "## Load data for each individual"
   ]
  },
  {
   "cell_type": "code",
   "execution_count": 10,
   "metadata": {},
   "outputs": [
    {
     "data": {
      "text/html": [
       "<div>\n",
       "<style scoped>\n",
       "    .dataframe tbody tr th:only-of-type {\n",
       "        vertical-align: middle;\n",
       "    }\n",
       "\n",
       "    .dataframe tbody tr th {\n",
       "        vertical-align: top;\n",
       "    }\n",
       "\n",
       "    .dataframe thead th {\n",
       "        text-align: right;\n",
       "    }\n",
       "</style>\n",
       "<table border=\"1\" class=\"dataframe\">\n",
       "  <thead>\n",
       "    <tr style=\"text-align: right;\">\n",
       "      <th></th>\n",
       "      <th>indiv_1</th>\n",
       "      <th>start</th>\n",
       "      <th>end</th>\n",
       "      <th>pop_1</th>\n",
       "      <th>region_label_1</th>\n",
       "      <th>region_id_1</th>\n",
       "      <th>region_1</th>\n",
       "      <th>mean_dist</th>\n",
       "      <th>mean_dist_af</th>\n",
       "      <th>mean_dist_to_africans</th>\n",
       "      <th>...</th>\n",
       "      <th>swept_af</th>\n",
       "      <th>not_missing</th>\n",
       "      <th>never_swept</th>\n",
       "      <th>never_swept_af</th>\n",
       "      <th>never_win_swept</th>\n",
       "      <th>never_win_swept_af</th>\n",
       "      <th>conserv_swept_group</th>\n",
       "      <th>conserv_swept_group_af</th>\n",
       "      <th>partial_sweep_win</th>\n",
       "      <th>partial_sweep_win_af</th>\n",
       "    </tr>\n",
       "  </thead>\n",
       "  <tbody>\n",
       "    <tr>\n",
       "      <th>27</th>\n",
       "      <td>B_Australian-4</td>\n",
       "      <td>2700000</td>\n",
       "      <td>2800000</td>\n",
       "      <td>Australian</td>\n",
       "      <td>Oceania</td>\n",
       "      <td>4</td>\n",
       "      <td>Oceania</td>\n",
       "      <td>0.001051</td>\n",
       "      <td>0.001051</td>\n",
       "      <td>0.001735</td>\n",
       "      <td>...</td>\n",
       "      <td>False</td>\n",
       "      <td>True</td>\n",
       "      <td>True</td>\n",
       "      <td>True</td>\n",
       "      <td>True</td>\n",
       "      <td>True</td>\n",
       "      <td>no</td>\n",
       "      <td>no</td>\n",
       "      <td>False</td>\n",
       "      <td>False</td>\n",
       "    </tr>\n",
       "    <tr>\n",
       "      <th>28</th>\n",
       "      <td>B_Australian-4</td>\n",
       "      <td>2800000</td>\n",
       "      <td>2900000</td>\n",
       "      <td>Australian</td>\n",
       "      <td>Oceania</td>\n",
       "      <td>4</td>\n",
       "      <td>Oceania</td>\n",
       "      <td>0.000633</td>\n",
       "      <td>0.000623</td>\n",
       "      <td>0.001109</td>\n",
       "      <td>...</td>\n",
       "      <td>False</td>\n",
       "      <td>True</td>\n",
       "      <td>True</td>\n",
       "      <td>True</td>\n",
       "      <td>True</td>\n",
       "      <td>True</td>\n",
       "      <td>no</td>\n",
       "      <td>no</td>\n",
       "      <td>False</td>\n",
       "      <td>False</td>\n",
       "    </tr>\n",
       "    <tr>\n",
       "      <th>29</th>\n",
       "      <td>B_Australian-4</td>\n",
       "      <td>2900000</td>\n",
       "      <td>3000000</td>\n",
       "      <td>Australian</td>\n",
       "      <td>Oceania</td>\n",
       "      <td>4</td>\n",
       "      <td>Oceania</td>\n",
       "      <td>0.000377</td>\n",
       "      <td>0.000318</td>\n",
       "      <td>0.000844</td>\n",
       "      <td>...</td>\n",
       "      <td>False</td>\n",
       "      <td>True</td>\n",
       "      <td>True</td>\n",
       "      <td>True</td>\n",
       "      <td>False</td>\n",
       "      <td>False</td>\n",
       "      <td>no</td>\n",
       "      <td>no</td>\n",
       "      <td>False</td>\n",
       "      <td>False</td>\n",
       "    </tr>\n",
       "    <tr>\n",
       "      <th>30</th>\n",
       "      <td>B_Australian-4</td>\n",
       "      <td>3000000</td>\n",
       "      <td>3100000</td>\n",
       "      <td>Australian</td>\n",
       "      <td>Oceania</td>\n",
       "      <td>4</td>\n",
       "      <td>Oceania</td>\n",
       "      <td>0.001087</td>\n",
       "      <td>0.001087</td>\n",
       "      <td>0.001078</td>\n",
       "      <td>...</td>\n",
       "      <td>False</td>\n",
       "      <td>True</td>\n",
       "      <td>True</td>\n",
       "      <td>True</td>\n",
       "      <td>True</td>\n",
       "      <td>True</td>\n",
       "      <td>no</td>\n",
       "      <td>no</td>\n",
       "      <td>False</td>\n",
       "      <td>False</td>\n",
       "    </tr>\n",
       "    <tr>\n",
       "      <th>31</th>\n",
       "      <td>B_Australian-4</td>\n",
       "      <td>3100000</td>\n",
       "      <td>3200000</td>\n",
       "      <td>Australian</td>\n",
       "      <td>Oceania</td>\n",
       "      <td>4</td>\n",
       "      <td>Oceania</td>\n",
       "      <td>0.001212</td>\n",
       "      <td>0.001205</td>\n",
       "      <td>0.001544</td>\n",
       "      <td>...</td>\n",
       "      <td>False</td>\n",
       "      <td>True</td>\n",
       "      <td>True</td>\n",
       "      <td>True</td>\n",
       "      <td>True</td>\n",
       "      <td>True</td>\n",
       "      <td>no</td>\n",
       "      <td>no</td>\n",
       "      <td>False</td>\n",
       "      <td>False</td>\n",
       "    </tr>\n",
       "  </tbody>\n",
       "</table>\n",
       "<p>5 rows × 35 columns</p>\n",
       "</div>"
      ],
      "text/plain": [
       "           indiv_1    start      end       pop_1 region_label_1  region_id_1  \\\n",
       "27  B_Australian-4  2700000  2800000  Australian        Oceania            4   \n",
       "28  B_Australian-4  2800000  2900000  Australian        Oceania            4   \n",
       "29  B_Australian-4  2900000  3000000  Australian        Oceania            4   \n",
       "30  B_Australian-4  3000000  3100000  Australian        Oceania            4   \n",
       "31  B_Australian-4  3100000  3200000  Australian        Oceania            4   \n",
       "\n",
       "   region_1  mean_dist  mean_dist_af  mean_dist_to_africans  \\\n",
       "27  Oceania   0.001051      0.001051               0.001735   \n",
       "28  Oceania   0.000633      0.000623               0.001109   \n",
       "29  Oceania   0.000377      0.000318               0.000844   \n",
       "30  Oceania   0.001087      0.001087               0.001078   \n",
       "31  Oceania   0.001212      0.001205               0.001544   \n",
       "\n",
       "            ...           swept_af  not_missing  never_swept  never_swept_af  \\\n",
       "27          ...              False         True         True            True   \n",
       "28          ...              False         True         True            True   \n",
       "29          ...              False         True         True            True   \n",
       "30          ...              False         True         True            True   \n",
       "31          ...              False         True         True            True   \n",
       "\n",
       "    never_win_swept  never_win_swept_af  conserv_swept_group  \\\n",
       "27             True                True                   no   \n",
       "28             True                True                   no   \n",
       "29            False               False                   no   \n",
       "30             True                True                   no   \n",
       "31             True                True                   no   \n",
       "\n",
       "    conserv_swept_group_af  partial_sweep_win  partial_sweep_win_af  \n",
       "27                      no              False                 False  \n",
       "28                      no              False                 False  \n",
       "29                      no              False                 False  \n",
       "30                      no              False                 False  \n",
       "31                      no              False                 False  \n",
       "\n",
       "[5 rows x 35 columns]"
      ]
     },
     "execution_count": 10,
     "metadata": {},
     "output_type": "execute_result"
    }
   ],
   "source": [
    "#all_male_indiv_dist = pandas.read_hdf(results_dir / 'all_male_indiv_dist.hdf')\n",
    "sweep_data = (pandas.read_hdf(results_dir / 'sweep_data.hdf')\n",
    "              .loc[lambda df: df.not_missing == True] # only include windows where enough individuals are called\n",
    "             )\n",
    "sweep_data.head()"
   ]
  },
  {
   "cell_type": "markdown",
   "metadata": {},
   "source": [
    "## Build data frame with distances to Ust Ishim\n",
    "\n",
    "Ust Ishim is indiv_2 in each pair."
   ]
  },
  {
   "cell_type": "code",
   "execution_count": 13,
   "metadata": {},
   "outputs": [],
   "source": [
    "def read_dist_table(file_name):\n",
    "\n",
    "    col_names = ['chrom', 'start', 'end', 'pop_label',\n",
    "                 'indiv_1', 'pseud_1', 'indiv_2', 'pseud_2',\n",
    "                 'dist', 'mismatch', 'match',\n",
    "                 'dist_af', 'mismatch_af', 'match_af',\n",
    "                 'uncalled']\n",
    "    \n",
    "    with open(str(file_name), 'rb') as f:\n",
    "        table = pickle.load(f)\n",
    "    df = DataFrame(table, columns=col_names)\n",
    "    df['indiv1'] = [Path(x).name for x in df.indiv_1]\n",
    "    df['indiv2'] = [Path(x).name for x in df.indiv_2]\n",
    "    return df\n",
    "\n",
    "def indiv_filter(df):\n",
    "    indiv1_in_meta = [x in individuals_and_ust_ishim for x in df.indiv_1]\n",
    "    indiv2_in_meta = [x in individuals_and_ust_ishim for x in df.indiv_2]\n",
    "    return([x and y for x, y in zip(indiv1_in_meta, indiv2_in_meta)])\n",
    "\n",
    "def swap_indiv_to_put_ust_ishim_last(s1, s2):\n",
    "    l = list()\n",
    "    for indiv1, indiv2 in zip(s1, s2):\n",
    "        if 'Ust_Ishim' in indiv1:\n",
    "            l.append((indiv2, indiv1))\n",
    "        else:\n",
    "            l.append((indiv1, indiv2))\n",
    "    return l\n",
    "\n",
    "individuals_and_ust_ishim = set(list(individuals.keys()) + ['Ust_Ishim'])"
   ]
  },
  {
   "cell_type": "code",
   "execution_count": 14,
   "metadata": {},
   "outputs": [
    {
     "data": {
      "text/html": [
       "<div>\n",
       "<style scoped>\n",
       "    .dataframe tbody tr th:only-of-type {\n",
       "        vertical-align: middle;\n",
       "    }\n",
       "\n",
       "    .dataframe tbody tr th {\n",
       "        vertical-align: top;\n",
       "    }\n",
       "\n",
       "    .dataframe thead th {\n",
       "        text-align: right;\n",
       "    }\n",
       "</style>\n",
       "<table border=\"1\" class=\"dataframe\">\n",
       "  <thead>\n",
       "    <tr style=\"text-align: right;\">\n",
       "      <th></th>\n",
       "      <th>chrom</th>\n",
       "      <th>start</th>\n",
       "      <th>end</th>\n",
       "      <th>pop_label</th>\n",
       "      <th>indiv_1</th>\n",
       "      <th>pseud_1</th>\n",
       "      <th>indiv_2</th>\n",
       "      <th>pseud_2</th>\n",
       "      <th>dist</th>\n",
       "      <th>mismatch</th>\n",
       "      <th>match</th>\n",
       "      <th>dist_af</th>\n",
       "      <th>mismatch_af</th>\n",
       "      <th>match_af</th>\n",
       "      <th>uncalled</th>\n",
       "      <th>indiv1</th>\n",
       "      <th>indiv2</th>\n",
       "    </tr>\n",
       "  </thead>\n",
       "  <tbody>\n",
       "    <tr>\n",
       "      <th>0</th>\n",
       "      <td>X</td>\n",
       "      <td>0</td>\n",
       "      <td>100000</td>\n",
       "      <td>NA</td>\n",
       "      <td>S_Czech-2</td>\n",
       "      <td>A</td>\n",
       "      <td>Ust_Ishim</td>\n",
       "      <td>A</td>\n",
       "      <td>0.006421</td>\n",
       "      <td>4</td>\n",
       "      <td>619</td>\n",
       "      <td>0.006421</td>\n",
       "      <td>4</td>\n",
       "      <td>619</td>\n",
       "      <td>99377</td>\n",
       "      <td>S_Czech-2</td>\n",
       "      <td>Ust_Ishim</td>\n",
       "    </tr>\n",
       "    <tr>\n",
       "      <th>1</th>\n",
       "      <td>X</td>\n",
       "      <td>100000</td>\n",
       "      <td>200000</td>\n",
       "      <td>NA</td>\n",
       "      <td>S_Czech-2</td>\n",
       "      <td>A</td>\n",
       "      <td>Ust_Ishim</td>\n",
       "      <td>A</td>\n",
       "      <td>0.000986</td>\n",
       "      <td>5</td>\n",
       "      <td>5066</td>\n",
       "      <td>0.000986</td>\n",
       "      <td>5</td>\n",
       "      <td>5066</td>\n",
       "      <td>94929</td>\n",
       "      <td>S_Czech-2</td>\n",
       "      <td>Ust_Ishim</td>\n",
       "    </tr>\n",
       "    <tr>\n",
       "      <th>2</th>\n",
       "      <td>X</td>\n",
       "      <td>200000</td>\n",
       "      <td>300000</td>\n",
       "      <td>NA</td>\n",
       "      <td>S_Czech-2</td>\n",
       "      <td>A</td>\n",
       "      <td>Ust_Ishim</td>\n",
       "      <td>A</td>\n",
       "      <td>0.004992</td>\n",
       "      <td>23</td>\n",
       "      <td>4584</td>\n",
       "      <td>0.004992</td>\n",
       "      <td>23</td>\n",
       "      <td>4584</td>\n",
       "      <td>95393</td>\n",
       "      <td>S_Czech-2</td>\n",
       "      <td>Ust_Ishim</td>\n",
       "    </tr>\n",
       "    <tr>\n",
       "      <th>3</th>\n",
       "      <td>X</td>\n",
       "      <td>300000</td>\n",
       "      <td>400000</td>\n",
       "      <td>NA</td>\n",
       "      <td>S_Czech-2</td>\n",
       "      <td>A</td>\n",
       "      <td>Ust_Ishim</td>\n",
       "      <td>A</td>\n",
       "      <td>0.001456</td>\n",
       "      <td>11</td>\n",
       "      <td>7543</td>\n",
       "      <td>0.001456</td>\n",
       "      <td>11</td>\n",
       "      <td>7543</td>\n",
       "      <td>92446</td>\n",
       "      <td>S_Czech-2</td>\n",
       "      <td>Ust_Ishim</td>\n",
       "    </tr>\n",
       "    <tr>\n",
       "      <th>4</th>\n",
       "      <td>X</td>\n",
       "      <td>400000</td>\n",
       "      <td>500000</td>\n",
       "      <td>NA</td>\n",
       "      <td>S_Czech-2</td>\n",
       "      <td>A</td>\n",
       "      <td>Ust_Ishim</td>\n",
       "      <td>A</td>\n",
       "      <td>0.001162</td>\n",
       "      <td>4</td>\n",
       "      <td>3438</td>\n",
       "      <td>0.001162</td>\n",
       "      <td>4</td>\n",
       "      <td>3438</td>\n",
       "      <td>96558</td>\n",
       "      <td>S_Czech-2</td>\n",
       "      <td>Ust_Ishim</td>\n",
       "    </tr>\n",
       "  </tbody>\n",
       "</table>\n",
       "</div>"
      ],
      "text/plain": [
       "  chrom   start     end pop_label    indiv_1 pseud_1    indiv_2 pseud_2  \\\n",
       "0     X       0  100000        NA  S_Czech-2       A  Ust_Ishim       A   \n",
       "1     X  100000  200000        NA  S_Czech-2       A  Ust_Ishim       A   \n",
       "2     X  200000  300000        NA  S_Czech-2       A  Ust_Ishim       A   \n",
       "3     X  300000  400000        NA  S_Czech-2       A  Ust_Ishim       A   \n",
       "4     X  400000  500000        NA  S_Czech-2       A  Ust_Ishim       A   \n",
       "\n",
       "       dist  mismatch  match   dist_af  mismatch_af  match_af  uncalled  \\\n",
       "0  0.006421         4    619  0.006421            4       619     99377   \n",
       "1  0.000986         5   5066  0.000986            5      5066     94929   \n",
       "2  0.004992        23   4584  0.004992           23      4584     95393   \n",
       "3  0.001456        11   7543  0.001456           11      7543     92446   \n",
       "4  0.001162         4   3438  0.001162            4      3438     96558   \n",
       "\n",
       "      indiv1     indiv2  \n",
       "0  S_Czech-2  Ust_Ishim  \n",
       "1  S_Czech-2  Ust_Ishim  \n",
       "2  S_Czech-2  Ust_Ishim  \n",
       "3  S_Czech-2  Ust_Ishim  \n",
       "4  S_Czech-2  Ust_Ishim  "
      ]
     },
     "execution_count": 14,
     "metadata": {},
     "output_type": "execute_result"
    }
   ],
   "source": [
    "dist_dir = steps_dir / 'male_x_haploid_dist_admix_masked'\n",
    "\n",
    "ust_ishim_dist_data = (pandas.concat(map(read_dist_table, dist_dir.glob('*Ust_Ishim*'))) # read and concat pi tables\n",
    "                    .loc[indiv_filter]\n",
    "                    .reset_index(drop=True)\n",
    "                    )\n",
    "\n",
    "ust_ishim_dist_data['indiv_1'], ust_ishim_dist_data['indiv_2'] = \\\n",
    "    zip(*swap_indiv_to_put_ust_ishim_last(ust_ishim_dist_data['indiv_1'], ust_ishim_dist_data['indiv_2']))\n",
    "\n",
    "ust_ishim_dist_data.head()"
   ]
  },
  {
   "cell_type": "markdown",
   "metadata": {},
   "source": [
    "Distribution of uncalled bases. We allow up to 70000 uncalled."
   ]
  },
  {
   "cell_type": "code",
   "execution_count": 15,
   "metadata": {},
   "outputs": [
    {
     "data": {
      "text/plain": [
       "70000"
      ]
     },
     "execution_count": 15,
     "metadata": {},
     "output_type": "execute_result"
    }
   ],
   "source": [
    "analysis_globals.ust_ishim_max_uncalled_bases"
   ]
  },
  {
   "cell_type": "code",
   "execution_count": 16,
   "metadata": {},
   "outputs": [
    {
     "data": {
      "image/png": "[encoded data removed]",
      "text/plain": [
       "<Figure size 432x288 with 1 Axes>"
      ]
     },
     "metadata": {
      "image/png": {
       "height": 265,
       "width": 399
      },
      "needs_background": "light"
     },
     "output_type": "display_data"
    }
   ],
   "source": [
    "\n",
    "g = sns.distplot(ust_ishim_dist_data.uncalled)\n",
    "g = g.axvline(analysis_globals.ust_ishim_max_uncalled_bases, linestyle='dashed', color='black')"
   ]
  },
  {
   "cell_type": "code",
   "execution_count": 17,
   "metadata": {},
   "outputs": [],
   "source": [
    "# tmp_indivs = ['B_Crete-2', 'B_French-3', 'B_Sardinian-3', 'S_Abkhasian-2', 'S_Adygei-1', 'S_Aleut-1', 'S_Altaian-1', 'S_Armenian-1', 'S_Armenian-2', 'S_Atayal-1', 'S_Balochi-2', 'S_Bengali-1', 'S_Bergamo-1', 'S_Brahmin-2', 'S_Bulgarian-1', 'S_Bulgarian-2', 'S_Burmese-1', 'S_Chechen-1', 'S_Chukchi-1', 'S_Druze-2', 'S_Estonian-1', 'S_Estonian-2', 'S_Finnish-3', 'S_French-1', 'S_Georgian-1', 'S_Georgian-2', 'S_Greek-1', 'S_Greek-2', 'S_Hazara-2', 'S_Hungarian-2', 'S_Igorot-2', 'S_Iranian-1', 'S_Iranian-2', 'S_Irula-1', 'S_Japanese-1', 'S_Japanese-3', 'S_Jordanian-2', 'S_Jordanian-3', 'S_Kalash-1', 'S_Kapu-1', 'S_Kapu-2', 'S_Karitiana-1', 'S_Lahu-2', 'S_Lezgin-2', 'S_Madiga-1', 'S_Mala-2', 'S_Mala-3', 'S_Maori-1', 'S_Miao-1', 'S_North_Ossetian-1', 'S_Orcadian-1', 'S_Pathan-1', 'S_Polish-1', 'S_Punjabi-2', 'S_Relli-2', 'S_Samaritan-1', 'S_She-2', 'S_Sindhi-1', 'S_Tajik-1', 'S_Tajik-2', 'S_Tlingit-1', 'S_Uygur-2', 'S_Xibo-2', 'S_Yadava-2']\n",
    "\n",
    "# sns.distplot(ust_ishim_dist_data\n",
    "#  .loc[(ust_ishim_dist_data.start>= 74000000) &\\\n",
    "#       (ust_ishim_dist_data.end<= 74400000) &\\\n",
    "#       (ust_ishim_dist_data.indiv_1.isin(tmp_indivs))]\n",
    "#  .uncalled\n",
    "# )"
   ]
  },
  {
   "cell_type": "code",
   "execution_count": 18,
   "metadata": {},
   "outputs": [
    {
     "data": {
      "text/html": [
       "<div>\n",
       "<style scoped>\n",
       "    .dataframe tbody tr th:only-of-type {\n",
       "        vertical-align: middle;\n",
       "    }\n",
       "\n",
       "    .dataframe tbody tr th {\n",
       "        vertical-align: top;\n",
       "    }\n",
       "\n",
       "    .dataframe thead th {\n",
       "        text-align: right;\n",
       "    }\n",
       "</style>\n",
       "<table border=\"1\" class=\"dataframe\">\n",
       "  <thead>\n",
       "    <tr style=\"text-align: right;\">\n",
       "      <th></th>\n",
       "      <th>chrom</th>\n",
       "      <th>start</th>\n",
       "      <th>end</th>\n",
       "      <th>pop_label</th>\n",
       "      <th>indiv_1</th>\n",
       "      <th>pseud_1</th>\n",
       "      <th>indiv_2</th>\n",
       "      <th>pseud_2</th>\n",
       "      <th>dist</th>\n",
       "      <th>mismatch</th>\n",
       "      <th>match</th>\n",
       "      <th>dist_af</th>\n",
       "      <th>mismatch_af</th>\n",
       "      <th>match_af</th>\n",
       "      <th>uncalled</th>\n",
       "      <th>indiv1</th>\n",
       "      <th>indiv2</th>\n",
       "    </tr>\n",
       "  </thead>\n",
       "  <tbody>\n",
       "    <tr>\n",
       "      <th>29</th>\n",
       "      <td>X</td>\n",
       "      <td>2900000</td>\n",
       "      <td>3000000</td>\n",
       "      <td>NA</td>\n",
       "      <td>S_Czech-2</td>\n",
       "      <td>A</td>\n",
       "      <td>Ust_Ishim</td>\n",
       "      <td>A</td>\n",
       "      <td>0.000210</td>\n",
       "      <td>7</td>\n",
       "      <td>33280</td>\n",
       "      <td>0.000210</td>\n",
       "      <td>7</td>\n",
       "      <td>33280</td>\n",
       "      <td>66713</td>\n",
       "      <td>S_Czech-2</td>\n",
       "      <td>Ust_Ishim</td>\n",
       "    </tr>\n",
       "    <tr>\n",
       "      <th>30</th>\n",
       "      <td>X</td>\n",
       "      <td>3000000</td>\n",
       "      <td>3100000</td>\n",
       "      <td>NA</td>\n",
       "      <td>S_Czech-2</td>\n",
       "      <td>A</td>\n",
       "      <td>Ust_Ishim</td>\n",
       "      <td>A</td>\n",
       "      <td>0.001165</td>\n",
       "      <td>41</td>\n",
       "      <td>35150</td>\n",
       "      <td>0.001165</td>\n",
       "      <td>41</td>\n",
       "      <td>35150</td>\n",
       "      <td>64809</td>\n",
       "      <td>S_Czech-2</td>\n",
       "      <td>Ust_Ishim</td>\n",
       "    </tr>\n",
       "    <tr>\n",
       "      <th>31</th>\n",
       "      <td>X</td>\n",
       "      <td>3100000</td>\n",
       "      <td>3200000</td>\n",
       "      <td>NA</td>\n",
       "      <td>S_Czech-2</td>\n",
       "      <td>A</td>\n",
       "      <td>Ust_Ishim</td>\n",
       "      <td>A</td>\n",
       "      <td>0.001555</td>\n",
       "      <td>56</td>\n",
       "      <td>35963</td>\n",
       "      <td>0.001555</td>\n",
       "      <td>56</td>\n",
       "      <td>35963</td>\n",
       "      <td>63981</td>\n",
       "      <td>S_Czech-2</td>\n",
       "      <td>Ust_Ishim</td>\n",
       "    </tr>\n",
       "    <tr>\n",
       "      <th>39</th>\n",
       "      <td>X</td>\n",
       "      <td>3900000</td>\n",
       "      <td>4000000</td>\n",
       "      <td>NA</td>\n",
       "      <td>S_Czech-2</td>\n",
       "      <td>A</td>\n",
       "      <td>Ust_Ishim</td>\n",
       "      <td>A</td>\n",
       "      <td>0.000084</td>\n",
       "      <td>5</td>\n",
       "      <td>59586</td>\n",
       "      <td>0.000084</td>\n",
       "      <td>5</td>\n",
       "      <td>59586</td>\n",
       "      <td>40409</td>\n",
       "      <td>S_Czech-2</td>\n",
       "      <td>Ust_Ishim</td>\n",
       "    </tr>\n",
       "    <tr>\n",
       "      <th>40</th>\n",
       "      <td>X</td>\n",
       "      <td>4000000</td>\n",
       "      <td>4100000</td>\n",
       "      <td>NA</td>\n",
       "      <td>S_Czech-2</td>\n",
       "      <td>A</td>\n",
       "      <td>Ust_Ishim</td>\n",
       "      <td>A</td>\n",
       "      <td>0.000034</td>\n",
       "      <td>2</td>\n",
       "      <td>58489</td>\n",
       "      <td>0.000034</td>\n",
       "      <td>2</td>\n",
       "      <td>58489</td>\n",
       "      <td>41509</td>\n",
       "      <td>S_Czech-2</td>\n",
       "      <td>Ust_Ishim</td>\n",
       "    </tr>\n",
       "  </tbody>\n",
       "</table>\n",
       "</div>"
      ],
      "text/plain": [
       "   chrom    start      end pop_label    indiv_1 pseud_1    indiv_2 pseud_2  \\\n",
       "29     X  2900000  3000000        NA  S_Czech-2       A  Ust_Ishim       A   \n",
       "30     X  3000000  3100000        NA  S_Czech-2       A  Ust_Ishim       A   \n",
       "31     X  3100000  3200000        NA  S_Czech-2       A  Ust_Ishim       A   \n",
       "39     X  3900000  4000000        NA  S_Czech-2       A  Ust_Ishim       A   \n",
       "40     X  4000000  4100000        NA  S_Czech-2       A  Ust_Ishim       A   \n",
       "\n",
       "        dist  mismatch  match   dist_af  mismatch_af  match_af  uncalled  \\\n",
       "29  0.000210         7  33280  0.000210            7     33280     66713   \n",
       "30  0.001165        41  35150  0.001165           41     35150     64809   \n",
       "31  0.001555        56  35963  0.001555           56     35963     63981   \n",
       "39  0.000084         5  59586  0.000084            5     59586     40409   \n",
       "40  0.000034         2  58489  0.000034            2     58489     41509   \n",
       "\n",
       "       indiv1     indiv2  \n",
       "29  S_Czech-2  Ust_Ishim  \n",
       "30  S_Czech-2  Ust_Ishim  \n",
       "31  S_Czech-2  Ust_Ishim  \n",
       "39  S_Czech-2  Ust_Ishim  \n",
       "40  S_Czech-2  Ust_Ishim  "
      ]
     },
     "execution_count": 18,
     "metadata": {},
     "output_type": "execute_result"
    }
   ],
   "source": [
    "ust_ishim_dist_data = ust_ishim_dist_data.loc[lambda df: df.uncalled <= analysis_globals.ust_ishim_max_uncalled_bases]\n",
    "ust_ishim_dist_data.head()"
   ]
  },
  {
   "cell_type": "code",
   "execution_count": 20,
   "metadata": {},
   "outputs": [
    {
     "data": {
      "image/png": "[encoded data removed]",
      "text/plain": [
       "<Figure size 432x288 with 1 Axes>"
      ]
     },
     "metadata": {
      "image/png": {
       "height": 261,
       "width": 398
      },
      "needs_background": "light"
     },
     "output_type": "display_data"
    }
   ],
   "source": [
    "tmp = ust_ishim_dist_data.loc[(ust_ishim_dist_data.indiv_1 == 'S_Eskimo_Chaplin-1') & (ust_ishim_dist_data.dist < 5e-5), ['dist', 'start']] \n",
    "plt.plot(tmp.start, tmp.dist, 'o') ;\n"
   ]
  },
  {
   "cell_type": "markdown",
   "metadata": {},
   "source": [
    "## Ust Ishim has a distribution of pairwise distances similar to other non-Africans"
   ]
  },
  {
   "cell_type": "code",
   "execution_count": 21,
   "metadata": {},
   "outputs": [
    {
     "data": {
      "image/png": "[encoded data removed]",
      "text/plain": [
       "<Figure size 432x288 with 1 Axes>"
      ]
     },
     "metadata": {
      "image/png": {
       "height": 263,
       "width": 379
      },
      "needs_background": "light"
     },
     "output_type": "display_data"
    }
   ],
   "source": [
    "g = sns.distplot(ust_ishim_dist_data.dist)\n",
    "g = sns.distplot(ust_ishim_dist_data.loc[lambda df: ~numpy.isnan(df.dist_af), 'dist_af'], ax=g)"
   ]
  },
  {
   "cell_type": "code",
   "execution_count": 22,
   "metadata": {},
   "outputs": [
    {
     "data": {
      "text/plain": [
       "217312"
      ]
     },
     "execution_count": 22,
     "metadata": {},
     "output_type": "execute_result"
    }
   ],
   "source": [
    "(~numpy.isnan(ust_ishim_dist_data.dist_af)).sum()"
   ]
  },
  {
   "cell_type": "markdown",
   "metadata": {},
   "source": [
    "## Call sweeps in Ust ishim using cliques"
   ]
  },
  {
   "cell_type": "markdown",
   "metadata": {},
   "source": [
    "Load the clique data and see how often Ust ishim is called and how it overlaps the extended regions.\n",
    "\n",
    "\n",
    "\n",
    "\n"
   ]
  },
  {
   "cell_type": "code",
   "execution_count": null,
   "metadata": {},
   "outputs": [],
   "source": [
    "\n",
    "\n",
    "\n",
    "\n",
    "\n",
    "\n",
    "\n",
    "\n"
   ]
  },
  {
   "cell_type": "markdown",
   "metadata": {},
   "source": [
    "## Call sweeps in Ust ishim\n",
    "\n",
    "We scale our cut cutoff to take the Ust ishim sample age into account:"
   ]
  },
  {
   "cell_type": "code",
   "execution_count": 23,
   "metadata": {},
   "outputs": [
    {
     "data": {
      "text/plain": [
       "3.4787735849056605e-05"
      ]
     },
     "execution_count": 23,
     "metadata": {},
     "output_type": "execute_result"
    }
   ],
   "source": [
    "#yrs = analysis_globals.pwdist_cutoff / (4.1e-10 * 2)\n",
    "yrs = 6.36e-5 / (analysis_globals.mut_per_year * 2)\n",
    "BRANCH_SHORT = (yrs + (yrs-45000)) / (2*yrs)\n",
    "BRANCH_SHORT\n",
    "# BRANCH_SHORT = (60000 + (60000-45000)) / (2*60000)\n",
    "BRANCH_SHORT * analysis_globals.pwdist_cutoff\n",
    "\n",
    "# BRANCH_SHORT = (60000 + (60000-45000)) / (2*60000)\n",
    "# BRANCH_SHORT * analysis_globals.pwdist_cutoff"
   ]
  },
  {
   "cell_type": "markdown",
   "metadata": {},
   "source": [
    "### Important:\n",
    "\n",
    "**NB:** the code below calls sweeps in the same was as in `scripts/sweep_calling.py`, but here we chante:\n",
    "\n",
    "    analysis_globals.pwdist_cutoff\n",
    "\n",
    "for\n",
    "\n",
    "    BRANCH_SHORT * analysis_globals.pwdist_cutoff\n",
    "    \n",
    "to allow for branch shortening."
   ]
  },
  {
   "cell_type": "code",
   "execution_count": 21,
   "metadata": {},
   "outputs": [],
   "source": [
    "def call_rolling_windows(df):#, pwdist_cutoff, min_sweep_clade_size):\n",
    "    \"\"\"\n",
    "    Takes a df with all pwdiffs in a 500kb rolling window between \n",
    "    one indiv and all other individuals. Returns all nan if one or more 100kb \n",
    "    windows are without any data. Computes mean pwdist across \n",
    "    the five 100kb windows between each pair. Calls sweep_clade as number \n",
    "    of other indivisuals with a pwdist smaller than cutoff. Calls as\n",
    "    swept if this number is above cutoff. Computes mean_clade_dist as \n",
    "    mean pwdist in sweep clade.\n",
    "    \"\"\"\n",
    "    \n",
    "    def mean_indiv_dist(df, col):\n",
    "        \"\"\"\n",
    "        Compute mean across 100kb windows in in 500kb window.\n",
    "        \"\"\"\n",
    "        if len(df) != nr_wins:\n",
    "            return numpy.nan\n",
    "        return df[col].mean()\n",
    "    \n",
    "    if numpy.isnan(df.groupby('start')['dist'].mean()).any():\n",
    "        # one or more 100kb has no dist data\n",
    "        called, clade_size, mean_clade_dist = numpy.nan, numpy.nan, numpy.nan\n",
    "    else:\n",
    "        # mean distance between indiv_1 and each indiv_2 for the 500kb window\n",
    "        pwdiffs = df.groupby(['indiv_2']).apply(mean_indiv_dist, 'dist')\n",
    "\n",
    "        mean_clade_dist = pwdiffs.loc[pwdiffs <= BRANCH_SHORT * analysis_globals.pwdist_cutoff].mean() \n",
    "        \n",
    "        # number of indiv_2 closer to indiv_1 than cutoff across the 500kb window\n",
    "        clade_size = (pwdiffs <= BRANCH_SHORT * analysis_globals.pwdist_cutoff).sum() \n",
    "        \n",
    "        # call if clade size is larger then cutoff\n",
    "        called = clade_size >= analysis_globals.min_sweep_clade_size\n",
    "    \n",
    "    if numpy.isnan(df.groupby('start')['dist_af'].mean()).any():     \n",
    "        called_af, clade_size_af, mean_clade_dist_af = numpy.nan, numpy.nan, numpy.nan\n",
    "    else:\n",
    "        pwdiffs_af = df.groupby(['indiv_2']).apply(mean_indiv_dist, 'dist_af')\n",
    "\n",
    "        mean_clade_dist_af = pwdiffs.loc[pwdiffs_af <= BRANCH_SHORT * analysis_globals.pwdist_cutoff].mean() \n",
    "\n",
    "        clade_size_af = (pwdiffs_af <= BRANCH_SHORT * analysis_globals.pwdist_cutoff).sum()\n",
    "\n",
    "        called_af = clade_size_af >= analysis_globals.min_sweep_clade_size\n",
    "\n",
    "    return df.copy().assign(called=called, clade_size=clade_size, mean_clade_dist=mean_clade_dist,\n",
    "                            called_af=called_af, clade_size_af=clade_size_af, mean_clade_dist_af=mean_clade_dist_af)\n",
    "\n",
    "\n",
    "def call_swept(df):\n",
    "    \"\"\"\n",
    "    Takes a df with all rolling window data for an indivisual for one 100kb window.\n",
    "    Call each 100kb window as sweept if any overlapping rolling window is called as swept.\n",
    "    Compute clade size and mean clade dist as from the rolling window with the largest clade size.\n",
    "    \"\"\"\n",
    "    max_clade_size = df.clade_size.max()\n",
    "    max_clade_size_af = df.clade_size_af.max()\n",
    "    \n",
    "    largest_clade_offsets = (df.groupby('off')\n",
    "                             .filter(lambda df: (df.clade_size == max_clade_size).all() and df.called.all())\n",
    "                            )\n",
    "    largest_clade_offsets_af = (df.groupby('off')\n",
    "                             .filter(lambda df: (df.clade_size_af == max_clade_size_af).all() and df.called_af.all())\n",
    "                            )\n",
    "    return DataFrame(dict(called=[df.called.any()], \n",
    "                          clade_size=[max_clade_size],\n",
    "                          clade_mean_dist=[largest_clade_offsets['dist'].mean()],\n",
    "                          called_af=[df.called_af.any()], \n",
    "                          clade_size_af=[max_clade_size_af],\n",
    "                          clade_mean_dist_af=[largest_clade_offsets_af['dist_af'].mean()]))"
   ]
  },
  {
   "cell_type": "code",
   "execution_count": 22,
   "metadata": {},
   "outputs": [
    {
     "name": "stdout",
     "output_type": "stream",
     "text": [
      "0\n",
      "1 min 43.0 sec\n",
      "100000\n",
      "1 min 42.0 sec\n",
      "200000\n",
      "1 min 42.5 sec\n",
      "300000\n",
      "1 min 44.1 sec\n",
      "400000\n",
      "1 min 43.4 sec\n"
     ]
    }
   ],
   "source": [
    "nr_wins = 5\n",
    "offsets = [x * 100000 for x in range(nr_wins)]\n",
    "window_size = len(offsets) * 100000\n",
    "\n",
    "from multiprocessing import Pool, cpu_count\n",
    "\n",
    "nr_cpu = int(os.environ.get('SLURM_JOB_NUM_NODES'))\n",
    "\n",
    "lst = list()\n",
    "# loop over five offsets of 500kb windows\n",
    "for off in offsets:\n",
    "    with Timer():\n",
    "        print(off)\n",
    "        groups = (ust_ishim_dist_data\n",
    "                  .assign(off=off, # keep offset\n",
    "                          roll_win = lambda df: (off + df.start) // window_size) # label for rolling 500kb window\n",
    "                 .groupby(['indiv_1', 'roll_win', 'off'])\n",
    "                 )\n",
    "        with Pool(nr_cpu) as p:\n",
    "            df = pandas.concat(p.map(call_rolling_windows, [group for name, group in groups]))\n",
    "\n",
    "#        df = pandas.concat([call_rolling_windows(group) for name, group in groups])\n",
    "            \n",
    "        lst.append(df)"
   ]
  },
  {
   "cell_type": "code",
   "execution_count": 23,
   "metadata": {},
   "outputs": [
    {
     "name": "stdout",
     "output_type": "stream",
     "text": [
      "29 min 0.8 sec\n"
     ]
    }
   ],
   "source": [
    "with Timer():\n",
    "    ust_ishim_sweep_calls = (pandas.concat(lst)\n",
    "                   .groupby(['indiv_1', 'start'])\n",
    "                   .apply(call_swept)\n",
    "                   .reset_index(level=['indiv_1', 'start'])\n",
    "                  )"
   ]
  },
  {
   "cell_type": "code",
   "execution_count": 24,
   "metadata": {},
   "outputs": [],
   "source": [
    "def run_id(sr):\n",
    "    return (sr != sr.shift()).cumsum()\n",
    "\n",
    "ust_ishim_sweep_calls['run_id'] = (ust_ishim_sweep_calls\n",
    "                        .groupby('indiv_1')['called']\n",
    "                        .apply(run_id)\n",
    "                       )\n",
    "ust_ishim_sweep_calls['run_length'] = (ust_ishim_sweep_calls\n",
    "                            .groupby(['indiv_1', 'run_id'])['run_id']\n",
    "                            .transform(numpy.size)\n",
    "                           )\n",
    "ust_ishim_sweep_calls['swept'] = numpy.bitwise_and(ust_ishim_sweep_calls['called'], \n",
    "                                        ust_ishim_sweep_calls['run_length'] >= analysis_globals.min_run_length)"
   ]
  },
  {
   "cell_type": "code",
   "execution_count": 25,
   "metadata": {},
   "outputs": [
    {
     "data": {
      "text/plain": [
       "0"
      ]
     },
     "execution_count": 25,
     "metadata": {},
     "output_type": "execute_result"
    }
   ],
   "source": [
    "ust_ishim_sweep_calls.called.sum()"
   ]
  },
  {
   "cell_type": "markdown",
   "metadata": {},
   "source": [
    "Conclusion is that it is not possible to call sweeps as we do on non-Africans, likely due to either missing data or misscalled bases bringing dist above cutoff."
   ]
  },
  {
   "cell_type": "markdown",
   "metadata": {},
   "source": [
    "## Many extended sweep peaks are also swept in Ust Ishim\n",
    "\n",
    "Get mean distance from swept individuals to Ust Ishim in each extended region.\n",
    "\n",
    "We use the 90% extended regions and only those where enough individuals are included for us to call a sweep.\n",
    "\n",
    "Very conservative due to many uncalled and admix filter. "
   ]
  },
  {
   "cell_type": "code",
   "execution_count": 41,
   "metadata": {},
   "outputs": [],
   "source": [
    "extended_peak_regions = (pandas.read_hdf(results_dir / 'extended_peak_regions_90%.hdf')\n",
    "                         .loc[lambda df: df.peak_prop_swept >= analysis_globals.min_prop_swept]\n",
    "                        )\n",
    "lst = list()\n",
    "for tup in extended_peak_regions.itertuples():\n",
    "    start = tup.start_pos\n",
    "    end = tup.end_pos\n",
    "    indivs = eval(tup.swept_indivs)\n",
    "    \n",
    "    # get distances between swept haplotypes and ust ishim\n",
    "    df = ust_ishim_dist_data.copy().loc[lambda df: (df.start >= tup.start_pos) &\\\n",
    "                                        (df.end <= tup.end_pos) &\\\n",
    "                                        (df.indiv_1.isin(indivs))]\n",
    "\n",
    "\n",
    "    #print(start, indivs)\n",
    "    if not len(df):\n",
    "        print(\"region:\", start, end, 'is without ust ishim data')\n",
    "        \n",
    "    df['peak_pos'] = tup.pos\n",
    "#     lst.append(df[['peak_pos', 'dist', 'dist_af']])\n",
    "    lst.append(df)\n",
    "\n",
    "plot_df = pandas.concat(lst)"
   ]
  },
  {
   "cell_type": "code",
   "execution_count": 42,
   "metadata": {},
   "outputs": [
    {
     "data": {
      "text/plain": [
       "17"
      ]
     },
     "execution_count": 42,
     "metadata": {},
     "output_type": "execute_result"
    }
   ],
   "source": [
    "len(plot_df.peak_pos.unique())"
   ]
  },
  {
   "cell_type": "code",
   "execution_count": 43,
   "metadata": {},
   "outputs": [
    {
     "data": {
      "text/html": [
       "<div>\n",
       "<style>\n",
       "    .dataframe thead tr:only-child th {\n",
       "        text-align: right;\n",
       "    }\n",
       "\n",
       "    .dataframe thead th {\n",
       "        text-align: left;\n",
       "    }\n",
       "\n",
       "    .dataframe tbody tr th {\n",
       "        vertical-align: top;\n",
       "    }\n",
       "</style>\n",
       "<table border=\"1\" class=\"dataframe\">\n",
       "  <thead>\n",
       "    <tr style=\"text-align: right;\">\n",
       "      <th></th>\n",
       "      <th>chrom</th>\n",
       "      <th>start</th>\n",
       "      <th>end</th>\n",
       "      <th>pop_label</th>\n",
       "      <th>indiv_1</th>\n",
       "      <th>pseud_1</th>\n",
       "      <th>indiv_2</th>\n",
       "      <th>pseud_2</th>\n",
       "      <th>dist</th>\n",
       "      <th>mismatch</th>\n",
       "      <th>match</th>\n",
       "      <th>dist_af</th>\n",
       "      <th>mismatch_af</th>\n",
       "      <th>match_af</th>\n",
       "      <th>uncalled</th>\n",
       "      <th>peak_pos</th>\n",
       "    </tr>\n",
       "  </thead>\n",
       "  <tbody>\n",
       "    <tr>\n",
       "      <th>196</th>\n",
       "      <td>X</td>\n",
       "      <td>19600000</td>\n",
       "      <td>19700000</td>\n",
       "      <td>NA</td>\n",
       "      <td>S_Eskimo_Chaplin-1</td>\n",
       "      <td>A</td>\n",
       "      <td>Ust_Ishim</td>\n",
       "      <td>A</td>\n",
       "      <td>0.000354</td>\n",
       "      <td>23</td>\n",
       "      <td>64963</td>\n",
       "      <td>0.000354</td>\n",
       "      <td>23</td>\n",
       "      <td>64963</td>\n",
       "      <td>35014</td>\n",
       "      <td>19850000.0</td>\n",
       "    </tr>\n",
       "    <tr>\n",
       "      <th>197</th>\n",
       "      <td>X</td>\n",
       "      <td>19700000</td>\n",
       "      <td>19800000</td>\n",
       "      <td>NA</td>\n",
       "      <td>S_Eskimo_Chaplin-1</td>\n",
       "      <td>A</td>\n",
       "      <td>Ust_Ishim</td>\n",
       "      <td>A</td>\n",
       "      <td>0.000601</td>\n",
       "      <td>40</td>\n",
       "      <td>66559</td>\n",
       "      <td>0.000601</td>\n",
       "      <td>40</td>\n",
       "      <td>66559</td>\n",
       "      <td>33401</td>\n",
       "      <td>19850000.0</td>\n",
       "    </tr>\n",
       "    <tr>\n",
       "      <th>198</th>\n",
       "      <td>X</td>\n",
       "      <td>19800000</td>\n",
       "      <td>19900000</td>\n",
       "      <td>NA</td>\n",
       "      <td>S_Eskimo_Chaplin-1</td>\n",
       "      <td>A</td>\n",
       "      <td>Ust_Ishim</td>\n",
       "      <td>A</td>\n",
       "      <td>0.000358</td>\n",
       "      <td>21</td>\n",
       "      <td>58591</td>\n",
       "      <td>0.000358</td>\n",
       "      <td>21</td>\n",
       "      <td>58591</td>\n",
       "      <td>41388</td>\n",
       "      <td>19850000.0</td>\n",
       "    </tr>\n",
       "    <tr>\n",
       "      <th>199</th>\n",
       "      <td>X</td>\n",
       "      <td>19900000</td>\n",
       "      <td>20000000</td>\n",
       "      <td>NA</td>\n",
       "      <td>S_Eskimo_Chaplin-1</td>\n",
       "      <td>A</td>\n",
       "      <td>Ust_Ishim</td>\n",
       "      <td>A</td>\n",
       "      <td>0.000421</td>\n",
       "      <td>23</td>\n",
       "      <td>54641</td>\n",
       "      <td>0.000421</td>\n",
       "      <td>23</td>\n",
       "      <td>54641</td>\n",
       "      <td>45336</td>\n",
       "      <td>19850000.0</td>\n",
       "    </tr>\n",
       "    <tr>\n",
       "      <th>200</th>\n",
       "      <td>X</td>\n",
       "      <td>20000000</td>\n",
       "      <td>20100000</td>\n",
       "      <td>NA</td>\n",
       "      <td>S_Eskimo_Chaplin-1</td>\n",
       "      <td>A</td>\n",
       "      <td>Ust_Ishim</td>\n",
       "      <td>A</td>\n",
       "      <td>0.000384</td>\n",
       "      <td>23</td>\n",
       "      <td>59813</td>\n",
       "      <td>0.000384</td>\n",
       "      <td>23</td>\n",
       "      <td>59813</td>\n",
       "      <td>40164</td>\n",
       "      <td>19850000.0</td>\n",
       "    </tr>\n",
       "  </tbody>\n",
       "</table>\n",
       "</div>"
      ],
      "text/plain": [
       "    chrom     start       end pop_label             indiv_1 pseud_1  \\\n",
       "196     X  19600000  19700000        NA  S_Eskimo_Chaplin-1       A   \n",
       "197     X  19700000  19800000        NA  S_Eskimo_Chaplin-1       A   \n",
       "198     X  19800000  19900000        NA  S_Eskimo_Chaplin-1       A   \n",
       "199     X  19900000  20000000        NA  S_Eskimo_Chaplin-1       A   \n",
       "200     X  20000000  20100000        NA  S_Eskimo_Chaplin-1       A   \n",
       "\n",
       "       indiv_2 pseud_2      dist  mismatch  match   dist_af  mismatch_af  \\\n",
       "196  Ust_Ishim       A  0.000354        23  64963  0.000354           23   \n",
       "197  Ust_Ishim       A  0.000601        40  66559  0.000601           40   \n",
       "198  Ust_Ishim       A  0.000358        21  58591  0.000358           21   \n",
       "199  Ust_Ishim       A  0.000421        23  54641  0.000421           23   \n",
       "200  Ust_Ishim       A  0.000384        23  59813  0.000384           23   \n",
       "\n",
       "     match_af  uncalled    peak_pos  \n",
       "196     64963     35014  19850000.0  \n",
       "197     66559     33401  19850000.0  \n",
       "198     58591     41388  19850000.0  \n",
       "199     54641     45336  19850000.0  \n",
       "200     59813     40164  19850000.0  "
      ]
     },
     "execution_count": 43,
     "metadata": {},
     "output_type": "execute_result"
    }
   ],
   "source": [
    "plot_df.head()"
   ]
  },
  {
   "cell_type": "code",
   "execution_count": 44,
   "metadata": {},
   "outputs": [
    {
     "data": {
      "image/png": "[encoded data removed]",
      "text/plain": [
       "<Figure size 432x288 with 1 Axes>"
      ]
     },
     "metadata": {
      "image/png": {
       "height": 265,
       "width": 387
      }
     },
     "output_type": "display_data"
    }
   ],
   "source": [
    "sns.distplot(plot_df.dist) ;"
   ]
  },
  {
   "cell_type": "code",
   "execution_count": 57,
   "metadata": {},
   "outputs": [
    {
     "data": {
      "text/html": [
       "<div>\n",
       "<style>\n",
       "    .dataframe thead tr:only-child th {\n",
       "        text-align: right;\n",
       "    }\n",
       "\n",
       "    .dataframe thead th {\n",
       "        text-align: left;\n",
       "    }\n",
       "\n",
       "    .dataframe tbody tr th {\n",
       "        vertical-align: top;\n",
       "    }\n",
       "</style>\n",
       "<table border=\"1\" class=\"dataframe\">\n",
       "  <thead>\n",
       "    <tr style=\"text-align: right;\">\n",
       "      <th></th>\n",
       "      <th>peak_pos</th>\n",
       "      <th>dist</th>\n",
       "      <th>dist_af</th>\n",
       "      <th>start_pos</th>\n",
       "      <th>end_pos</th>\n",
       "      <th>length</th>\n",
       "    </tr>\n",
       "  </thead>\n",
       "  <tbody>\n",
       "    <tr>\n",
       "      <th>0</th>\n",
       "      <td>21250000</td>\n",
       "      <td>0.000029</td>\n",
       "      <td>0.000029</td>\n",
       "      <td>21100000</td>\n",
       "      <td>21600000</td>\n",
       "      <td>500000</td>\n",
       "    </tr>\n",
       "    <tr>\n",
       "      <th>1</th>\n",
       "      <td>36250000</td>\n",
       "      <td>0.000021</td>\n",
       "      <td>0.000021</td>\n",
       "      <td>36000000</td>\n",
       "      <td>36400000</td>\n",
       "      <td>400000</td>\n",
       "    </tr>\n",
       "    <tr>\n",
       "      <th>2</th>\n",
       "      <td>54350000</td>\n",
       "      <td>0.000033</td>\n",
       "      <td>0.000033</td>\n",
       "      <td>54000000</td>\n",
       "      <td>54400000</td>\n",
       "      <td>400000</td>\n",
       "    </tr>\n",
       "    <tr>\n",
       "      <th>3</th>\n",
       "      <td>64850000</td>\n",
       "      <td>0.000031</td>\n",
       "      <td>0.000031</td>\n",
       "      <td>64700000</td>\n",
       "      <td>65100000</td>\n",
       "      <td>400000</td>\n",
       "    </tr>\n",
       "    <tr>\n",
       "      <th>4</th>\n",
       "      <td>98750000</td>\n",
       "      <td>0.000022</td>\n",
       "      <td>0.000022</td>\n",
       "      <td>98500000</td>\n",
       "      <td>98900000</td>\n",
       "      <td>400000</td>\n",
       "    </tr>\n",
       "    <tr>\n",
       "      <th>5</th>\n",
       "      <td>110900000</td>\n",
       "      <td>0.000032</td>\n",
       "      <td>0.000032</td>\n",
       "      <td>110200000</td>\n",
       "      <td>111100000</td>\n",
       "      <td>900000</td>\n",
       "    </tr>\n",
       "    <tr>\n",
       "      <th>6</th>\n",
       "      <td>114150000</td>\n",
       "      <td>0.000023</td>\n",
       "      <td>0.000023</td>\n",
       "      <td>114000000</td>\n",
       "      <td>114300000</td>\n",
       "      <td>300000</td>\n",
       "    </tr>\n",
       "    <tr>\n",
       "      <th>7</th>\n",
       "      <td>127050000</td>\n",
       "      <td>0.000024</td>\n",
       "      <td>0.000024</td>\n",
       "      <td>126800000</td>\n",
       "      <td>127400000</td>\n",
       "      <td>600000</td>\n",
       "    </tr>\n",
       "    <tr>\n",
       "      <th>8</th>\n",
       "      <td>129900000</td>\n",
       "      <td>0.000031</td>\n",
       "      <td>0.000031</td>\n",
       "      <td>129700000</td>\n",
       "      <td>130200000</td>\n",
       "      <td>500000</td>\n",
       "    </tr>\n",
       "    <tr>\n",
       "      <th>9</th>\n",
       "      <td>131350000</td>\n",
       "      <td>0.000031</td>\n",
       "      <td>0.000031</td>\n",
       "      <td>131200000</td>\n",
       "      <td>131600000</td>\n",
       "      <td>400000</td>\n",
       "    </tr>\n",
       "  </tbody>\n",
       "</table>\n",
       "</div>"
      ],
      "text/plain": [
       "    peak_pos      dist   dist_af  start_pos    end_pos  length\n",
       "0   21250000  0.000029  0.000029   21100000   21600000  500000\n",
       "1   36250000  0.000021  0.000021   36000000   36400000  400000\n",
       "2   54350000  0.000033  0.000033   54000000   54400000  400000\n",
       "3   64850000  0.000031  0.000031   64700000   65100000  400000\n",
       "4   98750000  0.000022  0.000022   98500000   98900000  400000\n",
       "5  110900000  0.000032  0.000032  110200000  111100000  900000\n",
       "6  114150000  0.000023  0.000023  114000000  114300000  300000\n",
       "7  127050000  0.000024  0.000024  126800000  127400000  600000\n",
       "8  129900000  0.000031  0.000031  129700000  130200000  500000\n",
       "9  131350000  0.000031  0.000031  131200000  131600000  400000"
      ]
     },
     "execution_count": 57,
     "metadata": {},
     "output_type": "execute_result"
    }
   ],
   "source": [
    "df = plot_df.groupby(['peak_pos', 'indiv_1'])[['dist', 'dist_af']].mean().reset_index()\n",
    "\n",
    "dist_cutoff = 3.125e-5\n",
    "dist_cutoff = 3.8e-5\n",
    "#dist_cutoff = 5e-5\n",
    "\n",
    "mean_dists = df.loc[df.dist < dist_cutoff].groupby('peak_pos').filter(lambda df: len(df) >= analysis_globals.min_sweep_clade_size).groupby('peak_pos').mean()\n",
    "\n",
    "ust_ishim_extended_peak_regions = (mean_dists\n",
    " .reset_index()\n",
    " .merge(extended_peak_regions[['pos', 'start_pos', 'end_pos']],\n",
    "       left_on=['peak_pos'], right_on=['pos'], how='left')\n",
    " .assign(length=lambda df: df.end_pos - df.start_pos)\n",
    " .drop(['pos',], axis=1)\n",
    " .assign(peak_pos=lambda df: df.peak_pos.astype(int))\n",
    " .sort_values(by='peak_pos')                                \n",
    ")\n",
    "ust_ishim_extended_peak_regions"
   ]
  },
  {
   "cell_type": "code",
   "execution_count": 31,
   "metadata": {},
   "outputs": [],
   "source": [
    "ust_ishim_extended_peak_regions.to_csv(results_dir / 'ust_ishim_extended_peak_regions.csv', index=False)"
   ]
  },
  {
   "cell_type": "markdown",
   "metadata": {},
   "source": [
    "This way we cannot call sweeps in Ust ishim, but only see how many of the sweeps we call include Ust ishim. I.e. the sweeps that Ust Ishim is part of. We decide they are if the mean distance of all swept individusla have a mean dist to Ust ishim that is lower than 5e-5."
   ]
  },
  {
   "cell_type": "code",
   "execution_count": 32,
   "metadata": {},
   "outputs": [],
   "source": [
    "# nr_ust_ishim_shared_sweeps = (mean_dists.dist <= 5e-5).sum()\n",
    "# nr_ust_ishim_shared_sweeps_af = (mean_dists.dist_af <= 5e-5).sum()\n",
    "\n",
    "# nr_ust_ishim_shared_sweeps, nr_ust_ishim_shared_sweeps_af"
   ]
  },
  {
   "cell_type": "code",
   "execution_count": 33,
   "metadata": {},
   "outputs": [],
   "source": [
    "# print(\"All:\", (mean_dists.dist <= 5e-5).sum() / len(mean_dists))\n",
    "# print(\"Admix filt:\", (mean_dists.dist_af <= 5e-5).sum() / len(mean_dists))"
   ]
  },
  {
   "cell_type": "markdown",
   "metadata": {},
   "source": [
    "How many sweeps are each non-African part of? Count how many times each individual is part of a sweep:"
   ]
  },
  {
   "cell_type": "code",
   "execution_count": 34,
   "metadata": {},
   "outputs": [],
   "source": [
    "from collections import Counter\n",
    "lst = list()\n",
    "for tup in extended_peak_regions.itertuples():\n",
    "    indivs = eval(tup.swept_indivs)    \n",
    "    lst.extend(indivs)\n",
    "counts = Counter(lst)    "
   ]
  },
  {
   "cell_type": "code",
   "execution_count": 35,
   "metadata": {},
   "outputs": [],
   "source": [
    "df = (DataFrame.from_records(((indiv, count, individuals[indiv]['Region']) for indiv, count in counts.items()),\n",
    "                 columns=['indiv', 'nr_sweeps', 'region'])\n",
    "      .loc[lambda df: df.region != 'Africa']\n",
    "     )"
   ]
  },
  {
   "cell_type": "markdown",
   "metadata": {},
   "source": [
    "Make sure we have all non-Africans analyzed:"
   ]
  },
  {
   "cell_type": "code",
   "execution_count": 36,
   "metadata": {},
   "outputs": [
    {
     "data": {
      "text/plain": [
       "(140, 140)"
      ]
     },
     "execution_count": 36,
     "metadata": {},
     "output_type": "execute_result"
    }
   ],
   "source": [
    "len(df), len(sweep_data.loc[lambda df: df.region_1 != 'Africa'].indiv_1.unique())"
   ]
  },
  {
   "cell_type": "code",
   "execution_count": 37,
   "metadata": {},
   "outputs": [
    {
     "data": {
      "image/png": "[encoded data removed]",
      "text/plain": [
       "<Figure size 432x288 with 1 Axes>"
      ]
     },
     "metadata": {
      "image/png": {
       "height": 265,
       "width": 385
      }
     },
     "output_type": "display_data"
    }
   ],
   "source": [
    "sns.distplot(df.nr_sweeps) ;"
   ]
  },
  {
   "cell_type": "code",
   "execution_count": 38,
   "metadata": {},
   "outputs": [
    {
     "data": {
      "image/png": "[encoded data removed]",
      "text/plain": [
       "<Figure size 432x288 with 1 Axes>"
      ]
     },
     "metadata": {
      "image/png": {
       "height": 251,
       "width": 379
      }
     },
     "output_type": "display_data"
    }
   ],
   "source": [
    "for region in df.region.unique():\n",
    "    sns.kdeplot(df.loc[df.region==region].nr_sweeps, shade=True)"
   ]
  },
  {
   "cell_type": "code",
   "execution_count": 39,
   "metadata": {},
   "outputs": [
    {
     "ename": "AttributeError",
     "evalue": "module 'seaborn' has no attribute 'distplotlot'",
     "output_type": "error",
     "traceback": [
      "\u001b[0;31m---------------------------------------------------------------------------\u001b[0m",
      "\u001b[0;31mAttributeError\u001b[0m                            Traceback (most recent call last)",
      "\u001b[0;32m<ipython-input-39-179367ea2d85>\u001b[0m in \u001b[0;36m<module>\u001b[0;34m()\u001b[0m\n\u001b[0;32m----> 1\u001b[0;31m \u001b[0msns\u001b[0m\u001b[0;34m.\u001b[0m\u001b[0mdistplotlot\u001b[0m\u001b[0;34m(\u001b[0m\u001b[0mdf\u001b[0m\u001b[0;34m.\u001b[0m\u001b[0mnr_sweeps\u001b[0m\u001b[0;34m,\u001b[0m \u001b[0;34m)\u001b[0m \u001b[0;34m;\u001b[0m\u001b[0;34m\u001b[0m\u001b[0m\n\u001b[0m",
      "\u001b[0;31mAttributeError\u001b[0m: module 'seaborn' has no attribute 'distplotlot'"
     ]
    }
   ],
   "source": [
    "sns.distplotlot(df.nr_sweeps, ) ;"
   ]
  },
  {
   "cell_type": "code",
   "execution_count": null,
   "metadata": {},
   "outputs": [],
   "source": [
    "plt.hist(df.nr_sweeps, bins=32) ;"
   ]
  },
  {
   "cell_type": "code",
   "execution_count": null,
   "metadata": {},
   "outputs": [],
   "source": [
    "df.groupby('region').mean()"
   ]
  },
  {
   "cell_type": "markdown",
   "metadata": {},
   "source": [
    "Mean and SE of mean:"
   ]
  },
  {
   "cell_type": "code",
   "execution_count": null,
   "metadata": {},
   "outputs": [],
   "source": [
    "se = bootstrap_se(df.nr_sweeps)\n",
    "print(df.nr_sweeps.mean(), df.nr_sweeps.mean()-1.96*se, df.nr_sweeps.mean()+1.96*se)"
   ]
  },
  {
   "cell_type": "markdown",
   "metadata": {},
   "source": [
    "Quantiles of number of sweeps:"
   ]
  },
  {
   "cell_type": "code",
   "execution_count": null,
   "metadata": {},
   "outputs": [],
   "source": [
    "df.nr_sweeps.quantile(0.05), df.nr_sweeps.quantile(0.95)"
   ]
  },
  {
   "cell_type": "markdown",
   "metadata": {},
   "source": [
    "Total number of extended sweep regions:"
   ]
  },
  {
   "cell_type": "code",
   "execution_count": null,
   "metadata": {},
   "outputs": [],
   "source": [
    "tot_nr_extended_sweep_regions = len(extended_peak_regions.pos.unique())\n",
    "tot_nr_extended_sweep_regions"
   ]
  },
  {
   "cell_type": "code",
   "execution_count": null,
   "metadata": {},
   "outputs": [],
   "source": []
  }
 ],
 "metadata": {
  "anaconda-cloud": {},
  "kernelspec": {
   "display_name": "Python 3",
   "language": "python",
   "name": "python3"
  },
  "language_info": {
   "codemirror_mode": {
    "name": "ipython",
    "version": 3
   },
   "file_extension": ".py",
   "mimetype": "text/x-python",
   "name": "python",
   "nbconvert_exporter": "python",
   "pygments_lexer": "ipython3",
   "version": "3.6.9"
  }
 },
 "nbformat": 4,
 "nbformat_minor": 4
}
