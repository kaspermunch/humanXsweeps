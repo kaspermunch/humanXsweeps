{
 "cells": [
  {
   "cell_type": "markdown",
   "metadata": {},
   "source": [
    "# Tishkoff plots of selected regions"
   ]
  },
  {
   "cell_type": "code",
   "execution_count": 1,
   "metadata": {},
   "outputs": [],
   "source": [
    "import re, os, sys, pickle, math, io, gc\n",
    "from functools import partial\n",
    "from collections import defaultdict\n",
    "from pathlib import Path\n",
    "import numpy\n",
    "import pandas\n",
    "from pandas import DataFrame\n",
    "import pyfaidx\n",
    "from ete3 import Tree, NodeStyle, TreeStyle, TextFace\n",
    "import skbio\n",
    "\n",
    "from multiprocessing import Pool, cpu_count\n",
    "\n",
    "# silence deprecation warnings (lots from seaborn)\n",
    "import warnings\n",
    "warnings.filterwarnings(\"ignore\", category=DeprecationWarning) \n",
    "warnings.filterwarnings(\"ignore\", category=numpy.VisibleDeprecationWarning)\n",
    "\n",
    "numpy.random.seed(7)"
   ]
  },
  {
   "cell_type": "markdown",
   "metadata": {},
   "source": [
    "Plotting setup:"
   ]
  },
  {
   "cell_type": "code",
   "execution_count": 2,
   "metadata": {},
   "outputs": [],
   "source": [
    "%matplotlib inline\n",
    "\n",
    "# Make inline plots vector graphics instead of raster graphics\n",
    "from IPython.display import set_matplotlib_formats\n",
    "set_matplotlib_formats('retina', 'png')\n",
    "\n",
    "import matplotlib\n",
    "import matplotlib.pyplot as plt\n",
    "from matplotlib.colors import ListedColormap\n",
    "from matplotlib.patches import Rectangle, Circle, Ellipse, Patch\n",
    "from matplotlib.lines import Line2D\n",
    "from mpl_toolkits.basemap import Basemap\n",
    "#matplotlib.rcParams['figure.figsize'] = (20.0, 10.0)\n",
    "\n",
    "import mpld3\n",
    "\n",
    "import seaborn as sns\n",
    "sns.set_style(\"whitegrid\")\n",
    "sns.set_context(\"paper\")\n",
    "\n",
    "# lowess for plotting\n",
    "from statsmodels.nonparametric.smoothers_lowess import lowess"
   ]
  },
  {
   "cell_type": "code",
   "execution_count": 3,
   "metadata": {},
   "outputs": [],
   "source": [
    "import time\n",
    "class Timer:    \n",
    "    def __enter__(self):\n",
    "        self.start = time.clock()\n",
    "        return self\n",
    "\n",
    "    def __exit__(self, *args):\n",
    "        self.end = time.clock()\n",
    "        self.interval = self.end - self.start\n",
    "        print(\"{:.0f} min {:.1f} sec\".format(self.interval//60, self.interval % 60))"
   ]
  },
  {
   "cell_type": "markdown",
   "metadata": {},
   "source": [
    "Directories:"
   ]
  },
  {
   "cell_type": "code",
   "execution_count": 4,
   "metadata": {},
   "outputs": [],
   "source": [
    "root_dir = Path(os.environ['HOME'], 'simons/faststorage/people/kmt')\n",
    "meta_data_dir = Path(os.environ['HOME'], 'simons/faststorage/data/metadata')\n",
    "steps_dir = root_dir / 'steps'\n",
    "argweaver_dir = steps_dir / 'argweaver/output'\n",
    "results_dir = root_dir / 'results'\n",
    "figures_dir = root_dir / 'figures'\n",
    "data_dir = root_dir / 'data'\n",
    "#pi_dir = steps_dir / 'pi_stores'\n",
    "dist_dir = steps_dir / 'dist_stores'\n",
    "#pi_dir = root_dir / 'old_pi_stores'\n",
    "#male_x_haploid_dir = steps_dir / 'male_x_haploids'\n",
    "male_x_haploid_dir = steps_dir / 'male_x_haploids_admix_masked'\n",
    "\n",
    "# ancestral_genome_file = Path('/home', 'kmt', 'simons', \n",
    "#                         'faststorage', 'data', '1000Genomes', 'ancestral_alignmens', \n",
    "#                              'human_ancestor_GRCh37_e59', 'all_chromosomes.fa')\n",
    "reference_genome_file = Path('/home', 'kmt', 'simons', \n",
    "                        'faststorage', 'cteam_lite_public3', 'FullyPublic', 'Href.fa')\n",
    "chimp_genome_file = Path('/home', 'kmt', 'simons', \n",
    "                        'faststorage', 'cteam_lite_public3', 'FullyPublic', 'Chimp.fa')"
   ]
  },
  {
   "cell_type": "markdown",
   "metadata": {},
   "source": [
    "Import variables global to the entire analysis:"
   ]
  },
  {
   "cell_type": "code",
   "execution_count": 5,
   "metadata": {},
   "outputs": [],
   "source": [
    "import analysis_globals"
   ]
  },
  {
   "cell_type": "markdown",
   "metadata": {},
   "source": [
    "Local code:"
   ]
  },
  {
   "cell_type": "code",
   "execution_count": 6,
   "metadata": {},
   "outputs": [],
   "source": [
    "scripts_dir = root_dir / 'scripts'\n",
    "if str(scripts_dir) not in sys.path:\n",
    "    sys.path.append(str(scripts_dir))\n",
    "\n",
    "import simons_meta_data\n",
    "\n",
    "from toggle_code_and_errors import toggle_code_html, toggle_errors_html"
   ]
  },
  {
   "cell_type": "markdown",
   "metadata": {},
   "source": [
    "### Meta data"
   ]
  },
  {
   "cell_type": "code",
   "execution_count": 7,
   "metadata": {},
   "outputs": [
    {
     "data": {
      "image/png": "[encoded data removed]",
      "text/plain": [
       "<Figure size 504x72 with 1 Axes>"
      ]
     },
     "metadata": {
      "image/png": {
       "height": 68,
       "width": 404
      },
      "needs_background": "light"
     },
     "output_type": "display_data"
    }
   ],
   "source": [
    "# easy loading of meta data in a consistent manner across code\n",
    "individuals, populations, regions = simons_meta_data.get_meta_data(meta_data_dir=meta_data_dir)\n",
    "\n",
    "pop_categories = pandas.read_hdf(str(results_dir / 'population_categories.store'), 'sr')\n",
    "region_categories = pandas.read_hdf(str(results_dir / 'region_categories.store'), 'sr')\n",
    "\n",
    "my_colors = ['#e41a1c', '#377eb8', '#4daf4a', '#984ea3', \n",
    "                          '#ff7f00', '#ffff33', '#a65628']\n",
    "# mute colors a bit:\n",
    "sns.color_palette(my_colors, desat=0.85).as_hex()\n",
    "\n",
    "region_colors = dict(zip(list(region_categories), \n",
    "                         my_colors))\n",
    "\n",
    "sns.palplot(sns.color_palette(my_colors))"
   ]
  },
  {
   "cell_type": "markdown",
   "metadata": {},
   "source": [
    "### Indexes of fasta files with male haploids"
   ]
  },
  {
   "cell_type": "markdown",
   "metadata": {},
   "source": [
    "    cat data/1000Genomes/ancestral_alignmens/human_ancestor_GRCh37_e59/human_ancestor_*.fa | \\\n",
    "    perl -pe 's/ANCESTOR_for_chromosome:GRCh37:([^:]+):.*/$1/' > data/1000Genomes/ancestral_alignmens/human_ancestor_GRCh37_e59/all_chromosomes.fa"
   ]
  },
  {
   "cell_type": "code",
   "execution_count": 8,
   "metadata": {},
   "outputs": [],
   "source": [
    "# ancestral_index = pyfaidx.Fasta(str(ancestral_genome_file), \n",
    "#                                      strict_bounds=True, \n",
    "#                                      one_based_attributes=False)\n",
    "\n",
    "reference_index = pyfaidx.Fasta(str(reference_genome_file), \n",
    "                                     strict_bounds=True, \n",
    "                                     one_based_attributes=False)\n",
    "\n",
    "chimp_index = pyfaidx.Fasta(str(chimp_genome_file), \n",
    "                                     strict_bounds=True, \n",
    "                                     one_based_attributes=False)\n",
    "file_index = dict()\n",
    "for file_path in male_x_haploid_dir.glob('*.fa'):\n",
    "    name = file_path.name.split('.')[0]\n",
    "    file_index[name] = pyfaidx.Fasta(str(file_path), \n",
    "                                     strict_bounds=True, \n",
    "                                     one_based_attributes=False)"
   ]
  },
  {
   "cell_type": "code",
   "execution_count": 9,
   "metadata": {
    "scrolled": true
   },
   "outputs": [],
   "source": [
    "male_x_admix_segments = pandas.read_hdf(results_dir / 'male_x_admix_segments.hdf')\n",
    "#male_x_admix_segments.loc[lambda df: df.name == 'S_Papuan-12'] # head(100)"
   ]
  },
  {
   "cell_type": "markdown",
   "metadata": {},
   "source": [
    "### Plotting code"
   ]
  },
  {
   "cell_type": "markdown",
   "metadata": {},
   "source": [
    "UPGMA implementation:"
   ]
  },
  {
   "cell_type": "code",
   "execution_count": 10,
   "metadata": {},
   "outputs": [],
   "source": [
    "def find_lowest_cell(table):\n",
    "    x = 1\n",
    "    y = 0\n",
    "    min_val = table[x][y]\n",
    "    for i in range(len(table)):\n",
    "        for j in range(len(table[i])):\n",
    "            if table[i][j] < min_val:\n",
    "                min_val = table[i][j]\n",
    "                x = i\n",
    "                y = j\n",
    "    return [x, y]\n",
    "\n",
    "def link(x, y, wx, wy):\n",
    "    return (x * wx + y * wy) / (wx + wy)\n",
    "\n",
    "def update_table(table, a, b, weight_a, weight_b):\n",
    "    for i in range(0, b):\n",
    "        table[b][i] = link(table[b][i], table[a][i], weight_b, weight_a)\n",
    "    for j in range(b+1, a):\n",
    "        table[j][b] = link(table[j][b], table[a][j], weight_b, weight_a)\n",
    "    for i in range(a+1, len(table)):\n",
    "        table[i][b] = link(table[i][b], table[i][a], weight_b, weight_a)\n",
    "    for i in range(a+1, len(table)):\n",
    "        del table[i][a]\n",
    "    del table[a] \n",
    "\n",
    "def update_labels(labels, i, j, di, dj):\n",
    "    labels[j] = \"({}:{},{}:{})\".format(labels[j], dj, labels[i], di)\n",
    "    del labels[i]\n",
    "\n",
    "def upgma(mat, names):\n",
    "\n",
    "    table = mat[:]\n",
    "    labels = names[:]\n",
    "    node_heights = [0 for _ in labels]\n",
    "\n",
    "    while len(labels) > 1:\n",
    "        i, j = find_lowest_cell(table)\n",
    "        \n",
    "        dist = table[i][j]\n",
    "\n",
    "        wi = max(1, labels[i].count(':'))\n",
    "        wj = max(1, labels[j].count(':'))\n",
    "\n",
    "        new_node_height = dist / 2\n",
    "        di = new_node_height - node_heights[i]\n",
    "        dj = new_node_height - node_heights[j]\n",
    "        \n",
    "        update_table(table, i, j, wi, wj)\n",
    "        update_labels(labels, i, j, di, dj)\n",
    "        node_heights[j] = new_node_height\n",
    "        del node_heights[i]\n",
    "        \n",
    "    return labels[0] + ';'"
   ]
  },
  {
   "cell_type": "code",
   "execution_count": 28,
   "metadata": {},
   "outputs": [],
   "source": [
    "from Bio.Phylo.TreeConstruction import DistanceTreeConstructor, DistanceMatrix\n",
    "from Bio.Phylo import NewickIO\n",
    "\n",
    "def jc(seq1, seq2, case_sensitive=True):\n",
    "    assert len(seq1) == len(seq2), (len(seq1), len(seq2))\n",
    "    tot, diff = 0, 0\n",
    "    for x, y in zip(seq1, seq2):\n",
    "        if not case_sensitive:\n",
    "            x, y = x.upper(), y.upper()\n",
    "        if x in 'ATCG' and y in 'ATCG':\n",
    "            if x != y:\n",
    "                diff += 1\n",
    "            tot += 1    \n",
    "    if not tot:\n",
    "        return numpy.nan\n",
    "    elif diff:\n",
    "        distance = -3/4 * math.log(1 - 4/3 * diff/tot)\n",
    "    else:\n",
    "        distance = 0.0\n",
    "    return distance\n",
    "\n",
    "\n",
    "# def dist_matrix(seq_list):\n",
    "#     n = len(seq_list)\n",
    "#     mat = numpy.zeros((n, n))\n",
    "#     for i in range(n):\n",
    "#         for j in range(i, n):\n",
    "#             mat[i][j] = jc(seq_list[i], seq_list[j])\n",
    "#             mat[j][i] = mat[i][j]\n",
    "#     return mat\n",
    "\n",
    "\n",
    "def dist_matrix(seq_list, case_sensitive=True):\n",
    "    n = len(seq_list)\n",
    "    mat = numpy.zeros((n, n))\n",
    "\n",
    "    upper_trag_idx = list(zip(*numpy.triu_indices(n, k=1)))\n",
    "#     seq_pairs = [(seq_list[i], seq_list[j]) for i, j in upper_trag_idx]\n",
    "    args = [(seq_list[i], seq_list[j], case_sensitive) for i, j in upper_trag_idx]\n",
    "\n",
    "    with Pool(int(os.environ['SLURM_CPUS_PER_TASK'])) as p:\n",
    "        jc_distances = p.starmap(jc, args)\n",
    "\n",
    "    for (i, j), d in zip(upper_trag_idx, jc_distances):\n",
    "        mat[i][j] = d\n",
    "        mat[j][i] = mat[i][j]\n",
    "\n",
    "    return mat\n",
    "\n",
    "# def dist(seq1, seq2_list):\n",
    "#     n = len(seq_list)\n",
    "#     mat = numpy.zeros((n, n))\n",
    "    \n",
    "#     upper_trag_idx = list(zip(*numpy.triu_indices(n, k=1)))\n",
    "#     seq_pairs = [(seq_list[i], seq_list[j]) for i, j in upper_trag_idx]\n",
    "#     jc_distances = dview.map_sync(jc, *zip(*seq_pairs))\n",
    "#     for (i, j), d in zip(upper_trag_idx, jc_distances):\n",
    "#         mat[i][j] = d\n",
    "#         mat[j][i] = mat[i][j]\n",
    "# #     for i in range(n):\n",
    "# #         for j in range(i, n):\n",
    "# #             mat[i][j] = jc(seq_list[i], seq_list[j])\n",
    "# #             mat[j][i] = mat[i][j]\n",
    "\n",
    "#     return mat\n",
    "\n",
    "def get_sequence_windows(sample_ids, start, end):\n",
    "    assert start < end\n",
    "    start, end = int(start), int(end)\n",
    "    seq_list = list()\n",
    "    name_list = list()\n",
    "\n",
    "    for sample_id in sample_ids:\n",
    "        name = sample_id + '-A'   \n",
    "        seq_list.append(file_index[name]['X'][start:end].seq)\n",
    "        name_list.append(name.replace('-A', ''))\n",
    "        \n",
    "#     seq_list.append(chimp_index['X'][start:end].seq)\n",
    "#     name_list.append('Chimp')\n",
    "    return name_list, seq_list\n",
    "\n",
    "# def tree_newick(name_list, seq_list):\n",
    "#     dm = skbio.DistanceMatrix(dist_matrix(seq_list).tolist(), name_list)\n",
    "#     newick_str = skbio.tree.nj(dm, disallow_negative_branch_length=True, result_constructor=str)\n",
    "#     return newick_str\n",
    "\n",
    "# def tree_newick(name_list, seq_list):\n",
    "#     mat = dist_matrix(seq_list).tolist()\n",
    "#     lowtri = [lst[:i+1] for (i, lst) in enumerate(mat)]\n",
    "#     dm = DistanceMatrix(name_list, lowtri)    \n",
    "#     constructor = DistanceTreeConstructor()\n",
    "#     tree = constructor.upgma(dm)\n",
    "#     #tree = constructor.nj(dm)\n",
    "#     output = io.StringIO()\n",
    "#     NewickIO.write([tree], output)\n",
    "#     contents = output.getvalue().strip()\n",
    "#     newick_str = re.sub(r'Inner\\d+', '', contents)\n",
    "#     return newick_str\n",
    "\n",
    "# def prune_matrix(mat):\n",
    "    \n",
    "#     print(mat)\n",
    "#     for i in range(len(mat)-1, -1, -1):\n",
    "#         if sum(math.isnan(x) for x in mat[i]):\n",
    "#             print(i)\n",
    "#             for j in range(len(mat[i])-1, -1, -1):\n",
    "#                 del mat[i][j]\n",
    "#             del mat[i]\n",
    "#     print(mat)\n",
    "\n",
    "#     return mat\n",
    "\n",
    "def prune_nans(mat, name_list):\n",
    "\n",
    "    # Find rows (and cols) where all off-diagonal entries are nan:\n",
    "    mask = numpy.isnan(mat).sum(axis=0) == numpy.size(mat, axis=0)-1\n",
    "    delete = [i for (i, delete) in enumerate(mask) if delete]\n",
    "    # remove those rows and cols:\n",
    "    mat = numpy.delete(mat, delete, axis=0)\n",
    "    mat = numpy.delete(mat, delete, axis=1)\n",
    "    # update name list:\n",
    "    name_list = [name for (i, name) in enumerate(name_list) if i not in delete]\n",
    "    \n",
    "    # if there are any nans left we have to remove all row/cols with a nan:\n",
    "    if numpy.isnan(mat).any():    \n",
    "        # in that case we could do this to remove all row/cols with a nan\n",
    "        mask = numpy.isnan(mat).sum(axis=0).astype('bool')\n",
    "        delete = [i for (i, delete) in enumerate(mask) if delete]\n",
    "        # remove those rows and cols:\n",
    "        mat = numpy.delete(mat, delete, axis=0)\n",
    "        mat = numpy.delete(mat, delete, axis=1)\n",
    "        # update name list:\n",
    "        name_list = [name for (i, name) in enumerate(name_list) if i not in delete]\n",
    "        \n",
    "    return mat, name_list\n",
    "\n",
    "def tree_newick(name_list, seq_list, case_sensitive=True):\n",
    "\n",
    "    mat = dist_matrix(seq_list, case_sensitive=case_sensitive)\n",
    "    mat, name_list = prune_nans(mat, name_list)\n",
    "    \n",
    "    lowtri = [lst[:i] for (i, lst) in enumerate(mat.tolist())]\n",
    "    newick_str = upgma(lowtri, name_list)\n",
    "    return newick_str\n",
    "\n",
    "def get_non_ref_indexes(sample_name_list, seq_window_list, reference_window):\n",
    "    non_ref_indexes = defaultdict(list)\n",
    "    uncalled_indexes = defaultdict(list)\n",
    "    for name, sample_window in zip(sample_name_list, seq_window_list):\n",
    "        for i, (s, r) in enumerate(zip(sample_window, reference_window)):\n",
    "            if s in 'ATGC' and r in 'ATGC':\n",
    "                if s != r:\n",
    "                    non_ref_indexes[name].append(i)\n",
    "            else:\n",
    "                uncalled_indexes[name].append(i)\n",
    "    return non_ref_indexes, uncalled_indexes\n",
    "\n",
    "\n",
    "def make_comb_tree(t):\n",
    "    for node in t.traverse():\n",
    "        if not node.is_leaf():\n",
    "            node.children = sorted(node.children, key=lambda c: len(c.get_leaves()), reverse=False)\n",
    "    "
   ]
  },
  {
   "cell_type": "markdown",
   "metadata": {},
   "source": [
    "Drawing a tree:"
   ]
  },
  {
   "cell_type": "code",
   "execution_count": 12,
   "metadata": {},
   "outputs": [],
   "source": [
    "def plot_tree(t, ax, leaf_colors=None, show_inner_nodes=False, fontsize=10, \n",
    "              text_offset=None, margins=(0.5, 1, 0.5, 1)): # top, right, bottom, left\n",
    "\n",
    "    y_offset = len(t.get_leaves())\n",
    "    for node in t.traverse(\"preorder\"):\n",
    "        node.x_offset = node.dist + sum(x.dist for x in node.get_ancestors())\n",
    "        if node.is_leaf():\n",
    "            y_offset -= 1\n",
    "            node.y_offset = y_offset\n",
    "\n",
    "    for node in t.traverse(\"postorder\"):\n",
    "        if not node.is_leaf():\n",
    "            node.y_offset = sum(x.y_offset for x in node.children) / len(node.children)\n",
    "\n",
    "    horizontal_lines = list()\n",
    "    vertical_lines = list()\n",
    "    node_coords = list()\n",
    "    leaf_coords = list()\n",
    "    max_x_offset = 0\n",
    "    for node in t.traverse(\"postorder\"):\n",
    "        max_x_offset = max(max_x_offset, node.x_offset)\n",
    "        node_coords.append((node.x_offset, node.y_offset))\n",
    "        if node.is_leaf():\n",
    "            leaf_coords.append([node.name, node.x_offset, node.y_offset])\n",
    "        if not node.is_root():\n",
    "            y = node.y_offset\n",
    "            horizontal_lines.append(([node.up.x_offset, node.x_offset], [y, y]))\n",
    "        if not node.is_leaf():\n",
    "            c = sorted(node.children, key=lambda x: x.y_offset)\n",
    "            bottom, top = c[0], c[-1]\n",
    "            x = node.x_offset\n",
    "            vertical_lines.append(([x, x],[bottom.y_offset, top.y_offset]))\n",
    "\n",
    "    \n",
    "    # shift the tree to put leaves at zero\n",
    "    for i in range(len(horizontal_lines)):\n",
    "        horizontal_lines[i][0][0] -= max_x_offset\n",
    "        horizontal_lines[i][0][1] -= max_x_offset\n",
    "    for i in range(len(vertical_lines)):\n",
    "        vertical_lines[i][0][0] -= max_x_offset\n",
    "        vertical_lines[i][0][1] -= max_x_offset\n",
    "    for i in range(len(leaf_coords)):\n",
    "        leaf_coords[i][1] -= max_x_offset\n",
    "            \n",
    "    # draw the tree:\n",
    "    for x in horizontal_lines:\n",
    "        ax.plot(*x, c='black', linewidth=0.8)\n",
    "    for x in vertical_lines:\n",
    "        ax.plot(*x, c='black', linewidth=0.8)\n",
    "\n",
    "#     for tup in node_coords:\n",
    "#         ax.plot(*tup, c='black', marker=\"o\")\n",
    "\n",
    "    if text_offset is None:\n",
    "        text_offset = max_x_offset / 20\n",
    "        \n",
    "    for name, x, y in leaf_coords:\n",
    "        ax.text(x+text_offset, y, name, fontsize=fontsize,\n",
    "                verticalalignment='center', horizontalalignment='left')\n",
    "        if leaf_colors is None:\n",
    "            color = 'black'\n",
    "        else:\n",
    "            color = leaf_colors[name]\n",
    "        ax.plot(x, y, c=color, marker=\"o\", ms=3)\n",
    "\n",
    "\n",
    "#     ax.set_xlim(-margins[3], max_x_offset + margins[1])\n",
    "    ax.set_xlim(-margins[3]-max_x_offset, margins[1])\n",
    "    ax.set_ylim(-margins[2], len(leaf_coords)-1+margins[0])\n",
    "\n",
    "\n",
    "    #ax.get_xaxis().set_visible(False)\n",
    "    ax.get_yaxis().set_visible(False)\n",
    "\n",
    "    ax.spines['top'].set_visible(False) \n",
    "    ax.spines['left'].set_visible(False) \n",
    "    ax.spines['right'].set_visible(False)\n",
    "    \n",
    "    ax.xaxis.set_major_locator(plt.MaxNLocator(4))\n",
    "    \n",
    "    return leaf_coords"
   ]
  },
  {
   "cell_type": "markdown",
   "metadata": {},
   "source": [
    "The Tishkoff plot:"
   ]
  },
  {
   "cell_type": "code",
   "execution_count": 13,
   "metadata": {},
   "outputs": [],
   "source": [
    "from itertools import groupby\n",
    "from operator import itemgetter\n",
    "\n",
    "def tishkoff_plot(start, end, sample_ids, extra_data=None, plot_admix=True, \n",
    "                  plot_uncalled=False, case_sensitive=True, figsize=(12, 10)):\n",
    "    sample_name_list, seq_window_list = get_sequence_windows(sample_ids, start, end)\n",
    "    reference_window = reference_index['X'][start:end].seq\n",
    "#     ancestral_window = ancestral_index['X'][start:end].seq\n",
    "\n",
    "    newick_str = tree_newick(sample_name_list, seq_window_list, case_sensitive=case_sensitive)\n",
    "    tree = Tree(newick_str)\n",
    "\n",
    "#     # remove chimp outgroup branches\n",
    "#     tree.set_outgroup( tree&\"Chimp\" )\n",
    "#     all_leaves = tree.get_leaf_names()\n",
    "#     all_leaves.remove('Chimp')\n",
    "#     tree.prune(all_leaves, preserve_branch_length=False)\n",
    "    \n",
    "    make_comb_tree(tree)\n",
    "\n",
    "    non_ref_indexes, uncalled_indexes = get_non_ref_indexes(sample_name_list, seq_window_list, reference_window)\n",
    "#     non_ref_indexes, uncalled_indexes = get_non_ref_indexes(sample_name_list, seq_window_list, ancestral_window)\n",
    "    \n",
    "    leaf_colors = dict()\n",
    "    for ind in individuals:\n",
    "        leaf_colors[ind] = region_colors[individuals[ind]['Region']]\n",
    "\n",
    "    leaf_colors['Ust_Ishim'] = 'grey'\n",
    "#     leaf_colors['Chimp'] = 'black'\n",
    "\n",
    "        \n",
    "    with sns.axes_style('whitegrid'):\n",
    "\n",
    "        if extra_data is None:\n",
    "            fig = plt.figure(figsize=figsize) \n",
    "            gs = matplotlib.gridspec.GridSpec(1, 2, width_ratios=[1, 1]) \n",
    "            ax0 = plt.subplot(gs[0])\n",
    "            ax1 = plt.subplot(gs[1])\n",
    "        else:\n",
    "            fig = plt.figure(figsize=figsize) \n",
    "            gs = matplotlib.gridspec.GridSpec(1, 3, width_ratios=[2, 1, 2]) \n",
    "            ax0 = plt.subplot(gs[0])\n",
    "            ax_extra = plt.subplot(gs[1])\n",
    "            ax1 = plt.subplot(gs[2])\n",
    "\n",
    "\n",
    "        leaf_info = plot_tree(tree, ax0, margins=(1, 0.0001, 1, 0.0001), \n",
    "                              fontsize=4, leaf_colors=leaf_colors)\n",
    "\n",
    "        \n",
    "        legend_elements = [Line2D([0], [0], marker='o', color='white', markersize=10, \n",
    "                          label=reg, markerfacecolor=region_colors[reg]) for reg in region_categories]\n",
    "        ax0.legend(handles=legend_elements, loc='lower left', prop={'size': 10})\n",
    "\n",
    "        # dotted line showing cutoff used:\n",
    "        ax0.axvline(-analysis_globals.pwdist_cutoff, linestyle='dotted', color='black')\n",
    "\n",
    "        \n",
    "        if extra_data is not None:\n",
    "\n",
    "            with sns.axes_style('white'):\n",
    "                names, x, y = zip(*leaf_info)\n",
    "                copy_numbers = [extra_data(name) for name in names]\n",
    "                ax_extra.barh(y, copy_numbers, color='lightgrey')\n",
    "\n",
    "\n",
    "        for name, x, y in leaf_info:\n",
    "            # plot the colored bar\n",
    "            g = ax1.add_patch(Rectangle((0, y-0.5), end-start, 1, \n",
    "                                        facecolor=leaf_colors[name], \n",
    "                                        edgecolor=leaf_colors[name], \n",
    "                                        zorder=0))\n",
    "\n",
    "            \n",
    "            if plot_admix:\n",
    "                # admix tracts\n",
    "                admix_sgm = male_x_admix_segments.loc[lambda df: (df.name == name) & \\\n",
    "                                                  (df.start < end) & (df.end > start)]\n",
    "                for tup in admix_sgm.itertuples():\n",
    "                    s = tup.start - start\n",
    "                    e = tup.end - start\n",
    "                    g = ax1.add_patch(Rectangle((s, y-0.5), e-s, 1,\n",
    "                                                facecolor='magenta',\n",
    "                                                edgecolor='magenta',\n",
    "                                                linewidth=0,\n",
    "                                                zorder=1))\n",
    "\n",
    "                    # Denisova SNPs with transparent dots around. \n",
    "                    if tup.Denisova:\n",
    "                        for snp in map(int, tup.Denisova.split(',')):\n",
    "                            snp -= start\n",
    "                            ax1.add_line(Line2D((snp, snp), (y-0.5, y+0.5),\n",
    "                                         color='orange', solid_capstyle='butt', \n",
    "                                                linewidth=0.5, zorder=4, alpha=0.5))                \n",
    "\n",
    "            \n",
    "            if plot_uncalled and uncalled_indexes:\n",
    "                # plot uncalled segments as lihgher areas\n",
    "                uncalled_segments = list()\n",
    "                for k, g in groupby(list(enumerate(uncalled_indexes[name])), lambda x: x[0]-x[1]):\n",
    "                    l = list(map(itemgetter(1), g))\n",
    "                    uncalled_segments.append((l[0], l[-1]))\n",
    "                for s, e in uncalled_segments:\n",
    "                    g = ax1.add_patch(Rectangle((s, y-0.5), e-s, 1,\n",
    "                                                facecolor='white', \n",
    "                                                linewidth=0,\n",
    "                                                alpha=0.3,\n",
    "                                                zorder=2))\n",
    "\n",
    "            # plot snps\n",
    "            for p in non_ref_indexes[name]:\n",
    "                ax1.add_line(Line2D((p, p), (y-0.5, y+0.5),\n",
    "                                    color='black', solid_capstyle='butt', linewidth=0.5, zorder=3))                \n",
    "\n",
    "\n",
    "        ax1.set_xlim(0, end-start)\n",
    "        ax1.set_ylim(ax0.get_ylim())\n",
    "\n",
    "        ax1.get_yaxis().set_visible(False)\n",
    "        \n",
    "        def format_func(value, tick_number):\n",
    "            if value % 100000:\n",
    "                return '' # only ticks for even 100\n",
    "            return \"{:.1f}\".format((value + start)/1000000)\n",
    "\n",
    "        ax1.xaxis.set_major_formatter(plt.FuncFormatter(format_func))\n",
    "\n",
    "        ax1.grid(False)\n",
    "           \n",
    "        ax1.spines['top'].set_visible(False) \n",
    "        ax1.spines['left'].set_visible(False) \n",
    "        ax1.spines['right'].set_visible(False) \n",
    "        ax1.spines['bottom'].set_visible(False) \n",
    "\n",
    "        if extra_data is not None:\n",
    "            ax_extra.set_xlim(0, max(copy_numbers)+max(copy_numbers)*0.1)\n",
    "            ax_extra.set_ylim(ax0.get_ylim())\n",
    "\n",
    "            ax_extra.get_yaxis().set_visible(False)\n",
    "            ax_extra.spines['top'].set_visible(False) \n",
    "            ax_extra.spines['left'].set_visible(False) \n",
    "            ax_extra.spines['right'].set_visible(False) \n",
    "\n",
    "        plt.tight_layout()    \n",
    "\n",
    "        return fig"
   ]
  },
  {
   "cell_type": "markdown",
   "metadata": {},
   "source": [
    "## Data"
   ]
  },
  {
   "cell_type": "code",
   "execution_count": 14,
   "metadata": {},
   "outputs": [
    {
     "data": {
      "text/plain": [
       "162"
      ]
     },
     "execution_count": 14,
     "metadata": {},
     "output_type": "execute_result"
    }
   ],
   "source": [
    "sweep_data = pandas.read_hdf(results_dir / 'sweep_data.hdf')\n",
    "male_indivs = sweep_data.indiv_1.unique()\n",
    "len(male_indivs)"
   ]
  },
  {
   "cell_type": "markdown",
   "metadata": {},
   "source": [
    "Load 90% extended regions that have enough individuals sweept that we call them as sweeps:"
   ]
  },
  {
   "cell_type": "code",
   "execution_count": 15,
   "metadata": {},
   "outputs": [
    {
     "data": {
      "text/html": [
       "<div>\n",
       "<style scoped>\n",
       "    .dataframe tbody tr th:only-of-type {\n",
       "        vertical-align: middle;\n",
       "    }\n",
       "\n",
       "    .dataframe tbody tr th {\n",
       "        vertical-align: top;\n",
       "    }\n",
       "\n",
       "    .dataframe thead th {\n",
       "        text-align: right;\n",
       "    }\n",
       "</style>\n",
       "<table border=\"1\" class=\"dataframe\">\n",
       "  <thead>\n",
       "    <tr style=\"text-align: right;\">\n",
       "      <th></th>\n",
       "      <th>pos</th>\n",
       "      <th>peak_start</th>\n",
       "      <th>peak_end</th>\n",
       "      <th>peak_prop_swept</th>\n",
       "      <th>start_pos</th>\n",
       "      <th>end_pos</th>\n",
       "      <th>prop_swept</th>\n",
       "      <th>swept_indivs</th>\n",
       "    </tr>\n",
       "  </thead>\n",
       "  <tbody>\n",
       "    <tr>\n",
       "      <th>0</th>\n",
       "      <td>19850000.0</td>\n",
       "      <td>19800000</td>\n",
       "      <td>19900000</td>\n",
       "      <td>0.828571</td>\n",
       "      <td>19600000</td>\n",
       "      <td>20100000</td>\n",
       "      <td>0.771429</td>\n",
       "      <td>[B_Australian-4, B_Crete-2, B_Dai-4, B_French-...</td>\n",
       "    </tr>\n",
       "    <tr>\n",
       "      <th>1</th>\n",
       "      <td>21250000.0</td>\n",
       "      <td>21200000</td>\n",
       "      <td>21300000</td>\n",
       "      <td>0.814286</td>\n",
       "      <td>21100000</td>\n",
       "      <td>21600000</td>\n",
       "      <td>0.785714</td>\n",
       "      <td>[B_Australian-4, B_Crete-2, B_French-3, B_Han-...</td>\n",
       "    </tr>\n",
       "    <tr>\n",
       "      <th>2</th>\n",
       "      <td>36300000.0</td>\n",
       "      <td>36200000</td>\n",
       "      <td>36400000</td>\n",
       "      <td>0.664286</td>\n",
       "      <td>36000000</td>\n",
       "      <td>36400000</td>\n",
       "      <td>0.635714</td>\n",
       "      <td>[B_Crete-2, B_Dai-4, B_French-3, B_Han-3, B_Ka...</td>\n",
       "    </tr>\n",
       "    <tr>\n",
       "      <th>3</th>\n",
       "      <td>37500000.0</td>\n",
       "      <td>37300000</td>\n",
       "      <td>37700000</td>\n",
       "      <td>0.507143</td>\n",
       "      <td>37200000</td>\n",
       "      <td>37700000</td>\n",
       "      <td>0.500000</td>\n",
       "      <td>[B_Crete-2, B_Dai-4, B_Han-3, B_Karitiana-3, S...</td>\n",
       "    </tr>\n",
       "    <tr>\n",
       "      <th>4</th>\n",
       "      <td>49750000.0</td>\n",
       "      <td>49500000</td>\n",
       "      <td>50000000</td>\n",
       "      <td>0.528571</td>\n",
       "      <td>49500000</td>\n",
       "      <td>50000000</td>\n",
       "      <td>0.528571</td>\n",
       "      <td>[B_Australian-4, B_French-3, B_Papuan-15, S_Al...</td>\n",
       "    </tr>\n",
       "  </tbody>\n",
       "</table>\n",
       "</div>"
      ],
      "text/plain": [
       "          pos  peak_start  peak_end  peak_prop_swept  start_pos   end_pos  \\\n",
       "0  19850000.0    19800000  19900000         0.828571   19600000  20100000   \n",
       "1  21250000.0    21200000  21300000         0.814286   21100000  21600000   \n",
       "2  36300000.0    36200000  36400000         0.664286   36000000  36400000   \n",
       "3  37500000.0    37300000  37700000         0.507143   37200000  37700000   \n",
       "4  49750000.0    49500000  50000000         0.528571   49500000  50000000   \n",
       "\n",
       "   prop_swept                                       swept_indivs  \n",
       "0    0.771429  [B_Australian-4, B_Crete-2, B_Dai-4, B_French-...  \n",
       "1    0.785714  [B_Australian-4, B_Crete-2, B_French-3, B_Han-...  \n",
       "2    0.635714  [B_Crete-2, B_Dai-4, B_French-3, B_Han-3, B_Ka...  \n",
       "3    0.500000  [B_Crete-2, B_Dai-4, B_Han-3, B_Karitiana-3, S...  \n",
       "4    0.528571  [B_Australian-4, B_French-3, B_Papuan-15, S_Al...  "
      ]
     },
     "execution_count": 15,
     "metadata": {},
     "output_type": "execute_result"
    }
   ],
   "source": [
    "extended_peak_regions = (pandas.read_hdf(results_dir / 'extended_peak_regions_90%.hdf')\n",
    "                        )\n",
    "extended_peak_regions.swept_indivs = [eval(x) for x in extended_peak_regions.swept_indivs]\n",
    "extended_peak_regions.head()"
   ]
  },
  {
   "cell_type": "markdown",
   "metadata": {},
   "source": [
    "## Test plots"
   ]
  },
  {
   "cell_type": "code",
   "execution_count": 16,
   "metadata": {},
   "outputs": [
    {
     "data": {
      "image/png": "[encoded data removed]",
      "text/plain": [
       "<Figure size 864x720 with 2 Axes>"
      ]
     },
     "metadata": {
      "image/png": {
       "height": 712,
       "width": 856
      }
     },
     "output_type": "display_data"
    }
   ],
   "source": [
    "fig = tishkoff_plot(76900000, 77000000, ['S_Brahmin-1', 'B_Australian-4', \n",
    "                                         'S_Turkish-1', 'B_French-3', 'B_Han-3', 'S_Brahmin-1' ], \n",
    "                    plot_admix=False, plot_uncalled=True)\n",
    "# plt.savefig(str(figures_dir / 'S_Brahmin-1.pdf'))\n",
    "# plt.clf()\n",
    "# plt.close(\"all\")"
   ]
  },
  {
   "cell_type": "code",
   "execution_count": 17,
   "metadata": {},
   "outputs": [
    {
     "name": "stdout",
     "output_type": "stream",
     "text": [
      "CPU times: user 6.97 s, sys: 1.12 s, total: 8.09 s\n",
      "Wall time: 13.9 s\n"
     ]
    }
   ],
   "source": [
    "%%time\n",
    "#%%prun -s cumtime #-l ipython\n",
    "\n",
    "fig = tishkoff_plot(8420000, 8470000, male_indivs, plot_admix=True, plot_uncalled=False)\n",
    "plt.savefig(str(figures_dir / 'test.pdf'))\n",
    "plt.clf()\n",
    "plt.close(\"all\")"
   ]
  },
  {
   "cell_type": "markdown",
   "metadata": {},
   "source": [
    "## Add Ust Ishim to male individuals"
   ]
  },
  {
   "cell_type": "code",
   "execution_count": 18,
   "metadata": {},
   "outputs": [],
   "source": [
    "if 'Ust_Ishim' not in male_indivs: # precaution if run more than once\n",
    "    male_indivs = list(male_indivs) + ['Ust_Ishim']"
   ]
  },
  {
   "cell_type": "markdown",
   "metadata": {},
   "source": [
    "## Plots for main paper\n",
    "\n",
    "Plot without admixture segments:"
   ]
  },
  {
   "cell_type": "code",
   "execution_count": 19,
   "metadata": {},
   "outputs": [
    {
     "name": "stdout",
     "output_type": "stream",
     "text": [
      "CPU times: user 3.51 s, sys: 1 s, total: 4.52 s\n",
      "Wall time: 4.28 s\n"
     ]
    },
    {
     "data": {
      "text/plain": [
       "113820"
      ]
     },
     "execution_count": 19,
     "metadata": {},
     "output_type": "execute_result"
    }
   ],
   "source": [
    "%%time\n",
    "fig = tishkoff_plot(100000000, 100005000, male_indivs, plot_admix=False)\n",
    "fig.suptitle('A', fontsize=20, x=0, y=1, horizontalalignment='left', verticalalignment='top')\n",
    "\n",
    "plt.savefig(str(figures_dir / 'test.pdf'))\n",
    "plt.clf()\n",
    "plt.close(\"all\")\n",
    "gc.collect()"
   ]
  },
  {
   "cell_type": "code",
   "execution_count": 20,
   "metadata": {},
   "outputs": [
    {
     "name": "stdout",
     "output_type": "stream",
     "text": [
      "CPU times: user 46.7 s, sys: 4.79 s, total: 51.5 s\n",
      "Wall time: 3min 12s\n"
     ]
    }
   ],
   "source": [
    "%%time\n",
    "for tup in extended_peak_regions.itertuples():\n",
    "    prop_swept = '{:.0f}'.format(tup.prop_swept * 100)    \n",
    "    pos = int(tup.pos)\n",
    "    if pos in [55500000, 110900000]:\n",
    "        fig = tishkoff_plot( tup.start_pos, tup.end_pos, male_indivs, plot_admix=False, figsize=(9, 10))\n",
    "        plt.savefig(str(figures_dir / 'main_haplo_visual_{:09}_{:09}_{}.pdf'.format(tup.start_pos, tup.end_pos, prop_swept)))\n",
    "        plt.clf()\n",
    "        plt.close(\"all\")\n",
    "        gc.collect()"
   ]
  },
  {
   "cell_type": "markdown",
   "metadata": {},
   "source": [
    "500kb plot outside any sweeps for comparison:"
   ]
  },
  {
   "cell_type": "code",
   "execution_count": 21,
   "metadata": {},
   "outputs": [
    {
     "name": "stdout",
     "output_type": "stream",
     "text": [
      "CPU times: user 27.9 s, sys: 2.74 s, total: 30.6 s\n",
      "Wall time: 1min 46s\n"
     ]
    },
    {
     "data": {
      "text/plain": [
       "1488443"
      ]
     },
     "execution_count": 21,
     "metadata": {},
     "output_type": "execute_result"
    }
   ],
   "source": [
    "%%time\n",
    "pos = 29950000\n",
    "win_start, win_end = pos - 250000, pos + 250000 \n",
    "fig = tishkoff_plot(win_start, win_end, male_indivs, plot_admix=False, figsize=(9, 10))\n",
    "plt.savefig(str(figures_dir / 'haplo_visual_background_{:09}_{:09}.pdf'.format(win_start, win_end)))\n",
    "plt.clf()\n",
    "plt.close(\"all\")\n",
    "gc.collect()"
   ]
  },
  {
   "cell_type": "markdown",
   "metadata": {},
   "source": [
    "## Plots for supplementary"
   ]
  },
  {
   "cell_type": "code",
   "execution_count": 22,
   "metadata": {},
   "outputs": [],
   "source": [
    "letters = 'ABCDEFGHIJKLMNOPQRSTUVWXYZ$%&#'"
   ]
  },
  {
   "cell_type": "code",
   "execution_count": 29,
   "metadata": {},
   "outputs": [
    {
     "name": "stdout",
     "output_type": "stream",
     "text": [
      "76700000\n",
      "98500000\n",
      "110200000\n",
      "114000000\n",
      "126800000\n",
      "129700000\n",
      "131200000\n",
      "132600000\n",
      "153900000\n",
      "CPU times: user 4min 15s, sys: 29.3 s, total: 4min 45s\n",
      "Wall time: 15min 29s\n"
     ]
    }
   ],
   "source": [
    "%%time\n",
    "for i, tup in enumerate(extended_peak_regions.itertuples()):    \n",
    "    prop_swept = '{:.0f}'.format(tup.prop_swept * 100)\n",
    "    pos = int(tup.pos)        \n",
    "    fig = tishkoff_plot( tup.start_pos, tup.end_pos, male_indivs, plot_admix=False)\n",
    "    fig.suptitle(letters[i], fontsize=20, x=0, y=1, horizontalalignment='left', verticalalignment='top')\n",
    "    plt.savefig(str(figures_dir / 'haplo_visual_{:09}_{:09}_{}.pdf'.format(tup.start_pos, tup.end_pos, prop_swept)))\n",
    "    plt.clf()\n",
    "    plt.close(\"all\")\n",
    "    gc.collect()\n",
    "    \n",
    "    print(tup.start_pos)"
   ]
  },
  {
   "cell_type": "markdown",
   "metadata": {},
   "source": [
    "Same but showing admix segments too (not for supplementary):"
   ]
  },
  {
   "cell_type": "code",
   "execution_count": 30,
   "metadata": {},
   "outputs": [
    {
     "name": "stdout",
     "output_type": "stream",
     "text": [
      "19600000\n",
      "21100000\n",
      "36000000\n",
      "37200000\n",
      "49500000\n",
      "50800000\n",
      "54000000\n",
      "64600000\n",
      "73000000\n",
      "73800000\n",
      "76700000\n",
      "98500000\n",
      "110200000\n",
      "114000000\n",
      "126800000\n",
      "129700000\n",
      "131200000\n",
      "132600000\n",
      "153900000\n",
      "CPU times: user 8min 30s, sys: 56.9 s, total: 9min 26s\n",
      "Wall time: 29min 48s\n"
     ]
    }
   ],
   "source": [
    "%%time\n",
    "for i, tup in enumerate(extended_peak_regions.itertuples()):    \n",
    "    prop_swept = '{:.0f}'.format(tup.prop_swept * 100)\n",
    "    pos = int(tup.pos)\n",
    "    fig = tishkoff_plot( tup.start_pos, tup.end_pos, male_indivs, plot_admix=True)\n",
    "    fig.suptitle(letters[i], fontsize=20, x=0, y=1, horizontalalignment='left', verticalalignment='top')\n",
    "    plt.savefig(str(figures_dir / 'haplo_visual_with_admix_{:09}_{:09}_{}.pdf'.format(tup.start_pos, tup.end_pos, prop_swept)))\n",
    "    plt.clf()\n",
    "    plt.close(\"all\")\n",
    "    gc.collect()\n",
    "    \n",
    "    print(tup.start_pos)    "
   ]
  },
  {
   "cell_type": "markdown",
   "metadata": {},
   "source": [
    "Same but showing missing data too (not for supplementary):"
   ]
  },
  {
   "cell_type": "code",
   "execution_count": 31,
   "metadata": {},
   "outputs": [
    {
     "name": "stdout",
     "output_type": "stream",
     "text": [
      "19600000\n",
      "21100000\n",
      "36000000\n",
      "37200000\n",
      "49500000\n",
      "50800000\n",
      "54000000\n",
      "64600000\n",
      "73000000\n",
      "73800000\n",
      "76700000\n",
      "98500000\n",
      "110200000\n",
      "114000000\n",
      "126800000\n",
      "129700000\n",
      "131200000\n",
      "132600000\n",
      "153900000\n",
      "CPU times: user 2h 40min 14s, sys: 4min 49s, total: 2h 45min 4s\n",
      "Wall time: 3h 6min 18s\n"
     ]
    }
   ],
   "source": [
    "%%time\n",
    "for i, tup in enumerate(extended_peak_regions.itertuples()):    \n",
    "    prop_swept = '{:.0f}'.format(tup.prop_swept * 100)\n",
    "    pos = int(tup.pos)\n",
    "    fig = tishkoff_plot( tup.start_pos, tup.end_pos, male_indivs, plot_uncalled=True)\n",
    "    fig.suptitle(letters[i], fontsize=20, x=0, y=1, horizontalalignment='left', verticalalignment='top')\n",
    "    plt.savefig(str(figures_dir / 'haplo_visual_with_uncalled_{:09}_{:09}_{}.pdf'.format(tup.start_pos, tup.end_pos, prop_swept)))\n",
    "    plt.clf()\n",
    "    plt.close(\"all\")\n",
    "    gc.collect() \n",
    "    \n",
    "    print(tup.start_pos)"
   ]
  },
  {
   "cell_type": "markdown",
   "metadata": {},
   "source": [
    "## Plots for slides"
   ]
  },
  {
   "cell_type": "code",
   "execution_count": 32,
   "metadata": {},
   "outputs": [
    {
     "name": "stdout",
     "output_type": "stream",
     "text": [
      "CPU times: user 2min 13s, sys: 11.6 s, total: 2min 25s\n",
      "Wall time: 7min 20s\n"
     ]
    },
    {
     "data": {
      "text/plain": [
       "3059828"
      ]
     },
     "execution_count": 32,
     "metadata": {},
     "output_type": "execute_result"
    }
   ],
   "source": [
    "%%time\n",
    "#pos = 29950000\n",
    "win_start, win_end = 29450000, 30450000#pos - 250000, pos + 250000 \n",
    "fig = tishkoff_plot(win_start, win_end, male_indivs, plot_admix=False, figsize=(15, 10))\n",
    "plt.savefig(str(figures_dir / 'slide_background_{:09}_{:09}.pdf'.format(win_start, win_end)))\n",
    "plt.clf()\n",
    "plt.close(\"all\")\n",
    "gc.collect()\n",
    "\n",
    "win_start, win_end = 110100000, 111100000\n",
    "fig = tishkoff_plot(win_start, win_end, male_indivs, plot_admix=False, figsize=(15, 10))\n",
    "plt.savefig(str(figures_dir / 'slide_sweep_{:09}_{:09}.pdf'.format(win_start, win_end)))\n",
    "plt.clf()\n",
    "plt.close(\"all\")\n",
    "gc.collect()"
   ]
  },
  {
   "cell_type": "markdown",
   "metadata": {},
   "source": [
    "### Plots for Elise with copy numbers"
   ]
  },
  {
   "cell_type": "raw",
   "metadata": {},
   "source": [
    "\n",
    "def get_copy_nr(df, name):\n",
    "    return df.loc[df.sample_id == name].normalized_cov.values[0] \n",
    "    \n",
    "#indivs = list(ar_copy_numbers.sort_values(by=['sample_id']).sample_id.unique())\n",
    "indivs = list(ar_copy_numbers\n",
    "          .sort_values(by=['sample_id'])\n",
    "          .loc[lambda df: df.sample_id.isin(list(individuals.keys()))]\n",
    "          .sample_id.unique()\n",
    "         )\n",
    "\n",
    "for tup in ampliconic_regions.itertuples():\n",
    "    \n",
    "    start, end = int(tup.hg19_start), int(tup.hg19_end)\n",
    "    center = int(start + (end - start)//2)\n",
    "    \n",
    "    copy_nr_data = ar_copy_numbers.loc[ar_copy_numbers.AR == '{}_0'.format(tup.region_nb)]\n",
    "\n",
    "    if not len(copy_nr_data):\n",
    "        print('skipping', tup.region_nb)\n",
    "        continue\n",
    "    \n",
    "    flank = 500000\n",
    "    \n",
    "    get_extra_data_val = partial(get_copy_nr, copy_nr_data)\n",
    "    \n",
    "    win_start, win_end = start-flank, start\n",
    "    fig = tishkoff_plot(win_start, win_end, indivs, extra_data=get_extra_data_val)    \n",
    "    plt.savefig(str(figures_dir / 'tishkoff_upst_{}_{}_{}_{}.pdf'.format(tup.region_nb, flank, win_start, win_end)))\n",
    "    plt.close()\n",
    "    \n",
    "    win_start, win_end = end, end+flank\n",
    "    fig = tishkoff_plot(win_start, win_end, indivs, extra_data=get_extra_data_val)    \n",
    "    plt.savefig(str(figures_dir / 'tishkoff_downst_{}_{}_{}_{}.pdf'.format(tup.region_nb, flank, win_start, win_end)))\n",
    "    plt.close()"
   ]
  },
  {
   "cell_type": "code",
   "execution_count": null,
   "metadata": {},
   "outputs": [],
   "source": []
  },
  {
   "cell_type": "code",
   "execution_count": null,
   "metadata": {},
   "outputs": [],
   "source": []
  },
  {
   "cell_type": "code",
   "execution_count": null,
   "metadata": {},
   "outputs": [],
   "source": []
  }
 ],
 "metadata": {
  "kernelspec": {
   "display_name": "Python 3",
   "language": "python",
   "name": "python3"
  },
  "language_info": {
   "codemirror_mode": {
    "name": "ipython",
    "version": 3
   },
   "file_extension": ".py",
   "mimetype": "text/x-python",
   "name": "python",
   "nbconvert_exporter": "python",
   "pygments_lexer": "ipython3",
   "version": "3.6.9"
  }
 },
 "nbformat": 4,
 "nbformat_minor": 4
}
