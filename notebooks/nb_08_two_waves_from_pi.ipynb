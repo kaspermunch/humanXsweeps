{
 "cells": [
  {
   "cell_type": "code",
   "execution_count": null,
   "metadata": {
    "collapsed": true,
    "scrolled": false
   },
   "outputs": [],
   "source": [
    "import re, os, sys, pickle\n",
    "from pathlib import Path\n",
    "import numpy\n",
    "import pandas\n",
    "from pandas import DataFrame\n",
    "    \n",
    "numpy.random.seed(7)"
   ]
  },
  {
   "cell_type": "markdown",
   "metadata": {},
   "source": [
    "### Analysis dirs"
   ]
  },
  {
   "cell_type": "code",
   "execution_count": null,
   "metadata": {
    "collapsed": true,
    "scrolled": false
   },
   "outputs": [],
   "source": [
    "root_dir = Path(os.environ['HOME'], 'simons/faststorage/people/kmt')\n",
    "meta_data_dir = Path(os.environ['HOME'], 'simons/faststorage/data/metadata')\n",
    "steps_dir = root_dir / 'steps'\n",
    "argweaver_dir = steps_dir / 'argweaver/output'\n",
    "results_dir = root_dir / 'results'\n",
    "figures_dir = root_dir / 'figures'\n",
    "data_dir = root_dir / 'data'\n",
    "pi_dir = steps_dir / 'pi_stores'\n",
    "dist_dir = steps_dir / 'dist_stores'\n",
    "#pi_dir = root_dir / 'old_pi_stores'\n",
    "male_x_haploid_dir = steps_dir / 'male_x_haploids'"
   ]
  },
  {
   "cell_type": "markdown",
   "metadata": {},
   "source": [
    "### Local code in the scripts dir on the cluster"
   ]
  },
  {
   "cell_type": "code",
   "execution_count": null,
   "metadata": {
    "collapsed": true,
    "scrolled": false
   },
   "outputs": [],
   "source": [
    "scripts_dir = root_dir / 'scripts'\n",
    "if str(scripts_dir) not in sys.path:\n",
    "    sys.path.append(str(scripts_dir))\n",
    "\n",
    "import simons_meta_data\n",
    "import hg19_chrom_sizes\n"
   ]
  },
  {
   "cell_type": "markdown",
   "metadata": {},
   "source": [
    "### Plotting setup"
   ]
  },
  {
   "cell_type": "code",
   "execution_count": null,
   "metadata": {
    "collapsed": true,
    "scrolled": false
   },
   "outputs": [],
   "source": [
    "%matplotlib inline\n",
    "\n",
    "# Make inline plots vector graphics instead of raster graphics\n",
    "from IPython.display import set_matplotlib_formats\n",
    "set_matplotlib_formats('pdf', 'svg')\n",
    "\n",
    "import matplotlib\n",
    "import matplotlib.pyplot as plt\n",
    "from matplotlib.colors import ListedColormap\n",
    "from matplotlib.patches import Rectangle\n",
    "from mpl_toolkits.basemap import Basemap\n",
    "#matplotlib.rcParams['figure.figsize'] = (20.0, 10.0)\n",
    "\n",
    "import mpld3\n",
    "\n",
    "import seaborn as sns\n",
    "sns.set_style(\"whitegrid\")\n",
    "sns.set_context(\"paper\")\n",
    "\n",
    "# lowess for plotting\n",
    "from statsmodels.nonparametric.smoothers_lowess import lowess\n",
    "\n",
    "set1 = {'red': '#e41a1c', 'blue': '#377eb8', 'green': '#4daf4a',\n",
    "        'purple': '#984ea3', 'orange': '#ff7f00', \n",
    "        'yellow': '#ffff33', 'brown': '#a65628'}"
   ]
  },
  {
   "cell_type": "markdown",
   "metadata": {},
   "source": [
    "# Silence deprecation warnings"
   ]
  },
  {
   "cell_type": "code",
   "execution_count": null,
   "metadata": {
    "collapsed": true
   },
   "outputs": [],
   "source": [
    "# silence deprecation warnings (lots from seaborn)\n",
    "import warnings\n",
    "warnings.filterwarnings(\"ignore\", category=DeprecationWarning) \n",
    "warnings.filterwarnings(\"ignore\", category=numpy.VisibleDeprecationWarning)"
   ]
  },
  {
   "cell_type": "markdown",
   "metadata": {},
   "source": [
    "# Load meta data"
   ]
  },
  {
   "cell_type": "code",
   "execution_count": null,
   "metadata": {
    "collapsed": true,
    "scrolled": false
   },
   "outputs": [],
   "source": [
    "# easy loading of meta data in a consistent manner across code\n",
    "individuals, populations, regions = simons_meta_data.get_meta_data(meta_data_dir=meta_data_dir)\n",
    "\n",
    "chromosome_lengths = dict((k.replace('chr', ''), v) for k, v in hg19_chrom_sizes.hg19_chrom_sizes.items())"
   ]
  },
  {
   "cell_type": "markdown",
   "metadata": {},
   "source": [
    "# Is archaic admixture lower in low pi regions?\n",
    "\n",
    "Barplots show the mean admix prop of individuals (not populations)"
   ]
  },
  {
   "cell_type": "markdown",
   "metadata": {},
   "source": [
    "Load admixture data:"
   ]
  },
  {
   "cell_type": "code",
   "execution_count": null,
   "metadata": {
    "collapsed": true
   },
   "outputs": [],
   "source": [
    "admix_windows_chrX = pandas.read_hdf(results_dir / 'admix_windows_chrX.hdf')"
   ]
  },
  {
   "cell_type": "markdown",
   "metadata": {},
   "source": [
    "Load sweep data:"
   ]
  },
  {
   "cell_type": "code",
   "execution_count": null,
   "metadata": {
    "collapsed": true
   },
   "outputs": [],
   "source": [
    "abs_low_window_chrX_df = pandas.read_hdf(results_dir / 'abs_low_window_chrX_df.hdf')\n",
    "\n",
    "with open(str(results_dir / 'min_run_length.pkl'), 'rb') as f:\n",
    "    min_run_length = pickle.load(f)"
   ]
  },
  {
   "cell_type": "markdown",
   "metadata": {},
   "source": [
    "Load auxiliary data:"
   ]
  },
  {
   "cell_type": "code",
   "execution_count": null,
   "metadata": {
    "collapsed": true
   },
   "outputs": [],
   "source": [
    "phastcons_windows = pandas.read_hdf(results_dir / 'phastcons_windows.hdf')\n",
    "refseq_density = pandas.read_hdf(results_dir / 'refseq_density.hdf')\n",
    "admix_windows_chrX = pandas.read_hdf(results_dir / 'admix_windows_chrX.hdf')\n",
    "admix_1Mb_windows_chrX = pandas.read_hdf(results_dir / 'admix_1Mb_windows_chrX.hdf')"
   ]
  },
  {
   "cell_type": "markdown",
   "metadata": {},
   "source": [
    "Globally:"
   ]
  },
  {
   "cell_type": "code",
   "execution_count": null,
   "metadata": {
    "collapsed": true
   },
   "outputs": [],
   "source": [
    "#admix_windows_chrX.loc[lambda df: (df.start == 103000000) & (df.admix_prop > 0)]"
   ]
  },
  {
   "cell_type": "code",
   "execution_count": null,
   "metadata": {
    "scrolled": false
   },
   "outputs": [],
   "source": [
    "with sns.plotting_context('paper'):\n",
    "    with sns.axes_style('ticks'):\n",
    "        abs_low_window_chrX_with_admix = (pandas.merge(abs_low_window_chrX_df,\n",
    "                           admix_windows_chrX[['chrom', 'start', 'end', 'region', 'population', 'admix_prop']],\n",
    "                           on=['chrom', 'population', 'region', 'start', 'end'])\n",
    "        #        .assign(is_low_region = lambda df: (df.islow) & (df.run >= min_run_length))\n",
    "             )\n",
    "        g = sns.barplot(x=\"is_low_region\", y=\"admix_prop\", data=abs_low_window_chrX_with_admix)\n",
    "        sns.despine()\n",
    "        \n",
    "plt.savefig(str(figures_dir / \"admix_prop_enrichment.pdf\"))"
   ]
  },
  {
   "cell_type": "markdown",
   "metadata": {},
   "source": [
    "By region:"
   ]
  },
  {
   "cell_type": "code",
   "execution_count": null,
   "metadata": {
    "scrolled": false
   },
   "outputs": [],
   "source": [
    "with sns.plotting_context('paper'):\n",
    "    with sns.axes_style('whitegrid'):\n",
    "        g = sns.barplot(x=\"region\", y=\"admix_prop\", hue=\"is_low_region\", \n",
    "                        data=abs_low_window_chrX_with_admix#.loc[lambda df: df.population != 'Papuan']\n",
    "                       )\n",
    "        for item in g.get_xticklabels():\n",
    "            item.set_rotation(25)\n",
    "        plt.legend(bbox_to_anchor=(1.05, 1), loc=2, borderaxespad=0.)\n",
    "plt.savefig(str(figures_dir / \"admix_prop_enrichment_by_region.pdf\"))"
   ]
  },
  {
   "cell_type": "markdown",
   "metadata": {},
   "source": [
    "# Proportion explained by gene density"
   ]
  },
  {
   "cell_type": "markdown",
   "metadata": {},
   "source": [
    "### Logistic regression to classify low/non-low pi regions by admix and exon density"
   ]
  },
  {
   "cell_type": "code",
   "execution_count": null,
   "metadata": {
    "collapsed": true,
    "scrolled": true
   },
   "outputs": [],
   "source": [
    "\n",
    "df = pandas.merge(abs_low_window_chrX_df,\n",
    "                   admix_windows_chrX[['chrom', 'start', 'end', 'region', 'population', 'admix_prop']],\n",
    "                   on=['chrom', 'population', 'region', 'start', 'end'])\n",
    "df = pandas.merge(df, phastcons_windows.loc[lambda df: df.chrom == 'X'],\n",
    "                   on=['chrom', 'start', 'end'])\n",
    "df = (pandas.merge(df, refseq_density, on=['chrom', 'start', 'end'])\n",
    "      .assign(is_low_region = lambda df: (df.islow) & (df.run <= min_run_length))\n",
    "      .groupby(['chrom', 'population', 'region', 'run_id'])\n",
    "      .aggregate(numpy.mean)\n",
    "      .reset_index()\n",
    "     )\n",
    "df = df[['is_low_region', 'exon_density', 'admix_prop', 'phastcons']]"
   ]
  },
  {
   "cell_type": "code",
   "execution_count": null,
   "metadata": {
    "scrolled": false
   },
   "outputs": [],
   "source": [
    "fig, (ax1, ax2, ax3) = plt.subplots(1, 3)\n",
    "ax = sns.regplot(x=\"admix_prop\", y=\"is_low_region\", \n",
    "                 data=df, logistic=True, y_jitter=.05, scatter_kws={'s':2}, ax=ax1)\n",
    "ax = sns.regplot(x=\"exon_density\", y=\"is_low_region\", \n",
    "                 data=df, logistic=True, y_jitter=.05, scatter_kws={'s':2}, ax=ax2)\n",
    "ax = sns.regplot(x=\"phastcons\", y=\"is_low_region\", \n",
    "                 data=df, logistic=True, y_jitter=.05, scatter_kws={'s':2}, ax=ax3)"
   ]
  },
  {
   "cell_type": "code",
   "execution_count": null,
   "metadata": {
    "scrolled": false
   },
   "outputs": [],
   "source": [
    "from sklearn import linear_model\n",
    "X = df[['admix_prop', 'exon_density', 'phastcons']]\n",
    "y = df['is_low_region']\n",
    "lr = linear_model.LogisticRegression()\n",
    "lr.fit(X, y)\n",
    "#print(lr.predict(X))\n",
    "DataFrame(dict(zip(X.columns, numpy.transpose(lr.coef_))))"
   ]
  },
  {
   "cell_type": "code",
   "execution_count": null,
   "metadata": {
    "scrolled": false
   },
   "outputs": [],
   "source": [
    "fig, (ax1, ax2, ax3) = plt.subplots(1, 3)\n",
    "ax = sns.barplot(x=\"is_low_region\", y=\"admix_prop\", data=df, ax=ax1)\n",
    "ax.set(xlabel='In low pi region', ylabel='Admixture proportion')\n",
    "ax = sns.barplot(x=\"is_low_region\", y=\"exon_density\", data=df, ax=ax2)\n",
    "ax.set(xlabel='In low pi region', ylabel='Exon density')\n",
    "ax = sns.barplot(x=\"is_low_region\", y=\"phastcons\", data=df, ax=ax3)\n",
    "ax.set(xlabel='In low pi region', ylabel='Mean phastcons score')\n",
    "plt.tight_layout()\n",
    "plt.savefig(str(figures_dir / \"admix_exon_phastcons_enrichment.pdf\"))"
   ]
  },
  {
   "cell_type": "markdown",
   "metadata": {},
   "source": [
    "# Two-wave hypothesis"
   ]
  },
  {
   "cell_type": "code",
   "execution_count": null,
   "metadata": {
    "collapsed": true
   },
   "outputs": [],
   "source": [
    "cols = ['chrom', 'start', 'end']\n",
    "\n",
    "df = (abs_low_window_chrX_with_admix\n",
    "                       .join(abs_low_window_chrX_with_admix.groupby(cols)['islow'].any(), on=cols, rsuffix='_any')\n",
    "                       .join(abs_low_window_chrX_with_admix.groupby(cols)['islow'].sum(), on=cols, rsuffix='_count')\n",
    "                       .join(abs_low_window_chrX_with_admix.groupby(cols)['is_low_region'].any(), on=cols, rsuffix='_any')\n",
    "                       .join(abs_low_window_chrX_with_admix.groupby(cols)['is_low_region'].sum(), on=cols, rsuffix='_count')\n",
    "                      )"
   ]
  },
  {
   "cell_type": "code",
   "execution_count": null,
   "metadata": {},
   "outputs": [],
   "source": [
    "sns.barplot(x=\"high_sweep_win\", y=\"admix_prop\",\n",
    "       data=df.assign(high_sweep_win = lambda df: df.is_low_region_count > len(df.population.unique())/2))"
   ]
  },
  {
   "cell_type": "code",
   "execution_count": null,
   "metadata": {},
   "outputs": [],
   "source": [
    "with sns.axes_style(\"ticks\"):\n",
    "    f, (ax1, ax2) = plt.subplots(1, 2, sharey=True)\n",
    "    sns.barplot(x=\"is_low_region\", y=\"admix_prop\", \n",
    "                    data=df.loc[lambda df: df.is_low_region_count < len(df.population.unique())/2], ax=ax1)\n",
    "    sns.barplot(x=\"is_low_region\", y=\"admix_prop\", \n",
    "                    data=df.loc[lambda df: df.is_low_region_count >= len(df.population.unique())/2], ax=ax2)\n",
    "    sns.despine()\n",
    "    plt.tight_layout()"
   ]
  },
  {
   "cell_type": "code",
   "execution_count": null,
   "metadata": {},
   "outputs": [],
   "source": [
    "# fig = plt.figure(figsize=(8, 6), sharey=True) \n",
    "# gs = gridspec.GridSpec(1, 2, width_ratios=[3, 1]) \n",
    "# ax0 = plt.subplot(gs[0])\n",
    "# ax0.plot(x, y)\n",
    "# ax1 = plt.subplot(gs[1])\n",
    "# ax1.plot(y, x)\n",
    "\n",
    "with sns.axes_style(\"ticks\"):\n",
    "    f, (ax1, ax2) = plt.subplots(1, 2, sharey=True, gridspec_kw={'width_ratios': [8, 15]})\n",
    "    sns.barplot(x=\"is_low_region\", y=\"admix_prop\", \n",
    "                    data=df.loc[lambda df: df.is_low_region_count == 0], ax=ax1)\n",
    "    sns.barplot(x=\"is_low_region\", y=\"admix_prop\", \n",
    "                    data=df.loc[lambda df: df.is_low_region_count >= len(df.population.unique())/2])\n",
    "    sns.despine()\n",
    "    plt.tight_layout()"
   ]
  },
  {
   "cell_type": "code",
   "execution_count": null,
   "metadata": {},
   "outputs": [],
   "source": [
    "g = sns.barplot(x=\"is_low_region\", y=\"admix_prop\", \n",
    "                data=df.loc[lambda df: df.is_low_region_count == 0])"
   ]
  },
  {
   "cell_type": "code",
   "execution_count": null,
   "metadata": {},
   "outputs": [],
   "source": [
    "\n",
    "g = sns.barplot(x=\"is_low_region\", y=\"admix_prop\", \n",
    "                data=df.loc[lambda df: df.is_low_region_count >= len(df.population.unique())/2])"
   ]
  },
  {
   "cell_type": "code",
   "execution_count": null,
   "metadata": {},
   "outputs": [],
   "source": [
    "g = sns.barplot(x=\"is_low_region\", y=\"admix_prop\", \n",
    "                data=df.loc[lambda df: df.islow_count == 0])"
   ]
  },
  {
   "cell_type": "code",
   "execution_count": null,
   "metadata": {},
   "outputs": [],
   "source": [
    "low_region_count_median = df.is_low_region_count.median()\n",
    "islow_count_median = df.islow_count.median()\n",
    "\n",
    "g = sns.barplot(x=\"is_low_region\", y=\"admix_prop\", \n",
    "                data=df.loc[lambda df: df.is_low_region_count < low_region_count_median])"
   ]
  },
  {
   "cell_type": "code",
   "execution_count": null,
   "metadata": {},
   "outputs": [],
   "source": [
    "g = sns.barplot(x=\"is_low_region\", y=\"admix_prop\", \n",
    "                data=df.loc[lambda df: df.islow_count < islow_count_median])"
   ]
  },
  {
   "cell_type": "code",
   "execution_count": null,
   "metadata": {},
   "outputs": [],
   "source": [
    "g = sns.barplot(x=\"is_low_region\", y=\"admix_prop\", \n",
    "                data=df.loc[lambda df: df.is_low_region_count >= low_region_count_median])"
   ]
  },
  {
   "cell_type": "code",
   "execution_count": null,
   "metadata": {},
   "outputs": [],
   "source": [
    "g = sns.barplot(x=\"is_low_region\", y=\"admix_prop\", \n",
    "                data=df.loc[lambda df: df.islow_count >= islow_count_median])"
   ]
  },
  {
   "cell_type": "code",
   "execution_count": null,
   "metadata": {
    "scrolled": false
   },
   "outputs": [],
   "source": [
    "cols = ['chrom', 'start', 'end']\n",
    "\n",
    "admix_by_low_pop_count = (abs_low_window_chrX_with_admix\n",
    "                       .join(df.groupby(cols)['is_low_region'].any(), on=cols, rsuffix='_any')\n",
    "                       .join(df.groupby(cols)['is_low_region'].sum(), on=cols, rsuffix='_count')\n",
    "                      )\n",
    "\n",
    "g = sns.factorplot(x=\"is_low_region_count\", y=\"admix_prop\", \n",
    "                   data=admix_by_low_pop_count, size=5, aspect=1.8)\n"
   ]
  },
  {
   "cell_type": "code",
   "execution_count": null,
   "metadata": {},
   "outputs": [],
   "source": [
    "g = sns.barplot(x=\"is_low_region\", y=\"admix_prop\", data=df.loc[lambda df: df.is_low_region_count >= 50])"
   ]
  },
  {
   "cell_type": "code",
   "execution_count": null,
   "metadata": {},
   "outputs": [],
   "source": [
    "g = sns.lmplot(x=\"is_low_region_count\", y=\"admix_prop\", \n",
    "                   data=admix_by_low_pop_count, size=5, aspect=1.8, scatter=False)"
   ]
  },
  {
   "cell_type": "code",
   "execution_count": null,
   "metadata": {},
   "outputs": [],
   "source": [
    "#print(only_low_region_any.size)\n",
    "#fig, ax = plt.subplots(figsize=(10, 5))ma\n",
    "g = sns.factorplot(x=\"is_low_region_count\", y=\"admix_prop\", hue='is_low_region', \n",
    "                   data=admix_by_low_pop_count, size=5, aspect=1.8)\n"
   ]
  },
  {
   "cell_type": "markdown",
   "metadata": {},
   "source": [
    "It seems that the reduction in admixture proportion is insensitive to how much chromosomal region we include, suggesting that the reduction is existance of the existance of individual low regions in each population, and not by by what chromosomal region is included."
   ]
  },
  {
   "cell_type": "code",
   "execution_count": null,
   "metadata": {
    "scrolled": false
   },
   "outputs": [],
   "source": [
    "g = sns.lmplot(x=\"is_low_region_count\", y=\"admix_prop\", hue='is_low_region',\n",
    "                   data=admix_by_low_pop_count, size=5, aspect=1.8, scatter=False)"
   ]
  },
  {
   "cell_type": "markdown",
   "metadata": {},
   "source": [
    "*** TODO: Figure out to what extent there really is a depletion in some regions and to what extent it is explained by the density of low pi regions.***"
   ]
  },
  {
   "cell_type": "code",
   "execution_count": null,
   "metadata": {},
   "outputs": [],
   "source": [
    "print(admix_by_low_pop_count.loc[(admix_by_low_pop_count.is_low_region_count == 0) & (~admix_by_low_pop_count.is_low_region)].admix_prop.mean())\n",
    "print(admix_by_low_pop_count.loc[(admix_by_low_pop_count.is_low_region_count < 20) & (~admix_by_low_pop_count.is_low_region)].admix_prop.mean())\n",
    "print(admix_by_low_pop_count.loc[(admix_by_low_pop_count.is_low_region_count >= 20) & (~admix_by_low_pop_count.is_low_region)].admix_prop.mean())\n",
    "\n",
    "print(admix_by_low_pop_count.loc[(admix_by_low_pop_count.is_low_region_count < 20) & (admix_by_low_pop_count.is_low_region)].admix_prop.mean())\n",
    "print(admix_by_low_pop_count.loc[(admix_by_low_pop_count.is_low_region_count >= 20) & (admix_by_low_pop_count.is_low_region)].admix_prop.mean())\n"
   ]
  },
  {
   "cell_type": "markdown",
   "metadata": {},
   "source": [
    "# Distance to Africans normalized by mean African pi"
   ]
  },
  {
   "cell_type": "markdown",
   "metadata": {},
   "source": [
    "Load pi data:"
   ]
  },
  {
   "cell_type": "code",
   "execution_count": null,
   "metadata": {
    "collapsed": true
   },
   "outputs": [],
   "source": [
    "pi_data_chrX = pandas.read_hdf(results_dir / 'pi_data_chrX.hdf')"
   ]
  },
  {
   "cell_type": "markdown",
   "metadata": {},
   "source": [
    "First compute mean pi across the African populations:"
   ]
  },
  {
   "cell_type": "code",
   "execution_count": null,
   "metadata": {
    "collapsed": true
   },
   "outputs": [],
   "source": [
    "mean_afr_pi = (pi_data_chrX\n",
    "               .loc[lambda df: df.region == 'Africa']\n",
    "               .groupby(['chrom', 'start', 'end'])\n",
    "               .mean()\n",
    "               .reset_index()\n",
    "               .assign(mean_afr_pi=lambda df: df.pi)\n",
    "               .loc[:, ['chrom', 'start', 'end', 'mean_afr_pi']]\n",
    "              )"
   ]
  },
  {
   "cell_type": "markdown",
   "metadata": {},
   "source": [
    "**FIX THIS**: HACK: a few african means are zero, so we make then nan to not have division by zero errors propgate"
   ]
  },
  {
   "cell_type": "code",
   "execution_count": null,
   "metadata": {},
   "outputs": [],
   "source": [
    "mean_afr_pi.loc[lambda df: df.mean_afr_pi == 0]"
   ]
  },
  {
   "cell_type": "code",
   "execution_count": null,
   "metadata": {
    "collapsed": true
   },
   "outputs": [],
   "source": [
    "mean_afr_pi.loc[lambda df: df.mean_afr_pi == 0] = numpy.nan\n",
    "#g = plt.plot(mean_afr_pi.start, mean_afr_pi.mean_afr_pi)"
   ]
  },
  {
   "cell_type": "markdown",
   "metadata": {},
   "source": [
    "Read dist data and add distance normalized with mean_afr_pi:"
   ]
  },
  {
   "cell_type": "code",
   "execution_count": null,
   "metadata": {
    "collapsed": true
   },
   "outputs": [],
   "source": [
    "with warnings.catch_warnings():\n",
    "    warnings.simplefilter(\"ignore\")\n",
    "    df = (pandas.read_hdf(str(dist_dir / '_dist_data_chrX_100kb.store'))\n",
    "          .groupby(['chrom', 'start', 'end', 'indiv_1'])\n",
    "          .aggregate(numpy.nanmean)\n",
    "         )\n",
    "df.head()\n",
    "\n"
   ]
  },
  {
   "cell_type": "code",
   "execution_count": null,
   "metadata": {},
   "outputs": [],
   "source": [
    "df2 = pandas.read_hdf(str(root_dir / 'mean_dist.hdf'), 'df')\n",
    "df2.head()"
   ]
  },
  {
   "cell_type": "code",
   "execution_count": null,
   "metadata": {
    "collapsed": true
   },
   "outputs": [],
   "source": [
    "dist_data = (pandas.merge(pandas.read_hdf(str(root_dir / 'mean_dist.hdf'), 'df'),\n",
    "                          mean_afr_pi,\n",
    "                          how='left', \n",
    "                          on=['chrom', 'start', 'end'])\n",
    "             .assign(norm_dist = lambda df: df.dist / df.mean_afr_pi)\n",
    "            )"
   ]
  },
  {
   "cell_type": "markdown",
   "metadata": {},
   "source": [
    "### Divergence from closest African (NOT SURE THIS MAKES SENSE HEN NORMALIZING WITH MEAN AFR PI)"
   ]
  },
  {
   "cell_type": "code",
   "execution_count": null,
   "metadata": {},
   "outputs": [],
   "source": [
    "min_dist_data = (dist_data\n",
    "                  .assign(population=[individuals[x]['Population ID'] for x in dist_data.indiv_1])\n",
    "                  .groupby(['chrom', 'start', 'end', 'population'])\n",
    "                  .min()\n",
    "                  .reset_index()\n",
    "                 )\n",
    "df = pandas.merge(abs_low_window_chrX_df, \n",
    "                  min_dist_data, \n",
    "                  on=['chrom', 'start', 'end', 'population'])"
   ]
  },
  {
   "cell_type": "code",
   "execution_count": null,
   "metadata": {
    "collapsed": true
   },
   "outputs": [],
   "source": [
    "# df[['chrom', 'is_low_region', 'pi', 'dist', 'dist', 'norm_dist']].groupby('is_low_region').mean()"
   ]
  },
  {
   "cell_type": "code",
   "execution_count": null,
   "metadata": {
    "collapsed": true,
    "scrolled": false
   },
   "outputs": [],
   "source": [
    "with sns.color_palette([set1['blue'], set1['red']]):\n",
    "    with sns.plotting_context('paper'):\n",
    "        with sns.axes_style('whitegrid'):\n",
    "            fig, ax = plt.subplots(1,1, figsize=(5,6))\n",
    "            g = sns.barplot(x=\"is_low_region\", y=\"norm_dist\", data=df, ax=ax)\n",
    "plt.savefig(str(figures_dir / \"distance_to_closest_african.pdf\"))"
   ]
  },
  {
   "cell_type": "code",
   "execution_count": null,
   "metadata": {
    "collapsed": true
   },
   "outputs": [],
   "source": [
    "with sns.color_palette([set1['blue'], set1['red']]):\n",
    "    with sns.plotting_context('paper'):\n",
    "        with sns.axes_style('whitegrid'):\n",
    "            g = sns.barplot(x=\"region\", y=\"norm_dist\", hue='is_low_region', data=df)\n",
    "            for item in g.get_xticklabels():\n",
    "                item.set_rotation(25)\n",
    "            plt.legend(bbox_to_anchor=(1.05, 1), loc=2, borderaxespad=0.)\n",
    "plt.savefig(str(figures_dir / \"distance_to_closest_african_by_region.pdf\"))"
   ]
  },
  {
   "cell_type": "markdown",
   "metadata": {},
   "source": [
    "### Mean distance to Africans"
   ]
  },
  {
   "cell_type": "code",
   "execution_count": null,
   "metadata": {
    "collapsed": true
   },
   "outputs": [],
   "source": [
    "mean_dist_data = (dist_data\n",
    "                  .assign(population=[individuals[x]['Population ID'] for x in dist_data.indiv_1])\n",
    "                  .groupby(['chrom', 'start', 'end', 'population'])\n",
    "                  .mean()\n",
    "                  .reset_index()\n",
    "                 )\n",
    "df = pandas.merge(abs_low_window_chrX_df, \n",
    "                  mean_dist_data, \n",
    "                  on=['chrom', 'start', 'end', 'population'])"
   ]
  },
  {
   "cell_type": "code",
   "execution_count": null,
   "metadata": {
    "collapsed": true
   },
   "outputs": [],
   "source": [
    "df[['chrom', 'is_low_region', 'pi', 'dist', 'dist', 'norm_dist']].groupby('is_low_region').mean()"
   ]
  },
  {
   "cell_type": "code",
   "execution_count": null,
   "metadata": {
    "collapsed": true
   },
   "outputs": [],
   "source": [
    "with sns.color_palette([set1['blue'], set1['red']]):\n",
    "    with sns.plotting_context('paper'):\n",
    "        with sns.axes_style('whitegrid'):\n",
    "            fig, ax = plt.subplots(1,1, figsize=(5,6))\n",
    "            g = sns.barplot(x=\"is_low_region\", y=\"norm_dist\", data=df, ax=ax)\n",
    "            plt.ylim(1, 1.12)\n",
    "plt.savefig(str(figures_dir / \"mean_distance_to_africans.pdf\"))"
   ]
  },
  {
   "cell_type": "code",
   "execution_count": null,
   "metadata": {
    "collapsed": true
   },
   "outputs": [],
   "source": [
    "with sns.color_palette([set1['blue'], set1['red']]):\n",
    "    with sns.plotting_context('paper'):\n",
    "        with sns.axes_style('whitegrid'):\n",
    "            g = sns.barplot(x=\"region\", y=\"norm_dist\", hue='is_low_region', data=df)\n",
    "            for item in g.get_xticklabels():\n",
    "                item.set_rotation(25)\n",
    "            plt.ylim(1, 1.15)\n",
    "            plt.legend(bbox_to_anchor=(1.05, 1), loc=2, borderaxespad=0.)\n",
    "plt.savefig(str(figures_dir / \"mean_distance_to_africans_by_region.pdf\"))"
   ]
  },
  {
   "cell_type": "markdown",
   "metadata": {},
   "source": [
    "The extra admixture in non-low regions ofcause contributes to the divergence in these regions makeing the mean hihger. But assuming the admixture proportions in low pi and non-low pi regions we need a ratio of neandertal divergence and africa divergence of roughly 40 (e.g. 2mill / 50k) to explain it all."
   ]
  },
  {
   "cell_type": "code",
   "execution_count": null,
   "metadata": {
    "collapsed": true,
    "scrolled": true
   },
   "outputs": [],
   "source": [
    "# (1 - 0.002) * x + 0.002 * y\n",
    "# (1 - 0.012) * x + 0.012 * y\n",
    "\n",
    "# (1 - 0.002) + 0.002 * y/x\n",
    "# (1 - 0.012) + 0.012 * y/x\n",
    "\n",
    "low_pi_mean_dist_afr = float(df.groupby('is_low_region').mean().reset_index().loc[lambda df: df.is_low_region]['dist'])\n",
    "non_low_pi_mean_dist_afr = float(df.groupby('is_low_region').mean().reset_index().loc[lambda df: ~df.is_low_region]['dist'])\n",
    "\n",
    "divergence_ratio = 1e6 / 5e5 # divergence_neanderthal / divergence_africa\n",
    "low_pi_admix = 0.002\n",
    "non_low_pi_admix = 0.012\n",
    "print(\"Expected ratio of mean distance to Africans:\")\n",
    "print(((1 - low_pi_admix) + low_pi_admix * divergence_ratio) / ((1 - non_low_pi_admix) + non_low_pi_admix * divergence_ratio))\n",
    "print(\"Observed ratio of mean distance to Africans:\")\n",
    "print(low_pi_mean_dist_afr / non_low_pi_mean_dist_afr)"
   ]
  },
  {
   "cell_type": "markdown",
   "metadata": {},
   "source": [
    "## Plot for Mikkel\n"
   ]
  },
  {
   "cell_type": "code",
   "execution_count": null,
   "metadata": {
    "collapsed": true
   },
   "outputs": [],
   "source": [
    "pi_males_1Mb_chrX = (pi_data_chrX\n",
    "      .loc[lambda df: (df.sex_1 == 'XY') & (df.sex_2 == 'XY') & (df.pseud_1 == 'A') & (df.pseud_2 == 'A')]\n",
    "      .assign(binlab = lambda df: [x // 1000000 for x in df.start])\n",
    "      .groupby(['pop_label', 'indiv_1', 'indiv_2', 'binlab'])\n",
    "      .aggregate(numpy.mean)\n",
    "      .reset_index()\n",
    "      .assign(start = lambda df: df.binlab * 1000000,\n",
    "              end = lambda df: df.binlab * 1000000 + 1000000)\n",
    "      )[['region_id', 'pop_label', 'indiv_1', 'indiv_2', 'start', 'end', 'pi']]\n",
    "#pi_males_1Mb_chrX.head()"
   ]
  },
  {
   "cell_type": "code",
   "execution_count": null,
   "metadata": {
    "collapsed": true
   },
   "outputs": [],
   "source": [
    "dist_data_1Mb = (dist_data\n",
    "                 .assign(binlab = lambda df: [x // 1000000 for x in df.start])\n",
    "                 .groupby(['indiv_1', 'binlab'])\n",
    "                 .aggregate(numpy.mean)\n",
    "                 .reset_index()\n",
    "                 .assign(start = lambda df: df.binlab * 1000000,\n",
    "                         end = lambda df: df.binlab * 1000000 + 1000000)\n",
    "                )[['indiv_1', 'start', 'end', 'dist', 'mean_afr_pi', 'norm_dist']]"
   ]
  },
  {
   "cell_type": "code",
   "execution_count": null,
   "metadata": {
    "collapsed": true
   },
   "outputs": [],
   "source": [
    "plot_df = (pi_males_1Mb_chrX\n",
    "           .merge(dist_data_1Mb, \n",
    "                  on=['indiv_1', 'start', 'end'], \n",
    "                  how='left')\n",
    "#            .merge(dist_data_1Mb\n",
    "#                   .rename(index=str, columns={\"indiv_2\": \"indiv_1\"}), \n",
    "#                   on=['indiv_1', 'start', 'end'], \n",
    "#                   how='left',\n",
    "#                   suffixes=('_indiv_1', '_indiv_2'))\n",
    "#            .merge(dist_data_1Mb,\n",
    "#                   left_on=['indiv_2', 'start', 'end'], \n",
    "#                   right_on=['indiv_1', 'start', 'end'], \n",
    "#                   how='left',\n",
    "#                   suffixes=('_indiv_1', '_indiv_2'))\n",
    "\n",
    "           .merge(admix_1Mb_windows_chrX\n",
    "                  .rename(index=str, columns={\"name\": \"indiv_1\"})[['indiv_1', 'start', 'end', 'admix_prop']],\n",
    "                  on=['indiv_1', 'start', 'end'], \n",
    "                  how='left')\n",
    "#            .merge(admix_1Mb_windows_chrX\n",
    "#                   .rename(index=str, columns={\"name\": \"indiv_2\"})[['indiv_2', 'start', 'end', 'admix_prop']],\n",
    "#                   on=['indiv_2', 'start', 'end'], \n",
    "#                   how='left',\n",
    "#                   suffixes=('_indiv_1', '_indiv_2'))\n",
    "          )\n",
    "# plot_df['admix_prop'] = plot_df[['admix_prop_indiv_1', 'admix_prop_indiv_2']].mean(axis=1)\n",
    "# plot_df['norm_dist'] = plot_df[['norm_dist_indiv_1', 'norm_dist_indiv_2']].mean(axis=1)\n",
    "# print(plot_df[['norm_dist_indiv_1', 'norm_dist_indiv_2']].head(100))\n",
    "plot_df.head()"
   ]
  },
  {
   "cell_type": "code",
   "execution_count": null,
   "metadata": {
    "collapsed": true
   },
   "outputs": [],
   "source": [
    "plot_df[plot_df.region_id == 0].head()"
   ]
  },
  {
   "cell_type": "code",
   "execution_count": null,
   "metadata": {
    "collapsed": true
   },
   "outputs": [],
   "source": [
    "pi_bin_size = 2e-5\n",
    "bin_max = ((pi_males_1Mb_chrX.pi.max() // pi_bin_size ) + 1) * pi_bin_size\n",
    "pi_bins = numpy.linspace(0, bin_max, bin_max/pi_bin_size + 1)\n",
    "pi_bin_labels = [\"{:.2e} - {:.2e}\".format(x, y) for x, y in zip(pi_bins[:-1], pi_bins[1:])]\n",
    "plot_df['pi_bin'] = pandas.cut(pi_males_1Mb_chrX.pi, pi_bins, labels=pi_bin_labels, include_lowest=True)"
   ]
  },
  {
   "cell_type": "code",
   "execution_count": null,
   "metadata": {
    "collapsed": true
   },
   "outputs": [],
   "source": [
    "df = (plot_df\n",
    "      .loc[plot_df.region_id != 0] # only non-Africans\n",
    "      .loc[plot_df.pi < 0.0002]\n",
    "      .assign(norm_dist_diff = lambda df: df.norm_dist - 1)\n",
    "     )\n",
    "df.pi_bin.cat.remove_unused_categories(inplace=True)"
   ]
  },
  {
   "cell_type": "code",
   "execution_count": null,
   "metadata": {
    "collapsed": true
   },
   "outputs": [],
   "source": [
    "g = sns.barplot(x=\"pi_bin\", y=\"count\",\n",
    "                data=df.groupby('pi_bin').count().reset_index(level=['pi_bin'])[['pi_bin', 'start']]\n",
    "                .rename(index=str, columns={'start': 'count'})\n",
    "               )\n",
    "plt.ylabel(\"Count\")\n",
    "plt.xlabel(\"Pi bin\")\n",
    "for item in g.get_xticklabels():\n",
    "    item.set_rotation(90)\n",
    "plt.savefig(str(figures_dir / \"mikkel_1.pdf\"))"
   ]
  },
  {
   "cell_type": "code",
   "execution_count": null,
   "metadata": {
    "collapsed": true
   },
   "outputs": [],
   "source": [
    "g = sns.barplot(x=\"pi_bin\", y=\"admix_prop\", data=df)#, ax=ax1)\n",
    "plt.ylabel(\"Admixture proportion\")\n",
    "plt.xlabel(\"Pi bin\")\n",
    "for item in g.get_xticklabels():\n",
    "    item.set_rotation(90)\n",
    "plt.savefig(str(figures_dir / \"mikkel_2.pdf\"))"
   ]
  },
  {
   "cell_type": "code",
   "execution_count": null,
   "metadata": {
    "collapsed": true
   },
   "outputs": [],
   "source": [
    "fig, ax = plt.subplots(1)\n",
    "\n",
    "g = sns.barplot(x=\"pi_bin\", y=\"norm_dist\", data=df, ax=ax)\n",
    "plt.ylabel(\"Normalized mean divervence to Africans\")\n",
    "plt.xlabel(\"Pi bin\")\n",
    "plt.ylim(1, 1.2)\n",
    "for item in g.get_xticklabels():\n",
    "    item.set_rotation(90)\n",
    "plt.savefig(str(figures_dir / \"mikkel_3.pdf\"))"
   ]
  },
  {
   "cell_type": "markdown",
   "metadata": {},
   "source": [
    "# Interpretations\n",
    "\n",
    "### Alternative explanations for low pi regions (other than sweeps)\n",
    "\n",
    "- A large proportion of mutations (both deleterious and positive) could be recessive and would be exposed in hemizygous males. **Ask Bataillon about that**\n",
    "- Pool nielsen effect: recent bottlenecks in non-africans creates stronger pi variation by depressing low pi regions relative to high pi regions more on X. **Find pool-nielsen simulations from first chimp paper**\n",
    "- Bottlenecks in non-africans would accmulate more deleterious mutations (increasing BGS) in regions where BGS is already strong (low Ne) and would thus serve to increase variation in pi.\n",
    "\n",
    "An strong argument against strong contribution of these effects is that the low pi regions are not the same across populations.\n",
    "\n",
    "\n",
    "### Alternative explanations relation between admixture proportion to low pi regions\n",
    "\n",
    "- Low admxiture is not characteristic of low pi regions. It is admixture that is characteristic of non-low pi regions. So it is possible that admixture introduces variation in non-pi regions thus inducing the observfed relation to pi. The effect would have to be stronger on X than on autosomes and is expected to be if admixture proportions arre the same on X and autosomes. The proportional incraese in pi in regions of admxiture versus regions without is: $$ \\frac{(1-\\alpha)4N + \\alpha(4N + 2T)}{4 N_e} = \\frac{4N + 2 \\alpha T}{4N} = \\frac{2N + \\alpha T}{2N}$$ If split is 500,000 years = 20,000 generations, $\\alpha$ is 0.05, N is 10000 for autosomes and 5000 for chrX then the reduction is ~10% for chrX and ~5% for autosomes. However, $\\alpha$ is an order of magnitude smaller ~0.005, implying that the relative increase would only be ~1%.\n",
    "- The density of sites subject to BGS could be so high in the low pi regions that it would have resisted introgression no matter if they were located on X or autosomes. The logistic regression plots suggest that this is not the case.\n",
    "- Admxiture with hubrid incompatibility could induce stronger BGS and cause depression of the low pi regions. However, this effect is likely not very strong as admix proportions are so low.\n",
    "\n",
    "#### Crasy idea\n",
    "\n",
    "It could be that variants driving the sweeps originate from the first wave of humans out of Africa ~120,000 years ago. These could be separated by the last wave of humans (~60,000 years ago) by as much as 200,000 years and could easily have fixed their own drivers before being swamped by the last wave of humans. The only regions from this old wave that would persist would then be the sweepts regions on X.\n",
    "\n",
    "Try to make a TMRCA_afr stat that contrasts the time of the first non-african/african coalescence with the TMRCA. (Maybe disregarding north africans)\n",
    "\n",
    "\n"
   ]
  },
  {
   "cell_type": "code",
   "execution_count": null,
   "metadata": {
    "collapsed": true
   },
   "outputs": [],
   "source": []
  }
 ],
 "metadata": {
  "anaconda-cloud": {},
  "kernelspec": {
   "display_name": "Python 3",
   "language": "python",
   "name": "python3"
  },
  "language_info": {
   "codemirror_mode": {
    "name": "ipython",
    "version": 3
   },
   "file_extension": ".py",
   "mimetype": "text/x-python",
   "name": "python",
   "nbconvert_exporter": "python",
   "pygments_lexer": "ipython3",
   "version": "3.5.4"
  }
 },
 "nbformat": 4,
 "nbformat_minor": 2
}
