{
 "cells": [
  {
   "cell_type": "markdown",
   "metadata": {},
   "source": [
    "# Template"
   ]
  },
  {
   "cell_type": "code",
   "execution_count": 25,
   "metadata": {
    "collapsed": true,
    "jupyter": {
     "outputs_hidden": true
    }
   },
   "outputs": [],
   "source": [
    "import re, os, sys, pickle, pickle\n",
    "from pathlib import Path\n",
    "import numpy as np\n",
    "import pandas as pd\n",
    "from pandas import DataFrame, Series\n",
    "from sklearn.decomposition import PCA\n",
    "\n",
    "# my own libaries\n",
    "from GenomicWindows import window\n",
    "import GenomicIntervals\n",
    "\n",
    "np.random.seed(7)"
   ]
  },
  {
   "cell_type": "markdown",
   "metadata": {},
   "source": [
    "Parallel computing:"
   ]
  },
  {
   "cell_type": "code",
   "execution_count": 26,
   "metadata": {
    "collapsed": true,
    "jupyter": {
     "outputs_hidden": true
    }
   },
   "outputs": [],
   "source": [
    "# import ipyparallel\n",
    "# from ipyparallel import depend, require\n",
    "\n",
    "# # create client & view\n",
    "# rc = ipyparallel.Client()\n",
    "# dview = rc[:]\n",
    "# bview = rc.load_balanced_view() # you can set block=True to have this apply globally\n",
    "\n",
    "# # scatter 'id', so id=0,1,2 on engines 0,1,2\n",
    "# dview.scatter('node_id', rc.ids, flatten=True)\n",
    "# print(\"Engine IDs: \", dview['node_id'])\n",
    "# # create a Reference to `id`. This will be a different value on each engine\n",
    "# ref = ipyparallel.Reference('node_id')\n",
    "\n",
    "# with dview.sync_imports(): # imports libs across dview\n",
    "#     import re, os, sys, pickle\n",
    "#     from pathlib import Path\n",
    "#     import numpy\n",
    "#     import pandas\n",
    "#     from pandas import DataFrame\n",
    "    \n",
    "# dview.execute('numpy.random.seed(7)')\n",
    "\n",
    "# def scatter_func(f):\n",
    "#     dview.scatter(f.__name__, [f]*len(bview), flatten=True)    \n",
    "\n",
    "# def getmem():\n",
    "#     p = subprocess.Popen(\"echo $HOSTNAME\", shell=True, stdout=subprocess.PIPE, stderr=subprocess.PIPE)\n",
    "#     stdout, stderr = p.communicate()\n",
    "#     return node_id, stdout.decode().strip(), resource.getrusage(resource.RUSAGE_SELF).ru_maxrss / 1024\n",
    "\n",
    "# def print_mem():\n",
    "#     for node_id, host_name, mem in  dview.apply(getmem).get():\n",
    "#         print(\"{}{: >10}{: 10.2f} Mb\". format(node_id, host_name, mem))\n",
    "\n",
    "# def parallel_apply(grouped_df, fun):\n",
    "#     return pandas.concat(dview.map_sync(fun, (group for name, group in grouped_df)))"
   ]
  },
  {
   "cell_type": "markdown",
   "metadata": {},
   "source": [
    "Plotting setup:"
   ]
  },
  {
   "cell_type": "code",
   "execution_count": 27,
   "metadata": {},
   "outputs": [],
   "source": [
    "%matplotlib inline\n",
    "\n",
    "# Make inline plots vector graphics instead of raster graphics\n",
    "from IPython.display import set_matplotlib_formats\n",
    "#set_matplotlib_formats('pdf', 'svg')\n",
    "set_matplotlib_formats('retina', 'png')\n",
    "\n",
    "import matplotlib\n",
    "import matplotlib.pyplot as plt\n",
    "from matplotlib.colors import ListedColormap\n",
    "from matplotlib.patches import Rectangle\n",
    "# from mpl_toolkits.basemap import Basemap\n",
    "#matplotlib.rcParams['figure.figsize'] = (20.0, 10.0)\n",
    "\n",
    "import mpld3\n",
    "\n",
    "import seaborn as sns\n",
    "sns.set()\n",
    "sns.set_style(\"whitegrid\")\n",
    "sns.set_context(\"paper\")\n",
    "\n",
    "# lowess for plotting\n",
    "from statsmodels.nonparametric.smoothers_lowess import lowess\n",
    "\n",
    "def stairs(df, start='start', end='end', pos='pos', endtrim=0):\n",
    "    \"Turn a df with start, end into one with pos to plot as stairs\"\n",
    "    df1 = df.copy(deep=True)\n",
    "    df2 = df.copy(deep=True)\n",
    "    df1[pos] = df1[start]\n",
    "    df2[pos] = df2[end] - endtrim\n",
    "    return pandas.concat([df1, df2]).sort_values([start, end])"
   ]
  },
  {
   "cell_type": "markdown",
   "metadata": {},
   "source": [
    "Ignore deprecation warnings from mainly seaborn:"
   ]
  },
  {
   "cell_type": "code",
   "execution_count": 28,
   "metadata": {
    "collapsed": true,
    "jupyter": {
     "outputs_hidden": true
    }
   },
   "outputs": [],
   "source": [
    "# silence deprecation warnings (lots from seaborn)\n",
    "import warnings\n",
    "warnings.filterwarnings(\"ignore\", category=DeprecationWarning) \n",
    "warnings.filterwarnings(\"ignore\", category=numpy.VisibleDeprecationWarning)\n",
    "warnings.filterwarnings(\"ignore\",category=matplotlib.cbook.mplDeprecation)"
   ]
  },
  {
   "cell_type": "markdown",
   "metadata": {},
   "source": [
    "Import variables global to the entire analysis:"
   ]
  },
  {
   "cell_type": "code",
   "execution_count": 29,
   "metadata": {
    "collapsed": true,
    "jupyter": {
     "outputs_hidden": true
    }
   },
   "outputs": [],
   "source": [
    "import analysis_globals as ag"
   ]
  },
  {
   "cell_type": "markdown",
   "metadata": {},
   "source": [
    "Local code in the scripts dir on the cluster:"
   ]
  },
  {
   "cell_type": "code",
   "execution_count": 30,
   "metadata": {
    "collapsed": true,
    "jupyter": {
     "outputs_hidden": true
    }
   },
   "outputs": [],
   "source": [
    "scripts_dir = ag.root_dir / 'scripts'\n",
    "if str(scripts_dir) not in sys.path:\n",
    "    sys.path.append(str(scripts_dir))\n",
    "\n",
    "import simons_meta_data\n",
    "import hg19_chrom_sizes"
   ]
  },
  {
   "cell_type": "markdown",
   "metadata": {},
   "source": [
    "## Convenience functions"
   ]
  },
  {
   "cell_type": "code",
   "execution_count": 31,
   "metadata": {
    "collapsed": true,
    "jupyter": {
     "outputs_hidden": true
    }
   },
   "outputs": [],
   "source": [
    "def silent_nanmean(x):\n",
    "    with warnings.catch_warnings():\n",
    "        warnings.simplefilter(\"ignore\")\n",
    "        return numpy.nanmean(x)\n",
    "    \n",
    "def ident_scalar(s):\n",
    "    x = s.unique()\n",
    "    assert(len(x)) == 1\n",
    "    return x[0]\n",
    "\n",
    "def flatten_column_index(df):\n",
    "    df.columns = ['_'.join(col).strip() for col in df.columns.values]\n"
   ]
  },
  {
   "cell_type": "markdown",
   "metadata": {},
   "source": [
    "## Load meta data"
   ]
  },
  {
   "cell_type": "code",
   "execution_count": 32,
   "metadata": {
    "collapsed": true,
    "jupyter": {
     "outputs_hidden": true
    }
   },
   "outputs": [],
   "source": [
    "# easy loading of meta data in a consistent manner across code\n",
    "meta_data_dir = Path(os.environ['HOME'], 'simons/faststorage/data/metadata')\n",
    "individuals, populations, regions = simons_meta_data.get_meta_data(meta_data_dir=meta_data_dir)\n",
    "\n",
    "pop_categories = pandas.read_hdf(str(ag.results_dir / 'population_categories.store'), 'sr')\n",
    "region_categories = pandas.read_hdf(str(ag.results_dir / 'region_categories.store'), 'sr')\n",
    "# region_colors = dict(zip(list(region_categories), \n",
    "#                          ['#e41a1c', '#377eb8', '#4daf4a', '#984ea3', \n",
    "#                           '#ff7f00', '#ffff33', '#a65628']))\n",
    "\n",
    "region_colors = dict(zip(list(region_categories), \n",
    "                         ['#e41a1c', '#377eb8',  '#984ea3', '#4daf4a',\n",
    "                          '#ff7f00', '#ffff33', '#a65628']))\n",
    "\n",
    "chromosome_lengths = dict((k.replace('chr', ''), v) for k, v in hg19_chrom_sizes.hg19_chrom_sizes.items())"
   ]
  },
  {
   "cell_type": "code",
   "execution_count": null,
   "metadata": {},
   "outputs": [],
   "source": []
  },
  {
   "cell_type": "code",
   "execution_count": null,
   "metadata": {},
   "outputs": [],
   "source": []
  }
 ],
 "metadata": {
  "anaconda-cloud": {},
  "kernelspec": {
   "display_name": "Python 3",
   "language": "python",
   "name": "python3"
  },
  "language_info": {
   "codemirror_mode": {
    "name": "ipython",
    "version": 3
   },
   "file_extension": ".py",
   "mimetype": "text/x-python",
   "name": "python",
   "nbconvert_exporter": "python",
   "pygments_lexer": "ipython3",
   "version": "3.6.9"
  }
 },
 "nbformat": 4,
 "nbformat_minor": 4
}
