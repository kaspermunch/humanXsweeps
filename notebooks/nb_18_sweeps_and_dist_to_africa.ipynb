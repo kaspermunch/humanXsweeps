{
 "cells": [
  {
   "cell_type": "markdown",
   "metadata": {},
   "source": [
    "# Distance between non-African and African haplotypes"
   ]
  },
  {
   "cell_type": "markdown",
   "metadata": {},
   "source": [
    "---"
   ]
  },
  {
   "cell_type": "markdown",
   "metadata": {},
   "source": [
    "Variables to allow differentation of file names for analyses based on different calling criteria. Should be commented out when run in batch with `slurm-jupyter-run.py`\n",
    "\n",
    "**NB:** comment out the cell below if you want to run using `slurm-jupyter-run.py`. Otherwise it will overwrite variables set by `slurm-jupyter-run.py`."
   ]
  },
  {
   "cell_type": "code",
   "execution_count": 1,
   "metadata": {},
   "outputs": [],
   "source": [
    "from nb_parameters import extract_parameter_code\n",
    "exec(extract_parameter_code('nb_parameters.ipynb', '5e-05_25%'))"
   ]
  },
  {
   "cell_type": "markdown",
   "metadata": {},
   "source": [
    "----"
   ]
  },
  {
   "cell_type": "markdown",
   "metadata": {},
   "source": [
    "If sweeps do displace archaic admixture, the swept haplotypes must originate from a a population without admxiture. That population can be either:\n",
    "\n",
    "1. Earlier waves out of Africa\n",
    "2. Later waves out of Africa.\n",
    "\n",
    "Thre are three types of evidence we can use:\n",
    "\n",
    "1. Do sweeps have a characteriestic distance to Africa.\n",
    "2. Do all swepes have an african and do sweeps that do not have a different tmrca?\n",
    "3. Are African populations included in sweeps low pi in the same regions?\n",
    "\n",
    "The first question is most straightfowardly addressed by comparing, within each window of the chromosome, the haplotypes that are swept and those that are not. We can measure which African population each haplotype is closest to.\n",
    "\n",
    "Measuring divervence to Africa is difficult: Population structure in Africa will inflate distance of a haplotype to African individuals if the subpopulation that the non-african is derived from is not sampled or has been lost. So simply comparing divergence to african populations of swept and non-swept haplotypes is potentially misleading.\n"
   ]
  },
  {
   "cell_type": "code",
   "execution_count": 2,
   "metadata": {},
   "outputs": [
    {
     "name": "stderr",
     "output_type": "stream",
     "text": [
      "/home/kmt/anaconda3/envs/simons/lib/python3.6/site-packages/statsmodels/tools/_testing.py:19: FutureWarning: pandas.util.testing is deprecated. Use the functions in the public API at pandas.testing instead.\n",
      "  import pandas.util.testing as tm\n"
     ]
    }
   ],
   "source": [
    "import re, os, sys, pickle, pickle, math\n",
    "from pathlib import Path\n",
    "import numpy\n",
    "import pandas\n",
    "import scipy\n",
    "from pandas import DataFrame, Series\n",
    "from sklearn.decomposition import PCA\n",
    "\n",
    "# my own libaries\n",
    "from ChromosomeWindows import window\n",
    "import genominterv\n",
    "\n",
    "numpy.random.seed(7)"
   ]
  },
  {
   "cell_type": "markdown",
   "metadata": {},
   "source": [
    "Plotting setup:"
   ]
  },
  {
   "cell_type": "code",
   "execution_count": 3,
   "metadata": {},
   "outputs": [
    {
     "name": "stderr",
     "output_type": "stream",
     "text": [
      "In /home/kmt/anaconda3/envs/simons/lib/python3.6/site-packages/matplotlib/mpl-data/stylelib/_classic_test.mplstyle: \n",
      "The text.latex.preview rcparam was deprecated in Matplotlib 3.3 and will be removed two minor releases later.\n",
      "In /home/kmt/anaconda3/envs/simons/lib/python3.6/site-packages/matplotlib/mpl-data/stylelib/_classic_test.mplstyle: \n",
      "The mathtext.fallback_to_cm rcparam was deprecated in Matplotlib 3.3 and will be removed two minor releases later.\n",
      "In /home/kmt/anaconda3/envs/simons/lib/python3.6/site-packages/matplotlib/mpl-data/stylelib/_classic_test.mplstyle: Support for setting the 'mathtext.fallback_to_cm' rcParam is deprecated since 3.3 and will be removed two minor releases later; use 'mathtext.fallback : 'cm' instead.\n",
      "In /home/kmt/anaconda3/envs/simons/lib/python3.6/site-packages/matplotlib/mpl-data/stylelib/_classic_test.mplstyle: \n",
      "The validate_bool_maybe_none function was deprecated in Matplotlib 3.3 and will be removed two minor releases later.\n",
      "In /home/kmt/anaconda3/envs/simons/lib/python3.6/site-packages/matplotlib/mpl-data/stylelib/_classic_test.mplstyle: \n",
      "The savefig.jpeg_quality rcparam was deprecated in Matplotlib 3.3 and will be removed two minor releases later.\n",
      "In /home/kmt/anaconda3/envs/simons/lib/python3.6/site-packages/matplotlib/mpl-data/stylelib/_classic_test.mplstyle: \n",
      "The keymap.all_axes rcparam was deprecated in Matplotlib 3.3 and will be removed two minor releases later.\n",
      "In /home/kmt/anaconda3/envs/simons/lib/python3.6/site-packages/matplotlib/mpl-data/stylelib/_classic_test.mplstyle: \n",
      "The animation.avconv_path rcparam was deprecated in Matplotlib 3.3 and will be removed two minor releases later.\n",
      "In /home/kmt/anaconda3/envs/simons/lib/python3.6/site-packages/matplotlib/mpl-data/stylelib/_classic_test.mplstyle: \n",
      "The animation.avconv_args rcparam was deprecated in Matplotlib 3.3 and will be removed two minor releases later.\n"
     ]
    }
   ],
   "source": [
    "%matplotlib inline\n",
    "\n",
    "# Make inline plots vector graphics instead of raster graphics\n",
    "from IPython.display import set_matplotlib_formats\n",
    "set_matplotlib_formats('retina', 'png')\n",
    "\n",
    "import matplotlib\n",
    "import matplotlib.pyplot as plt\n",
    "from matplotlib.colors import ListedColormap\n",
    "from matplotlib.patches import Rectangle\n",
    "from matplotlib.lines import Line2D \n",
    "# from mpl_toolkits.basemap import Basemap\n",
    "#matplotlib.rcParams['figure.figsize'] = (20.0, 10.0)\n",
    "\n",
    "import mpld3\n",
    "\n",
    "import seaborn as sns\n",
    "sns.set()\n",
    "sns.set_style(\"whitegrid\")\n",
    "sns.set_context(\"paper\")\n",
    "\n",
    "# lowess for plotting\n",
    "from statsmodels.nonparametric.smoothers_lowess import lowess\n",
    "\n",
    "set1 = {'red': '#e41a1c', 'blue': '#377eb8', 'green': '#4daf4a',\n",
    "        'purple': '#984ea3', 'orange': '#ff7f00', \n",
    "        'yellow': '#ffff33', 'brown': '#a65628'}"
   ]
  },
  {
   "cell_type": "markdown",
   "metadata": {},
   "source": [
    "Ignore deprecation warnings from mainly seaborn:"
   ]
  },
  {
   "cell_type": "code",
   "execution_count": 4,
   "metadata": {},
   "outputs": [],
   "source": [
    "# silence deprecation warnings (lots from seaborn)\n",
    "import warnings\n",
    "warnings.filterwarnings(\"ignore\", category=DeprecationWarning) \n",
    "warnings.filterwarnings(\"ignore\", category=numpy.VisibleDeprecationWarning)"
   ]
  },
  {
   "cell_type": "markdown",
   "metadata": {},
   "source": [
    "Analysis dirs:"
   ]
  },
  {
   "cell_type": "code",
   "execution_count": 5,
   "metadata": {},
   "outputs": [],
   "source": [
    "root_dir = Path(os.environ['HOME'], 'simons/faststorage/people/kmt')\n",
    "meta_data_dir = Path(os.environ['HOME'], 'simons/faststorage/data/metadata')\n",
    "steps_dir = root_dir / 'steps'\n",
    "argweaver_dir = steps_dir / 'argweaver/output'\n",
    "results_dir = root_dir / 'results'\n",
    "figures_dir = root_dir / 'figures'\n",
    "data_dir = root_dir / 'data'\n",
    "pi_dir = steps_dir / 'pi_stores'\n",
    "dist_dir = steps_dir / 'dist_stores'\n",
    "#pi_dir = root_dir / 'old_pi_stores'\n",
    "male_x_haploid_dir = steps_dir / 'male_x_haploids'"
   ]
  },
  {
   "cell_type": "markdown",
   "metadata": {},
   "source": [
    "Import variables global to the entire analysis:"
   ]
  },
  {
   "cell_type": "code",
   "execution_count": 6,
   "metadata": {},
   "outputs": [],
   "source": [
    "import analysis_globals"
   ]
  },
  {
   "cell_type": "markdown",
   "metadata": {},
   "source": [
    "Local code in the scripts dir on the cluster:"
   ]
  },
  {
   "cell_type": "code",
   "execution_count": 7,
   "metadata": {},
   "outputs": [],
   "source": [
    "scripts_dir = root_dir / 'scripts'\n",
    "if str(scripts_dir) not in sys.path:\n",
    "    sys.path.append(str(scripts_dir))\n",
    "\n",
    "import simons_meta_data\n",
    "import hg19_chrom_sizes\n",
    "\n",
    "from toggle_code_and_errors import toggle_code_html, toggle_errors_html"
   ]
  },
  {
   "cell_type": "markdown",
   "metadata": {},
   "source": [
    "## Convenience functions"
   ]
  },
  {
   "cell_type": "code",
   "execution_count": 8,
   "metadata": {},
   "outputs": [],
   "source": [
    "def silent_nanmean(x):\n",
    "    with warnings.catch_warnings():\n",
    "        warnings.simplefilter(\"ignore\")\n",
    "        return numpy.nanmean(x)\n",
    "    \n",
    "def ident_scalar(s):\n",
    "    x = s.unique()\n",
    "    assert(len(x)) == 1\n",
    "    return x[0]\n",
    "\n",
    "def bootstrap_se(sr, n=10000):\n",
    "    means = list()\n",
    "    for i in range(n):\n",
    "        means.append(numpy.mean(sr.sample(frac=1, replace=True)))\n",
    "    return numpy.std(means)"
   ]
  },
  {
   "cell_type": "markdown",
   "metadata": {},
   "source": [
    "## Load meta data"
   ]
  },
  {
   "cell_type": "code",
   "execution_count": 9,
   "metadata": {},
   "outputs": [],
   "source": [
    "# easy loading of meta data in a consistent manner across code\n",
    "individuals, populations, regions = simons_meta_data.get_meta_data(meta_data_dir=meta_data_dir)\n",
    "\n",
    "chromosome_lengths = dict((k.replace('chr', ''), v) for k, v in hg19_chrom_sizes.hg19_chrom_sizes.items())"
   ]
  },
  {
   "cell_type": "markdown",
   "metadata": {},
   "source": [
    "## Load data for each individual"
   ]
  },
  {
   "cell_type": "code",
   "execution_count": 10,
   "metadata": {},
   "outputs": [
    {
     "data": {
      "text/html": [
       "<div>\n",
       "<style scoped>\n",
       "    .dataframe tbody tr th:only-of-type {\n",
       "        vertical-align: middle;\n",
       "    }\n",
       "\n",
       "    .dataframe tbody tr th {\n",
       "        vertical-align: top;\n",
       "    }\n",
       "\n",
       "    .dataframe thead th {\n",
       "        text-align: right;\n",
       "    }\n",
       "</style>\n",
       "<table border=\"1\" class=\"dataframe\">\n",
       "  <thead>\n",
       "    <tr style=\"text-align: right;\">\n",
       "      <th></th>\n",
       "      <th>indiv_1</th>\n",
       "      <th>start</th>\n",
       "      <th>end</th>\n",
       "      <th>pop_1</th>\n",
       "      <th>region_label_1</th>\n",
       "      <th>region_id_1</th>\n",
       "      <th>region_1</th>\n",
       "      <th>mean_dist</th>\n",
       "      <th>mean_dist_af</th>\n",
       "      <th>mean_dist_to_africans</th>\n",
       "      <th>...</th>\n",
       "      <th>swept_af</th>\n",
       "      <th>not_missing</th>\n",
       "      <th>never_swept</th>\n",
       "      <th>never_swept_af</th>\n",
       "      <th>never_win_swept</th>\n",
       "      <th>never_win_swept_af</th>\n",
       "      <th>conserv_swept_group</th>\n",
       "      <th>conserv_swept_group_af</th>\n",
       "      <th>partial_sweep_win</th>\n",
       "      <th>partial_sweep_win_af</th>\n",
       "    </tr>\n",
       "  </thead>\n",
       "  <tbody>\n",
       "    <tr>\n",
       "      <th>27</th>\n",
       "      <td>B_Australian-4</td>\n",
       "      <td>2700000</td>\n",
       "      <td>2800000</td>\n",
       "      <td>Australian</td>\n",
       "      <td>Oceania</td>\n",
       "      <td>4</td>\n",
       "      <td>Oceania</td>\n",
       "      <td>0.001051</td>\n",
       "      <td>0.001051</td>\n",
       "      <td>0.001735</td>\n",
       "      <td>...</td>\n",
       "      <td>False</td>\n",
       "      <td>True</td>\n",
       "      <td>True</td>\n",
       "      <td>True</td>\n",
       "      <td>True</td>\n",
       "      <td>True</td>\n",
       "      <td>no</td>\n",
       "      <td>no</td>\n",
       "      <td>False</td>\n",
       "      <td>False</td>\n",
       "    </tr>\n",
       "    <tr>\n",
       "      <th>28</th>\n",
       "      <td>B_Australian-4</td>\n",
       "      <td>2800000</td>\n",
       "      <td>2900000</td>\n",
       "      <td>Australian</td>\n",
       "      <td>Oceania</td>\n",
       "      <td>4</td>\n",
       "      <td>Oceania</td>\n",
       "      <td>0.000633</td>\n",
       "      <td>0.000623</td>\n",
       "      <td>0.001109</td>\n",
       "      <td>...</td>\n",
       "      <td>False</td>\n",
       "      <td>True</td>\n",
       "      <td>True</td>\n",
       "      <td>True</td>\n",
       "      <td>True</td>\n",
       "      <td>True</td>\n",
       "      <td>no</td>\n",
       "      <td>no</td>\n",
       "      <td>False</td>\n",
       "      <td>False</td>\n",
       "    </tr>\n",
       "    <tr>\n",
       "      <th>29</th>\n",
       "      <td>B_Australian-4</td>\n",
       "      <td>2900000</td>\n",
       "      <td>3000000</td>\n",
       "      <td>Australian</td>\n",
       "      <td>Oceania</td>\n",
       "      <td>4</td>\n",
       "      <td>Oceania</td>\n",
       "      <td>0.000377</td>\n",
       "      <td>0.000318</td>\n",
       "      <td>0.000844</td>\n",
       "      <td>...</td>\n",
       "      <td>False</td>\n",
       "      <td>True</td>\n",
       "      <td>True</td>\n",
       "      <td>True</td>\n",
       "      <td>False</td>\n",
       "      <td>False</td>\n",
       "      <td>no</td>\n",
       "      <td>no</td>\n",
       "      <td>False</td>\n",
       "      <td>False</td>\n",
       "    </tr>\n",
       "    <tr>\n",
       "      <th>30</th>\n",
       "      <td>B_Australian-4</td>\n",
       "      <td>3000000</td>\n",
       "      <td>3100000</td>\n",
       "      <td>Australian</td>\n",
       "      <td>Oceania</td>\n",
       "      <td>4</td>\n",
       "      <td>Oceania</td>\n",
       "      <td>0.001087</td>\n",
       "      <td>0.001087</td>\n",
       "      <td>0.001078</td>\n",
       "      <td>...</td>\n",
       "      <td>False</td>\n",
       "      <td>True</td>\n",
       "      <td>True</td>\n",
       "      <td>True</td>\n",
       "      <td>True</td>\n",
       "      <td>True</td>\n",
       "      <td>no</td>\n",
       "      <td>no</td>\n",
       "      <td>False</td>\n",
       "      <td>False</td>\n",
       "    </tr>\n",
       "    <tr>\n",
       "      <th>31</th>\n",
       "      <td>B_Australian-4</td>\n",
       "      <td>3100000</td>\n",
       "      <td>3200000</td>\n",
       "      <td>Australian</td>\n",
       "      <td>Oceania</td>\n",
       "      <td>4</td>\n",
       "      <td>Oceania</td>\n",
       "      <td>0.001212</td>\n",
       "      <td>0.001205</td>\n",
       "      <td>0.001544</td>\n",
       "      <td>...</td>\n",
       "      <td>False</td>\n",
       "      <td>True</td>\n",
       "      <td>True</td>\n",
       "      <td>True</td>\n",
       "      <td>True</td>\n",
       "      <td>True</td>\n",
       "      <td>no</td>\n",
       "      <td>no</td>\n",
       "      <td>False</td>\n",
       "      <td>False</td>\n",
       "    </tr>\n",
       "  </tbody>\n",
       "</table>\n",
       "<p>5 rows × 35 columns</p>\n",
       "</div>"
      ],
      "text/plain": [
       "           indiv_1    start      end       pop_1 region_label_1  region_id_1  \\\n",
       "27  B_Australian-4  2700000  2800000  Australian        Oceania            4   \n",
       "28  B_Australian-4  2800000  2900000  Australian        Oceania            4   \n",
       "29  B_Australian-4  2900000  3000000  Australian        Oceania            4   \n",
       "30  B_Australian-4  3000000  3100000  Australian        Oceania            4   \n",
       "31  B_Australian-4  3100000  3200000  Australian        Oceania            4   \n",
       "\n",
       "   region_1  mean_dist  mean_dist_af  mean_dist_to_africans  ...  swept_af  \\\n",
       "27  Oceania   0.001051      0.001051               0.001735  ...     False   \n",
       "28  Oceania   0.000633      0.000623               0.001109  ...     False   \n",
       "29  Oceania   0.000377      0.000318               0.000844  ...     False   \n",
       "30  Oceania   0.001087      0.001087               0.001078  ...     False   \n",
       "31  Oceania   0.001212      0.001205               0.001544  ...     False   \n",
       "\n",
       "    not_missing  never_swept  never_swept_af  never_win_swept  \\\n",
       "27         True         True            True             True   \n",
       "28         True         True            True             True   \n",
       "29         True         True            True            False   \n",
       "30         True         True            True             True   \n",
       "31         True         True            True             True   \n",
       "\n",
       "    never_win_swept_af  conserv_swept_group  conserv_swept_group_af  \\\n",
       "27                True                   no                      no   \n",
       "28                True                   no                      no   \n",
       "29               False                   no                      no   \n",
       "30                True                   no                      no   \n",
       "31                True                   no                      no   \n",
       "\n",
       "    partial_sweep_win  partial_sweep_win_af  \n",
       "27              False                 False  \n",
       "28              False                 False  \n",
       "29              False                 False  \n",
       "30              False                 False  \n",
       "31              False                 False  \n",
       "\n",
       "[5 rows x 35 columns]"
      ]
     },
     "execution_count": 10,
     "metadata": {},
     "output_type": "execute_result"
    }
   ],
   "source": [
    "sweep_data = (pandas.read_hdf(results_dir / f'sweep_data_{ech_calling_tag}.hdf')\n",
    "              .loc[lambda df: df.not_missing == True] # only include windows where enough individuals are called\n",
    "             )\n",
    "sweep_data.head()"
   ]
  },
  {
   "cell_type": "markdown",
   "metadata": {},
   "source": [
    "## Prepare data"
   ]
  },
  {
   "cell_type": "code",
   "execution_count": 15,
   "metadata": {},
   "outputs": [],
   "source": [
    "# # pwdiff_store = pandas.HDFStore(str(results_dir / 'all_male_dist_twice.hdf'))\n",
    "# pwdiff_store = pandas.HDFStore(str(steps_dir / 'male_dist_admix_masked_stores/male_dist_data_chrX_100kb.hdf'))"
   ]
  },
  {
   "cell_type": "code",
   "execution_count": null,
   "metadata": {},
   "outputs": [],
   "source": [
    "# nonafr_afr_subset = pwdiff_store.select('df', '(region_label_1 != \"Africa\") & (region_label_2 == \"Africa\")')\n",
    "# nonafr_afr_subset.head()"
   ]
  },
  {
   "cell_type": "code",
   "execution_count": 20,
   "metadata": {},
   "outputs": [],
   "source": [
    "df = pandas.read_hdf(str(steps_dir / 'male_dist_admix_masked_stores/male_dist_data_chrX_100kb.hdf'))\n",
    "nonafr_afr_subset = df.loc[(df.region_label_1 != \"Africa\") & (df.region_label_2 == \"Africa\")]"
   ]
  },
  {
   "cell_type": "code",
   "execution_count": 21,
   "metadata": {},
   "outputs": [
    {
     "data": {
      "text/html": [
       "<div>\n",
       "<style scoped>\n",
       "    .dataframe tbody tr th:only-of-type {\n",
       "        vertical-align: middle;\n",
       "    }\n",
       "\n",
       "    .dataframe tbody tr th {\n",
       "        vertical-align: top;\n",
       "    }\n",
       "\n",
       "    .dataframe thead th {\n",
       "        text-align: right;\n",
       "    }\n",
       "</style>\n",
       "<table border=\"1\" class=\"dataframe\">\n",
       "  <thead>\n",
       "    <tr style=\"text-align: right;\">\n",
       "      <th></th>\n",
       "      <th>count</th>\n",
       "      <th>unique</th>\n",
       "      <th>top</th>\n",
       "      <th>freq</th>\n",
       "    </tr>\n",
       "    <tr>\n",
       "      <th>region_1</th>\n",
       "      <th></th>\n",
       "      <th></th>\n",
       "      <th></th>\n",
       "      <th></th>\n",
       "    </tr>\n",
       "  </thead>\n",
       "  <tbody>\n",
       "    <tr>\n",
       "      <th>Africa</th>\n",
       "      <td>0</td>\n",
       "      <td>0</td>\n",
       "      <td>NaN</td>\n",
       "      <td>NaN</td>\n",
       "    </tr>\n",
       "    <tr>\n",
       "      <th>WestEurasia</th>\n",
       "      <td>1638912</td>\n",
       "      <td>48</td>\n",
       "      <td>S_Jordanian-2</td>\n",
       "      <td>34144</td>\n",
       "    </tr>\n",
       "    <tr>\n",
       "      <th>SouthAsia</th>\n",
       "      <td>1058464</td>\n",
       "      <td>31</td>\n",
       "      <td>S_Brahui-1</td>\n",
       "      <td>34144</td>\n",
       "    </tr>\n",
       "    <tr>\n",
       "      <th>CentralAsiaSiberia</th>\n",
       "      <td>341440</td>\n",
       "      <td>10</td>\n",
       "      <td>S_Eskimo_Sireniki-1</td>\n",
       "      <td>34144</td>\n",
       "    </tr>\n",
       "    <tr>\n",
       "      <th>Oceania</th>\n",
       "      <td>546304</td>\n",
       "      <td>16</td>\n",
       "      <td>B_Australian-4</td>\n",
       "      <td>34144</td>\n",
       "    </tr>\n",
       "    <tr>\n",
       "      <th>EastAsia</th>\n",
       "      <td>921888</td>\n",
       "      <td>27</td>\n",
       "      <td>S_Ami-1</td>\n",
       "      <td>34144</td>\n",
       "    </tr>\n",
       "    <tr>\n",
       "      <th>America</th>\n",
       "      <td>273152</td>\n",
       "      <td>8</td>\n",
       "      <td>S_Zapotec-2</td>\n",
       "      <td>34144</td>\n",
       "    </tr>\n",
       "  </tbody>\n",
       "</table>\n",
       "</div>"
      ],
      "text/plain": [
       "                      count unique                  top   freq\n",
       "region_1                                                      \n",
       "Africa                    0      0                  NaN    NaN\n",
       "WestEurasia         1638912     48        S_Jordanian-2  34144\n",
       "SouthAsia           1058464     31           S_Brahui-1  34144\n",
       "CentralAsiaSiberia   341440     10  S_Eskimo_Sireniki-1  34144\n",
       "Oceania              546304     16       B_Australian-4  34144\n",
       "EastAsia             921888     27              S_Ami-1  34144\n",
       "America              273152      8          S_Zapotec-2  34144"
      ]
     },
     "execution_count": 21,
     "metadata": {},
     "output_type": "execute_result"
    }
   ],
   "source": [
    "nonafr_afr_subset.groupby('region_1')['indiv_1'].describe()"
   ]
  },
  {
   "cell_type": "markdown",
   "metadata": {},
   "source": [
    "Merge data:"
   ]
  },
  {
   "cell_type": "code",
   "execution_count": 22,
   "metadata": {},
   "outputs": [],
   "source": [
    "merged_data = (nonafr_afr_subset\n",
    "           .merge(sweep_data[['indiv_1', 'start', \n",
    "                              'swept', 'swept_af', # 'surely_not_swept', #'swept_in_region', \n",
    "                              'never_swept',  'never_swept_af', \n",
    "                              'partial_sweep_win', 'partial_sweep_win_af',\n",
    "                              'never_win_swept', 'never_win_swept_af',\n",
    "                              'conserv_swept_group', 'conserv_swept_group_af',\n",
    "                              'mean_dist_to_africans', 'mean_dist_to_africans_af']], \n",
    "                  on=['indiv_1', 'start'], how='left')\n",
    "          )"
   ]
  },
  {
   "cell_type": "markdown",
   "metadata": {},
   "source": [
    "## Mean distance between non-Africans and Africans for swept and non-swept windows\n",
    "\n",
    "> To test this hypothesis, we computed the mean distance of non-African swept and non-swept haplotypes to African haplotypes using the same subset of windows used in Subfigure 4.  We find that swept haplotypes show a reduced mean distance to Africans (Subfigure 5), although this is only significant CentralAsiaSiberia: 2.8% (paired t-test p-value corrected for multiple testing: 0.005), Oceania: 2.7% (p-value: 0.001), and  EastAsia: 2.9% (p-value: 0.001). This is not evidence that swept individuals carrying the swept haplotypes left Africa later, since population structure in Africa and representation of populations in our data set, may affect mean distances to Africa. However, it does show that the population or populations that contributed the swept haplotypes had a distinct genealogical relationship to Africa. \n"
   ]
  },
  {
   "cell_type": "code",
   "execution_count": 24,
   "metadata": {},
   "outputs": [
    {
     "name": "stdout",
     "output_type": "stream",
     "text": [
      "              start           end  mean_afr_dist\n",
      "swept                                           \n",
      "False  8.500058e+07  8.510058e+07       0.000528\n",
      "True   8.500058e+07  8.510058e+07       0.000522\n",
      "\n",
      "173 100kb chromosome windows\n",
      "paired t-test pvalue: 0.39038986017804456\n",
      "mean reduction of swept: 0.012675960513722979\n"
     ]
    },
    {
     "data": {
      "image/png": "[encoded data removed]",
      "text/plain": [
       "<Figure size 504x288 with 2 Axes>"
      ]
     },
     "metadata": {
      "image/png": {
       "height": 281,
       "width": 511
      }
     },
     "output_type": "display_data"
    }
   ],
   "source": [
    "plot_df = (merged_data\n",
    "      .loc[lambda df: (df.partial_sweep_win == True) & (df.conserv_swept_group != 'ambig')]\n",
    "      .groupby(['start', 'end', 'swept'])['mean_dist_to_africans']\n",
    "      .mean()\n",
    "      .to_frame('mean_afr_dist')\n",
    "      .reset_index()\n",
    "      # removing 'ambig' creates windows that does not have both swept and non-swept\n",
    "      # so we need to filter to get only windows that include both calls:\n",
    "      .groupby(['start']).filter(lambda df: set(df['swept']) == set([False, True]))\n",
    "       )\n",
    "\n",
    "print(plot_df.groupby('swept').mean())\n",
    "swept = plot_df.sort_values(by='start').loc[lambda df: df['swept']==True, 'mean_afr_dist']\n",
    "non_swept = plot_df.sort_values(by='start').loc[lambda df: df['swept']==False, 'mean_afr_dist']\n",
    "pval = scipy.stats.ttest_rel(swept, non_swept, axis=0, nan_policy='propagate').pvalue\n",
    "reduction = (non_swept.values-swept.values)/non_swept.values\n",
    "print()\n",
    "print(len(swept), '100kb chromosome windows')\n",
    "print('paired t-test pvalue:', pval)\n",
    "print('mean reduction of swept:', numpy.mean(reduction))\n",
    "\n",
    "windows_without_swept_afr = (sweep_data\n",
    "                             .groupby(['start'])\n",
    "                             .filter(lambda df: ((df.swept == True) & (df.region_1 == 'Africa')).sum() == 0)\n",
    "                             .loc[:, ['start', 'end']]\n",
    "                             .drop_duplicates()\n",
    "                            )\n",
    "\n",
    "with sns.color_palette([set1['blue'], set1['red']]):\n",
    "    with sns.plotting_context('paper', font_scale=1.0):\n",
    "        with sns.axes_style('whitegrid'):\n",
    "            fig, (ax1, ax2) = plt.subplots(1, 2, figsize=(7, 4), sharey=True)\n",
    "\n",
    "            g1 = sns.barplot(x=\"swept\", y=\"mean_afr_dist\", \n",
    "                             data=plot_df, \n",
    "                             ax=ax1, n_boot=1000)\n",
    "\n",
    "            ax1.set_title('All')\n",
    "            ax1.set_ylabel('Mean distance to African haplotypes')\n",
    "            ax1.set_xlabel('')\n",
    "            ax1.set_xticklabels(['Not swept', 'Swept'])\n",
    "            \n",
    "            g2 = sns.barplot(x=\"swept\", y=\"mean_afr_dist\", \n",
    "                             data=plot_df.merge(windows_without_swept_afr, on=['start', 'end']),\n",
    "                             ax=ax2, n_boot=1000)\n",
    "            ax2.set_title('Without windows where an African is also swept')\n",
    "            ax2.set_ylabel('Mean distance to African haplotypes')\n",
    "            ax2.set_xlabel('')\n",
    "            ax2.set_xticklabels(['Not swept', 'Swept'])\n",
    "            \n",
    "            plt.tight_layout()\n",
    "            \n",
    "            plt.savefig(str(figures_dir / f'dist_to_afr_{ech_calling_tag}.pdf' ))\n",
    "            plt.savefig(str(figures_dir / f'dist_to_afr_{ech_calling_tag}.png' ))"
   ]
  },
  {
   "cell_type": "code",
   "execution_count": 25,
   "metadata": {},
   "outputs": [
    {
     "data": {
      "image/png": "[encoded data removed]",
      "text/plain": [
       "<Figure size 432x288 with 1 Axes>"
      ]
     },
     "metadata": {
      "image/png": {
       "height": 249,
       "width": 363
      }
     },
     "output_type": "display_data"
    }
   ],
   "source": [
    "g = sns.distplot(reduction)"
   ]
  },
  {
   "cell_type": "code",
   "execution_count": 26,
   "metadata": {},
   "outputs": [
    {
     "name": "stdout",
     "output_type": "stream",
     "text": [
      "All:\n",
      "Africa               pvalue: nan        corrected pvalue: nan        mean reduction: nan       \n",
      "WestEurasia          pvalue: nan        corrected pvalue: nan        mean reduction: nan       \n",
      "SouthAsia            pvalue: nan        corrected pvalue: nan        mean reduction: nan       \n",
      "CentralAsiaSiberia   pvalue: nan        corrected pvalue: nan        mean reduction: nan       \n",
      "Oceania              pvalue: nan        corrected pvalue: nan        mean reduction: nan       \n",
      "EastAsia             pvalue: nan        corrected pvalue: nan        mean reduction: nan       \n",
      "America              pvalue: nan        corrected pvalue: nan        mean reduction: nan       \n",
      "\n",
      "Without windows where an African is also swept:\n",
      "Africa               pvalue: nan        corrected pvalue: nan        mean reduction: nan       \n",
      "WestEurasia          pvalue: 0.9        corrected pvalue: 5.4        mean reduction: -0.003    \n",
      "SouthAsia            pvalue: nan        corrected pvalue: nan        mean reduction: nan       \n",
      "CentralAsiaSiberia   pvalue: nan        corrected pvalue: nan        mean reduction: nan       \n",
      "Oceania              pvalue: nan        corrected pvalue: nan        mean reduction: nan       \n",
      "EastAsia             pvalue: nan        corrected pvalue: nan        mean reduction: nan       \n",
      "America              pvalue: nan        corrected pvalue: nan        mean reduction: nan       \n"
     ]
    },
    {
     "data": {
      "image/png": "[encoded data removed]",
      "text/plain": [
       "<Figure size 648x288 with 2 Axes>"
      ]
     },
     "metadata": {
      "image/png": {
       "height": 280,
       "width": 641
      }
     },
     "output_type": "display_data"
    }
   ],
   "source": [
    "plot_df = (merged_data\n",
    "      .loc[lambda df: (df.partial_sweep_win == True) & (df.conserv_swept_group != 'ambig')]\n",
    "      .groupby(['start', 'end', 'swept', 'region_1'])['mean_dist_to_africans']\n",
    "      .mean()\n",
    "      .to_frame('mean_afr_dist')\n",
    "      .reset_index()\n",
    "      # removing 'ambig' creates windows that does not have both swept and non-swept\n",
    "      # so we need to filter to get only windows that include both calls:\n",
    "      .groupby(['start', 'region_1']).filter(lambda df: set(df['swept']) == set([False, True]))\n",
    "      )\n",
    "\n",
    "plot_df['region_1'] = plot_df.region_1.cat.remove_unused_categories()\n",
    "\n",
    "print(\"All:\")\n",
    "for name, group in plot_df.groupby(['region_1']):\n",
    "    swept = group.sort_values(by='start').loc[lambda df: df['swept']==True, 'mean_afr_dist']\n",
    "    non_swept = group.sort_values(by='start').loc[lambda df: df['swept']==False, 'mean_afr_dist']\n",
    "    pval = scipy.stats.ttest_rel(swept, non_swept, axis=0, nan_policy='propagate').pvalue\n",
    "    mean_reduction = numpy.mean((non_swept.values-swept.values)/non_swept.values)\n",
    "    print(\"{:<20} pvalue: {:<10.2} corrected pvalue: {:<10.2} mean reduction: {:<10.2}\".format(name, pval, pval*6, mean_reduction))\n",
    "print()\n",
    "print(\"Without windows where an African is also swept:\")\n",
    "for name, group in plot_df.merge(windows_without_swept_afr, on=['start', 'end']).groupby(['region_1']):\n",
    "    swept = group.sort_values(by='start').loc[lambda df: df['swept']==True, 'mean_afr_dist']\n",
    "    non_swept = group.sort_values(by='start').loc[lambda df: df['swept']==False, 'mean_afr_dist']\n",
    "    pval = scipy.stats.ttest_rel(swept, non_swept, axis=0, nan_policy='propagate').pvalue\n",
    "    mean_reduction = numpy.mean((non_swept.values-swept.values)/non_swept.values)\n",
    "    print(\"{:<20} pvalue: {:<10.2} corrected pvalue: {:<10.2} mean reduction: {:<10.2}\".format(name, pval, pval*6, mean_reduction))\n",
    "\n",
    "with sns.color_palette([set1['blue'], set1['red']]):\n",
    "    with sns.plotting_context('paper', font_scale=1.0):\n",
    "        with sns.axes_style('whitegrid'):\n",
    "            fig, (ax1, ax2) = plt.subplots(1, 2, figsize=(9, 4), sharey=True)\n",
    "            g1 = sns.barplot(x=\"region_1\", y=\"mean_afr_dist\", hue='swept', \n",
    "                             data=plot_df, \n",
    "                             ax=ax1, n_boot=1000)\n",
    "            ax1.set_ylabel('Mean distance to African haplotypes')\n",
    "            ax1.set_xlabel('')\n",
    "            ax1.set_title('All')\n",
    "            for item in g1.get_xticklabels():\n",
    "                item.set_rotation(90)\n",
    "            ax1.legend_.remove()\n",
    "            #ax1.legend(bbox_to_anchor=(1.05, 1), loc=2, borderaxespad=0.)\n",
    "\n",
    "            g2 = sns.barplot(x=\"region_1\", y=\"mean_afr_dist\", hue='swept', \n",
    "                             data=plot_df.merge(windows_without_swept_afr, on=['start', 'end']),\n",
    "                             ax=ax2, n_boot=1000)\n",
    "            ax2.set_ylabel('Mean distance to African haplotypes')\n",
    "            ax2.set_xlabel('')\n",
    "            ax2.set_title('Without windows where an African is also swept')\n",
    "            for item in g2.get_xticklabels():\n",
    "                item.set_rotation(90)\n",
    "                \n",
    "                \n",
    "            ax2.get_legend().set_title('Is swept')\n",
    "            handles, labels = ax2.get_legend_handles_labels()\n",
    "\n",
    "            ax2.legend(handles, ['Not swept', 'Swept'],\n",
    "                     bbox_to_anchor=(1.05, 1), loc=2, borderaxespad=0.\n",
    "                     # bbox_to_anchor=(1., 1.0),  loc='upper left',\n",
    "                     # bbox_to_anchor=(0., 1.02, 1., .102), loc='upper center', ncol=2\n",
    "                    )    \n",
    "                \n",
    "            plt.tight_layout()\n",
    "            \n",
    "            plt.savefig(str(figures_dir / f'dist_to_afr_by_region_{ech_calling_tag}.pdf' ))\n",
    "            plt.savefig(str(figures_dir / f'dist_to_afr_by_region_{ech_calling_tag}.png' ))"
   ]
  },
  {
   "cell_type": "markdown",
   "metadata": {},
   "source": [
    "## Same but for admix filtered"
   ]
  },
  {
   "cell_type": "code",
   "execution_count": 27,
   "metadata": {},
   "outputs": [
    {
     "name": "stdout",
     "output_type": "stream",
     "text": [
      "                 start           end  mean_afr_dist_af\n",
      "swept_af                                              \n",
      "False     8.500058e+07  8.510058e+07          0.000526\n",
      "True      8.500058e+07  8.510058e+07          0.000522\n",
      "\n",
      "173 100kb chromosome windows\n",
      "paired t-test pvalue: 0.5673829749462977\n",
      "mean reduction of swept: 0.007559889215718064\n"
     ]
    },
    {
     "data": {
      "image/png": "[encoded data removed]",
      "text/plain": [
       "<Figure size 504x288 with 2 Axes>"
      ]
     },
     "metadata": {
      "image/png": {
       "height": 281,
       "width": 511
      }
     },
     "output_type": "display_data"
    }
   ],
   "source": [
    "plot_df = (merged_data\n",
    "#       .loc[lambda df: (df.never_swept == False) & (df.conserv_swept_group != 'ambig')]\n",
    "      .loc[lambda df: (df.partial_sweep_win_af == True) & (df.conserv_swept_group_af != 'ambig')]\n",
    "      .groupby(['start', 'end', 'swept_af'])['mean_dist_to_africans_af']\n",
    "      .mean()\n",
    "      .to_frame('mean_afr_dist_af')\n",
    "      .reset_index()\n",
    "      # removing 'ambig' creates windows that does not have both swept and non-swept\n",
    "      # so we need to filter to get only windows that include both calls:\n",
    "      .groupby(['start']).filter(lambda df: set(df['swept_af']) == set([False, True]))\n",
    "       )\n",
    "\n",
    "print(plot_df.groupby('swept_af').mean())\n",
    "\n",
    "swept = plot_df.sort_values(by='start').loc[lambda df: df['swept_af']==True, 'mean_afr_dist_af']\n",
    "non_swept = plot_df.sort_values(by='start').loc[lambda df: df['swept_af']==False, 'mean_afr_dist_af']\n",
    "pval = scipy.stats.ttest_rel(swept, non_swept, axis=0, nan_policy='propagate').pvalue\n",
    "reduction = (non_swept.values-swept.values)/non_swept.values\n",
    "print()\n",
    "print(len(swept), '100kb chromosome windows')\n",
    "print('paired t-test pvalue:', pval)\n",
    "print('mean reduction of swept:', numpy.mean(reduction))\n",
    "\n",
    "windows_without_swept_afr = (sweep_data\n",
    "                             .groupby(['start'])\n",
    "                             .filter(lambda df: ((df.swept_af == True) & (df.region_1 == 'Africa')).sum() == 0)\n",
    "                             .loc[:, ['start', 'end']]\n",
    "                             .drop_duplicates()\n",
    "                            )\n",
    "\n",
    "with sns.color_palette([set1['blue'], set1['red']]):\n",
    "    with sns.plotting_context('paper', font_scale=1.0):\n",
    "        with sns.axes_style('whitegrid'):\n",
    "            fig, (ax1, ax2) = plt.subplots(1, 2, figsize=(7, 4), sharey=True)\n",
    "\n",
    "            g1 = sns.barplot(x=\"swept_af\", y=\"mean_afr_dist_af\", \n",
    "                             data=plot_df, \n",
    "                             ax=ax1, n_boot=1000)\n",
    "\n",
    "            ax1.set_title('All')\n",
    "            ax1.set_ylabel('Distance')\n",
    "            ax1.set_xlabel('')\n",
    "            ax1.set_xticklabels(['Not swept', 'Swept'])\n",
    "            \n",
    "            g2 = sns.barplot(x=\"swept_af\", y=\"mean_afr_dist_af\", \n",
    "                             data=plot_df.merge(windows_without_swept_afr, on=['start', 'end']),\n",
    "                             ax=ax2, n_boot=1000)\n",
    "            ax2.set_title('Without windows where an African is also swept')\n",
    "            ax2.set_ylabel('Distance')\n",
    "            ax2.set_xlabel('')\n",
    "            ax2.set_xticklabels(['Not swept', 'Swept'])\n",
    "            \n",
    "            plt.tight_layout()\n",
    "            \n",
    "            plt.savefig(str(figures_dir / f'dist_to_afr_af_{ech_calling_tag}.pdf' ))\n",
    "            plt.savefig(str(figures_dir / f'dist_to_afr_af_{ech_calling_tag}.png' ))"
   ]
  },
  {
   "cell_type": "code",
   "execution_count": 28,
   "metadata": {},
   "outputs": [
    {
     "name": "stdout",
     "output_type": "stream",
     "text": [
      "All:\n",
      "Africa               pvalue: nan        corrected pvalue: nan        mean reduction: nan       \n",
      "WestEurasia          pvalue: nan        corrected pvalue: nan        mean reduction: nan       \n",
      "SouthAsia            pvalue: nan        corrected pvalue: nan        mean reduction: nan       \n",
      "CentralAsiaSiberia   pvalue: nan        corrected pvalue: nan        mean reduction: nan       \n",
      "Oceania              pvalue: nan        corrected pvalue: nan        mean reduction: nan       \n",
      "EastAsia             pvalue: nan        corrected pvalue: nan        mean reduction: nan       \n",
      "America              pvalue: nan        corrected pvalue: nan        mean reduction: nan       \n",
      "\n",
      "Without windows where an African is also swept:\n",
      "Africa               pvalue: nan        corrected pvalue: nan        mean reduction: nan       \n",
      "WestEurasia          pvalue: 0.77       corrected pvalue: 4.6        mean reduction: -0.0056   \n",
      "SouthAsia            pvalue: nan        corrected pvalue: nan        mean reduction: nan       \n",
      "CentralAsiaSiberia   pvalue: nan        corrected pvalue: nan        mean reduction: nan       \n",
      "Oceania              pvalue: nan        corrected pvalue: nan        mean reduction: nan       \n",
      "EastAsia             pvalue: nan        corrected pvalue: nan        mean reduction: nan       \n",
      "America              pvalue: nan        corrected pvalue: nan        mean reduction: nan       \n"
     ]
    },
    {
     "data": {
      "image/png": "[encoded data removed]",
      "text/plain": [
       "<Figure size 648x288 with 2 Axes>"
      ]
     },
     "metadata": {
      "image/png": {
       "height": 280,
       "width": 641
      }
     },
     "output_type": "display_data"
    }
   ],
   "source": [
    "plot_df = (merged_data\n",
    "      .loc[lambda df: (df.partial_sweep_win_af == True) & (df.conserv_swept_group_af != 'ambig')]\n",
    "      .groupby(['start', 'end', 'swept_af', 'region_1'])['mean_dist_to_africans_af']\n",
    "      .mean()\n",
    "      .to_frame('mean_afr_dist_af')\n",
    "      .reset_index()\n",
    "      # removing 'ambig' creates windows that does not have both swept and non-swept\n",
    "      # so we need to filter to get only windows that include both calls:\n",
    "      .groupby(['start', 'region_1']).filter(lambda df: set(df['swept_af']) == set([False, True]))\n",
    "      )\n",
    "\n",
    "plot_df['region_1'] = plot_df.region_1.cat.remove_unused_categories()\n",
    "\n",
    "print(\"All:\")\n",
    "for name, group in plot_df.groupby(['region_1']):\n",
    "    swept = group.sort_values(by='start').loc[lambda df: df['swept_af']==True, 'mean_afr_dist_af']\n",
    "    non_swept = group.sort_values(by='start').loc[lambda df: df['swept_af']==False, 'mean_afr_dist_af']\n",
    "    pval = scipy.stats.ttest_rel(swept, non_swept, axis=0, nan_policy='propagate').pvalue\n",
    "    mean_reduction = numpy.mean((non_swept.values-swept.values)/non_swept.values)\n",
    "    print(\"{:<20} pvalue: {:<10.2} corrected pvalue: {:<10.2} mean reduction: {:<10.2}\".format(name, pval, pval*6, mean_reduction))\n",
    "print()\n",
    "print(\"Without windows where an African is also swept:\")\n",
    "for name, group in plot_df.merge(windows_without_swept_afr, on=['start', 'end']).groupby(['region_1']):\n",
    "    swept = group.sort_values(by='start').loc[lambda df: df['swept_af']==True, 'mean_afr_dist_af']\n",
    "    non_swept = group.sort_values(by='start').loc[lambda df: df['swept_af']==False, 'mean_afr_dist_af']\n",
    "    pval = scipy.stats.ttest_rel(swept, non_swept, axis=0, nan_policy='propagate').pvalue\n",
    "    mean_reduction = numpy.mean((non_swept.values-swept.values)/non_swept.values)\n",
    "    print(\"{:<20} pvalue: {:<10.2} corrected pvalue: {:<10.2} mean reduction: {:<10.2}\".format(name, pval, pval*6, mean_reduction))\n",
    "    \n",
    "with sns.color_palette([set1['blue'], set1['red']]):\n",
    "    with sns.plotting_context('paper', font_scale=1.0):\n",
    "        with sns.axes_style('whitegrid'):\n",
    "            fig, (ax1, ax2) = plt.subplots(1, 2, figsize=(9, 4), sharey=True)\n",
    "            g1 = sns.barplot(x=\"region_1\", y=\"mean_afr_dist_af\", hue='swept_af', \n",
    "                             data=plot_df, \n",
    "                             ax=ax1, n_boot=1000)\n",
    "            ax1.set_ylabel('Mean distance to African haplotypes')\n",
    "            ax1.set_xlabel('')\n",
    "            ax1.set_title('All')\n",
    "            for item in g1.get_xticklabels():\n",
    "                item.set_rotation(90)\n",
    "            ax1.legend_.remove()\n",
    "            #ax1.legend(bbox_to_anchor=(1.05, 1), loc=2, borderaxespad=0.)\n",
    "\n",
    "            g2 = sns.barplot(x=\"region_1\", y=\"mean_afr_dist_af\", hue='swept_af', \n",
    "                             data=plot_df.merge(windows_without_swept_afr, on=['start', 'end']),\n",
    "                             ax=ax2, n_boot=1000)\n",
    "            ax2.set_ylabel('Mean distance to African haplotypes')\n",
    "            ax2.set_xlabel('')\n",
    "            ax2.set_title('Without windows where an African is also swept')\n",
    "            for item in g2.get_xticklabels():\n",
    "                item.set_rotation(90)\n",
    "                \n",
    "                \n",
    "            ax2.get_legend().set_title('Is swept')\n",
    "            handles, labels = ax2.get_legend_handles_labels()\n",
    "\n",
    "            ax2.legend(handles, ['Not swept', 'Swept'],\n",
    "                     bbox_to_anchor=(1.05, 1), loc=2, borderaxespad=0.\n",
    "                     # bbox_to_anchor=(1., 1.0),  loc='upper left',\n",
    "                     # bbox_to_anchor=(0., 1.02, 1., .102), loc='upper center', ncol=2\n",
    "                    )    \n",
    "                \n",
    "            plt.tight_layout()\n",
    "            \n",
    "            plt.savefig(str(figures_dir / f'dist_to_afr_by_region_af_{ech_calling_tag}.pdf' ))\n",
    "            plt.savefig(str(figures_dir / f'dist_to_afr_by_region_af_{ech_calling_tag}.png' ))"
   ]
  },
  {
   "cell_type": "markdown",
   "metadata": {},
   "source": [
    "# Rest of notebook is not run any more. Lots of it is based on deprecated Basemap"
   ]
  },
  {
   "cell_type": "raw",
   "metadata": {},
   "source": [
    "## Maps of Africa with different sized dots for each population\n",
    "\n",
    "\n",
    "**Note that swept windows share a distance to Africa. Take that into account somehow not to falsely inflate power**\n",
    "\n",
    "Only windows that are `swept` or `surely_not_swept` the plotting data frame:\n",
    "\n",
    "\n",
    "**Try this too:**\n",
    "- Partion using the subset approach. Hope to see the same pattern.\n",
    "- For the subset approach also plot dist to the afr indiv that each non-afr is closest to. Would be nice to see that swept and non-swept.\n",
    "\n",
    "Since Africa is not panmictic it is not possible to get relative OaA datas by normalizing with mean population Ne.\n",
    "All I can do is show that swept and non-swept come from different places and/or show different divergence."
   ]
  },
  {
   "cell_type": "raw",
   "metadata": {},
   "source": [
    "Load population center locations:"
   ]
  },
  {
   "cell_type": "raw",
   "metadata": {},
   "source": [
    "pop_locations = pickle.load(open(str(results_dir / 'pop_locations.pkl'), 'rb'))"
   ]
  },
  {
   "cell_type": "raw",
   "metadata": {},
   "source": [
    "Extract pair or pairs for each window, where difference is minimal:"
   ]
  },
  {
   "cell_type": "raw",
   "metadata": {},
   "source": [
    "#df = pwdiff_store.select('df', '(region_label_1 != \"Africa\") & (region_label_2 == \"Africa\")')"
   ]
  },
  {
   "cell_type": "raw",
   "metadata": {},
   "source": [
    "def only_min_dist_rows(df):\n",
    "    with warnings.catch_warnings():\n",
    "        warnings.simplefilter(\"ignore\")\n",
    "        min_dist = numpy.nanmin(df.dist)\n",
    "    return (df\n",
    "            .loc[df.dist == min_dist, ['pop_2']] # rows where min_dist is nan are not included\n",
    "            .drop_duplicates()\n",
    "            .assign(pop_2_contrib = lambda x: len(x) and 1 / x.pop_2.unique().size or 0)\n",
    "            # maybe add:\n",
    "            # .assign(min_dist_to_afr = min_dist)\n",
    "           )\n",
    "\n",
    "df = (nonafr_afr_subset\n",
    "      .groupby(['indiv_1', 'start'])\n",
    "      .apply(only_min_dist_rows)\n",
    "      .reset_index(level=['indiv_1', 'start'])\n",
    "     )"
   ]
  },
  {
   "cell_type": "raw",
   "metadata": {},
   "source": [
    "merged_min_dist_data =  (df.merge(sweep_data[['indiv_1', 'start', \n",
    "                                      'swept', 'swept_af', \n",
    "                                      'never_win_swept', 'never_win_swept_af',\n",
    "                                      'conserv_swept_group', 'conserv_swept_group_af',\n",
    "                                      'run_length']],\n",
    "                          on=['indiv_1', 'start'],\n",
    "                          how='left')\n",
    "                   .loc[lambda df: (df.never_win_swept == False) & (df.conserv_swept_group != 'ambig')]\n",
    "                  )"
   ]
  },
  {
   "cell_type": "raw",
   "metadata": {},
   "source": [
    "Function for plotting the maps:"
   ]
  },
  {
   "cell_type": "raw",
   "metadata": {},
   "source": [
    "def plot_map(areas, longs, lats, names, colors, ax):\n",
    "    m = Basemap(projection='mill',\n",
    "                urcrnrlon=60, \n",
    "                urcrnrlat=40,\n",
    "                llcrnrlon=-20,\n",
    "                llcrnrlat=-40,\n",
    "                resolution='c', # 'c' is crude, l is low, i is intermediate, h is high, f is full\n",
    "                suppress_ticks=True, ax=ax)\n",
    "    m.fillcontinents(color='lightgrey',lake_color='white', zorder=0)\n",
    "    m.drawcountries(linewidth=0.2, linestyle='solid', color='black', zorder=1)\n",
    "\n",
    "    x, y = zip(*[m(lat, long) for lat, long in zip(lats, longs)])\n",
    "    \n",
    "    scatter = m.scatter(x, y, s=areas, alpha=0.5, c=colors)\n",
    "#     scatter = m.scatter(x, y, s=areas, alpha=0.5, c='#377eb8')\n",
    "    m.scatter(x, y, s=10, c='black')\n",
    "    \n",
    "    for i, n in enumerate(names):\n",
    "        ax.annotate(str(i+1), (x[i], y[i]))\n",
    "    print(*[\"{}: {}\".format(i+1, n) for i, n in enumerate(names)], sep=', ')\n",
    "    \n",
    "    return scatter\n",
    "\n",
    "\n",
    "def draw_constrasting_maps(pop_2_contributions):\n",
    "#     plt.close()\n",
    "\n",
    "    fig, (ax1, ax2) = plt.subplots(1, 2, figsize=(8, 5))\n",
    "\n",
    "    swept_subset = pop_2_contributions.loc[pop_2_contributions.swept]\n",
    "    not_swept_subset = pop_2_contributions.loc[~pop_2_contributions.swept]\n",
    "\n",
    "    \n",
    "    scale = 100 / not_swept_subset.pop_2_contrib.sum() # for appropriate marker size\n",
    "    names = list(not_swept_subset.pop_2)\n",
    "\n",
    "    areas = numpy.pi * (scale * not_swept_subset.pop_2_contrib )**2\n",
    "#     areas = [scale * math.sqrt(x/numpy.pi) for x in not_swept_subset.pop_2_contrib]\n",
    "\n",
    "    coords = [pop_locations[n] for n in  not_swept_subset.pop_2]\n",
    "    longs, lats = zip(*coords)\n",
    "\n",
    "    #ax1.set_title('Not swept')\n",
    "    ax1.set_xlabel('Not swept')\n",
    "    scatter1 = plot_map(areas, longs, lats, names, set1['blue'], ax1)\n",
    "\n",
    "    tooltip1 = mpld3.plugins.PointLabelTooltip(scatter1, labels=names)\n",
    "    mpld3.plugins.connect(fig, tooltip1)\n",
    "        \n",
    "    \n",
    "    scale = 100 / swept_subset.pop_2_contrib.sum()\n",
    "    names = list(swept_subset.pop_2)\n",
    "\n",
    "    areas = numpy.pi * (scale * swept_subset.pop_2_contrib )**2\n",
    "#     areas = [scale * math.sqrt(x/numpy.pi) for x in swept_subset.pop_2_contrib]\n",
    "\n",
    "    coords = [pop_locations[n] for n in  swept_subset.pop_2]\n",
    "    longs, lats = zip(*coords)\n",
    "\n",
    "    #ax2.set_title('Swept')\n",
    "    ax2.set_xlabel('Swept')\n",
    "    scatter2 = plot_map(areas, longs, lats, names,  set1['blue'], ax2)\n",
    "\n",
    "    tooltip2 = mpld3.plugins.PointLabelTooltip(scatter2, labels=names)\n",
    "    mpld3.plugins.connect(fig, tooltip2)\n",
    "    \n",
    "    plt.tight_layout()\n",
    "\n",
    "    return fig"
   ]
  },
  {
   "cell_type": "raw",
   "metadata": {},
   "source": [
    "### Only windows that are swept in at least some individuals"
   ]
  },
  {
   "cell_type": "raw",
   "metadata": {},
   "source": [
    "def pop_contrib(df):\n",
    "    pop_contr = (df\n",
    "#                        .groupby(['start'])\n",
    "#                        .filter(lambda df: df.swept.sum() > 0)                        \n",
    "                       .loc[lambda df: (df.never_win_swept == False) & (df.conserv_swept_group != 'ambig'),\n",
    "                           ['pop_2', 'swept', 'pop_2_contrib']]\n",
    "#                       .loc[:, ['pop_2', 'swept', 'pop_2_contrib']]\n",
    "                       .groupby(['pop_2', 'swept'])\n",
    "                       .sum()\n",
    "                       .reset_index()\n",
    "                      )  \n",
    "    pop_contr.set_index('swept', inplace=True)\n",
    "    pop_contr['total'] = pop_contr.groupby(['swept'])['pop_2_contrib'].sum()\n",
    "    pop_contr.reset_index(inplace=True)\n",
    "    pop_contr['pop_2_contrib_fract'] = pop_contr.pop_2_contrib / pop_contr.total\n",
    "    return pop_contr\n",
    "\n",
    "pop_2_contributions = pop_contrib(merged_min_dist_data)\n",
    "\n",
    "#pop_2_contributions.head()"
   ]
  },
  {
   "cell_type": "raw",
   "metadata": {},
   "source": [
    "pop_2_contributions.pivot(index='pop_2', columns='swept', values='pop_2_contrib')"
   ]
  },
  {
   "cell_type": "raw",
   "metadata": {},
   "source": [
    "fig = draw_constrasting_maps(pop_2_contributions)\n",
    "plt.suptitle('1: BantuHerero, 2: BantuKenya, 3: BantuTswana, 4: Biaka, 5: Dinka, 6: Esan,\\n7: Gambian, 8: Ju_hoan_North, 9: Luhya, 10: Luo, 11: Mandenka, 12: Mbuti, 13: Mende, 14: Yoruba')\n",
    "plt.tight_layout()\n",
    "plt.savefig(str(figures_dir / 'afr_map_pair.pdf'))"
   ]
  },
  {
   "cell_type": "raw",
   "metadata": {},
   "source": [
    "#mpld3.display(fig)"
   ]
  },
  {
   "cell_type": "raw",
   "metadata": {},
   "source": [
    "# blocked jackknife\n",
    "merged_min_dist_data['block_label'] = merged_min_dist_data.start // 5e5\n",
    "pseudo_list = list()\n",
    "                      \n",
    "block_labels = merged_min_dist_data.block_label.unique()\n",
    "                      \n",
    "for block_label in block_labels:\n",
    "    one_left_out = merged_min_dist_data.loc[lambda df: df.block_label != block_label]\n",
    "    \n",
    "    df = pop_contrib(one_left_out)\n",
    "        \n",
    "    df.pop_2_contrib_fract = len(block_labels) * pop_2_contributions.pop_2_contrib_fract \\\n",
    "                      - (len(block_labels) - 1) * df.pop_2_contrib_fract\n",
    "\n",
    "    df = df.drop(['total', 'pop_2_contrib'], axis=1)\n",
    "     \n",
    "    pseudo_list.append(df)\n",
    "\n",
    "import scipy\n",
    "\n",
    "def conf_int(sr):\n",
    "    return scipy.stats.t.ppf(0.975, len(block_labels)-1) * numpy.sqrt(sr.var() / sr.size)\n",
    "\n",
    "df = (pandas.concat(pseudo_list)\n",
    "      .groupby(['pop_2', 'swept'])\n",
    "      .aggregate(conf_int)\n",
    "      .rename(columns={'pop_2_contrib_fract': 'ci'})\n",
    "      .reset_index()\n",
    "     )\n",
    "\n",
    "#df.head()\n",
    "\n",
    "plot_df = pop_2_contributions.merge(df, on=['pop_2', 'swept'], how='left')\n",
    "plot_df.head()"
   ]
  },
  {
   "cell_type": "raw",
   "metadata": {},
   "source": [
    "with sns.color_palette([set1['blue'], set1['red']]):\n",
    "    with sns.plotting_context('paper'):\n",
    "        with sns.axes_style('whitegrid'):\n",
    "            fig, ax = plt.subplots(1, 1, figsize=(8, 5))\n",
    "\n",
    "            g = sns.barplot(x='pop_2_contrib_fract', y='pop_2', \n",
    "                            hue='swept', ci='ci', data=plot_df, ax=ax)\n",
    "            \n",
    "            ci_list = list(plot_df.ci[0:][::2]) + list(plot_df.ci[1:][::2])\n",
    "#            print(ci_list)\n",
    "            for p, ci in zip(g.patches, ci_list):                \n",
    "                h = p.get_height()\n",
    "                x, y = p.get_width(), p.get_y()\n",
    "#                print(x, y)\n",
    "#                 ci = plot_df.loc[lambda df: df.pop_2_contrib_fract == x].ci\n",
    "# #                ci = plot_df.loc[lambda df: numpy.isclose(df.pop_2_contrib_fract, x, atol=0.01)].ci\n",
    "#                 assert len(ci) == 1, (ci, x)\n",
    "#                 ci = ci[0]\n",
    "                g.add_line(Line2D([x-ci, x+ci], [y+h/2, y+h/2], color='black'))\n",
    "            g.set_xlim(0, 0.35)"
   ]
  },
  {
   "cell_type": "raw",
   "metadata": {},
   "source": [
    "with sns.color_palette([set1['blue'], set1['red']]):\n",
    "    with sns.plotting_context('paper'):\n",
    "        with sns.axes_style('whitegrid'):\n",
    "            g = sns.barplot(x='pop_2_contrib_fract', y='pop_2', hue='swept', data=pop_2_contributions)"
   ]
  },
  {
   "cell_type": "raw",
   "metadata": {
    "jupyter": {
     "outputs_hidden": true
    }
   },
   "source": [
    "# bootstrap <- function(x, n, f, ...) replicate(n, f(sample(x, replace=TRUE), ...))\n",
    "# bootstrap_lower <- function(x, n, f, ...) f(x, ...) - qt(0.975,n-1) * sd(bootstrap(x, n, f, ...))\n",
    "# bootstrap_upper <- function(x, n, f, ...) f(x, ...) + qt(0.975,n-1) * sd(bootstrap(x, n, f, ...))\n",
    "\n",
    "# jackknife_moving_block <- function(x, m, f, ...) {\n",
    "#   n = length(x)\n",
    "#   pseudo <- numeric(n-m+1)\n",
    "#   for (i in 1:(n-m+1)) {\n",
    "#     pseudo[i] <- (n * f(x, ...) - (n-m) * f(x[-(i:(i+m-1))], ...)) / m\n",
    "#     }\n",
    "#   return(pseudo)\n",
    "# }\n",
    "# moving_jackknife_upper <- function(x, m, f, ...) {\n",
    "#   pseudo <- jackknife_moving_block(x, m, f, ...)\n",
    "#   n <- length(x)\n",
    "#   b = n %/% m\n",
    "#   est_var <- var(pseudo) / b\n",
    "#   return(mean(pseudo) + qt(0.975,b-1) * sqrt(est_var))\n",
    "# }\n",
    "# moving_jackknife_lower <- function(x, m, f, ...) {\n",
    "#   pseudo <- jackknife_moving_block(x, m, f, ...)\n",
    "#   n <- length(x)\n",
    "#   b = n %/% m\n",
    "#   est_var <- var(pseudo) / b\n",
    "#   return(mean(pseudo) - qt(0.975,b-1) * sqrt(est_var))\n",
    "# }\n",
    "\n",
    "# jackknife <- function(x, m, f, ...) {\n",
    "#   n = length(x)\n",
    "#   b = n %/% m # blocks\n",
    "#   pseudo <- numeric(b)\n",
    "#   for (i in 1:b) {\n",
    "#     s <- (i-1)*m+1\n",
    "#     e <- i*m\n",
    "#     pseudo[i] <- b * f(x, ...) - (b-1) * f(x[-(s:e)], ...)\n",
    "# }\n",
    "#   return(pseudo)\n",
    "# }\n",
    "# jackknife_upper <- function(x, m, f, ...) {\n",
    "#   pseudo <- jackknife(x, m, f, ...)\n",
    "#   n <- length(x)\n",
    "#   b = n %/% m\n",
    "#   est_var <- var(pseudo) / b\n",
    "#   return(mean(pseudo) + qt(0.975,b-1) * sqrt(est_var))\n",
    "# }\n",
    "# jackknife_lower <- function(x, m, f, ...) {\n",
    "#   pseudo <- jackknife(x, m, f, ...)\n",
    "#   n <- length(x)\n",
    "#   b = n %/% m\n",
    "#   est_var <- var(pseudo) / b\n",
    "#   return(mean(pseudo) - qt(0.975,b-1) * sqrt(est_var))\n",
    "# }\n",
    "\n",
    "# vanilla_jackknife <- function(x, f, ...) {\n",
    "#   n <- length(x)\n",
    "#   pseudo <- numeric(n)\n",
    "#   for (i in 1:n) {\n",
    "#     pseudo[i] <- n * f(x, ...) - (n-1) * f(x[-i], ...)\n",
    "#   }\n",
    "#   return(pseudo)\n",
    "#   }\n",
    "# vanilla_jackknife_upper <- function(x, f, ...) {\n",
    "#   pseudo <- vanilla_jackknife(x, f, ...)\n",
    "#   return(mean(pseudo) + qt(0.975,length(x)-1)*sqrt(var(pseudo)/length(x)))\n",
    "# }\n",
    "# vanilla_jackknife_lower <- function(x, f, ...) {\n",
    "#   pseudo <- vanilla_jackknife(x, f, ...)\n",
    "#   return(mean(pseudo) - qt(0.975,length(x)-1)*sqrt(var(pseudo)/length(x)))\n",
    "# }"
   ]
  },
  {
   "cell_type": "raw",
   "metadata": {},
   "source": [
    "## Plot difference between window subsets for better visualization"
   ]
  },
  {
   "cell_type": "raw",
   "metadata": {},
   "source": [
    "swept_subset = pop_2_contributions.loc[pop_2_contributions.swept == True]\n",
    "not_swept_subset = pop_2_contributions.loc[pop_2_contributions.swept == False]\n",
    "\n",
    "df = swept_subset.set_index('pop_2').pop_2_contrib / swept_subset.pop_2_contrib.sum() \\\n",
    "    - not_swept_subset.set_index('pop_2').pop_2_contrib / not_swept_subset.pop_2_contrib.sum()\n",
    "df = df.reset_index()\n",
    "df"
   ]
  },
  {
   "cell_type": "raw",
   "metadata": {},
   "source": [
    "fig, ax = plt.subplots(1, 1, figsize=(6, 6))\n",
    "\n",
    "scale = 2000\n",
    "names = list(not_swept_subset.pop_2)\n",
    "\n",
    "#areas = numpy.sign(df.pop_2_contrib) * numpy.pi * (scale * df.pop_2_contrib )**2\n",
    "areas = numpy.sign(df.pop_2_contrib) * [scale * math.sqrt(abs(x/numpy.pi)) for x in df.pop_2_contrib]\n",
    "\n",
    "coords = [pop_locations[n] for n in  not_swept_subset.pop_2]\n",
    "longs, lats = zip(*coords)\n",
    "\n",
    "colors = [x > 0 and set1['blue'] or set1['red'] for x in areas]\n",
    "areas = numpy.absolute(areas)\n",
    "\n",
    "scatter = plot_map(areas, longs, lats, names, colors, ax)\n",
    "\n",
    "tooltip = mpld3.plugins.PointLabelTooltip(scatter, labels=names)\n",
    "mpld3.plugins.connect(fig, tooltip)\n",
    "\n",
    "plt.tight_layout()\n",
    "\n",
    "ax.set_title('Swept - not swept')\n",
    "\n",
    "plt.show()\n",
    "#mpld3.display(fig) "
   ]
  },
  {
   "cell_type": "raw",
   "metadata": {},
   "source": [
    "import numpy as np\n",
    "import matplotlib.pyplot as plt\n",
    "import math\n",
    "\n",
    "#data\n",
    "x = [1, 2, 2]\n",
    "y = [3, 2.5, 3]\n",
    "ysize = [7000, 3500, 3500]\n",
    "    \n",
    "ysize = [math.sqrt(x/numpy.pi) for x in ysize]\n",
    "    \n",
    "# * (scale * swept_subset.pop_2_contrib )**2\n",
    "    \n",
    "for i in range (0, len(x)):\n",
    "    plt.plot(x[i], y[i], linestyle=\"None\", marker=\"o\", markersize=ysize[i], color=\"red\")\n",
    "    \n",
    "plt.plot(x, y, linestyle=\"dotted\", color=\"red\")\n",
    "\n",
    "\n",
    "plt.xlim(np.min(x)-1.3, np.max(x)+1.3) #optional \n",
    "plt.ylim(np.min(y)-1.3, np.max(y)+1.3) #optional \n",
    "\n",
    "plt.xlabel(\"random y\")\n",
    "plt.ylabel(\"random x\")\n",
    "\n",
    "plt.show()"
   ]
  },
  {
   "cell_type": "raw",
   "metadata": {},
   "source": [
    "## Which peaks include Africans?"
   ]
  },
  {
   "cell_type": "raw",
   "metadata": {},
   "source": [
    "sweep_peaks = pandas.read_hdf(results_dir / 'sweep_peaks.hdf')\n",
    "sweep_peaks.head()"
   ]
  },
  {
   "cell_type": "raw",
   "metadata": {},
   "source": [
    "records = list()\n",
    "for tup in sweep_peaks.itertuples():\n",
    "    afr_indivs = sweep_data.loc[lambda df: (df.start >= tup.start) & (df.end <= tup.end) & \\\n",
    "                      (df.swept == True) & (df.region_1 == 'Africa'), 'indiv_1'].unique()\n",
    "    records.append((tup.start, tup.end, afr_indivs))\n",
    "df = (sweep_peaks\n",
    "      .merge(DataFrame()\n",
    "             .from_records(records, columns=['start', 'end', 'arf_indivs']),\n",
    "                  on=['start', 'end'],\n",
    "                  how='left')\n",
    "      .sort_values(by=['prop_swept'], ascending=False)\n",
    "     )\n"
   ]
  },
  {
   "cell_type": "raw",
   "metadata": {},
   "source": [
    "argweaver_tmrca_100kb = pandas.read_hdf(results_dir / 'argweaver_tmrca_100kb.hdf')"
   ]
  },
  {
   "cell_type": "raw",
   "metadata": {},
   "source": [
    "def argweaver_gen_to_years(sr):\n",
    "    return sr * 25 * 1.5e-8/1.8e-8\n",
    "\n",
    "argweaver_tmrca_100kb_years = (argweaver_tmrca_100kb\n",
    "#                                .groupby(['peak_pos', 'chain', 'file_start', 'file_end'])[['sweep_tmrca', 'tmrca']]\n",
    "                               .groupby(['peak_pos'])[['sweep_tmrca', 'tmrca']]\n",
    "                               .mean()\n",
    "                               .transform(argweaver_gen_to_years)\n",
    "                               .reset_index()\n",
    "                              )\n",
    "argweaver_tmrca_100kb_years.head()"
   ]
  },
  {
   "cell_type": "raw",
   "metadata": {},
   "source": [
    "df.merge(argweaver_tmrca_100kb_years, \n",
    "         left_on=['pos'], \n",
    "         right_on=['peak_pos'], how='left')[['peak_pos', 'prop_swept', 'arf_indivs', 'sweep_tmrca', 'tmrca']]"
   ]
  },
  {
   "cell_type": "raw",
   "metadata": {},
   "source": []
  }
 ],
 "metadata": {
  "anaconda-cloud": {},
  "kernelspec": {
   "display_name": "Python 3",
   "language": "python",
   "name": "python3"
  },
  "language_info": {
   "codemirror_mode": {
    "name": "ipython",
    "version": 3
   },
   "file_extension": ".py",
   "mimetype": "text/x-python",
   "name": "python",
   "nbconvert_exporter": "python",
   "pygments_lexer": "ipython3",
   "version": "3.6.9"
  }
 },
 "nbformat": 4,
 "nbformat_minor": 4
}
