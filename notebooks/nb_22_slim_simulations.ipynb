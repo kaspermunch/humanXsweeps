{
 "cells": [
  {
   "cell_type": "markdown",
   "metadata": {},
   "source": [
    "\n",
    "# CEU Slim simulations\n",
    "\n"
   ]
  },
  {
   "cell_type": "markdown",
   "metadata": {},
   "source": [
    "Load global analysis variables:"
   ]
  },
  {
   "cell_type": "code",
   "execution_count": 1,
   "metadata": {},
   "outputs": [],
   "source": [
    "%run standard.py"
   ]
  },
  {
   "cell_type": "code",
   "execution_count": 2,
   "metadata": {},
   "outputs": [],
   "source": [
    "import re, os, sys, pickle, pickle, math\n",
    "from pathlib import Path\n",
    "import numpy as np\n",
    "import pandas as pd\n",
    "import scipy\n",
    "from pandas import DataFrame, Series\n",
    "from sklearn.decomposition import PCA\n",
    "\n",
    "# my own libaries\n",
    "# from ChromosomeWindows import window\n",
    "# import genominterv"
   ]
  },
  {
   "cell_type": "code",
   "execution_count": 3,
   "metadata": {},
   "outputs": [
    {
     "data": {
      "text/html": [
       "<style> table { font-variant-numeric: tabular-nums; } </style>\n"
      ],
      "text/plain": [
       "<IPython.core.display.HTML object>"
      ]
     },
     "metadata": {},
     "output_type": "display_data"
    }
   ],
   "source": [
    "%%html\n",
    "<style> table { font-variant-numeric: tabular-nums; } </style>"
   ]
  },
  {
   "cell_type": "markdown",
   "metadata": {},
   "source": [
    "Import variables global to the entire analysis:"
   ]
  },
  {
   "cell_type": "code",
   "execution_count": 4,
   "metadata": {},
   "outputs": [],
   "source": [
    "import analysis_globals as ag"
   ]
  },
  {
   "cell_type": "markdown",
   "metadata": {},
   "source": [
    "Local code in the scripts dir on the cluster:"
   ]
  },
  {
   "cell_type": "code",
   "execution_count": 5,
   "metadata": {},
   "outputs": [],
   "source": [
    "if str(ag.scripts_dir) not in sys.path:\n",
    "    sys.path.append(str(ag.scripts_dir))\n",
    "\n",
    "import simons_meta_data\n",
    "import hg19_chrom_sizes"
   ]
  },
  {
   "cell_type": "markdown",
   "metadata": {},
   "source": [
    "Plotting setup:"
   ]
  },
  {
   "cell_type": "code",
   "execution_count": 6,
   "metadata": {},
   "outputs": [],
   "source": [
    "%matplotlib inline\n",
    "\n",
    "# Make inline plots vector graphics instead of raster graphics\n",
    "from IPython.display import set_matplotlib_formats\n",
    "# set_matplotlib_formats('pdf', 'svg')\n",
    "set_matplotlib_formats('retina', 'png')\n",
    "\n",
    "import matplotlib\n",
    "import matplotlib.pyplot as plt\n",
    "from matplotlib.colors import ListedColormap\n",
    "from matplotlib.patches import Rectangle\n",
    "# from mpl_toolkits.basemap import Basemap\n",
    "#matplotlib.rcParams['figure.figsize'] = (20.0, 10.0)\n",
    "\n",
    "import mpld3\n",
    "\n",
    "import seaborn as sns\n",
    "sns.set() # seaborn niceness\n",
    "sns.set_style(\"ticks\")\n",
    "sns.set_context(\"notebook\")\n",
    "\n",
    "# lowess for plotting\n",
    "from statsmodels.nonparametric.smoothers_lowess import lowess\n",
    "\n",
    "def stairs(df, start='start', end='end', pos='pos', endtrim=0):\n",
    "    \"Turn a df with start, end into one with pos to plot as stairs\"\n",
    "    df1 = df.copy(deep=True)\n",
    "    df2 = df.copy(deep=True)\n",
    "    df1[pos] = df1[start]\n",
    "    df2[pos] = df2[end] - endtrim\n",
    "    return pd.concat([df1, df2]).sort_values([start, end])\n",
    "\n",
    "def abline(slope, intercept, ax=None):\n",
    "    \"Add a straight line through the plot\"\n",
    "    if ax is None:\n",
    "        ax = plt.gca()\n",
    "    x_vals = np.array(ax.get_xlim())\n",
    "    y_vals = intercept + slope * x_vals\n",
    "    ax.plot(x_vals, y_vals, '--', color='grey')"
   ]
  },
  {
   "cell_type": "markdown",
   "metadata": {},
   "source": [
    "Ignore warnings:"
   ]
  },
  {
   "cell_type": "code",
   "execution_count": 7,
   "metadata": {},
   "outputs": [],
   "source": [
    "# silence deprecation warnings (lots from seaborn)\n",
    "import warnings\n",
    "warnings.filterwarnings(\"ignore\", category=DeprecationWarning) \n",
    "warnings.filterwarnings(\"ignore\", category=np.VisibleDeprecationWarning)"
   ]
  },
  {
   "cell_type": "markdown",
   "metadata": {},
   "source": [
    "# Load meta data\n",
    "\n",
    "Easy loading of meta data in a consistent manner across code"
   ]
  },
  {
   "cell_type": "code",
   "execution_count": 8,
   "metadata": {},
   "outputs": [],
   "source": [
    "individuals, populations, regions = simons_meta_data.get_meta_data(meta_data_dir=ag.meta_data_dir)\n",
    "\n",
    "chromosome_lengths = dict((k.replace('chr', ''), v) for k, v in hg19_chrom_sizes.hg19_chrom_sizes.items())"
   ]
  },
  {
   "cell_type": "markdown",
   "metadata": {},
   "source": [
    "# Plot distributions of pi in 200kb windows as in Figure 1 of paper"
   ]
  },
  {
   "cell_type": "code",
   "execution_count": 9,
   "metadata": {},
   "outputs": [],
   "source": [
    "import glob\n",
    "\n",
    "df_list = []\n",
    "hdf_files = glob.glob('../steps/slim/simulations/standard/87/recmap/*/X/nosweep/0/0/*0_0_0_twice.hdf')\n",
    "for hdf_file in hdf_files:\n",
    "    pw_dist = (pd.read_hdf(hdf_file)\n",
    "                    .loc[lambda df: df.indiv_1 < df.indiv_2]\n",
    "                    .sort_values(['indiv_1', 'indiv_2', 'start', 'end'])\n",
    "                    )\n",
    "    pw_dist['bin'] = pw_dist.start // 200000\n",
    "    df = pw_dist.groupby(['indiv_1', 'indiv_2', 'bin']).dist.mean().to_frame()\n",
    "    df_list.append(df)\n",
    "sim_87_df = pd.concat(df_list)\n",
    "\n",
    "df_list = []\n",
    "hdf_files = glob.glob('../steps/slim/simulations/standard/68/recmap/*/X/nosweep/0/0/*0_0_0_twice.hdf')\n",
    "for hdf_file in hdf_files:\n",
    "    pw_dist = (pd.read_hdf(hdf_file)\n",
    "                    .loc[lambda df: df.indiv_1 < df.indiv_2]\n",
    "                    .sort_values(['indiv_1', 'indiv_2', 'start', 'end'])\n",
    "                    )\n",
    "    pw_dist['bin'] = pw_dist.start // 200000\n",
    "    df = pw_dist.groupby(['indiv_1', 'indiv_2', 'bin']).dist.mean().to_frame()\n",
    "    df_list.append(df)\n",
    "sim_68_df = pd.concat(df_list)"
   ]
  },
  {
   "cell_type": "code",
   "execution_count": 10,
   "metadata": {},
   "outputs": [],
   "source": [
    "pw_dist = (pd.read_hdf('../steps/1000genomes/male_dist_admix_masked_stores/X/CEU/male_dist_data_chrX_100kb_CEU.hdf')\n",
    "                    .sort_values(['indiv_1', 'indiv_2', 'start', 'end'])\n",
    "                    )\n",
    "pw_dist['bin'] = pw_dist.start // 200000\n",
    "ceu_df = pw_dist.groupby(['indiv_1', 'indiv_2', 'bin']).dist.mean().to_frame()"
   ]
  },
  {
   "cell_type": "code",
   "execution_count": 11,
   "metadata": {},
   "outputs": [
    {
     "data": {
      "image/png": "[encoded data removed]",
      "text/plain": [
       "<Figure size 720x216 with 3 Axes>"
      ]
     },
     "metadata": {
      "image/png": {
       "height": 225,
       "width": 621
      }
     },
     "output_type": "display_data"
    }
   ],
   "source": [
    "fig, axes = plt.subplots(1, 3, figsize=(10,3), sharey=True)\n",
    "axes[0].hist(sim_87_df.loc[sim_87_df.dist < 0.0025, 'dist'], bins=30, density=True) ;\n",
    "axes[0].set_title('Simulated\\nX/autosome ratio 0.65')\n",
    "axes[0].set_ylabel('Density')\n",
    "axes[1].hist(sim_68_df.loc[sim_68_df.dist < 0.0025, 'dist'], bins=30, density=True) ;\n",
    "axes[1].set_title('Simulated\\nX/autosome ratio 0.51')\n",
    "axes[2].hist(ceu_df.loc[ceu_df.dist < 0.0025, 'dist'], bins=30, density=True) ;\n",
    "axes[2].set_title('Observed\\nCEU population');\n",
    "sns.despine()\n",
    "#plt.xlim(right=0.0025)"
   ]
  },
  {
   "cell_type": "code",
   "execution_count": 12,
   "metadata": {},
   "outputs": [
    {
     "data": {
      "image/png": "[encoded data removed]",
      "text/plain": [
       "<Figure size 864x216 with 2 Axes>"
      ]
     },
     "metadata": {
      "image/png": {
       "height": 196,
       "width": 721
      }
     },
     "output_type": "display_data"
    }
   ],
   "source": [
    "fig, axes = plt.subplots(1, 2, figsize=(12,3), sharey=True)\n",
    "axes[0].hist(sim_68_df.loc[sim_68_df.dist < 0.0025, 'dist'], bins=30, density=True, color='#008A97') ;\n",
    "# axes[0].set_title('Simulated\\nX/autosome ratio 0.51')\n",
    "axes[1].hist(ceu_df.loc[ceu_df.dist < 0.0025, 'dist'], bins=30, density=True, color='#008A97') ;\n",
    "# axes[1].set_title('Observed\\nCEU population');\n",
    "sns.despine()\n",
    "plt.savefig('../figures/sim_vs_obs_ceu_pwdiff_dist.pdf', bbox_inches='tight')\n",
    "plt.savefig('../figures/sim_vs_obs_ceu_pwdiff_dist.png')\n",
    "#plt.xlim(right=0.0025)"
   ]
  },
  {
   "cell_type": "code",
   "execution_count": 13,
   "metadata": {},
   "outputs": [
    {
     "ename": "NameError",
     "evalue": "name 'plot_df' is not defined",
     "output_type": "error",
     "traceback": [
      "\u001b[0;31m---------------------------------------------------------------------------\u001b[0m",
      "\u001b[0;31mNameError\u001b[0m                                 Traceback (most recent call last)",
      "\u001b[0;32m<ipython-input-13-3de51966d15c>\u001b[0m in \u001b[0;36m<module>\u001b[0;34m\u001b[0m\n\u001b[1;32m      4\u001b[0m     \u001b[0;32mwith\u001b[0m \u001b[0msns\u001b[0m\u001b[0;34m.\u001b[0m\u001b[0mplotting_context\u001b[0m\u001b[0;34m(\u001b[0m\u001b[0;34m'paper'\u001b[0m\u001b[0;34m)\u001b[0m\u001b[0;34m:\u001b[0m\u001b[0;34m\u001b[0m\u001b[0;34m\u001b[0m\u001b[0m\n\u001b[1;32m      5\u001b[0m         \u001b[0;32mwith\u001b[0m \u001b[0msns\u001b[0m\u001b[0;34m.\u001b[0m\u001b[0maxes_style\u001b[0m\u001b[0;34m(\u001b[0m\u001b[0;34m'ticks'\u001b[0m\u001b[0;34m)\u001b[0m\u001b[0;34m:\u001b[0m\u001b[0;34m\u001b[0m\u001b[0;34m\u001b[0m\u001b[0m\n\u001b[0;32m----> 6\u001b[0;31m             g = sns.FacetGrid(plot_df, col=\"chrom\", row='continent', hue='continent', row_order=['non-Africans', 'Africans'],\n\u001b[0m\u001b[1;32m      7\u001b[0m                               height=2, aspect=1.3, sharey=True, sharex=True, margin_titles=True)\n\u001b[1;32m      8\u001b[0m             g = g.map(plt.hist, 'pi', density=True, bins=30, \n",
      "\u001b[0;31mNameError\u001b[0m: name 'plot_df' is not defined"
     ]
    }
   ],
   "source": [
    "color = '#008A97'\n",
    "\n",
    "with sns.color_palette(['#7F7D71', '#008A97']):\n",
    "    with sns.plotting_context('paper'):\n",
    "        with sns.axes_style('ticks'):\n",
    "            g = sns.FacetGrid(plot_df, col=\"chrom\", row='continent', hue='continent', row_order=['non-Africans', 'Africans'],\n",
    "                              height=2, aspect=1.3, sharey=True, sharex=True, margin_titles=True)\n",
    "            g = g.map(plt.hist, 'pi', density=True, bins=30, \n",
    "                     # color=color\n",
    "                     )\n",
    "            for ax in g.axes.flat:\n",
    "                plt.setp(ax.texts, text=\"\") # remove the original texts, important to do this before setting titles\n",
    "            g.set_titles(row_template = '{row_name}', col_template = 'chr{col_name}')\n",
    "\n",
    "            g.set_axis_labels(\"Pi\", \"Density\")\n",
    "\n",
    "            for ax in g.axes.flat:\n",
    "    #            ax.set_xlabel('Pi') # need to set labels manually because the names of facet function are start and end.\n",
    "    #            ax.set_ylabel('Density')\n",
    "                plt.setp(ax.texts, rotation=\"0\") # remove the original texts, important to do this before setting titles\n",
    "\n",
    "    #         for i, ax in enumerate(g.axes.flat):\n",
    "    #             for c in ax.collections:\n",
    "    #                 print(c)\n",
    "    #                 c.set_color('red')\n",
    "\n",
    "    plt.tight_layout()\n",
    "    plt.savefig(str(figures_dir / \"pi_hist_by_chrom_and_afr_nonafr.pdf\"))"
   ]
  },
  {
   "cell_type": "markdown",
   "metadata": {},
   "source": [
    "# ECHs in Autosome SLiM simulations\n",
    "\n",
    "What is analyzed below is are sims using the Tennessen CEU deomography only adjusted to fit the mutation arte and generation time I use"
   ]
  },
  {
   "cell_type": "markdown",
   "metadata": {},
   "source": [
    "## ECH peaks for autosomes constant rec rate\n",
    "\n",
    "Load neutral ECH summary for autosomes:"
   ]
  },
  {
   "cell_type": "code",
   "execution_count": null,
   "metadata": {},
   "outputs": [],
   "source": [
    "prop_swept_data_auto = pd.read_hdf(str(ag.steps_dir / 'slim' / f'slim_summary.hdf')).loc[lambda df: df.chrom == 'A']\n",
    "prop_swept_data_auto['prop_swept'] = prop_swept_data_auto.nr_swept / prop_swept_data_auto.total\n",
    "prop_swept_data_auto['x_auto_ratio'] = prop_swept_data_auto['size_reduction'] * 3 / 4\n",
    "prop_swept_data_auto.head()"
   ]
  },
  {
   "cell_type": "markdown",
   "metadata": {},
   "source": [
    "Facet plotting function:"
   ]
  },
  {
   "cell_type": "code",
   "execution_count": null,
   "metadata": {},
   "outputs": [],
   "source": [
    "def facet_plot(start, end, prop_swept, **kwargs):\n",
    "    df = pd.DataFrame(dict(start=start, end=end, prop_swept=prop_swept))\n",
    "    df = df.sort_values(['start', 'end'])\n",
    "    start = df.start\n",
    "    end = df.end\n",
    "    prop_swept = df.prop_swept\n",
    "    x = [j for i in zip(start, end) for j in i]\n",
    "    y = [j for i in zip(prop_swept, prop_swept) for j in i]\n",
    "    plt.plot(x, y, color='black', linewidth=0.2)\n",
    "    plt.ylim((0, 1.1))\n",
    "    plt.fill_between(x, 0, y, color='black', alpha=0.01)\n",
    "    plt.axhline(y=0.50, linestyle='dashed')"
   ]
  },
  {
   "cell_type": "code",
   "execution_count": null,
   "metadata": {},
   "outputs": [],
   "source": [
    "plot_df = prop_swept_data_auto.loc[(prop_swept_data_auto.sweep_type == 'nosweep') & \\\n",
    "                                   (prop_swept_data_auto.demography == 'standard')]\n",
    "\n",
    "with sns.axes_style('whitegrid'):\n",
    "    g = sns.FacetGrid(plot_df, col='rec_val', row='x_auto_ratio', \n",
    "                      hue='replication', sharex=True, sharey=True, margin_titles=True,\n",
    "                     height=2, aspect=3)\n",
    "    g.map(facet_plot, 'start', 'end', 'prop_swept')\n",
    "\n",
    "    for ax in g.axes.flat:\n",
    "        plt.setp(ax.texts, text=\"\") # remove the original texts, important to do this before setting titles\n",
    "    g.set_titles(row_template = '{row_name}', col_template = '{col_name}')\n",
    "\n",
    "    for ax in g.axes.flat:\n",
    "        ax.set_xlabel('position') # need to set labels manually because the names of facet function are start and end.\n",
    "        ax.set_ylabel('prop ECH')\n",
    "        plt.setp(ax.texts, rotation=\"0\") # remove the original texts, important to do this before setting titles"
   ]
  },
  {
   "cell_type": "markdown",
   "metadata": {},
   "source": [
    "## ECH in X SLiM simulations with recombination map"
   ]
  },
  {
   "cell_type": "code",
   "execution_count": 14,
   "metadata": {},
   "outputs": [
    {
     "data": {
      "text/html": [
       "<div>\n",
       "<style scoped>\n",
       "    .dataframe tbody tr th:only-of-type {\n",
       "        vertical-align: middle;\n",
       "    }\n",
       "\n",
       "    .dataframe tbody tr th {\n",
       "        vertical-align: top;\n",
       "    }\n",
       "\n",
       "    .dataframe thead th {\n",
       "        text-align: right;\n",
       "    }\n",
       "</style>\n",
       "<table border=\"1\" class=\"dataframe\">\n",
       "  <thead>\n",
       "    <tr style=\"text-align: right;\">\n",
       "      <th></th>\n",
       "      <th>start</th>\n",
       "      <th>end</th>\n",
       "      <th>nr_swept</th>\n",
       "      <th>total</th>\n",
       "      <th>demography</th>\n",
       "      <th>chrom</th>\n",
       "      <th>size_reduction</th>\n",
       "      <th>rec_mode</th>\n",
       "      <th>rec_val</th>\n",
       "      <th>sweep_start</th>\n",
       "      <th>sweep_type</th>\n",
       "      <th>selcoef</th>\n",
       "      <th>replication</th>\n",
       "      <th>min_clade_percent</th>\n",
       "      <th>prop_swept</th>\n",
       "      <th>x_auto_ratio</th>\n",
       "    </tr>\n",
       "  </thead>\n",
       "  <tbody>\n",
       "    <tr>\n",
       "      <th>0</th>\n",
       "      <td>110000000.0</td>\n",
       "      <td>110100000.0</td>\n",
       "      <td>0</td>\n",
       "      <td>49</td>\n",
       "      <td>standard</td>\n",
       "      <td>X</td>\n",
       "      <td>0.68</td>\n",
       "      <td>recmap</td>\n",
       "      <td>11</td>\n",
       "      <td>0</td>\n",
       "      <td>nosweep</td>\n",
       "      <td>0.0</td>\n",
       "      <td>443</td>\n",
       "      <td>50</td>\n",
       "      <td>0.0</td>\n",
       "      <td>0.51</td>\n",
       "    </tr>\n",
       "    <tr>\n",
       "      <th>1</th>\n",
       "      <td>110100000.0</td>\n",
       "      <td>110200000.0</td>\n",
       "      <td>0</td>\n",
       "      <td>49</td>\n",
       "      <td>standard</td>\n",
       "      <td>X</td>\n",
       "      <td>0.68</td>\n",
       "      <td>recmap</td>\n",
       "      <td>11</td>\n",
       "      <td>0</td>\n",
       "      <td>nosweep</td>\n",
       "      <td>0.0</td>\n",
       "      <td>443</td>\n",
       "      <td>50</td>\n",
       "      <td>0.0</td>\n",
       "      <td>0.51</td>\n",
       "    </tr>\n",
       "    <tr>\n",
       "      <th>2</th>\n",
       "      <td>110200000.0</td>\n",
       "      <td>110300000.0</td>\n",
       "      <td>0</td>\n",
       "      <td>49</td>\n",
       "      <td>standard</td>\n",
       "      <td>X</td>\n",
       "      <td>0.68</td>\n",
       "      <td>recmap</td>\n",
       "      <td>11</td>\n",
       "      <td>0</td>\n",
       "      <td>nosweep</td>\n",
       "      <td>0.0</td>\n",
       "      <td>443</td>\n",
       "      <td>50</td>\n",
       "      <td>0.0</td>\n",
       "      <td>0.51</td>\n",
       "    </tr>\n",
       "    <tr>\n",
       "      <th>3</th>\n",
       "      <td>110300000.0</td>\n",
       "      <td>110400000.0</td>\n",
       "      <td>0</td>\n",
       "      <td>49</td>\n",
       "      <td>standard</td>\n",
       "      <td>X</td>\n",
       "      <td>0.68</td>\n",
       "      <td>recmap</td>\n",
       "      <td>11</td>\n",
       "      <td>0</td>\n",
       "      <td>nosweep</td>\n",
       "      <td>0.0</td>\n",
       "      <td>443</td>\n",
       "      <td>50</td>\n",
       "      <td>0.0</td>\n",
       "      <td>0.51</td>\n",
       "    </tr>\n",
       "    <tr>\n",
       "      <th>4</th>\n",
       "      <td>110400000.0</td>\n",
       "      <td>110500000.0</td>\n",
       "      <td>0</td>\n",
       "      <td>49</td>\n",
       "      <td>standard</td>\n",
       "      <td>X</td>\n",
       "      <td>0.68</td>\n",
       "      <td>recmap</td>\n",
       "      <td>11</td>\n",
       "      <td>0</td>\n",
       "      <td>nosweep</td>\n",
       "      <td>0.0</td>\n",
       "      <td>443</td>\n",
       "      <td>50</td>\n",
       "      <td>0.0</td>\n",
       "      <td>0.51</td>\n",
       "    </tr>\n",
       "  </tbody>\n",
       "</table>\n",
       "</div>"
      ],
      "text/plain": [
       "         start          end  nr_swept  total demography chrom  size_reduction  \\\n",
       "0  110000000.0  110100000.0         0     49   standard     X            0.68   \n",
       "1  110100000.0  110200000.0         0     49   standard     X            0.68   \n",
       "2  110200000.0  110300000.0         0     49   standard     X            0.68   \n",
       "3  110300000.0  110400000.0         0     49   standard     X            0.68   \n",
       "4  110400000.0  110500000.0         0     49   standard     X            0.68   \n",
       "\n",
       "  rec_mode  rec_val  sweep_start sweep_type  selcoef  replication  \\\n",
       "0   recmap       11            0    nosweep      0.0          443   \n",
       "1   recmap       11            0    nosweep      0.0          443   \n",
       "2   recmap       11            0    nosweep      0.0          443   \n",
       "3   recmap       11            0    nosweep      0.0          443   \n",
       "4   recmap       11            0    nosweep      0.0          443   \n",
       "\n",
       "   min_clade_percent  prop_swept  x_auto_ratio  \n",
       "0                 50         0.0          0.51  \n",
       "1                 50         0.0          0.51  \n",
       "2                 50         0.0          0.51  \n",
       "3                 50         0.0          0.51  \n",
       "4                 50         0.0          0.51  "
      ]
     },
     "execution_count": 14,
     "metadata": {},
     "output_type": "execute_result"
    }
   ],
   "source": [
    "prop_swept_data = (pd.read_hdf(str(ag.steps_dir / 'slim' / 'slim_summary.hdf'))\n",
    "                      .loc[lambda df: (df.chrom == 'X') & (df.rec_mode == 'recmap')]\n",
    "                  )\n",
    "\n",
    "prop_swept_data['rec_val'] = (prop_swept_data['rec_val'] * 1e12).astype(int) # idx of 10Mb bin along chrX\n",
    "prop_swept_data['start'] += 10000000 * prop_swept_data['rec_val']\n",
    "prop_swept_data['end'] += 10000000 * prop_swept_data['rec_val']\n",
    "\n",
    "prop_swept_data['prop_swept'] = prop_swept_data.nr_swept / prop_swept_data.total\n",
    "prop_swept_data['x_auto_ratio'] = prop_swept_data['size_reduction'] * 3 / 4\n",
    "prop_swept_data.head()"
   ]
  },
  {
   "cell_type": "markdown",
   "metadata": {},
   "source": [
    "Remember that there aree simulations with selection in the summary that needs to be filtered out to consider only neutral simulations:"
   ]
  },
  {
   "cell_type": "code",
   "execution_count": 15,
   "metadata": {},
   "outputs": [
    {
     "data": {
      "text/html": [
       "<div>\n",
       "<style scoped>\n",
       "    .dataframe tbody tr th:only-of-type {\n",
       "        vertical-align: middle;\n",
       "    }\n",
       "\n",
       "    .dataframe tbody tr th {\n",
       "        vertical-align: top;\n",
       "    }\n",
       "\n",
       "    .dataframe thead th {\n",
       "        text-align: right;\n",
       "    }\n",
       "</style>\n",
       "<table border=\"1\" class=\"dataframe\">\n",
       "  <thead>\n",
       "    <tr style=\"text-align: right;\">\n",
       "      <th></th>\n",
       "      <th>size_reduction</th>\n",
       "      <th>x_auto_ratio</th>\n",
       "      <th>demography</th>\n",
       "      <th>rec_mode</th>\n",
       "      <th>sweep_type</th>\n",
       "      <th>selcoef</th>\n",
       "      <th>min_clade_percent</th>\n",
       "    </tr>\n",
       "  </thead>\n",
       "  <tbody>\n",
       "    <tr>\n",
       "      <th>0</th>\n",
       "      <td>0.68</td>\n",
       "      <td>0.5100</td>\n",
       "      <td>standard</td>\n",
       "      <td>recmap</td>\n",
       "      <td>nosweep</td>\n",
       "      <td>0.00</td>\n",
       "      <td>50</td>\n",
       "    </tr>\n",
       "    <tr>\n",
       "      <th>0</th>\n",
       "      <td>0.87</td>\n",
       "      <td>0.6525</td>\n",
       "      <td>standard</td>\n",
       "      <td>recmap</td>\n",
       "      <td>nosweep</td>\n",
       "      <td>0.00</td>\n",
       "      <td>50</td>\n",
       "    </tr>\n",
       "    <tr>\n",
       "      <th>0</th>\n",
       "      <td>0.87</td>\n",
       "      <td>0.6525</td>\n",
       "      <td>standard</td>\n",
       "      <td>recmap</td>\n",
       "      <td>episode</td>\n",
       "      <td>0.10</td>\n",
       "      <td>50</td>\n",
       "    </tr>\n",
       "    <tr>\n",
       "      <th>0</th>\n",
       "      <td>0.87</td>\n",
       "      <td>0.6525</td>\n",
       "      <td>standard</td>\n",
       "      <td>recmap</td>\n",
       "      <td>complete</td>\n",
       "      <td>0.10</td>\n",
       "      <td>50</td>\n",
       "    </tr>\n",
       "    <tr>\n",
       "      <th>0</th>\n",
       "      <td>0.62</td>\n",
       "      <td>0.4650</td>\n",
       "      <td>standard</td>\n",
       "      <td>recmap</td>\n",
       "      <td>nosweep</td>\n",
       "      <td>0.00</td>\n",
       "      <td>50</td>\n",
       "    </tr>\n",
       "    <tr>\n",
       "      <th>0</th>\n",
       "      <td>0.68</td>\n",
       "      <td>0.5100</td>\n",
       "      <td>standard</td>\n",
       "      <td>recmap</td>\n",
       "      <td>episode</td>\n",
       "      <td>0.01</td>\n",
       "      <td>50</td>\n",
       "    </tr>\n",
       "    <tr>\n",
       "      <th>0</th>\n",
       "      <td>0.68</td>\n",
       "      <td>0.5100</td>\n",
       "      <td>standard</td>\n",
       "      <td>recmap</td>\n",
       "      <td>complete</td>\n",
       "      <td>0.01</td>\n",
       "      <td>50</td>\n",
       "    </tr>\n",
       "    <tr>\n",
       "      <th>0</th>\n",
       "      <td>0.87</td>\n",
       "      <td>0.6525</td>\n",
       "      <td>standard</td>\n",
       "      <td>recmap</td>\n",
       "      <td>partial</td>\n",
       "      <td>0.10</td>\n",
       "      <td>50</td>\n",
       "    </tr>\n",
       "    <tr>\n",
       "      <th>0</th>\n",
       "      <td>0.68</td>\n",
       "      <td>0.5100</td>\n",
       "      <td>standard</td>\n",
       "      <td>recmap</td>\n",
       "      <td>episode</td>\n",
       "      <td>0.05</td>\n",
       "      <td>50</td>\n",
       "    </tr>\n",
       "    <tr>\n",
       "      <th>0</th>\n",
       "      <td>0.68</td>\n",
       "      <td>0.5100</td>\n",
       "      <td>standard</td>\n",
       "      <td>recmap</td>\n",
       "      <td>partial</td>\n",
       "      <td>0.01</td>\n",
       "      <td>50</td>\n",
       "    </tr>\n",
       "    <tr>\n",
       "      <th>0</th>\n",
       "      <td>0.87</td>\n",
       "      <td>0.6525</td>\n",
       "      <td>standard</td>\n",
       "      <td>recmap</td>\n",
       "      <td>episode</td>\n",
       "      <td>0.02</td>\n",
       "      <td>50</td>\n",
       "    </tr>\n",
       "    <tr>\n",
       "      <th>0</th>\n",
       "      <td>0.87</td>\n",
       "      <td>0.6525</td>\n",
       "      <td>standard</td>\n",
       "      <td>recmap</td>\n",
       "      <td>episode</td>\n",
       "      <td>0.01</td>\n",
       "      <td>50</td>\n",
       "    </tr>\n",
       "    <tr>\n",
       "      <th>0</th>\n",
       "      <td>0.68</td>\n",
       "      <td>0.5100</td>\n",
       "      <td>standard</td>\n",
       "      <td>recmap</td>\n",
       "      <td>complete</td>\n",
       "      <td>0.10</td>\n",
       "      <td>50</td>\n",
       "    </tr>\n",
       "    <tr>\n",
       "      <th>0</th>\n",
       "      <td>0.87</td>\n",
       "      <td>0.6525</td>\n",
       "      <td>standard</td>\n",
       "      <td>recmap</td>\n",
       "      <td>episode</td>\n",
       "      <td>0.05</td>\n",
       "      <td>50</td>\n",
       "    </tr>\n",
       "    <tr>\n",
       "      <th>0</th>\n",
       "      <td>0.87</td>\n",
       "      <td>0.6525</td>\n",
       "      <td>standard</td>\n",
       "      <td>recmap</td>\n",
       "      <td>partial</td>\n",
       "      <td>0.01</td>\n",
       "      <td>50</td>\n",
       "    </tr>\n",
       "    <tr>\n",
       "      <th>0</th>\n",
       "      <td>0.68</td>\n",
       "      <td>0.5100</td>\n",
       "      <td>standard</td>\n",
       "      <td>recmap</td>\n",
       "      <td>episode</td>\n",
       "      <td>0.02</td>\n",
       "      <td>50</td>\n",
       "    </tr>\n",
       "    <tr>\n",
       "      <th>0</th>\n",
       "      <td>0.68</td>\n",
       "      <td>0.5100</td>\n",
       "      <td>standard</td>\n",
       "      <td>recmap</td>\n",
       "      <td>partial</td>\n",
       "      <td>0.10</td>\n",
       "      <td>50</td>\n",
       "    </tr>\n",
       "    <tr>\n",
       "      <th>0</th>\n",
       "      <td>0.87</td>\n",
       "      <td>0.6525</td>\n",
       "      <td>standard</td>\n",
       "      <td>recmap</td>\n",
       "      <td>complete</td>\n",
       "      <td>0.01</td>\n",
       "      <td>50</td>\n",
       "    </tr>\n",
       "    <tr>\n",
       "      <th>0</th>\n",
       "      <td>0.68</td>\n",
       "      <td>0.5100</td>\n",
       "      <td>standard</td>\n",
       "      <td>recmap</td>\n",
       "      <td>episode</td>\n",
       "      <td>0.10</td>\n",
       "      <td>50</td>\n",
       "    </tr>\n",
       "  </tbody>\n",
       "</table>\n",
       "</div>"
      ],
      "text/plain": [
       "   size_reduction  x_auto_ratio demography rec_mode sweep_type  selcoef  \\\n",
       "0            0.68        0.5100   standard   recmap    nosweep     0.00   \n",
       "0            0.87        0.6525   standard   recmap    nosweep     0.00   \n",
       "0            0.87        0.6525   standard   recmap    episode     0.10   \n",
       "0            0.87        0.6525   standard   recmap   complete     0.10   \n",
       "0            0.62        0.4650   standard   recmap    nosweep     0.00   \n",
       "0            0.68        0.5100   standard   recmap    episode     0.01   \n",
       "0            0.68        0.5100   standard   recmap   complete     0.01   \n",
       "0            0.87        0.6525   standard   recmap    partial     0.10   \n",
       "0            0.68        0.5100   standard   recmap    episode     0.05   \n",
       "0            0.68        0.5100   standard   recmap    partial     0.01   \n",
       "0            0.87        0.6525   standard   recmap    episode     0.02   \n",
       "0            0.87        0.6525   standard   recmap    episode     0.01   \n",
       "0            0.68        0.5100   standard   recmap   complete     0.10   \n",
       "0            0.87        0.6525   standard   recmap    episode     0.05   \n",
       "0            0.87        0.6525   standard   recmap    partial     0.01   \n",
       "0            0.68        0.5100   standard   recmap    episode     0.02   \n",
       "0            0.68        0.5100   standard   recmap    partial     0.10   \n",
       "0            0.87        0.6525   standard   recmap   complete     0.01   \n",
       "0            0.68        0.5100   standard   recmap    episode     0.10   \n",
       "\n",
       "   min_clade_percent  \n",
       "0                 50  \n",
       "0                 50  \n",
       "0                 50  \n",
       "0                 50  \n",
       "0                 50  \n",
       "0                 50  \n",
       "0                 50  \n",
       "0                 50  \n",
       "0                 50  \n",
       "0                 50  \n",
       "0                 50  \n",
       "0                 50  \n",
       "0                 50  \n",
       "0                 50  \n",
       "0                 50  \n",
       "0                 50  \n",
       "0                 50  \n",
       "0                 50  \n",
       "0                 50  "
      ]
     },
     "execution_count": 15,
     "metadata": {},
     "output_type": "execute_result"
    }
   ],
   "source": [
    "prop_swept_data[['size_reduction', 'x_auto_ratio', 'demography', 'rec_mode', 'sweep_type', 'selcoef', 'min_clade_percent']].drop_duplicates()"
   ]
  },
  {
   "cell_type": "markdown",
   "metadata": {},
   "source": [
    "Check that all simulations have 10Mb in each:"
   ]
  },
  {
   "cell_type": "code",
   "execution_count": 16,
   "metadata": {},
   "outputs": [
    {
     "data": {
      "text/plain": [
       "True"
      ]
     },
     "execution_count": 16,
     "metadata": {},
     "output_type": "execute_result"
    }
   ],
   "source": [
    "(prop_swept_data.loc[prop_swept_data.sweep_type == 'nosweep']\n",
    " .groupby(['rec_val', 'replication', 'size_reduction', 'min_clade_percent'])\n",
    " .apply(lambda df: (df.end - df.start).sum() == 10000000)\n",
    " .all()\n",
    ")"
   ]
  },
  {
   "cell_type": "markdown",
   "metadata": {},
   "source": [
    "Mean summed amount of sequence called as ECH in each simulations where ECHs are called:"
   ]
  },
  {
   "cell_type": "code",
   "execution_count": 17,
   "metadata": {},
   "outputs": [
    {
     "data": {
      "text/plain": [
       "count    2.740000e+02\n",
       "mean     1.096715e+06\n",
       "std      9.547779e+05\n",
       "min      5.000000e+05\n",
       "25%      5.000000e+05\n",
       "50%      7.000000e+05\n",
       "75%      1.200000e+06\n",
       "max      6.100000e+06\n",
       "dtype: float64"
      ]
     },
     "execution_count": 17,
     "metadata": {},
     "output_type": "execute_result"
    }
   ],
   "source": [
    "df = (prop_swept_data.loc[(prop_swept_data.nr_swept > 0) & \\\n",
    "                     (prop_swept_data.size_reduction == 0.62) & \\\n",
    "                     (prop_swept_data.sweep_type == 'nosweep') & \\\n",
    "                     (prop_swept_data.min_clade_percent == 50)]\n",
    " .groupby(['rec_val', 'replication'])\n",
    " .apply(lambda df: (df.end - df.start).sum())\n",
    ")\n",
    "df.describe()"
   ]
  },
  {
   "cell_type": "markdown",
   "metadata": {},
   "source": [
    "## Mask regions that are missing in the CEU analysis"
   ]
  },
  {
   "cell_type": "markdown",
   "metadata": {},
   "source": [
    "Mising windows in actual CEU analysis:"
   ]
  },
  {
   "cell_type": "code",
   "execution_count": 18,
   "metadata": {},
   "outputs": [
    {
     "data": {
      "text/html": [
       "<div>\n",
       "<style scoped>\n",
       "    .dataframe tbody tr th:only-of-type {\n",
       "        vertical-align: middle;\n",
       "    }\n",
       "\n",
       "    .dataframe tbody tr th {\n",
       "        vertical-align: top;\n",
       "    }\n",
       "\n",
       "    .dataframe thead th {\n",
       "        text-align: right;\n",
       "    }\n",
       "</style>\n",
       "<table border=\"1\" class=\"dataframe\">\n",
       "  <thead>\n",
       "    <tr style=\"text-align: right;\">\n",
       "      <th></th>\n",
       "      <th>start</th>\n",
       "      <th>end</th>\n",
       "      <th>mean_prop_indivs_missing</th>\n",
       "      <th>is_missing</th>\n",
       "    </tr>\n",
       "  </thead>\n",
       "  <tbody>\n",
       "    <tr>\n",
       "      <th>0</th>\n",
       "      <td>2700000</td>\n",
       "      <td>2800000</td>\n",
       "      <td>0.0</td>\n",
       "      <td>False</td>\n",
       "    </tr>\n",
       "    <tr>\n",
       "      <th>1</th>\n",
       "      <td>2800000</td>\n",
       "      <td>2900000</td>\n",
       "      <td>0.0</td>\n",
       "      <td>False</td>\n",
       "    </tr>\n",
       "    <tr>\n",
       "      <th>2</th>\n",
       "      <td>2900000</td>\n",
       "      <td>3000000</td>\n",
       "      <td>0.0</td>\n",
       "      <td>False</td>\n",
       "    </tr>\n",
       "    <tr>\n",
       "      <th>3</th>\n",
       "      <td>3000000</td>\n",
       "      <td>3100000</td>\n",
       "      <td>0.0</td>\n",
       "      <td>False</td>\n",
       "    </tr>\n",
       "    <tr>\n",
       "      <th>4</th>\n",
       "      <td>3100000</td>\n",
       "      <td>3200000</td>\n",
       "      <td>0.0</td>\n",
       "      <td>False</td>\n",
       "    </tr>\n",
       "  </tbody>\n",
       "</table>\n",
       "</div>"
      ],
      "text/plain": [
       "     start      end  mean_prop_indivs_missing  is_missing\n",
       "0  2700000  2800000                       0.0       False\n",
       "1  2800000  2900000                       0.0       False\n",
       "2  2900000  3000000                       0.0       False\n",
       "3  3000000  3100000                       0.0       False\n",
       "4  3100000  3200000                       0.0       False"
      ]
     },
     "execution_count": 18,
     "metadata": {},
     "output_type": "execute_result"
    }
   ],
   "source": [
    "missing_windows = pd.read_hdf('../results/missing_windows_ceu.hdf')\n",
    "missing_windows.head()"
   ]
  },
  {
   "cell_type": "code",
   "execution_count": 19,
   "metadata": {},
   "outputs": [
    {
     "data": {
      "text/html": [
       "<div>\n",
       "<style scoped>\n",
       "    .dataframe tbody tr th:only-of-type {\n",
       "        vertical-align: middle;\n",
       "    }\n",
       "\n",
       "    .dataframe tbody tr th {\n",
       "        vertical-align: top;\n",
       "    }\n",
       "\n",
       "    .dataframe thead th {\n",
       "        text-align: right;\n",
       "    }\n",
       "</style>\n",
       "<table border=\"1\" class=\"dataframe\">\n",
       "  <thead>\n",
       "    <tr style=\"text-align: right;\">\n",
       "      <th></th>\n",
       "      <th>start</th>\n",
       "      <th>end</th>\n",
       "      <th>nr_swept</th>\n",
       "      <th>total</th>\n",
       "      <th>demography</th>\n",
       "      <th>chrom</th>\n",
       "      <th>size_reduction</th>\n",
       "      <th>rec_mode</th>\n",
       "      <th>rec_val</th>\n",
       "      <th>sweep_start</th>\n",
       "      <th>sweep_type</th>\n",
       "      <th>selcoef</th>\n",
       "      <th>replication</th>\n",
       "      <th>min_clade_percent</th>\n",
       "      <th>prop_swept</th>\n",
       "      <th>x_auto_ratio</th>\n",
       "      <th>mean_prop_indivs_missing</th>\n",
       "      <th>is_missing</th>\n",
       "    </tr>\n",
       "  </thead>\n",
       "  <tbody>\n",
       "    <tr>\n",
       "      <th>0</th>\n",
       "      <td>110000000.0</td>\n",
       "      <td>110100000.0</td>\n",
       "      <td>0</td>\n",
       "      <td>49</td>\n",
       "      <td>standard</td>\n",
       "      <td>X</td>\n",
       "      <td>0.68</td>\n",
       "      <td>recmap</td>\n",
       "      <td>11</td>\n",
       "      <td>0</td>\n",
       "      <td>nosweep</td>\n",
       "      <td>0.0</td>\n",
       "      <td>443</td>\n",
       "      <td>50</td>\n",
       "      <td>0.0</td>\n",
       "      <td>0.51</td>\n",
       "      <td>0.0</td>\n",
       "      <td>False</td>\n",
       "    </tr>\n",
       "    <tr>\n",
       "      <th>1</th>\n",
       "      <td>110100000.0</td>\n",
       "      <td>110200000.0</td>\n",
       "      <td>0</td>\n",
       "      <td>49</td>\n",
       "      <td>standard</td>\n",
       "      <td>X</td>\n",
       "      <td>0.68</td>\n",
       "      <td>recmap</td>\n",
       "      <td>11</td>\n",
       "      <td>0</td>\n",
       "      <td>nosweep</td>\n",
       "      <td>0.0</td>\n",
       "      <td>443</td>\n",
       "      <td>50</td>\n",
       "      <td>0.0</td>\n",
       "      <td>0.51</td>\n",
       "      <td>0.0</td>\n",
       "      <td>False</td>\n",
       "    </tr>\n",
       "    <tr>\n",
       "      <th>2</th>\n",
       "      <td>110200000.0</td>\n",
       "      <td>110300000.0</td>\n",
       "      <td>0</td>\n",
       "      <td>49</td>\n",
       "      <td>standard</td>\n",
       "      <td>X</td>\n",
       "      <td>0.68</td>\n",
       "      <td>recmap</td>\n",
       "      <td>11</td>\n",
       "      <td>0</td>\n",
       "      <td>nosweep</td>\n",
       "      <td>0.0</td>\n",
       "      <td>443</td>\n",
       "      <td>50</td>\n",
       "      <td>0.0</td>\n",
       "      <td>0.51</td>\n",
       "      <td>0.0</td>\n",
       "      <td>False</td>\n",
       "    </tr>\n",
       "    <tr>\n",
       "      <th>3</th>\n",
       "      <td>110300000.0</td>\n",
       "      <td>110400000.0</td>\n",
       "      <td>0</td>\n",
       "      <td>49</td>\n",
       "      <td>standard</td>\n",
       "      <td>X</td>\n",
       "      <td>0.68</td>\n",
       "      <td>recmap</td>\n",
       "      <td>11</td>\n",
       "      <td>0</td>\n",
       "      <td>nosweep</td>\n",
       "      <td>0.0</td>\n",
       "      <td>443</td>\n",
       "      <td>50</td>\n",
       "      <td>0.0</td>\n",
       "      <td>0.51</td>\n",
       "      <td>0.0</td>\n",
       "      <td>False</td>\n",
       "    </tr>\n",
       "    <tr>\n",
       "      <th>4</th>\n",
       "      <td>110400000.0</td>\n",
       "      <td>110500000.0</td>\n",
       "      <td>0</td>\n",
       "      <td>49</td>\n",
       "      <td>standard</td>\n",
       "      <td>X</td>\n",
       "      <td>0.68</td>\n",
       "      <td>recmap</td>\n",
       "      <td>11</td>\n",
       "      <td>0</td>\n",
       "      <td>nosweep</td>\n",
       "      <td>0.0</td>\n",
       "      <td>443</td>\n",
       "      <td>50</td>\n",
       "      <td>0.0</td>\n",
       "      <td>0.51</td>\n",
       "      <td>0.0</td>\n",
       "      <td>False</td>\n",
       "    </tr>\n",
       "  </tbody>\n",
       "</table>\n",
       "</div>"
      ],
      "text/plain": [
       "         start          end  nr_swept  total demography chrom  size_reduction  \\\n",
       "0  110000000.0  110100000.0         0     49   standard     X            0.68   \n",
       "1  110100000.0  110200000.0         0     49   standard     X            0.68   \n",
       "2  110200000.0  110300000.0         0     49   standard     X            0.68   \n",
       "3  110300000.0  110400000.0         0     49   standard     X            0.68   \n",
       "4  110400000.0  110500000.0         0     49   standard     X            0.68   \n",
       "\n",
       "  rec_mode  rec_val  sweep_start sweep_type  selcoef  replication  \\\n",
       "0   recmap       11            0    nosweep      0.0          443   \n",
       "1   recmap       11            0    nosweep      0.0          443   \n",
       "2   recmap       11            0    nosweep      0.0          443   \n",
       "3   recmap       11            0    nosweep      0.0          443   \n",
       "4   recmap       11            0    nosweep      0.0          443   \n",
       "\n",
       "   min_clade_percent  prop_swept  x_auto_ratio  mean_prop_indivs_missing  \\\n",
       "0                 50         0.0          0.51                       0.0   \n",
       "1                 50         0.0          0.51                       0.0   \n",
       "2                 50         0.0          0.51                       0.0   \n",
       "3                 50         0.0          0.51                       0.0   \n",
       "4                 50         0.0          0.51                       0.0   \n",
       "\n",
       "  is_missing  \n",
       "0      False  \n",
       "1      False  \n",
       "2      False  \n",
       "3      False  \n",
       "4      False  "
      ]
     },
     "execution_count": 19,
     "metadata": {},
     "output_type": "execute_result"
    }
   ],
   "source": [
    "prop_swept_data = prop_swept_data.merge(missing_windows, on=['start', 'end'], how='left').loc[lambda df: df.is_missing == False]\n",
    "prop_swept_data.head()"
   ]
  },
  {
   "cell_type": "markdown",
   "metadata": {},
   "source": [
    "### Neurtral simulations"
   ]
  },
  {
   "cell_type": "code",
   "execution_count": 20,
   "metadata": {},
   "outputs": [],
   "source": [
    "plot_df = prop_swept_data.loc[(prop_swept_data.sweep_type == 'nosweep') & \\\n",
    "                              (prop_swept_data.demography == 'standard') & \\\n",
    "                              (prop_swept_data.min_clade_percent == 50) & \\\n",
    "                              (prop_swept_data.x_auto_ratio.isin([0.51, 0.6525]))\n",
    "                             # (prop_swept_data.x_auto_ratio > 0.5)\n",
    "                             ]"
   ]
  },
  {
   "cell_type": "code",
   "execution_count": 21,
   "metadata": {},
   "outputs": [
    {
     "data": {
      "text/plain": [
       "array([0.51  , 0.6525])"
      ]
     },
     "execution_count": 21,
     "metadata": {},
     "output_type": "execute_result"
    }
   ],
   "source": [
    "plot_df.x_auto_ratio.unique()"
   ]
  },
  {
   "cell_type": "code",
   "execution_count": 22,
   "metadata": {},
   "outputs": [
    {
     "data": {
      "text/html": [
       "<div>\n",
       "<style scoped>\n",
       "    .dataframe tbody tr th:only-of-type {\n",
       "        vertical-align: middle;\n",
       "    }\n",
       "\n",
       "    .dataframe tbody tr th {\n",
       "        vertical-align: top;\n",
       "    }\n",
       "\n",
       "    .dataframe thead th {\n",
       "        text-align: right;\n",
       "    }\n",
       "</style>\n",
       "<table border=\"1\" class=\"dataframe\">\n",
       "  <thead>\n",
       "    <tr style=\"text-align: right;\">\n",
       "      <th></th>\n",
       "      <th>start</th>\n",
       "      <th>end</th>\n",
       "      <th>nr_swept</th>\n",
       "      <th>total</th>\n",
       "      <th>demography</th>\n",
       "      <th>chrom</th>\n",
       "      <th>size_reduction</th>\n",
       "      <th>rec_mode</th>\n",
       "      <th>rec_val</th>\n",
       "      <th>sweep_start</th>\n",
       "      <th>sweep_type</th>\n",
       "      <th>selcoef</th>\n",
       "      <th>replication</th>\n",
       "      <th>min_clade_percent</th>\n",
       "      <th>prop_swept</th>\n",
       "      <th>x_auto_ratio</th>\n",
       "      <th>mean_prop_indivs_missing</th>\n",
       "      <th>is_missing</th>\n",
       "    </tr>\n",
       "  </thead>\n",
       "  <tbody>\n",
       "    <tr>\n",
       "      <th>0</th>\n",
       "      <td>110000000.0</td>\n",
       "      <td>110100000.0</td>\n",
       "      <td>0</td>\n",
       "      <td>49</td>\n",
       "      <td>standard</td>\n",
       "      <td>X</td>\n",
       "      <td>0.68</td>\n",
       "      <td>recmap</td>\n",
       "      <td>11</td>\n",
       "      <td>0</td>\n",
       "      <td>nosweep</td>\n",
       "      <td>0.0</td>\n",
       "      <td>443</td>\n",
       "      <td>50</td>\n",
       "      <td>0.0</td>\n",
       "      <td>0.51</td>\n",
       "      <td>0.0</td>\n",
       "      <td>False</td>\n",
       "    </tr>\n",
       "    <tr>\n",
       "      <th>1</th>\n",
       "      <td>110100000.0</td>\n",
       "      <td>110200000.0</td>\n",
       "      <td>0</td>\n",
       "      <td>49</td>\n",
       "      <td>standard</td>\n",
       "      <td>X</td>\n",
       "      <td>0.68</td>\n",
       "      <td>recmap</td>\n",
       "      <td>11</td>\n",
       "      <td>0</td>\n",
       "      <td>nosweep</td>\n",
       "      <td>0.0</td>\n",
       "      <td>443</td>\n",
       "      <td>50</td>\n",
       "      <td>0.0</td>\n",
       "      <td>0.51</td>\n",
       "      <td>0.0</td>\n",
       "      <td>False</td>\n",
       "    </tr>\n",
       "    <tr>\n",
       "      <th>2</th>\n",
       "      <td>110200000.0</td>\n",
       "      <td>110300000.0</td>\n",
       "      <td>0</td>\n",
       "      <td>49</td>\n",
       "      <td>standard</td>\n",
       "      <td>X</td>\n",
       "      <td>0.68</td>\n",
       "      <td>recmap</td>\n",
       "      <td>11</td>\n",
       "      <td>0</td>\n",
       "      <td>nosweep</td>\n",
       "      <td>0.0</td>\n",
       "      <td>443</td>\n",
       "      <td>50</td>\n",
       "      <td>0.0</td>\n",
       "      <td>0.51</td>\n",
       "      <td>0.0</td>\n",
       "      <td>False</td>\n",
       "    </tr>\n",
       "    <tr>\n",
       "      <th>3</th>\n",
       "      <td>110300000.0</td>\n",
       "      <td>110400000.0</td>\n",
       "      <td>0</td>\n",
       "      <td>49</td>\n",
       "      <td>standard</td>\n",
       "      <td>X</td>\n",
       "      <td>0.68</td>\n",
       "      <td>recmap</td>\n",
       "      <td>11</td>\n",
       "      <td>0</td>\n",
       "      <td>nosweep</td>\n",
       "      <td>0.0</td>\n",
       "      <td>443</td>\n",
       "      <td>50</td>\n",
       "      <td>0.0</td>\n",
       "      <td>0.51</td>\n",
       "      <td>0.0</td>\n",
       "      <td>False</td>\n",
       "    </tr>\n",
       "    <tr>\n",
       "      <th>4</th>\n",
       "      <td>110400000.0</td>\n",
       "      <td>110500000.0</td>\n",
       "      <td>0</td>\n",
       "      <td>49</td>\n",
       "      <td>standard</td>\n",
       "      <td>X</td>\n",
       "      <td>0.68</td>\n",
       "      <td>recmap</td>\n",
       "      <td>11</td>\n",
       "      <td>0</td>\n",
       "      <td>nosweep</td>\n",
       "      <td>0.0</td>\n",
       "      <td>443</td>\n",
       "      <td>50</td>\n",
       "      <td>0.0</td>\n",
       "      <td>0.51</td>\n",
       "      <td>0.0</td>\n",
       "      <td>False</td>\n",
       "    </tr>\n",
       "  </tbody>\n",
       "</table>\n",
       "</div>"
      ],
      "text/plain": [
       "         start          end  nr_swept  total demography chrom  size_reduction  \\\n",
       "0  110000000.0  110100000.0         0     49   standard     X            0.68   \n",
       "1  110100000.0  110200000.0         0     49   standard     X            0.68   \n",
       "2  110200000.0  110300000.0         0     49   standard     X            0.68   \n",
       "3  110300000.0  110400000.0         0     49   standard     X            0.68   \n",
       "4  110400000.0  110500000.0         0     49   standard     X            0.68   \n",
       "\n",
       "  rec_mode  rec_val  sweep_start sweep_type  selcoef  replication  \\\n",
       "0   recmap       11            0    nosweep      0.0          443   \n",
       "1   recmap       11            0    nosweep      0.0          443   \n",
       "2   recmap       11            0    nosweep      0.0          443   \n",
       "3   recmap       11            0    nosweep      0.0          443   \n",
       "4   recmap       11            0    nosweep      0.0          443   \n",
       "\n",
       "   min_clade_percent  prop_swept  x_auto_ratio  mean_prop_indivs_missing  \\\n",
       "0                 50         0.0          0.51                       0.0   \n",
       "1                 50         0.0          0.51                       0.0   \n",
       "2                 50         0.0          0.51                       0.0   \n",
       "3                 50         0.0          0.51                       0.0   \n",
       "4                 50         0.0          0.51                       0.0   \n",
       "\n",
       "  is_missing  \n",
       "0      False  \n",
       "1      False  \n",
       "2      False  \n",
       "3      False  \n",
       "4      False  "
      ]
     },
     "execution_count": 22,
     "metadata": {},
     "output_type": "execute_result"
    }
   ],
   "source": [
    "plot_df.head()"
   ]
  },
  {
   "cell_type": "code",
   "execution_count": 23,
   "metadata": {},
   "outputs": [],
   "source": [
    "class percentile:\n",
    "    def __init__(self, q):\n",
    "        self.q = q\n",
    "        \n",
    "    def __call__(self, x):\n",
    "        return x.quantile(self.q)\n",
    "        # Or using numpy\n",
    "        # return np.quantile(x.dropna(), self.q)"
   ]
  },
  {
   "cell_type": "markdown",
   "metadata": {},
   "source": [
    "Proportion of chromosome windows where an ECH is called:"
   ]
  },
  {
   "cell_type": "code",
   "execution_count": 24,
   "metadata": {},
   "outputs": [],
   "source": [
    "        \n",
    "# (plot_df\n",
    "#  .groupby(['x_auto_ratio', 'rec_val'])\n",
    "#  .apply(lambda df: (df.nr_swept > 0).sum() / df.nr_swept.size)\n",
    "#  .to_frame('ech_prop')\n",
    "#  .reset_index()\n",
    "#  .groupby('x_auto_ratio')\n",
    "#  .agg(mean = ('ech_prop', np.mean),\n",
    "#      lower = ('ech_prop', percentile(0.025)),\n",
    "#      upper = ('ech_prop', percentile(0.975)))\n",
    "# )"
   ]
  },
  {
   "cell_type": "code",
   "execution_count": 25,
   "metadata": {},
   "outputs": [
    {
     "data": {
      "text/html": [
       "<div>\n",
       "<style scoped>\n",
       "    .dataframe tbody tr th:only-of-type {\n",
       "        vertical-align: middle;\n",
       "    }\n",
       "\n",
       "    .dataframe tbody tr th {\n",
       "        vertical-align: top;\n",
       "    }\n",
       "\n",
       "    .dataframe thead th {\n",
       "        text-align: right;\n",
       "    }\n",
       "</style>\n",
       "<table border=\"1\" class=\"dataframe\">\n",
       "  <thead>\n",
       "    <tr style=\"text-align: right;\">\n",
       "      <th></th>\n",
       "      <th>mean</th>\n",
       "      <th>lower</th>\n",
       "      <th>upper</th>\n",
       "      <th>ceu_percentile</th>\n",
       "    </tr>\n",
       "    <tr>\n",
       "      <th>x_auto_ratio</th>\n",
       "      <th></th>\n",
       "      <th></th>\n",
       "      <th></th>\n",
       "      <th></th>\n",
       "    </tr>\n",
       "  </thead>\n",
       "  <tbody>\n",
       "    <tr>\n",
       "      <th>0.5100</th>\n",
       "      <td>0.011292</td>\n",
       "      <td>0.0</td>\n",
       "      <td>0.040812</td>\n",
       "      <td>0.0</td>\n",
       "    </tr>\n",
       "    <tr>\n",
       "      <th>0.6525</th>\n",
       "      <td>0.003428</td>\n",
       "      <td>0.0</td>\n",
       "      <td>0.020210</td>\n",
       "      <td>0.0</td>\n",
       "    </tr>\n",
       "  </tbody>\n",
       "</table>\n",
       "</div>"
      ],
      "text/plain": [
       "                  mean  lower     upper  ceu_percentile\n",
       "x_auto_ratio                                           \n",
       "0.5100        0.011292    0.0  0.040812             0.0\n",
       "0.6525        0.003428    0.0  0.020210             0.0"
      ]
     },
     "execution_count": 25,
     "metadata": {},
     "output_type": "execute_result"
    }
   ],
   "source": [
    "_df1 = (plot_df\n",
    " .groupby(['x_auto_ratio', 'replication'])\n",
    " .apply(lambda df: (df.nr_swept > 0).sum() / df.nr_swept.size)\n",
    " .to_frame('ech_prop')\n",
    " .reset_index()\n",
    ")\n",
    "(_df1\n",
    " .groupby('x_auto_ratio')\n",
    " .agg(mean = ('ech_prop', np.mean),\n",
    "     lower = ('ech_prop', percentile(0.025)),\n",
    "     upper = ('ech_prop', percentile(0.975)),\n",
    "     ceu_percentile = ('ech_prop', lambda s: (s >= 0.11).sum() / len(s))\n",
    "     )\n",
    ")"
   ]
  },
  {
   "cell_type": "code",
   "execution_count": 26,
   "metadata": {},
   "outputs": [
    {
     "data": {
      "image/png": "[encoded data removed]",
      "text/plain": [
       "<Figure size 432x288 with 1 Axes>"
      ]
     },
     "metadata": {
      "image/png": {
       "height": 266,
       "width": 395
      }
     },
     "output_type": "display_data"
    }
   ],
   "source": [
    "with sns.color_palette(['tab:blue', 'tab:red']):\n",
    "    _df1['x_auto_ratio'] = _df1.x_auto_ratio.astype(\"category\")\n",
    "    sns.histplot(data=_df1, x=\"ech_prop\", hue=\"x_auto_ratio\", bins=15, \n",
    "                 stat='probability', element=\"step\", fill=True)\n",
    "    plt.axvline(0.111, linestyle='dashed', color='black')    "
   ]
  },
  {
   "cell_type": "markdown",
   "metadata": {
    "tags": []
   },
   "source": [
    "Proportion of all 100kb haplotypes called as ECH:"
   ]
  },
  {
   "cell_type": "code",
   "execution_count": 27,
   "metadata": {},
   "outputs": [
    {
     "data": {
      "text/html": [
       "<div>\n",
       "<style scoped>\n",
       "    .dataframe tbody tr th:only-of-type {\n",
       "        vertical-align: middle;\n",
       "    }\n",
       "\n",
       "    .dataframe tbody tr th {\n",
       "        vertical-align: top;\n",
       "    }\n",
       "\n",
       "    .dataframe thead th {\n",
       "        text-align: right;\n",
       "    }\n",
       "</style>\n",
       "<table border=\"1\" class=\"dataframe\">\n",
       "  <thead>\n",
       "    <tr style=\"text-align: right;\">\n",
       "      <th></th>\n",
       "      <th>mean</th>\n",
       "      <th>lower</th>\n",
       "      <th>upper</th>\n",
       "    </tr>\n",
       "    <tr>\n",
       "      <th>x_auto_ratio</th>\n",
       "      <th></th>\n",
       "      <th></th>\n",
       "      <th></th>\n",
       "    </tr>\n",
       "  </thead>\n",
       "  <tbody>\n",
       "    <tr>\n",
       "      <th>0.5100</th>\n",
       "      <td>0.006861</td>\n",
       "      <td>0.0</td>\n",
       "      <td>0.024836</td>\n",
       "    </tr>\n",
       "    <tr>\n",
       "      <th>0.6525</th>\n",
       "      <td>0.001977</td>\n",
       "      <td>0.0</td>\n",
       "      <td>0.012139</td>\n",
       "    </tr>\n",
       "  </tbody>\n",
       "</table>\n",
       "</div>"
      ],
      "text/plain": [
       "                  mean  lower     upper\n",
       "x_auto_ratio                           \n",
       "0.5100        0.006861    0.0  0.024836\n",
       "0.6525        0.001977    0.0  0.012139"
      ]
     },
     "execution_count": 27,
     "metadata": {},
     "output_type": "execute_result"
    }
   ],
   "source": [
    "_df2 = (plot_df\n",
    " .groupby(['x_auto_ratio', 'replication'])\n",
    " .apply(lambda df: df.nr_swept.sum()/df.total.sum())\n",
    " .to_frame('ech_prop')\n",
    " .reset_index()\n",
    ")\n",
    "(_df2\n",
    " .groupby('x_auto_ratio')\n",
    " .agg(mean = ('ech_prop', np.mean),\n",
    "     lower = ('ech_prop', percentile(0.025)),\n",
    "     upper = ('ech_prop', percentile(0.975)))\n",
    ")"
   ]
  },
  {
   "cell_type": "code",
   "execution_count": 28,
   "metadata": {},
   "outputs": [
    {
     "data": {
      "image/png": "[encoded data removed]",
      "text/plain": [
       "<Figure size 432x288 with 1 Axes>"
      ]
     },
     "metadata": {
      "image/png": {
       "height": 270,
       "width": 395
      }
     },
     "output_type": "display_data"
    }
   ],
   "source": [
    "with sns.color_palette(['tab:blue', 'tab:red']):\n",
    "    _df2['x_auto_ratio'] = _df2.x_auto_ratio.astype(\"category\")\n",
    "    sns.histplot(data=_df2, x=\"ech_prop\", hue=\"x_auto_ratio\", bins=15, \n",
    "                 stat='probability', element=\"step\", fill=True)\n",
    "    plt.axvline(0.076, linestyle='dashed', color='black')"
   ]
  },
  {
   "cell_type": "code",
   "execution_count": 36,
   "metadata": {},
   "outputs": [],
   "source": [
    "cell_genomics = sns.plotting_context()\n",
    "cell_genomics['font.size'] = 8\n",
    "cell_genomics['axes.labelsize'] = 8\n",
    "cell_genomics['axes.titlesize'] = 8\n",
    "cell_genomics['xtick.labelsize'] = 8\n",
    "cell_genomics['ytick.labelsize'] = 8\n",
    "cell_genomics['legend.title_fontsize'] = 8\n",
    "cell_genomics['legend.fontsize'] = 8\n",
    "\n",
    "matplotlib.rcParams['font.family'] = \"sans-serif\"\n",
    "matplotlib.rcParams['font.sans-serif'] = \"Arial\""
   ]
  },
  {
   "cell_type": "code",
   "execution_count": 37,
   "metadata": {},
   "outputs": [
    {
     "data": {
      "text/plain": [
       "{'font.size': 8,\n",
       " 'axes.labelsize': 8,\n",
       " 'axes.titlesize': 8,\n",
       " 'xtick.labelsize': 8,\n",
       " 'ytick.labelsize': 8,\n",
       " 'legend.fontsize': 8,\n",
       " 'axes.linewidth': 1.25,\n",
       " 'grid.linewidth': 1.0,\n",
       " 'lines.linewidth': 1.5,\n",
       " 'lines.markersize': 6.0,\n",
       " 'patch.linewidth': 1.0,\n",
       " 'xtick.major.width': 1.25,\n",
       " 'ytick.major.width': 1.25,\n",
       " 'xtick.minor.width': 1.0,\n",
       " 'ytick.minor.width': 1.0,\n",
       " 'xtick.major.size': 6.0,\n",
       " 'ytick.major.size': 6.0,\n",
       " 'xtick.minor.size': 4.0,\n",
       " 'ytick.minor.size': 4.0,\n",
       " 'legend.title_fontsize': 8}"
      ]
     },
     "execution_count": 37,
     "metadata": {},
     "output_type": "execute_result"
    }
   ],
   "source": [
    "cell_genomics"
   ]
  },
  {
   "cell_type": "code",
   "execution_count": 50,
   "metadata": {},
   "outputs": [
    {
     "data": {
      "image/png": "[encoded data removed]",
      "text/plain": [
       "<Figure size 288x288 with 2 Axes>"
      ]
     },
     "metadata": {
      "image/png": {
       "height": 287,
       "width": 285
      }
     },
     "output_type": "display_data"
    }
   ],
   "source": [
    "#with sns.color_palette([\"#FF01FF\", \"#9300D3\"]):\n",
    "\n",
    "with sns.plotting_context(cell_genomics), sns.color_palette(['#F20000', '#0058C5']):\n",
    "    \n",
    "    fig, ax = plt.subplots(2, 1, figsize=(4, 4))\n",
    "    _df1['x_auto_ratio'] = _df1.x_auto_ratio.astype(\"category\")\n",
    "    sns.histplot(data=_df1, x=\"ech_prop\", hue=\"x_auto_ratio\", bins=10,\n",
    "                 stat='probability', multiple=\"dodge\", shrink=.8, ax=ax[0], legend=True)\n",
    "    # ax[0].axvline(0.11, linestyle='dashed', color='black')  \n",
    "    ax[0].set_xlabel(\"Proportion of chromosome\")\n",
    "    ax[0].arrow(0.11,0.15, 0,-0.15, length_includes_head=True, \n",
    "            head_width=0.005, width=0.0005, head_length=0.03, color='grey')\n",
    "    \n",
    "    _df2['x_auto_ratio'] = _df2.x_auto_ratio.astype(\"category\")\n",
    "    g = sns.histplot(data=_df2, x=\"ech_prop\", hue=\"x_auto_ratio\", bins=10,\n",
    "                 stat='probability', multiple=\"dodge\", shrink=.8, ax=ax[1], legend=True)\n",
    "    # ax[1].axvline(0.07, linestyle='dashed', color='black')  \n",
    "    ax[1].set_xlabel(\"Proportion 100kb windows across samples\")\n",
    "\n",
    "    ax[1].arrow(0.076,0.15, 0,-0.15, length_includes_head=True, \n",
    "                head_width=0.005 * 7.6/11.1, width=0.0005 * 7.6/11.1, head_length=0.03, color='grey')\n",
    "    \n",
    "    sns.move_legend(ax[0], \"upper right\",\n",
    "                    # bbox_to_anchor=(1, 1),\n",
    "                    title='Ne X/autosome', frameon=False)\n",
    "    sns.move_legend(ax[1], \"upper right\",\n",
    "                    # bbox_to_anchor=(1, 1),\n",
    "                    title='Ne X/autosome', frameon=False)    \n",
    "\n",
    "    sns.despine()\n",
    "    plt.tight_layout()\n",
    "    plt.savefig(ag.figures_dir / 'ceu_sims.pdf', bbox_inches='tight')\n",
    "    plt.savefig(ag.figures_dir / 'ceu_sims.png', bbox_inches='tight')"
   ]
  },
  {
   "cell_type": "markdown",
   "metadata": {},
   "source": [
    "Plot of ten first replications:"
   ]
  },
  {
   "cell_type": "code",
   "execution_count": 28,
   "metadata": {},
   "outputs": [
    {
     "data": {
      "image/png": "[encoded data removed]",
      "text/plain": [
       "<Figure size 864x1080 with 20 Axes>"
      ]
     },
     "metadata": {
      "image/png": {
       "height": 1066,
       "width": 846
      }
     },
     "output_type": "display_data"
    }
   ],
   "source": [
    "\n",
    "with sns.axes_style('ticks'):\n",
    "    g = sns.FacetGrid(plot_df.loc[plot_df.replication < 10], col='x_auto_ratio', row='replication', \n",
    "                      # hue='replication',\n",
    "                      sharex=True, sharey=True, margin_titles=True,\n",
    "                     height=1.5, aspect=4)\n",
    "    g.map(facet_plot, 'start', 'end', 'prop_swept')\n",
    "\n",
    "    for ax in g.axes.flat:\n",
    "        plt.setp(ax.texts, text=\"\") # remove the original texts, important to do this before setting titles\n",
    "    g.set_titles(row_template = '{row_name}', col_template = '{col_name}')\n",
    "\n",
    "    for ax in g.axes.flat:\n",
    "        ax.set_xlabel('position') # need to set labels manually because the names of facet function are start and end.\n",
    "        ax.set_ylabel('prop ECH')\n",
    "        plt.setp(ax.texts, rotation=\"0\") # remove the original texts, important to do this before setting titles"
   ]
  },
  {
   "cell_type": "markdown",
   "metadata": {},
   "source": [
    "### Simulations with selection"
   ]
  },
  {
   "cell_type": "code",
   "execution_count": 29,
   "metadata": {},
   "outputs": [],
   "source": [
    "plot_df = prop_swept_data.loc[(prop_swept_data.sweep_type != 'nosweep') & \\\n",
    "                              (prop_swept_data.demography == 'standard') & \\\n",
    "                              (prop_swept_data.min_clade_percent == 50) & \\\n",
    "                              (prop_swept_data.x_auto_ratio.isin([0.51, 0.6525]))\n",
    "                             # (prop_swept_data.x_auto_ratio > 0.5)\n",
    "                             ]"
   ]
  },
  {
   "cell_type": "markdown",
   "metadata": {},
   "source": [
    "Proportion of chromosome windows where an ECH is called:"
   ]
  },
  {
   "cell_type": "code",
   "execution_count": 30,
   "metadata": {},
   "outputs": [
    {
     "data": {
      "text/html": [
       "<div>\n",
       "<style scoped>\n",
       "    .dataframe tbody tr th:only-of-type {\n",
       "        vertical-align: middle;\n",
       "    }\n",
       "\n",
       "    .dataframe tbody tr th {\n",
       "        vertical-align: top;\n",
       "    }\n",
       "\n",
       "    .dataframe thead th {\n",
       "        text-align: right;\n",
       "    }\n",
       "</style>\n",
       "<table border=\"1\" class=\"dataframe\">\n",
       "  <thead>\n",
       "    <tr style=\"text-align: right;\">\n",
       "      <th></th>\n",
       "      <th></th>\n",
       "      <th></th>\n",
       "      <th>mean</th>\n",
       "      <th>lower</th>\n",
       "      <th>upper</th>\n",
       "      <th>ceu_percentile</th>\n",
       "    </tr>\n",
       "    <tr>\n",
       "      <th>x_auto_ratio</th>\n",
       "      <th>sweep_type</th>\n",
       "      <th>selcoef</th>\n",
       "      <th></th>\n",
       "      <th></th>\n",
       "      <th></th>\n",
       "      <th></th>\n",
       "    </tr>\n",
       "  </thead>\n",
       "  <tbody>\n",
       "    <tr>\n",
       "      <th rowspan=\"6\" valign=\"top\">0.5100</th>\n",
       "      <th rowspan=\"2\" valign=\"top\">complete</th>\n",
       "      <th>0.01</th>\n",
       "      <td>0.084132</td>\n",
       "      <td>0.073522</td>\n",
       "      <td>0.092141</td>\n",
       "      <td>0.0</td>\n",
       "    </tr>\n",
       "    <tr>\n",
       "      <th>0.10</th>\n",
       "      <td>0.218713</td>\n",
       "      <td>0.171501</td>\n",
       "      <td>0.255632</td>\n",
       "      <td>1.0</td>\n",
       "    </tr>\n",
       "    <tr>\n",
       "      <th rowspan=\"2\" valign=\"top\">episode</th>\n",
       "      <th>0.01</th>\n",
       "      <td>0.011003</td>\n",
       "      <td>0.000000</td>\n",
       "      <td>0.028743</td>\n",
       "      <td>0.0</td>\n",
       "    </tr>\n",
       "    <tr>\n",
       "      <th>0.02</th>\n",
       "      <td>0.015494</td>\n",
       "      <td>0.000000</td>\n",
       "      <td>0.045715</td>\n",
       "      <td>0.0</td>\n",
       "    </tr>\n",
       "    <tr>\n",
       "      <th rowspan=\"2\" valign=\"top\">partial</th>\n",
       "      <th>0.01</th>\n",
       "      <td>0.086153</td>\n",
       "      <td>0.074457</td>\n",
       "      <td>0.094629</td>\n",
       "      <td>0.0</td>\n",
       "    </tr>\n",
       "    <tr>\n",
       "      <th>0.10</th>\n",
       "      <td>0.219237</td>\n",
       "      <td>0.182915</td>\n",
       "      <td>0.263641</td>\n",
       "      <td>1.0</td>\n",
       "    </tr>\n",
       "    <tr>\n",
       "      <th rowspan=\"6\" valign=\"top\">0.6525</th>\n",
       "      <th rowspan=\"2\" valign=\"top\">complete</th>\n",
       "      <th>0.01</th>\n",
       "      <td>0.072081</td>\n",
       "      <td>0.052676</td>\n",
       "      <td>0.086078</td>\n",
       "      <td>0.0</td>\n",
       "    </tr>\n",
       "    <tr>\n",
       "      <th>0.10</th>\n",
       "      <td>0.200823</td>\n",
       "      <td>0.183552</td>\n",
       "      <td>0.217290</td>\n",
       "      <td>1.0</td>\n",
       "    </tr>\n",
       "    <tr>\n",
       "      <th rowspan=\"2\" valign=\"top\">episode</th>\n",
       "      <th>0.01</th>\n",
       "      <td>0.008757</td>\n",
       "      <td>0.000000</td>\n",
       "      <td>0.029098</td>\n",
       "      <td>0.0</td>\n",
       "    </tr>\n",
       "    <tr>\n",
       "      <th>0.02</th>\n",
       "      <td>0.004491</td>\n",
       "      <td>0.000000</td>\n",
       "      <td>0.030689</td>\n",
       "      <td>0.0</td>\n",
       "    </tr>\n",
       "    <tr>\n",
       "      <th rowspan=\"2\" valign=\"top\">partial</th>\n",
       "      <th>0.01</th>\n",
       "      <td>0.076497</td>\n",
       "      <td>0.059076</td>\n",
       "      <td>0.095696</td>\n",
       "      <td>0.0</td>\n",
       "    </tr>\n",
       "    <tr>\n",
       "      <th>0.10</th>\n",
       "      <td>0.191617</td>\n",
       "      <td>0.166860</td>\n",
       "      <td>0.211321</td>\n",
       "      <td>1.0</td>\n",
       "    </tr>\n",
       "  </tbody>\n",
       "</table>\n",
       "</div>"
      ],
      "text/plain": [
       "                                     mean     lower     upper  ceu_percentile\n",
       "x_auto_ratio sweep_type selcoef                                              \n",
       "0.5100       complete   0.01     0.084132  0.073522  0.092141             0.0\n",
       "                        0.10     0.218713  0.171501  0.255632             1.0\n",
       "             episode    0.01     0.011003  0.000000  0.028743             0.0\n",
       "                        0.02     0.015494  0.000000  0.045715             0.0\n",
       "             partial    0.01     0.086153  0.074457  0.094629             0.0\n",
       "                        0.10     0.219237  0.182915  0.263641             1.0\n",
       "0.6525       complete   0.01     0.072081  0.052676  0.086078             0.0\n",
       "                        0.10     0.200823  0.183552  0.217290             1.0\n",
       "             episode    0.01     0.008757  0.000000  0.029098             0.0\n",
       "                        0.02     0.004491  0.000000  0.030689             0.0\n",
       "             partial    0.01     0.076497  0.059076  0.095696             0.0\n",
       "                        0.10     0.191617  0.166860  0.211321             1.0"
      ]
     },
     "execution_count": 30,
     "metadata": {},
     "output_type": "execute_result"
    }
   ],
   "source": [
    "df = (plot_df\n",
    " .groupby(['x_auto_ratio', 'replication', 'sweep_type', 'selcoef'])\n",
    " .apply(lambda df: (df.nr_swept > 0).sum() / df.nr_swept.size)\n",
    " .to_frame('ech_prop')\n",
    " .reset_index()\n",
    ")\n",
    "(df\n",
    " .groupby(['x_auto_ratio', 'sweep_type', 'selcoef'])\n",
    " .agg(mean = ('ech_prop', np.mean),\n",
    "     lower = ('ech_prop', percentile(0.025)),\n",
    "     upper = ('ech_prop', percentile(0.975)),\n",
    "     ceu_percentile = ('ech_prop', lambda s: (s >= 0.11).sum() / len(s))\n",
    "     )\n",
    ")"
   ]
  },
  {
   "cell_type": "markdown",
   "metadata": {
    "tags": []
   },
   "source": [
    "Proportion of all 100kb haplotypes called as ECH:"
   ]
  },
  {
   "cell_type": "code",
   "execution_count": 31,
   "metadata": {},
   "outputs": [
    {
     "data": {
      "text/html": [
       "<div>\n",
       "<style scoped>\n",
       "    .dataframe tbody tr th:only-of-type {\n",
       "        vertical-align: middle;\n",
       "    }\n",
       "\n",
       "    .dataframe tbody tr th {\n",
       "        vertical-align: top;\n",
       "    }\n",
       "\n",
       "    .dataframe thead th {\n",
       "        text-align: right;\n",
       "    }\n",
       "</style>\n",
       "<table border=\"1\" class=\"dataframe\">\n",
       "  <thead>\n",
       "    <tr style=\"text-align: right;\">\n",
       "      <th></th>\n",
       "      <th></th>\n",
       "      <th></th>\n",
       "      <th>mean</th>\n",
       "      <th>lower</th>\n",
       "      <th>upper</th>\n",
       "    </tr>\n",
       "    <tr>\n",
       "      <th>x_auto_ratio</th>\n",
       "      <th>sweep_type</th>\n",
       "      <th>selcoef</th>\n",
       "      <th></th>\n",
       "      <th></th>\n",
       "      <th></th>\n",
       "    </tr>\n",
       "  </thead>\n",
       "  <tbody>\n",
       "    <tr>\n",
       "      <th rowspan=\"6\" valign=\"top\">0.5100</th>\n",
       "      <th rowspan=\"2\" valign=\"top\">complete</th>\n",
       "      <th>0.01</th>\n",
       "      <td>0.070503</td>\n",
       "      <td>0.060541</td>\n",
       "      <td>0.076102</td>\n",
       "    </tr>\n",
       "    <tr>\n",
       "      <th>0.10</th>\n",
       "      <td>0.188915</td>\n",
       "      <td>0.154339</td>\n",
       "      <td>0.223371</td>\n",
       "    </tr>\n",
       "    <tr>\n",
       "      <th rowspan=\"2\" valign=\"top\">episode</th>\n",
       "      <th>0.01</th>\n",
       "      <td>0.007129</td>\n",
       "      <td>0.000000</td>\n",
       "      <td>0.021054</td>\n",
       "    </tr>\n",
       "    <tr>\n",
       "      <th>0.02</th>\n",
       "      <td>0.009833</td>\n",
       "      <td>0.000000</td>\n",
       "      <td>0.028807</td>\n",
       "    </tr>\n",
       "    <tr>\n",
       "      <th rowspan=\"2\" valign=\"top\">partial</th>\n",
       "      <th>0.01</th>\n",
       "      <td>0.071584</td>\n",
       "      <td>0.062629</td>\n",
       "      <td>0.076497</td>\n",
       "    </tr>\n",
       "    <tr>\n",
       "      <th>0.10</th>\n",
       "      <td>0.187792</td>\n",
       "      <td>0.156958</td>\n",
       "      <td>0.223656</td>\n",
       "    </tr>\n",
       "    <tr>\n",
       "      <th rowspan=\"6\" valign=\"top\">0.6525</th>\n",
       "      <th rowspan=\"2\" valign=\"top\">complete</th>\n",
       "      <th>0.01</th>\n",
       "      <td>0.062763</td>\n",
       "      <td>0.048378</td>\n",
       "      <td>0.072483</td>\n",
       "    </tr>\n",
       "    <tr>\n",
       "      <th>0.10</th>\n",
       "      <td>0.171937</td>\n",
       "      <td>0.151106</td>\n",
       "      <td>0.184902</td>\n",
       "    </tr>\n",
       "    <tr>\n",
       "      <th rowspan=\"2\" valign=\"top\">episode</th>\n",
       "      <th>0.01</th>\n",
       "      <td>0.005404</td>\n",
       "      <td>0.000000</td>\n",
       "      <td>0.019000</td>\n",
       "    </tr>\n",
       "    <tr>\n",
       "      <th>0.02</th>\n",
       "      <td>0.002640</td>\n",
       "      <td>0.000000</td>\n",
       "      <td>0.017869</td>\n",
       "    </tr>\n",
       "    <tr>\n",
       "      <th rowspan=\"2\" valign=\"top\">partial</th>\n",
       "      <th>0.01</th>\n",
       "      <td>0.064168</td>\n",
       "      <td>0.053475</td>\n",
       "      <td>0.076405</td>\n",
       "    </tr>\n",
       "    <tr>\n",
       "      <th>0.10</th>\n",
       "      <td>0.165211</td>\n",
       "      <td>0.140076</td>\n",
       "      <td>0.188512</td>\n",
       "    </tr>\n",
       "  </tbody>\n",
       "</table>\n",
       "</div>"
      ],
      "text/plain": [
       "                                     mean     lower     upper\n",
       "x_auto_ratio sweep_type selcoef                              \n",
       "0.5100       complete   0.01     0.070503  0.060541  0.076102\n",
       "                        0.10     0.188915  0.154339  0.223371\n",
       "             episode    0.01     0.007129  0.000000  0.021054\n",
       "                        0.02     0.009833  0.000000  0.028807\n",
       "             partial    0.01     0.071584  0.062629  0.076497\n",
       "                        0.10     0.187792  0.156958  0.223656\n",
       "0.6525       complete   0.01     0.062763  0.048378  0.072483\n",
       "                        0.10     0.171937  0.151106  0.184902\n",
       "             episode    0.01     0.005404  0.000000  0.019000\n",
       "                        0.02     0.002640  0.000000  0.017869\n",
       "             partial    0.01     0.064168  0.053475  0.076405\n",
       "                        0.10     0.165211  0.140076  0.188512"
      ]
     },
     "execution_count": 31,
     "metadata": {},
     "output_type": "execute_result"
    }
   ],
   "source": [
    "df = (plot_df\n",
    " .groupby(['x_auto_ratio', 'replication', 'sweep_type', 'selcoef'])\n",
    " .apply(lambda df: df.nr_swept.sum()/df.total.sum())\n",
    " .to_frame('ech_prop')\n",
    " .reset_index()\n",
    ")\n",
    "(df\n",
    " .groupby(['x_auto_ratio', 'sweep_type', 'selcoef'])\n",
    " .agg(mean = ('ech_prop', np.mean),\n",
    "     lower = ('ech_prop', percentile(0.025)),\n",
    "     upper = ('ech_prop', percentile(0.975)))\n",
    ")"
   ]
  },
  {
   "cell_type": "markdown",
   "metadata": {},
   "source": [
    "## ECH peaks for X constant recombination rate\n",
    "\n",
    "\n",
    "Load neutral ECH summary for X:"
   ]
  },
  {
   "cell_type": "code",
   "execution_count": 46,
   "metadata": {},
   "outputs": [
    {
     "data": {
      "text/html": [
       "<div>\n",
       "<style scoped>\n",
       "    .dataframe tbody tr th:only-of-type {\n",
       "        vertical-align: middle;\n",
       "    }\n",
       "\n",
       "    .dataframe tbody tr th {\n",
       "        vertical-align: top;\n",
       "    }\n",
       "\n",
       "    .dataframe thead th {\n",
       "        text-align: right;\n",
       "    }\n",
       "</style>\n",
       "<table border=\"1\" class=\"dataframe\">\n",
       "  <thead>\n",
       "    <tr style=\"text-align: right;\">\n",
       "      <th></th>\n",
       "      <th>start</th>\n",
       "      <th>end</th>\n",
       "      <th>nr_swept</th>\n",
       "      <th>total</th>\n",
       "      <th>demography</th>\n",
       "      <th>chrom</th>\n",
       "      <th>size_reduction</th>\n",
       "      <th>rec_rate_per_gen</th>\n",
       "      <th>sweep_start</th>\n",
       "      <th>sweep_type</th>\n",
       "      <th>selcoef</th>\n",
       "      <th>replication</th>\n",
       "      <th>min_clade_percent</th>\n",
       "      <th>prop_swept</th>\n",
       "      <th>x_auto_ratio</th>\n",
       "    </tr>\n",
       "  </thead>\n",
       "  <tbody>\n",
       "    <tr>\n",
       "      <th>0</th>\n",
       "      <td>0</td>\n",
       "      <td>100000</td>\n",
       "      <td>0</td>\n",
       "      <td>140</td>\n",
       "      <td>standard</td>\n",
       "      <td>X</td>\n",
       "      <td>0.87</td>\n",
       "      <td>1.160000e-08</td>\n",
       "      <td>0</td>\n",
       "      <td>nosweep</td>\n",
       "      <td>0.0</td>\n",
       "      <td>14</td>\n",
       "      <td>50</td>\n",
       "      <td>0.0</td>\n",
       "      <td>0.6525</td>\n",
       "    </tr>\n",
       "    <tr>\n",
       "      <th>1</th>\n",
       "      <td>100000</td>\n",
       "      <td>200000</td>\n",
       "      <td>0</td>\n",
       "      <td>140</td>\n",
       "      <td>standard</td>\n",
       "      <td>X</td>\n",
       "      <td>0.87</td>\n",
       "      <td>1.160000e-08</td>\n",
       "      <td>0</td>\n",
       "      <td>nosweep</td>\n",
       "      <td>0.0</td>\n",
       "      <td>14</td>\n",
       "      <td>50</td>\n",
       "      <td>0.0</td>\n",
       "      <td>0.6525</td>\n",
       "    </tr>\n",
       "    <tr>\n",
       "      <th>2</th>\n",
       "      <td>200000</td>\n",
       "      <td>300000</td>\n",
       "      <td>0</td>\n",
       "      <td>140</td>\n",
       "      <td>standard</td>\n",
       "      <td>X</td>\n",
       "      <td>0.87</td>\n",
       "      <td>1.160000e-08</td>\n",
       "      <td>0</td>\n",
       "      <td>nosweep</td>\n",
       "      <td>0.0</td>\n",
       "      <td>14</td>\n",
       "      <td>50</td>\n",
       "      <td>0.0</td>\n",
       "      <td>0.6525</td>\n",
       "    </tr>\n",
       "    <tr>\n",
       "      <th>3</th>\n",
       "      <td>300000</td>\n",
       "      <td>400000</td>\n",
       "      <td>0</td>\n",
       "      <td>140</td>\n",
       "      <td>standard</td>\n",
       "      <td>X</td>\n",
       "      <td>0.87</td>\n",
       "      <td>1.160000e-08</td>\n",
       "      <td>0</td>\n",
       "      <td>nosweep</td>\n",
       "      <td>0.0</td>\n",
       "      <td>14</td>\n",
       "      <td>50</td>\n",
       "      <td>0.0</td>\n",
       "      <td>0.6525</td>\n",
       "    </tr>\n",
       "    <tr>\n",
       "      <th>4</th>\n",
       "      <td>400000</td>\n",
       "      <td>500000</td>\n",
       "      <td>0</td>\n",
       "      <td>140</td>\n",
       "      <td>standard</td>\n",
       "      <td>X</td>\n",
       "      <td>0.87</td>\n",
       "      <td>1.160000e-08</td>\n",
       "      <td>0</td>\n",
       "      <td>nosweep</td>\n",
       "      <td>0.0</td>\n",
       "      <td>14</td>\n",
       "      <td>50</td>\n",
       "      <td>0.0</td>\n",
       "      <td>0.6525</td>\n",
       "    </tr>\n",
       "  </tbody>\n",
       "</table>\n",
       "</div>"
      ],
      "text/plain": [
       "    start     end  nr_swept  total demography chrom  size_reduction  \\\n",
       "0       0  100000         0    140   standard     X            0.87   \n",
       "1  100000  200000         0    140   standard     X            0.87   \n",
       "2  200000  300000         0    140   standard     X            0.87   \n",
       "3  300000  400000         0    140   standard     X            0.87   \n",
       "4  400000  500000         0    140   standard     X            0.87   \n",
       "\n",
       "   rec_rate_per_gen  sweep_start sweep_type  selcoef  replication  \\\n",
       "0      1.160000e-08            0    nosweep      0.0           14   \n",
       "1      1.160000e-08            0    nosweep      0.0           14   \n",
       "2      1.160000e-08            0    nosweep      0.0           14   \n",
       "3      1.160000e-08            0    nosweep      0.0           14   \n",
       "4      1.160000e-08            0    nosweep      0.0           14   \n",
       "\n",
       "   min_clade_percent  prop_swept  x_auto_ratio  \n",
       "0                 50         0.0        0.6525  \n",
       "1                 50         0.0        0.6525  \n",
       "2                 50         0.0        0.6525  \n",
       "3                 50         0.0        0.6525  \n",
       "4                 50         0.0        0.6525  "
      ]
     },
     "execution_count": 46,
     "metadata": {},
     "output_type": "execute_result"
    }
   ],
   "source": [
    "prop_swept_data = (pd.read_hdf(str(ag.steps_dir / 'slim' / 'slim_summary.hdf'))\n",
    "                      .loc[lambda df: (df.chrom == 'X') & (df.rec_mode == 'constrate')]\n",
    "                  )\n",
    "prop_swept_data['min_clade_percent'] = prop_swept_data['min_clade_percent'].astype(int)\n",
    "\n",
    "prop_swept_data['prop_swept'] = prop_swept_data.nr_swept / prop_swept_data.total\n",
    "prop_swept_data['x_auto_ratio'] = prop_swept_data['size_reduction'] * 3 / 4\n",
    "prop_swept_data.head()"
   ]
  },
  {
   "cell_type": "markdown",
   "metadata": {},
   "source": [
    "## Neutral simulations"
   ]
  },
  {
   "cell_type": "markdown",
   "metadata": {},
   "source": [
    "Standard demography:"
   ]
  },
  {
   "cell_type": "markdown",
   "metadata": {},
   "source": [
    "This many replications times 10Mb:"
   ]
  },
  {
   "cell_type": "code",
   "execution_count": 41,
   "metadata": {},
   "outputs": [
    {
     "data": {
      "text/plain": [
       "15"
      ]
     },
     "execution_count": 41,
     "metadata": {},
     "output_type": "execute_result"
    }
   ],
   "source": [
    "prop_swept_data.replication.unique().size"
   ]
  },
  {
   "cell_type": "code",
   "execution_count": 42,
   "metadata": {},
   "outputs": [
    {
     "data": {
      "image/png": "[encoded data removed]",
      "text/plain": [
       "<Figure size 1296x432 with 4 Axes>"
      ]
     },
     "metadata": {
      "image/png": {
       "height": 408,
       "width": 1411
      }
     },
     "output_type": "display_data"
    }
   ],
   "source": [
    "plot_df = prop_swept_data.loc[(prop_swept_data.sweep_type == 'nosweep') & \\\n",
    "                              (prop_swept_data.demography == 'standard') & \\\n",
    "                              (prop_swept_data.min_clade_percent == '50')]\n",
    "\n",
    "with sns.axes_style('ticks'):\n",
    "    g = sns.FacetGrid(plot_df, col='rec_rate_per_gen', row='x_auto_ratio', \n",
    "                      hue='replication', sharex=True, sharey=True, margin_titles=True,\n",
    "                     height=3, aspect=3)\n",
    "    g.map(facet_plot, 'start', 'end', 'prop_swept')\n",
    "\n",
    "    for ax in g.axes.flat:\n",
    "        plt.setp(ax.texts, text=\"\") # remove the original texts, important to do this before setting titles\n",
    "    g.set_titles(row_template = '{row_name}', col_template = '{col_name}')\n",
    "\n",
    "    for ax in g.axes.flat:\n",
    "        ax.set_xlabel('position') # need to set labels manually because the names of facet function are start and end.\n",
    "        ax.set_ylabel('prop ECH')\n",
    "        plt.setp(ax.texts, rotation=\"0\") # remove the original texts, important to do this before setting titles"
   ]
  },
  {
   "cell_type": "markdown",
   "metadata": {},
   "source": [
    "When we compute the probability of obtaining an ECH in the most conservative scenario, we need to take into account that this only applies to a small part of the X."
   ]
  },
  {
   "cell_type": "markdown",
   "metadata": {},
   "source": [
    "Truncated demography:"
   ]
  },
  {
   "cell_type": "code",
   "execution_count": 43,
   "metadata": {},
   "outputs": [],
   "source": [
    "# plot_df = prop_swept_data.loc[(prop_swept_data.sweep_type == 'nosweep') & \\\n",
    "#                               (prop_swept_data.demography == 'truncated')]\n",
    "\n",
    "# with sns.axes_style('whitegrid'):\n",
    "#     g = sns.FacetGrid(plot_df, col='rec_rate_per_gen', row='x_auto_ratio', \n",
    "#                       hue='replication', sharex=True, sharey=True, margin_titles=True,\n",
    "#                      height=2, aspect=3)\n",
    "#     g.map(facet_plot, 'start', 'end', 'prop_swept')\n",
    "\n",
    "#     for ax in g.axes.flat:\n",
    "#         plt.setp(ax.texts, text=\"\") # remove the original texts, important to do this before setting titles\n",
    "#     g.set_titles(row_template = '{row_name}', col_template = '{col_name}')\n",
    "\n",
    "#     for ax in g.axes.flat:\n",
    "#         ax.set_xlabel('position') # need to set labels manually because the names of facet function are start and end.\n",
    "#         ax.set_ylabel('prop ECH')        \n",
    "#         plt.setp(ax.texts, rotation=\"0\") # remove the original texts, important to do this before setting titles"
   ]
  },
  {
   "cell_type": "code",
   "execution_count": 44,
   "metadata": {},
   "outputs": [
    {
     "ename": "ValueError",
     "evalue": "Number of rows must be a positive integer, not 0",
     "output_type": "error",
     "traceback": [
      "\u001b[0;31m---------------------------------------------------------------------------\u001b[0m",
      "\u001b[0;31mValueError\u001b[0m                                Traceback (most recent call last)",
      "\u001b[0;32m<ipython-input-44-59c63221fdbf>\u001b[0m in \u001b[0;36m<module>\u001b[0;34m\u001b[0m\n\u001b[1;32m      7\u001b[0m     g = sns.FacetGrid(plot_df, col='replication', col_wrap=15,\n\u001b[1;32m      8\u001b[0m                       \u001b[0mhue\u001b[0m\u001b[0;34m=\u001b[0m\u001b[0;34m'replication'\u001b[0m\u001b[0;34m,\u001b[0m \u001b[0msharex\u001b[0m\u001b[0;34m=\u001b[0m\u001b[0;32mTrue\u001b[0m\u001b[0;34m,\u001b[0m \u001b[0msharey\u001b[0m\u001b[0;34m=\u001b[0m\u001b[0;32mTrue\u001b[0m\u001b[0;34m,\u001b[0m \u001b[0mmargin_titles\u001b[0m\u001b[0;34m=\u001b[0m\u001b[0;32mTrue\u001b[0m\u001b[0;34m,\u001b[0m\u001b[0;34m\u001b[0m\u001b[0;34m\u001b[0m\u001b[0m\n\u001b[0;32m----> 9\u001b[0;31m                      height=2, aspect=1)\n\u001b[0m\u001b[1;32m     10\u001b[0m     \u001b[0mg\u001b[0m\u001b[0;34m.\u001b[0m\u001b[0mmap\u001b[0m\u001b[0;34m(\u001b[0m\u001b[0mfacet_plot\u001b[0m\u001b[0;34m,\u001b[0m \u001b[0;34m'start'\u001b[0m\u001b[0;34m,\u001b[0m \u001b[0;34m'end'\u001b[0m\u001b[0;34m,\u001b[0m \u001b[0;34m'prop_swept'\u001b[0m\u001b[0;34m)\u001b[0m\u001b[0;34m\u001b[0m\u001b[0;34m\u001b[0m\u001b[0m\n\u001b[1;32m     11\u001b[0m \u001b[0;34m\u001b[0m\u001b[0m\n",
      "\u001b[0;32m~/anaconda3/envs/simons_jupyter/lib/python3.6/site-packages/seaborn/_decorators.py\u001b[0m in \u001b[0;36minner_f\u001b[0;34m(*args, **kwargs)\u001b[0m\n\u001b[1;32m     44\u001b[0m             )\n\u001b[1;32m     45\u001b[0m         \u001b[0mkwargs\u001b[0m\u001b[0;34m.\u001b[0m\u001b[0mupdate\u001b[0m\u001b[0;34m(\u001b[0m\u001b[0;34m{\u001b[0m\u001b[0mk\u001b[0m\u001b[0;34m:\u001b[0m \u001b[0marg\u001b[0m \u001b[0;32mfor\u001b[0m \u001b[0mk\u001b[0m\u001b[0;34m,\u001b[0m \u001b[0marg\u001b[0m \u001b[0;32min\u001b[0m \u001b[0mzip\u001b[0m\u001b[0;34m(\u001b[0m\u001b[0msig\u001b[0m\u001b[0;34m.\u001b[0m\u001b[0mparameters\u001b[0m\u001b[0;34m,\u001b[0m \u001b[0margs\u001b[0m\u001b[0;34m)\u001b[0m\u001b[0;34m}\u001b[0m\u001b[0;34m)\u001b[0m\u001b[0;34m\u001b[0m\u001b[0;34m\u001b[0m\u001b[0m\n\u001b[0;32m---> 46\u001b[0;31m         \u001b[0;32mreturn\u001b[0m \u001b[0mf\u001b[0m\u001b[0;34m(\u001b[0m\u001b[0;34m**\u001b[0m\u001b[0mkwargs\u001b[0m\u001b[0;34m)\u001b[0m\u001b[0;34m\u001b[0m\u001b[0;34m\u001b[0m\u001b[0m\n\u001b[0m\u001b[1;32m     47\u001b[0m     \u001b[0;32mreturn\u001b[0m \u001b[0minner_f\u001b[0m\u001b[0;34m\u001b[0m\u001b[0;34m\u001b[0m\u001b[0m\n\u001b[1;32m     48\u001b[0m \u001b[0;34m\u001b[0m\u001b[0m\n",
      "\u001b[0;32m~/anaconda3/envs/simons_jupyter/lib/python3.6/site-packages/seaborn/axisgrid.py\u001b[0m in \u001b[0;36m__init__\u001b[0;34m(self, data, row, col, hue, col_wrap, sharex, sharey, height, aspect, palette, row_order, col_order, hue_order, hue_kws, dropna, legend_out, despine, margin_titles, xlim, ylim, subplot_kws, gridspec_kws, size)\u001b[0m\n\u001b[1;32m    436\u001b[0m             \u001b[0mn_axes\u001b[0m \u001b[0;34m=\u001b[0m \u001b[0mlen\u001b[0m\u001b[0;34m(\u001b[0m\u001b[0mcol_names\u001b[0m\u001b[0;34m)\u001b[0m\u001b[0;34m\u001b[0m\u001b[0;34m\u001b[0m\u001b[0m\n\u001b[1;32m    437\u001b[0m             \u001b[0maxes\u001b[0m \u001b[0;34m=\u001b[0m \u001b[0mnp\u001b[0m\u001b[0;34m.\u001b[0m\u001b[0mempty\u001b[0m\u001b[0;34m(\u001b[0m\u001b[0mn_axes\u001b[0m\u001b[0;34m,\u001b[0m \u001b[0mobject\u001b[0m\u001b[0;34m)\u001b[0m\u001b[0;34m\u001b[0m\u001b[0;34m\u001b[0m\u001b[0m\n\u001b[0;32m--> 438\u001b[0;31m             \u001b[0maxes\u001b[0m\u001b[0;34m[\u001b[0m\u001b[0;36m0\u001b[0m\u001b[0;34m]\u001b[0m \u001b[0;34m=\u001b[0m \u001b[0mfig\u001b[0m\u001b[0;34m.\u001b[0m\u001b[0madd_subplot\u001b[0m\u001b[0;34m(\u001b[0m\u001b[0mnrow\u001b[0m\u001b[0;34m,\u001b[0m \u001b[0mncol\u001b[0m\u001b[0;34m,\u001b[0m \u001b[0;36m1\u001b[0m\u001b[0;34m,\u001b[0m \u001b[0;34m**\u001b[0m\u001b[0msubplot_kws\u001b[0m\u001b[0;34m)\u001b[0m\u001b[0;34m\u001b[0m\u001b[0;34m\u001b[0m\u001b[0m\n\u001b[0m\u001b[1;32m    439\u001b[0m             \u001b[0;32mif\u001b[0m \u001b[0msharex\u001b[0m\u001b[0;34m:\u001b[0m\u001b[0;34m\u001b[0m\u001b[0;34m\u001b[0m\u001b[0m\n\u001b[1;32m    440\u001b[0m                 \u001b[0msubplot_kws\u001b[0m\u001b[0;34m[\u001b[0m\u001b[0;34m\"sharex\"\u001b[0m\u001b[0;34m]\u001b[0m \u001b[0;34m=\u001b[0m \u001b[0maxes\u001b[0m\u001b[0;34m[\u001b[0m\u001b[0;36m0\u001b[0m\u001b[0;34m]\u001b[0m\u001b[0;34m\u001b[0m\u001b[0;34m\u001b[0m\u001b[0m\n",
      "\u001b[0;32m~/anaconda3/envs/simons_jupyter/lib/python3.6/site-packages/matplotlib/figure.py\u001b[0m in \u001b[0;36madd_subplot\u001b[0;34m(self, *args, **kwargs)\u001b[0m\n\u001b[1;32m   1400\u001b[0m                     \u001b[0;31m# more similar to add_axes.\u001b[0m\u001b[0;34m\u001b[0m\u001b[0;34m\u001b[0m\u001b[0;34m\u001b[0m\u001b[0m\n\u001b[1;32m   1401\u001b[0m                     \u001b[0mself\u001b[0m\u001b[0;34m.\u001b[0m\u001b[0m_axstack\u001b[0m\u001b[0;34m.\u001b[0m\u001b[0mremove\u001b[0m\u001b[0;34m(\u001b[0m\u001b[0max\u001b[0m\u001b[0;34m)\u001b[0m\u001b[0;34m\u001b[0m\u001b[0;34m\u001b[0m\u001b[0m\n\u001b[0;32m-> 1402\u001b[0;31m             \u001b[0max\u001b[0m \u001b[0;34m=\u001b[0m \u001b[0msubplot_class_factory\u001b[0m\u001b[0;34m(\u001b[0m\u001b[0mprojection_class\u001b[0m\u001b[0;34m)\u001b[0m\u001b[0;34m(\u001b[0m\u001b[0mself\u001b[0m\u001b[0;34m,\u001b[0m \u001b[0;34m*\u001b[0m\u001b[0margs\u001b[0m\u001b[0;34m,\u001b[0m \u001b[0;34m**\u001b[0m\u001b[0mkwargs\u001b[0m\u001b[0;34m)\u001b[0m\u001b[0;34m\u001b[0m\u001b[0;34m\u001b[0m\u001b[0m\n\u001b[0m\u001b[1;32m   1403\u001b[0m \u001b[0;34m\u001b[0m\u001b[0m\n\u001b[1;32m   1404\u001b[0m         \u001b[0;32mreturn\u001b[0m \u001b[0mself\u001b[0m\u001b[0;34m.\u001b[0m\u001b[0m_add_axes_internal\u001b[0m\u001b[0;34m(\u001b[0m\u001b[0mkey\u001b[0m\u001b[0;34m,\u001b[0m \u001b[0max\u001b[0m\u001b[0;34m)\u001b[0m\u001b[0;34m\u001b[0m\u001b[0;34m\u001b[0m\u001b[0m\n",
      "\u001b[0;32m~/anaconda3/envs/simons_jupyter/lib/python3.6/site-packages/matplotlib/axes/_subplots.py\u001b[0m in \u001b[0;36m__init__\u001b[0;34m(self, fig, *args, **kwargs)\u001b[0m\n\u001b[1;32m     37\u001b[0m \u001b[0;34m\u001b[0m\u001b[0m\n\u001b[1;32m     38\u001b[0m         \u001b[0mself\u001b[0m\u001b[0;34m.\u001b[0m\u001b[0mfigure\u001b[0m \u001b[0;34m=\u001b[0m \u001b[0mfig\u001b[0m\u001b[0;34m\u001b[0m\u001b[0;34m\u001b[0m\u001b[0m\n\u001b[0;32m---> 39\u001b[0;31m         \u001b[0mself\u001b[0m\u001b[0;34m.\u001b[0m\u001b[0m_subplotspec\u001b[0m \u001b[0;34m=\u001b[0m \u001b[0mSubplotSpec\u001b[0m\u001b[0;34m.\u001b[0m\u001b[0m_from_subplot_args\u001b[0m\u001b[0;34m(\u001b[0m\u001b[0mfig\u001b[0m\u001b[0;34m,\u001b[0m \u001b[0margs\u001b[0m\u001b[0;34m)\u001b[0m\u001b[0;34m\u001b[0m\u001b[0;34m\u001b[0m\u001b[0m\n\u001b[0m\u001b[1;32m     40\u001b[0m         \u001b[0mself\u001b[0m\u001b[0;34m.\u001b[0m\u001b[0mupdate_params\u001b[0m\u001b[0;34m(\u001b[0m\u001b[0;34m)\u001b[0m\u001b[0;34m\u001b[0m\u001b[0;34m\u001b[0m\u001b[0m\n\u001b[1;32m     41\u001b[0m         \u001b[0;31m# _axes_class is set in the subplot_class_factory\u001b[0m\u001b[0;34m\u001b[0m\u001b[0;34m\u001b[0m\u001b[0;34m\u001b[0m\u001b[0m\n",
      "\u001b[0;32m~/anaconda3/envs/simons_jupyter/lib/python3.6/site-packages/matplotlib/gridspec.py\u001b[0m in \u001b[0;36m_from_subplot_args\u001b[0;34m(figure, args)\u001b[0m\n\u001b[1;32m    674\u001b[0m                 \u001b[0mcbook\u001b[0m\u001b[0;34m.\u001b[0m\u001b[0mwarn_deprecated\u001b[0m\u001b[0;34m(\u001b[0m\u001b[0;34m\"3.3\"\u001b[0m\u001b[0;34m,\u001b[0m \u001b[0mmessage\u001b[0m\u001b[0;34m=\u001b[0m\u001b[0mmessage\u001b[0m\u001b[0;34m)\u001b[0m\u001b[0;34m\u001b[0m\u001b[0;34m\u001b[0m\u001b[0m\n\u001b[1;32m    675\u001b[0m                 \u001b[0mrows\u001b[0m\u001b[0;34m,\u001b[0m \u001b[0mcols\u001b[0m \u001b[0;34m=\u001b[0m \u001b[0mmap\u001b[0m\u001b[0;34m(\u001b[0m\u001b[0mint\u001b[0m\u001b[0;34m,\u001b[0m \u001b[0;34m[\u001b[0m\u001b[0mrows\u001b[0m\u001b[0;34m,\u001b[0m \u001b[0mcols\u001b[0m\u001b[0;34m]\u001b[0m\u001b[0;34m)\u001b[0m\u001b[0;34m\u001b[0m\u001b[0;34m\u001b[0m\u001b[0m\n\u001b[0;32m--> 676\u001b[0;31m             \u001b[0mgs\u001b[0m \u001b[0;34m=\u001b[0m \u001b[0mGridSpec\u001b[0m\u001b[0;34m(\u001b[0m\u001b[0mrows\u001b[0m\u001b[0;34m,\u001b[0m \u001b[0mcols\u001b[0m\u001b[0;34m,\u001b[0m \u001b[0mfigure\u001b[0m\u001b[0;34m=\u001b[0m\u001b[0mfigure\u001b[0m\u001b[0;34m)\u001b[0m\u001b[0;34m\u001b[0m\u001b[0;34m\u001b[0m\u001b[0m\n\u001b[0m\u001b[1;32m    677\u001b[0m             \u001b[0;32mif\u001b[0m \u001b[0misinstance\u001b[0m\u001b[0;34m(\u001b[0m\u001b[0mnum\u001b[0m\u001b[0;34m,\u001b[0m \u001b[0mtuple\u001b[0m\u001b[0;34m)\u001b[0m \u001b[0;32mand\u001b[0m \u001b[0mlen\u001b[0m\u001b[0;34m(\u001b[0m\u001b[0mnum\u001b[0m\u001b[0;34m)\u001b[0m \u001b[0;34m==\u001b[0m \u001b[0;36m2\u001b[0m\u001b[0;34m:\u001b[0m\u001b[0;34m\u001b[0m\u001b[0;34m\u001b[0m\u001b[0m\n\u001b[1;32m    678\u001b[0m                 \u001b[0;32mif\u001b[0m \u001b[0;32mnot\u001b[0m \u001b[0mall\u001b[0m\u001b[0;34m(\u001b[0m\u001b[0misinstance\u001b[0m\u001b[0;34m(\u001b[0m\u001b[0mn\u001b[0m\u001b[0;34m,\u001b[0m \u001b[0mIntegral\u001b[0m\u001b[0;34m)\u001b[0m \u001b[0;32mfor\u001b[0m \u001b[0mn\u001b[0m \u001b[0;32min\u001b[0m \u001b[0mnum\u001b[0m\u001b[0;34m)\u001b[0m\u001b[0;34m:\u001b[0m\u001b[0;34m\u001b[0m\u001b[0;34m\u001b[0m\u001b[0m\n",
      "\u001b[0;32m~/anaconda3/envs/simons_jupyter/lib/python3.6/site-packages/matplotlib/gridspec.py\u001b[0m in \u001b[0;36m__init__\u001b[0;34m(self, nrows, ncols, figure, left, bottom, right, top, wspace, hspace, width_ratios, height_ratios)\u001b[0m\n\u001b[1;32m    420\u001b[0m         GridSpecBase.__init__(self, nrows, ncols,\n\u001b[1;32m    421\u001b[0m                               \u001b[0mwidth_ratios\u001b[0m\u001b[0;34m=\u001b[0m\u001b[0mwidth_ratios\u001b[0m\u001b[0;34m,\u001b[0m\u001b[0;34m\u001b[0m\u001b[0;34m\u001b[0m\u001b[0m\n\u001b[0;32m--> 422\u001b[0;31m                               height_ratios=height_ratios)\n\u001b[0m\u001b[1;32m    423\u001b[0m \u001b[0;34m\u001b[0m\u001b[0m\n\u001b[1;32m    424\u001b[0m         \u001b[0;32mif\u001b[0m \u001b[0mself\u001b[0m\u001b[0;34m.\u001b[0m\u001b[0mfigure\u001b[0m \u001b[0;32mis\u001b[0m \u001b[0;32mNone\u001b[0m \u001b[0;32mor\u001b[0m \u001b[0;32mnot\u001b[0m \u001b[0mself\u001b[0m\u001b[0;34m.\u001b[0m\u001b[0mfigure\u001b[0m\u001b[0;34m.\u001b[0m\u001b[0mget_constrained_layout\u001b[0m\u001b[0;34m(\u001b[0m\u001b[0;34m)\u001b[0m\u001b[0;34m:\u001b[0m\u001b[0;34m\u001b[0m\u001b[0;34m\u001b[0m\u001b[0m\n",
      "\u001b[0;32m~/anaconda3/envs/simons_jupyter/lib/python3.6/site-packages/matplotlib/gridspec.py\u001b[0m in \u001b[0;36m__init__\u001b[0;34m(self, nrows, ncols, height_ratios, width_ratios)\u001b[0m\n\u001b[1;32m     47\u001b[0m         \u001b[0;32mif\u001b[0m \u001b[0;32mnot\u001b[0m \u001b[0misinstance\u001b[0m\u001b[0;34m(\u001b[0m\u001b[0mnrows\u001b[0m\u001b[0;34m,\u001b[0m \u001b[0mIntegral\u001b[0m\u001b[0;34m)\u001b[0m \u001b[0;32mor\u001b[0m \u001b[0mnrows\u001b[0m \u001b[0;34m<=\u001b[0m \u001b[0;36m0\u001b[0m\u001b[0;34m:\u001b[0m\u001b[0;34m\u001b[0m\u001b[0;34m\u001b[0m\u001b[0m\n\u001b[1;32m     48\u001b[0m             raise ValueError(\n\u001b[0;32m---> 49\u001b[0;31m                 f\"Number of rows must be a positive integer, not {nrows}\")\n\u001b[0m\u001b[1;32m     50\u001b[0m         \u001b[0;32mif\u001b[0m \u001b[0;32mnot\u001b[0m \u001b[0misinstance\u001b[0m\u001b[0;34m(\u001b[0m\u001b[0mncols\u001b[0m\u001b[0;34m,\u001b[0m \u001b[0mIntegral\u001b[0m\u001b[0;34m)\u001b[0m \u001b[0;32mor\u001b[0m \u001b[0mncols\u001b[0m \u001b[0;34m<=\u001b[0m \u001b[0;36m0\u001b[0m\u001b[0;34m:\u001b[0m\u001b[0;34m\u001b[0m\u001b[0;34m\u001b[0m\u001b[0m\n\u001b[1;32m     51\u001b[0m             raise ValueError(\n",
      "\u001b[0;31mValueError\u001b[0m: Number of rows must be a positive integer, not 0"
     ]
    },
    {
     "data": {
      "text/plain": [
       "<Figure size 2160x0 with 0 Axes>"
      ]
     },
     "metadata": {},
     "output_type": "display_data"
    }
   ],
   "source": [
    "plot_df = prop_swept_data.loc[(prop_swept_data.sweep_type == 'nosweep') & \\\n",
    "                              (prop_swept_data.demography == 'standard') & \\\n",
    "                              (prop_swept_data.rec_rate_per_gen == 4.6e-9) & \\\n",
    "                              (prop_swept_data.x_auto_ratio == 0.48)] \n",
    "\n",
    "with sns.axes_style('white'):\n",
    "    g = sns.FacetGrid(plot_df, col='replication', col_wrap=15,\n",
    "                      hue='replication', sharex=True, sharey=True, margin_titles=True,\n",
    "                      height=2, aspect=1)\n",
    "    g.map(facet_plot, 'start', 'end', 'prop_swept')\n",
    "\n",
    "    for ax in g.axes.flat:\n",
    "        plt.setp(ax.texts, text=\"\") # remove the original texts, important to do this before setting titles\n",
    "    g.set_titles(row_template = '{row_name}', col_template = '{col_name}')\n",
    "\n",
    "    for ax in g.axes.flat:\n",
    "        ax.set_xlabel('position') # need to set labels manually because the names of facet function are start and end.\n",
    "        ax.set_ylabel('prop ECH')        \n",
    "        plt.setp(ax.texts, rotation=\"0\") "
   ]
  },
  {
   "cell_type": "code",
   "execution_count": 17,
   "metadata": {},
   "outputs": [],
   "source": [
    "# plot_df = prop_swept_data.loc[(prop_swept_data.sweep_type == 'nosweep') & \\\n",
    "#                               (prop_swept_data.demography == 'truncated') & \\\n",
    "#                               (prop_swept_data.rec_rate_per_gen == 4.6e-9) & \\\n",
    "#                               (prop_swept_data.x_auto_ratio == 0.48)] \n",
    "\n",
    "# with sns.axes_style('white'):\n",
    "#     g = sns.FacetGrid(plot_df, col='replication', col_wrap=15,\n",
    "#                       hue='replication', sharex=True, sharey=True, margin_titles=True,\n",
    "#                      height=2, aspect=1)\n",
    "#     g.map(facet_plot, 'start', 'end', 'prop_swept')\n",
    "\n",
    "#     for ax in g.axes.flat:\n",
    "#         plt.setp(ax.texts, text=\"\") # remove the original texts, important to do this before setting titles\n",
    "#     g.set_titles(row_template = '{row_name}', col_template = '{col_name}')\n",
    "\n",
    "#     for ax in g.axes.flat:\n",
    "#         ax.set_xlabel('position') # need to set labels manually because the names of facet function are start and end.\n",
    "#         ax.set_ylabel('prop ECH')        \n",
    "#         plt.setp(ax.texts, rotation=\"0\") "
   ]
  },
  {
   "cell_type": "markdown",
   "metadata": {},
   "source": [
    "Load 90% ECH regions"
   ]
  },
  {
   "cell_type": "code",
   "execution_count": 18,
   "metadata": {},
   "outputs": [],
   "source": [
    "extended_peak_regions_90 = pd.read_hdf(ag.results_dir / f'extended_peak_regions_{ech_calling_tag}_90%.hdf')\n",
    "extended_peak_regions_90['chrom'] = 'chrX'"
   ]
  },
  {
   "cell_type": "markdown",
   "metadata": {},
   "source": [
    "### Plots to make for real data and simulations\n",
    "\n",
    "- Proportion of ECH in each individual\n",
    "- Number of peaks that each individual is part of (accounting for whole chrX vs. 10Mb)\n",
    "- Length distribution of ECHs\n",
    "- Proportion of individuals with ECH (where ECHs ca called)"
   ]
  },
  {
   "cell_type": "markdown",
   "metadata": {},
   "source": [
    "### Distribution of ECH peak heights and proportion of ECH across simulations"
   ]
  },
  {
   "cell_type": "code",
   "execution_count": 19,
   "metadata": {},
   "outputs": [],
   "source": [
    "subset_df = prop_swept_data.loc[(prop_swept_data.sweep_type == 'nosweep') & \\\n",
    "                              (prop_swept_data.demography == 'standard')]"
   ]
  },
  {
   "cell_type": "markdown",
   "metadata": {},
   "source": [
    "Proportion of ECH across simulations:"
   ]
  },
  {
   "cell_type": "code",
   "execution_count": 20,
   "metadata": {},
   "outputs": [
    {
     "data": {
      "text/plain": [
       "rec_rate_per_gen  x_auto_ratio\n",
       "4.600000e-09      0.48            0.018060\n",
       "                  0.66            0.001267\n",
       "1.160000e-08      0.48            0.000000\n",
       "                  0.66            0.000000\n",
       "Name: prop_swept, dtype: float64"
      ]
     },
     "execution_count": 20,
     "metadata": {},
     "output_type": "execute_result"
    }
   ],
   "source": [
    "subset_df.groupby(['rec_rate_per_gen', 'x_auto_ratio']).prop_swept.mean()"
   ]
  },
  {
   "cell_type": "markdown",
   "metadata": {},
   "source": [
    "Bootstrap batches of 15 simulations to reproduce ~150Mb X chromosome to get 95% percentile:"
   ]
  },
  {
   "cell_type": "code",
   "execution_count": 21,
   "metadata": {},
   "outputs": [],
   "source": [
    "def bootstrap(df):\n",
    "    return pd.Series([df.iloc[np.random.randint(len(df), size=15)].prop_swept.mean() for _ in range(10000)])\n",
    "\n",
    "df = subset_df.groupby(['rec_rate_per_gen', 'x_auto_ratio']).apply(bootstrap).reset_index()\n",
    "df = df.melt(id_vars=['rec_rate_per_gen', 'x_auto_ratio'])"
   ]
  },
  {
   "cell_type": "code",
   "execution_count": 22,
   "metadata": {},
   "outputs": [],
   "source": [
    "from scipy import stats\n"
   ]
  },
  {
   "cell_type": "code",
   "execution_count": 23,
   "metadata": {},
   "outputs": [
    {
     "data": {
      "text/html": [
       "<div>\n",
       "<style scoped>\n",
       "    .dataframe tbody tr th:only-of-type {\n",
       "        vertical-align: middle;\n",
       "    }\n",
       "\n",
       "    .dataframe tbody tr th {\n",
       "        vertical-align: top;\n",
       "    }\n",
       "\n",
       "    .dataframe thead th {\n",
       "        text-align: right;\n",
       "    }\n",
       "</style>\n",
       "<table border=\"1\" class=\"dataframe\">\n",
       "  <thead>\n",
       "    <tr style=\"text-align: right;\">\n",
       "      <th></th>\n",
       "      <th></th>\n",
       "      <th>mean_prop_swept</th>\n",
       "      <th>quantile_5</th>\n",
       "      <th>quantile_95</th>\n",
       "      <th>prob</th>\n",
       "    </tr>\n",
       "    <tr>\n",
       "      <th>rec_rate_per_gen</th>\n",
       "      <th>x_auto_ratio</th>\n",
       "      <th></th>\n",
       "      <th></th>\n",
       "      <th></th>\n",
       "      <th></th>\n",
       "    </tr>\n",
       "  </thead>\n",
       "  <tbody>\n",
       "    <tr>\n",
       "      <th rowspan=\"2\" valign=\"top\">4.600000e-09</th>\n",
       "      <th>0.48</th>\n",
       "      <td>0.018289</td>\n",
       "      <td>0.0</td>\n",
       "      <td>0.068095</td>\n",
       "      <td>0.0008</td>\n",
       "    </tr>\n",
       "    <tr>\n",
       "      <th>0.66</th>\n",
       "      <td>0.001261</td>\n",
       "      <td>0.0</td>\n",
       "      <td>0.000000</td>\n",
       "      <td>0.0000</td>\n",
       "    </tr>\n",
       "    <tr>\n",
       "      <th rowspan=\"2\" valign=\"top\">1.160000e-08</th>\n",
       "      <th>0.48</th>\n",
       "      <td>0.000000</td>\n",
       "      <td>0.0</td>\n",
       "      <td>0.000000</td>\n",
       "      <td>0.0000</td>\n",
       "    </tr>\n",
       "    <tr>\n",
       "      <th>0.66</th>\n",
       "      <td>0.000000</td>\n",
       "      <td>0.0</td>\n",
       "      <td>0.000000</td>\n",
       "      <td>0.0000</td>\n",
       "    </tr>\n",
       "  </tbody>\n",
       "</table>\n",
       "</div>"
      ],
      "text/plain": [
       "                               mean_prop_swept  quantile_5  quantile_95  \\\n",
       "rec_rate_per_gen x_auto_ratio                                             \n",
       "4.600000e-09     0.48                 0.018289         0.0     0.068095   \n",
       "                 0.66                 0.001261         0.0     0.000000   \n",
       "1.160000e-08     0.48                 0.000000         0.0     0.000000   \n",
       "                 0.66                 0.000000         0.0     0.000000   \n",
       "\n",
       "                                 prob  \n",
       "rec_rate_per_gen x_auto_ratio          \n",
       "4.600000e-09     0.48          0.0008  \n",
       "                 0.66          0.0000  \n",
       "1.160000e-08     0.48          0.0000  \n",
       "                 0.66          0.0000  "
      ]
     },
     "execution_count": 23,
     "metadata": {},
     "output_type": "execute_result"
    }
   ],
   "source": [
    "df.groupby(['rec_rate_per_gen', 'x_auto_ratio']).value.agg(mean_prop_swept=np.mean, \n",
    "                                                           quantile_5=lambda sr: np.quantile(sr, q=0.05),\n",
    "                                                           quantile_95=lambda sr: np.quantile(sr, q=0.95),\n",
    "                                                           prob=lambda sr: 1-stats.percentileofscore(sr, 0.14)/100\n",
    "                                                          )"
   ]
  },
  {
   "cell_type": "markdown",
   "metadata": {},
   "source": [
    "This is what compared to the 14% ECH in the actual data."
   ]
  },
  {
   "cell_type": "markdown",
   "metadata": {},
   "source": [
    "Distribution of peak prop_swept in simulations compared to our observations:"
   ]
  },
  {
   "cell_type": "code",
   "execution_count": 24,
   "metadata": {},
   "outputs": [
    {
     "data": {
      "text/plain": [
       "rec_rate_per_gen  x_auto_ratio\n",
       "4.600000e-09      0.48            0.550510\n",
       "                  0.66            0.489286\n",
       "Name: prop_swept, dtype: float64"
      ]
     },
     "execution_count": 24,
     "metadata": {},
     "output_type": "execute_result"
    }
   ],
   "source": [
    "plot_df = subset_df.groupby(['rec_rate_per_gen', 'x_auto_ratio', 'replication']).prop_swept.max().reset_index().loc[lambda df: df.prop_swept > 0]\n",
    "plot_df.groupby(['rec_rate_per_gen', 'x_auto_ratio']).prop_swept.mean()"
   ]
  },
  {
   "cell_type": "code",
   "execution_count": 25,
   "metadata": {},
   "outputs": [
    {
     "data": {
      "image/png": "[encoded data removed]",
      "text/plain": [
       "<Figure size 216x432 with 2 Axes>"
      ]
     },
     "metadata": {
      "image/png": {
       "height": 419,
       "width": 203
      }
     },
     "output_type": "display_data"
    }
   ],
   "source": [
    "with sns.axes_style('white'):\n",
    "    g = sns.FacetGrid(plot_df, col='rec_rate_per_gen', row='x_auto_ratio',\n",
    "                      sharex=True, sharey=True, margin_titles=True, legend_out=True,\n",
    "                     # height=2, aspect=1\n",
    "                     )\n",
    "    bins = np.linspace(plot_df.prop_swept.min(), 1, 5)\n",
    "#     bins = None\n",
    "    norm_hist = True\n",
    "    kde = False\n",
    "    g.map(sns.distplot, 'prop_swept', kde=kde, norm_hist=norm_hist, bins=bins)\n",
    "    \n",
    "    for ax in g.axes.flat:\n",
    "        sns.distplot(extended_peak_regions_90.peak_prop_swept, ax=ax, color='orange', kde=kde, norm_hist=norm_hist, bins=bins)\n",
    "        ax.axvline(0.29, linestyle='dashed', color='black')\n",
    "    \n",
    "        plt.setp(ax.texts, text=\"\") # remove the original texts, important to do this before setting titles\n",
    "    g.set_titles(row_template = 'X/A ratio: {row_name}', col_template = '{col_name} mM/Mb')"
   ]
  },
  {
   "cell_type": "code",
   "execution_count": 26,
   "metadata": {},
   "outputs": [],
   "source": [
    "subset_df = prop_swept_data.loc[(prop_swept_data.sweep_type == 'nosweep') & \\\n",
    "                              (prop_swept_data.demography == 'truncated')]"
   ]
  },
  {
   "cell_type": "markdown",
   "metadata": {},
   "source": [
    "Proportion of ECH across simulations:"
   ]
  },
  {
   "cell_type": "code",
   "execution_count": 27,
   "metadata": {},
   "outputs": [
    {
     "data": {
      "text/plain": [
       "rec_rate_per_gen  x_auto_ratio\n",
       "4.600000e-09      0.48            0.055467\n",
       "                  0.66            0.005682\n",
       "1.160000e-08      0.48            0.004986\n",
       "                  0.66            0.000154\n",
       "Name: prop_swept, dtype: float64"
      ]
     },
     "execution_count": 27,
     "metadata": {},
     "output_type": "execute_result"
    }
   ],
   "source": [
    "subset_df.groupby(['rec_rate_per_gen', 'x_auto_ratio']).prop_swept.mean()"
   ]
  },
  {
   "cell_type": "markdown",
   "metadata": {},
   "source": [
    "This is what compared to the 14% ECH in the actual data. Given that only a part of the chromosme is as extreme as our regions, the expected prop_swept is between 1% and 5%:"
   ]
  },
  {
   "cell_type": "markdown",
   "metadata": {},
   "source": [
    "Distribution of peak prop_swept in simulations compared to our observations:"
   ]
  },
  {
   "cell_type": "code",
   "execution_count": 28,
   "metadata": {},
   "outputs": [
    {
     "data": {
      "text/plain": [
       "rec_rate_per_gen  x_auto_ratio\n",
       "4.600000e-09      0.48            0.458992\n",
       "                  0.66            0.369048\n",
       "1.160000e-08      0.48            0.374436\n",
       "                  0.66            0.307143\n",
       "Name: prop_swept, dtype: float64"
      ]
     },
     "execution_count": 28,
     "metadata": {},
     "output_type": "execute_result"
    }
   ],
   "source": [
    "plot_df = subset_df.groupby(['rec_rate_per_gen', 'x_auto_ratio', 'replication']).prop_swept.max().reset_index().loc[lambda df: df.prop_swept > 0]\n",
    "plot_df.groupby(['rec_rate_per_gen', 'x_auto_ratio']).prop_swept.mean()"
   ]
  },
  {
   "cell_type": "code",
   "execution_count": 29,
   "metadata": {},
   "outputs": [
    {
     "data": {
      "image/png": "[encoded data removed]",
      "text/plain": [
       "<Figure size 432x432 with 4 Axes>"
      ]
     },
     "metadata": {
      "image/png": {
       "height": 419,
       "width": 419
      }
     },
     "output_type": "display_data"
    }
   ],
   "source": [
    "with sns.axes_style('white'):\n",
    "    g = sns.FacetGrid(plot_df, col='rec_rate_per_gen', row='x_auto_ratio',\n",
    "                      sharex=True, sharey=True, margin_titles=True,\n",
    "                     # height=2, aspect=1\n",
    "                     )\n",
    "    bins = np.linspace(plot_df.prop_swept.min(), 1, 5)\n",
    "#     bins = None\n",
    "    norm_hist = True\n",
    "    kde = False\n",
    "    g.map(sns.distplot, 'prop_swept', kde=kde, norm_hist=norm_hist, bins=bins)\n",
    "    \n",
    "    for ax in g.axes.flat:\n",
    "        sns.distplot(extended_peak_regions_90.peak_prop_swept, ax=ax, color='orange', kde=kde, norm_hist=norm_hist, bins=bins)\n",
    "        ax.axvline(0.29, linestyle='dashed', color='black')\n",
    "    \n",
    "        plt.setp(ax.texts, text=\"\") # remove the original texts, important to do this before setting titles\n",
    "    g.set_titles(row_template = 'X/A ratio: {row_name}', col_template = '{col_name} mM/Mb')"
   ]
  },
  {
   "cell_type": "markdown",
   "metadata": {},
   "source": [
    "## Complete sweeps\n",
    "\n",
    "s = 0.1"
   ]
  },
  {
   "cell_type": "code",
   "execution_count": null,
   "metadata": {},
   "outputs": [],
   "source": [
    "plot_df = prop_swept_data.loc[(prop_swept_data.sweep_type == 'complete') & \\\n",
    "                              (prop_swept_data.demography == 'standard') & \\\n",
    "                              (prop_swept_data.selcoef == 0.1) ]\n",
    "\n",
    "with sns.axes_style('whitegrid'):\n",
    "    g = sns.FacetGrid(plot_df, col='rec_rate_per_gen', row='x_auto_ratio', \n",
    "                      hue='replication', sharex=True, sharey=True, margin_titles=True,\n",
    "                     height=2, aspect=3)\n",
    "    g.map(facet_plot, 'start', 'end', 'prop_swept')\n",
    "\n",
    "    for ax in g.axes.flat:\n",
    "        plt.setp(ax.texts, text=\"\") # remove the original texts, important to do this before setting titles\n",
    "    g.set_titles(row_template = '{row_name}', col_template = '{col_name}')\n",
    "\n",
    "    for ax in g.axes.flat:\n",
    "        ax.set_xlabel('position') # need to set labels manually because the names of facet function are start and end.\n",
    "        ax.set_ylabel('prop ECH')        \n",
    "        plt.setp(ax.texts, rotation=\"0\") # remove the original texts, important to do this before setting titles"
   ]
  },
  {
   "cell_type": "markdown",
   "metadata": {},
   "source": [
    "s = 0.01"
   ]
  },
  {
   "cell_type": "code",
   "execution_count": null,
   "metadata": {},
   "outputs": [],
   "source": [
    "plot_df = prop_swept_data.loc[(prop_swept_data.sweep_type == 'complete') & \\\n",
    "                              (prop_swept_data.demography == 'standard') & \\\n",
    "                              (prop_swept_data.selcoef == 0.01) ]\n",
    "\n",
    "with sns.axes_style('whitegrid'):\n",
    "    g = sns.FacetGrid(plot_df, col='rec_rate_per_gen', row='x_auto_ratio', \n",
    "                      hue='replication', sharex=True, sharey=True, margin_titles=True,\n",
    "                     height=2, aspect=3)\n",
    "    g.map(facet_plot, 'start', 'end', 'prop_swept')\n",
    "\n",
    "    for ax in g.axes.flat:\n",
    "        plt.setp(ax.texts, text=\"\") # remove the original texts, important to do this before setting titles\n",
    "    g.set_titles(row_template = '{row_name}', col_template = '{col_name}')\n",
    "\n",
    "    for ax in g.axes.flat:\n",
    "        ax.set_xlabel('position') # need to set labels manually because the names of facet function are start and end.\n",
    "        ax.set_ylabel('prop ECH')        \n",
    "        plt.setp(ax.texts, rotation=\"0\") # remove the original texts, important to do this before setting titles"
   ]
  },
  {
   "cell_type": "markdown",
   "metadata": {},
   "source": [
    "## Partial sweeps\n",
    "\n",
    "s = 0.1"
   ]
  },
  {
   "cell_type": "code",
   "execution_count": null,
   "metadata": {},
   "outputs": [],
   "source": [
    "plot_df = prop_swept_data.loc[(prop_swept_data.sweep_type == 'partial') & \\\n",
    "                              (prop_swept_data.demography == 'standard') & \\\n",
    "                              (prop_swept_data.selcoef == 0.1) ]\n",
    "\n",
    "with sns.axes_style('whitegrid'):\n",
    "    g = sns.FacetGrid(plot_df, col='rec_rate_per_gen', row='x_auto_ratio', \n",
    "                      hue='replication', sharex=True, sharey=True, margin_titles=True,\n",
    "                     height=2, aspect=3)\n",
    "    g.map(facet_plot, 'start', 'end', 'prop_swept')\n",
    "\n",
    "    for ax in g.axes.flat:\n",
    "        plt.setp(ax.texts, text=\"\") # remove the original texts, important to do this before setting titles\n",
    "    g.set_titles(row_template = '{row_name}', col_template = '{col_name}')\n",
    "\n",
    "    for ax in g.axes.flat:\n",
    "        ax.set_xlabel('position') # need to set labels manually because the names of facet function are start and end.\n",
    "        ax.set_ylabel('prop ECH')        \n",
    "        plt.setp(ax.texts, rotation=\"0\") # remove the original texts, important to do this before setting titles"
   ]
  },
  {
   "cell_type": "markdown",
   "metadata": {},
   "source": [
    "s = 0.01"
   ]
  },
  {
   "cell_type": "code",
   "execution_count": null,
   "metadata": {},
   "outputs": [],
   "source": [
    "plot_df = prop_swept_data.loc[(prop_swept_data.sweep_type == 'partial') & \\\n",
    "                              (prop_swept_data.demography == 'standard') & \\\n",
    "                              (prop_swept_data.selcoef == 0.01) ]\n",
    "\n",
    "with sns.axes_style('whitegrid'):\n",
    "    g = sns.FacetGrid(plot_df, col='rec_rate_per_gen', row='x_auto_ratio', \n",
    "                      hue='replication', sharex=True, sharey=True, margin_titles=True,\n",
    "                     height=2, aspect=3)\n",
    "    g.map(facet_plot, 'start', 'end', 'prop_swept')\n",
    "\n",
    "    for ax in g.axes.flat:\n",
    "        plt.setp(ax.texts, text=\"\") # remove the original texts, important to do this before setting titles\n",
    "    g.set_titles(row_template = '{row_name}', col_template = '{col_name}')\n",
    "\n",
    "    for ax in g.axes.flat:\n",
    "        ax.set_xlabel('position') # need to set labels manually because the names of facet function are start and end.\n",
    "        ax.set_ylabel('prop ECH')        \n",
    "        plt.setp(ax.texts, rotation=\"0\") # remove the original texts, important to do this before setting titles"
   ]
  },
  {
   "cell_type": "markdown",
   "metadata": {},
   "source": [
    "-----"
   ]
  },
  {
   "cell_type": "code",
   "execution_count": null,
   "metadata": {},
   "outputs": [],
   "source": [
    "with sns.axes_style('whitegrid'):\n",
    "#     g = sns.FacetGrid(prop_swept_data, col='simulation', row='selection_coef', \n",
    "    g = sns.FacetGrid(prop_swept_data.loc[prop_swept_data.simulation.str.startswith('standard_40_4650')],\n",
    "                      col='selection_coef', row='simulation', \n",
    "                      hue='replication', sharex=True, sharey=True, margin_titles=True,\n",
    "                     height=3, aspect=5)\n",
    "    g.map(facet_plot, 'start', 'end', 'prop_swept')\n",
    "\n",
    "    for ax in g.axes.flat:\n",
    "        plt.setp(ax.texts, text=\"\") # remove the original texts, important to do this before setting titles\n",
    "    g.set_titles(row_template = '{row_name}', col_template = '{col_name}')\n",
    "\n",
    "    for ax in g.axes.flat:\n",
    "        plt.setp(ax.texts, rotation=\"0\") # remove the original texts, important to do this before setting titles\n",
    "\n"
   ]
  },
  {
   "cell_type": "code",
   "execution_count": null,
   "metadata": {},
   "outputs": [],
   "source": [
    "prop_swept_data.simulation.unique()"
   ]
  },
  {
   "cell_type": "code",
   "execution_count": null,
   "metadata": {},
   "outputs": [],
   "source": [
    "def facet_plot(start, end, prop_swept, **kwargs):\n",
    "    x = [j for i in zip(start, end) for j in i]\n",
    "    y = [j for i in zip(prop_swept, prop_swept) for j in i]      \n",
    "    plt.plot(x, y, color='black', linewidth=0.2)\n",
    "#    plt.plot(x, y, linewidth=0.2, **kwargs)\n",
    "    plt.ylim((0, 1))\n",
    "    plt.fill_between(x, 0, y, color='gray', alpha=0.5)\n",
    "\n",
    "with sns.axes_style('whitegrid'):\n",
    "#     g = sns.FacetGrid(prop_swept_data, col='simulation', row='selection_coef', \n",
    "    g = sns.FacetGrid(prop_swept_data.loc[prop_swept_data.simulation.isin(['standard_55_4650_X_nosweep_98275',\n",
    "                                                                          'standard_40_4650_X_nosweep_98275',\n",
    "                                                                          'standard_48_4650_X_nosweep_98275',\n",
    "                                                                          'standard_66_4650_X_nosweep_98275'])],\n",
    "                      col='replication', row='simulation', sharex=True, sharey=True, margin_titles=True,\n",
    "                     height=4, aspect=0.5)\n",
    "    g.map(facet_plot, 'start', 'end', 'prop_swept')\n",
    "\n",
    "    for ax in g.axes.flat:\n",
    "        plt.setp(ax.texts, text=\"\") # remove the original texts, important to do this before setting titles\n",
    "    g.set_titles(row_template = '{row_name}', col_template = '{col_name}')\n",
    "\n",
    "    for ax in g.axes.flat:\n",
    "        plt.setp(ax.texts, rotation=\"0\") # remove the original texts, important to do this before setting titles\n",
    "\n"
   ]
  },
  {
   "cell_type": "markdown",
   "metadata": {},
   "source": [
    "#  Old code for comparing autosomal SFS and LD simulations to simons data\n",
    "\n",
    "## Mean pairwise differences"
   ]
  },
  {
   "cell_type": "code",
   "execution_count": 9,
   "metadata": {},
   "outputs": [
    {
     "name": "stdout",
     "output_type": "stream",
     "text": [
      "constrec\n"
     ]
    }
   ],
   "source": [
    "! ls ../steps/slim/simulations/standard/100/"
   ]
  },
  {
   "cell_type": "code",
   "execution_count": 10,
   "metadata": {},
   "outputs": [
    {
     "data": {
      "text/plain": [
       "0.0007371296258503402"
      ]
     },
     "execution_count": 10,
     "metadata": {},
     "output_type": "execute_result"
    }
   ],
   "source": [
    "dir_path = ag.root_dir / 'steps/slim/simulations/standard/100/constrec/11300/A/nosweep/0/0/'\n",
    "means = list()\n",
    "for path in dir_path.iterdir():\n",
    "#     if path.name.endswith('0_0_0.hdf'):\n",
    "    if re.search(r'\\d+.hdf$', path.name):\n",
    "        df = pd.read_hdf(path)\n",
    "        means.append(df.dist.mean())\n",
    "np.mean(means)"
   ]
  },
  {
   "cell_type": "markdown",
   "metadata": {},
   "source": [
    "This should match autosome pi of observed data computed in previous notebook"
   ]
  },
  {
   "cell_type": "markdown",
   "metadata": {},
   "source": [
    "## SFS"
   ]
  },
  {
   "cell_type": "markdown",
   "metadata": {},
   "source": [
    "Compute SFS for chromosome 7:"
   ]
  },
  {
   "cell_type": "code",
   "execution_count": 29,
   "metadata": {},
   "outputs": [
    {
     "data": {
      "text/html": [
       "<div>\n",
       "<style scoped>\n",
       "    .dataframe tbody tr th:only-of-type {\n",
       "        vertical-align: middle;\n",
       "    }\n",
       "\n",
       "    .dataframe tbody tr th {\n",
       "        vertical-align: top;\n",
       "    }\n",
       "\n",
       "    .dataframe thead th {\n",
       "        text-align: right;\n",
       "    }\n",
       "</style>\n",
       "<table border=\"1\" class=\"dataframe\">\n",
       "  <thead>\n",
       "    <tr style=\"text-align: right;\">\n",
       "      <th></th>\n",
       "      <th>chrom</th>\n",
       "      <th>pos</th>\n",
       "      <th>n_alleles</th>\n",
       "      <th>n_chr</th>\n",
       "      <th>anc_freq</th>\n",
       "      <th>der_freq</th>\n",
       "    </tr>\n",
       "  </thead>\n",
       "  <tbody>\n",
       "    <tr>\n",
       "      <th>0</th>\n",
       "      <td>7</td>\n",
       "      <td>118084</td>\n",
       "      <td>2</td>\n",
       "      <td>280</td>\n",
       "      <td>0.778571</td>\n",
       "      <td>0.221429</td>\n",
       "    </tr>\n",
       "    <tr>\n",
       "      <th>1</th>\n",
       "      <td>7</td>\n",
       "      <td>118114</td>\n",
       "      <td>2</td>\n",
       "      <td>280</td>\n",
       "      <td>0.307143</td>\n",
       "      <td>0.692857</td>\n",
       "    </tr>\n",
       "    <tr>\n",
       "      <th>2</th>\n",
       "      <td>7</td>\n",
       "      <td>118184</td>\n",
       "      <td>2</td>\n",
       "      <td>280</td>\n",
       "      <td>0.996429</td>\n",
       "      <td>0.003571</td>\n",
       "    </tr>\n",
       "    <tr>\n",
       "      <th>3</th>\n",
       "      <td>7</td>\n",
       "      <td>118232</td>\n",
       "      <td>2</td>\n",
       "      <td>280</td>\n",
       "      <td>0.732143</td>\n",
       "      <td>0.267857</td>\n",
       "    </tr>\n",
       "    <tr>\n",
       "      <th>4</th>\n",
       "      <td>7</td>\n",
       "      <td>118268</td>\n",
       "      <td>2</td>\n",
       "      <td>280</td>\n",
       "      <td>0.989286</td>\n",
       "      <td>0.010714</td>\n",
       "    </tr>\n",
       "  </tbody>\n",
       "</table>\n",
       "</div>"
      ],
      "text/plain": [
       "   chrom     pos  n_alleles  n_chr  anc_freq  der_freq\n",
       "0      7  118084          2    280  0.778571  0.221429\n",
       "1      7  118114          2    280  0.307143  0.692857\n",
       "2      7  118184          2    280  0.996429  0.003571\n",
       "3      7  118232          2    280  0.732143  0.267857\n",
       "4      7  118268          2    280  0.989286  0.010714"
      ]
     },
     "execution_count": 29,
     "metadata": {},
     "output_type": "execute_result"
    }
   ],
   "source": [
    "freq_data_obs = pd.read_csv(ag.root_dir / 'steps/smcpp/vcf/nonafr_analyzed_individuals_chr7_with_aa.frq', sep='\\t',\n",
    "                        skiprows=1, names=['chrom','pos', 'n_alleles', 'n_chr', 'anc_freq', 'der_freq'])\n",
    "freq_data_obs.head()\n",
    "# histogram of frequencies with specified bins"
   ]
  },
  {
   "cell_type": "code",
   "execution_count": 20,
   "metadata": {},
   "outputs": [
    {
     "data": {
      "text/plain": [
       "(0.0, 1.0)"
      ]
     },
     "execution_count": 20,
     "metadata": {},
     "output_type": "execute_result"
    }
   ],
   "source": [
    "freq_data_obs.der_freq.min(), freq_data_obs.der_freq.max() # strange...\n",
    "# maybe it is because I did not recode or soemthing to remove monomorphic sites after subsetting the VCF..."
   ]
  },
  {
   "cell_type": "markdown",
   "metadata": {},
   "source": [
    "Compute SFS for simulations:"
   ]
  },
  {
   "cell_type": "code",
   "execution_count": 21,
   "metadata": {},
   "outputs": [],
   "source": [
    "# use pathlib to glob all freq files\n",
    "path = Path(ag.root_dir / 'steps/slim/simulations/standard/100/11300/A/nosweep')\n",
    "df_list = []\n",
    "for path in path.glob('**/standard*A_nosweep*.frq'):\n",
    "    df = pd.read_csv(path, sep='\\t', header=0, names=['chrom', 'pos', 'n_alleles', 'n_chr', 'anc_freq', 'der_freq'])\n",
    "    df_list.append(df)\n",
    "\n",
    "freq_data_sim = pd.concat(df_list)\n",
    "freq_data_sim.head()"
   ]
  },
  {
   "cell_type": "code",
   "execution_count": 23,
   "metadata": {},
   "outputs": [
    {
     "data": {
      "text/plain": [
       "(0.00714286, 1.0)"
      ]
     },
     "execution_count": 23,
     "metadata": {},
     "output_type": "execute_result"
    }
   ],
   "source": [
    "freq_data_sim.der_freq.min(), freq_data_sim.der_freq.max() # strange...\n",
    "\n",
    "# for each file: read it in, concat result to list of dfs\n",
    "# concat all dfs\n",
    "\n",
    "# histogram of frequencies with specified bins"
   ]
  },
  {
   "cell_type": "code",
   "execution_count": 26,
   "metadata": {},
   "outputs": [
    {
     "data": {
      "image/png": "[encoded data removed]",
      "text/plain": [
       "<Figure size 720x288 with 2 Axes>"
      ]
     },
     "metadata": {
      "image/png": {
       "height": 266,
       "width": 595
      }
     },
     "output_type": "display_data"
    }
   ],
   "source": [
    "nbins = 20\n",
    "fig, axes = plt.subplots(1, 2, figsize=(10, 4))\n",
    "axes[0].hist(freq_data_obs.loc[(freq_data_obs.der_freq > 0) & (freq_data_obs.der_freq < 1)].der_freq, \n",
    "         bins=np.linspace(0, 1, nbins), density=True)\n",
    "axes[0].set_title('obs')\n",
    "axes[1].hist(freq_data_sim.loc[(freq_data_sim.der_freq > 0) & (freq_data_sim.der_freq < 1)].der_freq, \n",
    "         bins=np.linspace(0, 1, nbins), density=True)\n",
    "axes[1].set_title('sim')\n",
    "axes[0].set_ylim(top=30)\n",
    "axes[1].set_ylim(top=30)\n",
    "sns.despine()"
   ]
  },
  {
   "cell_type": "code",
   "execution_count": 27,
   "metadata": {},
   "outputs": [
    {
     "data": {
      "image/png": "[encoded data removed]",
      "text/plain": [
       "<Figure size 720x576 with 3 Axes>"
      ]
     },
     "metadata": {
      "image/png": {
       "height": 468,
       "width": 608
      }
     },
     "output_type": "display_data"
    }
   ],
   "source": [
    "freq_data_sim_hist = np.histogram(freq_data_sim.loc[(freq_data_sim.der_freq > 0) & (freq_data_sim.der_freq < 1)].der_freq,\n",
    "             bins=np.linspace(0, 1, nbins), density=True)\n",
    "freq_data_obs_hist = np.histogram(freq_data_obs.loc[(freq_data_obs.der_freq > 0) & (freq_data_obs.der_freq < 1)].der_freq, \n",
    "             bins=np.linspace(0, 1, nbins), density=True)\n",
    "\n",
    "fig, axes = plt.subplots(3, 1, figsize=(10, 8))\n",
    "x = freq_data_obs_hist[1][:-1] + (freq_data_obs_hist[1][1:] - freq_data_obs_hist[1][:-1])/2\n",
    "\n",
    "axes[0].axhline(0, color='black', linestyle='dashed')\n",
    "axes[0].plot(x, freq_data_obs_hist[0])\n",
    "axes[0].plot(x, freq_data_sim_hist[0])\n",
    "axes[0].plot(x, freq_data_obs_hist[0] - freq_data_sim_hist[0])\n",
    "\n",
    "axes[1].axhline(0, color='black', linestyle='dashed')\n",
    "axes[1].plot(x, freq_data_obs_hist[0])\n",
    "axes[1].plot(x, freq_data_sim_hist[0])\n",
    "axes[1].plot(x, freq_data_obs_hist[0] - freq_data_sim_hist[0])\n",
    "axes[1].set_xscale('log')\n",
    "\n",
    "axes[2].plot(x, np.log2(freq_data_obs_hist[0] / freq_data_sim_hist[0]), 'x')\n",
    "axes[2].axhline(0.01, color='black', linestyle='dotted')\n",
    "\n",
    "sns.despine()"
   ]
  },
  {
   "cell_type": "markdown",
   "metadata": {},
   "source": [
    "## LD decay"
   ]
  },
  {
   "cell_type": "markdown",
   "metadata": {},
   "source": [
    "Compute LD decay for chromosome 7:"
   ]
  },
  {
   "cell_type": "code",
   "execution_count": 16,
   "metadata": {},
   "outputs": [],
   "source": [
    "import dask.dataframe as dd"
   ]
  },
  {
   "cell_type": "code",
   "execution_count": 10,
   "metadata": {},
   "outputs": [
    {
     "data": {
      "text/html": [
       "<table style=\"border: 2px solid white;\">\n",
       "<tr>\n",
       "<td style=\"vertical-align: top; border: 0px solid white\">\n",
       "<h3 style=\"text-align: left;\">Client</h3>\n",
       "<ul style=\"text-align: left; list-style: none; margin: 0; padding: 0;\">\n",
       "  <li><b>Scheduler: </b>tcp://127.0.0.1:43172</li>\n",
       "  <li><b>Dashboard: </b><a href='http://127.0.0.1:8787/status' target='_blank'>http://127.0.0.1:8787/status</a></li>\n",
       "</ul>\n",
       "</td>\n",
       "<td style=\"vertical-align: top; border: 0px solid white\">\n",
       "<h3 style=\"text-align: left;\">Cluster</h3>\n",
       "<ul style=\"text-align: left; list-style:none; margin: 0; padding: 0;\">\n",
       "  <li><b>Workers: </b>1</li>\n",
       "  <li><b>Cores: </b>4</li>\n",
       "  <li><b>Memory: </b>16.00 GB</li>\n",
       "</ul>\n",
       "</td>\n",
       "</tr>\n",
       "</table>"
      ],
      "text/plain": [
       "<Client: 'tcp://127.0.0.1:43172' processes=1 threads=4, memory=16.00 GB>"
      ]
     },
     "execution_count": 10,
     "metadata": {},
     "output_type": "execute_result"
    }
   ],
   "source": [
    "from dask.distributed import Client\n",
    "client = Client(n_workers=1, threads_per_worker=4, processes=True, memory_limit='16GB')\n",
    "client"
   ]
  },
  {
   "cell_type": "code",
   "execution_count": 48,
   "metadata": {},
   "outputs": [],
   "source": [
    "# ssh -L8787:s05n16.genomedk.net:8787 kmt@login.genome.au.dk"
   ]
  },
  {
   "cell_type": "code",
   "execution_count": 49,
   "metadata": {},
   "outputs": [],
   "source": [
    "#client.shutdown()\n",
    "# client.close()\n",
    "# client.restart()"
   ]
  },
  {
   "cell_type": "code",
   "execution_count": 50,
   "metadata": {},
   "outputs": [],
   "source": [
    "ld_data_obs = dd.read_csv(ag.root_dir / 'steps/smcpp/vcf/nonafr_analyzed_individuals_chr7_with_aa.geno.ld',\n",
    "                 sep='\\t', header=0, names=['chrom', 'pos1', 'pos2', 'n_indiv', 'r2'])\n",
    "\n",
    "ld_data_obs['dist'] = (ld_data_obs.pos1 - ld_data_obs.pos2).abs().round(-3)"
   ]
  },
  {
   "cell_type": "code",
   "execution_count": 51,
   "metadata": {},
   "outputs": [
    {
     "data": {
      "text/html": [
       "<div>\n",
       "<style scoped>\n",
       "    .dataframe tbody tr th:only-of-type {\n",
       "        vertical-align: middle;\n",
       "    }\n",
       "\n",
       "    .dataframe tbody tr th {\n",
       "        vertical-align: top;\n",
       "    }\n",
       "\n",
       "    .dataframe thead th {\n",
       "        text-align: right;\n",
       "    }\n",
       "</style>\n",
       "<table border=\"1\" class=\"dataframe\">\n",
       "  <thead>\n",
       "    <tr style=\"text-align: right;\">\n",
       "      <th></th>\n",
       "      <th>dist</th>\n",
       "      <th>r2</th>\n",
       "    </tr>\n",
       "  </thead>\n",
       "  <tbody>\n",
       "    <tr>\n",
       "      <th>0</th>\n",
       "      <td>0</td>\n",
       "      <td>0.263952</td>\n",
       "    </tr>\n",
       "    <tr>\n",
       "      <th>1</th>\n",
       "      <td>1000</td>\n",
       "      <td>0.252805</td>\n",
       "    </tr>\n",
       "    <tr>\n",
       "      <th>2</th>\n",
       "      <td>2000</td>\n",
       "      <td>0.241179</td>\n",
       "    </tr>\n",
       "    <tr>\n",
       "      <th>3</th>\n",
       "      <td>3000</td>\n",
       "      <td>0.230312</td>\n",
       "    </tr>\n",
       "    <tr>\n",
       "      <th>4</th>\n",
       "      <td>4000</td>\n",
       "      <td>0.220760</td>\n",
       "    </tr>\n",
       "  </tbody>\n",
       "</table>\n",
       "</div>"
      ],
      "text/plain": [
       "   dist        r2\n",
       "0     0  0.263952\n",
       "1  1000  0.252805\n",
       "2  2000  0.241179\n",
       "3  3000  0.230312\n",
       "4  4000  0.220760"
      ]
     },
     "execution_count": 51,
     "metadata": {},
     "output_type": "execute_result"
    }
   ],
   "source": [
    "ld_data_obs_means = ld_data_obs.groupby('dist').r2.mean().compute().reset_index().sort_values(by='dist')\n",
    "ld_data_obs_means.head()"
   ]
  },
  {
   "cell_type": "code",
   "execution_count": 24,
   "metadata": {},
   "outputs": [
    {
     "data": {
      "text/html": [
       "<div>\n",
       "<style scoped>\n",
       "    .dataframe tbody tr th:only-of-type {\n",
       "        vertical-align: middle;\n",
       "    }\n",
       "\n",
       "    .dataframe tbody tr th {\n",
       "        vertical-align: top;\n",
       "    }\n",
       "\n",
       "    .dataframe thead th {\n",
       "        text-align: right;\n",
       "    }\n",
       "</style>\n",
       "<table border=\"1\" class=\"dataframe\">\n",
       "  <thead>\n",
       "    <tr style=\"text-align: right;\">\n",
       "      <th></th>\n",
       "      <th>dist</th>\n",
       "      <th>r2</th>\n",
       "    </tr>\n",
       "  </thead>\n",
       "  <tbody>\n",
       "    <tr>\n",
       "      <th>0</th>\n",
       "      <td>0</td>\n",
       "      <td>0.329777</td>\n",
       "    </tr>\n",
       "    <tr>\n",
       "      <th>1</th>\n",
       "      <td>1000</td>\n",
       "      <td>0.327516</td>\n",
       "    </tr>\n",
       "    <tr>\n",
       "      <th>2</th>\n",
       "      <td>2000</td>\n",
       "      <td>0.313698</td>\n",
       "    </tr>\n",
       "    <tr>\n",
       "      <th>3</th>\n",
       "      <td>3000</td>\n",
       "      <td>0.301369</td>\n",
       "    </tr>\n",
       "    <tr>\n",
       "      <th>4</th>\n",
       "      <td>4000</td>\n",
       "      <td>0.290355</td>\n",
       "    </tr>\n",
       "  </tbody>\n",
       "</table>\n",
       "</div>"
      ],
      "text/plain": [
       "   dist        r2\n",
       "0     0  0.329777\n",
       "1  1000  0.327516\n",
       "2  2000  0.313698\n",
       "3  3000  0.301369\n",
       "4  4000  0.290355"
      ]
     },
     "execution_count": 24,
     "metadata": {},
     "output_type": "execute_result"
    }
   ],
   "source": [
    "ld_data_obs_eur = dd.read_csv(ag.root_dir / 'steps/smcpp/vcf/nonafr_analyzed_europeans_chr7_with_aa.geno.ld',\n",
    "                 sep='\\t', header=0, names=['chrom', 'pos1', 'pos2', 'n_indiv', 'r2'])\n",
    "\n",
    "ld_data_obs_eur['dist'] = (ld_data_obs_eur.pos1 - ld_data_obs_eur.pos2).abs().round(-3)\n",
    "\n",
    "ld_data_obs_eur_means = ld_data_obs_eur.groupby('dist').r2.mean().compute().reset_index().sort_values(by='dist')\n",
    "ld_data_obs_eur_means.head()"
   ]
  },
  {
   "cell_type": "code",
   "execution_count": 25,
   "metadata": {},
   "outputs": [
    {
     "data": {
      "text/html": [
       "<div>\n",
       "<style scoped>\n",
       "    .dataframe tbody tr th:only-of-type {\n",
       "        vertical-align: middle;\n",
       "    }\n",
       "\n",
       "    .dataframe tbody tr th {\n",
       "        vertical-align: top;\n",
       "    }\n",
       "\n",
       "    .dataframe thead th {\n",
       "        text-align: right;\n",
       "    }\n",
       "</style>\n",
       "<table border=\"1\" class=\"dataframe\">\n",
       "  <thead>\n",
       "    <tr style=\"text-align: right;\">\n",
       "      <th></th>\n",
       "      <th>dist</th>\n",
       "      <th>r2</th>\n",
       "    </tr>\n",
       "  </thead>\n",
       "  <tbody>\n",
       "    <tr>\n",
       "      <th>0</th>\n",
       "      <td>0</td>\n",
       "      <td>0.419400</td>\n",
       "    </tr>\n",
       "    <tr>\n",
       "      <th>1</th>\n",
       "      <td>1000</td>\n",
       "      <td>0.433335</td>\n",
       "    </tr>\n",
       "    <tr>\n",
       "      <th>2</th>\n",
       "      <td>2000</td>\n",
       "      <td>0.421635</td>\n",
       "    </tr>\n",
       "    <tr>\n",
       "      <th>3</th>\n",
       "      <td>3000</td>\n",
       "      <td>0.409062</td>\n",
       "    </tr>\n",
       "    <tr>\n",
       "      <th>4</th>\n",
       "      <td>4000</td>\n",
       "      <td>0.397075</td>\n",
       "    </tr>\n",
       "  </tbody>\n",
       "</table>\n",
       "</div>"
      ],
      "text/plain": [
       "   dist        r2\n",
       "0     0  0.419400\n",
       "1  1000  0.433335\n",
       "2  2000  0.421635\n",
       "3  3000  0.409062\n",
       "4  4000  0.397075"
      ]
     },
     "execution_count": 25,
     "metadata": {},
     "output_type": "execute_result"
    }
   ],
   "source": [
    "ld_data_obs_papuans = dd.read_csv(ag.root_dir / 'steps/smcpp/vcf/nonafr_analyzed_papuans_chr7_with_aa.geno.ld',\n",
    "                 sep='\\t', header=0, names=['chrom', 'pos1', 'pos2', 'n_indiv', 'r2'])\n",
    "\n",
    "ld_data_obs_papuans['dist'] = (ld_data_obs_papuans.pos1 - ld_data_obs_papuans.pos2).abs().round(-3)\n",
    "\n",
    "ld_data_obs_papuans_means = ld_data_obs_papuans.groupby('dist').r2.mean().compute().reset_index().sort_values(by='dist')\n",
    "ld_data_obs_papuans_means.head()"
   ]
  },
  {
   "cell_type": "code",
   "execution_count": 26,
   "metadata": {},
   "outputs": [],
   "source": [
    "#client.shutdown()"
   ]
  },
  {
   "cell_type": "markdown",
   "metadata": {},
   "source": [
    "Compute LD decay for simulations:"
   ]
  },
  {
   "cell_type": "code",
   "execution_count": 15,
   "metadata": {},
   "outputs": [
    {
     "data": {
      "text/html": [
       "<div>\n",
       "<style scoped>\n",
       "    .dataframe tbody tr th:only-of-type {\n",
       "        vertical-align: middle;\n",
       "    }\n",
       "\n",
       "    .dataframe tbody tr th {\n",
       "        vertical-align: top;\n",
       "    }\n",
       "\n",
       "    .dataframe thead th {\n",
       "        text-align: right;\n",
       "    }\n",
       "</style>\n",
       "<table border=\"1\" class=\"dataframe\">\n",
       "  <thead>\n",
       "    <tr style=\"text-align: right;\">\n",
       "      <th></th>\n",
       "      <th>chrom</th>\n",
       "      <th>pos1</th>\n",
       "      <th>pos2</th>\n",
       "      <th>n_chrom</th>\n",
       "      <th>r2</th>\n",
       "      <th>D</th>\n",
       "      <th>Dprime</th>\n",
       "      <th>dist</th>\n",
       "    </tr>\n",
       "  </thead>\n",
       "  <tbody>\n",
       "    <tr>\n",
       "      <th>0</th>\n",
       "      <td>1</td>\n",
       "      <td>26</td>\n",
       "      <td>6328</td>\n",
       "      <td>140</td>\n",
       "      <td>0.011191</td>\n",
       "      <td>0.006224</td>\n",
       "      <td>1.0</td>\n",
       "      <td>6000</td>\n",
       "    </tr>\n",
       "    <tr>\n",
       "      <th>1</th>\n",
       "      <td>1</td>\n",
       "      <td>26</td>\n",
       "      <td>6606</td>\n",
       "      <td>140</td>\n",
       "      <td>0.011858</td>\n",
       "      <td>0.006429</td>\n",
       "      <td>1.0</td>\n",
       "      <td>7000</td>\n",
       "    </tr>\n",
       "    <tr>\n",
       "      <th>2</th>\n",
       "      <td>1</td>\n",
       "      <td>26</td>\n",
       "      <td>8910</td>\n",
       "      <td>140</td>\n",
       "      <td>0.011191</td>\n",
       "      <td>0.006224</td>\n",
       "      <td>1.0</td>\n",
       "      <td>9000</td>\n",
       "    </tr>\n",
       "    <tr>\n",
       "      <th>3</th>\n",
       "      <td>1</td>\n",
       "      <td>26</td>\n",
       "      <td>9419</td>\n",
       "      <td>140</td>\n",
       "      <td>0.011191</td>\n",
       "      <td>0.006224</td>\n",
       "      <td>1.0</td>\n",
       "      <td>9000</td>\n",
       "    </tr>\n",
       "    <tr>\n",
       "      <th>4</th>\n",
       "      <td>1</td>\n",
       "      <td>26</td>\n",
       "      <td>11034</td>\n",
       "      <td>140</td>\n",
       "      <td>0.154589</td>\n",
       "      <td>0.013061</td>\n",
       "      <td>1.0</td>\n",
       "      <td>11000</td>\n",
       "    </tr>\n",
       "  </tbody>\n",
       "</table>\n",
       "</div>"
      ],
      "text/plain": [
       "   chrom  pos1   pos2  n_chrom        r2         D  Dprime   dist\n",
       "0      1    26   6328      140  0.011191  0.006224     1.0   6000\n",
       "1      1    26   6606      140  0.011858  0.006429     1.0   7000\n",
       "2      1    26   8910      140  0.011191  0.006224     1.0   9000\n",
       "3      1    26   9419      140  0.011191  0.006224     1.0   9000\n",
       "4      1    26  11034      140  0.154589  0.013061     1.0  11000"
      ]
     },
     "execution_count": 15,
     "metadata": {},
     "output_type": "execute_result"
    }
   ],
   "source": [
    "glob = str(ag.root_dir) + \\\n",
    "    '/steps/slim/simulations/standard/100/11300/A/nosweep/*/*/standard_100_11300_A_nosweep*.hap.ld'\n",
    "ld_data_sim = dd.read_csv(glob, sep='\\t', header=0, names=['chrom', 'pos1', 'pos2', 'n_chrom', 'r2', 'D', 'Dprime'])\n",
    "ld_data_sim['dist'] = (ld_data_sim.pos1 - ld_data_sim.pos2).abs().round(-3)\n",
    "ld_data_sim.head()"
   ]
  },
  {
   "cell_type": "code",
   "execution_count": 27,
   "metadata": {},
   "outputs": [],
   "source": [
    "ld_data_sim_means = ld_data_sim.groupby('dist').r2.mean().compute().reset_index().sort_values(by='dist')"
   ]
  },
  {
   "cell_type": "code",
   "execution_count": 28,
   "metadata": {},
   "outputs": [
    {
     "data": {
      "text/html": [
       "<div>\n",
       "<style scoped>\n",
       "    .dataframe tbody tr th:only-of-type {\n",
       "        vertical-align: middle;\n",
       "    }\n",
       "\n",
       "    .dataframe tbody tr th {\n",
       "        vertical-align: top;\n",
       "    }\n",
       "\n",
       "    .dataframe thead th {\n",
       "        text-align: right;\n",
       "    }\n",
       "</style>\n",
       "<table border=\"1\" class=\"dataframe\">\n",
       "  <thead>\n",
       "    <tr style=\"text-align: right;\">\n",
       "      <th></th>\n",
       "      <th>dist</th>\n",
       "      <th>r2</th>\n",
       "    </tr>\n",
       "  </thead>\n",
       "  <tbody>\n",
       "    <tr>\n",
       "      <th>0</th>\n",
       "      <td>0</td>\n",
       "      <td>0.368283</td>\n",
       "    </tr>\n",
       "    <tr>\n",
       "      <th>1</th>\n",
       "      <td>1000</td>\n",
       "      <td>0.291747</td>\n",
       "    </tr>\n",
       "    <tr>\n",
       "      <th>2</th>\n",
       "      <td>2000</td>\n",
       "      <td>0.235641</td>\n",
       "    </tr>\n",
       "    <tr>\n",
       "      <th>3</th>\n",
       "      <td>3000</td>\n",
       "      <td>0.201981</td>\n",
       "    </tr>\n",
       "    <tr>\n",
       "      <th>4</th>\n",
       "      <td>4000</td>\n",
       "      <td>0.178394</td>\n",
       "    </tr>\n",
       "  </tbody>\n",
       "</table>\n",
       "</div>"
      ],
      "text/plain": [
       "   dist        r2\n",
       "0     0  0.368283\n",
       "1  1000  0.291747\n",
       "2  2000  0.235641\n",
       "3  3000  0.201981\n",
       "4  4000  0.178394"
      ]
     },
     "execution_count": 28,
     "metadata": {},
     "output_type": "execute_result"
    }
   ],
   "source": [
    "ld_data_sim_means.head()"
   ]
  },
  {
   "cell_type": "code",
   "execution_count": 16,
   "metadata": {},
   "outputs": [],
   "source": [
    "glob = str(ag.root_dir) + \\\n",
    "    '/steps/slim/simulations/standard/100/11300/A/nosweep/*/*/standard_100_11300_A_nosweep*.geno.ld'\n",
    "ld_geno_data_sim = dd.read_csv(glob, sep='\\t', header=0, names=['chrom', 'pos1', 'pos2', 'n_indiv', 'r2'])\n",
    "ld_geno_data_sim['dist'] = (ld_geno_data_sim.pos1 - ld_geno_data_sim.pos2).abs().round(-3)\n",
    "\n",
    "ld_geno_data_sim_means = ld_geno_data_sim.groupby('dist').r2.mean().compute().reset_index().sort_values(by='dist')"
   ]
  },
  {
   "cell_type": "code",
   "execution_count": 17,
   "metadata": {},
   "outputs": [
    {
     "data": {
      "text/html": [
       "<div>\n",
       "<style scoped>\n",
       "    .dataframe tbody tr th:only-of-type {\n",
       "        vertical-align: middle;\n",
       "    }\n",
       "\n",
       "    .dataframe tbody tr th {\n",
       "        vertical-align: top;\n",
       "    }\n",
       "\n",
       "    .dataframe thead th {\n",
       "        text-align: right;\n",
       "    }\n",
       "</style>\n",
       "<table border=\"1\" class=\"dataframe\">\n",
       "  <thead>\n",
       "    <tr style=\"text-align: right;\">\n",
       "      <th></th>\n",
       "      <th>dist</th>\n",
       "      <th>r2</th>\n",
       "    </tr>\n",
       "  </thead>\n",
       "  <tbody>\n",
       "    <tr>\n",
       "      <th>0</th>\n",
       "      <td>0</td>\n",
       "      <td>0.310287</td>\n",
       "    </tr>\n",
       "    <tr>\n",
       "      <th>1</th>\n",
       "      <td>1000</td>\n",
       "      <td>0.246588</td>\n",
       "    </tr>\n",
       "    <tr>\n",
       "      <th>2</th>\n",
       "      <td>2000</td>\n",
       "      <td>0.199653</td>\n",
       "    </tr>\n",
       "    <tr>\n",
       "      <th>3</th>\n",
       "      <td>3000</td>\n",
       "      <td>0.173232</td>\n",
       "    </tr>\n",
       "    <tr>\n",
       "      <th>4</th>\n",
       "      <td>4000</td>\n",
       "      <td>0.153783</td>\n",
       "    </tr>\n",
       "  </tbody>\n",
       "</table>\n",
       "</div>"
      ],
      "text/plain": [
       "   dist        r2\n",
       "0     0  0.310287\n",
       "1  1000  0.246588\n",
       "2  2000  0.199653\n",
       "3  3000  0.173232\n",
       "4  4000  0.153783"
      ]
     },
     "execution_count": 17,
     "metadata": {},
     "output_type": "execute_result"
    }
   ],
   "source": [
    "ld_geno_data_sim_means.head()"
   ]
  },
  {
   "cell_type": "code",
   "execution_count": 21,
   "metadata": {},
   "outputs": [
    {
     "data": {
      "image/png": "[encoded data removed]",
      "text/plain": [
       "<Figure size 720x360 with 1 Axes>"
      ]
     },
     "metadata": {
      "image/png": {
       "height": 321,
       "width": 617
      }
     },
     "output_type": "display_data"
    }
   ],
   "source": [
    "plt.figure(figsize=(10,5))\n",
    "plt.plot(ld_data_obs_means.dist, ld_data_obs_means.r2, '-', label='All non-African samples')\n",
    "plt.plot(ld_data_obs_eur_means.dist, ld_data_obs_eur_means.r2, '-', label='Eur. samples west and north of Istanbul')\n",
    "plt.plot(ld_data_obs_papuans_means.dist, ld_data_obs_papuans_means.r2, '-', label='Papuan samples')\n",
    "plt.plot(ld_data_sim_means.dist, ld_data_sim_means.r2, '--',color='black', label='Simulation')\n",
    "plt.plot(ld_geno_data_sim_means.dist, ld_geno_data_sim_means.r2, '--',color='grey', label='Simulation geno')\n",
    "plt.ylabel('$r^2$')\n",
    "plt.xlabel('bases')\n",
    "#plt.xscale('log')\n",
    "plt.axhline(0.01, color='black', linestyle='dotted', label='Smallest r2 value calculated')\n",
    "#plt.xlim(0, 10000)\n",
    "plt.legend()\n",
    "sns.despine()"
   ]
  },
  {
   "cell_type": "markdown",
   "metadata": {},
   "source": [
    "### What to do?\n",
    "\n",
    "The lower LD propably results from simulated panmixia rather than non-African population structure.\n",
    "\n",
    "In the observed data, structure will tend to maintain LD within populations that is then only disrupted when we come close to the bottleneck.\n",
    "\n",
    "1. Read [Gutenkunst paper](https://academic.oup.com/g3journal/article/7/11/3605/6027516) about inference\n",
    "2. Make an experiment where you know what the LD decay: Try to simulate a few with Terhorst 1000 genomes CEU deomography and compute LD again.\n",
    "3. \n",
    "\n",
    "\n",
    "\n",
    "\n",
    "Maybe use the Terhorst CEU but with out rescaling to fit pi\n",
    "Then simulate with slim\n",
    "Then raise mutation rate in slim to fit observed pi"
   ]
  },
  {
   "cell_type": "code",
   "execution_count": 31,
   "metadata": {},
   "outputs": [
    {
     "ename": "NameError",
     "evalue": "name 'ld_data_obs_means' is not defined",
     "output_type": "error",
     "traceback": [
      "\u001b[0;31m---------------------------------------------------------------------------\u001b[0m",
      "\u001b[0;31mNameError\u001b[0m                                 Traceback (most recent call last)",
      "\u001b[0;32m<ipython-input-31-b182e4bab94a>\u001b[0m in \u001b[0;36m<module>\u001b[0;34m\u001b[0m\n\u001b[0;32m----> 1\u001b[0;31m \u001b[0mld_data_obs_means\u001b[0m\u001b[0;34m.\u001b[0m\u001b[0mto_hdf\u001b[0m\u001b[0;34m(\u001b[0m\u001b[0mag\u001b[0m\u001b[0;34m.\u001b[0m\u001b[0mresults_dir\u001b[0m \u001b[0;34m/\u001b[0m \u001b[0;34m'ld_data_obs_means.hdf'\u001b[0m\u001b[0;34m,\u001b[0m \u001b[0;34m'df'\u001b[0m\u001b[0;34m,\u001b[0m \u001b[0mformat\u001b[0m\u001b[0;34m=\u001b[0m\u001b[0;34m'table'\u001b[0m\u001b[0;34m,\u001b[0m \u001b[0mmode\u001b[0m\u001b[0;34m=\u001b[0m\u001b[0;34m'w'\u001b[0m\u001b[0;34m)\u001b[0m\u001b[0;34m\u001b[0m\u001b[0;34m\u001b[0m\u001b[0m\n\u001b[0m\u001b[1;32m      2\u001b[0m \u001b[0mld_data_obs_eur_means\u001b[0m\u001b[0;34m.\u001b[0m\u001b[0mto_hdf\u001b[0m\u001b[0;34m(\u001b[0m\u001b[0mag\u001b[0m\u001b[0;34m.\u001b[0m\u001b[0mresults_dir\u001b[0m \u001b[0;34m/\u001b[0m \u001b[0;34m'ld_data_obs_eur_means.hdf'\u001b[0m\u001b[0;34m,\u001b[0m \u001b[0;34m'df'\u001b[0m\u001b[0;34m,\u001b[0m \u001b[0mformat\u001b[0m\u001b[0;34m=\u001b[0m\u001b[0;34m'table'\u001b[0m\u001b[0;34m,\u001b[0m \u001b[0mmode\u001b[0m\u001b[0;34m=\u001b[0m\u001b[0;34m'w'\u001b[0m\u001b[0;34m)\u001b[0m\u001b[0;34m\u001b[0m\u001b[0;34m\u001b[0m\u001b[0m\n\u001b[1;32m      3\u001b[0m \u001b[0mld_data_obs_papuans_means\u001b[0m\u001b[0;34m.\u001b[0m\u001b[0mto_hdf\u001b[0m\u001b[0;34m(\u001b[0m\u001b[0mag\u001b[0m\u001b[0;34m.\u001b[0m\u001b[0mresults_dir\u001b[0m \u001b[0;34m/\u001b[0m \u001b[0;34m'ld_data_obs_papuans_means.hdf'\u001b[0m\u001b[0;34m,\u001b[0m \u001b[0;34m'df'\u001b[0m\u001b[0;34m,\u001b[0m \u001b[0mformat\u001b[0m\u001b[0;34m=\u001b[0m\u001b[0;34m'table'\u001b[0m\u001b[0;34m,\u001b[0m \u001b[0mmode\u001b[0m\u001b[0;34m=\u001b[0m\u001b[0;34m'w'\u001b[0m\u001b[0;34m)\u001b[0m\u001b[0;34m\u001b[0m\u001b[0;34m\u001b[0m\u001b[0m\n\u001b[1;32m      4\u001b[0m \u001b[0mld_data_sim_means\u001b[0m\u001b[0;34m.\u001b[0m\u001b[0mto_hdf\u001b[0m\u001b[0;34m(\u001b[0m\u001b[0mag\u001b[0m\u001b[0;34m.\u001b[0m\u001b[0mresults_dir\u001b[0m \u001b[0;34m/\u001b[0m \u001b[0;34m'ld_data_sim_means.hdf'\u001b[0m\u001b[0;34m,\u001b[0m \u001b[0;34m'df'\u001b[0m\u001b[0;34m,\u001b[0m \u001b[0mformat\u001b[0m\u001b[0;34m=\u001b[0m\u001b[0;34m'table'\u001b[0m\u001b[0;34m,\u001b[0m \u001b[0mmode\u001b[0m\u001b[0;34m=\u001b[0m\u001b[0;34m'w'\u001b[0m\u001b[0;34m)\u001b[0m\u001b[0;34m\u001b[0m\u001b[0;34m\u001b[0m\u001b[0m\n",
      "\u001b[0;31mNameError\u001b[0m: name 'ld_data_obs_means' is not defined"
     ]
    }
   ],
   "source": [
    "ld_data_obs_means.to_hdf(ag.results_dir / 'ld_data_obs_means.hdf', 'df', format='table', mode='w')\n",
    "ld_data_obs_eur_means.to_hdf(ag.results_dir / 'ld_data_obs_eur_means.hdf', 'df', format='table', mode='w')\n",
    "ld_data_obs_papuans_means.to_hdf(ag.results_dir / 'ld_data_obs_papuans_means.hdf', 'df', format='table', mode='w')\n",
    "ld_data_sim_means.to_hdf(ag.results_dir / 'ld_data_sim_means.hdf', 'df', format='table', mode='w')\n",
    "ld_data_geno_sim_means.to_hdf(ag.results_dir / 'ld_data_geno_sim_means.hdf', 'df', format='table', mode='w')"
   ]
  },
  {
   "cell_type": "code",
   "execution_count": 18,
   "metadata": {},
   "outputs": [],
   "source": [
    "# ld_data_obs_means = pd.read_hdf(ag.results_dir / 'ld_data_obs_means.hdf')\n",
    "# ld_data_obs_eur_means = pd.read_hdf(ag.results_dir / 'ld_data_obs_eur_means.hdf')\n",
    "# ld_data_obs_papuans_means = pd.read_hdf(ag.results_dir / 'ld_data_obs_papuans_means.hdf')\n",
    "# ld_data_sim_means = pd.read_hdf(ag.results_dir / 'ld_data_sim_means.hdf')"
   ]
  },
  {
   "cell_type": "code",
   "execution_count": null,
   "metadata": {},
   "outputs": [],
   "source": [
    "# use pathlib to glob all LD files\n",
    "# for each file: read it in, round pos to even 1000, groupby rounded distances and compute mean r2 for each group, concat result to list of dfs\n",
    "# concat all dfs\n",
    "# plot decay\n",
    "\n",
    "path = Path(ag.root_dir / 'steps/slim/simulations/standard/100/11300/A/nosweep')\n",
    "df_list = []\n",
    "for path in path.glob('**/standard*A_nosweep*.hap.ld'):\n",
    "    df = pd.read_csv(path, sep='\\t', header=0, names=['chrom', 'pos1', 'pos2', 'n_indiv', 'r2'])\n",
    "    df_list.append(df)\n",
    "\n",
    "freq_data_sim = pd.concat(df_list)\n",
    "\n",
    "ld_data_sim['dist'] = (ld_data_sim.pos1 - ld_data_sim.pos2).abs().round(-3)\n",
    "ld_data_sim.head()"
   ]
  },
  {
   "cell_type": "code",
   "execution_count": null,
   "metadata": {},
   "outputs": [],
   "source": [
    "ld_data_sim_means = ld_data_sim.groupby('dist').r2.mean().reset_index().sort_values(by='dist')"
   ]
  },
  {
   "cell_type": "code",
   "execution_count": null,
   "metadata": {},
   "outputs": [],
   "source": [
    "plot_df = ld_data_sim_means.reset_index()\n",
    "plt.plot(plot_df.dist, plot_df.r2, '-')\n",
    "plt.xscale('log')"
   ]
  },
  {
   "cell_type": "markdown",
   "metadata": {},
   "source": [
    "## TMRCA computations"
   ]
  },
  {
   "cell_type": "code",
   "execution_count": null,
   "metadata": {},
   "outputs": [],
   "source": [
    "# from math import exp\n",
    "\n",
    "# def lamb(i):\n",
    "#     # lamb(i) rate of coalescence from i-1 to i\n",
    "#     i += 1\n",
    "#     return i*(i-1)/2\n",
    "\n",
    "# samples = 5 # total samples\n",
    "# setsize = 3 # size of clade (we want to see at least one such clade coalesce before time t)\n",
    "# t = 1\n",
    "\n",
    "# for n in range(setsize, samples+1):\n",
    "#     # loop from setsize to samples (3 to 5):\n",
    "#     p = 0\n",
    "#     for i in range(1, n):\n",
    "#         # loop from 1 to n-1:\n",
    "#         p += np.prod([lamb(j)/(lamb(j)-lamb(i)) for j in range(1, n) if i != j]) \\\n",
    "#         * exp(-lamb(n)*t) \\\n",
    "#         * (lamb(i)/(lamb(i)-lamb(n))) \\\n",
    "#         * (-exp(-(lamb(i)-lamb(n))*t) + 1)\n",
    "#     # combinatorial expression:\n",
    "#     p *= scipy.misc.comb(n, setsize) / scipy.misc.comb(samples, setsize)\n",
    "# p\n",
    "    \n"
   ]
  },
  {
   "cell_type": "code",
   "execution_count": null,
   "metadata": {},
   "outputs": [],
   "source": [
    "# def lamb(x):\n",
    "#     x += 1\n",
    "#     return x*(x-1)/2\n",
    "\n",
    "\n",
    "# N = 3000\n",
    "# n = 42\n",
    "# t = 1\n",
    "\n",
    "# prob = 0\n",
    "# for i in range(1, n):\n",
    "#     prob += (1 - math.exp(-lamb(i)*t)) * np.prod([lamb(j)/(lamb(j)-lamb(i)) for j in range(1, n) if i != j])\n",
    "# prob * scipy.misc.comb(140, 42)"
   ]
  },
  {
   "cell_type": "code",
   "execution_count": null,
   "metadata": {},
   "outputs": [],
   "source": [
    "#scipy.misc.comb(140, 42)"
   ]
  },
  {
   "cell_type": "code",
   "execution_count": null,
   "metadata": {},
   "outputs": [],
   "source": [
    "#1- math.exp(-lamb(1))"
   ]
  },
  {
   "cell_type": "code",
   "execution_count": null,
   "metadata": {},
   "outputs": [],
   "source": [
    "# def lamb(x):\n",
    "#     return x*(x-1)/2\n",
    "\n",
    "# t = 10\n",
    "# n = 20\n",
    "\n",
    "# prob = 0\n",
    "# for i in range(1, n+1):\n",
    "# #     print([lamb(j)/(lamb(j)-lamb(i)) for j in range(1, n+1) if i != j])\n",
    "#     prob += lamb(i) * math.exp(-lamb(i)*t) * np.prod([lamb(j)/(lamb(j)-lamb(i)) for j in range(1, n+1) if i != j])\n",
    "# prob #* scipy.misc.comb(n, i)"
   ]
  },
  {
   "cell_type": "code",
   "execution_count": null,
   "metadata": {},
   "outputs": [],
   "source": [
    "#lamb(3)"
   ]
  },
  {
   "cell_type": "code",
   "execution_count": null,
   "metadata": {},
   "outputs": [],
   "source": [
    "# import scipy\n",
    "\n",
    "# def coal_n_to_l(n, l, t):\n",
    "#     \"\"\"Prob of reducing n lineages to l in time t\"\"\"\n",
    "#     Q = np.zeros(shape=(n-l+1, n-l+1))\n",
    "#     for x in range(n-l):\n",
    "#         rate = scipy.misc.comb(n-x, 2) / (2 * pop_size)\n",
    "#         Q[x][x] = -rate\n",
    "#         Q[x][x+1] = rate\n",
    "#     return scipy.linalg.expm(Q*t)[0][-1]\n",
    "\n",
    "# def clade_prob(n, l, t, i):\n",
    "#     \"\"\"Prob of one among l lineages being ancestor to i among n\"\"\"\n",
    "# #     if i == 1 or l == 1:\n",
    "# #         return 1\n",
    "# #     else:\n",
    "#     return scipy.misc.comb(n-i-1, l-2) / scipy.misc.comb(n-1, l-1)\n",
    "        \n",
    "# n = 5\n",
    "# t = 36\n",
    "# pop_size = 300\n",
    "# i = 2\n",
    "\n",
    "# total_prop = 0\n",
    "# for l in range(1, n):\n",
    "#     total_prop += coal_n_to_l(n, l, t) * clade_prob(n, l, t, i)\n",
    "# total_prop"
   ]
  },
  {
   "cell_type": "code",
   "execution_count": null,
   "metadata": {},
   "outputs": [],
   "source": [
    "# n = 5\n",
    "# t = 360\n",
    "# pop_size = 30\n",
    "\n",
    "# i = 2\n",
    "\n",
    "# #l = 3\n",
    "\n",
    "# total_prop = 0\n",
    "\n",
    "# for l in [3]:#range(1, n):\n",
    "    \n",
    "#     # probability of having l out of n left at time t\n",
    "#     Q = np.zeros(shape=(n-l+1, n-l+1))\n",
    "#     for x in range(n-l):\n",
    "#         rate = scipy.misc.comb(n-x, 2) / (2 * pop_size)\n",
    "#         Q[x][x] = -rate\n",
    "#         Q[x][x+1] = rate\n",
    "#     prop_coalescences_n_to_l = scipy.linalg.expm(Q*t)[0][-1]\n",
    "#     prop_coalescences_n_to_l\n",
    "\n",
    "    \n",
    "#     if i == 1 or l == 1:\n",
    "#         prop_ancestor_to_i = 1 # CHECK THAT THIS IS OK\n",
    "#     else:\n",
    "#         prop_ancestor_to_i = scipy.misc.comb(n-i-1, l-2) / scipy.misc.comb(n-1, l-1)\n",
    "\n",
    "#     assert prop_ancestor_to_i <= 1, prop_ancestor_to_i\n",
    "\n",
    "#     prob = prop_coalescences_n_to_l * prop_ancestor_to_i\n",
    "\n",
    "#     print(prop_coalescences_n_to_l, prop_ancestor_to_i)\n",
    "\n",
    "#     total_prop += prob\n",
    "# total_prop"
   ]
  },
  {
   "cell_type": "raw",
   "metadata": {},
   "source": [
    "## Not sure what the stuff below is"
   ]
  },
  {
   "cell_type": "raw",
   "metadata": {},
   "source": [
    "df = pd.read_hdf(str(ag.steps_dir / 'slim/simulations/standard/66/4650/X/nosweep/98275/10/standard_66_4650_X_nosweep_98275_10_0.hdf'))\n",
    "\n",
    "plt.hist(df.dist, bins=100, alpha=0.5) ;\n",
    "plt.axvline(5e-5, color='orange', linestyle='dashed') ;\n"
   ]
  },
  {
   "cell_type": "raw",
   "metadata": {},
   "source": [
    "df = pd.read_hdf(str(ag.steps_dir / 'slim/simulations/standard/48/4650/X/nosweep/98275/10/standard_48_4650_X_nosweep_98275_10_0.hdf'))\n",
    "\n",
    "plt.hist(df.dist, bins=100, alpha=0.5) ;\n",
    "plt.axvline(5e-5, color='orange', linestyle='dashed');\n"
   ]
  },
  {
   "cell_type": "raw",
   "metadata": {},
   "source": [
    "# s = 'standard_40_4650_X_nosweep_98275_{}'.format(20)\n",
    "# f_name_tmpl = '/home/kmt/simons/faststorage/people/kmt/steps/slim/simulations/' + s.replace('_', '/') + '/{}_{{}}.hdf'.format(s)\n",
    "# df = pd.read_hdf(f_name_tmpl.format(0))\n",
    "# plt.hist(df.dist, bins=200, alpha=0.5) ;\n",
    "\n",
    "# s = 'standard_40_4650_X_nosweep_98275_{}'.format(20)\n",
    "# f_name_tmpl = '/home/kmt/simons/faststorage/people/kmt/steps/slim/simulations/' + s.replace('_', '/') + '/{}_{{}}.hdf'.format(s)\n",
    "# df = pd.read_hdf(f_name_tmpl.format(0))\n",
    "# plt.hist(df.dist, bins=200, alpha=0.5) ;"
   ]
  },
  {
   "cell_type": "raw",
   "metadata": {},
   "source": [
    "# s = 'nosweep_10000_96551_98965_10000_96206_{}'.format(20)\n",
    "# f_name_tmpl = '/home/kmt/simons/faststorage/people/kmt/steps/slim/simulations/' + s.replace('_', '/') + '/{}_{{}}.hdf'.format(s)\n",
    "# df = pd.read_hdf(f_name_tmpl.format(0))\n",
    "# plt.hist(df.dist, bins=200, alpha=0.5) ;\n",
    "\n",
    "# s = 'nosweep_10000_96551_98965_1000_96206_{}'.format(20)\n",
    "# f_name_tmpl = '/home/kmt/simons/faststorage/people/kmt/steps/slim/simulations/' + s.replace('_', '/') + '/{}_{{}}.hdf'.format(s)\n",
    "# df = pd.read_hdf(f_name_tmpl.format(0))\n",
    "# plt.hist(df.dist, bins=200, alpha=0.5) ;\n",
    "\n",
    "# s = 'nosweep_10000_96954_98563_690_98275_{}'.format(20)\n",
    "# f_name_tmpl = '/home/kmt/simons/faststorage/people/kmt/steps/slim/simulations/' + s.replace('_', '/') + '/{}_{{}}.hdf'.format(s)\n",
    "# df = pd.read_hdf(f_name_tmpl.format(0))\n",
    "# plt.hist(df.dist, bins=200, alpha=0.5) ;\n",
    "\n",
    "# s = 'nosweep_10000_97356_98160_357_99310_{}'.format(20)\n",
    "# f_name_tmpl = '/home/kmt/simons/faststorage/people/kmt/steps/slim/simulations/' + s.replace('_', '/') + '/{}_{{}}.hdf'.format(s)\n",
    "# df = pd.read_hdf(f_name_tmpl.format(0))\n",
    "# plt.hist(df.dist, bins=100, alpha=0.5) ;\n"
   ]
  },
  {
   "cell_type": "raw",
   "metadata": {},
   "source": [
    "\n",
    "\n",
    "s = 'nosweep_10000_3448_5861_10000_5171_{}'.format(20)\n",
    "f_name_tmpl = '/home/kmt/simons/faststorage/people/kmt/steps/slim/simulations/' + s.replace('_', '/') + '/{}_{{}}.hdf'.format(s)\n",
    "df = pd.read_hdf(f_name_tmpl.format(0))\n",
    "plt.hist(df.dist, bins=100, alpha=0.5) ;\n"
   ]
  },
  {
   "cell_type": "raw",
   "metadata": {},
   "source": [
    "s = 'nosweep_10000_3447_5861_1000_3102_{}'.format(20)\n",
    "f_name_tmpl = '/home/kmt/simons/faststorage/people/kmt/steps/slim/simulations/' + s.replace('_', '/') + '/{}_{{}}.hdf'.format(s)\n",
    "df = pd.read_hdf(f_name_tmpl.format(0))\n",
    "plt.hist(df.dist, bins=200, alpha=0.5) ;\n",
    "\n",
    "s = 'nosweep_10000_3448_5861_10000_3102_{}'.format(20)\n",
    "f_name_tmpl = '/home/kmt/simons/faststorage/people/kmt/steps/slim/simulations/' + s.replace('_', '/') + '/{}_{{}}.hdf'.format(s)\n",
    "df = pd.read_hdf(f_name_tmpl.format(0))\n",
    "plt.hist(df.dist, bins=200, alpha=0.5) ;\n"
   ]
  },
  {
   "cell_type": "raw",
   "metadata": {},
   "source": [
    "s = 'nosweep_10000_3447_5861_1000_3102_{}'.format(20)\n",
    "f_name_tmpl = '/home/kmt/simons/faststorage/people/kmt/steps/slim/simulations/' + s.replace('_', '/') + '/{}_{{}}.hdf'.format(s)\n",
    "df = pd.read_hdf(f_name_tmpl.format(0))\n",
    "plt.hist(df.dist, bins=100) ;"
   ]
  },
  {
   "cell_type": "raw",
   "metadata": {},
   "source": [
    "plt.figure(figsize=(10,6))\n",
    "for i in range(10):\n",
    "    plt.subplot(2, 5, i+1)\n",
    "    df = pd.read_hdf(f_name_tmpl.format(i))\n",
    "    plt.hist(df.dist, bins=100)\n",
    "    plt.axvline(5e-5, color='orange', zorder=0)"
   ]
  },
  {
   "cell_type": "raw",
   "metadata": {},
   "source": [
    "import pyslim, msprime, random\n",
    "seed = 7\n",
    "mutation_rate = 1.25e-8\n",
    "sample_size = 100\n",
    "\n",
    "trees = pyslim.load(f_name_tmpl.format(0).replace('.hdf', '.trees'))\n",
    "\n",
    "# Overlay neutral mutations and make bit arrays for each SNP:\n",
    "sample_ids = sorted(random.sample(list(trees.samples()), sample_size))\n",
    "\n",
    "trees_sample = trees.simplify(samples=sample_ids, filter_zero_mutation_sites=True, filter_individuals=True)\n",
    "mutated_trees = msprime.mutate(trees_sample, rate=mutation_rate, random_seed=seed)\n",
    "# mutated.dump(\"./sweep_overlaid.trees\") \n",
    "print(mutated_trees.pairwise_diversity() / mutated_trees.sequence_length)\n",
    "\n",
    "\n",
    "ts = mutated_trees\n",
    "# Measure the tree height at each base position\n",
    "height_for_pos = np.zeros(int(ts.sequence_length))\n",
    "for tree in ts.trees():\n",
    "    mean_height = np.mean([tree.time(root) for root in tree.roots])\n",
    "    left, right = map(int, tree.interval)\n",
    "    height_for_pos[left: right] = mean_height\n",
    "height_for_pos\n",
    "plt.figure(figsize=(10,3))\n",
    "plt.plot(height_for_pos, linewidth=0.5, color='black') ;\n",
    "\n",
    "\n",
    "trees = pyslim.load(f_name_tmpl.format(1).replace('.hdf', '.trees'))\n",
    "\n",
    "# Overlay neutral mutations and make bit arrays for each SNP:\n",
    "sample_ids = sorted(random.sample(list(trees.samples()), sample_size))\n",
    "\n",
    "trees_sample = trees.simplify(samples=sample_ids, filter_zero_mutation_sites=True, filter_individuals=True)\n",
    "mutated_trees = msprime.mutate(trees_sample, rate=mutation_rate, random_seed=seed)\n",
    "# mutated.dump(\"./sweep_overlaid.trees\") \n",
    "print(mutated_trees.pairwise_diversity() / mutated_trees.sequence_length)\n",
    "\n",
    "\n",
    "ts = mutated_trees\n",
    "# Measure the tree height at each base position\n",
    "height_for_pos = np.zeros(int(ts.sequence_length))\n",
    "for tree in ts.trees():\n",
    "    mean_height = np.mean([tree.time(root) for root in tree.roots])\n",
    "    left, right = map(int, tree.interval)\n",
    "    height_for_pos[left: right] = mean_height\n",
    "height_for_pos\n",
    "\n",
    "plt.plot(height_for_pos, linewidth=0.5, color='red') ;\n",
    "\n",
    "\n",
    "\n",
    "\n",
    "\n"
   ]
  },
  {
   "cell_type": "raw",
   "metadata": {},
   "source": []
  },
  {
   "cell_type": "raw",
   "metadata": {},
   "source": []
  },
  {
   "cell_type": "raw",
   "metadata": {},
   "source": []
  },
  {
   "cell_type": "raw",
   "metadata": {},
   "source": [
    "## Run slim testing to get pairwise distances for testing purposes"
   ]
  },
  {
   "cell_type": "raw",
   "metadata": {},
   "source": [
    "from itertools import combinations\n",
    "import argparse\n",
    "import random\n",
    "import subprocess\n",
    "import re, os, sys\n",
    "import tempfile\n",
    "import numpy as np\n",
    "import pandas as pd\n",
    "from pandas import DataFrame\n",
    "import msprime, pyslim\n",
    "\n",
    "trees_file = \"/home/kmt/simons/faststorage/people/kmt/test_slim.trees\"\n",
    "\n",
    "slurm_script = r'''\n",
    "initialize() {\n",
    "\tinitializeTreeSeq();\n",
    "\tinitializeMutationRate(0);\n",
    "\tinitializeMutationType(\"m1\", 0.5, \"f\", 0.0);\n",
    "\tinitializeGenomicElementType(\"g1\", m1, 1.0);\n",
    "\tinitializeGenomicElement(g1, 0, 10e6-1);\n",
    "\tinitializeRecombinationRate(1e-8);\n",
    "}\n",
    "1 {\n",
    "\tdefineConstant(\"simID\", getSeed());\n",
    "\tsim.addSubpop(\"p1\", 10000);\n",
    "}\n",
    "50000 {\n",
    "    sim.treeSeqOutput(\"OUTFILE\");\n",
    "\tsim.simulationFinished();\n",
    "}\n",
    "'''.replace('OUTFILE', trees_file)\n",
    "\n",
    "print(slurm_script)\n",
    "random.seed(7)\n",
    "\n",
    "window_size = 100000\n",
    "\n",
    "# write slim script file with the right output name\n",
    "slurm_script_file = tempfile.NamedTemporaryFile(mode='w', delete=False)\n",
    "slurm_script_file.write(slurm_script)\n",
    "slurm_script_file.close()\n",
    "\n",
    "# run slim\n",
    "cmd = '/home/kmt/simons/faststorage/people/kmt/slim {}'.format(slurm_script_file.name)\n",
    "p = subprocess.Popen(cmd.split(), \n",
    "    stdout=subprocess.PIPE, stderr=subprocess.PIPE)\n",
    "stdout, stderr = p.communicate()\n",
    "print(stdout.decode())\n",
    "print(stderr.decode())"
   ]
  },
  {
   "cell_type": "raw",
   "metadata": {},
   "source": [
    "mutationrate = 4.3e-10\n",
    "generationtime = 29\n",
    "\n",
    "# load trees from slim\n",
    "ts = pyslim.load(trees_file)\n",
    "\n",
    "# overlay mutations\n",
    "mutated_ts = msprime.mutate(ts, rate=mutationrate*generationtime, random_seed=2, keep=True)"
   ]
  },
  {
   "cell_type": "raw",
   "metadata": {},
   "source": [
    "ts = mutated_trees\n",
    "# Measure the tree height at each base position\n",
    "height_for_pos = np.zeros(int(ts.sequence_length))\n",
    "for tree in ts.trees():\n",
    "    mean_height = np.mean([tree.time(root) for root in tree.roots])\n",
    "    left, right = map(int, tree.interval)\n",
    "    height_for_pos[left: right] = mean_height\n",
    "height_for_pos\n",
    "plt.figure(figsize=(10,3))\n",
    "plt.plot(height_for_pos, linewidth=0.5, color='black') ;\n",
    "\n",
    "height_for_pos.mean()"
   ]
  },
  {
   "cell_type": "raw",
   "metadata": {},
   "source": [
    "samples = 10\n",
    "\n",
    "# random indexes for samples\n",
    "sample_idx = set(random.sample(range(ts.num_individuals), samples))\n",
    "assert len(sample_idx) == samples"
   ]
  },
  {
   "cell_type": "raw",
   "metadata": {},
   "source": [
    "# get the corresponding sample haplotypes\n",
    "sample = list()\n",
    "for i, hap in enumerate(mutated_ts.haplotypes()):\n",
    "    if i in sample_idx:\n",
    "        sample.append(hap)        "
   ]
  },
  {
   "cell_type": "raw",
   "metadata": {},
   "source": [
    "        \n",
    "# get the positions of each segregating site\n",
    "positions = [site.position for site in mutated_ts.sites()]  \n",
    "\n",
    "# make table with sampled haplotypes\n",
    "table = np.array([list(map(np.int8, hap)) for hap in sample]).transpose()"
   ]
  },
  {
   "cell_type": "raw",
   "metadata": {},
   "source": [
    "# turn table into dataframe with positions\n",
    "df = DataFrame(table, dtype='int8')\n",
    "df['pos'] = positions"
   ]
  },
  {
   "cell_type": "raw",
   "metadata": {},
   "source": [
    "# add a row with zeros for the start of each window so there is at least\n",
    "# one row in each window\n",
    "zeros = dict((x, 0) for x in range(samples))\n",
    "extra_df = pd.DataFrame({'pos': range(0, int(mutated_ts.sequence_length), window_size), **zeros})\n",
    "df = df.append(extra_df)"
   ]
  },
  {
   "cell_type": "raw",
   "metadata": {},
   "source": [
    "# make a start column grouping all rows in same window\n",
    "df['start'] = ((df.pos // window_size) * window_size).astype('uint32')\n",
    "df.drop('pos', axis=1, inplace=True)\n",
    "df.set_index('start', inplace=True)\n",
    "\n",
    "def pw_dist(df):\n",
    "    \"computes differences bewteen all pairs in a window\"\n",
    "    pairs = list(combinations(df.columns, 2))\n",
    "    site_diffs = [np.bitwise_xor(df[p[0]], df[p[1]]) for p in pairs]\n",
    "    return pd.concat(site_diffs, axis=1, keys=pairs).sum()\n",
    "\n",
    "# make a dataframe with distance for each pair\n",
    "pw_dist_df = (\n",
    "    df\n",
    "    .groupby('start')\n",
    "    .apply(pw_dist)\n",
    "    .reset_index()\n",
    "    .melt(id_vars=['start'], var_name=['indiv_1', 'indiv_2'], value_name='dist')\n",
    "    )"
   ]
  },
  {
   "cell_type": "raw",
   "metadata": {},
   "source": [
    "# compute proper distance as number of diffs divided by window size\n",
    "pw_dist_df['dist'] /= window_size\n",
    "\n",
    "# add end column\n",
    "pw_dist_df.insert(loc=1, column='end', value=pw_dist_df.start + window_size)\n",
    "\n",
    "# convert indiv labels from object to int and and write hdf\n",
    "pw_dist_df['indiv_1'] = pw_dist_df['indiv_1'].astype('uint16')\n",
    "pw_dist_df['indiv_2'] = pw_dist_df['indiv_2'].astype('uint16')\n",
    "#pw_dist_df.to_hdf(args.hdf_file, 'df', format='table', mode='w')"
   ]
  },
  {
   "cell_type": "raw",
   "metadata": {},
   "source": [
    "plt.hist(pw_dist_df.dist) \n",
    "plt.axvline(5e-5, color='orange') ;"
   ]
  },
  {
   "cell_type": "raw",
   "metadata": {},
   "source": []
  }
 ],
 "metadata": {
  "anaconda-cloud": {},
  "kernelspec": {
   "display_name": "Python 3",
   "language": "python",
   "name": "python3"
  },
  "language_info": {
   "codemirror_mode": {
    "name": "ipython",
    "version": 3
   },
   "file_extension": ".py",
   "mimetype": "text/x-python",
   "name": "python",
   "nbconvert_exporter": "python",
   "pygments_lexer": "ipython3",
   "version": "3.6.10"
  }
 },
 "nbformat": 4,
 "nbformat_minor": 4
}
