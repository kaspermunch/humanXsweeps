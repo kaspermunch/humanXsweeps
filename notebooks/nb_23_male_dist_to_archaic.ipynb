{
 "cells": [
  {
   "cell_type": "markdown",
   "metadata": {},
   "source": [
    "# Distance from male X haplotypes to archaic pseudohaploids"
   ]
  },
  {
   "cell_type": "code",
   "execution_count": 1,
   "metadata": {},
   "outputs": [],
   "source": [
    "import re, os, sys, pickle, pickle\n",
    "from pathlib import Path\n",
    "import numpy\n",
    "import pandas\n",
    "from pandas import DataFrame, Series\n",
    "from sklearn.decomposition import PCA\n",
    "\n",
    "# my own libaries\n",
    "from ChromosomeWindows import window\n",
    "import genominterv\n",
    "\n",
    "#from HorizonPlot import horizon_plot\n",
    "\n",
    "numpy.random.seed(7)"
   ]
  },
  {
   "cell_type": "markdown",
   "metadata": {},
   "source": [
    "Plotting setup:"
   ]
  },
  {
   "cell_type": "code",
   "execution_count": 2,
   "metadata": {},
   "outputs": [],
   "source": [
    "%matplotlib inline\n",
    "\n",
    "# Make inline plots vector graphics instead of raster graphics\n",
    "from IPython.display import set_matplotlib_formats\n",
    "#set_matplotlib_formats('pdf', 'svg')\n",
    "set_matplotlib_formats('retina', 'png')\n",
    "\n",
    "import matplotlib\n",
    "import matplotlib.pyplot as plt\n",
    "from matplotlib.colors import ListedColormap\n",
    "from matplotlib.patches import Rectangle\n",
    "from matplotlib.lines import Line2D\n",
    "\n",
    "from mpl_toolkits.basemap import Basemap\n",
    "#matplotlib.rcParams['figure.figsize'] = (20.0, 10.0)\n",
    "\n",
    "import mpld3\n",
    "\n",
    "import seaborn as sns\n",
    "sns.set() # sets seaborn default \"prettyness:\n",
    "sns.set_style(\"whitegrid\")\n",
    "sns.set_context(\"paper\")\n",
    "\n",
    "def stairs(df, start='start', end='end', pos='pos'):\n",
    "    \"Turn a df with start, end into one with pos to plot as stairs\"\n",
    "    df1 = df.copy(deep=True)\n",
    "    df2 = df.copy(deep=True)\n",
    "    df1[pos] = df1[start]\n",
    "    df2[pos] = df2[end]\n",
    "    return pandas.concat([df1, df2]).sort_values([start, end])"
   ]
  },
  {
   "cell_type": "markdown",
   "metadata": {},
   "source": [
    "Ignore deprecation warnings from mainly seaborn:"
   ]
  },
  {
   "cell_type": "code",
   "execution_count": 3,
   "metadata": {},
   "outputs": [],
   "source": [
    "# silence deprecation warnings (lots from seaborn)\n",
    "import warnings\n",
    "warnings.filterwarnings(\"ignore\", category=DeprecationWarning) \n",
    "warnings.filterwarnings(\"ignore\", category=numpy.VisibleDeprecationWarning)\n",
    "warnings.filterwarnings(\"ignore\",category=matplotlib.cbook.mplDeprecation)"
   ]
  },
  {
   "cell_type": "markdown",
   "metadata": {},
   "source": [
    "Import variables global to the entire analysis:"
   ]
  },
  {
   "cell_type": "code",
   "execution_count": 4,
   "metadata": {},
   "outputs": [],
   "source": [
    "import analysis_globals as ag"
   ]
  },
  {
   "cell_type": "markdown",
   "metadata": {},
   "source": [
    "Local code in the scripts dir on the cluster:"
   ]
  },
  {
   "cell_type": "code",
   "execution_count": 5,
   "metadata": {},
   "outputs": [],
   "source": [
    "scripts_dir = ag.root_dir / 'scripts'\n",
    "if str(scripts_dir) not in sys.path:\n",
    "    sys.path.append(str(scripts_dir))\n",
    "\n",
    "import simons_meta_data\n",
    "import hg19_chrom_sizes\n",
    "\n",
    "from toggle_code_and_errors import toggle_code_html, toggle_errors_html"
   ]
  },
  {
   "cell_type": "markdown",
   "metadata": {},
   "source": [
    "## Load meta data"
   ]
  },
  {
   "cell_type": "code",
   "execution_count": 6,
   "metadata": {},
   "outputs": [],
   "source": [
    "# easy loading of meta data in a consistent manner across code\n",
    "individuals, populations, regions = simons_meta_data.get_meta_data(meta_data_dir=ag.meta_data_dir)\n",
    "\n",
    "pop_categories = pandas.read_hdf(str(ag.results_dir / 'population_categories.store'), 'sr')\n",
    "region_categories = pandas.read_hdf(str(ag.results_dir / 'region_categories.store'), 'sr')\n",
    "\n",
    "region_colors = dict(zip(list(region_categories), \n",
    "                         ['#e41a1c', '#377eb8',  '#984ea3', '#4daf4a',\n",
    "                          '#ff7f00', '#ffff33', '#a65628']))\n",
    "\n",
    "chromosome_lengths = dict((k.replace('chr', ''), v) for k, v in hg19_chrom_sizes.hg19_chrom_sizes.items())"
   ]
  },
  {
   "cell_type": "markdown",
   "metadata": {},
   "source": [
    "## Read in distances to archaics for each individual"
   ]
  },
  {
   "cell_type": "code",
   "execution_count": 7,
   "metadata": {},
   "outputs": [
    {
     "data": {
      "text/html": [
       "<div>\n",
       "<style scoped>\n",
       "    .dataframe tbody tr th:only-of-type {\n",
       "        vertical-align: middle;\n",
       "    }\n",
       "\n",
       "    .dataframe tbody tr th {\n",
       "        vertical-align: top;\n",
       "    }\n",
       "\n",
       "    .dataframe thead th {\n",
       "        text-align: right;\n",
       "    }\n",
       "</style>\n",
       "<table border=\"1\" class=\"dataframe\">\n",
       "  <thead>\n",
       "    <tr style=\"text-align: right;\">\n",
       "      <th></th>\n",
       "      <th>chrom</th>\n",
       "      <th>start</th>\n",
       "      <th>end</th>\n",
       "      <th>pop_label</th>\n",
       "      <th>indiv_1</th>\n",
       "      <th>pseud_1</th>\n",
       "      <th>indiv_2</th>\n",
       "      <th>pseud_2</th>\n",
       "      <th>dist</th>\n",
       "      <th>mismatch</th>\n",
       "      <th>match</th>\n",
       "      <th>uncalled</th>\n",
       "      <th>region_label_1</th>\n",
       "      <th>region_id_1</th>\n",
       "      <th>region_1</th>\n",
       "    </tr>\n",
       "  </thead>\n",
       "  <tbody>\n",
       "    <tr>\n",
       "      <th>142600</th>\n",
       "      <td>X</td>\n",
       "      <td>0</td>\n",
       "      <td>100000</td>\n",
       "      <td>NA</td>\n",
       "      <td>B_Dinka-3</td>\n",
       "      <td>A</td>\n",
       "      <td>Altai</td>\n",
       "      <td>A</td>\n",
       "      <td>0.000000</td>\n",
       "      <td>0</td>\n",
       "      <td>281</td>\n",
       "      <td>99719</td>\n",
       "      <td>Africa</td>\n",
       "      <td>0</td>\n",
       "      <td>Africa</td>\n",
       "    </tr>\n",
       "    <tr>\n",
       "      <th>480500</th>\n",
       "      <td>X</td>\n",
       "      <td>0</td>\n",
       "      <td>100000</td>\n",
       "      <td>NA</td>\n",
       "      <td>B_Dinka-3</td>\n",
       "      <td>A</td>\n",
       "      <td>Denisova</td>\n",
       "      <td>B</td>\n",
       "      <td>0.006897</td>\n",
       "      <td>2</td>\n",
       "      <td>288</td>\n",
       "      <td>99710</td>\n",
       "      <td>Africa</td>\n",
       "      <td>0</td>\n",
       "      <td>Africa</td>\n",
       "    </tr>\n",
       "    <tr>\n",
       "      <th>491350</th>\n",
       "      <td>X</td>\n",
       "      <td>0</td>\n",
       "      <td>100000</td>\n",
       "      <td>NA</td>\n",
       "      <td>B_Dinka-3</td>\n",
       "      <td>A</td>\n",
       "      <td>Denisova</td>\n",
       "      <td>A</td>\n",
       "      <td>0.003448</td>\n",
       "      <td>1</td>\n",
       "      <td>289</td>\n",
       "      <td>99710</td>\n",
       "      <td>Africa</td>\n",
       "      <td>0</td>\n",
       "      <td>Africa</td>\n",
       "    </tr>\n",
       "    <tr>\n",
       "      <th>558000</th>\n",
       "      <td>X</td>\n",
       "      <td>0</td>\n",
       "      <td>100000</td>\n",
       "      <td>NA</td>\n",
       "      <td>B_Dinka-3</td>\n",
       "      <td>A</td>\n",
       "      <td>Altai</td>\n",
       "      <td>B</td>\n",
       "      <td>0.000000</td>\n",
       "      <td>0</td>\n",
       "      <td>281</td>\n",
       "      <td>99719</td>\n",
       "      <td>Africa</td>\n",
       "      <td>0</td>\n",
       "      <td>Africa</td>\n",
       "    </tr>\n",
       "    <tr>\n",
       "      <th>142601</th>\n",
       "      <td>X</td>\n",
       "      <td>100000</td>\n",
       "      <td>200000</td>\n",
       "      <td>NA</td>\n",
       "      <td>B_Dinka-3</td>\n",
       "      <td>A</td>\n",
       "      <td>Altai</td>\n",
       "      <td>A</td>\n",
       "      <td>0.003916</td>\n",
       "      <td>12</td>\n",
       "      <td>3052</td>\n",
       "      <td>96936</td>\n",
       "      <td>Africa</td>\n",
       "      <td>0</td>\n",
       "      <td>Africa</td>\n",
       "    </tr>\n",
       "  </tbody>\n",
       "</table>\n",
       "</div>"
      ],
      "text/plain": [
       "       chrom   start     end pop_label    indiv_1 pseud_1   indiv_2 pseud_2  \\\n",
       "142600     X       0  100000        NA  B_Dinka-3       A     Altai       A   \n",
       "480500     X       0  100000        NA  B_Dinka-3       A  Denisova       B   \n",
       "491350     X       0  100000        NA  B_Dinka-3       A  Denisova       A   \n",
       "558000     X       0  100000        NA  B_Dinka-3       A     Altai       B   \n",
       "142601     X  100000  200000        NA  B_Dinka-3       A     Altai       A   \n",
       "\n",
       "            dist  mismatch  match  uncalled region_label_1  region_id_1  \\\n",
       "142600  0.000000         0    281     99719         Africa            0   \n",
       "480500  0.006897         2    288     99710         Africa            0   \n",
       "491350  0.003448         1    289     99710         Africa            0   \n",
       "558000  0.000000         0    281     99719         Africa            0   \n",
       "142601  0.003916        12   3052     96936         Africa            0   \n",
       "\n",
       "       region_1  \n",
       "142600   Africa  \n",
       "480500   Africa  \n",
       "491350   Africa  \n",
       "558000   Africa  \n",
       "142601   Africa  "
      ]
     },
     "execution_count": 7,
     "metadata": {},
     "output_type": "execute_result"
    }
   ],
   "source": [
    "all_male_dist_to_archaic = pandas.read_hdf(str(ag.steps_dir / 'archaic_dist_stores/archaic_dist_data_chrX_100kb.hdf'))                        \n",
    "all_male_dist_to_archaic.head()"
   ]
  },
  {
   "cell_type": "code",
   "execution_count": 8,
   "metadata": {},
   "outputs": [
    {
     "data": {
      "image/png": "[encoded data removed]",
      "text/plain": [
       "<Figure size 432x288 with 1 Axes>"
      ]
     },
     "metadata": {
      "image/png": {
       "height": 262,
       "width": 399
      },
      "needs_background": "light"
     },
     "output_type": "display_data"
    }
   ],
   "source": [
    "sns.distplot(all_male_dist_to_archaic.uncalled) ;"
   ]
  },
  {
   "cell_type": "markdown",
   "metadata": {},
   "source": [
    "Filter and compute mean over the two psudohaplotypes for each archaic:"
   ]
  },
  {
   "cell_type": "code",
   "execution_count": null,
   "metadata": {},
   "outputs": [],
   "source": [
    "male_dist_to_archaic_filt = (all_male_dist_to_archaic.loc[all_male_dist_to_archaic.uncalled < 70000]\n",
    "                             .reset_index(drop=True)\n",
    "                             .groupby(['chrom', 'start', 'end', 'indiv_1', 'indiv_2', 'pop_label', 'region_label_1'])\n",
    "                             .mean()\n",
    "                             .reset_index()\n",
    "                            )\n",
    "male_dist_to_archaic_filt.head()"
   ]
  },
  {
   "cell_type": "markdown",
   "metadata": {},
   "source": [
    "Distribution of uncalled bases:"
   ]
  },
  {
   "cell_type": "markdown",
   "metadata": {},
   "source": [
    "Filter for coverage:"
   ]
  },
  {
   "cell_type": "code",
   "execution_count": null,
   "metadata": {},
   "outputs": [],
   "source": [
    "male_dist_to_archaic_filt.groupby('indiv_2').describe()"
   ]
  },
  {
   "cell_type": "markdown",
   "metadata": {},
   "source": [
    "## Distribution of distance across windows"
   ]
  },
  {
   "cell_type": "code",
   "execution_count": null,
   "metadata": {},
   "outputs": [],
   "source": [
    "g = sns.distplot(male_dist_to_archaic_filt.loc[male_dist_to_archaic_filt.indiv_2 == 'Altai'].dist.dropna())\n",
    "g = sns.distplot(male_dist_to_archaic_filt.loc[male_dist_to_archaic_filt.indiv_2 == 'Denisova'].dist.dropna())\n",
    "plt.show()"
   ]
  },
  {
   "cell_type": "code",
   "execution_count": null,
   "metadata": {},
   "outputs": [],
   "source": [
    "# plt.close()\n",
    "# fig = horizon_plot(df.loc[df.indiv_2 == 'Denisova'].assign(chrom='X'), 'dist',\n",
    "#              width=100000, row='indiv_1', col='chrom', size=0.3, aspect=30)\n"
   ]
  },
  {
   "cell_type": "code",
   "execution_count": null,
   "metadata": {},
   "outputs": [],
   "source": [
    "# plt.close()\n",
    "# fig = horizon_plot(df.loc[df.indiv_2 == 'Altai'].assign(chrom='X'), 'dist',\n",
    "#              width=100000, row='indiv_1', col='chrom', size=0.3, aspect=30)\n"
   ]
  },
  {
   "cell_type": "code",
   "execution_count": null,
   "metadata": {},
   "outputs": [],
   "source": [
    "# with sns.axes_style('dark'):\n",
    "#     fig, (ax1, ax2) = plt.subplots(2, 1, figsize=(10,5))\n",
    "#     ax1.bar(df.loc[(df.indiv_2 == 'Altai') & (df.indiv_1 == 'S_English-1')].start,\n",
    "#             df.loc[(df.indiv_2 == 'Altai') & (df.indiv_1 == 'S_English-1')].dist, width=100000)\n",
    "#     ax2.bar(df.loc[(df.indiv_2 == 'Denisova') & (df.indiv_1 == 'S_English-1')].start,\n",
    "#             df.loc[(df.indiv_2 == 'Denisova') & (df.indiv_1 == 'S_English-1')].dist, width=100000)\n",
    "#     #plt.ylim(0, 0.0005)"
   ]
  },
  {
   "cell_type": "code",
   "execution_count": null,
   "metadata": {},
   "outputs": [],
   "source": [
    "# fig, (ax1, ax2) = plt.subplots(2, 1, figsize=(10,5))\n",
    "# ax1.bar(df.loc[(df.indiv_2 == 'Altai') & (df.indiv_1 == 'S_Papuan-8')].start,\n",
    "#         df.loc[(df.indiv_2 == 'Altai') & (df.indiv_1 == 'S_Papuan-8')].dist, width=100000)\n",
    "# ax2.bar(df.loc[(df.indiv_2 == 'Denisova') & (df.indiv_1 == 'S_Papuan-8')].start,\n",
    "#         df.loc[(df.indiv_2 == 'Denisova') & (df.indiv_1 == 'S_Papuan-8')].dist, width=100000)\n",
    "# #plt.ylim(0, 0.0005)"
   ]
  },
  {
   "cell_type": "code",
   "execution_count": null,
   "metadata": {},
   "outputs": [],
   "source": [
    "with sns.plotting_context('notebook', font_scale=0.5):\n",
    "    plt.figure(figsize=(20, 20))\n",
    "    sns.heatmap(male_dist_to_archaic_filt.loc[male_dist_to_archaic_filt.indiv_2 == 'Altai', ['indiv_1', 'start', 'dist']]\n",
    "                .pivot('indiv_1', 'start', 'dist'), cmap=\"YlGnBu\")\n",
    "    "
   ]
  },
  {
   "cell_type": "code",
   "execution_count": null,
   "metadata": {},
   "outputs": [],
   "source": [
    "with sns.plotting_context('notebook', font_scale=0.5):\n",
    "    plt.figure(figsize=(20, 20))\n",
    "    sns.heatmap(male_dist_to_archaic_filt.loc[male_dist_to_archaic_filt.indiv_2 == 'Denisova', ['indiv_1', 'start', 'dist']]\n",
    "                .pivot('indiv_1', 'start', 'dist'), cmap=\"YlGnBu\")"
   ]
  },
  {
   "cell_type": "code",
   "execution_count": null,
   "metadata": {},
   "outputs": [],
   "source": [
    "with sns.plotting_context('notebook', font_scale=0.5):\n",
    "    fig, axes = plt.subplots(7, 1, figsize=(25,20), sharex=True)\n",
    "    for i, region in enumerate(['Africa', 'WestEurasia', 'CentralAsiaSiberia', 'SouthAsia', \n",
    "                                'Oceania', 'EastAsia', 'America']):\n",
    "        sns.heatmap(male_dist_to_archaic_filt.loc[(male_dist_to_archaic_filt.indiv_2 == 'Altai') & \\\n",
    "                                                  (male_dist_to_archaic_filt.region_label_1 == region)]\n",
    "                    .pivot('indiv_1', 'start', 'dist'), ax=axes[i], cmap=\"YlGnBu\")\n",
    "        axes[i].set_title(region)"
   ]
  },
  {
   "cell_type": "code",
   "execution_count": null,
   "metadata": {},
   "outputs": [],
   "source": [
    "with sns.plotting_context('notebook', font_scale=0.5):\n",
    "    fig, axes = plt.subplots(7, 1, figsize=(25,20), sharex=True)\n",
    "    for i, region in enumerate(['Africa', 'WestEurasia', 'CentralAsiaSiberia', 'SouthAsia', \n",
    "                                'Oceania', 'EastAsia', 'America']):\n",
    "        sns.heatmap(male_dist_to_archaic_filt.loc[(male_dist_to_archaic_filt.indiv_2 == 'Denisova') & \\\n",
    "                                                  (male_dist_to_archaic_filt.region_label_1 == region)]\n",
    "                    .pivot('indiv_1', 'start', 'dist'), ax=axes[i], cmap=\"YlGnBu\")\n",
    "        axes[i].set_title(region)"
   ]
  },
  {
   "cell_type": "code",
   "execution_count": null,
   "metadata": {},
   "outputs": [],
   "source": [
    "extended_peak_regions_10 = pandas.read_hdf(ag.results_dir / 'extended_peak_regions_10%.hdf')\n",
    "human_chimp_low_ils_regions_chrX = pandas.read_hdf(ag.results_dir / 'human_chimp_low_ils_regions_chrX.hdf')\n",
    "ampliconic_regions = pandas.read_hdf(ag.results_dir / 'ampliconic_regions.hdf')\n",
    "\n",
    "plot_df = stairs(male_dist_to_archaic_filt.groupby(['start', 'indiv_2']).mean().reset_index())\n",
    "with sns.color_palette('colorblind'):\n",
    "    with sns.axes_style('ticks'):\n",
    "        fig, ax = plt.subplots(1, 1, figsize=(25,10))\n",
    "        plt.semilogy(plot_df.loc[plot_df.indiv_2 == 'Altai'].pos, \n",
    "                     plot_df.loc[plot_df.indiv_2 == 'Altai'].dist, label='Altai', alpha=0.5)\n",
    "        plt.semilogy(plot_df.loc[plot_df.indiv_2 == 'Denisova'].pos, \n",
    "                     plot_df.loc[plot_df.indiv_2 == 'Denisova'].dist, label='Denisova', alpha=0.5)\n",
    "        \n",
    "        for tup in extended_peak_regions_10.itertuples():\n",
    "            g = ax.add_patch(Rectangle((tup.start_pos, -1), tup.end_pos-tup.start_pos, 2, \n",
    "                     facecolor='lightgray', \n",
    "                     linewidth=0,\n",
    "        #              edgecolor=None,\n",
    "                     alpha=0.5,\n",
    "                     zorder=1))\n",
    "\n",
    "        for tup in human_chimp_low_ils_regions_chrX.itertuples():\n",
    "            g = ax.add_patch(Rectangle((tup.start, 0), tup.end-tup.start, 1, \n",
    "                         facecolor='lightblue',\n",
    "                         linewidth=0,\n",
    "                         alpha=0.3,\n",
    "                         zorder=0))\n",
    "            \n",
    "        for tup in ampliconic_regions.itertuples():\n",
    "            g = ax.add_patch(Rectangle((tup.start, 0), tup.end-tup.start, 1, \n",
    "                         facecolor='pink',\n",
    "                         linewidth=0,\n",
    "                         alpha=1,\n",
    "                         zorder=0))           "
   ]
  },
  {
   "cell_type": "code",
   "execution_count": null,
   "metadata": {},
   "outputs": [],
   "source": [
    "extended_peak_regions_90 = pandas.read_hdf(ag.results_dir / 'extended_peak_regions_90%.hdf')\n",
    "\n",
    "plot_df = stairs(male_dist_to_archaic_filt.groupby(['start', 'indiv_2']).mean().reset_index())\n",
    "with sns.color_palette('colorblind'):\n",
    "    with sns.axes_style('ticks'):\n",
    "        fig, ax = plt.subplots(1, 1, figsize=(25,10))\n",
    "        plt.semilogy(plot_df.loc[plot_df.indiv_2 == 'Altai'].pos, \n",
    "                     plot_df.loc[plot_df.indiv_2 == 'Altai'].dist, label='Altai', alpha=0.5)\n",
    "        plt.semilogy(plot_df.loc[plot_df.indiv_2 == 'Denisova'].pos, \n",
    "                     plot_df.loc[plot_df.indiv_2 == 'Denisova'].dist, label='Denisova', alpha=0.5)\n",
    "        \n",
    "        for tup in extended_peak_regions_90.itertuples():\n",
    "            g = ax.add_patch(Rectangle((tup.start_pos, -1), tup.end_pos-tup.start_pos, 2, \n",
    "                 facecolor='lightgray', \n",
    "                 linewidth=0,\n",
    "        #              edgecolor=None,\n",
    "                 alpha=0.5,\n",
    "                 zorder=1))"
   ]
  },
  {
   "cell_type": "code",
   "execution_count": null,
   "metadata": {},
   "outputs": [],
   "source": [
    "sweep_data = pandas.read_hdf(ag.results_dir / 'sweep_data.hdf')\n",
    "\n",
    "merged_data = (sweep_data.merge(male_dist_to_archaic_filt, how='left',\n",
    "                                on=['indiv_1', 'start', 'end'])\n",
    "               .loc[lambda df: df.not_missing == True] # only windows where enough individuals are called\n",
    "              )\n",
    "merged_data.head()"
   ]
  },
  {
   "cell_type": "markdown",
   "metadata": {},
   "source": [
    "## Distance to Archiacs in swept and non-swept regions"
   ]
  },
  {
   "cell_type": "code",
   "execution_count": null,
   "metadata": {},
   "outputs": [],
   "source": [
    "with sns.color_palette('colorblind'):\n",
    "    with sns.plotting_context('paper', font_scale=1.2):\n",
    "        with sns.axes_style('whitegrid'):\n",
    "            fig, (ax1, ax2) = plt.subplots(1, 2, figsize=(10,4))\n",
    "            g1 = sns.barplot(x=\"not_never_swept\", y=\"dist\", hue='indiv_2',\n",
    "                             data=merged_data.assign(not_never_swept=~merged_data.never_swept), ax=ax1)\n",
    "            g1 = sns.boxplot(x=\"not_never_swept\", y=\"dist\", hue='indiv_2',\n",
    "                             data=merged_data.assign(not_never_swept=~merged_data.never_swept), ax=ax2)\n",
    "            ax1.get_legend().set_visible(False)\n",
    "            ax2.legend(bbox_to_anchor=(1.1, 1.0))\n",
    "            plt.tight_layout()"
   ]
  },
  {
   "cell_type": "markdown",
   "metadata": {},
   "source": [
    "## Distance to Archiacs in swept and non-swept haplotypes in swept regions"
   ]
  },
  {
   "cell_type": "code",
   "execution_count": null,
   "metadata": {},
   "outputs": [],
   "source": [
    "plot_df = (merged_data.loc[lambda df: (df.partial_sweep_win == True),# & (df.conserv_swept_group != 'ambig'),\n",
    "                          ['indiv_1', 'indiv_2', 'region_1', 'start', 'swept', 'dist']]\n",
    "      \n",
    "                  # removing 'ambig' creates windows that does not have both swept and non-swept\n",
    "                  # so we need to filter to get only windows that include both calls:\n",
    "                  .groupby(['start']).filter(lambda df: set(df['swept']) == set([False, True]))\n",
    "      \n",
    "           .melt(id_vars=['indiv_1', 'indiv_2', 'region_1', 'start', 'dist'], \n",
    "                 value_vars=['swept'], \n",
    "                 var_name='call',\n",
    "                value_name='is_swept')\n",
    "          )\n",
    "\n",
    "plot_df['region_1'] = plot_df.region_1.astype('category').cat.set_categories(\n",
    "    ['Africa', 'WestEurasia', 'SouthAsia', 'CentralAsiaSiberia', 'Oceania', 'EastAsia', 'America'])\n",
    "\n",
    "plot_df = plot_df.loc[lambda df: df.region_1 != 'Africa']\n",
    "\n",
    "\n",
    "# plot_df['region_1'] \n",
    "plot_df['region_1'] = plot_df.region_1.cat.remove_unused_categories()\n",
    "\n",
    "fig, (ax1, ax2) = plt.subplots(1, 2, figsize=(12, 5))\n",
    "\n",
    "with sns.color_palette('colorblind'):\n",
    "    with sns.axes_style('ticks'):\n",
    "        with sns.plotting_context('paper', font_scale=1.2):\n",
    "#             g = sns.barplot(x='call', y='dist', hue='is_swept', data=plot_df)\n",
    "#             g = sns.boxplot(x='call', y='dist', hue='is_swept', data=plot_df)\n",
    "#             g.set_yscale(\"log\")\n",
    "            g = sns.violinplot(x='is_swept', y='dist', data=plot_df, ax=ax1)\n",
    "#             g = sns.swarmplot(x='is_swept', y='dist', data=plot_df)\n",
    "\n",
    "            g = sns.stripplot(x='is_swept', y='dist', hue='indiv_2', dodge=True, jitter=True, alpha=0.1, data=plot_df, ax=ax2)            \n",
    "            g.set_yscale('log')\n",
    "\n",
    "            g.legend(loc='lower right')\n",
    "        \n",
    "#             g.set_ylim(0.00001, 0.01)"
   ]
  },
  {
   "cell_type": "code",
   "execution_count": null,
   "metadata": {},
   "outputs": [],
   "source": [
    "plot_df.loc[plot_df.dist < 1e-4]"
   ]
  },
  {
   "cell_type": "code",
   "execution_count": null,
   "metadata": {},
   "outputs": [],
   "source": []
  }
 ],
 "metadata": {
  "anaconda-cloud": {},
  "kernelspec": {
   "display_name": "Python 3",
   "language": "python",
   "name": "python3"
  },
  "language_info": {
   "codemirror_mode": {
    "name": "ipython",
    "version": 3
   },
   "file_extension": ".py",
   "mimetype": "text/x-python",
   "name": "python",
   "nbconvert_exporter": "python",
   "pygments_lexer": "ipython3",
   "version": "3.6.9"
  }
 },
 "nbformat": 4,
 "nbformat_minor": 4
}
