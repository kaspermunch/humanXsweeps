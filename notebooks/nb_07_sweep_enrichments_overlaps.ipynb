{
 "cells": [
  {
   "cell_type": "code",
   "execution_count": 1,
   "metadata": {
    "scrolled": false
   },
   "outputs": [],
   "source": [
    "import re, os, sys, pickle\n",
    "from pathlib import Path\n",
    "import numpy\n",
    "import pandas\n",
    "from pandas import DataFrame\n",
    "\n",
    "# silence deprecation warnings (lots from seaborn)\n",
    "import warnings\n",
    "warnings.filterwarnings(\"ignore\", category=DeprecationWarning) \n",
    "warnings.filterwarnings(\"ignore\", category=numpy.VisibleDeprecationWarning)\n",
    "\n",
    "numpy.random.seed(7)"
   ]
  },
  {
   "cell_type": "markdown",
   "metadata": {},
   "source": [
    "### Analysis dirs"
   ]
  },
  {
   "cell_type": "code",
   "execution_count": 2,
   "metadata": {
    "scrolled": false
   },
   "outputs": [],
   "source": [
    "root_dir = Path(os.environ['HOME'], 'simons/faststorage/people/kmt')\n",
    "meta_data_dir = Path(os.environ['HOME'], 'simons/faststorage/data/metadata')\n",
    "steps_dir = root_dir / 'steps'\n",
    "argweaver_dir = steps_dir / 'argweaver/output'\n",
    "results_dir = root_dir / 'results'\n",
    "figures_dir = root_dir / 'figures'\n",
    "data_dir = root_dir / 'data'\n",
    "pi_dir = steps_dir / 'pi_stores'\n",
    "dist_dir = steps_dir / 'dist_stores'\n",
    "#pi_dir = root_dir / 'old_pi_stores'\n",
    "male_x_haploid_dir = steps_dir / 'male_x_haploids'"
   ]
  },
  {
   "cell_type": "markdown",
   "metadata": {},
   "source": [
    "### Local code in the scripts dir on the cluster"
   ]
  },
  {
   "cell_type": "code",
   "execution_count": 3,
   "metadata": {
    "scrolled": false
   },
   "outputs": [],
   "source": [
    "scripts_dir = root_dir / 'scripts'\n",
    "if str(scripts_dir) not in sys.path:\n",
    "    sys.path.append(str(scripts_dir))\n",
    "\n",
    "import simons_meta_data\n",
    "import hg19_chrom_sizes\n",
    "\n",
    "\n",
    "from GenomicWindows import window\n",
    "import GenomicIntervals"
   ]
  },
  {
   "cell_type": "markdown",
   "metadata": {},
   "source": [
    "### Plotting setup"
   ]
  },
  {
   "cell_type": "code",
   "execution_count": 4,
   "metadata": {
    "collapsed": true,
    "scrolled": false
   },
   "outputs": [],
   "source": [
    "%matplotlib inline\n",
    "\n",
    "# Make inline plots vector graphics instead of raster graphics\n",
    "from IPython.display import set_matplotlib_formats\n",
    "set_matplotlib_formats('pdf', 'svg')\n",
    "\n",
    "import matplotlib\n",
    "import matplotlib.pyplot as plt\n",
    "from matplotlib.colors import ListedColormap\n",
    "from matplotlib.patches import Rectangle\n",
    "from mpl_toolkits.basemap import Basemap\n",
    "#matplotlib.rcParams['figure.figsize'] = (20.0, 10.0)\n",
    "\n",
    "import mpld3\n",
    "\n",
    "import seaborn as sns\n",
    "sns.set_style(\"whitegrid\")\n",
    "sns.set_context(\"paper\")\n",
    "\n",
    "# lowess for plotting\n",
    "from statsmodels.nonparametric.smoothers_lowess import lowess"
   ]
  },
  {
   "cell_type": "markdown",
   "metadata": {},
   "source": [
    "# Load meta data"
   ]
  },
  {
   "cell_type": "code",
   "execution_count": 5,
   "metadata": {
    "scrolled": false
   },
   "outputs": [],
   "source": [
    "# easy loading of meta data in a consistent manner across code\n",
    "individuals, populations, regions = simons_meta_data.get_meta_data(meta_data_dir=meta_data_dir)\n",
    "\n",
    "chromosome_lengths = dict((k.replace('chr', ''), v) for k, v in hg19_chrom_sizes.hg19_chrom_sizes.items())"
   ]
  },
  {
   "cell_type": "markdown",
   "metadata": {},
   "source": [
    "Load sweep data:"
   ]
  },
  {
   "cell_type": "code",
   "execution_count": 6,
   "metadata": {},
   "outputs": [],
   "source": [
    "abs_low_region_df = pandas.concat([pandas.read_hdf(results_dir / 'abs_low_region_chrX_df.hdf'),\n",
    "                                   pandas.read_hdf(results_dir / 'abs_low_region_chr7_df.hdf')])\n",
    "rel_low_region_df = pandas.concat([pandas.read_hdf(results_dir / 'rel_low_region_chrX_df.hdf'),\n",
    "                                   pandas.read_hdf(results_dir / 'rel_low_region_chr7_df.hdf')])"
   ]
  },
  {
   "cell_type": "markdown",
   "metadata": {},
   "source": [
    "Load minimum run length of sweep windows set in sweep calling:"
   ]
  },
  {
   "cell_type": "code",
   "execution_count": 7,
   "metadata": {},
   "outputs": [],
   "source": [
    "with open(str(results_dir / 'min_run_length.pkl'), 'rb') as f:\n",
    "    min_run_length = pickle.load(f)"
   ]
  },
  {
   "cell_type": "markdown",
   "metadata": {},
   "source": [
    "Load auxilary data:"
   ]
  },
  {
   "cell_type": "code",
   "execution_count": 8,
   "metadata": {
    "collapsed": true
   },
   "outputs": [],
   "source": [
    "human_chimp_low_ils_regions_chrX = pandas.read_hdf(results_dir / 'human_chimp_low_ils_regions_chrX.hdf')\n",
    "human_orang_low_ils_regions_chrX = pandas.read_hdf(results_dir / 'human_orang_low_ils_regions_chrX.hdf')\n",
    "ampliconic_regions = pandas.read_hdf(results_dir / 'ampliconic_regions.hdf')\n",
    "akey_regions = pandas.read_hdf(results_dir / 'akey_regions.hdf')\n",
    "admix_windows_chrX = pandas.read_hdf(results_dir / 'admix_windows_chrX.hdf')\n",
    "refseq_genes = pandas.read_hdf(results_dir / 'refseq_genes.hdf')"
   ]
  },
  {
   "cell_type": "markdown",
   "metadata": {},
   "source": [
    "# Overlap to _absolute_ low pi regions on chrX"
   ]
  },
  {
   "cell_type": "markdown",
   "metadata": {},
   "source": [
    "### Merged low pi regions\n",
    "\n",
    "Union of regions across populations"
   ]
  },
  {
   "cell_type": "code",
   "execution_count": 9,
   "metadata": {
    "scrolled": false
   },
   "outputs": [],
   "source": [
    "rows = (abs_low_region_df.chrom == 'X') & (abs_low_region_df.run >= min_run_length)\n",
    "merged_abs_low_regions_chrX = GenomicIntervals.interval_collapse(abs_low_region_df.loc[rows])"
   ]
  },
  {
   "cell_type": "markdown",
   "metadata": {},
   "source": [
    "### Overlap with low ILS regions"
   ]
  },
  {
   "cell_type": "code",
   "execution_count": 10,
   "metadata": {
    "scrolled": false
   },
   "outputs": [
    {
     "data": {
      "text/plain": [
       "(0.30394626364399663, 0.001)"
      ]
     },
     "execution_count": 10,
     "metadata": {},
     "output_type": "execute_result"
    }
   ],
   "source": [
    "GenomicIntervals.interval_jaccard(merged_abs_low_regions_chrX, \n",
    "                                  human_chimp_low_ils_regions_chrX, \n",
    "                                  chromosome_sizes=chromosome_lengths, \n",
    "                                  samples=1000)"
   ]
  },
  {
   "cell_type": "markdown",
   "metadata": {},
   "source": [
    "### Overlap with ampliconic regions"
   ]
  },
  {
   "cell_type": "code",
   "execution_count": 11,
   "metadata": {
    "scrolled": false
   },
   "outputs": [
    {
     "data": {
      "text/plain": [
       "(0.0055962051932327908, 1.0)"
      ]
     },
     "execution_count": 11,
     "metadata": {},
     "output_type": "execute_result"
    }
   ],
   "source": [
    "GenomicIntervals.interval_jaccard(merged_abs_low_regions_chrX, \n",
    "                                  ampliconic_regions.loc[lambda df: df.chrom == 'X'], \n",
    "                                  chromosome_sizes=chromosome_lengths, \n",
    "                                  samples=1000)"
   ]
  },
  {
   "cell_type": "markdown",
   "metadata": {},
   "source": [
    "### Non-random distance to ampliconic reginos not overlapping low pi regions\n",
    "\n",
    "Are ampliconic regions not overlapping low pi regions closer the low pi regions than expected?"
   ]
  },
  {
   "cell_type": "code",
   "execution_count": 12,
   "metadata": {
    "scrolled": false
   },
   "outputs": [
    {
     "data": {
      "text/plain": [
       "(0.33833333333333304, 0.0028)"
      ]
     },
     "execution_count": 12,
     "metadata": {},
     "output_type": "execute_result"
    }
   ],
   "source": [
    "ampl_reg_not_overlapping = GenomicIntervals.interval_diff(ampliconic_regions.loc[lambda df: df.chrom == 'X'],\n",
    "                                                          merged_abs_low_regions_chrX)\n",
    "GenomicIntervals.distance_stat(ampl_reg_not_overlapping, merged_abs_low_regions_chrX)"
   ]
  },
  {
   "cell_type": "markdown",
   "metadata": {},
   "source": [
    "# Overlap to _absolute_ low pi regions on chr7"
   ]
  },
  {
   "cell_type": "markdown",
   "metadata": {},
   "source": [
    "### Merged _absolute_ low pi regions\n",
    "\n",
    "Union of regions across populations"
   ]
  },
  {
   "cell_type": "code",
   "execution_count": 13,
   "metadata": {
    "scrolled": false
   },
   "outputs": [],
   "source": [
    "rows = (abs_low_region_df.chrom == '7') & (abs_low_region_df.run >= min_run_length)\n",
    "merged_abs_low_regions_chr7 = GenomicIntervals.interval_collapse(abs_low_region_df.loc[rows])"
   ]
  },
  {
   "cell_type": "markdown",
   "metadata": {},
   "source": [
    "### Overlap between merged _absolute_ low pi regions and Akey regions\n",
    "\n",
    "Probably heavily confounded with gene density"
   ]
  },
  {
   "cell_type": "code",
   "execution_count": 14,
   "metadata": {
    "scrolled": false
   },
   "outputs": [
    {
     "name": "stderr",
     "output_type": "stream",
     "text": [
      "p-value is zero smaller than 0.001. Increase nr samples to get actual p-value.\n"
     ]
    },
    {
     "data": {
      "text/plain": [
       "(0.18836348729318772, 0.0)"
      ]
     },
     "execution_count": 14,
     "metadata": {},
     "output_type": "execute_result"
    }
   ],
   "source": [
    "GenomicIntervals.interval_jaccard(merged_abs_low_regions_chr7, \n",
    "                                  akey_regions.loc[lambda df: df.chrom == '7'], \n",
    "                                  chromosome_sizes=chromosome_lengths, \n",
    "                                  samples=1000)"
   ]
  },
  {
   "cell_type": "markdown",
   "metadata": {},
   "source": [
    "### Overlap between merged _absolute_ low pi regions and refseq genes"
   ]
  },
  {
   "cell_type": "code",
   "execution_count": 15,
   "metadata": {
    "scrolled": false
   },
   "outputs": [
    {
     "data": {
      "text/plain": [
       "(0.17256598770478668, 0.034)"
      ]
     },
     "execution_count": 15,
     "metadata": {},
     "output_type": "execute_result"
    }
   ],
   "source": [
    "merged_refseq_genes_chr7 = GenomicIntervals.interval_collapse(refseq_genes.loc[refseq_genes.chrom ==  '7'])\n",
    "\n",
    "GenomicIntervals.interval_jaccard(merged_abs_low_regions_chr7, \n",
    "                                  merged_refseq_genes_chr7, \n",
    "                                  chromosome_sizes=chromosome_lengths, \n",
    "                                  samples=1000)"
   ]
  },
  {
   "cell_type": "markdown",
   "metadata": {},
   "source": [
    "It seems that the regions called on chr7 are indeed subject to sweeps."
   ]
  },
  {
   "cell_type": "markdown",
   "metadata": {},
   "source": [
    "# Overlap to _relative_ low pi regions on chrX"
   ]
  },
  {
   "cell_type": "markdown",
   "metadata": {},
   "source": [
    "### Merged low pi regions\n",
    "\n",
    "Union of regions across populations"
   ]
  },
  {
   "cell_type": "code",
   "execution_count": 16,
   "metadata": {
    "scrolled": false
   },
   "outputs": [],
   "source": [
    "rows = (rel_low_region_df.chrom == 'X') & (rel_low_region_df.run >= min_run_length)\n",
    "merged_rel_low_regions_chrX = GenomicIntervals.interval_collapse(rel_low_region_df.loc[rows])"
   ]
  },
  {
   "cell_type": "markdown",
   "metadata": {},
   "source": [
    "### Overlap with low ILS regions"
   ]
  },
  {
   "cell_type": "code",
   "execution_count": 17,
   "metadata": {
    "scrolled": false
   },
   "outputs": [
    {
     "data": {
      "text/plain": [
       "(0.30837004405286345, 0.005)"
      ]
     },
     "execution_count": 17,
     "metadata": {},
     "output_type": "execute_result"
    }
   ],
   "source": [
    "GenomicIntervals.interval_jaccard(merged_rel_low_regions_chrX, \n",
    "                                  human_chimp_low_ils_regions_chrX, \n",
    "                                  chromosome_sizes=chromosome_lengths, \n",
    "                                  samples=1000)"
   ]
  },
  {
   "cell_type": "markdown",
   "metadata": {},
   "source": [
    "### Overlap with ampliconic regions"
   ]
  },
  {
   "cell_type": "code",
   "execution_count": 18,
   "metadata": {
    "scrolled": false
   },
   "outputs": [
    {
     "data": {
      "text/plain": [
       "(0.0059373513953246432, 1.0)"
      ]
     },
     "execution_count": 18,
     "metadata": {},
     "output_type": "execute_result"
    }
   ],
   "source": [
    "GenomicIntervals.interval_jaccard(merged_rel_low_regions_chrX, \n",
    "                                  ampliconic_regions.loc[lambda df: df.chrom == 'X'], \n",
    "                                  chromosome_sizes=chromosome_lengths, \n",
    "                                  samples=1000)"
   ]
  },
  {
   "cell_type": "markdown",
   "metadata": {},
   "source": [
    "### Non-random distance to ampliconic reginos not overlapping low pi regions\n",
    "\n",
    "Are ampliconic regions not overlapping low pi regions closer the low pi regions than expected?"
   ]
  },
  {
   "cell_type": "code",
   "execution_count": 19,
   "metadata": {
    "scrolled": false
   },
   "outputs": [
    {
     "data": {
      "text/plain": [
       "(0.23783333333333345, 0.0409)"
      ]
     },
     "execution_count": 19,
     "metadata": {},
     "output_type": "execute_result"
    }
   ],
   "source": [
    "ampl_reg_not_overlapping = GenomicIntervals.interval_diff(ampliconic_regions.loc[lambda df: df.chrom == 'X'],\n",
    "                                                          merged_rel_low_regions_chrX)\n",
    "GenomicIntervals.distance_stat(ampl_reg_not_overlapping, merged_rel_low_regions_chrX)"
   ]
  },
  {
   "cell_type": "markdown",
   "metadata": {},
   "source": [
    "# Overlap of low ILS regions on chrX"
   ]
  },
  {
   "cell_type": "markdown",
   "metadata": {},
   "source": [
    "### Between human-chimp and human-orang low ILS regions"
   ]
  },
  {
   "cell_type": "code",
   "execution_count": 20,
   "metadata": {
    "scrolled": false
   },
   "outputs": [
    {
     "data": {
      "text/plain": [
       "(0.26530612244897961, 0.004)"
      ]
     },
     "execution_count": 20,
     "metadata": {},
     "output_type": "execute_result"
    }
   ],
   "source": [
    "GenomicIntervals.interval_jaccard(human_chimp_low_ils_regions_chrX, \n",
    "                                  human_orang_low_ils_regions_chrX, \n",
    "                                  chromosome_sizes=chromosome_lengths, \n",
    "                                  samples=1000)"
   ]
  },
  {
   "cell_type": "markdown",
   "metadata": {},
   "source": [
    "### Between ampliconic regions and low ILS regions on chrX"
   ]
  },
  {
   "cell_type": "code",
   "execution_count": 21,
   "metadata": {
    "scrolled": false
   },
   "outputs": [
    {
     "data": {
      "text/plain": [
       "(0.05069706117418335, 0.041)"
      ]
     },
     "execution_count": 21,
     "metadata": {},
     "output_type": "execute_result"
    }
   ],
   "source": [
    "GenomicIntervals.interval_jaccard(human_chimp_low_ils_regions_chrX, \n",
    "                                  ampliconic_regions.loc[lambda df: df.chrom == 'X'], \n",
    "                                  chromosome_sizes=chromosome_lengths, \n",
    "                                  samples=1000)"
   ]
  },
  {
   "cell_type": "code",
   "execution_count": 22,
   "metadata": {
    "scrolled": false
   },
   "outputs": [
    {
     "data": {
      "text/plain": [
       "(0.015774792365619513, 0.483)"
      ]
     },
     "execution_count": 22,
     "metadata": {},
     "output_type": "execute_result"
    }
   ],
   "source": [
    "GenomicIntervals.interval_jaccard(human_orang_low_ils_regions_chrX, \n",
    "                                  ampliconic_regions.loc[lambda df: df.chrom == 'X'], \n",
    "                                  chromosome_sizes=chromosome_lengths, \n",
    "                                  samples=1000)"
   ]
  }
 ],
 "metadata": {
  "anaconda-cloud": {},
  "kernelspec": {
   "display_name": "Python 3",
   "language": "python",
   "name": "python3"
  },
  "language_info": {
   "codemirror_mode": {
    "name": "ipython",
    "version": 3
   },
   "file_extension": ".py",
   "mimetype": "text/x-python",
   "name": "python",
   "nbconvert_exporter": "python",
   "pygments_lexer": "ipython3",
   "version": "3.5.4"
  }
 },
 "nbformat": 4,
 "nbformat_minor": 2
}
