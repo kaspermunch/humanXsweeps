{
 "cells": [
  {
   "cell_type": "markdown",
   "metadata": {},
   "source": [
    "### Set up parallel computing"
   ]
  },
  {
   "cell_type": "code",
   "execution_count": 1,
   "metadata": {},
   "outputs": [],
   "source": [
    "# import ipyparallel\n",
    "# from ipyparallel import depend, require\n",
    "\n",
    "# # create client & view\n",
    "# rc = ipyparallel.Client()\n",
    "# dview = rc[:]\n",
    "# bview = rc.load_balanced_view() # you can set block=True to have this apply globally\n",
    "\n",
    "# # scatter 'id', so id=0,1,2 on engines 0,1,2\n",
    "# dview.scatter('node_id', rc.ids, flatten=True)\n",
    "# print(\"Engine IDs: \", dview['node_id'])\n",
    "# # create a Reference to `id`. This will be a different value on each engine\n",
    "# ref = ipyparallel.Reference('node_id')"
   ]
  },
  {
   "cell_type": "code",
   "execution_count": 2,
   "metadata": {},
   "outputs": [],
   "source": [
    "from multiprocessing import Pool, cpu_count\n",
    "\n",
    "import re, os, sys, pickle\n",
    "from pathlib import Path\n",
    "import numpy\n",
    "import pandas\n",
    "from pandas import DataFrame"
   ]
  },
  {
   "cell_type": "markdown",
   "metadata": {},
   "source": [
    "### Parallel import of libraries"
   ]
  },
  {
   "cell_type": "code",
   "execution_count": 3,
   "metadata": {},
   "outputs": [],
   "source": [
    "# with dview.sync_imports(): # imports libs across dview\n",
    "#     import re, os, sys, pickle\n",
    "#     from pathlib import Path\n",
    "#     import numpy\n",
    "#     import pandas\n",
    "#     from pandas import DataFrame\n",
    "    \n",
    "# dview.execute('numpy.random.seed(7)')\n",
    "\n",
    "# def scatter_func(f):\n",
    "#     dview.scatter(f.__name__, [f]*len(bview), flatten=True)    "
   ]
  },
  {
   "cell_type": "markdown",
   "metadata": {},
   "source": [
    "### Analysis dirs"
   ]
  },
  {
   "cell_type": "code",
   "execution_count": 4,
   "metadata": {},
   "outputs": [],
   "source": [
    "root_dir = Path(os.environ['HOME'], 'simons/faststorage/people/kmt')\n",
    "meta_data_dir = Path(os.environ['HOME'], 'simons/faststorage/data/metadata')\n",
    "steps_dir = root_dir / 'steps'\n",
    "argweaver_dir = steps_dir / 'argweaver/output'\n",
    "results_dir = root_dir / 'results'\n",
    "figures_dir = root_dir / 'figures'\n",
    "data_dir = root_dir / 'data'\n",
    "pi_dir = steps_dir / 'pi_stores'\n",
    "dist_dir = steps_dir / 'dist_stores'\n",
    "pi_dir = root_dir / 'old_pi_stores'\n",
    "male_x_haploid_dir = steps_dir / 'male_x_haploids'"
   ]
  },
  {
   "cell_type": "markdown",
   "metadata": {},
   "source": [
    "### Local code in the scripts dir on the cluster"
   ]
  },
  {
   "cell_type": "code",
   "execution_count": 5,
   "metadata": {},
   "outputs": [],
   "source": [
    "scripts_dir = root_dir / 'scripts'\n",
    "if str(scripts_dir) not in sys.path:\n",
    "    sys.path.append(str(scripts_dir))\n",
    "\n",
    "import simons_meta_data\n",
    "import hg19_chrom_sizes"
   ]
  },
  {
   "cell_type": "markdown",
   "metadata": {},
   "source": [
    "### Plotting setup"
   ]
  },
  {
   "cell_type": "code",
   "execution_count": 6,
   "metadata": {},
   "outputs": [],
   "source": [
    "%matplotlib inline\n",
    "\n",
    "# Make inline plots vector graphics instead of raster graphics\n",
    "from IPython.display import set_matplotlib_formats\n",
    "set_matplotlib_formats('pdf', 'svg')\n",
    "\n",
    "import matplotlib\n",
    "import matplotlib.pyplot as plt\n",
    "from matplotlib.colors import ListedColormap\n",
    "from matplotlib.patches import Rectangle\n",
    "from mpl_toolkits.basemap import Basemap\n",
    "#matplotlib.rcParams['figure.figsize'] = (20.0, 10.0)\n",
    "\n",
    "import mpld3\n",
    "\n",
    "import seaborn as sns\n",
    "sns.set_style(\"whitegrid\")\n",
    "sns.set_context(\"paper\")\n",
    "\n",
    "# lowess for plotting\n",
    "from statsmodels.nonparametric.smoothers_lowess import lowess\n",
    "\n",
    "set1 = {'red': '#e41a1c', 'blue': '#377eb8', 'green': '#4daf4a',\n",
    "        'purple': '#984ea3', 'orange': '#ff7f00', \n",
    "        'yellow': '#ffff33', 'brown': '#a65628'}"
   ]
  },
  {
   "cell_type": "markdown",
   "metadata": {},
   "source": [
    "### Silence deprecation warnings (lots from seaborn)"
   ]
  },
  {
   "cell_type": "code",
   "execution_count": 7,
   "metadata": {},
   "outputs": [],
   "source": [
    "# silence deprecation warnings (lots from seaborn)\n",
    "import warnings\n",
    "warnings.filterwarnings(\"ignore\", category=DeprecationWarning) \n",
    "warnings.filterwarnings(\"ignore\", category=numpy.VisibleDeprecationWarning)"
   ]
  },
  {
   "cell_type": "markdown",
   "metadata": {},
   "source": [
    "### Load meta data"
   ]
  },
  {
   "cell_type": "code",
   "execution_count": 8,
   "metadata": {},
   "outputs": [],
   "source": [
    "# easy loading of meta data in a consistent manner across code\n",
    "individuals, populations, regions = simons_meta_data.get_meta_data(meta_data_dir=meta_data_dir)\n",
    "\n",
    "chromosome_lengths = dict((k.replace('chr', ''), v) for k, v in hg19_chrom_sizes.hg19_chrom_sizes.items())"
   ]
  },
  {
   "cell_type": "markdown",
   "metadata": {},
   "source": [
    "\n",
    "## Compile data frame with ARGweaver TMRCA stats"
   ]
  },
  {
   "cell_type": "code",
   "execution_count": 9,
   "metadata": {},
   "outputs": [],
   "source": [
    "from functools import wraps\n",
    "\n",
    "def dfstore(groupby=[]):\n",
    "    def decorator(func):\n",
    "        @wraps(func)\n",
    "        def func_wrapper(df):\n",
    "            df = pandas.read_hdf(str(df))        \n",
    "            if groupby:\n",
    "                result_df = df.groupby(groupby).apply(func).reset_index(level=groupby)\n",
    "#                result_df.index = result_df\n",
    "            else:\n",
    "                result_df = func(df)\n",
    "            return result_df\n",
    "        return func_wrapper\n",
    "    return decorator"
   ]
  },
  {
   "cell_type": "code",
   "execution_count": null,
   "metadata": {},
   "outputs": [],
   "source": [
    "# DOES THIS MAKE SENSE IF THERE IS ONLY ONE ROW IN EACH GROUP.....\n",
    "\n",
    "\n",
    "@dfstore(groupby=['MCMC_sample', 'chain'])\n",
    "#@dfstore()\n",
    "def tmrca_means(df):    \n",
    "    return DataFrame({'start': [df.start.min()],\n",
    "                      'end': [df.end.max()],\n",
    "                      'tmrca_half': [df.tmrca_half.mean()], \n",
    "                      'rel_tmrca_half': [df.tmrca_half.mean() / df.tmrca.mean()], \n",
    "                      'tmrca': [df.tmrca.mean()] })\n",
    "\n",
    "#scatter_func(tmrca_means)\n",
    "\n",
    "# dir with a hdf with tmrca stats for each window\n",
    "df_list = list()\n",
    "for reg in list(regions.keys())  + ['World']:\n",
    "    tmrca_dir = steps_dir / 'argweaver/tmrca/{}'.format(reg)\n",
    "    \n",
    "    with Pool(int(os.environ['SLURM_CPUS_PER_TASK'])) as p:\n",
    "        df = pandas.concat(p.map(tmrca_means, sorted(tmrca_dir.iterdir())))\n",
    "#     df = pandas.concat(dview.map(tmrca_means, sorted(tmrca_dir.iterdir())))\n",
    "    \n",
    "    df['region'] = reg\n",
    "    df_list.append(df)\n",
    "raw_stats = pandas.concat(df_list)\n",
    "raw_stats.head()"
   ]
  },
  {
   "cell_type": "markdown",
   "metadata": {},
   "source": [
    "## Analyze convergence of mean statistics from samples in the two chains"
   ]
  },
  {
   "cell_type": "markdown",
   "metadata": {},
   "source": [
    "Plot the tmrca and tmrca_half for each chain:"
   ]
  },
  {
   "cell_type": "code",
   "execution_count": null,
   "metadata": {},
   "outputs": [],
   "source": [
    "df = (raw_stats\n",
    "      .loc[lambda df: df.region=='World']\n",
    "      .groupby(['region', 'start', 'end', 'chain'])\n",
    "      .mean()\n",
    "      .reset_index()      \n",
    "     )\n",
    "plot_df = pandas.melt(df, \n",
    "                  id_vars=['start', 'chain'], \n",
    "                  value_vars=['tmrca', 'tmrca_half'], \n",
    "                  var_name='statistic', value_name='value')\n",
    "\n",
    "g = sns.FacetGrid(plot_df, row='statistic', hue='chain', size=3, aspect=3, sharey=False)\n",
    "\n",
    "fig = g.map(plt.plot, 'start', \"value\")\n",
    "\n",
    "# fig = g.map(plt.plot, 'start', \"value\").fig\n",
    "# mpld3.display(fig)"
   ]
  },
  {
   "cell_type": "markdown",
   "metadata": {},
   "source": [
    "See if the correlation between arg stats in the two chains improve the longer they have run:"
   ]
  },
  {
   "cell_type": "code",
   "execution_count": null,
   "metadata": {},
   "outputs": [],
   "source": [
    "stats_list = ['tmrca', 'tmrca_half']\n",
    "\n",
    "def cross_chain_corr(df):\n",
    "    result_df = DataFrame()\n",
    "    for stat in stats_list:\n",
    "        chain0 = df.loc[df.chain == 1, ['start', stat]]\n",
    "        chain1 = df.loc[df.chain == 2, ['start', stat]]\n",
    "        both = pandas.merge(chain0, chain1, on='start', how='inner', \n",
    "                            suffixes=['_chain0', '_chain1'])\n",
    "        result_df[stat + '_corr'] = [both[stat + '_chain0'].corr(both[stat + '_chain1'])]\n",
    "    return result_df\n",
    "        \n",
    "g = (raw_stats#stats_by_sample_df\n",
    "     .loc[lambda df: df.region=='World']\n",
    "     .reset_index()\n",
    "     .groupby('MCMC_sample')\n",
    "     .apply(cross_chain_corr)\n",
    "     .plot(figsize=(9, 5))\n",
    "    )\n"
   ]
  },
  {
   "cell_type": "markdown",
   "metadata": {},
   "source": [
    "## Write mean stats for merged chains to hdf"
   ]
  },
  {
   "cell_type": "code",
   "execution_count": null,
   "metadata": {},
   "outputs": [],
   "source": [
    "tmrca_stats = raw_stats.groupby(['region', 'start', 'end']).mean().reset_index()\n",
    "\n",
    "# write to results\n",
    "tmrca_stats.to_hdf(str(results_dir / 'tmrca_stats.hdf'), 'df', format='table', mode='w')    "
   ]
  },
  {
   "cell_type": "markdown",
   "metadata": {},
   "source": [
    "## TMRCA and TMRCA_half across chrX"
   ]
  },
  {
   "cell_type": "markdown",
   "metadata": {},
   "source": [
    "Plot the stats for both chains pooled:"
   ]
  },
  {
   "cell_type": "code",
   "execution_count": null,
   "metadata": {},
   "outputs": [],
   "source": [
    "df = tmrca_stats.loc[tmrca_stats.region=='World']\n",
    "fig, ax = plt.subplots(figsize=(10, 4))\n",
    "ax.plot(df.start, df.tmrca)\n",
    "ax.plot(df.start, df.tmrca_half)\n",
    "ax.legend(loc='upper right')\n",
    "plt.show()"
   ]
  },
  {
   "cell_type": "code",
   "execution_count": null,
   "metadata": {},
   "outputs": [],
   "source": [
    "df = tmrca_stats.loc[tmrca_stats.region=='World']\n",
    "fig, ax = plt.subplots(figsize=(10, 4))\n",
    "ratio = df.tmrca_half/df.tmrca\n",
    "ax.plot(df.start, ratio)\n",
    "\n",
    "filtered = lowess(ratio, df.start, is_sorted=True, frac=0.01, it=0)\n",
    "ax.plot(filtered[:,0], filtered[:,1])\n",
    "\n",
    "plt.show()"
   ]
  },
  {
   "cell_type": "markdown",
   "metadata": {},
   "source": [
    "Plot the $-\\log\\Big[\\frac{TMRCA_{half}}{TMRCA}\\Big]$"
   ]
  },
  {
   "cell_type": "code",
   "execution_count": null,
   "metadata": {},
   "outputs": [],
   "source": [
    "df = tmrca_stats.loc[tmrca_stats.region=='World']\n",
    "fig, ax = plt.subplots(figsize=(10, 4))\n",
    "log_ratio = -numpy.log10(df.tmrca_half/df.tmrca)\n",
    "ax.plot(df.start, log_ratio)\n",
    "\n",
    "filtered = lowess(log_ratio, df.start, is_sorted=True, frac=0.01, it=0)\n",
    "ax.plot(filtered[:,0], filtered[:,1])\n",
    "\n",
    "plt.show()"
   ]
  },
  {
   "cell_type": "code",
   "execution_count": null,
   "metadata": {},
   "outputs": [],
   "source": [
    "df = tmrca_stats.loc[tmrca_stats.region=='World']\n",
    "fig, ax = plt.subplots(figsize=(10, 4))\n",
    "log_ratio = -numpy.log10(df.tmrca_half/df.tmrca)\n",
    "ax.plot(df.start, log_ratio, 'o', ms=2)\n",
    "\n",
    "filtered = lowess(log_ratio, df.start, is_sorted=True, frac=0.005, it=0)\n",
    "ax.plot(filtered[:,0], filtered[:,1])\n",
    "\n",
    "plt.show()"
   ]
  },
  {
   "cell_type": "code",
   "execution_count": null,
   "metadata": {},
   "outputs": [],
   "source": []
  }
 ],
 "metadata": {
  "anaconda-cloud": {},
  "kernelspec": {
   "display_name": "Python 3",
   "language": "python",
   "name": "python3"
  },
  "language_info": {
   "codemirror_mode": {
    "name": "ipython",
    "version": 3
   },
   "file_extension": ".py",
   "mimetype": "text/x-python",
   "name": "python",
   "nbconvert_exporter": "python",
   "pygments_lexer": "ipython3",
   "version": "3.6.9"
  }
 },
 "nbformat": 4,
 "nbformat_minor": 4
}
