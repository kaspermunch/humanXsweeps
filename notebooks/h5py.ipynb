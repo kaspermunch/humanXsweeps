{
 "cells": [
  {
   "cell_type": "code",
   "execution_count": 3,
   "metadata": {},
   "outputs": [],
   "source": [
    "import pandas as pd\n",
    "import h5py"
   ]
  },
  {
   "cell_type": "code",
   "execution_count": 4,
   "metadata": {},
   "outputs": [],
   "source": [
    "%matplotlib inline\n",
    "\n",
    "# Make inline plots vector graphics instead of raster graphics\n",
    "from IPython.display import set_matplotlib_formats\n",
    "#set_matplotlib_formats('pdf', 'svg')\n",
    "set_matplotlib_formats('retina', 'png')\n",
    "\n",
    "import matplotlib\n",
    "import matplotlib.pyplot as plt\n",
    "from matplotlib.colors import ListedColormap\n",
    "from matplotlib.patches import Rectangle\n",
    "#matplotlib.rcParams['figure.figsize'] = (20.0, 10.0)\n",
    "\n",
    "import mpld3\n",
    "\n",
    "import seaborn as sns\n",
    "sns.set()\n",
    "sns.set_style(\"whitegrid\")\n",
    "sns.set_context(\"paper\")\n",
    "\n",
    "# lowess for plotting\n",
    "from statsmodels.nonparametric.smoothers_lowess import lowess\n",
    "\n",
    "def stairs(df, start='start', end='end', pos='pos', endtrim=0):\n",
    "    \"Turn a df with start, end into one with pos to plot as stairs\"\n",
    "    df1 = df.copy(deep=True)\n",
    "    df2 = df.copy(deep=True)\n",
    "    df1[pos] = df1[start]\n",
    "    df2[pos] = df2[end] - endtrim\n",
    "    return pd.concat([df1, df2]).sort_values([start, end])"
   ]
  },
  {
   "cell_type": "code",
   "execution_count": 6,
   "metadata": {},
   "outputs": [],
   "source": [
    "h5 = h5py.File('../steps/clues/clues_2_136608646_CEU.h5', 'r')"
   ]
  },
  {
   "cell_type": "code",
   "execution_count": 7,
   "metadata": {},
   "outputs": [
    {
     "name": "stdout",
     "output_type": "stream",
     "text": [
      "freqs (45,)\n",
      "iHat ()\n",
      "iSel (1,)\n",
      "jHat ()\n",
      "popsize (40,)\n",
      "sGrid (50,)\n",
      "sHat ()\n",
      "samplingPopsize (40,)\n",
      "t (40,)\n",
      "tHat ()\n",
      "xHat (39,)\n",
      "xHatHi (39,)\n",
      "xHatLo (39,)\n"
     ]
    }
   ],
   "source": [
    "for key, val in h5.attrs.items():\n",
    "#     print(key, val)\n",
    "    print(key, val.shape)"
   ]
  },
  {
   "cell_type": "code",
   "execution_count": 8,
   "metadata": {},
   "outputs": [
    {
     "name": "stdout",
     "output_type": "stream",
     "text": [
      "logImportanceWeights (50, 1, 291)\n",
      "logLikelihoodRatios (50, 1)\n",
      "xMargs (39, 45)\n"
     ]
    }
   ],
   "source": [
    "for key, val in h5.items():\n",
    "    print(key, val.shape)"
   ]
  },
  {
   "cell_type": "code",
   "execution_count": 9,
   "metadata": {},
   "outputs": [
    {
     "data": {
      "text/plain": [
       "array([[-556.45023362, -424.28859659, -428.01592398, -480.35988622,\n",
       "        -456.33052599, -533.06528701, -621.27379668, -605.85500329,\n",
       "        -574.10252194, -586.4334661 , -598.5405137 , -593.98848937,\n",
       "        -694.27458172, -604.5592601 , -659.42157969, -592.4050548 ,\n",
       "        -640.20369452, -605.32557574, -649.76436318, -634.41218664,\n",
       "        -644.44413999, -562.77362609, -584.8478456 , -573.76882688,\n",
       "        -579.02005645, -686.8183282 , -584.6362625 , -545.44108013,\n",
       "        -545.1057994 , -567.96401585, -471.56766078, -513.81956422,\n",
       "        -470.0800408 , -495.73910028, -531.67573035, -528.98169264,\n",
       "        -566.82025413, -556.13805848, -545.71265984, -503.1667968 ,\n",
       "        -459.45426922, -472.22257226, -441.82867211, -441.17454103,\n",
       "        -428.40891641, -442.20419671, -418.28590227, -422.84827941,\n",
       "        -372.3734258 , -371.23553831, -439.21106955, -446.09261158,\n",
       "        -434.57329867, -407.97460073, -372.84613548, -383.33382363,\n",
       "        -409.60885201, -442.99063672, -439.38782574, -442.10443281,\n",
       "        -475.37067109, -472.35356235, -419.31755964, -356.86918981,\n",
       "        -343.16322883, -357.41725505, -402.87209876, -357.2209608 ,\n",
       "        -397.66541998, -401.15459014, -417.38003695, -414.27518808,\n",
       "        -479.43330446, -470.63755343, -450.94235   , -433.60878537,\n",
       "        -403.6622297 , -465.36408234, -433.32819593, -445.93154089,\n",
       "        -404.01927424, -376.44772654, -401.06293051, -450.36852555,\n",
       "        -436.22290122, -440.00734381, -454.9641656 , -453.39181278,\n",
       "        -391.62184926, -423.67533025, -450.88436793, -499.68710679,\n",
       "        -476.19268199, -487.57116644, -423.30177085, -440.9142237 ,\n",
       "        -402.90371898, -451.95183539, -419.82714761, -450.96463107,\n",
       "        -486.48543713, -461.59337787, -553.66881077, -502.60692944,\n",
       "        -442.87593992, -471.59049279, -436.34482212, -428.84319161,\n",
       "        -446.56582902, -436.96039802, -411.86223284, -406.90103679,\n",
       "        -370.62508528, -401.01418043, -417.25942087, -428.94302441,\n",
       "        -407.35074682, -440.22136104, -428.52487949, -432.96333897,\n",
       "        -416.69358135, -377.80426253, -415.81279812, -384.25735187,\n",
       "        -398.17451334, -407.28881983, -378.56958037, -351.82219773,\n",
       "        -399.20448998, -373.5645263 , -345.34027758, -360.59420155,\n",
       "        -363.41724552, -370.58938779, -389.53670261, -369.89622642,\n",
       "        -370.26210905, -364.21293009, -423.83140356, -489.36332819,\n",
       "        -423.68612325, -423.58024692, -369.29447266, -335.78785068,\n",
       "        -327.19841729, -348.25112988, -385.05661163, -302.59701743,\n",
       "        -340.44123696, -339.19561462, -313.96186321, -349.23140959,\n",
       "        -357.03373391, -364.75109485, -412.62503   , -376.05272776,\n",
       "        -314.22426679, -391.69951752, -429.80145165, -514.08087202,\n",
       "        -434.00373202, -436.96497031, -443.89315826, -436.25931678,\n",
       "        -423.45687951, -404.1765619 , -433.06063032, -380.53886875,\n",
       "        -386.80191212, -364.76625434, -354.26411764, -371.40774958,\n",
       "        -388.45144749, -409.26382493, -417.96417136, -406.0044063 ,\n",
       "        -463.34521929, -424.39832084, -431.27435346, -400.34109296,\n",
       "        -434.47747694, -370.25175805, -360.47193161, -410.11543689,\n",
       "        -420.31702016, -444.4052717 , -401.19521473, -409.81569775,\n",
       "        -366.40956092, -413.80394394, -397.77729372, -368.84537685,\n",
       "        -340.82508397, -354.42091247, -342.70036778, -323.51763734,\n",
       "        -369.0622077 , -372.51905739, -394.85640584, -366.9674287 ,\n",
       "        -371.69563677, -400.45278706, -404.64966427, -422.43893315,\n",
       "        -409.74146562, -377.20451627, -378.03790029, -381.36086912,\n",
       "        -399.5686194 , -357.19411922, -375.59725905, -390.10122144,\n",
       "        -412.68308575, -374.48491137, -389.51526759, -392.30071267,\n",
       "        -382.97314302, -406.18467737, -392.11630096, -374.12356363,\n",
       "        -357.98597755, -391.67234339, -386.36302984, -477.15360246,\n",
       "        -420.27608331, -389.94812449, -399.94217287, -393.76401557,\n",
       "        -363.84810968, -331.15645575, -344.11339328, -341.83866406,\n",
       "        -308.55328109, -333.79621177, -344.93231612, -397.79397466,\n",
       "        -414.53155318, -342.46268071, -320.62617066, -393.69116022,\n",
       "        -389.69392816, -373.96891121, -331.09922573, -347.57360813,\n",
       "        -368.96449152, -353.22962036, -389.25523986, -392.60795069,\n",
       "        -348.85761113, -381.50840559, -370.92248879, -378.55429339,\n",
       "        -342.99659719, -350.37580018, -320.55980733, -344.8263764 ,\n",
       "        -377.24687035, -378.34093006, -421.4545977 , -447.98327592,\n",
       "        -441.14420346, -400.68349496, -470.71854482, -411.75465849,\n",
       "        -430.79645155, -460.26018368, -372.49475655, -357.4462267 ,\n",
       "        -407.96510875, -433.76601268, -441.32177998, -423.93950687,\n",
       "        -396.93717754, -378.52523237, -346.78603799, -359.7602761 ,\n",
       "        -361.4677068 , -366.93304912, -368.56351633, -351.78654836,\n",
       "        -347.50526871, -318.83803387, -336.54559358, -346.03863182,\n",
       "        -344.75399952, -329.9178224 , -336.34462209, -373.57311344,\n",
       "        -359.39115378, -315.50638787, -319.745266  ]])"
      ]
     },
     "execution_count": 9,
     "metadata": {},
     "output_type": "execute_result"
    }
   ],
   "source": [
    "h5['logImportanceWeights'][0]"
   ]
  },
  {
   "cell_type": "code",
   "execution_count": 10,
   "metadata": {},
   "outputs": [
    {
     "data": {
      "text/plain": [
       "array([[0.        ],\n",
       "       [0.06425493],\n",
       "       [0.14471274],\n",
       "       [0.24555967],\n",
       "       [0.37211743],\n",
       "       [0.53117696],\n",
       "       [0.7314382 ],\n",
       "       [0.98408592],\n",
       "       [1.30352847],\n",
       "       [1.7083067 ]])"
      ]
     },
     "execution_count": 10,
     "metadata": {},
     "output_type": "execute_result"
    }
   ],
   "source": [
    "h5['logLikelihoodRatios'][:10]"
   ]
  },
  {
   "cell_type": "code",
   "execution_count": 11,
   "metadata": {},
   "outputs": [
    {
     "data": {
      "text/plain": [
       "<HDF5 dataset \"xMargs\": shape (39, 45), type \"<f8\">"
      ]
     },
     "execution_count": 11,
     "metadata": {},
     "output_type": "execute_result"
    }
   ],
   "source": [
    "h5['xMargs']"
   ]
  },
  {
   "cell_type": "code",
   "execution_count": 12,
   "metadata": {},
   "outputs": [],
   "source": [
    "# ax = sns.heatmap(h5['xMargs']) ;\n",
    "# ax.invert_yaxis()"
   ]
  },
  {
   "cell_type": "code",
   "execution_count": 13,
   "metadata": {},
   "outputs": [
    {
     "data": {
      "image/png": "[encoded data removed]",
      "text/plain": [
       "<Figure size 432x288 with 1 Axes>"
      ]
     },
     "metadata": {
      "image/png": {
       "height": 249,
       "width": 372
      }
     },
     "output_type": "display_data"
    }
   ],
   "source": [
    "df = pd.DataFrame(dict(start=h5.attrs['t'][:-1], \n",
    "                       end=h5.attrs['t'][1:], \n",
    "                       freq=h5.attrs['xHat'],\n",
    "                       upper=h5.attrs['xHatHi'],\n",
    "                       lower=h5.attrs['xHatLo']\n",
    "                           ))\n",
    "\n",
    "plot_df = stairs(df)\n",
    "with sns.axes_style('white'):\n",
    "    plt.plot(plot_df.pos, plot_df.upper, color='lightgrey', linewidth=2)\n",
    "    plt.plot(plot_df.pos, plot_df.lower, color='lightgrey', linewidth=2)\n",
    "    plt.plot(plot_df.pos, plot_df.freq, color='grey', linewidth=2)"
   ]
  },
  {
   "cell_type": "code",
   "execution_count": 23,
   "metadata": {},
   "outputs": [
    {
     "data": {
      "image/png": "[encoded data removed]",
      "text/plain": [
       "<Figure size 432x288 with 1 Axes>"
      ]
     },
     "metadata": {
      "image/png": {
       "height": 249,
       "width": 382
      }
     },
     "output_type": "display_data"
    }
   ],
   "source": [
    "plot_df = stairs(df)\n",
    "with sns.axes_style('ticks'):\n",
    "    plt.fill_between(plot_df.pos, plot_df.upper, plot_df.lower, color='lightgrey')\n",
    "    plt.plot(plot_df.pos, plot_df.freq, color='black', linewidth=2)\n",
    "#    sns.despine()\n",
    "    plt.xlim(0, 5000)"
   ]
  },
  {
   "cell_type": "code",
   "execution_count": 15,
   "metadata": {},
   "outputs": [],
   "source": [
    "logLikeliboodRatio = h5['logLikelihoodRatios'][h5.attrs['iHat'], h5.attrs['jHat']]\n",
    "selection_coefihcient = h5.attrs['sHat']"
   ]
  },
  {
   "cell_type": "code",
   "execution_count": 16,
   "metadata": {},
   "outputs": [
    {
     "data": {
      "text/plain": [
       "(471.0388556516471, 0.0353347351159627)"
      ]
     },
     "execution_count": 16,
     "metadata": {},
     "output_type": "execute_result"
    }
   ],
   "source": [
    "logLikeliboodRatio, selection_coefihcient"
   ]
  },
  {
   "cell_type": "code",
   "execution_count": null,
   "metadata": {},
   "outputs": [],
   "source": []
  }
 ],
 "metadata": {
  "kernelspec": {
   "display_name": "Python 3",
   "language": "python",
   "name": "python3"
  },
  "language_info": {
   "codemirror_mode": {
    "name": "ipython",
    "version": 3
   },
   "file_extension": ".py",
   "mimetype": "text/x-python",
   "name": "python",
   "nbconvert_exporter": "python",
   "pygments_lexer": "ipython3",
   "version": "3.6.9"
  }
 },
 "nbformat": 4,
 "nbformat_minor": 4
}
