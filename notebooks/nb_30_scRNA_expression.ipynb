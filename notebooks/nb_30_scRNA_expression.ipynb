{
 "cells": [
  {
   "cell_type": "markdown",
   "metadata": {},
   "source": [
    "# Template"
   ]
  },
  {
   "cell_type": "code",
   "execution_count": 2,
   "metadata": {},
   "outputs": [],
   "source": [
    "import re, os, sys, pickle, pickle\n",
    "from pathlib import Path\n",
    "import numpy as np\n",
    "import pandas as pd\n",
    "from pandas import DataFrame, Series\n",
    "from sklearn.decomposition import PCA\n",
    "\n",
    "# my own libaries\n",
    "from ChromosomeWindows import window\n",
    "import genominterv\n",
    "\n",
    "np.random.seed(7)"
   ]
  },
  {
   "cell_type": "markdown",
   "metadata": {},
   "source": [
    "Plotting setup:"
   ]
  },
  {
   "cell_type": "code",
   "execution_count": 3,
   "metadata": {},
   "outputs": [],
   "source": [
    "%matplotlib inline\n",
    "\n",
    "# Make inline plots vector graphics instead of raster graphics\n",
    "from IPython.display import set_matplotlib_formats\n",
    "#set_matplotlib_formats('pdf', 'svg')\n",
    "set_matplotlib_formats('retina', 'png')\n",
    "\n",
    "import matplotlib\n",
    "import matplotlib.pyplot as plt\n",
    "from matplotlib.colors import ListedColormap\n",
    "from matplotlib.patches import Rectangle\n",
    "# from mpl_toolkits.basemap import Basemap\n",
    "#matplotlib.rcParams['figure.figsize'] = (20.0, 10.0)\n",
    "\n",
    "import mpld3\n",
    "\n",
    "import seaborn as sns\n",
    "sns.set()\n",
    "sns.set_style(\"whitegrid\")\n",
    "sns.set_context(\"paper\")\n",
    "\n",
    "# lowess for plotting\n",
    "from statsmodels.nonparametric.smoothers_lowess import lowess\n",
    "\n",
    "def stairs(df, start='start', end='end', pos='pos', endtrim=0):\n",
    "    \"Turn a df with start, end into one with pos to plot as stairs\"\n",
    "    df1 = df.copy(deep=True)\n",
    "    df2 = df.copy(deep=True)\n",
    "    df1[pos] = df1[start]\n",
    "    df2[pos] = df2[end] - endtrim\n",
    "    return pandas.concat([df1, df2]).sort_values([start, end])"
   ]
  },
  {
   "cell_type": "markdown",
   "metadata": {},
   "source": [
    "Ignore deprecation warnings from mainly seaborn:"
   ]
  },
  {
   "cell_type": "code",
   "execution_count": 4,
   "metadata": {},
   "outputs": [],
   "source": [
    "# silence deprecation warnings (lots from seaborn)\n",
    "import warnings\n",
    "warnings.filterwarnings(\"ignore\", category=DeprecationWarning) \n",
    "warnings.filterwarnings(\"ignore\", category=np.VisibleDeprecationWarning)\n",
    "warnings.filterwarnings(\"ignore\",category=matplotlib.cbook.mplDeprecation)"
   ]
  },
  {
   "cell_type": "markdown",
   "metadata": {},
   "source": [
    "Import variables global to the entire analysis:"
   ]
  },
  {
   "cell_type": "code",
   "execution_count": 5,
   "metadata": {},
   "outputs": [],
   "source": [
    "import analysis_globals as ag"
   ]
  },
  {
   "cell_type": "markdown",
   "metadata": {},
   "source": [
    "Local code in the scripts dir on the cluster:"
   ]
  },
  {
   "cell_type": "code",
   "execution_count": 6,
   "metadata": {},
   "outputs": [],
   "source": [
    "scripts_dir = ag.root_dir / 'scripts'\n",
    "if str(scripts_dir) not in sys.path:\n",
    "    sys.path.append(str(scripts_dir))\n",
    "\n",
    "import simons_meta_data\n",
    "import hg19_chrom_sizes"
   ]
  },
  {
   "cell_type": "code",
   "execution_count": 7,
   "metadata": {},
   "outputs": [],
   "source": [
    "scRNA_counts = pd.read_table(ag.data_dir / 'meritxell/counts_all_genes_2.tsv')\n",
    "scRNA_means = pd.read_table(ag.data_dir / 'meritxell/means_all_genes_2.tsv')\n",
    "scRNA_medians = pd.read_table(ag.data_dir / 'meritxell/medians_all_genes_2.tsv')\n",
    "scRNA_std = pd.read_table(ag.data_dir / 'meritxell/standard_deviation_all_genes_2.tsv')"
   ]
  },
  {
   "cell_type": "code",
   "execution_count": 8,
   "metadata": {},
   "outputs": [
    {
     "data": {
      "text/html": [
       "<div>\n",
       "<style scoped>\n",
       "    .dataframe tbody tr th:only-of-type {\n",
       "        vertical-align: middle;\n",
       "    }\n",
       "\n",
       "    .dataframe tbody tr th {\n",
       "        vertical-align: top;\n",
       "    }\n",
       "\n",
       "    .dataframe thead th {\n",
       "        text-align: right;\n",
       "    }\n",
       "</style>\n",
       "<table border=\"1\" class=\"dataframe\">\n",
       "  <thead>\n",
       "    <tr style=\"text-align: right;\">\n",
       "      <th></th>\n",
       "      <th>index</th>\n",
       "      <th>Early_spermatids:13</th>\n",
       "      <th>Early_spermatids:16</th>\n",
       "      <th>Early_spermatids:4</th>\n",
       "      <th>Endothelial:8</th>\n",
       "      <th>Late_spermatids:1</th>\n",
       "      <th>Late_spermatids:7</th>\n",
       "      <th>Leydig:0</th>\n",
       "      <th>Leydig:2</th>\n",
       "      <th>Macrophages:9</th>\n",
       "      <th>Meiosis:6</th>\n",
       "      <th>Myoid:11</th>\n",
       "      <th>Myoid:18</th>\n",
       "      <th>SSC:12</th>\n",
       "      <th>Sertoli:14</th>\n",
       "      <th>Sertoli:15</th>\n",
       "      <th>Spermatids:17</th>\n",
       "      <th>Spermatids:3</th>\n",
       "      <th>Spermatocytes:10</th>\n",
       "      <th>Spermatocytes:5</th>\n",
       "    </tr>\n",
       "  </thead>\n",
       "  <tbody>\n",
       "    <tr>\n",
       "      <th>0</th>\n",
       "      <td>DDX11L1</td>\n",
       "      <td>0.000000</td>\n",
       "      <td>0.000000</td>\n",
       "      <td>0.000000</td>\n",
       "      <td>0.000000</td>\n",
       "      <td>0.00000</td>\n",
       "      <td>0.000000</td>\n",
       "      <td>0.0</td>\n",
       "      <td>0.000000</td>\n",
       "      <td>0.0</td>\n",
       "      <td>0.000910</td>\n",
       "      <td>0.000000</td>\n",
       "      <td>0.0</td>\n",
       "      <td>0.001460</td>\n",
       "      <td>0.000000</td>\n",
       "      <td>0.002155</td>\n",
       "      <td>0.0</td>\n",
       "      <td>0.000000</td>\n",
       "      <td>0.001295</td>\n",
       "      <td>0.000000</td>\n",
       "    </tr>\n",
       "    <tr>\n",
       "      <th>1</th>\n",
       "      <td>RP11-34P13.3</td>\n",
       "      <td>0.000000</td>\n",
       "      <td>0.005115</td>\n",
       "      <td>0.000000</td>\n",
       "      <td>0.000000</td>\n",
       "      <td>0.00000</td>\n",
       "      <td>0.001883</td>\n",
       "      <td>0.0</td>\n",
       "      <td>0.000000</td>\n",
       "      <td>0.0</td>\n",
       "      <td>0.000910</td>\n",
       "      <td>0.000000</td>\n",
       "      <td>0.0</td>\n",
       "      <td>0.000000</td>\n",
       "      <td>0.000000</td>\n",
       "      <td>0.000000</td>\n",
       "      <td>0.0</td>\n",
       "      <td>0.000000</td>\n",
       "      <td>0.000000</td>\n",
       "      <td>0.008569</td>\n",
       "    </tr>\n",
       "    <tr>\n",
       "      <th>2</th>\n",
       "      <td>OR4G11P</td>\n",
       "      <td>0.000000</td>\n",
       "      <td>0.000000</td>\n",
       "      <td>0.000000</td>\n",
       "      <td>0.000000</td>\n",
       "      <td>0.00000</td>\n",
       "      <td>0.000000</td>\n",
       "      <td>0.0</td>\n",
       "      <td>0.000000</td>\n",
       "      <td>0.0</td>\n",
       "      <td>0.000000</td>\n",
       "      <td>0.000000</td>\n",
       "      <td>0.0</td>\n",
       "      <td>0.001460</td>\n",
       "      <td>0.000000</td>\n",
       "      <td>0.000000</td>\n",
       "      <td>0.0</td>\n",
       "      <td>0.000000</td>\n",
       "      <td>0.000000</td>\n",
       "      <td>0.000000</td>\n",
       "    </tr>\n",
       "    <tr>\n",
       "      <th>3</th>\n",
       "      <td>OR4F5</td>\n",
       "      <td>0.000000</td>\n",
       "      <td>0.002558</td>\n",
       "      <td>0.000000</td>\n",
       "      <td>0.000000</td>\n",
       "      <td>0.00000</td>\n",
       "      <td>0.000000</td>\n",
       "      <td>0.0</td>\n",
       "      <td>0.000000</td>\n",
       "      <td>0.0</td>\n",
       "      <td>0.000000</td>\n",
       "      <td>0.000000</td>\n",
       "      <td>0.0</td>\n",
       "      <td>0.002920</td>\n",
       "      <td>0.000000</td>\n",
       "      <td>0.000000</td>\n",
       "      <td>0.0</td>\n",
       "      <td>0.000000</td>\n",
       "      <td>0.000000</td>\n",
       "      <td>0.000000</td>\n",
       "    </tr>\n",
       "    <tr>\n",
       "      <th>4</th>\n",
       "      <td>RP11-34P13.7</td>\n",
       "      <td>0.019667</td>\n",
       "      <td>0.002558</td>\n",
       "      <td>0.000803</td>\n",
       "      <td>0.001222</td>\n",
       "      <td>0.00053</td>\n",
       "      <td>0.003766</td>\n",
       "      <td>0.0</td>\n",
       "      <td>0.001105</td>\n",
       "      <td>0.0</td>\n",
       "      <td>0.019108</td>\n",
       "      <td>0.001422</td>\n",
       "      <td>0.0</td>\n",
       "      <td>0.008759</td>\n",
       "      <td>0.001887</td>\n",
       "      <td>0.002155</td>\n",
       "      <td>0.0</td>\n",
       "      <td>0.006811</td>\n",
       "      <td>0.014249</td>\n",
       "      <td>0.005998</td>\n",
       "    </tr>\n",
       "  </tbody>\n",
       "</table>\n",
       "</div>"
      ],
      "text/plain": [
       "          index  Early_spermatids:13  Early_spermatids:16  Early_spermatids:4  \\\n",
       "0       DDX11L1             0.000000             0.000000            0.000000   \n",
       "1  RP11-34P13.3             0.000000             0.005115            0.000000   \n",
       "2       OR4G11P             0.000000             0.000000            0.000000   \n",
       "3         OR4F5             0.000000             0.002558            0.000000   \n",
       "4  RP11-34P13.7             0.019667             0.002558            0.000803   \n",
       "\n",
       "   Endothelial:8  Late_spermatids:1  Late_spermatids:7  Leydig:0  Leydig:2  \\\n",
       "0       0.000000            0.00000           0.000000       0.0  0.000000   \n",
       "1       0.000000            0.00000           0.001883       0.0  0.000000   \n",
       "2       0.000000            0.00000           0.000000       0.0  0.000000   \n",
       "3       0.000000            0.00000           0.000000       0.0  0.000000   \n",
       "4       0.001222            0.00053           0.003766       0.0  0.001105   \n",
       "\n",
       "   Macrophages:9  Meiosis:6  Myoid:11  Myoid:18    SSC:12  Sertoli:14  \\\n",
       "0            0.0   0.000910  0.000000       0.0  0.001460    0.000000   \n",
       "1            0.0   0.000910  0.000000       0.0  0.000000    0.000000   \n",
       "2            0.0   0.000000  0.000000       0.0  0.001460    0.000000   \n",
       "3            0.0   0.000000  0.000000       0.0  0.002920    0.000000   \n",
       "4            0.0   0.019108  0.001422       0.0  0.008759    0.001887   \n",
       "\n",
       "   Sertoli:15  Spermatids:17  Spermatids:3  Spermatocytes:10  Spermatocytes:5  \n",
       "0    0.002155            0.0      0.000000          0.001295         0.000000  \n",
       "1    0.000000            0.0      0.000000          0.000000         0.008569  \n",
       "2    0.000000            0.0      0.000000          0.000000         0.000000  \n",
       "3    0.000000            0.0      0.000000          0.000000         0.000000  \n",
       "4    0.002155            0.0      0.006811          0.014249         0.005998  "
      ]
     },
     "execution_count": 8,
     "metadata": {},
     "output_type": "execute_result"
    }
   ],
   "source": [
    "scRNA_means.loc[scRNA_means.sum(axis = 1) > 0].head()"
   ]
  },
  {
   "cell_type": "code",
   "execution_count": 9,
   "metadata": {},
   "outputs": [],
   "source": [
    "cell_types = ['SSC:12',\n",
    " 'Meiosis:6',\n",
    " 'Early_spermatids:13',\n",
    " 'Early_spermatids:16',\n",
    " 'Spermatids:17',\n",
    " 'Late_spermatids:1',\n",
    " 'Late_spermatids:7',\n",
    " 'Spermatids:3',\n",
    " 'Early_spermatids:4',\n",
    " 'Spermatocytes:5',\n",
    " 'Spermatocytes:10',\n",
    " 'Leydig:0',\n",
    " 'Leydig:2',\n",
    " 'Endothelial:8',\n",
    " 'Macrophages:9',\n",
    " 'Sertoli:14',\n",
    " 'Sertoli:15',\n",
    " 'Myoid:11',\n",
    " 'Myoid:18']"
   ]
  },
  {
   "cell_type": "code",
   "execution_count": 10,
   "metadata": {},
   "outputs": [
    {
     "data": {
      "image/png": "[encoded data removed]",
      "text/plain": [
       "<Figure size 432x288 with 1 Axes>"
      ]
     },
     "metadata": {
      "image/png": {
       "height": 262,
       "width": 463
      }
     },
     "output_type": "display_data"
    }
   ],
   "source": [
    "def plot_expression(gene):\n",
    "    df = (scRNA_means\n",
    "     .loc[lambda df: df['index'] == gene] \n",
    "     .set_index('index')\n",
    "     .transpose()\n",
    "     .reset_index()\n",
    "     .assign(index=lambda df: pd.Categorical(df['index'], categories=cell_types, ordered=True))\n",
    "    )\n",
    "    sns.barplot(x=gene, y='index', data=df)\n",
    "\n",
    "plot_expression(\"HYAL3\")"
   ]
  },
  {
   "cell_type": "code",
   "execution_count": 11,
   "metadata": {},
   "outputs": [
    {
     "data": {
      "image/png": "[encoded data removed]",
      "text/plain": [
       "<Figure size 432x288 with 1 Axes>"
      ]
     },
     "metadata": {
      "image/png": {
       "height": 262,
       "width": 461
      }
     },
     "output_type": "display_data"
    }
   ],
   "source": [
    "plot_expression(\"PHF7\")"
   ]
  },
  {
   "cell_type": "code",
   "execution_count": 12,
   "metadata": {},
   "outputs": [
    {
     "data": {
      "text/plain": [
       "'/home/kmt/simons/faststorage/people/kmt/data/meritxell/umap_leiden_clusters.pdf'"
      ]
     },
     "execution_count": 12,
     "metadata": {},
     "output_type": "execute_result"
    }
   ],
   "source": [
    "str(ag.data_dir / 'meritxell/umap_leiden_clusters.pdf')"
   ]
  },
  {
   "cell_type": "code",
   "execution_count": 13,
   "metadata": {},
   "outputs": [
    {
     "data": {
      "text/html": [
       "\n",
       "        <iframe\n",
       "            width=\"400\"\n",
       "            height=\"300\"\n",
       "            src=\"../data/meritxell/umap_leiden_clusters.pdf\"\n",
       "            frameborder=\"0\"\n",
       "            allowfullscreen\n",
       "        ></iframe>\n",
       "        "
      ],
      "text/plain": [
       "<IPython.lib.display.IFrame at 0x2b8b90411b38>"
      ]
     },
     "execution_count": 13,
     "metadata": {},
     "output_type": "execute_result"
    }
   ],
   "source": [
    "from IPython.display import Image, IFrame\n",
    "from IPython.core.display import HTML\n",
    "IFrame('../data/meritxell/umap_leiden_clusters.pdf', width=400, height=300)\n"
   ]
  },
  {
   "cell_type": "markdown",
   "metadata": {},
   "source": [
    "## Genes with elevated expression in both placenta and testis\n",
    "\n",
    "According to Human protein atlas"
   ]
  },
  {
   "cell_type": "code",
   "execution_count": 14,
   "metadata": {},
   "outputs": [],
   "source": [
    "import mygene\n",
    "from IPython.display import Markdown, display\n",
    "\n",
    "from IPython.display import Image\n",
    "from IPython.core.display import HTML \n",
    "\n",
    "mg = mygene.MyGeneInfo()\n",
    "\n",
    "def gene_info(gene):\n",
    "    top_hit = mg.query(gene, species='human', scopes='hgnc',\n",
    "                       fields='symbol,alias,name,type_of_gene,summary,genomic_pos,genomic_pos_hg19')['hits'][0]\n",
    "\n",
    "    tmpl = \"**Symbol:** **_{symbol}_** \"\n",
    "\n",
    "    if 'type_of_gene' in top_hit:\n",
    "        tmpl += \"({type_of_gene})\"\n",
    "        \n",
    "    if 'alias' in top_hit:\n",
    "        if type(top_hit['alias']) is str:\n",
    "            top_hit['aliases'] = top_hit['alias']\n",
    "        else:\n",
    "            top_hit['aliases'] = ', '.join(top_hit['alias'])\n",
    "        tmpl += \" &nbsp; &nbsp; &nbsp; &nbsp; **Aliases:** {aliases}\"\n",
    "    tmpl += '  \\n'\n",
    "\n",
    "    if 'name' in top_hit:\n",
    "        tmpl += '*{name}*  \\n'\n",
    "\n",
    "    if 'summary' in top_hit:\n",
    "        tmpl += \"**Summary:** {summary}  \\n\"\n",
    "\n",
    "    if 'genomic_pos' in top_hit and 'genomic_pos_hg19' in top_hit:\n",
    "        if type(top_hit['genomic_pos']) is list:\n",
    "            top_hit['hg38'] = ', '.join(['{chr}:{start}-{end}'.format(**d) for d in top_hit['genomic_pos']])\n",
    "        else:\n",
    "            top_hit['hg38'] = '{chr}:{start}-{end}'.format(**top_hit['genomic_pos'])\n",
    "        if type(top_hit['genomic_pos_hg19']) is list:\n",
    "            top_hit['hg19'] = ', '.join(['{chr}:{start}-{end}'.format(**d) for d in top_hit['genomic_pos_hg19']])\n",
    "        else:\n",
    "            top_hit['hg19'] = '{chr}:{start}-{end}'.format(**top_hit['genomic_pos_hg19'])            \n",
    "        tmpl += \"**Genomic position:** {hg38} (hg38), {hg19} (hg19)  \\n\"\n",
    "\n",
    "    tmpl += \"[Gene card](https://www.genecards.org/cgi-bin/carddisp.pl?gene={symbol})  \\n\".format(**top_hit)\n",
    "    \n",
    "    tmpl += \"\\n\\n ----\"\n",
    "    \n",
    "    display(Markdown(tmpl.format(**top_hit)))"
   ]
  },
  {
   "cell_type": "code",
   "execution_count": 15,
   "metadata": {},
   "outputs": [
    {
     "data": {
      "text/markdown": [
       "**Symbol:** **_NAA11_** (protein-coding) &nbsp; &nbsp; &nbsp; &nbsp; **Aliases:** ARD1B, ARD2, hARD2  \n",
       "*N-alpha-acetyltransferase 11, NatA catalytic subunit*  \n",
       "**Genomic position:** 4:79225694-79326061 (hg38), 4:80146848-80247204 (hg19)  \n",
       "[Gene card](https://www.genecards.org/cgi-bin/carddisp.pl?gene=NAA11)  \n",
       "\n",
       "\n",
       " ----"
      ],
      "text/plain": [
       "<IPython.core.display.Markdown object>"
      ]
     },
     "metadata": {},
     "output_type": "display_data"
    },
    {
     "data": {
      "text/markdown": [
       "**Symbol:** **_EZHIP_** (protein-coding) &nbsp; &nbsp; &nbsp; &nbsp; **Aliases:** CATACOMB, CXorf67, KIP75  \n",
       "*EZH inhibitory protein*  \n",
       "[Gene card](https://www.genecards.org/cgi-bin/carddisp.pl?gene=EZHIP)  \n",
       "\n",
       "\n",
       " ----"
      ],
      "text/plain": [
       "<IPython.core.display.Markdown object>"
      ]
     },
     "metadata": {},
     "output_type": "display_data"
    },
    {
     "data": {
      "text/markdown": [
       "**Symbol:** **_RGPD1_** (protein-coding) &nbsp; &nbsp; &nbsp; &nbsp; **Aliases:** RGP1, RGPD2, RanBP2L2  \n",
       "*RANBP2 like and GRIP domain containing 1*  \n",
       "**Genomic position:** 2:86907953-87013976 (hg38), 2:87135076-87241104, 2:88055474-88285309 (hg19)  \n",
       "[Gene card](https://www.genecards.org/cgi-bin/carddisp.pl?gene=RGPD1)  \n",
       "\n",
       "\n",
       " ----"
      ],
      "text/plain": [
       "<IPython.core.display.Markdown object>"
      ]
     },
     "metadata": {},
     "output_type": "display_data"
    },
    {
     "data": {
      "text/markdown": [
       "**Symbol:** **_TRIML2_** (protein-coding) &nbsp; &nbsp; &nbsp; &nbsp; **Aliases:** SPRYD6  \n",
       "*tripartite motif family like 2*  \n",
       "**Summary:** This gene encodes a member of the tri-partite motif (TRIM) family of proteins. This protein may be regulated by the tumor suppressor p53 and may regulate p53 through the enhancement of p53 SUMOylation. Alternative splicing results in multiple transcript variants. [provided by RefSeq, Dec 2014].  \n",
       "**Genomic position:** 4:188091273-188109603 (hg38), 4:189012427-189030757 (hg19)  \n",
       "[Gene card](https://www.genecards.org/cgi-bin/carddisp.pl?gene=TRIML2)  \n",
       "\n",
       "\n",
       " ----"
      ],
      "text/plain": [
       "<IPython.core.display.Markdown object>"
      ]
     },
     "metadata": {},
     "output_type": "display_data"
    },
    {
     "data": {
      "text/markdown": [
       "**Symbol:** **_TUBB1_** (protein-coding)  \n",
       "*tubulin beta 1 class VI*  \n",
       "**Summary:** This gene encodes a member of the beta tubulin protein family. Beta tubulins are one of two core protein families (alpha and beta tubulins) that heterodimerize and assemble to form microtubules. This protein is specifically expressed in platelets and megakaryocytes and may be involved in proplatelet production and platelet release. A mutations in this gene is associated with autosomal dominant macrothrombocytopenia. Two pseudogenes of this gene are found on chromosome Y.[provided by RefSeq, Jul 2010].  \n",
       "**Genomic position:** 20:59019254-59026654 (hg38), 20:57594309-57601709 (hg19)  \n",
       "[Gene card](https://www.genecards.org/cgi-bin/carddisp.pl?gene=TUBB1)  \n",
       "\n",
       "\n",
       " ----"
      ],
      "text/plain": [
       "<IPython.core.display.Markdown object>"
      ]
     },
     "metadata": {},
     "output_type": "display_data"
    },
    {
     "data": {
      "text/markdown": [
       "**Symbol:** **_MAGEA10_** (protein-coding) &nbsp; &nbsp; &nbsp; &nbsp; **Aliases:** CT1.10, MAGE10  \n",
       "*MAGE family member A10*  \n",
       "**Summary:** This gene is a member of the MAGEA gene family. The members of this family encode proteins with 50 to 80% sequence identity to each other. The promoters and first exons of the MAGEA genes show considerable variability, suggesting that the existence of this gene family enables the same function to be expressed under different transcriptional controls. The MAGEA genes are clustered at chromosomal location Xq28. They have been implicated in some hereditary disorders, such as dyskeratosis congenita. Alternative splicing results in multiple transcript variants. Read-through transcription also exists between this gene and the downstream melanoma antigen family A, 5 (MAGEA5) gene.[provided by RefSeq, Oct 2011].  \n",
       "**Genomic position:** X:152133310-152138578 (hg38), X:151301782-151307033 (hg19)  \n",
       "[Gene card](https://www.genecards.org/cgi-bin/carddisp.pl?gene=MAGEA10)  \n",
       "\n",
       "\n",
       " ----"
      ],
      "text/plain": [
       "<IPython.core.display.Markdown object>"
      ]
     },
     "metadata": {},
     "output_type": "display_data"
    },
    {
     "data": {
      "text/markdown": [
       "**Symbol:** **_DPPA4_** (protein-coding) &nbsp; &nbsp; &nbsp; &nbsp; **Aliases:** 2410091M23Rik  \n",
       "*developmental pluripotency associated 4*  \n",
       "**Summary:** This gene encodes a nuclear factor that is involved in the maintenance of pluripotency in stem cells and essential for embryogenesis. The encoded protein has a scaffold-attachment factor A/B, acinus and PIAS (SAP) domain that binds DNA and is thought to modify chromatin. Mice with a homozygous knockout of the orthologous gene die during late embryonic development or within hours after birth. Knockout embryos are normal in size at embryonic day 18.5 but exhibit skeletal and lung tissue abnormalities. This gene, when mutated, is highly expressed in embryonal carcinomas, pluripotent germ cell tumors, and other cancers and is thought to play an important role in tumor progression. Multiple pseudogenes of this gene have been identified. Alternative splicing results in multiple transcript variants. [provided by RefSeq, Feb 2017].  \n",
       "**Genomic position:** 3:109326141-109337572 (hg38), 3:109044988-109056419 (hg19)  \n",
       "[Gene card](https://www.genecards.org/cgi-bin/carddisp.pl?gene=DPPA4)  \n",
       "\n",
       "\n",
       " ----"
      ],
      "text/plain": [
       "<IPython.core.display.Markdown object>"
      ]
     },
     "metadata": {},
     "output_type": "display_data"
    },
    {
     "data": {
      "text/markdown": [
       "**Symbol:** **_FAM184A_** (protein-coding) &nbsp; &nbsp; &nbsp; &nbsp; **Aliases:** C6orf60  \n",
       "*family with sequence similarity 184 member A*  \n",
       "**Genomic position:** 6:118959763-119149387 (hg38), 6:119280928-119470552 (hg19)  \n",
       "[Gene card](https://www.genecards.org/cgi-bin/carddisp.pl?gene=FAM184A)  \n",
       "\n",
       "\n",
       " ----"
      ],
      "text/plain": [
       "<IPython.core.display.Markdown object>"
      ]
     },
     "metadata": {},
     "output_type": "display_data"
    },
    {
     "data": {
      "text/markdown": [
       "**Symbol:** **_ATP1A4_** (protein-coding) &nbsp; &nbsp; &nbsp; &nbsp; **Aliases:** ATP1A1, ATP1AL2  \n",
       "*ATPase Na+/K+ transporting subunit alpha 4*  \n",
       "**Summary:** The protein encoded by this gene belongs to the family of P-type cation transport ATPases, and to the subfamily of Na+/K+ -ATPases. Na+/K+ -ATPase is an integral membrane protein responsible for establishing and maintaining the electrochemical gradients of Na and K ions across the plasma membrane. These gradients are essential for osmoregulation, for sodium-coupled transport of a variety of organic and inorganic molecules, and for electrical excitability of nerve and muscle. This enzyme is composed of two subunits, a large catalytic subunit (alpha) and a smaller glycoprotein subunit (beta). The catalytic subunit of Na+/K+ -ATPase is encoded by multiple genes. This gene encodes an alpha 4 subunit. Alternatively spliced transcript variants encoding different isoforms have been identified. [provided by RefSeq, Jul 2008].  \n",
       "**Genomic position:** 1:160151570-160186977 (hg38), 1:160121360-160156767 (hg19)  \n",
       "[Gene card](https://www.genecards.org/cgi-bin/carddisp.pl?gene=ATP1A4)  \n",
       "\n",
       "\n",
       " ----"
      ],
      "text/plain": [
       "<IPython.core.display.Markdown object>"
      ]
     },
     "metadata": {},
     "output_type": "display_data"
    },
    {
     "data": {
      "text/markdown": [
       "**Symbol:** **_CTAG2_** (protein-coding) &nbsp; &nbsp; &nbsp; &nbsp; **Aliases:** CAMEL, CT2, CT6.2, CT6.2a, CT6.2b, ESO2, LAGE-1, LAGE2B  \n",
       "*cancer/testis antigen 2*  \n",
       "**Summary:** This gene encodes an autoimmunogenic tumor antigen that belongs to the ESO/LAGE family of cancer-testis antigens. This protein is expressed in a wide array of cancers including melanoma, breast cancer, bladder cancer and prostate cancer. This protein is also expressed in normal testis tissue. An alternative open reading frame product of this gene has been described in PMID:10399963. This alternate protein, termed CAMEL, is a tumor antigen that is recognized by melanoma-specific cytotoxic T-lymphocytes. Alternate splicing results in multiple transcript variants. [provided by RefSeq, Sep 2013].  \n",
       "**Genomic position:** X:154651972-154653579 (hg38), HG1497_PATCH:153820440-153822047, X:153880246-153881853 (hg19)  \n",
       "[Gene card](https://www.genecards.org/cgi-bin/carddisp.pl?gene=CTAG2)  \n",
       "\n",
       "\n",
       " ----"
      ],
      "text/plain": [
       "<IPython.core.display.Markdown object>"
      ]
     },
     "metadata": {},
     "output_type": "display_data"
    },
    {
     "data": {
      "text/markdown": [
       "**Symbol:** **_IGDCC3_** (protein-coding) &nbsp; &nbsp; &nbsp; &nbsp; **Aliases:** HsT18880, PUNC  \n",
       "*immunoglobulin superfamily DCC subclass member 3*  \n",
       "**Genomic position:** 15:65327127-65378002 (hg38), 15:65619465-65670378 (hg19)  \n",
       "[Gene card](https://www.genecards.org/cgi-bin/carddisp.pl?gene=IGDCC3)  \n",
       "\n",
       "\n",
       " ----"
      ],
      "text/plain": [
       "<IPython.core.display.Markdown object>"
      ]
     },
     "metadata": {},
     "output_type": "display_data"
    },
    {
     "data": {
      "text/markdown": [
       "**Symbol:** **_LHX8_** (protein-coding) &nbsp; &nbsp; &nbsp; &nbsp; **Aliases:** LHX7  \n",
       "*LIM homeobox 8*  \n",
       "**Summary:** The protein encoded by this gene is a member of the LIM homeobox family of proteins, which are involved in patterning and differentiation of various tissue types. These proteins contain two tandemly repeated cysteine-rich double-zinc finger motifs known as LIM domains, in addition to a DNA-binding homeodomain. This family member is a transcription factor that plays a role in tooth morphogenesis. It is also involved in oogenesis and in neuronal differentiation. This gene is a candidate gene for cleft palate, and it is also associated with odontoma formation. Alternative splicing of this gene results in multiple transcript variants. [provided by RefSeq, Jan 2012].  \n",
       "**Genomic position:** 1:75128434-75161533 (hg38), 1:75594119-75627218 (hg19)  \n",
       "[Gene card](https://www.genecards.org/cgi-bin/carddisp.pl?gene=LHX8)  \n",
       "\n",
       "\n",
       " ----"
      ],
      "text/plain": [
       "<IPython.core.display.Markdown object>"
      ]
     },
     "metadata": {},
     "output_type": "display_data"
    },
    {
     "data": {
      "text/markdown": [
       "**Symbol:** **_HYAL4_** (protein-coding) &nbsp; &nbsp; &nbsp; &nbsp; **Aliases:** CSHY, HYAL-4  \n",
       "*hyaluronidase 4*  \n",
       "**Summary:** This gene encodes a protein which is similar in structure to hyaluronidases but lacks hyaluronidase activity. The encoded protein acts as a chondroitin-sulfate-specific endo-beta-N-acetylgalactosaminidase; that is, it exhibits hydrolytic activity toward chondroitin sulfate chains and degrades them into oligosaccharides. Proteoglycans are formed by the covalent linkage of chondroitin sulfate chains to protein. Proteoglycans are ubiquitous components of the extracellular matrix of connective tissues and are also found at the surface of many cell types where they participate in a variety of cellular processes such as cell proliferation, differentiation, migration, cell-cell recognition, extracellular matrix deposition, and tissue morphogenesis. The expression of this gene is highest in testes and placenta. [provided by RefSeq, Apr 2019].  \n",
       "**Genomic position:** 7:123828983-123877481 (hg38), 7:123469037-123517532 (hg19)  \n",
       "[Gene card](https://www.genecards.org/cgi-bin/carddisp.pl?gene=HYAL4)  \n",
       "\n",
       "\n",
       " ----"
      ],
      "text/plain": [
       "<IPython.core.display.Markdown object>"
      ]
     },
     "metadata": {},
     "output_type": "display_data"
    },
    {
     "data": {
      "text/markdown": [
       "**Symbol:** **_ARMS2_** (protein-coding) &nbsp; &nbsp; &nbsp; &nbsp; **Aliases:** ARMD8  \n",
       "*age-related maculopathy susceptibility 2*  \n",
       "**Summary:** This gene encodes a small secreted protein specific to primates. This protein is a component of the choroidal extracellular matrix of the eye. Mutations in this gene are associated with age-related macular degeneration. [provided by RefSeq, Sep 2017].  \n",
       "**Genomic position:** 10:122454653-122457352 (hg38), 10:124214169-124216868 (hg19)  \n",
       "[Gene card](https://www.genecards.org/cgi-bin/carddisp.pl?gene=ARMS2)  \n",
       "\n",
       "\n",
       " ----"
      ],
      "text/plain": [
       "<IPython.core.display.Markdown object>"
      ]
     },
     "metadata": {},
     "output_type": "display_data"
    },
    {
     "data": {
      "text/markdown": [
       "**Symbol:** **_MKRN3_** (protein-coding) &nbsp; &nbsp; &nbsp; &nbsp; **Aliases:** CPPB2, D15S9, RNF63, ZFP127, ZNF127  \n",
       "*makorin ring finger protein 3*  \n",
       "**Summary:** The protein encoded by this gene contains a RING (C3HC4) zinc finger motif and several C3H zinc finger motifs. This gene is intronless and imprinted, with expression only from the paternal allele. Disruption of the imprinting at this locus may contribute to Prader-Willi syndrome. An antisense RNA of unknown function has been found overlapping this gene. [provided by RefSeq, Jul 2008].  \n",
       "**Genomic position:** 15:23565674-23630075 (hg38), 15:23810454-23873064 (hg19)  \n",
       "[Gene card](https://www.genecards.org/cgi-bin/carddisp.pl?gene=MKRN3)  \n",
       "\n",
       "\n",
       " ----"
      ],
      "text/plain": [
       "<IPython.core.display.Markdown object>"
      ]
     },
     "metadata": {},
     "output_type": "display_data"
    },
    {
     "data": {
      "text/markdown": [
       "**Symbol:** **_TCF15_** (protein-coding) &nbsp; &nbsp; &nbsp; &nbsp; **Aliases:** EC2, PARAXIS, bHLHa40  \n",
       "*transcription factor 15*  \n",
       "**Summary:** The protein encoded by this gene is found in the nucleus and may be involved in the early transcriptional regulation of patterning of the mesoderm. The encoded basic helix-loop-helix protein requires dimerization with another basic helix-loop-helix protein for efficient DNA binding. [provided by RefSeq, Jul 2008].  \n",
       "**Genomic position:** 20:603797-610398 (hg38), 20:584441-591042 (hg19)  \n",
       "[Gene card](https://www.genecards.org/cgi-bin/carddisp.pl?gene=TCF15)  \n",
       "\n",
       "\n",
       " ----"
      ],
      "text/plain": [
       "<IPython.core.display.Markdown object>"
      ]
     },
     "metadata": {},
     "output_type": "display_data"
    },
    {
     "data": {
      "text/markdown": [
       "**Symbol:** **_IGF2BP1_** (protein-coding) &nbsp; &nbsp; &nbsp; &nbsp; **Aliases:** CRD-BP, CRDBP, IMP-1, IMP1, VICKZ1, ZBP1  \n",
       "*insulin like growth factor 2 mRNA binding protein 1*  \n",
       "**Summary:** This gene encodes a member of the insulin-like growth factor 2 mRNA-binding protein family. The protein encoded by this gene contains four K homology domains and two RNA recognition motifs. It functions by binding to the mRNAs of certain genes, including insulin-like growth factor 2, beta-actin and beta-transducin repeat-containing protein, and regulating their translation. Two transcript variants encoding different isoforms have been found for this gene. [provided by RefSeq, May 2009].  \n",
       "**Genomic position:** 17:48997385-49056145 (hg38), 17:47074774-47133012 (hg19)  \n",
       "[Gene card](https://www.genecards.org/cgi-bin/carddisp.pl?gene=IGF2BP1)  \n",
       "\n",
       "\n",
       " ----"
      ],
      "text/plain": [
       "<IPython.core.display.Markdown object>"
      ]
     },
     "metadata": {},
     "output_type": "display_data"
    },
    {
     "data": {
      "text/markdown": [
       "**Symbol:** **_L1TD1_** (protein-coding) &nbsp; &nbsp; &nbsp; &nbsp; **Aliases:** ECAT11  \n",
       "*LINE1 type transposase domain containing 1*  \n",
       "**Genomic position:** 1:62194849-62212328 (hg38), 1:62660503-62678000 (hg19)  \n",
       "[Gene card](https://www.genecards.org/cgi-bin/carddisp.pl?gene=L1TD1)  \n",
       "\n",
       "\n",
       " ----"
      ],
      "text/plain": [
       "<IPython.core.display.Markdown object>"
      ]
     },
     "metadata": {},
     "output_type": "display_data"
    },
    {
     "data": {
      "text/markdown": [
       "**Symbol:** **_TRIM58_** (protein-coding) &nbsp; &nbsp; &nbsp; &nbsp; **Aliases:** BIA2  \n",
       "*tripartite motif containing 58*  \n",
       "**Genomic position:** 1:247857187-247880138 (hg38), 1:248020501-248041507 (hg19)  \n",
       "[Gene card](https://www.genecards.org/cgi-bin/carddisp.pl?gene=TRIM58)  \n",
       "\n",
       "\n",
       " ----"
      ],
      "text/plain": [
       "<IPython.core.display.Markdown object>"
      ]
     },
     "metadata": {},
     "output_type": "display_data"
    },
    {
     "data": {
      "text/markdown": [
       "**Symbol:** **_DLX6_** (protein-coding)  \n",
       "*distal-less homeobox 6*  \n",
       "**Summary:** This gene encodes a member of a homeobox transcription factor gene family similiar to the Drosophila distal-less gene. This family is comprised of at least 6 different members that encode proteins with roles in forebrain and craniofacial development. This gene is in a tail-to-tail configuration with another member of the family on the long arm of chromosome 7. [provided by RefSeq, Jul 2008].  \n",
       "**Genomic position:** 7:97005553-97011040 (hg38), 7:96634860-96640351 (hg19)  \n",
       "[Gene card](https://www.genecards.org/cgi-bin/carddisp.pl?gene=DLX6)  \n",
       "\n",
       "\n",
       " ----"
      ],
      "text/plain": [
       "<IPython.core.display.Markdown object>"
      ]
     },
     "metadata": {},
     "output_type": "display_data"
    },
    {
     "data": {
      "text/markdown": [
       "**Symbol:** **_DPEP2NB_** (protein-coding)  \n",
       "*DPEP2 neighbor*  \n",
       "[Gene card](https://www.genecards.org/cgi-bin/carddisp.pl?gene=DPEP2NB)  \n",
       "\n",
       "\n",
       " ----"
      ],
      "text/plain": [
       "<IPython.core.display.Markdown object>"
      ]
     },
     "metadata": {},
     "output_type": "display_data"
    },
    {
     "data": {
      "text/markdown": [
       "**Symbol:** **_SH2D5_** (protein-coding)  \n",
       "*SH2 domain containing 5*  \n",
       "**Genomic position:** 1:20719731-20732837 (hg38), 1:21046225-21059330 (hg19)  \n",
       "[Gene card](https://www.genecards.org/cgi-bin/carddisp.pl?gene=SH2D5)  \n",
       "\n",
       "\n",
       " ----"
      ],
      "text/plain": [
       "<IPython.core.display.Markdown object>"
      ]
     },
     "metadata": {},
     "output_type": "display_data"
    },
    {
     "data": {
      "text/markdown": [
       "**Symbol:** **_HBZ_** (protein-coding) &nbsp; &nbsp; &nbsp; &nbsp; **Aliases:** HBAZ, HBZ-T1, HBZ1  \n",
       "*hemoglobin subunit zeta*  \n",
       "**Summary:** Zeta-globin is an alpha-like hemoglobin. The zeta-globin polypeptide is synthesized in the yolk sac of the early embryo, while alpha-globin is produced throughout fetal and adult life. The zeta-globin gene is a member of the human alpha-globin gene cluster that includes five functional genes and two pseudogenes. The order of genes is: 5' - zeta - pseudozeta - mu - pseudoalpha-1 - alpha-2 -alpha-1 - theta1 - 3'. [provided by RefSeq, Nov 2009].  \n",
       "**Genomic position:** 16:142728-154503 (hg38), 16:202686-204502 (hg19)  \n",
       "[Gene card](https://www.genecards.org/cgi-bin/carddisp.pl?gene=HBZ)  \n",
       "\n",
       "\n",
       " ----"
      ],
      "text/plain": [
       "<IPython.core.display.Markdown object>"
      ]
     },
     "metadata": {},
     "output_type": "display_data"
    },
    {
     "data": {
      "text/markdown": [
       "**Symbol:** **_MBNL3_** (protein-coding) &nbsp; &nbsp; &nbsp; &nbsp; **Aliases:** CHCR, MBLX, MBLX39, MBXL  \n",
       "*muscleblind like splicing regulator 3*  \n",
       "**Summary:** This gene encodes a member of the muscleblind-like family of proteins. The encoded protein may function in regulation of alternative splicing and may play a role in the pathophysiology of myotonic dystrophy. Alternatively spliced transcript variants have been described. [provided by RefSeq, Dec 2009].  \n",
       "**Genomic position:** X:132369317-132489968 (hg38), X:131503345-131623996 (hg19)  \n",
       "[Gene card](https://www.genecards.org/cgi-bin/carddisp.pl?gene=MBNL3)  \n",
       "\n",
       "\n",
       " ----"
      ],
      "text/plain": [
       "<IPython.core.display.Markdown object>"
      ]
     },
     "metadata": {},
     "output_type": "display_data"
    },
    {
     "data": {
      "text/markdown": [
       "**Symbol:** **_TRIM60_** (protein-coding) &nbsp; &nbsp; &nbsp; &nbsp; **Aliases:** RNF129, RNF33  \n",
       "*tripartite motif containing 60*  \n",
       "**Summary:** The protein encoded by this gene contains a RING finger domain, a motif present in a variety of functionally distinct proteins and known to be involved in protein-protein and protein-DNA interactions. Pseudogenes of this gene are located on more than six chromosomes including chromosome 4. Multiple alternatively spliced variants, encoding the same protein, have been identified. [provided by RefSeq, Jan 2013].  \n",
       "**Genomic position:** 4:165016458-165041749 (hg38), 4:165953105-165962896 (hg19)  \n",
       "[Gene card](https://www.genecards.org/cgi-bin/carddisp.pl?gene=TRIM60)  \n",
       "\n",
       "\n",
       " ----"
      ],
      "text/plain": [
       "<IPython.core.display.Markdown object>"
      ]
     },
     "metadata": {},
     "output_type": "display_data"
    },
    {
     "data": {
      "text/markdown": [
       "**Symbol:** **_CD300LG_** (protein-coding) &nbsp; &nbsp; &nbsp; &nbsp; **Aliases:** CLM-9, CLM9, NEPMUCIN, TREM-4, TREM4  \n",
       "*CD300 molecule like family member g*  \n",
       "**Summary:** Members of the CD300 (see MIM 606786)-like (CD300L) family, such as CD300LG, are widely expressed on hematopoietic cells. All CD300L proteins are type I cell surface glycoproteins that contain a single immunoglobulin (Ig) V-like domain (Takatsu et al., 2006 [PubMed 16876123]).[supplied by OMIM, Mar 2008].  \n",
       "**Genomic position:** 17:43847148-43863639 (hg38), 17:41924516-41940997 (hg19)  \n",
       "[Gene card](https://www.genecards.org/cgi-bin/carddisp.pl?gene=CD300LG)  \n",
       "\n",
       "\n",
       " ----"
      ],
      "text/plain": [
       "<IPython.core.display.Markdown object>"
      ]
     },
     "metadata": {},
     "output_type": "display_data"
    },
    {
     "data": {
      "text/markdown": [
       "**Symbol:** **_ZIM2_** (protein-coding) &nbsp; &nbsp; &nbsp; &nbsp; **Aliases:** ZNF656  \n",
       "*zinc finger imprinted 2*  \n",
       "**Summary:** In human, ZIM2 and PEG3 (GeneID:5178) are two distinct genes that share a set of 5' exons and have a common promoter, and both genes are paternally expressed. Alternative splicing events connect the shared exons either with the remaining 4 exons unique to ZIM2, or with the remaining 2 exons unique to PEG3. This is in contrast to mouse and cow, where ZIM2 and PEG3 genes do not share exons in common, and the imprinting status of ZIM2 is also not conserved amongst mammals. Additional 5' alternatively spliced transcripts encoding the same protein have been found for the human ZIM2 gene. [provided by RefSeq, Oct 2010].  \n",
       "**Genomic position:** 19:56774547-56840729 (hg38), 19:57285920-57352097 (hg19)  \n",
       "[Gene card](https://www.genecards.org/cgi-bin/carddisp.pl?gene=ZIM2)  \n",
       "\n",
       "\n",
       " ----"
      ],
      "text/plain": [
       "<IPython.core.display.Markdown object>"
      ]
     },
     "metadata": {},
     "output_type": "display_data"
    },
    {
     "data": {
      "text/markdown": [
       "**Symbol:** **_DSCR4_**   \n",
       "*Down syndrome critical region 4*  \n",
       "[Gene card](https://www.genecards.org/cgi-bin/carddisp.pl?gene=DSCR4)  \n",
       "\n",
       "\n",
       " ----"
      ],
      "text/plain": [
       "<IPython.core.display.Markdown object>"
      ]
     },
     "metadata": {},
     "output_type": "display_data"
    },
    {
     "data": {
      "text/markdown": [
       "**Symbol:** **_PROK1_** (protein-coding) &nbsp; &nbsp; &nbsp; &nbsp; **Aliases:** EGVEGF, PK1, PRK1  \n",
       "*prokineticin 1*  \n",
       "**Summary:** The protein encoded by this gene induces proliferation, migration, and fenestration (the formation of membrane discontinuities) in capillary endothelial cells derived from endocrine glands. It has little or no effect on a variety of other endothelial and non-endothelial cell types. Its expression is restricted to the steroidogenic glands (ovary, testis, adrenal, and placenta), is induced by hypoxia, and often complementary to the expression of vascular endothelial growth factor (VEGF), suggesting that these molecules function in a coordinated manner. [provided by RefSeq, Sep 2011].  \n",
       "**Genomic position:** 1:110451149-110457358 (hg38), 1:110993822-110999976 (hg19)  \n",
       "[Gene card](https://www.genecards.org/cgi-bin/carddisp.pl?gene=PROK1)  \n",
       "\n",
       "\n",
       " ----"
      ],
      "text/plain": [
       "<IPython.core.display.Markdown object>"
      ]
     },
     "metadata": {},
     "output_type": "display_data"
    },
    {
     "data": {
      "text/markdown": [
       "**Symbol:** **_RGPD2_** (protein-coding) &nbsp; &nbsp; &nbsp; &nbsp; **Aliases:** NUP358, RANBP2L2, RGP2  \n",
       "*RANBP2 like and GRIP domain containing 2*  \n",
       "**Genomic position:** 2:87755960-87825952 (hg38), 2:88055474-88285309 (hg19)  \n",
       "[Gene card](https://www.genecards.org/cgi-bin/carddisp.pl?gene=RGPD2)  \n",
       "\n",
       "\n",
       " ----"
      ],
      "text/plain": [
       "<IPython.core.display.Markdown object>"
      ]
     },
     "metadata": {},
     "output_type": "display_data"
    },
    {
     "data": {
      "text/markdown": [
       "**Symbol:** **_CLDN6_** (protein-coding)  \n",
       "*claudin 6*  \n",
       "**Summary:** Tight junctions represent one mode of cell-to-cell adhesion in epithelial or endothelial cell sheets, forming continuous seals around cells and serving as a physical barrier to prevent solutes and water from passing freely through the paracellular space. These junctions are comprised of sets of continuous networking strands in the outwardly facing cytoplasmic leaflet, with complementary grooves in the inwardly facing extracytoplasmic leaflet. This gene encodes a component of tight junction strands, which is a member of the claudin family. The protein is an integral membrane protein and is one of the entry cofactors for hepatitis C virus. The gene methylation may be involved in esophageal tumorigenesis. This gene is adjacent to another family member CLDN9 on chromosome 16.[provided by RefSeq, Aug 2010].  \n",
       "**Genomic position:** 16:3014712-3020071 (hg38), 16:3064713-3070072 (hg19)  \n",
       "[Gene card](https://www.genecards.org/cgi-bin/carddisp.pl?gene=CLDN6)  \n",
       "\n",
       "\n",
       " ----"
      ],
      "text/plain": [
       "<IPython.core.display.Markdown object>"
      ]
     },
     "metadata": {},
     "output_type": "display_data"
    },
    {
     "data": {
      "text/markdown": [
       "**Symbol:** **_SH3TC2_** (protein-coding) &nbsp; &nbsp; &nbsp; &nbsp; **Aliases:** CMT4C, MNMN  \n",
       "*SH3 domain and tetratricopeptide repeats 2*  \n",
       "**Summary:** This gene encodes a protein with two N-terminal Src homology 3 (SH3) domains and 10 tetratricopeptide repeat (TPR) motifs, and is a member of a small gene family. The gene product has been proposed to be an adapter or docking molecule. Mutations in this gene result in autosomal recessive Charcot-Marie-Tooth disease type 4C, a childhood-onset neurodegenerative disease characterized by demyelination of motor and sensory neurons. [provided by RefSeq, Jul 2008].  \n",
       "**Genomic position:** 5:148923639-149063163 (hg38), 5:148303202-148442726 (hg19)  \n",
       "[Gene card](https://www.genecards.org/cgi-bin/carddisp.pl?gene=SH3TC2)  \n",
       "\n",
       "\n",
       " ----"
      ],
      "text/plain": [
       "<IPython.core.display.Markdown object>"
      ]
     },
     "metadata": {},
     "output_type": "display_data"
    },
    {
     "data": {
      "text/plain": [
       "[None,\n",
       " None,\n",
       " None,\n",
       " None,\n",
       " None,\n",
       " None,\n",
       " None,\n",
       " None,\n",
       " None,\n",
       " None,\n",
       " None,\n",
       " None,\n",
       " None,\n",
       " None,\n",
       " None,\n",
       " None,\n",
       " None,\n",
       " None,\n",
       " None,\n",
       " None,\n",
       " None,\n",
       " None,\n",
       " None,\n",
       " None,\n",
       " None,\n",
       " None,\n",
       " None,\n",
       " None,\n",
       " None,\n",
       " None,\n",
       " None,\n",
       " None]"
      ]
     },
     "execution_count": 15,
     "metadata": {},
     "output_type": "execute_result"
    }
   ],
   "source": [
    "genes = ['NAA11', 'CXorf67', 'RGPD1', 'TRIML2', 'TUBB1', 'MAGEA10', 'DPPA4', \n",
    "         'FAM184A', 'ATP1A4', 'CTAG2', 'IGDCC3', 'LHX8', 'HYAL4', 'ARMS2',\n",
    "         'MKRN3', 'TCF15', 'IGF2BP1', 'L1TD1', 'TRIM58', 'DLX6', 'CTC-479C5.6', \n",
    "         'SH2D5', 'HBZ', 'MBNL3', 'TRIM60', \n",
    "         'CD300LG', 'ZIM2', 'DSCR4', 'PROK1', 'RGPD2', 'CLDN6', 'SH3TC2']\n",
    "\n",
    "[gene_info(x) for x in genes]"
   ]
  }
 ],
 "metadata": {
  "anaconda-cloud": {},
  "kernelspec": {
   "display_name": "Python 3",
   "language": "python",
   "name": "python3"
  },
  "language_info": {
   "codemirror_mode": {
    "name": "ipython",
    "version": 3
   },
   "file_extension": ".py",
   "mimetype": "text/x-python",
   "name": "python",
   "nbconvert_exporter": "python",
   "pygments_lexer": "ipython3",
   "version": "3.6.9"
  }
 },
 "nbformat": 4,
 "nbformat_minor": 4
}
