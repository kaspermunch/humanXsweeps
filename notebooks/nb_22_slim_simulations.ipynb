{
 "cells": [
  {
   "cell_type": "markdown",
   "metadata": {},
   "source": [
    "\n",
    "# Slim simulations\n",
    "\n"
   ]
  },
  {
   "cell_type": "code",
   "execution_count": 5,
   "metadata": {},
   "outputs": [],
   "source": [
    "import re, os, sys, pickle, pickle, math\n",
    "from pathlib import Path\n",
    "import numpy as np\n",
    "import pandas as pd\n",
    "import scipy\n",
    "from pandas import DataFrame, Series\n",
    "from sklearn.decomposition import PCA\n",
    "\n",
    "# my own libaries\n",
    "from ChromosomeWindows import window\n",
    "import genominterv\n",
    "\n",
    "np.random.seed(7)"
   ]
  },
  {
   "cell_type": "markdown",
   "metadata": {},
   "source": [
    "Import variables global to the entire analysis:"
   ]
  },
  {
   "cell_type": "code",
   "execution_count": 6,
   "metadata": {},
   "outputs": [],
   "source": [
    "import analysis_globals as ag"
   ]
  },
  {
   "cell_type": "markdown",
   "metadata": {},
   "source": [
    "Local code in the scripts dir on the cluster:"
   ]
  },
  {
   "cell_type": "code",
   "execution_count": 7,
   "metadata": {},
   "outputs": [],
   "source": [
    "if str(ag.scripts_dir) not in sys.path:\n",
    "    sys.path.append(str(ag.scripts_dir))\n",
    "\n",
    "import simons_meta_data\n",
    "import hg19_chrom_sizes"
   ]
  },
  {
   "cell_type": "markdown",
   "metadata": {},
   "source": [
    "Plotting setup:"
   ]
  },
  {
   "cell_type": "code",
   "execution_count": 8,
   "metadata": {},
   "outputs": [],
   "source": [
    "%matplotlib inline\n",
    "\n",
    "# Make inline plots vector graphics instead of raster graphics\n",
    "from IPython.display import set_matplotlib_formats\n",
    "# set_matplotlib_formats('pdf', 'svg')\n",
    "set_matplotlib_formats('retina', 'png')\n",
    "\n",
    "import matplotlib\n",
    "import matplotlib.pyplot as plt\n",
    "from matplotlib.colors import ListedColormap\n",
    "from matplotlib.patches import Rectangle\n",
    "from mpl_toolkits.basemap import Basemap\n",
    "#matplotlib.rcParams['figure.figsize'] = (20.0, 10.0)\n",
    "\n",
    "import mpld3\n",
    "\n",
    "import seaborn as sns\n",
    "sns.set() # seaborn niceness\n",
    "sns.set_style(\"whitegrid\")\n",
    "sns.set_context(\"notebook\")\n",
    "\n",
    "# lowess for plotting\n",
    "from statsmodels.nonparametric.smoothers_lowess import lowess\n",
    "\n",
    "def stairs(df, start='start', end='end', pos='pos', endtrim=0):\n",
    "    \"Turn a df with start, end into one with pos to plot as stairs\"\n",
    "    df1 = df.copy(deep=True)\n",
    "    df2 = df.copy(deep=True)\n",
    "    df1[pos] = df1[start]\n",
    "    df2[pos] = df2[end] - endtrim\n",
    "    return pd.concat([df1, df2]).sort_values([start, end])"
   ]
  },
  {
   "cell_type": "markdown",
   "metadata": {},
   "source": [
    "Ignore warnings:"
   ]
  },
  {
   "cell_type": "code",
   "execution_count": 9,
   "metadata": {},
   "outputs": [],
   "source": [
    "# silence deprecation warnings (lots from seaborn)\n",
    "import warnings\n",
    "warnings.filterwarnings(\"ignore\", category=DeprecationWarning) \n",
    "warnings.filterwarnings(\"ignore\", category=np.VisibleDeprecationWarning)"
   ]
  },
  {
   "cell_type": "markdown",
   "metadata": {},
   "source": [
    "## Load meta data\n",
    "\n",
    "Easy loading of meta data in a consistent manner across code"
   ]
  },
  {
   "cell_type": "code",
   "execution_count": 10,
   "metadata": {},
   "outputs": [],
   "source": [
    "individuals, populations, regions = simons_meta_data.get_meta_data(meta_data_dir=ag.meta_data_dir)\n",
    "\n",
    "chromosome_lengths = dict((k.replace('chr', ''), v) for k, v in hg19_chrom_sizes.hg19_chrom_sizes.items())"
   ]
  },
  {
   "cell_type": "markdown",
   "metadata": {},
   "source": [
    "## Load swept regions"
   ]
  },
  {
   "cell_type": "code",
   "execution_count": 11,
   "metadata": {},
   "outputs": [
    {
     "data": {
      "text/plain": [
       "17500000"
      ]
     },
     "execution_count": 11,
     "metadata": {},
     "output_type": "execute_result"
    }
   ],
   "source": [
    "extended_peak_regions_10 = pd.read_hdf(ag.results_dir / 'extended_peak_regions_10%.hdf')\n",
    "extended_peak_regions_10['chrom'] = 'chrX'\n",
    "(extended_peak_regions_10.end_pos - extended_peak_regions_10.start_pos).sum()"
   ]
  },
  {
   "cell_type": "markdown",
   "metadata": {},
   "source": [
    "## Extract pi on X chromosome for Africans and non-Africans"
   ]
  },
  {
   "cell_type": "code",
   "execution_count": 12,
   "metadata": {},
   "outputs": [
    {
     "data": {
      "text/html": [
       "<div>\n",
       "<style scoped>\n",
       "    .dataframe tbody tr th:only-of-type {\n",
       "        vertical-align: middle;\n",
       "    }\n",
       "\n",
       "    .dataframe tbody tr th {\n",
       "        vertical-align: top;\n",
       "    }\n",
       "\n",
       "    .dataframe thead th {\n",
       "        text-align: right;\n",
       "    }\n",
       "</style>\n",
       "<table border=\"1\" class=\"dataframe\">\n",
       "  <thead>\n",
       "    <tr style=\"text-align: right;\">\n",
       "      <th></th>\n",
       "      <th>chrom</th>\n",
       "      <th>start</th>\n",
       "      <th>end</th>\n",
       "      <th>pop_label</th>\n",
       "      <th>indiv_1</th>\n",
       "      <th>pseud_1</th>\n",
       "      <th>indiv_2</th>\n",
       "      <th>pseud_2</th>\n",
       "      <th>dist</th>\n",
       "      <th>mismatch</th>\n",
       "      <th>...</th>\n",
       "      <th>longitude_1</th>\n",
       "      <th>longitude_2</th>\n",
       "      <th>sex_1</th>\n",
       "      <th>sex_2</th>\n",
       "      <th>region_label_1</th>\n",
       "      <th>region_label_2</th>\n",
       "      <th>region_id_1</th>\n",
       "      <th>region_id_2</th>\n",
       "      <th>region_1</th>\n",
       "      <th>region_2</th>\n",
       "    </tr>\n",
       "  </thead>\n",
       "  <tbody>\n",
       "    <tr>\n",
       "      <th>34144</th>\n",
       "      <td>X</td>\n",
       "      <td>0</td>\n",
       "      <td>100000</td>\n",
       "      <td>NA</td>\n",
       "      <td>B_Crete-2</td>\n",
       "      <td>A</td>\n",
       "      <td>S_Tujia-1</td>\n",
       "      <td>A</td>\n",
       "      <td>0.000000</td>\n",
       "      <td>0</td>\n",
       "      <td>...</td>\n",
       "      <td>NaN</td>\n",
       "      <td>109.000000</td>\n",
       "      <td>XY</td>\n",
       "      <td>XY</td>\n",
       "      <td>WestEurasia</td>\n",
       "      <td>EastAsia</td>\n",
       "      <td>1</td>\n",
       "      <td>5</td>\n",
       "      <td>WestEurasia</td>\n",
       "      <td>EastAsia</td>\n",
       "    </tr>\n",
       "    <tr>\n",
       "      <th>130368</th>\n",
       "      <td>X</td>\n",
       "      <td>0</td>\n",
       "      <td>100000</td>\n",
       "      <td>NA</td>\n",
       "      <td>B_Crete-2</td>\n",
       "      <td>A</td>\n",
       "      <td>S_BedouinB-1</td>\n",
       "      <td>A</td>\n",
       "      <td>0.008130</td>\n",
       "      <td>2</td>\n",
       "      <td>...</td>\n",
       "      <td>NaN</td>\n",
       "      <td>35.000000</td>\n",
       "      <td>XY</td>\n",
       "      <td>XY</td>\n",
       "      <td>WestEurasia</td>\n",
       "      <td>WestEurasia</td>\n",
       "      <td>1</td>\n",
       "      <td>1</td>\n",
       "      <td>WestEurasia</td>\n",
       "      <td>WestEurasia</td>\n",
       "    </tr>\n",
       "    <tr>\n",
       "      <th>225040</th>\n",
       "      <td>X</td>\n",
       "      <td>0</td>\n",
       "      <td>100000</td>\n",
       "      <td>NA</td>\n",
       "      <td>B_Crete-2</td>\n",
       "      <td>A</td>\n",
       "      <td>S_Burusho-1</td>\n",
       "      <td>A</td>\n",
       "      <td>0.000000</td>\n",
       "      <td>0</td>\n",
       "      <td>...</td>\n",
       "      <td>NaN</td>\n",
       "      <td>74.000000</td>\n",
       "      <td>XY</td>\n",
       "      <td>XY</td>\n",
       "      <td>WestEurasia</td>\n",
       "      <td>SouthAsia</td>\n",
       "      <td>1</td>\n",
       "      <td>2</td>\n",
       "      <td>WestEurasia</td>\n",
       "      <td>SouthAsia</td>\n",
       "    </tr>\n",
       "    <tr>\n",
       "      <th>391104</th>\n",
       "      <td>X</td>\n",
       "      <td>0</td>\n",
       "      <td>100000</td>\n",
       "      <td>NA</td>\n",
       "      <td>B_Crete-2</td>\n",
       "      <td>A</td>\n",
       "      <td>S_Punjabi-2</td>\n",
       "      <td>A</td>\n",
       "      <td>0.005882</td>\n",
       "      <td>2</td>\n",
       "      <td>...</td>\n",
       "      <td>NaN</td>\n",
       "      <td>74.300003</td>\n",
       "      <td>XY</td>\n",
       "      <td>XY</td>\n",
       "      <td>WestEurasia</td>\n",
       "      <td>SouthAsia</td>\n",
       "      <td>1</td>\n",
       "      <td>2</td>\n",
       "      <td>WestEurasia</td>\n",
       "      <td>SouthAsia</td>\n",
       "    </tr>\n",
       "    <tr>\n",
       "      <th>529232</th>\n",
       "      <td>X</td>\n",
       "      <td>0</td>\n",
       "      <td>100000</td>\n",
       "      <td>NA</td>\n",
       "      <td>B_Crete-2</td>\n",
       "      <td>A</td>\n",
       "      <td>S_Makrani-1</td>\n",
       "      <td>A</td>\n",
       "      <td>0.006154</td>\n",
       "      <td>2</td>\n",
       "      <td>...</td>\n",
       "      <td>NaN</td>\n",
       "      <td>64.000000</td>\n",
       "      <td>XY</td>\n",
       "      <td>XY</td>\n",
       "      <td>WestEurasia</td>\n",
       "      <td>SouthAsia</td>\n",
       "      <td>1</td>\n",
       "      <td>2</td>\n",
       "      <td>WestEurasia</td>\n",
       "      <td>SouthAsia</td>\n",
       "    </tr>\n",
       "  </tbody>\n",
       "</table>\n",
       "<p>5 rows × 27 columns</p>\n",
       "</div>"
      ],
      "text/plain": [
       "       chrom  start     end pop_label    indiv_1 pseud_1       indiv_2  \\\n",
       "34144      X      0  100000        NA  B_Crete-2       A     S_Tujia-1   \n",
       "130368     X      0  100000        NA  B_Crete-2       A  S_BedouinB-1   \n",
       "225040     X      0  100000        NA  B_Crete-2       A   S_Burusho-1   \n",
       "391104     X      0  100000        NA  B_Crete-2       A   S_Punjabi-2   \n",
       "529232     X      0  100000        NA  B_Crete-2       A   S_Makrani-1   \n",
       "\n",
       "       pseud_2      dist  mismatch     ...       longitude_1  longitude_2  \\\n",
       "34144        A  0.000000         0     ...               NaN   109.000000   \n",
       "130368       A  0.008130         2     ...               NaN    35.000000   \n",
       "225040       A  0.000000         0     ...               NaN    74.000000   \n",
       "391104       A  0.005882         2     ...               NaN    74.300003   \n",
       "529232       A  0.006154         2     ...               NaN    64.000000   \n",
       "\n",
       "        sex_1  sex_2  region_label_1  region_label_2  region_id_1  \\\n",
       "34144      XY     XY     WestEurasia        EastAsia            1   \n",
       "130368     XY     XY     WestEurasia     WestEurasia            1   \n",
       "225040     XY     XY     WestEurasia       SouthAsia            1   \n",
       "391104     XY     XY     WestEurasia       SouthAsia            1   \n",
       "529232     XY     XY     WestEurasia       SouthAsia            1   \n",
       "\n",
       "        region_id_2     region_1     region_2  \n",
       "34144             5  WestEurasia     EastAsia  \n",
       "130368            1  WestEurasia  WestEurasia  \n",
       "225040            2  WestEurasia    SouthAsia  \n",
       "391104            2  WestEurasia    SouthAsia  \n",
       "529232            2  WestEurasia    SouthAsia  \n",
       "\n",
       "[5 rows x 27 columns]"
      ]
     },
     "execution_count": 12,
     "metadata": {},
     "output_type": "execute_result"
    }
   ],
   "source": [
    "dist_afr = (pd.read_hdf(ag.steps_dir / 'male_dist_admix_masked_stores/male_dist_data_chrX_100kb.hdf')\n",
    "            .loc[lambda df: (df.region_1 == 'Africa') & (df.region_2 == 'Africa')]\n",
    "           )\n",
    "dist_nonafr = (pd.read_hdf(ag.steps_dir / 'male_dist_admix_masked_stores/male_dist_data_chrX_100kb.hdf')\n",
    "            .loc[lambda df: (df.region_1 != 'Africa') & (df.region_2 != 'Africa')]\n",
    "           )\n",
    "dist_nonafr.head()"
   ]
  },
  {
   "cell_type": "code",
   "execution_count": 13,
   "metadata": {},
   "outputs": [],
   "source": [
    "afr_mean_dist = dist_afr.dist.mean()\n",
    "nonafr_mean_dist = dist_nonafr.dist.mean()"
   ]
  },
  {
   "cell_type": "code",
   "execution_count": 14,
   "metadata": {},
   "outputs": [
    {
     "data": {
      "text/plain": [
       "(0.0007654295, 0.00046199292, 0.60357344)"
      ]
     },
     "execution_count": 14,
     "metadata": {},
     "output_type": "execute_result"
    }
   ],
   "source": [
    "afr_mean_dist, nonafr_mean_dist, nonafr_mean_dist / afr_mean_dist"
   ]
  },
  {
   "cell_type": "markdown",
   "metadata": {},
   "source": [
    "## Extract likely pi relative to global pi in Africans"
   ]
  },
  {
   "cell_type": "code",
   "execution_count": 15,
   "metadata": {},
   "outputs": [],
   "source": [
    "lst = list()\n",
    "for tup in extended_peak_regions_10.itertuples():\n",
    "    lst.append(dist_afr.loc[(dist_afr.start >= tup.start_pos) & (dist_afr.end <= tup.end_pos)])\n",
    "afr_dist_regions = pd.concat(lst)\n",
    "\n",
    "lst = list()\n",
    "for tup in extended_peak_regions_10.itertuples():\n",
    "    lst.append(dist_nonafr.loc[(dist_nonafr.start >= tup.start_pos) & (dist_nonafr.end <= tup.end_pos)])\n",
    "nonafr_dist_regions = pd.concat(lst)"
   ]
  },
  {
   "cell_type": "code",
   "execution_count": 16,
   "metadata": {},
   "outputs": [],
   "source": [
    "afr_mean_dist_in_regions = afr_dist_regions.dist.mean()\n",
    "nonafr_mean_dist_in_regions = nonafr_dist_regions.dist.mean()"
   ]
  },
  {
   "cell_type": "code",
   "execution_count": 17,
   "metadata": {},
   "outputs": [
    {
     "data": {
      "text/plain": [
       "(0.0005436191, 0.0007654295, 0.71021444)"
      ]
     },
     "execution_count": 17,
     "metadata": {},
     "output_type": "execute_result"
    }
   ],
   "source": [
    "afr_mean_dist_in_regions, afr_mean_dist, afr_mean_dist_in_regions / afr_mean_dist"
   ]
  },
  {
   "cell_type": "code",
   "execution_count": 18,
   "metadata": {},
   "outputs": [
    {
     "data": {
      "text/plain": [
       "(0.00020587526, 0.00046199292, 0.44562426)"
      ]
     },
     "execution_count": 18,
     "metadata": {},
     "output_type": "execute_result"
    }
   ],
   "source": [
    "nonafr_mean_dist_in_regions, nonafr_mean_dist, nonafr_mean_dist_in_regions / nonafr_mean_dist"
   ]
  },
  {
   "cell_type": "code",
   "execution_count": 19,
   "metadata": {},
   "outputs": [
    {
     "data": {
      "text/plain": [
       "(0.37871233, 0.60357344)"
      ]
     },
     "execution_count": 19,
     "metadata": {},
     "output_type": "execute_result"
    }
   ],
   "source": [
    "nonafr_mean_dist_in_regions / afr_mean_dist_in_regions, nonafr_mean_dist / afr_mean_dist"
   ]
  },
  {
   "cell_type": "markdown",
   "metadata": {},
   "source": [
    "If we assume that there has been no sweeps in Africa, this implies that background Ne in the regions is 0.71 of the chromosome average."
   ]
  },
  {
   "cell_type": "markdown",
   "metadata": {},
   "source": [
    "## Compute demographies\n",
    "\n",
    "We simulate 200,000 generations, correspoding to roughly 10 Ne. Most lineages should have coalesced by 6Ne.\n",
    "\n",
    "This is specfied in the workflow along with the demograpy."
   ]
  },
  {
   "cell_type": "code",
   "execution_count": 20,
   "metadata": {},
   "outputs": [
    {
     "data": {
      "text/plain": [
       "(1, 200000, 5799971)"
      ]
     },
     "execution_count": 20,
     "metadata": {},
     "output_type": "execute_result"
    }
   ],
   "source": [
    "sim_generations = 200000 - 1\n",
    "x_auto_fraction = 0.55\n",
    "\n",
    "def years2gen(y):\n",
    "    return int(1 + sim_generations - y / ag.gen_time)\n",
    "\n",
    "years2gen(sim_generations * ag.gen_time), years2gen(0), sim_generations * ag.gen_time"
   ]
  },
  {
   "cell_type": "markdown",
   "metadata": {},
   "source": [
    "## Slim standard demography\n",
    "\n",
    "We make a descrete trajectory approximating the demography from Yun Songs paper: Terhorst et al. 2017"
   ]
  },
  {
   "cell_type": "code",
   "execution_count": 21,
   "metadata": {},
   "outputs": [
    {
     "data": {
      "image/png": "[encoded data removed]",
      "text/plain": [
       "<Figure size 720x720 with 1 Axes>"
      ]
     },
     "metadata": {
      "image/png": {
       "height": 476,
       "width": 572
      }
     },
     "output_type": "display_data"
    }
   ],
   "source": [
    "from matplotlib.image import imread\n",
    "fig, ax = plt.subplots(figsize=(10, 10))\n",
    "imgplot = ax.imshow(imread('Terhorst2017.png'))\n",
    "plt.axis('off') ;"
   ]
  },
  {
   "cell_type": "markdown",
   "metadata": {},
   "source": [
    "In this paper, the demography is based on a mutation rate per generation of 1.25 × 10−8. That is roughly the same as in my analysis:"
   ]
  },
  {
   "cell_type": "code",
   "execution_count": 22,
   "metadata": {},
   "outputs": [
    {
     "data": {
      "text/plain": [
       "1.247e-08"
      ]
     },
     "execution_count": 22,
     "metadata": {},
     "output_type": "execute_result"
    }
   ],
   "source": [
    "ag.mut_per_year * ag.gen_time"
   ]
  },
  {
   "cell_type": "markdown",
   "metadata": {},
   "source": [
    "Demography is specified as descrete breakpoints and effective population sizes:"
   ]
  },
  {
   "cell_type": "code",
   "execution_count": 23,
   "metadata": {},
   "outputs": [],
   "source": [
    "changes_year = [sim_generations * ag.gen_time, 700000, 250000, 150000, 100000, 70000, 45000, 35000, 25000, 15000, 8000, 3000]\n",
    "changes_Ne = [18000, 20000, 12000, 6000, 4000, 3000, 4000, 6000, 12000, 20000, 50000, 100000]"
   ]
  },
  {
   "cell_type": "markdown",
   "metadata": {},
   "source": [
    "Time points for starts fo simulated sweeps:"
   ]
  },
  {
   "cell_type": "code",
   "execution_count": 24,
   "metadata": {},
   "outputs": [],
   "source": [
    "sweep_years = [30000, 50000, 70000, 90000]"
   ]
  },
  {
   "cell_type": "markdown",
   "metadata": {},
   "source": [
    "Adjust population sizes slightly to make the demography produce the the empirical mean 100kb pairwise differences across non-African populations in our data set. This makes most sense since we we want to simulate replicates of the acctual data set."
   ]
  },
  {
   "cell_type": "code",
   "execution_count": 25,
   "metadata": {},
   "outputs": [],
   "source": [
    "correction_to_fit_autosomal_pi = 1.09\n",
    "changes_Ne = [x * correction_to_fit_autosomal_pi for x in changes_Ne]"
   ]
  },
  {
   "cell_type": "code",
   "execution_count": 26,
   "metadata": {},
   "outputs": [],
   "source": [
    "\n",
    "\n",
    "# changes_year = [sim_generations * ag.gen_time, 250000, 150000, 100000, 70000, 45000, 35000, 25000, 15000, 6000]\n",
    "# changes_Ne = [20000, 12000, 6000, 4000, 3000, 4000, 6000, 12000, 20000, 100000]\n",
    "\n",
    "# sweep_years = [30000, 50000, 70000, 100000]\n",
    "\n",
    "# #changes_Ne = [(x*1.15) for x in changes_Ne]\n",
    "# changes_year, changes_Ne"
   ]
  },
  {
   "cell_type": "code",
   "execution_count": 27,
   "metadata": {},
   "outputs": [
    {
     "data": {
      "image/png": "[encoded data removed]",
      "text/plain": [
       "<Figure size 936x216 with 2 Axes>"
      ]
     },
     "metadata": {
      "image/png": {
       "height": 215,
       "width": 768
      }
     },
     "output_type": "display_data"
    }
   ],
   "source": [
    "with sns.axes_style('ticks') :\n",
    "\n",
    "    fig, (ax1, ax2) = plt.subplots(1, 2, figsize=(13,3), sharey=True)\n",
    "\n",
    "    y = Series(list(reversed(changes_year)))\n",
    "    n = Series(list(reversed(changes_Ne)))\n",
    "    x = [j for i in zip(y.shift(), y) for j in i]\n",
    "    y = [j for i in zip(n, n) for j in i]\n",
    "    x[0] = 1000\n",
    "\n",
    "    auto_demography = list(zip(reversed(x[1::2]), reversed(y[1::2])))\n",
    "\n",
    "    color=next(ax1._get_lines.prop_cycler)['color']\n",
    "    ax1.loglog(x, y, color=color)\n",
    "    ax1.loglog(*list(zip(*auto_demography)), marker='o', color=color, linestyle='None', label='Autosomes');\n",
    "\n",
    "\n",
    "    y = Series(list(reversed(changes_year)))\n",
    "    n = Series(list(reversed(changes_Ne))) * x_auto_fraction\n",
    "    x = [j for i in zip(y.shift(), y) for j in i]\n",
    "    y = [j for i in zip(n, n) for j in i]\n",
    "    x[0] = 1000\n",
    "\n",
    "    [ax1.axvline(x, linestyle='dotted', color='black') for x in sweep_years]\n",
    "    \n",
    "    slim_demography = [(years2gen(y), int(n)) for (y, n) in auto_demography]  ## using auto\n",
    "    g, n = list(zip(*slim_demography))\n",
    "    ax2.loglog([sim_generations-x for x in g], n, marker='o', linestyle='None', \n",
    "               label='Slim pop. size change points\\n(past to present)');\n",
    "    ax2.set_ylim(1000, 120000)\n",
    "    ax2.set_xlim(1e2, 2.2e5) ;\n",
    "    ax2.set_xlabel('Generations')\n",
    "    ax2.set_ylabel('Population size')\n",
    "    ax2.legend()\n",
    "\n",
    "    sns.despine()"
   ]
  },
  {
   "cell_type": "markdown",
   "metadata": {},
   "source": [
    "We use **autosomal** population sizes for Slim because it models the X chrom explicitly. To make the X/A ratio lower than 0.75 we scale the population sizes by (e.g. 0.66/0.75) when running the slim simulation.\n",
    "\n",
    "Generation-Ne pairs for changeing population size in Slim simulation (for adding to `workflow.py`):"
   ]
  },
  {
   "cell_type": "code",
   "execution_count": 28,
   "metadata": {},
   "outputs": [
    {
     "data": {
      "text/plain": [
       "[(1, 19620),\n",
       " (175862, 21800),\n",
       " (191379, 13080),\n",
       " (194827, 6540),\n",
       " (196551, 4360),\n",
       " (197586, 3270),\n",
       " (198448, 4360),\n",
       " (198793, 6540),\n",
       " (199137, 13080),\n",
       " (199482, 21800),\n",
       " (199724, 54500),\n",
       " (199896, 109000)]"
      ]
     },
     "execution_count": 28,
     "metadata": {},
     "output_type": "execute_result"
    }
   ],
   "source": [
    "slim_demography"
   ]
  },
  {
   "cell_type": "markdown",
   "metadata": {},
   "source": [
    "Generations for sweeps in Slim simulations (for adding to `workflow.py`):"
   ]
  },
  {
   "cell_type": "code",
   "execution_count": 29,
   "metadata": {},
   "outputs": [
    {
     "data": {
      "text/plain": [
       "[198965, 198275, 197586, 196896]"
      ]
     },
     "execution_count": 29,
     "metadata": {},
     "output_type": "execute_result"
    }
   ],
   "source": [
    "sweep_generations = [years2gen(x) for x in sweep_years]\n",
    "sweep_generations"
   ]
  },
  {
   "cell_type": "markdown",
   "metadata": {},
   "source": [
    "## Slim truncated demography"
   ]
  },
  {
   "cell_type": "markdown",
   "metadata": {},
   "source": [
    "Truncate simulation at 45000 years. \n",
    "\n",
    "If we then call ECHs with pwdiff of 2 * 10000 * 0.6e-9 = 1.2e-05, we can test if ECH can arise neutrally in 10000 years (from 55000)\n",
    "\n"
   ]
  },
  {
   "cell_type": "code",
   "execution_count": 30,
   "metadata": {},
   "outputs": [],
   "source": [
    "changes_year_trunc = [x - 45000 for x in changes_year]\n",
    "idx = changes_year_trunc.index(0)+1\n",
    "changes_year_trunc = changes_year_trunc[:idx]\n",
    "changes_Ne_trunc = changes_Ne[:idx]"
   ]
  },
  {
   "cell_type": "code",
   "execution_count": 31,
   "metadata": {},
   "outputs": [],
   "source": [
    "def years2gen_trunc(y):\n",
    "    return int(1 + sim_generations - (45000 / ag.gen_time) - y / ag.gen_time)"
   ]
  },
  {
   "cell_type": "code",
   "execution_count": 32,
   "metadata": {},
   "outputs": [
    {
     "data": {
      "image/png": "[encoded data removed]",
      "text/plain": [
       "<Figure size 936x216 with 2 Axes>"
      ]
     },
     "metadata": {
      "image/png": {
       "height": 215,
       "width": 768
      }
     },
     "output_type": "display_data"
    }
   ],
   "source": [
    "with sns.axes_style('ticks') :\n",
    "\n",
    "    fig, (ax1, ax2) = plt.subplots(1, 2, figsize=(13,3), sharey=True)\n",
    "\n",
    "    y = Series(list(reversed(changes_year_trunc)))\n",
    "    n = Series(list(reversed(changes_Ne_trunc)))\n",
    "    x = [j for i in zip(y.shift(), y) for j in i]\n",
    "    y = [j for i in zip(n, n) for j in i]\n",
    "    x[0] = 1000\n",
    "\n",
    "    auto_demography = list(zip(reversed(x[1::2]), reversed(y[1::2])))\n",
    "\n",
    "    color=next(ax1._get_lines.prop_cycler)['color']\n",
    "    ax1.loglog(x, y, color=color)\n",
    "    ax1.loglog(*list(zip(*auto_demography)), marker='o', color=color, linestyle='None', label='Autosomes');\n",
    "\n",
    "    y = Series(list(reversed(changes_year_trunc)))\n",
    "    n = Series(list(reversed(changes_Ne_trunc))) * x_auto_fraction\n",
    "    x = [j for i in zip(y.shift(), y) for j in i]\n",
    "    y = [j for i in zip(n, n) for j in i]\n",
    "    x[0] = 1000\n",
    "    \n",
    "    slim_demography_trunc = [(years2gen_trunc(y), int(n)) for (y, n) in auto_demography]  ## using auto\n",
    "    g, n = list(zip(*slim_demography))\n",
    "    ax2.loglog([sim_generations-(45000/ag.gen_time)-x for x in g], n, marker='o', linestyle='None', \n",
    "               label='Slim pop. size change points\\n(past to present)');\n",
    "    ax2.set_ylim(1000, 120000)\n",
    "    ax2.set_xlim(1e2, 2.2e5) ;\n",
    "    ax2.set_xlabel('Generations')\n",
    "    ax2.set_ylabel('Population size')\n",
    "    ax2.legend()\n",
    "\n",
    "    sns.despine()"
   ]
  },
  {
   "cell_type": "markdown",
   "metadata": {},
   "source": [
    "Generation-Ne pairs for changeing population size in Slim simulation (for adding to `workflow.py`):"
   ]
  },
  {
   "cell_type": "code",
   "execution_count": 33,
   "metadata": {},
   "outputs": [
    {
     "data": {
      "text/plain": [
       "[(1, 19620),\n",
       " (175862, 21800),\n",
       " (191379, 13080),\n",
       " (194827, 6540),\n",
       " (196551, 4360),\n",
       " (197586, 3270),\n",
       " (198448, 4360)]"
      ]
     },
     "execution_count": 33,
     "metadata": {},
     "output_type": "execute_result"
    }
   ],
   "source": [
    "slim_demography_trunc"
   ]
  },
  {
   "cell_type": "markdown",
   "metadata": {},
   "source": [
    "## Pool-Nielsen computations for sanity checks on demography"
   ]
  },
  {
   "cell_type": "markdown",
   "metadata": {},
   "source": [
    "Reading off from the plot in Mallick et al., the African X/A pi is 0.66 and the non-African one is 0.55."
   ]
  },
  {
   "cell_type": "code",
   "execution_count": 34,
   "metadata": {},
   "outputs": [
    {
     "data": {
      "text/plain": [
       "[(103, 109000),\n",
       " (172, 54500),\n",
       " (242, 21800),\n",
       " (345, 13080),\n",
       " (344, 6540),\n",
       " (345, 4360),\n",
       " (862, 3270),\n",
       " (1035, 4360),\n",
       " (1724, 6540),\n",
       " (3448, 13080),\n",
       " (15517, 21800),\n",
       " (None, 19620)]"
      ]
     },
     "execution_count": 34,
     "metadata": {},
     "output_type": "execute_result"
    }
   ],
   "source": [
    "epoques = list()\n",
    "g, n = list(zip(*slim_demography))\n",
    "gens, Ns = [sim_generations-x for x in g][::-1], n[::-1]\n",
    "for i in range(len(gens)):\n",
    "    if i == 0:\n",
    "        epoques.append((gens[i], Ns[i]))\n",
    "    elif i == len(gens) - 1:\n",
    "        epoques.append((None, Ns[i]))    \n",
    "    else:\n",
    "        epoques.append((gens[i] - gens[i-1], Ns[i]))\n",
    "epoques"
   ]
  },
  {
   "cell_type": "code",
   "execution_count": 35,
   "metadata": {},
   "outputs": [],
   "source": [
    "def exp_coal(g, N):\n",
    "    return 2*N - (g * np.exp(-g/(2*N))) / (1 - np.exp(-g/(2*N)))\n",
    "\n",
    "def epoch(demog, h, i):\n",
    "    g, N = demog[i]\n",
    "    N *= h\n",
    "    if i == len(demog)-1:\n",
    "        return 2*N\n",
    "    return (1-np.exp(-g/(2*N))) * exp_coal(g, N) + np.exp(-g/(2*N)) * (g + epoch(demog, h, i+1))"
   ]
  },
  {
   "cell_type": "markdown",
   "metadata": {},
   "source": [
    "The effect of X/A ratio seems to be fairly linear for relevant values of X/A in Africans:"
   ]
  },
  {
   "cell_type": "code",
   "execution_count": 36,
   "metadata": {},
   "outputs": [
    {
     "data": {
      "image/png": "[encoded data removed]",
      "text/plain": [
       "<Figure size 432x288 with 1 Axes>"
      ]
     },
     "metadata": {
      "image/png": {
       "height": 251,
       "width": 376
      }
     },
     "output_type": "display_data"
    }
   ],
   "source": [
    "x = np.linspace(0.001, 1, 100)\n",
    "y = [epoch(epoques, h, 0) / epoch(epoques, 1, 0) for h in x]\n",
    "plt.plot(x, y) ;\n",
    "plt.plot(np.linspace(0, 1, 2), np.linspace(0, 1, 2), linestyle='dashed')\n",
    "plt.axvline(0.66, color='black', linestyle='dashed') ;"
   ]
  },
  {
   "cell_type": "markdown",
   "metadata": {},
   "source": [
    "Expected non-African autosomal Ne:"
   ]
  },
  {
   "cell_type": "code",
   "execution_count": 37,
   "metadata": {},
   "outputs": [
    {
     "data": {
      "text/plain": [
       "14222.540110283435"
      ]
     },
     "execution_count": 37,
     "metadata": {},
     "output_type": "execute_result"
    }
   ],
   "source": [
    "epoch(epoques, 1, 0) / 2"
   ]
  },
  {
   "cell_type": "markdown",
   "metadata": {},
   "source": [
    "Expected autosomal pi:"
   ]
  },
  {
   "cell_type": "code",
   "execution_count": 38,
   "metadata": {},
   "outputs": [
    {
     "data": {
      "text/plain": [
       "0.0006826819252936048"
      ]
     },
     "execution_count": 38,
     "metadata": {},
     "output_type": "execute_result"
    }
   ],
   "source": [
    "2 * 1.2e-8 * epoch(epoques, 1, 0)"
   ]
  },
  {
   "cell_type": "markdown",
   "metadata": {},
   "source": [
    "This matches mean pi across non-African populations which is 0.000683 (see notebook 1)."
   ]
  },
  {
   "cell_type": "markdown",
   "metadata": {},
   "source": [
    "We do not necessarily expect X chromosome pi to match the expectation from the demography if sweeps play a large role in reducing pi. However, the demography (by Pool-Nielsen effect) does produce an expected non-African X/A pi much like what is reported in Mallick et al.:"
   ]
  },
  {
   "cell_type": "code",
   "execution_count": 39,
   "metadata": {},
   "outputs": [
    {
     "data": {
      "text/plain": [
       "0.5707517643074761"
      ]
     },
     "execution_count": 39,
     "metadata": {},
     "output_type": "execute_result"
    }
   ],
   "source": [
    "epoch(epoques, 0.66, 0) / epoch(epoques, 1, 0)"
   ]
  },
  {
   "cell_type": "markdown",
   "metadata": {},
   "source": [
    "However, the expected pi on the X is smaller than the observed pairwise difference:"
   ]
  },
  {
   "cell_type": "code",
   "execution_count": 40,
   "metadata": {},
   "outputs": [
    {
     "data": {
      "text/plain": [
       "(0.00038964191332214955, 0.00046199292)"
      ]
     },
     "execution_count": 40,
     "metadata": {},
     "output_type": "execute_result"
    }
   ],
   "source": [
    "2 * 1.2e-8 * epoch(epoques, 0.66, 0), nonafr_mean_dist"
   ]
  },
  {
   "cell_type": "markdown",
   "metadata": {},
   "source": [
    "Assuming that African pi is 0.73 lower than global pi on X, we can compute expected pi of ECH regions in non-Africans. For what it si worth, this is a bit bigger than the observed mean pairwise distances in ECH regions."
   ]
  },
  {
   "cell_type": "code",
   "execution_count": 41,
   "metadata": {},
   "outputs": [
    {
     "data": {
      "text/plain": [
       "(0.0002476955491681802, 0.00020587526)"
      ]
     },
     "execution_count": 41,
     "metadata": {},
     "output_type": "execute_result"
    }
   ],
   "source": [
    "2 * 1.2e-8 * epoch(epoques, 0.66*0.73, 0), nonafr_mean_dist_in_regions"
   ]
  },
  {
   "cell_type": "markdown",
   "metadata": {},
   "source": [
    "## Find recombination rates relevant for simulations"
   ]
  },
  {
   "cell_type": "markdown",
   "metadata": {},
   "source": [
    "Lift over regions to hg38"
   ]
  },
  {
   "cell_type": "code",
   "execution_count": 42,
   "metadata": {},
   "outputs": [
    {
     "name": "stdout",
     "output_type": "stream",
     "text": [
      "chrom  start_pos    end_pos\n",
      "chrX   19300000   20400000\n",
      "chrX   20700000   21700000\n",
      "chrX   35900000   37100000\n",
      "chrX   37000000   37800000\n",
      "chrX   49500000   50000000\n",
      "chrX   50800000   51300000\n",
      "chrX   53900000   54700000\n",
      "chrX   64400000   65200000\n",
      "chrX   72700000   73500000\n",
      "chrX   73800000   74400000\n",
      "chrX   76700000   77400000\n",
      "chrX   98300000   99200000\n",
      "chrX  109200000  111600000\n",
      "chrX  113800000  114500000\n",
      "chrX  126400000  127700000\n",
      "chrX  129500000  130200000\n",
      "chrX  130900000  132300000\n",
      "chrX  132400000  133100000\n",
      "chrX  153900000  154500000\n"
     ]
    }
   ],
   "source": [
    "print(extended_peak_regions_10[['chrom', 'start_pos', 'end_pos']].to_string(index=False))"
   ]
  },
  {
   "cell_type": "markdown",
   "metadata": {},
   "source": [
    "Used online liftover to convert to hg38 allowing, checking box to allow multiple output regions. Pasted in below:"
   ]
  },
  {
   "cell_type": "code",
   "execution_count": 43,
   "metadata": {},
   "outputs": [],
   "source": [
    "lifted = '''\n",
    "chrX\t19281882\t20381882\tchrX:19300001-20400000\t1\n",
    "chrX\t20681882\t21681882\tchrX:20700001-21700000\t1\n",
    "chrX\t35881883\t37080183\tchrX:35900001-37100000\t1\n",
    "chrX\t50057375\t50057403\tchrX:49500001-50000000\t1\n",
    "chrX\t51057154\t51557148\tchrX:50800001-51300000\t1\n",
    "chr2\t33174181\t33174306\tchrX:50800001-51300000\t2\n",
    "chrX\t53873573\t54673567\tchrX:53900001-54700000\t1\n",
    "chrX\t65180120\t65980158\tchrX:64400001-65200000\t1\n",
    "chrX\t73480164\t74280165\tchrX:72700001-73500000\t1\n",
    "chrX\t74580165\t75180165\tchrX:73800001-74400000\t1\n",
    "chrX\t77448201\t78144503\tchrX:76700001-77400000\t1\n",
    "chrX\t99045002\t99945002\tchrX:98300001-99200000\t1\n",
    "chrX\t109956772\t112356772\tchrX:109200001-111600000\t1\n",
    "chrX\t114565551\t115265429\tchrX:113800001-114500000\t1\n",
    "chrX\t78550431\t78550462\tchrX:113800001-114500000\t2\n",
    "chrX\t114761888\t114761918\tchrX:113800001-114500000\t3\n",
    "chrX\t114761888\t114761980\tchrX:113800001-114500000\t4\n",
    "chrX\t127266017\t128566022\tchrX:126400001-127700000\t1\n",
    "chrX\t130366026\t131066026\tchrX:129500001-130200000\t1\n",
    "chrX\t131765972\t133165972\tchrX:130900001-132300000\t1\n",
    "chrX\t133265972\t133965973\tchrX:132400001-133100000\t1\n",
    "chrX\t154671726\t155270710\tchrX:153900001-154500000\t1\n",
    "'''"
   ]
  },
  {
   "cell_type": "markdown",
   "metadata": {},
   "source": [
    "Conversion failed for :\n",
    "\n",
    "    #Partially deleted in new\n",
    "    chrX\t37000000\t37800000"
   ]
  },
  {
   "cell_type": "markdown",
   "metadata": {},
   "source": [
    "Extract recombination rates for regions:"
   ]
  },
  {
   "cell_type": "code",
   "execution_count": 44,
   "metadata": {},
   "outputs": [
    {
     "data": {
      "text/html": [
       "<div>\n",
       "<style scoped>\n",
       "    .dataframe tbody tr th:only-of-type {\n",
       "        vertical-align: middle;\n",
       "    }\n",
       "\n",
       "    .dataframe tbody tr th {\n",
       "        vertical-align: top;\n",
       "    }\n",
       "\n",
       "    .dataframe thead th {\n",
       "        text-align: right;\n",
       "    }\n",
       "</style>\n",
       "<table border=\"1\" class=\"dataframe\">\n",
       "  <thead>\n",
       "    <tr style=\"text-align: right;\">\n",
       "      <th></th>\n",
       "      <th>chrom</th>\n",
       "      <th>start</th>\n",
       "      <th>end</th>\n",
       "      <th>segment</th>\n",
       "      <th>piece</th>\n",
       "    </tr>\n",
       "  </thead>\n",
       "  <tbody>\n",
       "    <tr>\n",
       "      <th>0</th>\n",
       "      <td>chrX</td>\n",
       "      <td>19281882</td>\n",
       "      <td>20381882</td>\n",
       "      <td>chrX:19300001-20400000</td>\n",
       "      <td>1</td>\n",
       "    </tr>\n",
       "    <tr>\n",
       "      <th>1</th>\n",
       "      <td>chrX</td>\n",
       "      <td>20681882</td>\n",
       "      <td>21681882</td>\n",
       "      <td>chrX:20700001-21700000</td>\n",
       "      <td>1</td>\n",
       "    </tr>\n",
       "    <tr>\n",
       "      <th>2</th>\n",
       "      <td>chrX</td>\n",
       "      <td>35881883</td>\n",
       "      <td>37080183</td>\n",
       "      <td>chrX:35900001-37100000</td>\n",
       "      <td>1</td>\n",
       "    </tr>\n",
       "    <tr>\n",
       "      <th>3</th>\n",
       "      <td>chrX</td>\n",
       "      <td>50057375</td>\n",
       "      <td>50057403</td>\n",
       "      <td>chrX:49500001-50000000</td>\n",
       "      <td>1</td>\n",
       "    </tr>\n",
       "    <tr>\n",
       "      <th>4</th>\n",
       "      <td>chrX</td>\n",
       "      <td>51057154</td>\n",
       "      <td>51557148</td>\n",
       "      <td>chrX:50800001-51300000</td>\n",
       "      <td>1</td>\n",
       "    </tr>\n",
       "  </tbody>\n",
       "</table>\n",
       "</div>"
      ],
      "text/plain": [
       "  chrom     start       end                 segment  piece\n",
       "0  chrX  19281882  20381882  chrX:19300001-20400000      1\n",
       "1  chrX  20681882  21681882  chrX:20700001-21700000      1\n",
       "2  chrX  35881883  37080183  chrX:35900001-37100000      1\n",
       "3  chrX  50057375  50057403  chrX:49500001-50000000      1\n",
       "4  chrX  51057154  51557148  chrX:50800001-51300000      1"
      ]
     },
     "execution_count": 44,
     "metadata": {},
     "output_type": "execute_result"
    }
   ],
   "source": [
    "records = list()\n",
    "for row in lifted.strip().split('\\n'):\n",
    "    records.append([x.isdigit() and int(x) or x for x in row.split()])\n",
    "extended_peak_regions_10_hg38 = pd.DataFrame.from_records(records, \n",
    "                                    columns=['chrom', 'start', 'end', 'segment', 'piece'])\n",
    "extended_peak_regions_10_hg38.head()"
   ]
  },
  {
   "cell_type": "markdown",
   "metadata": {},
   "source": [
    "Load recombination rate from Halldorsson et al. 2019: \"Characterizing mutagenic effects of recombination through a sequence-level genetic map\". Rates are per generation, also for the X chromosome (i.e. the maternal rate and sex average rates are the same).\n",
    "\n",
    "#decode_hg38_sexavg_per_gen.tsv"
   ]
  },
  {
   "cell_type": "code",
   "execution_count": 45,
   "metadata": {},
   "outputs": [
    {
     "data": {
      "text/html": [
       "<div>\n",
       "<style scoped>\n",
       "    .dataframe tbody tr th:only-of-type {\n",
       "        vertical-align: middle;\n",
       "    }\n",
       "\n",
       "    .dataframe tbody tr th {\n",
       "        vertical-align: top;\n",
       "    }\n",
       "\n",
       "    .dataframe thead th {\n",
       "        text-align: right;\n",
       "    }\n",
       "</style>\n",
       "<table border=\"1\" class=\"dataframe\">\n",
       "  <thead>\n",
       "    <tr style=\"text-align: right;\">\n",
       "      <th></th>\n",
       "      <th>Chr</th>\n",
       "      <th>Begin</th>\n",
       "      <th>End</th>\n",
       "      <th>cMperMb</th>\n",
       "      <th>cM</th>\n",
       "    </tr>\n",
       "  </thead>\n",
       "  <tbody>\n",
       "    <tr>\n",
       "      <th>0</th>\n",
       "      <td>chr1</td>\n",
       "      <td>1431813</td>\n",
       "      <td>1515567</td>\n",
       "      <td>0.032449</td>\n",
       "      <td>0.002718</td>\n",
       "    </tr>\n",
       "    <tr>\n",
       "      <th>1</th>\n",
       "      <td>chr1</td>\n",
       "      <td>1515567</td>\n",
       "      <td>1530002</td>\n",
       "      <td>0.189597</td>\n",
       "      <td>0.005455</td>\n",
       "    </tr>\n",
       "    <tr>\n",
       "      <th>2</th>\n",
       "      <td>chr1</td>\n",
       "      <td>1530002</td>\n",
       "      <td>1534402</td>\n",
       "      <td>0.004631</td>\n",
       "      <td>0.005475</td>\n",
       "    </tr>\n",
       "    <tr>\n",
       "      <th>3</th>\n",
       "      <td>chr1</td>\n",
       "      <td>1534402</td>\n",
       "      <td>1538787</td>\n",
       "      <td>0.019865</td>\n",
       "      <td>0.005562</td>\n",
       "    </tr>\n",
       "    <tr>\n",
       "      <th>4</th>\n",
       "      <td>chr1</td>\n",
       "      <td>1538787</td>\n",
       "      <td>1541864</td>\n",
       "      <td>0.000332</td>\n",
       "      <td>0.005563</td>\n",
       "    </tr>\n",
       "  </tbody>\n",
       "</table>\n",
       "</div>"
      ],
      "text/plain": [
       "    Chr    Begin      End   cMperMb        cM\n",
       "0  chr1  1431813  1515567  0.032449  0.002718\n",
       "1  chr1  1515567  1530002  0.189597  0.005455\n",
       "2  chr1  1530002  1534402  0.004631  0.005475\n",
       "3  chr1  1534402  1538787  0.019865  0.005562\n",
       "4  chr1  1538787  1541864  0.000332  0.005563"
      ]
     },
     "execution_count": 45,
     "metadata": {},
     "output_type": "execute_result"
    }
   ],
   "source": [
    "decode_sexavg = pd.read_table(ag.data_dir / 'decode_hg38_sexavg_per_gen.tsv', comment='#')\n",
    "decode_sexavg.head()"
   ]
  },
  {
   "cell_type": "markdown",
   "metadata": {},
   "source": [
    "Mean rate for entire chromosome without PARs:"
   ]
  },
  {
   "cell_type": "code",
   "execution_count": 46,
   "metadata": {},
   "outputs": [
    {
     "data": {
      "text/plain": [
       "1.1628671122887646"
      ]
     },
     "execution_count": 46,
     "metadata": {},
     "output_type": "execute_result"
    }
   ],
   "source": [
    "decode_sexavg_chrX = (decode_sexavg\n",
    "                      .loc[(decode_sexavg['Chr'] == 'chrX') & \\\n",
    "                           (decode_sexavg['Begin'] > ag.par1_end) & (decode_sexavg['End'] < ag.par2_start)]\n",
    "                     )\n",
    "mean_rate = np.average(decode_sexavg_chrX.cMperMb, weights=decode_sexavg_chrX.End-decode_sexavg_chrX.Begin)\n",
    "mean_rate"
   ]
  },
  {
   "cell_type": "code",
   "execution_count": 47,
   "metadata": {},
   "outputs": [],
   "source": [
    "lst = list()\n",
    "for tup in extended_peak_regions_10_hg38.itertuples():\n",
    "    lst.append(decode_sexavg_chrX.loc[(decode_sexavg_chrX.Begin >= tup.start) & \\\n",
    "                                         (decode_sexavg_chrX.End <= tup.end)])\n",
    "df = pd.concat(lst).assign(length=lambda df: df.End-df.Begin)"
   ]
  },
  {
   "cell_type": "code",
   "execution_count": 48,
   "metadata": {},
   "outputs": [],
   "source": [
    "# x = 0\n",
    "# for tup in df.itertuples():\n",
    "#     x += tup.length / tup.cMperMb\n",
    "# df.cMperMb.sum() / x"
   ]
  },
  {
   "cell_type": "code",
   "execution_count": 49,
   "metadata": {},
   "outputs": [
    {
     "name": "stdout",
     "output_type": "stream",
     "text": [
      "0.7714960806657281 1090037\n",
      "0.14799578821239454 995497\n",
      "0.59996324488122 1174337\n",
      "no data\n",
      "0.3881414330086544 460999\n",
      "no data\n",
      "0.6182831047948463 796095\n",
      "0.06045129886415356 787887\n",
      "0.055369445184570265 754082\n",
      "0.033365123098329924 478934\n",
      "0.16385733180749762 324006\n",
      "0.37963386659341497 831524\n",
      "1.0506992925429448 2388712\n",
      "0.24534543815666665 677993\n",
      "no data\n",
      "no data\n",
      "no data\n",
      "0.1787357894815154 1289547\n",
      "0.3962461007976023 696481\n",
      "0.25158823039985084 1369438\n",
      "0.4624944813468881 670944\n",
      "3.6575361107825273e-37 104876\n"
     ]
    }
   ],
   "source": [
    "region_rates = list()\n",
    "for tup in extended_peak_regions_10_hg38.itertuples():\n",
    "    df = decode_sexavg_chrX.loc[(decode_sexavg_chrX.Begin >= tup.start) & \\\n",
    "                                         (decode_sexavg_chrX.End <= tup.end)]\n",
    "    try:\n",
    "        print(np.average(df.cMperMb, weights=df.End-df.Begin), (df.End-df.Begin).sum())\n",
    "    except:\n",
    "        print('no data')\n",
    "    region_rates.append(df.cMperMb.mean())\n",
    "#region_rates"
   ]
  },
  {
   "cell_type": "markdown",
   "metadata": {},
   "source": [
    "Mean (sex averaged) per-generation recombination rate for all the regions:"
   ]
  },
  {
   "cell_type": "code",
   "execution_count": 50,
   "metadata": {},
   "outputs": [],
   "source": [
    "df_list = list()\n",
    "for tup in extended_peak_regions_10_hg38.itertuples():\n",
    "    df_list.append(decode_sexavg_chrX.loc[(decode_sexavg_chrX.Begin >= tup.start) & (decode_sexavg_chrX.End <= tup.end)])\n",
    "df = pd.concat(df_list)"
   ]
  },
  {
   "cell_type": "code",
   "execution_count": 51,
   "metadata": {},
   "outputs": [
    {
     "data": {
      "text/plain": [
       "0.44828514994584506"
      ]
     },
     "execution_count": 51,
     "metadata": {},
     "output_type": "execute_result"
    }
   ],
   "source": [
    "extended_peak_regions_10_mean_rate = np.average(df.cMperMb, weights=df.End-df.Begin)\n",
    "extended_peak_regions_10_mean_rate"
   ]
  },
  {
   "cell_type": "markdown",
   "metadata": {},
   "source": [
    "Mean per-meiosis recombination rate for all the regions (taking into account that only 2/3 of X chromosome can recombine in each generation):"
   ]
  },
  {
   "cell_type": "code",
   "execution_count": 52,
   "metadata": {},
   "outputs": [
    {
     "data": {
      "text/plain": [
       "0.6724277249187676"
      ]
     },
     "execution_count": 52,
     "metadata": {},
     "output_type": "execute_result"
    }
   ],
   "source": [
    "extended_peak_regions_10_mean_rate * 3 / 2"
   ]
  },
  {
   "cell_type": "markdown",
   "metadata": {},
   "source": [
    "## Distribution of recombination rate in 1Mb windows along X chromosome"
   ]
  },
  {
   "cell_type": "code",
   "execution_count": 53,
   "metadata": {},
   "outputs": [
    {
     "data": {
      "text/html": [
       "<div>\n",
       "<style scoped>\n",
       "    .dataframe tbody tr th:only-of-type {\n",
       "        vertical-align: middle;\n",
       "    }\n",
       "\n",
       "    .dataframe tbody tr th {\n",
       "        vertical-align: top;\n",
       "    }\n",
       "\n",
       "    .dataframe thead th {\n",
       "        text-align: right;\n",
       "    }\n",
       "</style>\n",
       "<table border=\"1\" class=\"dataframe\">\n",
       "  <thead>\n",
       "    <tr style=\"text-align: right;\">\n",
       "      <th></th>\n",
       "      <th>Chr</th>\n",
       "      <th>Begin</th>\n",
       "      <th>End</th>\n",
       "      <th>cMperMb</th>\n",
       "      <th>cM</th>\n",
       "    </tr>\n",
       "  </thead>\n",
       "  <tbody>\n",
       "    <tr>\n",
       "      <th>1122949</th>\n",
       "      <td>chrX</td>\n",
       "      <td>3532526</td>\n",
       "      <td>3533229</td>\n",
       "      <td>2.641418e-01</td>\n",
       "      <td>0.000186</td>\n",
       "    </tr>\n",
       "    <tr>\n",
       "      <th>1122950</th>\n",
       "      <td>chrX</td>\n",
       "      <td>3533229</td>\n",
       "      <td>3534231</td>\n",
       "      <td>1.352181e+00</td>\n",
       "      <td>0.001541</td>\n",
       "    </tr>\n",
       "    <tr>\n",
       "      <th>1122951</th>\n",
       "      <td>chrX</td>\n",
       "      <td>3534231</td>\n",
       "      <td>3535643</td>\n",
       "      <td>2.552302e-64</td>\n",
       "      <td>0.001541</td>\n",
       "    </tr>\n",
       "    <tr>\n",
       "      <th>1122952</th>\n",
       "      <td>chrX</td>\n",
       "      <td>3535643</td>\n",
       "      <td>3551002</td>\n",
       "      <td>2.618438e-60</td>\n",
       "      <td>0.001541</td>\n",
       "    </tr>\n",
       "    <tr>\n",
       "      <th>1122953</th>\n",
       "      <td>chrX</td>\n",
       "      <td>3551002</td>\n",
       "      <td>3580516</td>\n",
       "      <td>1.997509e-54</td>\n",
       "      <td>0.001541</td>\n",
       "    </tr>\n",
       "  </tbody>\n",
       "</table>\n",
       "</div>"
      ],
      "text/plain": [
       "          Chr    Begin      End       cMperMb        cM\n",
       "1122949  chrX  3532526  3533229  2.641418e-01  0.000186\n",
       "1122950  chrX  3533229  3534231  1.352181e+00  0.001541\n",
       "1122951  chrX  3534231  3535643  2.552302e-64  0.001541\n",
       "1122952  chrX  3535643  3551002  2.618438e-60  0.001541\n",
       "1122953  chrX  3551002  3580516  1.997509e-54  0.001541"
      ]
     },
     "execution_count": 53,
     "metadata": {},
     "output_type": "execute_result"
    }
   ],
   "source": [
    "decode_sexavg_chrX.head()"
   ]
  },
  {
   "cell_type": "code",
   "execution_count": 54,
   "metadata": {},
   "outputs": [
    {
     "data": {
      "text/html": [
       "<div>\n",
       "<style scoped>\n",
       "    .dataframe tbody tr th:only-of-type {\n",
       "        vertical-align: middle;\n",
       "    }\n",
       "\n",
       "    .dataframe tbody tr th {\n",
       "        vertical-align: top;\n",
       "    }\n",
       "\n",
       "    .dataframe thead th {\n",
       "        text-align: right;\n",
       "    }\n",
       "</style>\n",
       "<table border=\"1\" class=\"dataframe\">\n",
       "  <thead>\n",
       "    <tr style=\"text-align: right;\">\n",
       "      <th></th>\n",
       "      <th>start</th>\n",
       "      <th>end</th>\n",
       "      <th>mean_window_rate</th>\n",
       "    </tr>\n",
       "  </thead>\n",
       "  <tbody>\n",
       "    <tr>\n",
       "      <th>0</th>\n",
       "      <td>0</td>\n",
       "      <td>1000000</td>\n",
       "      <td>NaN</td>\n",
       "    </tr>\n",
       "    <tr>\n",
       "      <th>1</th>\n",
       "      <td>1000000</td>\n",
       "      <td>2000000</td>\n",
       "      <td>NaN</td>\n",
       "    </tr>\n",
       "    <tr>\n",
       "      <th>2</th>\n",
       "      <td>2000000</td>\n",
       "      <td>3000000</td>\n",
       "      <td>NaN</td>\n",
       "    </tr>\n",
       "    <tr>\n",
       "      <th>3</th>\n",
       "      <td>3000000</td>\n",
       "      <td>4000000</td>\n",
       "      <td>1.791569</td>\n",
       "    </tr>\n",
       "    <tr>\n",
       "      <th>4</th>\n",
       "      <td>4000000</td>\n",
       "      <td>5000000</td>\n",
       "      <td>0.955587</td>\n",
       "    </tr>\n",
       "  </tbody>\n",
       "</table>\n",
       "</div>"
      ],
      "text/plain": [
       "     start      end  mean_window_rate\n",
       "0        0  1000000               NaN\n",
       "1  1000000  2000000               NaN\n",
       "2  2000000  3000000               NaN\n",
       "3  3000000  4000000          1.791569\n",
       "4  4000000  5000000          0.955587"
      ]
     },
     "execution_count": 54,
     "metadata": {},
     "output_type": "execute_result"
    }
   ],
   "source": [
    "@window(size=1000000)\n",
    "def mean_window_rate(df):\n",
    "    if len(df):\n",
    "        return np.average(df.cMperMb, weights=df.end-df.start)\n",
    "    else:\n",
    "        return np.nan\n",
    "\n",
    "mb_window_means = mean_window_rate(decode_sexavg_chrX.rename(columns={'Begin':'start', 'End':'end'}))\n",
    "mb_window_means.head()"
   ]
  },
  {
   "cell_type": "code",
   "execution_count": 55,
   "metadata": {},
   "outputs": [
    {
     "data": {
      "image/png": "[encoded data removed]",
      "text/plain": [
       "<Figure size 1080x360 with 1 Axes>"
      ]
     },
     "metadata": {
      "image/png": {
       "height": 318,
       "width": 867
      }
     },
     "output_type": "display_data"
    }
   ],
   "source": [
    "with sns.axes_style('ticks'):\n",
    "    plot_df = stairs(mb_window_means)\n",
    "    fig, ax = plt.subplots(1, 1, figsize=(15, 5))\n",
    "    for tup in extended_peak_regions_10.itertuples():\n",
    "        g = ax.add_patch(Rectangle((tup.start_pos, 0), \n",
    "                                   tup.end_pos-tup.start_pos, plot_df.mean_window_rate.max(), \n",
    "                     facecolor='gray',\n",
    "                     linewidth=0,\n",
    "                     alpha=0.5,\n",
    "                     zorder=0))\n",
    "    plt.plot(plot_df.pos, plot_df.mean_window_rate)\n",
    "    sns.despine()"
   ]
  },
  {
   "cell_type": "markdown",
   "metadata": {},
   "source": [
    "So although the ECH regions have lower recombination rate, they are not uniquely low. There are plenty other regions that are equally low."
   ]
  },
  {
   "cell_type": "code",
   "execution_count": 56,
   "metadata": {},
   "outputs": [
    {
     "name": "stderr",
     "output_type": "stream",
     "text": [
      "/home/kmt/anaconda3/envs/simons/lib/python3.6/site-packages/numpy/lib/histograms.py:824: RuntimeWarning: invalid value encountered in greater_equal\n",
      "  keep = (tmp_a >= first_edge)\n",
      "/home/kmt/anaconda3/envs/simons/lib/python3.6/site-packages/numpy/lib/histograms.py:825: RuntimeWarning: invalid value encountered in less_equal\n",
      "  keep &= (tmp_a <= last_edge)\n"
     ]
    },
    {
     "data": {
      "image/png": "[encoded data removed]",
      "text/plain": [
       "<Figure size 432x288 with 1 Axes>"
      ]
     },
     "metadata": {
      "image/png": {
       "height": 251,
       "width": 372
      }
     },
     "output_type": "display_data"
    }
   ],
   "source": [
    "plt.hist(mb_window_means.mean_window_rate, bins=30)\n",
    "plt.axvline(extended_peak_regions_10_mean_rate, color='orange') ;"
   ]
  },
  {
   "cell_type": "markdown",
   "metadata": {},
   "source": [
    "So there are 44 Mb windows with a recombination rate that is lower than the mean for the 10% regions. For comparison the 10% regions make up only 17.5 Mb in total:"
   ]
  },
  {
   "cell_type": "code",
   "execution_count": 57,
   "metadata": {},
   "outputs": [
    {
     "data": {
      "text/plain": [
       "44"
      ]
     },
     "execution_count": 57,
     "metadata": {},
     "output_type": "execute_result"
    }
   ],
   "source": [
    "len(mb_window_means.loc[mb_window_means.mean_window_rate <= extended_peak_regions_10_mean_rate])"
   ]
  },
  {
   "cell_type": "code",
   "execution_count": 58,
   "metadata": {},
   "outputs": [
    {
     "data": {
      "text/plain": [
       "17.5"
      ]
     },
     "execution_count": 58,
     "metadata": {},
     "output_type": "execute_result"
    }
   ],
   "source": [
    "(extended_peak_regions_10.end_pos - extended_peak_regions_10.start_pos).sum() / 1000000"
   ]
  },
  {
   "cell_type": "markdown",
   "metadata": {},
   "source": [
    "## Simulation strategy\n",
    "\n",
    "We do two sets of simulations:\n",
    "\n",
    "1. Assuming that global averages for chrX:\n",
    "    - We simulate with Ne_autosome * 3/4 * 0.66 The latter is the X/A ratio of Africans, which should capture the various demographic forces reducing Ne on X below 3/4.\n",
    "    - We simulate with the mean recombination rate for X.\n",
    "2. Assuming the averages for the swept regions:\n",
    "    - We further reduce Ne by how much ECH region pi it is lower than the chrX mean.\n",
    "    - We further reduce recombination rate by how much ECH region rate it is lower than the chrX mean.\n",
    "\n",
    "\n",
    "When we compute the probability of obtaining an ECH in the latter scenario, we need to take into account that only a small part of the X has an Ne that is this low."
   ]
  },
  {
   "cell_type": "markdown",
   "metadata": {},
   "source": [
    "## Load data for sweeps called on simulations"
   ]
  },
  {
   "cell_type": "code",
   "execution_count": 59,
   "metadata": {},
   "outputs": [
    {
     "data": {
      "text/html": [
       "<div>\n",
       "<style scoped>\n",
       "    .dataframe tbody tr th:only-of-type {\n",
       "        vertical-align: middle;\n",
       "    }\n",
       "\n",
       "    .dataframe tbody tr th {\n",
       "        vertical-align: top;\n",
       "    }\n",
       "\n",
       "    .dataframe thead th {\n",
       "        text-align: right;\n",
       "    }\n",
       "</style>\n",
       "<table border=\"1\" class=\"dataframe\">\n",
       "  <thead>\n",
       "    <tr style=\"text-align: right;\">\n",
       "      <th></th>\n",
       "      <th>start</th>\n",
       "      <th>end</th>\n",
       "      <th>nr_swept</th>\n",
       "      <th>total</th>\n",
       "      <th>demography</th>\n",
       "      <th>x_auto_ratio</th>\n",
       "      <th>rec_rate_per_gen</th>\n",
       "      <th>sweep_start</th>\n",
       "      <th>sweep_type</th>\n",
       "      <th>selcoef</th>\n",
       "      <th>replication</th>\n",
       "      <th>min_clade_percent</th>\n",
       "      <th>prop_swept</th>\n",
       "    </tr>\n",
       "  </thead>\n",
       "  <tbody>\n",
       "    <tr>\n",
       "      <th>0</th>\n",
       "      <td>0</td>\n",
       "      <td>100000</td>\n",
       "      <td>0</td>\n",
       "      <td>140</td>\n",
       "      <td>test</td>\n",
       "      <td>0.66</td>\n",
       "      <td>4.500000e-09</td>\n",
       "      <td>198275</td>\n",
       "      <td>nosweep</td>\n",
       "      <td>0.0</td>\n",
       "      <td>0</td>\n",
       "      <td>25</td>\n",
       "      <td>0.0</td>\n",
       "    </tr>\n",
       "    <tr>\n",
       "      <th>1</th>\n",
       "      <td>100000</td>\n",
       "      <td>200000</td>\n",
       "      <td>0</td>\n",
       "      <td>140</td>\n",
       "      <td>test</td>\n",
       "      <td>0.66</td>\n",
       "      <td>4.500000e-09</td>\n",
       "      <td>198275</td>\n",
       "      <td>nosweep</td>\n",
       "      <td>0.0</td>\n",
       "      <td>0</td>\n",
       "      <td>25</td>\n",
       "      <td>0.0</td>\n",
       "    </tr>\n",
       "    <tr>\n",
       "      <th>2</th>\n",
       "      <td>200000</td>\n",
       "      <td>300000</td>\n",
       "      <td>0</td>\n",
       "      <td>140</td>\n",
       "      <td>test</td>\n",
       "      <td>0.66</td>\n",
       "      <td>4.500000e-09</td>\n",
       "      <td>198275</td>\n",
       "      <td>nosweep</td>\n",
       "      <td>0.0</td>\n",
       "      <td>0</td>\n",
       "      <td>25</td>\n",
       "      <td>0.0</td>\n",
       "    </tr>\n",
       "    <tr>\n",
       "      <th>3</th>\n",
       "      <td>300000</td>\n",
       "      <td>400000</td>\n",
       "      <td>0</td>\n",
       "      <td>140</td>\n",
       "      <td>test</td>\n",
       "      <td>0.66</td>\n",
       "      <td>4.500000e-09</td>\n",
       "      <td>198275</td>\n",
       "      <td>nosweep</td>\n",
       "      <td>0.0</td>\n",
       "      <td>0</td>\n",
       "      <td>25</td>\n",
       "      <td>0.0</td>\n",
       "    </tr>\n",
       "    <tr>\n",
       "      <th>4</th>\n",
       "      <td>400000</td>\n",
       "      <td>500000</td>\n",
       "      <td>0</td>\n",
       "      <td>140</td>\n",
       "      <td>test</td>\n",
       "      <td>0.66</td>\n",
       "      <td>4.500000e-09</td>\n",
       "      <td>198275</td>\n",
       "      <td>nosweep</td>\n",
       "      <td>0.0</td>\n",
       "      <td>0</td>\n",
       "      <td>25</td>\n",
       "      <td>0.0</td>\n",
       "    </tr>\n",
       "  </tbody>\n",
       "</table>\n",
       "</div>"
      ],
      "text/plain": [
       "    start     end  nr_swept  total demography  x_auto_ratio  rec_rate_per_gen  \\\n",
       "0       0  100000         0    140       test          0.66      4.500000e-09   \n",
       "1  100000  200000         0    140       test          0.66      4.500000e-09   \n",
       "2  200000  300000         0    140       test          0.66      4.500000e-09   \n",
       "3  300000  400000         0    140       test          0.66      4.500000e-09   \n",
       "4  400000  500000         0    140       test          0.66      4.500000e-09   \n",
       "\n",
       "   sweep_start sweep_type  selcoef  replication min_clade_percent  prop_swept  \n",
       "0       198275    nosweep      0.0            0                25         0.0  \n",
       "1       198275    nosweep      0.0            0                25         0.0  \n",
       "2       198275    nosweep      0.0            0                25         0.0  \n",
       "3       198275    nosweep      0.0            0                25         0.0  \n",
       "4       198275    nosweep      0.0            0                25         0.0  "
      ]
     },
     "execution_count": 59,
     "metadata": {},
     "output_type": "execute_result"
    }
   ],
   "source": [
    "prop_swept_data = pd.read_hdf(str(ag.steps_dir / 'slim' / 'slim_summary.hdf'))\n",
    "prop_swept_data['prop_swept'] = prop_swept_data.nr_swept / prop_swept_data.total\n",
    "prop_swept_data.head()"
   ]
  },
  {
   "cell_type": "code",
   "execution_count": 72,
   "metadata": {},
   "outputs": [
    {
     "data": {
      "text/html": [
       "<div>\n",
       "<style scoped>\n",
       "    .dataframe tbody tr th:only-of-type {\n",
       "        vertical-align: middle;\n",
       "    }\n",
       "\n",
       "    .dataframe tbody tr th {\n",
       "        vertical-align: top;\n",
       "    }\n",
       "\n",
       "    .dataframe thead th {\n",
       "        text-align: right;\n",
       "    }\n",
       "</style>\n",
       "<table border=\"1\" class=\"dataframe\">\n",
       "  <thead>\n",
       "    <tr style=\"text-align: right;\">\n",
       "      <th></th>\n",
       "      <th>indiv_1</th>\n",
       "      <th>start</th>\n",
       "      <th>end</th>\n",
       "      <th>mean_dist</th>\n",
       "      <th>prop_indivs_missing</th>\n",
       "      <th>win_swept</th>\n",
       "      <th>called</th>\n",
       "      <th>clade_mean_dist</th>\n",
       "      <th>clade_size</th>\n",
       "      <th>run_id</th>\n",
       "      <th>run_length</th>\n",
       "      <th>swept</th>\n",
       "    </tr>\n",
       "  </thead>\n",
       "  <tbody>\n",
       "    <tr>\n",
       "      <th>0</th>\n",
       "      <td>0</td>\n",
       "      <td>0</td>\n",
       "      <td>100000</td>\n",
       "      <td>0.001529</td>\n",
       "      <td>0.0</td>\n",
       "      <td>False</td>\n",
       "      <td>False</td>\n",
       "      <td>NaN</td>\n",
       "      <td>5</td>\n",
       "      <td>1</td>\n",
       "      <td>100</td>\n",
       "      <td>False</td>\n",
       "    </tr>\n",
       "    <tr>\n",
       "      <th>1</th>\n",
       "      <td>0</td>\n",
       "      <td>100000</td>\n",
       "      <td>200000</td>\n",
       "      <td>0.001529</td>\n",
       "      <td>0.0</td>\n",
       "      <td>False</td>\n",
       "      <td>False</td>\n",
       "      <td>NaN</td>\n",
       "      <td>5</td>\n",
       "      <td>1</td>\n",
       "      <td>100</td>\n",
       "      <td>False</td>\n",
       "    </tr>\n",
       "    <tr>\n",
       "      <th>2</th>\n",
       "      <td>0</td>\n",
       "      <td>200000</td>\n",
       "      <td>300000</td>\n",
       "      <td>0.001647</td>\n",
       "      <td>0.0</td>\n",
       "      <td>False</td>\n",
       "      <td>False</td>\n",
       "      <td>NaN</td>\n",
       "      <td>4</td>\n",
       "      <td>1</td>\n",
       "      <td>100</td>\n",
       "      <td>False</td>\n",
       "    </tr>\n",
       "    <tr>\n",
       "      <th>3</th>\n",
       "      <td>0</td>\n",
       "      <td>300000</td>\n",
       "      <td>400000</td>\n",
       "      <td>0.001870</td>\n",
       "      <td>0.0</td>\n",
       "      <td>False</td>\n",
       "      <td>False</td>\n",
       "      <td>NaN</td>\n",
       "      <td>4</td>\n",
       "      <td>1</td>\n",
       "      <td>100</td>\n",
       "      <td>False</td>\n",
       "    </tr>\n",
       "    <tr>\n",
       "      <th>4</th>\n",
       "      <td>0</td>\n",
       "      <td>400000</td>\n",
       "      <td>500000</td>\n",
       "      <td>0.001572</td>\n",
       "      <td>0.0</td>\n",
       "      <td>False</td>\n",
       "      <td>False</td>\n",
       "      <td>NaN</td>\n",
       "      <td>4</td>\n",
       "      <td>1</td>\n",
       "      <td>100</td>\n",
       "      <td>False</td>\n",
       "    </tr>\n",
       "  </tbody>\n",
       "</table>\n",
       "</div>"
      ],
      "text/plain": [
       "   indiv_1   start     end  mean_dist  prop_indivs_missing  win_swept  called  \\\n",
       "0        0       0  100000   0.001529                  0.0      False   False   \n",
       "1        0  100000  200000   0.001529                  0.0      False   False   \n",
       "2        0  200000  300000   0.001647                  0.0      False   False   \n",
       "3        0  300000  400000   0.001870                  0.0      False   False   \n",
       "4        0  400000  500000   0.001572                  0.0      False   False   \n",
       "\n",
       "   clade_mean_dist  clade_size  run_id  run_length  swept  \n",
       "0              NaN           5       1         100  False  \n",
       "1              NaN           5       1         100  False  \n",
       "2              NaN           4       1         100  False  \n",
       "3              NaN           4       1         100  False  \n",
       "4              NaN           4       1         100  False  "
      ]
     },
     "execution_count": 72,
     "metadata": {},
     "output_type": "execute_result"
    }
   ],
   "source": [
    "# df = pd.read_hdf(ag.root_dir / 'steps/slim/sweep_data/test_66_4500_X_nosweep_198275_0_0/5e-05/clique_data_5e-05_25%.hdf')\n",
    "df = pd.read_hdf(ag.root_dir / 'steps/slim/sweep_data/test_66_11600_X_nosweep_198275_0_0/5e-05/clique_data_5e-05_25%.hdf')\n",
    "#df = pd.read_hdf(ag.root_dir / 'steps/slim/sweep_data/test_48_4500_X_nosweep_198275_0_0/5e-05/clique_data_5e-05_25%.hdf')\n",
    "#df = pd.read_hdf(ag.root_dir / 'steps/slim/sweep_data/test_48_11600_X_nosweep_198275_0_0/5e-05/clique_data_5e-05_25%.hdf')\n",
    "\n",
    "df.head()\n"
   ]
  },
  {
   "cell_type": "code",
   "execution_count": 71,
   "metadata": {},
   "outputs": [
    {
     "data": {
      "text/plain": [
       "0.0004224"
      ]
     },
     "execution_count": 71,
     "metadata": {},
     "output_type": "execute_result"
    }
   ],
   "source": [
    "4 * 8800 * 1.2e-8"
   ]
  },
  {
   "cell_type": "markdown",
   "metadata": {},
   "source": [
    "## Facet plotting function"
   ]
  },
  {
   "cell_type": "code",
   "execution_count": 61,
   "metadata": {},
   "outputs": [],
   "source": [
    "def facet_plot(start, end, prop_swept, **kwargs):\n",
    "    x = [j for i in zip(start, end) for j in i]\n",
    "    y = [j for i in zip(prop_swept, prop_swept) for j in i]      \n",
    "    plt.plot(x, y, color='black', linewidth=0.2)\n",
    "    plt.ylim((0, 1.1))\n",
    "    plt.fill_between(x, 0, y, color='gray', alpha=0.05)"
   ]
  },
  {
   "cell_type": "markdown",
   "metadata": {},
   "source": [
    "## Neutral simulations"
   ]
  },
  {
   "cell_type": "markdown",
   "metadata": {},
   "source": [
    "Standard demography:"
   ]
  },
  {
   "cell_type": "code",
   "execution_count": 62,
   "metadata": {},
   "outputs": [
    {
     "ename": "IndexError",
     "evalue": "index -1 is out of bounds for axis 0 with size 0",
     "output_type": "error",
     "traceback": [
      "\u001b[0;31m---------------------------------------------------------------------------\u001b[0m",
      "\u001b[0;31mIndexError\u001b[0m                                Traceback (most recent call last)",
      "\u001b[0;32m<ipython-input-62-ec79fc6d7d45>\u001b[0m in \u001b[0;36m<module>\u001b[0;34m\u001b[0m\n\u001b[1;32m      6\u001b[0m                       \u001b[0mhue\u001b[0m\u001b[0;34m=\u001b[0m\u001b[0;34m'replication'\u001b[0m\u001b[0;34m,\u001b[0m \u001b[0msharex\u001b[0m\u001b[0;34m=\u001b[0m\u001b[0;32mTrue\u001b[0m\u001b[0;34m,\u001b[0m \u001b[0msharey\u001b[0m\u001b[0;34m=\u001b[0m\u001b[0;32mTrue\u001b[0m\u001b[0;34m,\u001b[0m \u001b[0mmargin_titles\u001b[0m\u001b[0;34m=\u001b[0m\u001b[0;32mTrue\u001b[0m\u001b[0;34m,\u001b[0m\u001b[0;34m\u001b[0m\u001b[0;34m\u001b[0m\u001b[0m\n\u001b[1;32m      7\u001b[0m                      height=2, aspect=3)\n\u001b[0;32m----> 8\u001b[0;31m     \u001b[0mg\u001b[0m\u001b[0;34m.\u001b[0m\u001b[0mmap\u001b[0m\u001b[0;34m(\u001b[0m\u001b[0mfacet_plot\u001b[0m\u001b[0;34m,\u001b[0m \u001b[0;34m'start'\u001b[0m\u001b[0;34m,\u001b[0m \u001b[0;34m'end'\u001b[0m\u001b[0;34m,\u001b[0m \u001b[0;34m'prop_swept'\u001b[0m\u001b[0;34m)\u001b[0m\u001b[0;34m\u001b[0m\u001b[0;34m\u001b[0m\u001b[0m\n\u001b[0m\u001b[1;32m      9\u001b[0m \u001b[0;34m\u001b[0m\u001b[0m\n\u001b[1;32m     10\u001b[0m     \u001b[0;32mfor\u001b[0m \u001b[0max\u001b[0m \u001b[0;32min\u001b[0m \u001b[0mg\u001b[0m\u001b[0;34m.\u001b[0m\u001b[0maxes\u001b[0m\u001b[0;34m.\u001b[0m\u001b[0mflat\u001b[0m\u001b[0;34m:\u001b[0m\u001b[0;34m\u001b[0m\u001b[0;34m\u001b[0m\u001b[0m\n",
      "\u001b[0;32m~/anaconda3/envs/simons/lib/python3.6/site-packages/seaborn/axisgrid.py\u001b[0m in \u001b[0;36mmap\u001b[0;34m(self, func, *args, **kwargs)\u001b[0m\n\u001b[1;32m    755\u001b[0m \u001b[0;34m\u001b[0m\u001b[0m\n\u001b[1;32m    756\u001b[0m         \u001b[0;31m# Finalize the annotations and layout\u001b[0m\u001b[0;34m\u001b[0m\u001b[0;34m\u001b[0m\u001b[0;34m\u001b[0m\u001b[0m\n\u001b[0;32m--> 757\u001b[0;31m         \u001b[0mself\u001b[0m\u001b[0;34m.\u001b[0m\u001b[0m_finalize_grid\u001b[0m\u001b[0;34m(\u001b[0m\u001b[0margs\u001b[0m\u001b[0;34m[\u001b[0m\u001b[0;34m:\u001b[0m\u001b[0;36m2\u001b[0m\u001b[0;34m]\u001b[0m\u001b[0;34m)\u001b[0m\u001b[0;34m\u001b[0m\u001b[0;34m\u001b[0m\u001b[0m\n\u001b[0m\u001b[1;32m    758\u001b[0m \u001b[0;34m\u001b[0m\u001b[0m\n\u001b[1;32m    759\u001b[0m         \u001b[0;32mreturn\u001b[0m \u001b[0mself\u001b[0m\u001b[0;34m\u001b[0m\u001b[0;34m\u001b[0m\u001b[0m\n",
      "\u001b[0;32m~/anaconda3/envs/simons/lib/python3.6/site-packages/seaborn/axisgrid.py\u001b[0m in \u001b[0;36m_finalize_grid\u001b[0;34m(self, axlabels)\u001b[0m\n\u001b[1;32m    844\u001b[0m     \u001b[0;32mdef\u001b[0m \u001b[0m_finalize_grid\u001b[0m\u001b[0;34m(\u001b[0m\u001b[0mself\u001b[0m\u001b[0;34m,\u001b[0m \u001b[0maxlabels\u001b[0m\u001b[0;34m)\u001b[0m\u001b[0;34m:\u001b[0m\u001b[0;34m\u001b[0m\u001b[0;34m\u001b[0m\u001b[0m\n\u001b[1;32m    845\u001b[0m         \u001b[0;34m\"\"\"Finalize the annotations and layout.\"\"\"\u001b[0m\u001b[0;34m\u001b[0m\u001b[0;34m\u001b[0m\u001b[0m\n\u001b[0;32m--> 846\u001b[0;31m         \u001b[0mself\u001b[0m\u001b[0;34m.\u001b[0m\u001b[0mset_axis_labels\u001b[0m\u001b[0;34m(\u001b[0m\u001b[0;34m*\u001b[0m\u001b[0maxlabels\u001b[0m\u001b[0;34m)\u001b[0m\u001b[0;34m\u001b[0m\u001b[0;34m\u001b[0m\u001b[0m\n\u001b[0m\u001b[1;32m    847\u001b[0m         \u001b[0mself\u001b[0m\u001b[0;34m.\u001b[0m\u001b[0mset_titles\u001b[0m\u001b[0;34m(\u001b[0m\u001b[0;34m)\u001b[0m\u001b[0;34m\u001b[0m\u001b[0;34m\u001b[0m\u001b[0m\n\u001b[1;32m    848\u001b[0m         \u001b[0mself\u001b[0m\u001b[0;34m.\u001b[0m\u001b[0mfig\u001b[0m\u001b[0;34m.\u001b[0m\u001b[0mtight_layout\u001b[0m\u001b[0;34m(\u001b[0m\u001b[0;34m)\u001b[0m\u001b[0;34m\u001b[0m\u001b[0;34m\u001b[0m\u001b[0m\n",
      "\u001b[0;32m~/anaconda3/envs/simons/lib/python3.6/site-packages/seaborn/axisgrid.py\u001b[0m in \u001b[0;36mset_axis_labels\u001b[0;34m(self, x_var, y_var)\u001b[0m\n\u001b[1;32m    870\u001b[0m         \u001b[0;32mif\u001b[0m \u001b[0mx_var\u001b[0m \u001b[0;32mis\u001b[0m \u001b[0;32mnot\u001b[0m \u001b[0;32mNone\u001b[0m\u001b[0;34m:\u001b[0m\u001b[0;34m\u001b[0m\u001b[0;34m\u001b[0m\u001b[0m\n\u001b[1;32m    871\u001b[0m             \u001b[0mself\u001b[0m\u001b[0;34m.\u001b[0m\u001b[0m_x_var\u001b[0m \u001b[0;34m=\u001b[0m \u001b[0mx_var\u001b[0m\u001b[0;34m\u001b[0m\u001b[0;34m\u001b[0m\u001b[0m\n\u001b[0;32m--> 872\u001b[0;31m             \u001b[0mself\u001b[0m\u001b[0;34m.\u001b[0m\u001b[0mset_xlabels\u001b[0m\u001b[0;34m(\u001b[0m\u001b[0mx_var\u001b[0m\u001b[0;34m)\u001b[0m\u001b[0;34m\u001b[0m\u001b[0;34m\u001b[0m\u001b[0m\n\u001b[0m\u001b[1;32m    873\u001b[0m         \u001b[0;32mif\u001b[0m \u001b[0my_var\u001b[0m \u001b[0;32mis\u001b[0m \u001b[0;32mnot\u001b[0m \u001b[0;32mNone\u001b[0m\u001b[0;34m:\u001b[0m\u001b[0;34m\u001b[0m\u001b[0;34m\u001b[0m\u001b[0m\n\u001b[1;32m    874\u001b[0m             \u001b[0mself\u001b[0m\u001b[0;34m.\u001b[0m\u001b[0m_y_var\u001b[0m \u001b[0;34m=\u001b[0m \u001b[0my_var\u001b[0m\u001b[0;34m\u001b[0m\u001b[0;34m\u001b[0m\u001b[0m\n",
      "\u001b[0;32m~/anaconda3/envs/simons/lib/python3.6/site-packages/seaborn/axisgrid.py\u001b[0m in \u001b[0;36mset_xlabels\u001b[0;34m(self, label, **kwargs)\u001b[0m\n\u001b[1;32m    880\u001b[0m         \u001b[0;32mif\u001b[0m \u001b[0mlabel\u001b[0m \u001b[0;32mis\u001b[0m \u001b[0;32mNone\u001b[0m\u001b[0;34m:\u001b[0m\u001b[0;34m\u001b[0m\u001b[0;34m\u001b[0m\u001b[0m\n\u001b[1;32m    881\u001b[0m             \u001b[0mlabel\u001b[0m \u001b[0;34m=\u001b[0m \u001b[0mself\u001b[0m\u001b[0;34m.\u001b[0m\u001b[0m_x_var\u001b[0m\u001b[0;34m\u001b[0m\u001b[0;34m\u001b[0m\u001b[0m\n\u001b[0;32m--> 882\u001b[0;31m         \u001b[0;32mfor\u001b[0m \u001b[0max\u001b[0m \u001b[0;32min\u001b[0m \u001b[0mself\u001b[0m\u001b[0;34m.\u001b[0m\u001b[0m_bottom_axes\u001b[0m\u001b[0;34m:\u001b[0m\u001b[0;34m\u001b[0m\u001b[0;34m\u001b[0m\u001b[0m\n\u001b[0m\u001b[1;32m    883\u001b[0m             \u001b[0max\u001b[0m\u001b[0;34m.\u001b[0m\u001b[0mset_xlabel\u001b[0m\u001b[0;34m(\u001b[0m\u001b[0mlabel\u001b[0m\u001b[0;34m,\u001b[0m \u001b[0;34m**\u001b[0m\u001b[0mkwargs\u001b[0m\u001b[0;34m)\u001b[0m\u001b[0;34m\u001b[0m\u001b[0;34m\u001b[0m\u001b[0m\n\u001b[1;32m    884\u001b[0m         \u001b[0;32mreturn\u001b[0m \u001b[0mself\u001b[0m\u001b[0;34m\u001b[0m\u001b[0;34m\u001b[0m\u001b[0m\n",
      "\u001b[0;32m~/anaconda3/envs/simons/lib/python3.6/site-packages/seaborn/axisgrid.py\u001b[0m in \u001b[0;36m_bottom_axes\u001b[0;34m(self)\u001b[0m\n\u001b[1;32m   1050\u001b[0m         \u001b[0;34m\"\"\"Return a flat array of the bottom row of axes.\"\"\"\u001b[0m\u001b[0;34m\u001b[0m\u001b[0;34m\u001b[0m\u001b[0m\n\u001b[1;32m   1051\u001b[0m         \u001b[0;32mif\u001b[0m \u001b[0mself\u001b[0m\u001b[0;34m.\u001b[0m\u001b[0m_col_wrap\u001b[0m \u001b[0;32mis\u001b[0m \u001b[0;32mNone\u001b[0m\u001b[0;34m:\u001b[0m\u001b[0;34m\u001b[0m\u001b[0;34m\u001b[0m\u001b[0m\n\u001b[0;32m-> 1052\u001b[0;31m             \u001b[0;32mreturn\u001b[0m \u001b[0mself\u001b[0m\u001b[0;34m.\u001b[0m\u001b[0maxes\u001b[0m\u001b[0;34m[\u001b[0m\u001b[0;34m-\u001b[0m\u001b[0;36m1\u001b[0m\u001b[0;34m,\u001b[0m \u001b[0;34m:\u001b[0m\u001b[0;34m]\u001b[0m\u001b[0;34m.\u001b[0m\u001b[0mflat\u001b[0m\u001b[0;34m\u001b[0m\u001b[0;34m\u001b[0m\u001b[0m\n\u001b[0m\u001b[1;32m   1053\u001b[0m         \u001b[0;32melse\u001b[0m\u001b[0;34m:\u001b[0m\u001b[0;34m\u001b[0m\u001b[0;34m\u001b[0m\u001b[0m\n\u001b[1;32m   1054\u001b[0m             \u001b[0maxes\u001b[0m \u001b[0;34m=\u001b[0m \u001b[0;34m[\u001b[0m\u001b[0;34m]\u001b[0m\u001b[0;34m\u001b[0m\u001b[0;34m\u001b[0m\u001b[0m\n",
      "\u001b[0;31mIndexError\u001b[0m: index -1 is out of bounds for axis 0 with size 0"
     ]
    },
    {
     "data": {
      "text/plain": [
       "<Figure size 0x0 with 0 Axes>"
      ]
     },
     "metadata": {},
     "output_type": "display_data"
    }
   ],
   "source": [
    "plot_df = prop_swept_data.loc[(prop_swept_data.sweep_type == 'nosweep') & \\\n",
    "                              (prop_swept_data.demography == 'standard')]\n",
    "\n",
    "with sns.axes_style('whitegrid'):\n",
    "    g = sns.FacetGrid(plot_df, col='rec_rate_per_gen', row='x_auto_ratio', \n",
    "                      hue='replication', sharex=True, sharey=True, margin_titles=True,\n",
    "                     height=2, aspect=3)\n",
    "    g.map(facet_plot, 'start', 'end', 'prop_swept')\n",
    "\n",
    "    for ax in g.axes.flat:\n",
    "        plt.setp(ax.texts, text=\"\") # remove the original texts, important to do this before setting titles\n",
    "    g.set_titles(row_template = '{row_name}', col_template = '{col_name}')\n",
    "\n",
    "    for ax in g.axes.flat:\n",
    "        ax.set_xlabel('position') # need to set labels manually because the names of facet function are start and end.\n",
    "        ax.set_ylabel('prop ECH')\n",
    "        plt.setp(ax.texts, rotation=\"0\") # remove the original texts, important to do this before setting titles"
   ]
  },
  {
   "cell_type": "markdown",
   "metadata": {},
   "source": [
    "Truncated demography:"
   ]
  },
  {
   "cell_type": "code",
   "execution_count": null,
   "metadata": {},
   "outputs": [],
   "source": [
    "plot_df = prop_swept_data.loc[(prop_swept_data.sweep_type == 'nosweep') & \\\n",
    "                              (prop_swept_data.demography == 'truncated')]\n",
    "\n",
    "with sns.axes_style('whitegrid'):\n",
    "    g = sns.FacetGrid(plot_df, col='rec_rate_per_gen', row='x_auto_ratio', \n",
    "                      hue='replication', sharex=True, sharey=True, margin_titles=True,\n",
    "                     height=2, aspect=3)\n",
    "    g.map(facet_plot, 'start', 'end', 'prop_swept')\n",
    "\n",
    "    for ax in g.axes.flat:\n",
    "        plt.setp(ax.texts, text=\"\") # remove the original texts, important to do this before setting titles\n",
    "    g.set_titles(row_template = '{row_name}', col_template = '{col_name}')\n",
    "\n",
    "    for ax in g.axes.flat:\n",
    "        ax.set_xlabel('position') # need to set labels manually because the names of facet function are start and end.\n",
    "        ax.set_ylabel('prop ECH')        \n",
    "        plt.setp(ax.texts, rotation=\"0\") # remove the original texts, important to do this before setting titles"
   ]
  },
  {
   "cell_type": "code",
   "execution_count": null,
   "metadata": {},
   "outputs": [],
   "source": [
    "plot_df = prop_swept_data.loc[(prop_swept_data.sweep_type == 'complete') & \\\n",
    "                              (prop_swept_data.demography == 'standard') & \\\n",
    "                              (prop_swept_data.selcoef == 0.1) ]"
   ]
  },
  {
   "cell_type": "code",
   "execution_count": 65,
   "metadata": {},
   "outputs": [
    {
     "data": {
      "image/png": "[encoded data removed]",
      "text/plain": [
       "<Figure size 864x288 with 4 Axes>"
      ]
     },
     "metadata": {
      "image/png": {
       "height": 274,
       "width": 865
      }
     },
     "output_type": "display_data"
    }
   ],
   "source": [
    "with sns.axes_style('whitegrid'):\n",
    "    g = sns.FacetGrid(plot_df, col='rec_rate_per_gen', row='x_auto_ratio', \n",
    "                      hue='replication', sharex=True, sharey=True, margin_titles=True,\n",
    "                     height=2, aspect=3)\n",
    "    g.map(facet_plot, 'start', 'end', 'prop_swept')\n",
    "\n",
    "    for ax in g.axes.flat:\n",
    "        plt.setp(ax.texts, text=\"\") # remove the original texts, important to do this before setting titles\n",
    "    g.set_titles(row_template = '{row_name}', col_template = '{col_name}')\n",
    "\n",
    "    for ax in g.axes.flat:\n",
    "        ax.set_xlabel('position') # need to set labels manually because the names of facet function are start and end.\n",
    "        ax.set_ylabel('prop ECH')        \n",
    "        plt.setp(ax.texts, rotation=\"0\") # remove the original texts, important to do this before setting titles"
   ]
  },
  {
   "cell_type": "markdown",
   "metadata": {},
   "source": [
    "-----"
   ]
  },
  {
   "cell_type": "code",
   "execution_count": 63,
   "metadata": {},
   "outputs": [
    {
     "ename": "AttributeError",
     "evalue": "'DataFrame' object has no attribute 'simulation'",
     "output_type": "error",
     "traceback": [
      "\u001b[0;31m---------------------------------------------------------------------------\u001b[0m",
      "\u001b[0;31mAttributeError\u001b[0m                            Traceback (most recent call last)",
      "\u001b[0;32m<ipython-input-63-814a8834994e>\u001b[0m in \u001b[0;36m<module>\u001b[0;34m\u001b[0m\n\u001b[1;32m      1\u001b[0m \u001b[0;32mwith\u001b[0m \u001b[0msns\u001b[0m\u001b[0;34m.\u001b[0m\u001b[0maxes_style\u001b[0m\u001b[0;34m(\u001b[0m\u001b[0;34m'whitegrid'\u001b[0m\u001b[0;34m)\u001b[0m\u001b[0;34m:\u001b[0m\u001b[0;34m\u001b[0m\u001b[0;34m\u001b[0m\u001b[0m\n\u001b[1;32m      2\u001b[0m \u001b[0;31m#     g = sns.FacetGrid(prop_swept_data, col='simulation', row='selection_coef',\u001b[0m\u001b[0;34m\u001b[0m\u001b[0;34m\u001b[0m\u001b[0;34m\u001b[0m\u001b[0m\n\u001b[0;32m----> 3\u001b[0;31m     g = sns.FacetGrid(prop_swept_data.loc[prop_swept_data.simulation.str.startswith('standard_40_4650')],\n\u001b[0m\u001b[1;32m      4\u001b[0m                       \u001b[0mcol\u001b[0m\u001b[0;34m=\u001b[0m\u001b[0;34m'selection_coef'\u001b[0m\u001b[0;34m,\u001b[0m \u001b[0mrow\u001b[0m\u001b[0;34m=\u001b[0m\u001b[0;34m'simulation'\u001b[0m\u001b[0;34m,\u001b[0m\u001b[0;34m\u001b[0m\u001b[0;34m\u001b[0m\u001b[0m\n\u001b[1;32m      5\u001b[0m                       \u001b[0mhue\u001b[0m\u001b[0;34m=\u001b[0m\u001b[0;34m'replication'\u001b[0m\u001b[0;34m,\u001b[0m \u001b[0msharex\u001b[0m\u001b[0;34m=\u001b[0m\u001b[0;32mTrue\u001b[0m\u001b[0;34m,\u001b[0m \u001b[0msharey\u001b[0m\u001b[0;34m=\u001b[0m\u001b[0;32mTrue\u001b[0m\u001b[0;34m,\u001b[0m \u001b[0mmargin_titles\u001b[0m\u001b[0;34m=\u001b[0m\u001b[0;32mTrue\u001b[0m\u001b[0;34m,\u001b[0m\u001b[0;34m\u001b[0m\u001b[0;34m\u001b[0m\u001b[0m\n",
      "\u001b[0;32m~/anaconda3/envs/simons/lib/python3.6/site-packages/pandas/core/generic.py\u001b[0m in \u001b[0;36m__getattr__\u001b[0;34m(self, name)\u001b[0m\n\u001b[1;32m   3612\u001b[0m             \u001b[0;32mif\u001b[0m \u001b[0mname\u001b[0m \u001b[0;32min\u001b[0m \u001b[0mself\u001b[0m\u001b[0;34m.\u001b[0m\u001b[0m_info_axis\u001b[0m\u001b[0;34m:\u001b[0m\u001b[0;34m\u001b[0m\u001b[0;34m\u001b[0m\u001b[0m\n\u001b[1;32m   3613\u001b[0m                 \u001b[0;32mreturn\u001b[0m \u001b[0mself\u001b[0m\u001b[0;34m[\u001b[0m\u001b[0mname\u001b[0m\u001b[0;34m]\u001b[0m\u001b[0;34m\u001b[0m\u001b[0;34m\u001b[0m\u001b[0m\n\u001b[0;32m-> 3614\u001b[0;31m             \u001b[0;32mreturn\u001b[0m \u001b[0mobject\u001b[0m\u001b[0;34m.\u001b[0m\u001b[0m__getattribute__\u001b[0m\u001b[0;34m(\u001b[0m\u001b[0mself\u001b[0m\u001b[0;34m,\u001b[0m \u001b[0mname\u001b[0m\u001b[0;34m)\u001b[0m\u001b[0;34m\u001b[0m\u001b[0;34m\u001b[0m\u001b[0m\n\u001b[0m\u001b[1;32m   3615\u001b[0m \u001b[0;34m\u001b[0m\u001b[0m\n\u001b[1;32m   3616\u001b[0m     \u001b[0;32mdef\u001b[0m \u001b[0m__setattr__\u001b[0m\u001b[0;34m(\u001b[0m\u001b[0mself\u001b[0m\u001b[0;34m,\u001b[0m \u001b[0mname\u001b[0m\u001b[0;34m,\u001b[0m \u001b[0mvalue\u001b[0m\u001b[0;34m)\u001b[0m\u001b[0;34m:\u001b[0m\u001b[0;34m\u001b[0m\u001b[0;34m\u001b[0m\u001b[0m\n",
      "\u001b[0;31mAttributeError\u001b[0m: 'DataFrame' object has no attribute 'simulation'"
     ]
    }
   ],
   "source": [
    "with sns.axes_style('whitegrid'):\n",
    "#     g = sns.FacetGrid(prop_swept_data, col='simulation', row='selection_coef', \n",
    "    g = sns.FacetGrid(prop_swept_data.loc[prop_swept_data.simulation.str.startswith('standard_40_4650')],\n",
    "                      col='selection_coef', row='simulation', \n",
    "                      hue='replication', sharex=True, sharey=True, margin_titles=True,\n",
    "                     height=3, aspect=5)\n",
    "    g.map(facet_plot, 'start', 'end', 'prop_swept')\n",
    "\n",
    "    for ax in g.axes.flat:\n",
    "        plt.setp(ax.texts, text=\"\") # remove the original texts, important to do this before setting titles\n",
    "    g.set_titles(row_template = '{row_name}', col_template = '{col_name}')\n",
    "\n",
    "    for ax in g.axes.flat:\n",
    "        plt.setp(ax.texts, rotation=\"0\") # remove the original texts, important to do this before setting titles\n",
    "\n"
   ]
  },
  {
   "cell_type": "code",
   "execution_count": null,
   "metadata": {},
   "outputs": [],
   "source": [
    "prop_swept_data.simulation.unique()"
   ]
  },
  {
   "cell_type": "code",
   "execution_count": null,
   "metadata": {},
   "outputs": [],
   "source": [
    "def facet_plot(start, end, prop_swept, **kwargs):\n",
    "    x = [j for i in zip(start, end) for j in i]\n",
    "    y = [j for i in zip(prop_swept, prop_swept) for j in i]      \n",
    "    plt.plot(x, y, color='black', linewidth=0.2)\n",
    "#    plt.plot(x, y, linewidth=0.2, **kwargs)\n",
    "    plt.ylim((0, 1))\n",
    "    plt.fill_between(x, 0, y, color='gray', alpha=0.5)\n",
    "\n",
    "with sns.axes_style('whitegrid'):\n",
    "#     g = sns.FacetGrid(prop_swept_data, col='simulation', row='selection_coef', \n",
    "    g = sns.FacetGrid(prop_swept_data.loc[prop_swept_data.simulation.isin(['standard_55_4650_X_nosweep_98275',\n",
    "                                                                          'standard_40_4650_X_nosweep_98275',\n",
    "                                                                          'standard_48_4650_X_nosweep_98275',\n",
    "                                                                          'standard_66_4650_X_nosweep_98275'])],\n",
    "                      col='replication', row='simulation', sharex=True, sharey=True, margin_titles=True,\n",
    "                     height=4, aspect=0.5)\n",
    "    g.map(facet_plot, 'start', 'end', 'prop_swept')\n",
    "\n",
    "    for ax in g.axes.flat:\n",
    "        plt.setp(ax.texts, text=\"\") # remove the original texts, important to do this before setting titles\n",
    "    g.set_titles(row_template = '{row_name}', col_template = '{col_name}')\n",
    "\n",
    "    for ax in g.axes.flat:\n",
    "        plt.setp(ax.texts, rotation=\"0\") # remove the original texts, important to do this before setting titles\n",
    "\n"
   ]
  },
  {
   "cell_type": "markdown",
   "metadata": {},
   "source": [
    "## Frequency of derived variants in simulated ECHs"
   ]
  },
  {
   "cell_type": "markdown",
   "metadata": {},
   "source": [
    "- Extract simulated ECHs as you did in notebook 24 on Moi's data.\n",
    "- Compute same derived stats and compare simulations and observations.\n",
    "\n",
    "\n",
    "\n",
    "\n"
   ]
  },
  {
   "cell_type": "markdown",
   "metadata": {},
   "source": [
    "## TMRCA computations"
   ]
  },
  {
   "cell_type": "code",
   "execution_count": 8,
   "metadata": {},
   "outputs": [],
   "source": [
    "# from math import exp\n",
    "\n",
    "# def lamb(i):\n",
    "#     # lamb(i) rate of coalescence from i-1 to i\n",
    "#     i += 1\n",
    "#     return i*(i-1)/2\n",
    "\n",
    "# samples = 5 # total samples\n",
    "# setsize = 3 # size of clade (we want to see at least one such clade coalesce before time t)\n",
    "# t = 1\n",
    "\n",
    "# for n in range(setsize, samples+1):\n",
    "#     # loop from setsize to samples (3 to 5):\n",
    "#     p = 0\n",
    "#     for i in range(1, n):\n",
    "#         # loop from 1 to n-1:\n",
    "#         p += np.prod([lamb(j)/(lamb(j)-lamb(i)) for j in range(1, n) if i != j]) \\\n",
    "#         * exp(-lamb(n)*t) \\\n",
    "#         * (lamb(i)/(lamb(i)-lamb(n))) \\\n",
    "#         * (-exp(-(lamb(i)-lamb(n))*t) + 1)\n",
    "#     # combinatorial expression:\n",
    "#     p *= scipy.misc.comb(n, setsize) / scipy.misc.comb(samples, setsize)\n",
    "# p\n",
    "    \n"
   ]
  },
  {
   "cell_type": "code",
   "execution_count": 9,
   "metadata": {},
   "outputs": [],
   "source": [
    "# def lamb(x):\n",
    "#     x += 1\n",
    "#     return x*(x-1)/2\n",
    "\n",
    "\n",
    "# N = 3000\n",
    "# n = 42\n",
    "# t = 1\n",
    "\n",
    "# prob = 0\n",
    "# for i in range(1, n):\n",
    "#     prob += (1 - math.exp(-lamb(i)*t)) * np.prod([lamb(j)/(lamb(j)-lamb(i)) for j in range(1, n) if i != j])\n",
    "# prob * scipy.misc.comb(140, 42)"
   ]
  },
  {
   "cell_type": "code",
   "execution_count": 10,
   "metadata": {},
   "outputs": [],
   "source": [
    "#scipy.misc.comb(140, 42)"
   ]
  },
  {
   "cell_type": "code",
   "execution_count": 11,
   "metadata": {},
   "outputs": [],
   "source": [
    "#1- math.exp(-lamb(1))"
   ]
  },
  {
   "cell_type": "code",
   "execution_count": 12,
   "metadata": {},
   "outputs": [],
   "source": [
    "# def lamb(x):\n",
    "#     return x*(x-1)/2\n",
    "\n",
    "# t = 10\n",
    "# n = 20\n",
    "\n",
    "# prob = 0\n",
    "# for i in range(1, n+1):\n",
    "# #     print([lamb(j)/(lamb(j)-lamb(i)) for j in range(1, n+1) if i != j])\n",
    "#     prob += lamb(i) * math.exp(-lamb(i)*t) * np.prod([lamb(j)/(lamb(j)-lamb(i)) for j in range(1, n+1) if i != j])\n",
    "# prob #* scipy.misc.comb(n, i)"
   ]
  },
  {
   "cell_type": "code",
   "execution_count": 13,
   "metadata": {},
   "outputs": [],
   "source": [
    "#lamb(3)"
   ]
  },
  {
   "cell_type": "code",
   "execution_count": 14,
   "metadata": {},
   "outputs": [],
   "source": [
    "# import scipy\n",
    "\n",
    "# def coal_n_to_l(n, l, t):\n",
    "#     \"\"\"Prob of reducing n lineages to l in time t\"\"\"\n",
    "#     Q = np.zeros(shape=(n-l+1, n-l+1))\n",
    "#     for x in range(n-l):\n",
    "#         rate = scipy.misc.comb(n-x, 2) / (2 * pop_size)\n",
    "#         Q[x][x] = -rate\n",
    "#         Q[x][x+1] = rate\n",
    "#     return scipy.linalg.expm(Q*t)[0][-1]\n",
    "\n",
    "# def clade_prob(n, l, t, i):\n",
    "#     \"\"\"Prob of one among l lineages being ancestor to i among n\"\"\"\n",
    "# #     if i == 1 or l == 1:\n",
    "# #         return 1\n",
    "# #     else:\n",
    "#     return scipy.misc.comb(n-i-1, l-2) / scipy.misc.comb(n-1, l-1)\n",
    "        \n",
    "# n = 5\n",
    "# t = 36\n",
    "# pop_size = 300\n",
    "# i = 2\n",
    "\n",
    "# total_prop = 0\n",
    "# for l in range(1, n):\n",
    "#     total_prop += coal_n_to_l(n, l, t) * clade_prob(n, l, t, i)\n",
    "# total_prop"
   ]
  },
  {
   "cell_type": "code",
   "execution_count": 15,
   "metadata": {},
   "outputs": [],
   "source": [
    "# n = 5\n",
    "# t = 360\n",
    "# pop_size = 30\n",
    "\n",
    "# i = 2\n",
    "\n",
    "# #l = 3\n",
    "\n",
    "# total_prop = 0\n",
    "\n",
    "# for l in [3]:#range(1, n):\n",
    "    \n",
    "#     # probability of having l out of n left at time t\n",
    "#     Q = np.zeros(shape=(n-l+1, n-l+1))\n",
    "#     for x in range(n-l):\n",
    "#         rate = scipy.misc.comb(n-x, 2) / (2 * pop_size)\n",
    "#         Q[x][x] = -rate\n",
    "#         Q[x][x+1] = rate\n",
    "#     prop_coalescences_n_to_l = scipy.linalg.expm(Q*t)[0][-1]\n",
    "#     prop_coalescences_n_to_l\n",
    "\n",
    "    \n",
    "#     if i == 1 or l == 1:\n",
    "#         prop_ancestor_to_i = 1 # CHECK THAT THIS IS OK\n",
    "#     else:\n",
    "#         prop_ancestor_to_i = scipy.misc.comb(n-i-1, l-2) / scipy.misc.comb(n-1, l-1)\n",
    "\n",
    "#     assert prop_ancestor_to_i <= 1, prop_ancestor_to_i\n",
    "\n",
    "#     prob = prop_coalescences_n_to_l * prop_ancestor_to_i\n",
    "\n",
    "#     print(prop_coalescences_n_to_l, prop_ancestor_to_i)\n",
    "\n",
    "#     total_prop += prob\n",
    "# total_prop"
   ]
  },
  {
   "cell_type": "markdown",
   "metadata": {},
   "source": [
    "## Not sure what the stuff below is"
   ]
  },
  {
   "cell_type": "code",
   "execution_count": null,
   "metadata": {},
   "outputs": [],
   "source": [
    "df = pd.read_hdf(str(ag.steps_dir / 'slim/simulations/standard/66/4650/X/nosweep/98275/10/standard_66_4650_X_nosweep_98275_10_0.hdf'))\n",
    "\n",
    "plt.hist(df.dist, bins=100, alpha=0.5) ;\n",
    "plt.axvline(5e-5, color='orange', linestyle='dashed') ;\n"
   ]
  },
  {
   "cell_type": "code",
   "execution_count": null,
   "metadata": {},
   "outputs": [],
   "source": [
    "df = pd.read_hdf(str(ag.steps_dir / 'slim/simulations/standard/48/4650/X/nosweep/98275/10/standard_48_4650_X_nosweep_98275_10_0.hdf'))\n",
    "\n",
    "plt.hist(df.dist, bins=100, alpha=0.5) ;\n",
    "plt.axvline(5e-5, color='orange', linestyle='dashed');\n"
   ]
  },
  {
   "cell_type": "code",
   "execution_count": null,
   "metadata": {},
   "outputs": [],
   "source": [
    "# s = 'standard_40_4650_X_nosweep_98275_{}'.format(20)\n",
    "# f_name_tmpl = '/home/kmt/simons/faststorage/people/kmt/steps/slim/simulations/' + s.replace('_', '/') + '/{}_{{}}.hdf'.format(s)\n",
    "# df = pd.read_hdf(f_name_tmpl.format(0))\n",
    "# plt.hist(df.dist, bins=200, alpha=0.5) ;\n",
    "\n",
    "# s = 'standard_40_4650_X_nosweep_98275_{}'.format(20)\n",
    "# f_name_tmpl = '/home/kmt/simons/faststorage/people/kmt/steps/slim/simulations/' + s.replace('_', '/') + '/{}_{{}}.hdf'.format(s)\n",
    "# df = pd.read_hdf(f_name_tmpl.format(0))\n",
    "# plt.hist(df.dist, bins=200, alpha=0.5) ;"
   ]
  },
  {
   "cell_type": "code",
   "execution_count": null,
   "metadata": {},
   "outputs": [],
   "source": [
    "# s = 'nosweep_10000_96551_98965_10000_96206_{}'.format(20)\n",
    "# f_name_tmpl = '/home/kmt/simons/faststorage/people/kmt/steps/slim/simulations/' + s.replace('_', '/') + '/{}_{{}}.hdf'.format(s)\n",
    "# df = pd.read_hdf(f_name_tmpl.format(0))\n",
    "# plt.hist(df.dist, bins=200, alpha=0.5) ;\n",
    "\n",
    "# s = 'nosweep_10000_96551_98965_1000_96206_{}'.format(20)\n",
    "# f_name_tmpl = '/home/kmt/simons/faststorage/people/kmt/steps/slim/simulations/' + s.replace('_', '/') + '/{}_{{}}.hdf'.format(s)\n",
    "# df = pd.read_hdf(f_name_tmpl.format(0))\n",
    "# plt.hist(df.dist, bins=200, alpha=0.5) ;\n",
    "\n",
    "# s = 'nosweep_10000_96954_98563_690_98275_{}'.format(20)\n",
    "# f_name_tmpl = '/home/kmt/simons/faststorage/people/kmt/steps/slim/simulations/' + s.replace('_', '/') + '/{}_{{}}.hdf'.format(s)\n",
    "# df = pd.read_hdf(f_name_tmpl.format(0))\n",
    "# plt.hist(df.dist, bins=200, alpha=0.5) ;\n",
    "\n",
    "# s = 'nosweep_10000_97356_98160_357_99310_{}'.format(20)\n",
    "# f_name_tmpl = '/home/kmt/simons/faststorage/people/kmt/steps/slim/simulations/' + s.replace('_', '/') + '/{}_{{}}.hdf'.format(s)\n",
    "# df = pd.read_hdf(f_name_tmpl.format(0))\n",
    "# plt.hist(df.dist, bins=100, alpha=0.5) ;\n"
   ]
  },
  {
   "cell_type": "code",
   "execution_count": null,
   "metadata": {},
   "outputs": [],
   "source": [
    "\n",
    "\n",
    "s = 'nosweep_10000_3448_5861_10000_5171_{}'.format(20)\n",
    "f_name_tmpl = '/home/kmt/simons/faststorage/people/kmt/steps/slim/simulations/' + s.replace('_', '/') + '/{}_{{}}.hdf'.format(s)\n",
    "df = pd.read_hdf(f_name_tmpl.format(0))\n",
    "plt.hist(df.dist, bins=100, alpha=0.5) ;\n"
   ]
  },
  {
   "cell_type": "code",
   "execution_count": null,
   "metadata": {},
   "outputs": [],
   "source": [
    "s = 'nosweep_10000_3447_5861_1000_3102_{}'.format(20)\n",
    "f_name_tmpl = '/home/kmt/simons/faststorage/people/kmt/steps/slim/simulations/' + s.replace('_', '/') + '/{}_{{}}.hdf'.format(s)\n",
    "df = pd.read_hdf(f_name_tmpl.format(0))\n",
    "plt.hist(df.dist, bins=200, alpha=0.5) ;\n",
    "\n",
    "s = 'nosweep_10000_3448_5861_10000_3102_{}'.format(20)\n",
    "f_name_tmpl = '/home/kmt/simons/faststorage/people/kmt/steps/slim/simulations/' + s.replace('_', '/') + '/{}_{{}}.hdf'.format(s)\n",
    "df = pd.read_hdf(f_name_tmpl.format(0))\n",
    "plt.hist(df.dist, bins=200, alpha=0.5) ;\n"
   ]
  },
  {
   "cell_type": "code",
   "execution_count": null,
   "metadata": {},
   "outputs": [],
   "source": [
    "s = 'nosweep_10000_3447_5861_1000_3102_{}'.format(20)\n",
    "f_name_tmpl = '/home/kmt/simons/faststorage/people/kmt/steps/slim/simulations/' + s.replace('_', '/') + '/{}_{{}}.hdf'.format(s)\n",
    "df = pd.read_hdf(f_name_tmpl.format(0))\n",
    "plt.hist(df.dist, bins=100) ;"
   ]
  },
  {
   "cell_type": "code",
   "execution_count": null,
   "metadata": {},
   "outputs": [],
   "source": [
    "plt.figure(figsize=(10,6))\n",
    "for i in range(10):\n",
    "    plt.subplot(2, 5, i+1)\n",
    "    df = pd.read_hdf(f_name_tmpl.format(i))\n",
    "    plt.hist(df.dist, bins=100)\n",
    "    plt.axvline(5e-5, color='orange', zorder=0)"
   ]
  },
  {
   "cell_type": "code",
   "execution_count": null,
   "metadata": {},
   "outputs": [],
   "source": [
    "import pyslim, msprime, random\n",
    "seed = 7\n",
    "mutation_rate = 1.25e-8\n",
    "sample_size = 100\n",
    "\n",
    "trees = pyslim.load(f_name_tmpl.format(0).replace('.hdf', '.trees'))\n",
    "\n",
    "# Overlay neutral mutations and make bit arrays for each SNP:\n",
    "sample_ids = sorted(random.sample(list(trees.samples()), sample_size))\n",
    "\n",
    "trees_sample = trees.simplify(samples=sample_ids, filter_zero_mutation_sites=True, filter_individuals=True)\n",
    "mutated_trees = msprime.mutate(trees_sample, rate=mutation_rate, random_seed=seed)\n",
    "# mutated.dump(\"./sweep_overlaid.trees\") \n",
    "print(mutated_trees.pairwise_diversity() / mutated_trees.sequence_length)\n",
    "\n",
    "\n",
    "ts = mutated_trees\n",
    "# Measure the tree height at each base position\n",
    "height_for_pos = np.zeros(int(ts.sequence_length))\n",
    "for tree in ts.trees():\n",
    "    mean_height = np.mean([tree.time(root) for root in tree.roots])\n",
    "    left, right = map(int, tree.interval)\n",
    "    height_for_pos[left: right] = mean_height\n",
    "height_for_pos\n",
    "plt.figure(figsize=(10,3))\n",
    "plt.plot(height_for_pos, linewidth=0.5, color='black') ;\n",
    "\n",
    "\n",
    "trees = pyslim.load(f_name_tmpl.format(1).replace('.hdf', '.trees'))\n",
    "\n",
    "# Overlay neutral mutations and make bit arrays for each SNP:\n",
    "sample_ids = sorted(random.sample(list(trees.samples()), sample_size))\n",
    "\n",
    "trees_sample = trees.simplify(samples=sample_ids, filter_zero_mutation_sites=True, filter_individuals=True)\n",
    "mutated_trees = msprime.mutate(trees_sample, rate=mutation_rate, random_seed=seed)\n",
    "# mutated.dump(\"./sweep_overlaid.trees\") \n",
    "print(mutated_trees.pairwise_diversity() / mutated_trees.sequence_length)\n",
    "\n",
    "\n",
    "ts = mutated_trees\n",
    "# Measure the tree height at each base position\n",
    "height_for_pos = np.zeros(int(ts.sequence_length))\n",
    "for tree in ts.trees():\n",
    "    mean_height = np.mean([tree.time(root) for root in tree.roots])\n",
    "    left, right = map(int, tree.interval)\n",
    "    height_for_pos[left: right] = mean_height\n",
    "height_for_pos\n",
    "\n",
    "plt.plot(height_for_pos, linewidth=0.5, color='red') ;\n",
    "\n",
    "\n",
    "\n",
    "\n",
    "\n"
   ]
  },
  {
   "cell_type": "code",
   "execution_count": null,
   "metadata": {},
   "outputs": [],
   "source": []
  },
  {
   "cell_type": "code",
   "execution_count": null,
   "metadata": {},
   "outputs": [],
   "source": []
  },
  {
   "cell_type": "code",
   "execution_count": null,
   "metadata": {},
   "outputs": [],
   "source": []
  },
  {
   "cell_type": "markdown",
   "metadata": {},
   "source": [
    "## Run slim testing to get pairwise distances for testing purposes"
   ]
  },
  {
   "cell_type": "code",
   "execution_count": null,
   "metadata": {},
   "outputs": [],
   "source": [
    "from itertools import combinations\n",
    "import argparse\n",
    "import random\n",
    "import subprocess\n",
    "import re, os, sys\n",
    "import tempfile\n",
    "import numpy as np\n",
    "import pandas as pd\n",
    "from pandas import DataFrame\n",
    "import msprime, pyslim\n",
    "\n",
    "trees_file = \"/home/kmt/simons/faststorage/people/kmt/test_slim.trees\"\n",
    "\n",
    "slurm_script = r'''\n",
    "initialize() {\n",
    "\tinitializeTreeSeq();\n",
    "\tinitializeMutationRate(0);\n",
    "\tinitializeMutationType(\"m1\", 0.5, \"f\", 0.0);\n",
    "\tinitializeGenomicElementType(\"g1\", m1, 1.0);\n",
    "\tinitializeGenomicElement(g1, 0, 10e6-1);\n",
    "\tinitializeRecombinationRate(1e-8);\n",
    "}\n",
    "1 {\n",
    "\tdefineConstant(\"simID\", getSeed());\n",
    "\tsim.addSubpop(\"p1\", 10000);\n",
    "}\n",
    "50000 {\n",
    "    sim.treeSeqOutput(\"OUTFILE\");\n",
    "\tsim.simulationFinished();\n",
    "}\n",
    "'''.replace('OUTFILE', trees_file)\n",
    "\n",
    "print(slurm_script)\n",
    "random.seed(7)\n",
    "\n",
    "window_size = 100000\n",
    "\n",
    "# write slim script file with the right output name\n",
    "slurm_script_file = tempfile.NamedTemporaryFile(mode='w', delete=False)\n",
    "slurm_script_file.write(slurm_script)\n",
    "slurm_script_file.close()\n",
    "\n",
    "# run slim\n",
    "cmd = '/home/kmt/simons/faststorage/people/kmt/slim {}'.format(slurm_script_file.name)\n",
    "p = subprocess.Popen(cmd.split(), \n",
    "    stdout=subprocess.PIPE, stderr=subprocess.PIPE)\n",
    "stdout, stderr = p.communicate()\n",
    "print(stdout.decode())\n",
    "print(stderr.decode())"
   ]
  },
  {
   "cell_type": "code",
   "execution_count": null,
   "metadata": {},
   "outputs": [],
   "source": [
    "mutationrate = 4.3e-10\n",
    "generationtime = 29\n",
    "\n",
    "# load trees from slim\n",
    "ts = pyslim.load(trees_file)\n",
    "\n",
    "# overlay mutations\n",
    "mutated_ts = msprime.mutate(ts, rate=mutationrate*generationtime, random_seed=2, keep=True)"
   ]
  },
  {
   "cell_type": "code",
   "execution_count": null,
   "metadata": {},
   "outputs": [],
   "source": [
    "ts = mutated_trees\n",
    "# Measure the tree height at each base position\n",
    "height_for_pos = np.zeros(int(ts.sequence_length))\n",
    "for tree in ts.trees():\n",
    "    mean_height = np.mean([tree.time(root) for root in tree.roots])\n",
    "    left, right = map(int, tree.interval)\n",
    "    height_for_pos[left: right] = mean_height\n",
    "height_for_pos\n",
    "plt.figure(figsize=(10,3))\n",
    "plt.plot(height_for_pos, linewidth=0.5, color='black') ;\n",
    "\n",
    "height_for_pos.mean()"
   ]
  },
  {
   "cell_type": "code",
   "execution_count": null,
   "metadata": {},
   "outputs": [],
   "source": [
    "samples = 10\n",
    "\n",
    "# random indexes for samples\n",
    "sample_idx = set(random.sample(range(ts.num_individuals), samples))\n",
    "assert len(sample_idx) == samples"
   ]
  },
  {
   "cell_type": "code",
   "execution_count": null,
   "metadata": {},
   "outputs": [],
   "source": [
    "# get the corresponding sample haplotypes\n",
    "sample = list()\n",
    "for i, hap in enumerate(mutated_ts.haplotypes()):\n",
    "    if i in sample_idx:\n",
    "        sample.append(hap)        "
   ]
  },
  {
   "cell_type": "code",
   "execution_count": null,
   "metadata": {},
   "outputs": [],
   "source": [
    "        \n",
    "# get the positions of each segregating site\n",
    "positions = [site.position for site in mutated_ts.sites()]  \n",
    "\n",
    "# make table with sampled haplotypes\n",
    "table = np.array([list(map(np.int8, hap)) for hap in sample]).transpose()"
   ]
  },
  {
   "cell_type": "code",
   "execution_count": null,
   "metadata": {},
   "outputs": [],
   "source": [
    "# turn table into dataframe with positions\n",
    "df = DataFrame(table, dtype='int8')\n",
    "df['pos'] = positions"
   ]
  },
  {
   "cell_type": "code",
   "execution_count": null,
   "metadata": {},
   "outputs": [],
   "source": [
    "# add a row with zeros for the start of each window so there is at least\n",
    "# one row in each window\n",
    "zeros = dict((x, 0) for x in range(samples))\n",
    "extra_df = pd.DataFrame({'pos': range(0, int(mutated_ts.sequence_length), window_size), **zeros})\n",
    "df = df.append(extra_df)"
   ]
  },
  {
   "cell_type": "code",
   "execution_count": null,
   "metadata": {},
   "outputs": [],
   "source": [
    "# make a start column grouping all rows in same window\n",
    "df['start'] = ((df.pos // window_size) * window_size).astype('uint32')\n",
    "df.drop('pos', axis=1, inplace=True)\n",
    "df.set_index('start', inplace=True)\n",
    "\n",
    "def pw_dist(df):\n",
    "    \"computes differences bewteen all pairs in a window\"\n",
    "    pairs = list(combinations(df.columns, 2))\n",
    "    site_diffs = [np.bitwise_xor(df[p[0]], df[p[1]]) for p in pairs]\n",
    "    return pd.concat(site_diffs, axis=1, keys=pairs).sum()\n",
    "\n",
    "# make a dataframe with distance for each pair\n",
    "pw_dist_df = (\n",
    "    df\n",
    "    .groupby('start')\n",
    "    .apply(pw_dist)\n",
    "    .reset_index()\n",
    "    .melt(id_vars=['start'], var_name=['indiv_1', 'indiv_2'], value_name='dist')\n",
    "    )"
   ]
  },
  {
   "cell_type": "code",
   "execution_count": null,
   "metadata": {},
   "outputs": [],
   "source": [
    "# compute proper distance as number of diffs divided by window size\n",
    "pw_dist_df['dist'] /= window_size\n",
    "\n",
    "# add end column\n",
    "pw_dist_df.insert(loc=1, column='end', value=pw_dist_df.start + window_size)\n",
    "\n",
    "# convert indiv labels from object to int and and write hdf\n",
    "pw_dist_df['indiv_1'] = pw_dist_df['indiv_1'].astype('uint16')\n",
    "pw_dist_df['indiv_2'] = pw_dist_df['indiv_2'].astype('uint16')\n",
    "#pw_dist_df.to_hdf(args.hdf_file, 'df', format='table', mode='w')"
   ]
  },
  {
   "cell_type": "code",
   "execution_count": null,
   "metadata": {},
   "outputs": [],
   "source": [
    "plt.hist(pw_dist_df.dist) \n",
    "plt.axvline(5e-5, color='orange') ;"
   ]
  },
  {
   "cell_type": "code",
   "execution_count": null,
   "metadata": {},
   "outputs": [],
   "source": []
  }
 ],
 "metadata": {
  "anaconda-cloud": {},
  "kernelspec": {
   "display_name": "Python 3",
   "language": "python",
   "name": "python3"
  },
  "language_info": {
   "codemirror_mode": {
    "name": "ipython",
    "version": 3
   },
   "file_extension": ".py",
   "mimetype": "text/x-python",
   "name": "python",
   "nbconvert_exporter": "python",
   "pygments_lexer": "ipython3",
   "version": "3.6.7"
  }
 },
 "nbformat": 4,
 "nbformat_minor": 4
}
